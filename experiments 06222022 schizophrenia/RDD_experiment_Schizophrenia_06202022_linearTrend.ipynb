{
 "cells": [
  {
   "cell_type": "code",
   "execution_count": 1,
   "metadata": {},
   "outputs": [
    {
     "name": "stdout",
     "output_type": "stream",
     "text": [
      "env: MKL_NUM_THREADS=4\n",
      "env: MKL_DEBUG_CPU_TYPE=5\n",
      "env: THEANO_FLAGS=device=cpu, floatX=float32\n",
      "\u001b[94mSchizophrenia_Related_Psychosis x ADHD\u001b[0m\n",
      "\u001b[94mSchizophrenia_Related_Psychosis x Abnormal_Spine_Curvature\u001b[0m\n",
      "\u001b[94mSchizophrenia_Related_Psychosis x Acne\u001b[0m\n",
      "\u001b[94mSchizophrenia_Related_Psychosis x Acquired_Coagulation_Defect\u001b[0m\n",
      "\u001b[94mSchizophrenia_Related_Psychosis x Acquired_Hemolytic_Anemias\u001b[0m\n",
      "\u001b[94mSchizophrenia_Related_Psychosis x Acquired_Hypothyroidism\u001b[0m\n",
      "\u001b[94mSchizophrenia_Related_Psychosis x Acquired_Limb_Deformities\u001b[0m\n",
      "\u001b[94mSchizophrenia_Related_Psychosis x Acquired_Other_Myopathies\u001b[0m\n",
      "\u001b[94mSchizophrenia_Related_Psychosis x Acquired_Retinal_Defects\u001b[0m\n",
      "\u001b[94mSchizophrenia_Related_Psychosis x Acquired_Visual_Disturbances\u001b[0m\n",
      "\u001b[94mSchizophrenia_Related_Psychosis x Acrocephalosyndactyly\u001b[0m\n",
      "\u001b[94mSchizophrenia_Related_Psychosis x Acute_Bronchitis\u001b[0m\n",
      "ss_log__ -1.1447301\n",
      "shift -2.3025851\n",
      "b_shrinkage_log__ -2.28946\n",
      "fixed_b -7.829342\n",
      "ls_log__ -1.1447301\n",
      "var_log__ -1.1447301\n",
      "f_gp_rotated_ -43.190113\n",
      "nu_y_log__ -0.61370564\n",
      "sigma_y_log__ -0.61370564\n"
     ]
    },
    {
     "name": "stderr",
     "output_type": "stream",
     "text": [
      "Initializing NUTS using advi+adapt_diag...\n"
     ]
    },
    {
     "name": "stdout",
     "output_type": "stream",
     "text": [
      "y -195.4099672783316\n"
     ]
    },
    {
     "data": {
      "text/html": [
       "\n",
       "    <div>\n",
       "        <style>\n",
       "            /* Turns off some styling */\n",
       "            progress {\n",
       "                /* gets rid of default border in Firefox and Opera. */\n",
       "                border: none;\n",
       "                /* Needs to be in here for Safari polyfill so background images work as expected. */\n",
       "                background-size: auto;\n",
       "            }\n",
       "            .progress-bar-interrupted, .progress-bar-interrupted::-webkit-progress-bar {\n",
       "                background: #F44336;\n",
       "            }\n",
       "        </style>\n",
       "      <progress value='15813' class='' max='200000' style='width:300px; height:20px; vertical-align: middle;'></progress>\n",
       "      7.91% [15813/200000 00:05<01:00 Average Loss = 160.46]\n",
       "    </div>\n",
       "    "
      ],
      "text/plain": [
       "<IPython.core.display.HTML object>"
      ]
     },
     "metadata": {},
     "output_type": "display_data"
    },
    {
     "name": "stderr",
     "output_type": "stream",
     "text": [
      "Convergence achieved at 15900\n",
      "Interrupted at 15,899 [7%]: Average Loss = 183.11\n",
      "Multiprocess sampling (4 chains in 4 jobs)\n",
      "NUTS: [sigma_y, nu_y, f_gp_rotated_, var, ls, fixed_b, b_shrinkage, shift, ss]\n"
     ]
    },
    {
     "data": {
      "text/html": [
       "\n",
       "    <div>\n",
       "        <style>\n",
       "            /* Turns off some styling */\n",
       "            progress {\n",
       "                /* gets rid of default border in Firefox and Opera. */\n",
       "                border: none;\n",
       "                /* Needs to be in here for Safari polyfill so background images work as expected. */\n",
       "                background-size: auto;\n",
       "            }\n",
       "            .progress-bar-interrupted, .progress-bar-interrupted::-webkit-progress-bar {\n",
       "                background: #F44336;\n",
       "            }\n",
       "        </style>\n",
       "      <progress value='8000' class='' max='8000' style='width:300px; height:20px; vertical-align: middle;'></progress>\n",
       "      100.00% [8000/8000 00:58<00:00 Sampling 4 chains, 0 divergences]\n",
       "    </div>\n",
       "    "
      ],
      "text/plain": [
       "<IPython.core.display.HTML object>"
      ]
     },
     "metadata": {},
     "output_type": "display_data"
    },
    {
     "name": "stderr",
     "output_type": "stream",
     "text": [
      "Sampling 4 chains for 1_500 tune and 500 draw iterations (6_000 + 2_000 draws total) took 59 seconds.\n",
      "The number of effective samples is smaller than 25% for some parameters.\n",
      "Got error No model on context stack. trying to find log_likelihood in translation.\n",
      "Got error No model on context stack. trying to find log_likelihood in translation.\n",
      "Got error No model on context stack. trying to find log_likelihood in translation.\n",
      "Got error No model on context stack. trying to find log_likelihood in translation.\n",
      "Got error No model on context stack. trying to find log_likelihood in translation.\n",
      "Got error No model on context stack. trying to find log_likelihood in translation.\n"
     ]
    },
    {
     "name": "stdout",
     "output_type": "stream",
     "text": [
      "b_shrinkage_log__ -2.28946\n",
      "fixed_b -7.829342\n",
      "ls_log__ -1.1447301\n",
      "var_log__ -1.1447301\n",
      "f_gp_rotated_ -43.190113\n",
      "nu_y_log__ -0.61370564\n",
      "sigma_y_log__ -0.61370564\n"
     ]
    },
    {
     "name": "stderr",
     "output_type": "stream",
     "text": [
      "Initializing NUTS using advi+adapt_diag...\n"
     ]
    },
    {
     "name": "stdout",
     "output_type": "stream",
     "text": [
      "y -195.4099672783316\n"
     ]
    },
    {
     "data": {
      "text/html": [
       "\n",
       "    <div>\n",
       "        <style>\n",
       "            /* Turns off some styling */\n",
       "            progress {\n",
       "                /* gets rid of default border in Firefox and Opera. */\n",
       "                border: none;\n",
       "                /* Needs to be in here for Safari polyfill so background images work as expected. */\n",
       "                background-size: auto;\n",
       "            }\n",
       "            .progress-bar-interrupted, .progress-bar-interrupted::-webkit-progress-bar {\n",
       "                background: #F44336;\n",
       "            }\n",
       "        </style>\n",
       "      <progress value='13071' class='' max='200000' style='width:300px; height:20px; vertical-align: middle;'></progress>\n",
       "      6.54% [13071/200000 00:04<01:00 Average Loss = 161.59]\n",
       "    </div>\n",
       "    "
      ],
      "text/plain": [
       "<IPython.core.display.HTML object>"
      ]
     },
     "metadata": {},
     "output_type": "display_data"
    },
    {
     "name": "stderr",
     "output_type": "stream",
     "text": [
      "Convergence achieved at 13200\n",
      "Interrupted at 13,199 [6%]: Average Loss = 186.97\n",
      "Multiprocess sampling (4 chains in 4 jobs)\n",
      "NUTS: [sigma_y, nu_y, f_gp_rotated_, var, ls, fixed_b, b_shrinkage]\n"
     ]
    },
    {
     "data": {
      "text/html": [
       "\n",
       "    <div>\n",
       "        <style>\n",
       "            /* Turns off some styling */\n",
       "            progress {\n",
       "                /* gets rid of default border in Firefox and Opera. */\n",
       "                border: none;\n",
       "                /* Needs to be in here for Safari polyfill so background images work as expected. */\n",
       "                background-size: auto;\n",
       "            }\n",
       "            .progress-bar-interrupted, .progress-bar-interrupted::-webkit-progress-bar {\n",
       "                background: #F44336;\n",
       "            }\n",
       "        </style>\n",
       "      <progress value='8000' class='' max='8000' style='width:300px; height:20px; vertical-align: middle;'></progress>\n",
       "      100.00% [8000/8000 00:54<00:00 Sampling 4 chains, 1 divergences]\n",
       "    </div>\n",
       "    "
      ],
      "text/plain": [
       "<IPython.core.display.HTML object>"
      ]
     },
     "metadata": {},
     "output_type": "display_data"
    },
    {
     "name": "stderr",
     "output_type": "stream",
     "text": [
      "Sampling 4 chains for 1_500 tune and 500 draw iterations (6_000 + 2_000 draws total) took 55 seconds.\n",
      "There was 1 divergence after tuning. Increase `target_accept` or reparameterize.\n",
      "The number of effective samples is smaller than 25% for some parameters.\n",
      "Got error No model on context stack. trying to find log_likelihood in translation.\n",
      "Got error No model on context stack. trying to find log_likelihood in translation.\n",
      "Got error No model on context stack. trying to find log_likelihood in translation.\n",
      "Got error No model on context stack. trying to find log_likelihood in translation.\n",
      "Got error No model on context stack. trying to find log_likelihood in translation.\n",
      "Got error No model on context stack. trying to find log_likelihood in translation.\n"
     ]
    },
    {
     "name": "stdout",
     "output_type": "stream",
     "text": [
      "\u001b[94mSchizophrenia_Related_Psychosis x Acute_Glomerulonephritis\u001b[0m\n",
      "\u001b[94mSchizophrenia_Related_Psychosis x Acute_Renal_Failure\u001b[0m\n",
      "\u001b[94mSchizophrenia_Related_Psychosis x Acute_Sinusitis\u001b[0m\n",
      "ss_log__ -1.1447301\n",
      "shift -2.3025851\n",
      "b_shrinkage_log__ -2.28946\n",
      "fixed_b -7.829342\n",
      "ls_log__ -1.1447301\n",
      "var_log__ -1.1447301\n",
      "f_gp_rotated_ -45.02799\n",
      "nu_y_log__ -0.61370564\n",
      "sigma_y_log__ -0.61370564\n"
     ]
    },
    {
     "name": "stderr",
     "output_type": "stream",
     "text": [
      "Initializing NUTS using advi+adapt_diag...\n"
     ]
    },
    {
     "name": "stdout",
     "output_type": "stream",
     "text": [
      "y -162.43953015079825\n"
     ]
    },
    {
     "data": {
      "text/html": [
       "\n",
       "    <div>\n",
       "        <style>\n",
       "            /* Turns off some styling */\n",
       "            progress {\n",
       "                /* gets rid of default border in Firefox and Opera. */\n",
       "                border: none;\n",
       "                /* Needs to be in here for Safari polyfill so background images work as expected. */\n",
       "                background-size: auto;\n",
       "            }\n",
       "            .progress-bar-interrupted, .progress-bar-interrupted::-webkit-progress-bar {\n",
       "                background: #F44336;\n",
       "            }\n",
       "        </style>\n",
       "      <progress value='16186' class='' max='200000' style='width:300px; height:20px; vertical-align: middle;'></progress>\n",
       "      8.09% [16186/200000 00:05<01:04 Average Loss = 147.64]\n",
       "    </div>\n",
       "    "
      ],
      "text/plain": [
       "<IPython.core.display.HTML object>"
      ]
     },
     "metadata": {},
     "output_type": "display_data"
    },
    {
     "name": "stderr",
     "output_type": "stream",
     "text": [
      "Convergence achieved at 16400\n",
      "Interrupted at 16,399 [8%]: Average Loss = 172.9\n",
      "Multiprocess sampling (4 chains in 4 jobs)\n",
      "NUTS: [sigma_y, nu_y, f_gp_rotated_, var, ls, fixed_b, b_shrinkage, shift, ss]\n"
     ]
    },
    {
     "data": {
      "text/html": [
       "\n",
       "    <div>\n",
       "        <style>\n",
       "            /* Turns off some styling */\n",
       "            progress {\n",
       "                /* gets rid of default border in Firefox and Opera. */\n",
       "                border: none;\n",
       "                /* Needs to be in here for Safari polyfill so background images work as expected. */\n",
       "                background-size: auto;\n",
       "            }\n",
       "            .progress-bar-interrupted, .progress-bar-interrupted::-webkit-progress-bar {\n",
       "                background: #F44336;\n",
       "            }\n",
       "        </style>\n",
       "      <progress value='8000' class='' max='8000' style='width:300px; height:20px; vertical-align: middle;'></progress>\n",
       "      100.00% [8000/8000 00:53<00:00 Sampling 4 chains, 0 divergences]\n",
       "    </div>\n",
       "    "
      ],
      "text/plain": [
       "<IPython.core.display.HTML object>"
      ]
     },
     "metadata": {},
     "output_type": "display_data"
    },
    {
     "name": "stderr",
     "output_type": "stream",
     "text": [
      "Sampling 4 chains for 1_500 tune and 500 draw iterations (6_000 + 2_000 draws total) took 54 seconds.\n",
      "The estimated number of effective samples is smaller than 200 for some parameters.\n",
      "Got error No model on context stack. trying to find log_likelihood in translation.\n",
      "Got error No model on context stack. trying to find log_likelihood in translation.\n",
      "Got error No model on context stack. trying to find log_likelihood in translation.\n",
      "Got error No model on context stack. trying to find log_likelihood in translation.\n",
      "Got error No model on context stack. trying to find log_likelihood in translation.\n",
      "Got error No model on context stack. trying to find log_likelihood in translation.\n"
     ]
    },
    {
     "name": "stdout",
     "output_type": "stream",
     "text": [
      "b_shrinkage_log__ -2.28946\n",
      "fixed_b -7.829342\n",
      "ls_log__ -1.1447301\n",
      "var_log__ -1.1447301\n",
      "f_gp_rotated_ -45.02799\n",
      "nu_y_log__ -0.61370564\n",
      "sigma_y_log__ -0.61370564\n"
     ]
    },
    {
     "name": "stderr",
     "output_type": "stream",
     "text": [
      "Initializing NUTS using advi+adapt_diag...\n"
     ]
    },
    {
     "name": "stdout",
     "output_type": "stream",
     "text": [
      "y -162.43953015079825\n"
     ]
    },
    {
     "data": {
      "text/html": [
       "\n",
       "    <div>\n",
       "        <style>\n",
       "            /* Turns off some styling */\n",
       "            progress {\n",
       "                /* gets rid of default border in Firefox and Opera. */\n",
       "                border: none;\n",
       "                /* Needs to be in here for Safari polyfill so background images work as expected. */\n",
       "                background-size: auto;\n",
       "            }\n",
       "            .progress-bar-interrupted, .progress-bar-interrupted::-webkit-progress-bar {\n",
       "                background: #F44336;\n",
       "            }\n",
       "        </style>\n",
       "      <progress value='16440' class='' max='200000' style='width:300px; height:20px; vertical-align: middle;'></progress>\n",
       "      8.22% [16440/200000 00:05<01:00 Average Loss = 147.29]\n",
       "    </div>\n",
       "    "
      ],
      "text/plain": [
       "<IPython.core.display.HTML object>"
      ]
     },
     "metadata": {},
     "output_type": "display_data"
    },
    {
     "name": "stderr",
     "output_type": "stream",
     "text": [
      "Convergence achieved at 16800\n",
      "Interrupted at 16,799 [8%]: Average Loss = 171.12\n",
      "Multiprocess sampling (4 chains in 4 jobs)\n",
      "NUTS: [sigma_y, nu_y, f_gp_rotated_, var, ls, fixed_b, b_shrinkage]\n"
     ]
    },
    {
     "data": {
      "text/html": [
       "\n",
       "    <div>\n",
       "        <style>\n",
       "            /* Turns off some styling */\n",
       "            progress {\n",
       "                /* gets rid of default border in Firefox and Opera. */\n",
       "                border: none;\n",
       "                /* Needs to be in here for Safari polyfill so background images work as expected. */\n",
       "                background-size: auto;\n",
       "            }\n",
       "            .progress-bar-interrupted, .progress-bar-interrupted::-webkit-progress-bar {\n",
       "                background: #F44336;\n",
       "            }\n",
       "        </style>\n",
       "      <progress value='8000' class='' max='8000' style='width:300px; height:20px; vertical-align: middle;'></progress>\n",
       "      100.00% [8000/8000 00:41<00:00 Sampling 4 chains, 4 divergences]\n",
       "    </div>\n",
       "    "
      ],
      "text/plain": [
       "<IPython.core.display.HTML object>"
      ]
     },
     "metadata": {},
     "output_type": "display_data"
    },
    {
     "name": "stderr",
     "output_type": "stream",
     "text": [
      "Sampling 4 chains for 1_500 tune and 500 draw iterations (6_000 + 2_000 draws total) took 42 seconds.\n",
      "There was 1 divergence after tuning. Increase `target_accept` or reparameterize.\n",
      "There was 1 divergence after tuning. Increase `target_accept` or reparameterize.\n",
      "There were 2 divergences after tuning. Increase `target_accept` or reparameterize.\n",
      "The estimated number of effective samples is smaller than 200 for some parameters.\n",
      "Got error No model on context stack. trying to find log_likelihood in translation.\n",
      "Got error No model on context stack. trying to find log_likelihood in translation.\n",
      "Got error No model on context stack. trying to find log_likelihood in translation.\n",
      "Got error No model on context stack. trying to find log_likelihood in translation.\n",
      "Got error No model on context stack. trying to find log_likelihood in translation.\n",
      "Got error No model on context stack. trying to find log_likelihood in translation.\n"
     ]
    },
    {
     "name": "stdout",
     "output_type": "stream",
     "text": [
      "\u001b[94mSchizophrenia_Related_Psychosis x Acute_Upper_Respiratory_Infection\u001b[0m\n",
      "ss_log__ -1.1447301\n",
      "shift -2.3025851\n",
      "b_shrinkage_log__ -2.28946\n",
      "fixed_b -7.829342\n",
      "ls_log__ -1.1447301\n",
      "var_log__ -1.1447301\n",
      "f_gp_rotated_ -47.784805\n",
      "nu_y_log__ -0.61370564\n",
      "sigma_y_log__ -0.61370564\n"
     ]
    },
    {
     "name": "stderr",
     "output_type": "stream",
     "text": [
      "Initializing NUTS using advi+adapt_diag...\n"
     ]
    },
    {
     "name": "stdout",
     "output_type": "stream",
     "text": [
      "y -241.35574010340267\n"
     ]
    },
    {
     "data": {
      "text/html": [
       "\n",
       "    <div>\n",
       "        <style>\n",
       "            /* Turns off some styling */\n",
       "            progress {\n",
       "                /* gets rid of default border in Firefox and Opera. */\n",
       "                border: none;\n",
       "                /* Needs to be in here for Safari polyfill so background images work as expected. */\n",
       "                background-size: auto;\n",
       "            }\n",
       "            .progress-bar-interrupted, .progress-bar-interrupted::-webkit-progress-bar {\n",
       "                background: #F44336;\n",
       "            }\n",
       "        </style>\n",
       "      <progress value='15950' class='' max='200000' style='width:300px; height:20px; vertical-align: middle;'></progress>\n",
       "      7.97% [15950/200000 00:05<01:05 Average Loss = 189.19]\n",
       "    </div>\n",
       "    "
      ],
      "text/plain": [
       "<IPython.core.display.HTML object>"
      ]
     },
     "metadata": {},
     "output_type": "display_data"
    },
    {
     "name": "stderr",
     "output_type": "stream",
     "text": [
      "Convergence achieved at 16400\n",
      "Interrupted at 16,399 [8%]: Average Loss = 216.18\n",
      "Multiprocess sampling (4 chains in 4 jobs)\n",
      "NUTS: [sigma_y, nu_y, f_gp_rotated_, var, ls, fixed_b, b_shrinkage, shift, ss]\n"
     ]
    },
    {
     "data": {
      "text/html": [
       "\n",
       "    <div>\n",
       "        <style>\n",
       "            /* Turns off some styling */\n",
       "            progress {\n",
       "                /* gets rid of default border in Firefox and Opera. */\n",
       "                border: none;\n",
       "                /* Needs to be in here for Safari polyfill so background images work as expected. */\n",
       "                background-size: auto;\n",
       "            }\n",
       "            .progress-bar-interrupted, .progress-bar-interrupted::-webkit-progress-bar {\n",
       "                background: #F44336;\n",
       "            }\n",
       "        </style>\n",
       "      <progress value='8000' class='' max='8000' style='width:300px; height:20px; vertical-align: middle;'></progress>\n",
       "      100.00% [8000/8000 00:47<00:00 Sampling 4 chains, 0 divergences]\n",
       "    </div>\n",
       "    "
      ],
      "text/plain": [
       "<IPython.core.display.HTML object>"
      ]
     },
     "metadata": {},
     "output_type": "display_data"
    },
    {
     "name": "stderr",
     "output_type": "stream",
     "text": [
      "Sampling 4 chains for 1_500 tune and 500 draw iterations (6_000 + 2_000 draws total) took 47 seconds.\n",
      "The number of effective samples is smaller than 25% for some parameters.\n",
      "Got error No model on context stack. trying to find log_likelihood in translation.\n",
      "Got error No model on context stack. trying to find log_likelihood in translation.\n",
      "Got error No model on context stack. trying to find log_likelihood in translation.\n",
      "Got error No model on context stack. trying to find log_likelihood in translation.\n",
      "Got error No model on context stack. trying to find log_likelihood in translation.\n",
      "Got error No model on context stack. trying to find log_likelihood in translation.\n"
     ]
    },
    {
     "name": "stdout",
     "output_type": "stream",
     "text": [
      "b_shrinkage_log__ -2.28946\n",
      "fixed_b -7.829342\n",
      "ls_log__ -1.1447301\n",
      "var_log__ -1.1447301\n",
      "f_gp_rotated_ -47.784805\n",
      "nu_y_log__ -0.61370564\n",
      "sigma_y_log__ -0.61370564\n"
     ]
    },
    {
     "name": "stderr",
     "output_type": "stream",
     "text": [
      "Initializing NUTS using advi+adapt_diag...\n"
     ]
    },
    {
     "name": "stdout",
     "output_type": "stream",
     "text": [
      "y -241.35574010340267\n"
     ]
    },
    {
     "data": {
      "text/html": [
       "\n",
       "    <div>\n",
       "        <style>\n",
       "            /* Turns off some styling */\n",
       "            progress {\n",
       "                /* gets rid of default border in Firefox and Opera. */\n",
       "                border: none;\n",
       "                /* Needs to be in here for Safari polyfill so background images work as expected. */\n",
       "                background-size: auto;\n",
       "            }\n",
       "            .progress-bar-interrupted, .progress-bar-interrupted::-webkit-progress-bar {\n",
       "                background: #F44336;\n",
       "            }\n",
       "        </style>\n",
       "      <progress value='17329' class='' max='200000' style='width:300px; height:20px; vertical-align: middle;'></progress>\n",
       "      8.66% [17329/200000 00:05<01:01 Average Loss = 189.86]\n",
       "    </div>\n",
       "    "
      ],
      "text/plain": [
       "<IPython.core.display.HTML object>"
      ]
     },
     "metadata": {},
     "output_type": "display_data"
    },
    {
     "name": "stderr",
     "output_type": "stream",
     "text": [
      "Convergence achieved at 17600\n",
      "Interrupted at 17,599 [8%]: Average Loss = 214.02\n",
      "Multiprocess sampling (4 chains in 4 jobs)\n",
      "NUTS: [sigma_y, nu_y, f_gp_rotated_, var, ls, fixed_b, b_shrinkage]\n"
     ]
    },
    {
     "data": {
      "text/html": [
       "\n",
       "    <div>\n",
       "        <style>\n",
       "            /* Turns off some styling */\n",
       "            progress {\n",
       "                /* gets rid of default border in Firefox and Opera. */\n",
       "                border: none;\n",
       "                /* Needs to be in here for Safari polyfill so background images work as expected. */\n",
       "                background-size: auto;\n",
       "            }\n",
       "            .progress-bar-interrupted, .progress-bar-interrupted::-webkit-progress-bar {\n",
       "                background: #F44336;\n",
       "            }\n",
       "        </style>\n",
       "      <progress value='8000' class='' max='8000' style='width:300px; height:20px; vertical-align: middle;'></progress>\n",
       "      100.00% [8000/8000 00:53<00:00 Sampling 4 chains, 4 divergences]\n",
       "    </div>\n",
       "    "
      ],
      "text/plain": [
       "<IPython.core.display.HTML object>"
      ]
     },
     "metadata": {},
     "output_type": "display_data"
    },
    {
     "name": "stderr",
     "output_type": "stream",
     "text": [
      "Sampling 4 chains for 1_500 tune and 500 draw iterations (6_000 + 2_000 draws total) took 54 seconds.\n",
      "There was 1 divergence after tuning. Increase `target_accept` or reparameterize.\n",
      "There was 1 divergence after tuning. Increase `target_accept` or reparameterize.\n",
      "There were 2 divergences after tuning. Increase `target_accept` or reparameterize.\n",
      "The number of effective samples is smaller than 25% for some parameters.\n",
      "Got error No model on context stack. trying to find log_likelihood in translation.\n",
      "Got error No model on context stack. trying to find log_likelihood in translation.\n",
      "Got error No model on context stack. trying to find log_likelihood in translation.\n",
      "Got error No model on context stack. trying to find log_likelihood in translation.\n",
      "Got error No model on context stack. trying to find log_likelihood in translation.\n",
      "Got error No model on context stack. trying to find log_likelihood in translation.\n"
     ]
    },
    {
     "name": "stdout",
     "output_type": "stream",
     "text": [
      "\u001b[94mSchizophrenia_Related_Psychosis x Addisons_Disease\u001b[0m\n",
      "\u001b[94mSchizophrenia_Related_Psychosis x Adjustment_Disorder\u001b[0m\n",
      "\u001b[94mSchizophrenia_Related_Psychosis x Adrenogenital_Disorder\u001b[0m\n",
      "\u001b[94mSchizophrenia_Related_Psychosis x Allergic_Rhinitis\u001b[0m\n",
      "ss_log__ -1.1447301\n",
      "shift -2.3025851\n",
      "b_shrinkage_log__ -2.28946\n",
      "fixed_b -7.829342\n",
      "ls_log__ -1.1447301\n",
      "var_log__ -1.1447301\n",
      "f_gp_rotated_ -41.352238\n",
      "nu_y_log__ -0.61370564\n",
      "sigma_y_log__ -0.61370564\n"
     ]
    },
    {
     "name": "stderr",
     "output_type": "stream",
     "text": [
      "Initializing NUTS using advi+adapt_diag...\n"
     ]
    },
    {
     "name": "stdout",
     "output_type": "stream",
     "text": [
      "y -147.40398399276634\n"
     ]
    },
    {
     "data": {
      "text/html": [
       "\n",
       "    <div>\n",
       "        <style>\n",
       "            /* Turns off some styling */\n",
       "            progress {\n",
       "                /* gets rid of default border in Firefox and Opera. */\n",
       "                border: none;\n",
       "                /* Needs to be in here for Safari polyfill so background images work as expected. */\n",
       "                background-size: auto;\n",
       "            }\n",
       "            .progress-bar-interrupted, .progress-bar-interrupted::-webkit-progress-bar {\n",
       "                background: #F44336;\n",
       "            }\n",
       "        </style>\n",
       "      <progress value='17482' class='' max='200000' style='width:300px; height:20px; vertical-align: middle;'></progress>\n",
       "      8.74% [17482/200000 00:05<01:00 Average Loss = 134.22]\n",
       "    </div>\n",
       "    "
      ],
      "text/plain": [
       "<IPython.core.display.HTML object>"
      ]
     },
     "metadata": {},
     "output_type": "display_data"
    },
    {
     "name": "stderr",
     "output_type": "stream",
     "text": [
      "Convergence achieved at 17700\n",
      "Interrupted at 17,699 [8%]: Average Loss = 156.21\n",
      "Multiprocess sampling (4 chains in 4 jobs)\n",
      "NUTS: [sigma_y, nu_y, f_gp_rotated_, var, ls, fixed_b, b_shrinkage, shift, ss]\n"
     ]
    },
    {
     "data": {
      "text/html": [
       "\n",
       "    <div>\n",
       "        <style>\n",
       "            /* Turns off some styling */\n",
       "            progress {\n",
       "                /* gets rid of default border in Firefox and Opera. */\n",
       "                border: none;\n",
       "                /* Needs to be in here for Safari polyfill so background images work as expected. */\n",
       "                background-size: auto;\n",
       "            }\n",
       "            .progress-bar-interrupted, .progress-bar-interrupted::-webkit-progress-bar {\n",
       "                background: #F44336;\n",
       "            }\n",
       "        </style>\n",
       "      <progress value='8000' class='' max='8000' style='width:300px; height:20px; vertical-align: middle;'></progress>\n",
       "      100.00% [8000/8000 00:42<00:00 Sampling 4 chains, 1 divergences]\n",
       "    </div>\n",
       "    "
      ],
      "text/plain": [
       "<IPython.core.display.HTML object>"
      ]
     },
     "metadata": {},
     "output_type": "display_data"
    },
    {
     "name": "stderr",
     "output_type": "stream",
     "text": [
      "Sampling 4 chains for 1_500 tune and 500 draw iterations (6_000 + 2_000 draws total) took 43 seconds.\n",
      "There was 1 divergence after tuning. Increase `target_accept` or reparameterize.\n",
      "The acceptance probability does not match the target. It is 0.5144466494043481, but should be close to 0.9. Try to increase the number of tuning steps.\n",
      "The rhat statistic is larger than 1.2 for some parameters.\n",
      "The estimated number of effective samples is smaller than 200 for some parameters.\n",
      "Got error No model on context stack. trying to find log_likelihood in translation.\n",
      "Got error No model on context stack. trying to find log_likelihood in translation.\n",
      "Got error No model on context stack. trying to find log_likelihood in translation.\n",
      "Got error No model on context stack. trying to find log_likelihood in translation.\n",
      "Got error No model on context stack. trying to find log_likelihood in translation.\n",
      "Got error No model on context stack. trying to find log_likelihood in translation.\n"
     ]
    },
    {
     "name": "stdout",
     "output_type": "stream",
     "text": [
      "b_shrinkage_log__ -2.28946\n",
      "fixed_b -7.829342\n",
      "ls_log__ -1.1447301\n",
      "var_log__ -1.1447301\n",
      "f_gp_rotated_ -41.352238\n",
      "nu_y_log__ -0.61370564\n",
      "sigma_y_log__ -0.61370564\n"
     ]
    },
    {
     "name": "stderr",
     "output_type": "stream",
     "text": [
      "Initializing NUTS using advi+adapt_diag...\n"
     ]
    },
    {
     "name": "stdout",
     "output_type": "stream",
     "text": [
      "y -147.40398399276634\n"
     ]
    },
    {
     "data": {
      "text/html": [
       "\n",
       "    <div>\n",
       "        <style>\n",
       "            /* Turns off some styling */\n",
       "            progress {\n",
       "                /* gets rid of default border in Firefox and Opera. */\n",
       "                border: none;\n",
       "                /* Needs to be in here for Safari polyfill so background images work as expected. */\n",
       "                background-size: auto;\n",
       "            }\n",
       "            .progress-bar-interrupted, .progress-bar-interrupted::-webkit-progress-bar {\n",
       "                background: #F44336;\n",
       "            }\n",
       "        </style>\n",
       "      <progress value='15929' class='' max='200000' style='width:300px; height:20px; vertical-align: middle;'></progress>\n",
       "      7.96% [15929/200000 00:05<00:58 Average Loss = 135.39]\n",
       "    </div>\n",
       "    "
      ],
      "text/plain": [
       "<IPython.core.display.HTML object>"
      ]
     },
     "metadata": {},
     "output_type": "display_data"
    },
    {
     "name": "stderr",
     "output_type": "stream",
     "text": [
      "Convergence achieved at 16500\n",
      "Interrupted at 16,499 [8%]: Average Loss = 156.74\n",
      "Multiprocess sampling (4 chains in 4 jobs)\n",
      "NUTS: [sigma_y, nu_y, f_gp_rotated_, var, ls, fixed_b, b_shrinkage]\n"
     ]
    },
    {
     "data": {
      "text/html": [
       "\n",
       "    <div>\n",
       "        <style>\n",
       "            /* Turns off some styling */\n",
       "            progress {\n",
       "                /* gets rid of default border in Firefox and Opera. */\n",
       "                border: none;\n",
       "                /* Needs to be in here for Safari polyfill so background images work as expected. */\n",
       "                background-size: auto;\n",
       "            }\n",
       "            .progress-bar-interrupted, .progress-bar-interrupted::-webkit-progress-bar {\n",
       "                background: #F44336;\n",
       "            }\n",
       "        </style>\n",
       "      <progress value='8000' class='' max='8000' style='width:300px; height:20px; vertical-align: middle;'></progress>\n",
       "      100.00% [8000/8000 00:33<00:00 Sampling 4 chains, 1 divergences]\n",
       "    </div>\n",
       "    "
      ],
      "text/plain": [
       "<IPython.core.display.HTML object>"
      ]
     },
     "metadata": {},
     "output_type": "display_data"
    },
    {
     "name": "stderr",
     "output_type": "stream",
     "text": [
      "Sampling 4 chains for 1_500 tune and 500 draw iterations (6_000 + 2_000 draws total) took 33 seconds.\n",
      "The acceptance probability does not match the target. It is 0.7621600231338836, but should be close to 0.9. Try to increase the number of tuning steps.\n",
      "There was 1 divergence after tuning. Increase `target_accept` or reparameterize.\n",
      "The estimated number of effective samples is smaller than 200 for some parameters.\n",
      "Got error No model on context stack. trying to find log_likelihood in translation.\n",
      "Got error No model on context stack. trying to find log_likelihood in translation.\n",
      "Got error No model on context stack. trying to find log_likelihood in translation.\n",
      "Got error No model on context stack. trying to find log_likelihood in translation.\n",
      "Got error No model on context stack. trying to find log_likelihood in translation.\n",
      "Got error No model on context stack. trying to find log_likelihood in translation.\n"
     ]
    },
    {
     "name": "stdout",
     "output_type": "stream",
     "text": [
      "\u001b[94mSchizophrenia_Related_Psychosis x Alopecia\u001b[0m\n",
      "\u001b[94mSchizophrenia_Related_Psychosis x Alpha-1-Antitrypsin_Deficiency\u001b[0m\n",
      "\u001b[94mSchizophrenia_Related_Psychosis x Alveolar_Disease\u001b[0m\n",
      "\u001b[94mSchizophrenia_Related_Psychosis x Alzheimers_Disease\u001b[0m\n",
      "\u001b[94mSchizophrenia_Related_Psychosis x Amino_Acid_Transport_Disorder\u001b[0m\n",
      "\u001b[94mSchizophrenia_Related_Psychosis x Androgen_Insensitivity_Syndrome\u001b[0m\n",
      "\u001b[94mSchizophrenia_Related_Psychosis x Aneurysm\u001b[0m\n",
      "\u001b[94mSchizophrenia_Related_Psychosis x Aniridia\u001b[0m\n",
      "\u001b[94mSchizophrenia_Related_Psychosis x Anophthalmia_Mircopthalmia\u001b[0m\n",
      "\u001b[94mSchizophrenia_Related_Psychosis x Anterior_Eye_Anomaly\u001b[0m\n",
      "\u001b[94mSchizophrenia_Related_Psychosis x Anxiety_Phobic_Disorder\u001b[0m\n",
      "\u001b[94mSchizophrenia_Related_Psychosis x Aplastic_Anemia\u001b[0m\n",
      "\u001b[94mSchizophrenia_Related_Psychosis x Appendiceal_Disease\u001b[0m\n",
      "\u001b[94mSchizophrenia_Related_Psychosis x Aromatic_Amino_Acid_Metabolism_Disorder\u001b[0m\n",
      "\u001b[94mSchizophrenia_Related_Psychosis x Arterial_Dissection\u001b[0m\n",
      "\u001b[94mSchizophrenia_Related_Psychosis x Arterial_Embolism_Thrombosis\u001b[0m\n",
      "\u001b[94mSchizophrenia_Related_Psychosis x Arthropod-Borne_Diseases\u001b[0m\n",
      "\u001b[94mSchizophrenia_Related_Psychosis x Asthma\u001b[0m\n",
      "ss_log__ -1.1447301\n",
      "shift -2.3025851\n",
      "b_shrinkage_log__ -2.28946\n",
      "fixed_b -7.829342\n",
      "ls_log__ -1.1447301\n",
      "var_log__ -1.1447301\n",
      "f_gp_rotated_ -36.75754\n",
      "nu_y_log__ -0.61370564\n",
      "sigma_y_log__ -0.61370564\n"
     ]
    },
    {
     "name": "stderr",
     "output_type": "stream",
     "text": [
      "Initializing NUTS using advi+adapt_diag...\n"
     ]
    },
    {
     "name": "stdout",
     "output_type": "stream",
     "text": [
      "y -123.95728690133204\n"
     ]
    },
    {
     "data": {
      "text/html": [
       "\n",
       "    <div>\n",
       "        <style>\n",
       "            /* Turns off some styling */\n",
       "            progress {\n",
       "                /* gets rid of default border in Firefox and Opera. */\n",
       "                border: none;\n",
       "                /* Needs to be in here for Safari polyfill so background images work as expected. */\n",
       "                background-size: auto;\n",
       "            }\n",
       "            .progress-bar-interrupted, .progress-bar-interrupted::-webkit-progress-bar {\n",
       "                background: #F44336;\n",
       "            }\n",
       "        </style>\n",
       "      <progress value='15115' class='' max='200000' style='width:300px; height:20px; vertical-align: middle;'></progress>\n",
       "      7.56% [15115/200000 00:04<00:59 Average Loss = 120.2]\n",
       "    </div>\n",
       "    "
      ],
      "text/plain": [
       "<IPython.core.display.HTML object>"
      ]
     },
     "metadata": {},
     "output_type": "display_data"
    },
    {
     "name": "stderr",
     "output_type": "stream",
     "text": [
      "Convergence achieved at 15700\n",
      "Interrupted at 15,699 [7%]: Average Loss = 138.62\n",
      "Multiprocess sampling (4 chains in 4 jobs)\n",
      "NUTS: [sigma_y, nu_y, f_gp_rotated_, var, ls, fixed_b, b_shrinkage, shift, ss]\n"
     ]
    },
    {
     "data": {
      "text/html": [
       "\n",
       "    <div>\n",
       "        <style>\n",
       "            /* Turns off some styling */\n",
       "            progress {\n",
       "                /* gets rid of default border in Firefox and Opera. */\n",
       "                border: none;\n",
       "                /* Needs to be in here for Safari polyfill so background images work as expected. */\n",
       "                background-size: auto;\n",
       "            }\n",
       "            .progress-bar-interrupted, .progress-bar-interrupted::-webkit-progress-bar {\n",
       "                background: #F44336;\n",
       "            }\n",
       "        </style>\n",
       "      <progress value='8000' class='' max='8000' style='width:300px; height:20px; vertical-align: middle;'></progress>\n",
       "      100.00% [8000/8000 00:57<00:00 Sampling 4 chains, 0 divergences]\n",
       "    </div>\n",
       "    "
      ],
      "text/plain": [
       "<IPython.core.display.HTML object>"
      ]
     },
     "metadata": {},
     "output_type": "display_data"
    },
    {
     "name": "stderr",
     "output_type": "stream",
     "text": [
      "Sampling 4 chains for 1_500 tune and 500 draw iterations (6_000 + 2_000 draws total) took 58 seconds.\n",
      "The rhat statistic is larger than 1.05 for some parameters. This indicates slight problems during sampling.\n",
      "The estimated number of effective samples is smaller than 200 for some parameters.\n",
      "Got error No model on context stack. trying to find log_likelihood in translation.\n",
      "Got error No model on context stack. trying to find log_likelihood in translation.\n",
      "Got error No model on context stack. trying to find log_likelihood in translation.\n",
      "Got error No model on context stack. trying to find log_likelihood in translation.\n",
      "Got error No model on context stack. trying to find log_likelihood in translation.\n",
      "Got error No model on context stack. trying to find log_likelihood in translation.\n"
     ]
    },
    {
     "name": "stdout",
     "output_type": "stream",
     "text": [
      "b_shrinkage_log__ -2.28946\n",
      "fixed_b -7.829342\n",
      "ls_log__ -1.1447301\n",
      "var_log__ -1.1447301\n",
      "f_gp_rotated_ -36.75754\n",
      "nu_y_log__ -0.61370564\n",
      "sigma_y_log__ -0.61370564\n"
     ]
    },
    {
     "name": "stderr",
     "output_type": "stream",
     "text": [
      "Initializing NUTS using advi+adapt_diag...\n"
     ]
    },
    {
     "name": "stdout",
     "output_type": "stream",
     "text": [
      "y -123.95728690133204\n"
     ]
    },
    {
     "data": {
      "text/html": [
       "\n",
       "    <div>\n",
       "        <style>\n",
       "            /* Turns off some styling */\n",
       "            progress {\n",
       "                /* gets rid of default border in Firefox and Opera. */\n",
       "                border: none;\n",
       "                /* Needs to be in here for Safari polyfill so background images work as expected. */\n",
       "                background-size: auto;\n",
       "            }\n",
       "            .progress-bar-interrupted, .progress-bar-interrupted::-webkit-progress-bar {\n",
       "                background: #F44336;\n",
       "            }\n",
       "        </style>\n",
       "      <progress value='15938' class='' max='200000' style='width:300px; height:20px; vertical-align: middle;'></progress>\n",
       "      7.97% [15938/200000 00:04<00:55 Average Loss = 117.25]\n",
       "    </div>\n",
       "    "
      ],
      "text/plain": [
       "<IPython.core.display.HTML object>"
      ]
     },
     "metadata": {},
     "output_type": "display_data"
    },
    {
     "name": "stderr",
     "output_type": "stream",
     "text": [
      "Convergence achieved at 16200\n",
      "Interrupted at 16,199 [8%]: Average Loss = 136.25\n",
      "Multiprocess sampling (4 chains in 4 jobs)\n",
      "NUTS: [sigma_y, nu_y, f_gp_rotated_, var, ls, fixed_b, b_shrinkage]\n"
     ]
    },
    {
     "data": {
      "text/html": [
       "\n",
       "    <div>\n",
       "        <style>\n",
       "            /* Turns off some styling */\n",
       "            progress {\n",
       "                /* gets rid of default border in Firefox and Opera. */\n",
       "                border: none;\n",
       "                /* Needs to be in here for Safari polyfill so background images work as expected. */\n",
       "                background-size: auto;\n",
       "            }\n",
       "            .progress-bar-interrupted, .progress-bar-interrupted::-webkit-progress-bar {\n",
       "                background: #F44336;\n",
       "            }\n",
       "        </style>\n",
       "      <progress value='8000' class='' max='8000' style='width:300px; height:20px; vertical-align: middle;'></progress>\n",
       "      100.00% [8000/8000 00:46<00:00 Sampling 4 chains, 5 divergences]\n",
       "    </div>\n",
       "    "
      ],
      "text/plain": [
       "<IPython.core.display.HTML object>"
      ]
     },
     "metadata": {},
     "output_type": "display_data"
    },
    {
     "name": "stderr",
     "output_type": "stream",
     "text": [
      "Sampling 4 chains for 1_500 tune and 500 draw iterations (6_000 + 2_000 draws total) took 47 seconds.\n",
      "There were 3 divergences after tuning. Increase `target_accept` or reparameterize.\n",
      "There was 1 divergence after tuning. Increase `target_accept` or reparameterize.\n",
      "The acceptance probability does not match the target. It is 0.8390495149169633, but should be close to 0.9. Try to increase the number of tuning steps.\n",
      "There was 1 divergence after tuning. Increase `target_accept` or reparameterize.\n",
      "The estimated number of effective samples is smaller than 200 for some parameters.\n",
      "Got error No model on context stack. trying to find log_likelihood in translation.\n",
      "Got error No model on context stack. trying to find log_likelihood in translation.\n",
      "Got error No model on context stack. trying to find log_likelihood in translation.\n",
      "Got error No model on context stack. trying to find log_likelihood in translation.\n",
      "Got error No model on context stack. trying to find log_likelihood in translation.\n",
      "Got error No model on context stack. trying to find log_likelihood in translation.\n"
     ]
    },
    {
     "name": "stdout",
     "output_type": "stream",
     "text": [
      "\u001b[94mSchizophrenia_Related_Psychosis x Atherosclerosis\u001b[0m\n",
      "\u001b[94mSchizophrenia_Related_Psychosis x Atopic_Contact_Dermatitis\u001b[0m\n",
      "ss_log__ -1.1447301\n",
      "shift -2.3025851\n",
      "b_shrinkage_log__ -2.28946\n",
      "fixed_b -7.829342\n",
      "ls_log__ -1.1447301\n",
      "var_log__ -1.1447301\n",
      "f_gp_rotated_ -45.02799\n",
      "nu_y_log__ -0.61370564\n",
      "sigma_y_log__ -0.61370564\n"
     ]
    },
    {
     "name": "stderr",
     "output_type": "stream",
     "text": [
      "Initializing NUTS using advi+adapt_diag...\n"
     ]
    },
    {
     "name": "stdout",
     "output_type": "stream",
     "text": [
      "y -185.2816047097024\n"
     ]
    },
    {
     "data": {
      "text/html": [
       "\n",
       "    <div>\n",
       "        <style>\n",
       "            /* Turns off some styling */\n",
       "            progress {\n",
       "                /* gets rid of default border in Firefox and Opera. */\n",
       "                border: none;\n",
       "                /* Needs to be in here for Safari polyfill so background images work as expected. */\n",
       "                background-size: auto;\n",
       "            }\n",
       "            .progress-bar-interrupted, .progress-bar-interrupted::-webkit-progress-bar {\n",
       "                background: #F44336;\n",
       "            }\n",
       "        </style>\n",
       "      <progress value='16861' class='' max='200000' style='width:300px; height:20px; vertical-align: middle;'></progress>\n",
       "      8.43% [16861/200000 00:05<01:03 Average Loss = 155.17]\n",
       "    </div>\n",
       "    "
      ],
      "text/plain": [
       "<IPython.core.display.HTML object>"
      ]
     },
     "metadata": {},
     "output_type": "display_data"
    },
    {
     "name": "stderr",
     "output_type": "stream",
     "text": [
      "Convergence achieved at 16900\n",
      "Interrupted at 16,899 [8%]: Average Loss = 180.39\n",
      "Multiprocess sampling (4 chains in 4 jobs)\n",
      "NUTS: [sigma_y, nu_y, f_gp_rotated_, var, ls, fixed_b, b_shrinkage, shift, ss]\n"
     ]
    },
    {
     "data": {
      "text/html": [
       "\n",
       "    <div>\n",
       "        <style>\n",
       "            /* Turns off some styling */\n",
       "            progress {\n",
       "                /* gets rid of default border in Firefox and Opera. */\n",
       "                border: none;\n",
       "                /* Needs to be in here for Safari polyfill so background images work as expected. */\n",
       "                background-size: auto;\n",
       "            }\n",
       "            .progress-bar-interrupted, .progress-bar-interrupted::-webkit-progress-bar {\n",
       "                background: #F44336;\n",
       "            }\n",
       "        </style>\n",
       "      <progress value='8000' class='' max='8000' style='width:300px; height:20px; vertical-align: middle;'></progress>\n",
       "      100.00% [8000/8000 00:46<00:00 Sampling 4 chains, 1 divergences]\n",
       "    </div>\n",
       "    "
      ],
      "text/plain": [
       "<IPython.core.display.HTML object>"
      ]
     },
     "metadata": {},
     "output_type": "display_data"
    },
    {
     "name": "stderr",
     "output_type": "stream",
     "text": [
      "Sampling 4 chains for 1_500 tune and 500 draw iterations (6_000 + 2_000 draws total) took 47 seconds.\n",
      "There was 1 divergence after tuning. Increase `target_accept` or reparameterize.\n",
      "The number of effective samples is smaller than 25% for some parameters.\n",
      "Got error No model on context stack. trying to find log_likelihood in translation.\n",
      "Got error No model on context stack. trying to find log_likelihood in translation.\n",
      "Got error No model on context stack. trying to find log_likelihood in translation.\n",
      "Got error No model on context stack. trying to find log_likelihood in translation.\n",
      "Got error No model on context stack. trying to find log_likelihood in translation.\n",
      "Got error No model on context stack. trying to find log_likelihood in translation.\n"
     ]
    },
    {
     "name": "stdout",
     "output_type": "stream",
     "text": [
      "b_shrinkage_log__ -2.28946\n",
      "fixed_b -7.829342\n",
      "ls_log__ -1.1447301\n",
      "var_log__ -1.1447301\n",
      "f_gp_rotated_ -45.02799\n",
      "nu_y_log__ -0.61370564\n",
      "sigma_y_log__ -0.61370564\n"
     ]
    },
    {
     "name": "stderr",
     "output_type": "stream",
     "text": [
      "Initializing NUTS using advi+adapt_diag...\n"
     ]
    },
    {
     "name": "stdout",
     "output_type": "stream",
     "text": [
      "y -185.2816047097024\n"
     ]
    },
    {
     "data": {
      "text/html": [
       "\n",
       "    <div>\n",
       "        <style>\n",
       "            /* Turns off some styling */\n",
       "            progress {\n",
       "                /* gets rid of default border in Firefox and Opera. */\n",
       "                border: none;\n",
       "                /* Needs to be in here for Safari polyfill so background images work as expected. */\n",
       "                background-size: auto;\n",
       "            }\n",
       "            .progress-bar-interrupted, .progress-bar-interrupted::-webkit-progress-bar {\n",
       "                background: #F44336;\n",
       "            }\n",
       "        </style>\n",
       "      <progress value='16548' class='' max='200000' style='width:300px; height:20px; vertical-align: middle;'></progress>\n",
       "      8.27% [16548/200000 00:05<01:02 Average Loss = 154.82]\n",
       "    </div>\n",
       "    "
      ],
      "text/plain": [
       "<IPython.core.display.HTML object>"
      ]
     },
     "metadata": {},
     "output_type": "display_data"
    },
    {
     "name": "stderr",
     "output_type": "stream",
     "text": [
      "Convergence achieved at 16700\n",
      "Interrupted at 16,699 [8%]: Average Loss = 179.76\n",
      "Multiprocess sampling (4 chains in 4 jobs)\n",
      "NUTS: [sigma_y, nu_y, f_gp_rotated_, var, ls, fixed_b, b_shrinkage]\n"
     ]
    },
    {
     "data": {
      "text/html": [
       "\n",
       "    <div>\n",
       "        <style>\n",
       "            /* Turns off some styling */\n",
       "            progress {\n",
       "                /* gets rid of default border in Firefox and Opera. */\n",
       "                border: none;\n",
       "                /* Needs to be in here for Safari polyfill so background images work as expected. */\n",
       "                background-size: auto;\n",
       "            }\n",
       "            .progress-bar-interrupted, .progress-bar-interrupted::-webkit-progress-bar {\n",
       "                background: #F44336;\n",
       "            }\n",
       "        </style>\n",
       "      <progress value='8000' class='' max='8000' style='width:300px; height:20px; vertical-align: middle;'></progress>\n",
       "      100.00% [8000/8000 00:44<00:00 Sampling 4 chains, 2 divergences]\n",
       "    </div>\n",
       "    "
      ],
      "text/plain": [
       "<IPython.core.display.HTML object>"
      ]
     },
     "metadata": {},
     "output_type": "display_data"
    },
    {
     "name": "stderr",
     "output_type": "stream",
     "text": [
      "Sampling 4 chains for 1_500 tune and 500 draw iterations (6_000 + 2_000 draws total) took 45 seconds.\n",
      "There was 1 divergence after tuning. Increase `target_accept` or reparameterize.\n",
      "There was 1 divergence after tuning. Increase `target_accept` or reparameterize.\n",
      "The number of effective samples is smaller than 25% for some parameters.\n",
      "Got error No model on context stack. trying to find log_likelihood in translation.\n",
      "Got error No model on context stack. trying to find log_likelihood in translation.\n",
      "Got error No model on context stack. trying to find log_likelihood in translation.\n",
      "Got error No model on context stack. trying to find log_likelihood in translation.\n",
      "Got error No model on context stack. trying to find log_likelihood in translation.\n",
      "Got error No model on context stack. trying to find log_likelihood in translation.\n"
     ]
    },
    {
     "name": "stdout",
     "output_type": "stream",
     "text": [
      "\u001b[94mSchizophrenia_Related_Psychosis x Autism\u001b[0m\n",
      "\u001b[94mSchizophrenia_Related_Psychosis x Autoimmune_Lymphoproliferative_Syndrome\u001b[0m\n",
      "\u001b[94mSchizophrenia_Related_Psychosis x Autoimmune_Polyglandular_Disorder\u001b[0m\n",
      "\u001b[94mSchizophrenia_Related_Psychosis x Autonomic_System_Disorder\u001b[0m\n",
      "\u001b[94mSchizophrenia_Related_Psychosis x Balanced_Translocation\u001b[0m\n",
      "\u001b[94mSchizophrenia_Related_Psychosis x Bartters_Syndrome\u001b[0m\n",
      "\u001b[94mSchizophrenia_Related_Psychosis x Behcets_Syndrome\u001b[0m\n",
      "\u001b[94mSchizophrenia_Related_Psychosis x Benign_Bone_Connective_Tissue_Neoplasm\u001b[0m\n",
      "\u001b[94mSchizophrenia_Related_Psychosis x Benign_Breast_Neoplasm\u001b[0m\n",
      "\u001b[94mSchizophrenia_Related_Psychosis x Benign_CNS_Neoplasm\u001b[0m\n",
      "\u001b[94mSchizophrenia_Related_Psychosis x Benign_Colon_Neoplasm\u001b[0m\n",
      "\u001b[94mSchizophrenia_Related_Psychosis x Benign_Digestive_Neoplasm\u001b[0m\n",
      "\u001b[94mSchizophrenia_Related_Psychosis x Benign_Endocrine_Neoplasm\u001b[0m\n",
      "\u001b[94mSchizophrenia_Related_Psychosis x Benign_Eye_Neoplasm\u001b[0m\n",
      "\u001b[94mSchizophrenia_Related_Psychosis x Benign_Female_Genital_Neoplasm\u001b[0m\n",
      "\u001b[94mSchizophrenia_Related_Psychosis x Benign_Intrathoracic_Neoplasm\u001b[0m\n",
      "\u001b[94mSchizophrenia_Related_Psychosis x Benign_Male_Genital_Neoplasm\u001b[0m\n",
      "\u001b[94mSchizophrenia_Related_Psychosis x Benign_Oropharyngeal_Neoplasm\u001b[0m\n",
      "\u001b[94mSchizophrenia_Related_Psychosis x Benign_Ovarian_Neoplasm\u001b[0m\n",
      "\u001b[94mSchizophrenia_Related_Psychosis x Benign_Prostastic_Hyperplasia\u001b[0m\n",
      "\u001b[94mSchizophrenia_Related_Psychosis x Benign_Skin_Neoplasm\u001b[0m\n",
      "\u001b[94mSchizophrenia_Related_Psychosis x Benign_Thyroid_Neoplasm\u001b[0m\n",
      "\u001b[94mSchizophrenia_Related_Psychosis x Benign_Urinary_Neoplasm\u001b[0m\n",
      "\u001b[94mSchizophrenia_Related_Psychosis x Benign_Uterine_Neoplasm\u001b[0m\n",
      "\u001b[94mSchizophrenia_Related_Psychosis x Biliary_Tract_Disease\u001b[0m\n",
      "\u001b[94mSchizophrenia_Related_Psychosis x Bipolar_Disorder\u001b[0m\n",
      "\u001b[94mSchizophrenia_Related_Psychosis x Bladder_Cancer\u001b[0m\n",
      "\u001b[94mSchizophrenia_Related_Psychosis x Bladder_Disorder\u001b[0m\n",
      "\u001b[94mSchizophrenia_Related_Psychosis x Bone_Cancer\u001b[0m\n",
      "\u001b[94mSchizophrenia_Related_Psychosis x Bone_Infection\u001b[0m\n",
      "\u001b[94mSchizophrenia_Related_Psychosis x Brain_Cancer\u001b[0m\n",
      "\u001b[94mSchizophrenia_Related_Psychosis x Brain_Damage\u001b[0m\n",
      "\u001b[94mSchizophrenia_Related_Psychosis x Branched_Chain_Amino_Acid_Metabolism_Disorder\u001b[0m\n",
      "\u001b[94mSchizophrenia_Related_Psychosis x Breast_Cancer\u001b[0m\n",
      "\u001b[94mSchizophrenia_Related_Psychosis x Breast_Disorder\u001b[0m\n",
      "\u001b[94mSchizophrenia_Related_Psychosis x CNS_Cancer\u001b[0m\n",
      "\u001b[94mSchizophrenia_Related_Psychosis x CNS_Infection\u001b[0m\n",
      "\u001b[94mSchizophrenia_Related_Psychosis x Carbuncle_Furuncle\u001b[0m\n",
      "\u001b[94mSchizophrenia_Related_Psychosis x Carcinoid_Syndrome\u001b[0m\n",
      "\u001b[94mSchizophrenia_Related_Psychosis x Cardiac_Conduction_Disorder\u001b[0m\n",
      "\u001b[94mSchizophrenia_Related_Psychosis x Cardiac_Congenital_Anomaly\u001b[0m\n",
      "\u001b[94mSchizophrenia_Related_Psychosis x Cardiac_Dysrhythmia\u001b[0m\n",
      "\u001b[94mSchizophrenia_Related_Psychosis x Cardiomyopathy\u001b[0m\n",
      "\u001b[94mSchizophrenia_Related_Psychosis x Carditis\u001b[0m\n",
      "\u001b[94mSchizophrenia_Related_Psychosis x Carinoid_Neoplasm\u001b[0m\n",
      "\u001b[94mSchizophrenia_Related_Psychosis x Cataplexy_Narcolepsy\u001b[0m\n",
      "\u001b[94mSchizophrenia_Related_Psychosis x Cataract\u001b[0m\n",
      "\u001b[94mSchizophrenia_Related_Psychosis x Cellulitis\u001b[0m\n",
      "\u001b[94mSchizophrenia_Related_Psychosis x Cerebral_Cysts\u001b[0m\n",
      "\u001b[94mSchizophrenia_Related_Psychosis x Cerebral_Lipidoses\u001b[0m\n",
      "\u001b[94mSchizophrenia_Related_Psychosis x Cerebrovascular_Disease\u001b[0m\n",
      "\u001b[94mSchizophrenia_Related_Psychosis x Cervical_Cancer\u001b[0m\n",
      "\u001b[94mSchizophrenia_Related_Psychosis x Charcot_Marie_Tooth_Disease\u001b[0m\n",
      "\u001b[94mSchizophrenia_Related_Psychosis x Childhood_Disintegrative_Disorder\u001b[0m\n",
      "\u001b[94mSchizophrenia_Related_Psychosis x Chondrocalcinosis\u001b[0m\n",
      "\u001b[94mSchizophrenia_Related_Psychosis x Chondrodystrophy\u001b[0m\n",
      "\u001b[94mSchizophrenia_Related_Psychosis x Choroidal_Disorders\u001b[0m\n",
      "\u001b[94mSchizophrenia_Related_Psychosis x Chronic_Glomerulonephritis\u001b[0m\n",
      "\u001b[94mSchizophrenia_Related_Psychosis x Chronic_Kidney_Disease\u001b[0m\n",
      "\u001b[94mSchizophrenia_Related_Psychosis x Chronic_Liver_Disease\u001b[0m\n",
      "\u001b[94mSchizophrenia_Related_Psychosis x Chronic_Progressive_External_Ophthalmoplegia\u001b[0m\n",
      "\u001b[94mSchizophrenia_Related_Psychosis x Chronic_Pruritus\u001b[0m\n",
      "\u001b[94mSchizophrenia_Related_Psychosis x Chronic_Sinusitis\u001b[0m\n",
      "\u001b[94mSchizophrenia_Related_Psychosis x Chronic_Tonsillitis_Adenoiditis\u001b[0m\n",
      "\u001b[94mSchizophrenia_Related_Psychosis x Chronic_Upper_Respiratory_Infection\u001b[0m\n",
      "\u001b[94mSchizophrenia_Related_Psychosis x Chronic_Venous_Hypertension\u001b[0m\n",
      "\u001b[94mSchizophrenia_Related_Psychosis x Circulating_Enzyme_Deficiency\u001b[0m\n",
      "\u001b[94mSchizophrenia_Related_Psychosis x Colorectal_Cancer\u001b[0m\n",
      "\u001b[94mSchizophrenia_Related_Psychosis x Common_Variable_Immunodeficiency\u001b[0m\n",
      "\u001b[94mSchizophrenia_Related_Psychosis x Complex_Regional_Pain_Syndrome\u001b[0m\n",
      "\u001b[94mSchizophrenia_Related_Psychosis x Conduct_Disorder\u001b[0m\n",
      "\u001b[94mSchizophrenia_Related_Psychosis x Congenital_Anomaly_of_Skull_Neck\u001b[0m\n",
      "\u001b[94mSchizophrenia_Related_Psychosis x Congenital_Aphakia\u001b[0m\n",
      "\u001b[94mSchizophrenia_Related_Psychosis x Congenital_Breast_Anomaly\u001b[0m\n",
      "\u001b[94mSchizophrenia_Related_Psychosis x Congenital_Ectodermal_Dysplasia\u001b[0m\n",
      "\u001b[94mSchizophrenia_Related_Psychosis x Congenital_Hair_Anomaly\u001b[0m\n",
      "\u001b[94mSchizophrenia_Related_Psychosis x Congenital_Hypogammaglobulinemia\u001b[0m\n",
      "\u001b[94mSchizophrenia_Related_Psychosis x Congenital_Hypothyroidism\u001b[0m\n",
      "\u001b[94mSchizophrenia_Related_Psychosis x Congenital_Nail_Anomaly\u001b[0m\n",
      "\u001b[94mSchizophrenia_Related_Psychosis x Congenital_Neutropenia\u001b[0m\n",
      "\u001b[94mSchizophrenia_Related_Psychosis x Congenital_Pigmentary_Anomaly\u001b[0m\n",
      "\u001b[94mSchizophrenia_Related_Psychosis x Congenital_Spine_Anomaly\u001b[0m\n",
      "\u001b[94mSchizophrenia_Related_Psychosis x Conjunctival_Disorders\u001b[0m\n",
      "\u001b[94mSchizophrenia_Related_Psychosis x Connective_Tissue_Cancer\u001b[0m\n",
      "\u001b[94mSchizophrenia_Related_Psychosis x Connective_Tissue_Infection\u001b[0m\n",
      "\u001b[94mSchizophrenia_Related_Psychosis x Copper_Metabolism_Disorder\u001b[0m\n",
      "\u001b[94mSchizophrenia_Related_Psychosis x Corneal_Disorders\u001b[0m\n",
      "\u001b[94mSchizophrenia_Related_Psychosis x Corns_Callosites\u001b[0m\n",
      "\u001b[94mSchizophrenia_Related_Psychosis x Cranial_Nerve_Disorder\u001b[0m\n",
      "\u001b[94mSchizophrenia_Related_Psychosis x Cri-Du-Chat_Syndrome\u001b[0m\n",
      "\u001b[94mSchizophrenia_Related_Psychosis x Crohns_Disease\u001b[0m\n",
      "\u001b[94mSchizophrenia_Related_Psychosis x Cushings_Syndrome\u001b[0m\n",
      "\u001b[94mSchizophrenia_Related_Psychosis x Other_Corticoadrenal_Disorder\u001b[0m\n",
      "\u001b[94mSchizophrenia_Related_Psychosis x Cyclic_Neutropenia\u001b[0m\n",
      "\u001b[94mSchizophrenia_Related_Psychosis x Cystic_Fibrosis\u001b[0m\n",
      "\u001b[94mSchizophrenia_Related_Psychosis x Cystitis_Urethritis\u001b[0m\n",
      "\u001b[94mSchizophrenia_Related_Psychosis x Deep_Vein_Thrombosis\u001b[0m\n",
      "\u001b[94mSchizophrenia_Related_Psychosis x Degenerative_Dementia\u001b[0m\n",
      "\u001b[94mSchizophrenia_Related_Psychosis x Dejerine_Sottas_Disease\u001b[0m\n",
      "\u001b[94mSchizophrenia_Related_Psychosis x Depression\u001b[0m\n",
      "\u001b[94mSchizophrenia_Related_Psychosis x Dermatitis_Herpetiformis\u001b[0m\n",
      "\u001b[94mSchizophrenia_Related_Psychosis x Dermatomyositis_Polymyositis\u001b[0m\n",
      "\u001b[94mSchizophrenia_Related_Psychosis x Developmental_Delay\u001b[0m\n",
      "\u001b[94mSchizophrenia_Related_Psychosis x Deviated_Nasal_Septum\u001b[0m\n",
      "\u001b[94mSchizophrenia_Related_Psychosis x Diabetes_Insipidus\u001b[0m\n",
      "\u001b[94mSchizophrenia_Related_Psychosis x Diamond-Blackfan_Anemia\u001b[0m\n",
      "\u001b[94mSchizophrenia_Related_Psychosis x Digeorges_Syndrome\u001b[0m\n",
      "\u001b[94mSchizophrenia_Related_Psychosis x Disease_of_the_Female_Reproductive_Organs\u001b[0m\n",
      "\u001b[94mSchizophrenia_Related_Psychosis x Disease_of_the_Male_Reproductive_Organs\u001b[0m\n",
      "\u001b[94mSchizophrenia_Related_Psychosis x Disorder_of_the_Vestibular_System\u001b[0m\n",
      "\u001b[94mSchizophrenia_Related_Psychosis x Disorders_of_Fatty_Acid_Oxidation\u001b[0m\n",
      "\u001b[94mSchizophrenia_Related_Psychosis x Disorders_of_Iris_Ciliary_Body\u001b[0m\n",
      "\u001b[94mSchizophrenia_Related_Psychosis x Disorders_of_Mitochondrial_Metabolism\u001b[0m\n",
      "\u001b[94mSchizophrenia_Related_Psychosis x Disorders_of_Straight_Chain_Amino_Acid_Metabolism\u001b[0m\n",
      "\u001b[94mSchizophrenia_Related_Psychosis x Disorders_of_Urea_Cycle_Metabolism\u001b[0m\n",
      "\u001b[94mSchizophrenia_Related_Psychosis x Dissociative_Disorder\u001b[0m\n",
      "\u001b[94mSchizophrenia_Related_Psychosis x Diverticulosis_Diverticulitis\u001b[0m\n",
      "\u001b[94mSchizophrenia_Related_Psychosis x Dopa-Responsive_Dystonia\u001b[0m\n",
      "\u001b[94mSchizophrenia_Related_Psychosis x Downs_Syndrome\u001b[0m\n",
      "\u001b[94mSchizophrenia_Related_Psychosis x Dwarfism_of_Unknown_Etiology\u001b[0m\n",
      "\u001b[94mSchizophrenia_Related_Psychosis x Dyschromia\u001b[0m\n",
      "\u001b[94mSchizophrenia_Related_Psychosis x Ear_Infection\u001b[0m\n",
      "ss_log__ -1.1447301\n",
      "shift -2.3025851\n",
      "b_shrinkage_log__ -2.28946\n",
      "fixed_b -7.829342\n",
      "ls_log__ -1.1447301\n",
      "var_log__ -1.1447301\n",
      "f_gp_rotated_ -41.352238\n",
      "nu_y_log__ -0.61370564\n",
      "sigma_y_log__ -0.61370564\n"
     ]
    },
    {
     "name": "stderr",
     "output_type": "stream",
     "text": [
      "Initializing NUTS using advi+adapt_diag...\n"
     ]
    },
    {
     "name": "stdout",
     "output_type": "stream",
     "text": [
      "y -222.09385369821328\n"
     ]
    },
    {
     "data": {
      "text/html": [
       "\n",
       "    <div>\n",
       "        <style>\n",
       "            /* Turns off some styling */\n",
       "            progress {\n",
       "                /* gets rid of default border in Firefox and Opera. */\n",
       "                border: none;\n",
       "                /* Needs to be in here for Safari polyfill so background images work as expected. */\n",
       "                background-size: auto;\n",
       "            }\n",
       "            .progress-bar-interrupted, .progress-bar-interrupted::-webkit-progress-bar {\n",
       "                background: #F44336;\n",
       "            }\n",
       "        </style>\n",
       "      <progress value='13693' class='' max='200000' style='width:300px; height:20px; vertical-align: middle;'></progress>\n",
       "      6.85% [13693/200000 00:04<01:02 Average Loss = 169.25]\n",
       "    </div>\n",
       "    "
      ],
      "text/plain": [
       "<IPython.core.display.HTML object>"
      ]
     },
     "metadata": {},
     "output_type": "display_data"
    },
    {
     "name": "stderr",
     "output_type": "stream",
     "text": [
      "Convergence achieved at 13800\n",
      "Interrupted at 13,799 [6%]: Average Loss = 193.25\n",
      "Multiprocess sampling (4 chains in 4 jobs)\n",
      "NUTS: [sigma_y, nu_y, f_gp_rotated_, var, ls, fixed_b, b_shrinkage, shift, ss]\n"
     ]
    },
    {
     "data": {
      "text/html": [
       "\n",
       "    <div>\n",
       "        <style>\n",
       "            /* Turns off some styling */\n",
       "            progress {\n",
       "                /* gets rid of default border in Firefox and Opera. */\n",
       "                border: none;\n",
       "                /* Needs to be in here for Safari polyfill so background images work as expected. */\n",
       "                background-size: auto;\n",
       "            }\n",
       "            .progress-bar-interrupted, .progress-bar-interrupted::-webkit-progress-bar {\n",
       "                background: #F44336;\n",
       "            }\n",
       "        </style>\n",
       "      <progress value='8000' class='' max='8000' style='width:300px; height:20px; vertical-align: middle;'></progress>\n",
       "      100.00% [8000/8000 00:57<00:00 Sampling 4 chains, 1 divergences]\n",
       "    </div>\n",
       "    "
      ],
      "text/plain": [
       "<IPython.core.display.HTML object>"
      ]
     },
     "metadata": {},
     "output_type": "display_data"
    },
    {
     "name": "stderr",
     "output_type": "stream",
     "text": [
      "Sampling 4 chains for 1_500 tune and 500 draw iterations (6_000 + 2_000 draws total) took 57 seconds.\n",
      "There was 1 divergence after tuning. Increase `target_accept` or reparameterize.\n",
      "The rhat statistic is larger than 1.05 for some parameters. This indicates slight problems during sampling.\n",
      "The estimated number of effective samples is smaller than 200 for some parameters.\n",
      "Got error No model on context stack. trying to find log_likelihood in translation.\n",
      "Got error No model on context stack. trying to find log_likelihood in translation.\n",
      "Got error No model on context stack. trying to find log_likelihood in translation.\n",
      "Got error No model on context stack. trying to find log_likelihood in translation.\n",
      "Got error No model on context stack. trying to find log_likelihood in translation.\n",
      "Got error No model on context stack. trying to find log_likelihood in translation.\n"
     ]
    },
    {
     "name": "stdout",
     "output_type": "stream",
     "text": [
      "b_shrinkage_log__ -2.28946\n",
      "fixed_b -7.829342\n",
      "ls_log__ -1.1447301\n",
      "var_log__ -1.1447301\n",
      "f_gp_rotated_ -41.352238\n",
      "nu_y_log__ -0.61370564\n",
      "sigma_y_log__ -0.61370564\n"
     ]
    },
    {
     "name": "stderr",
     "output_type": "stream",
     "text": [
      "Initializing NUTS using advi+adapt_diag...\n"
     ]
    },
    {
     "name": "stdout",
     "output_type": "stream",
     "text": [
      "y -222.09385369821328\n"
     ]
    },
    {
     "data": {
      "text/html": [
       "\n",
       "    <div>\n",
       "        <style>\n",
       "            /* Turns off some styling */\n",
       "            progress {\n",
       "                /* gets rid of default border in Firefox and Opera. */\n",
       "                border: none;\n",
       "                /* Needs to be in here for Safari polyfill so background images work as expected. */\n",
       "                background-size: auto;\n",
       "            }\n",
       "            .progress-bar-interrupted, .progress-bar-interrupted::-webkit-progress-bar {\n",
       "                background: #F44336;\n",
       "            }\n",
       "        </style>\n",
       "      <progress value='12180' class='' max='200000' style='width:300px; height:20px; vertical-align: middle;'></progress>\n",
       "      6.09% [12180/200000 00:03<00:59 Average Loss = 170.95]\n",
       "    </div>\n",
       "    "
      ],
      "text/plain": [
       "<IPython.core.display.HTML object>"
      ]
     },
     "metadata": {},
     "output_type": "display_data"
    },
    {
     "name": "stderr",
     "output_type": "stream",
     "text": [
      "Convergence achieved at 12500\n",
      "Interrupted at 12,499 [6%]: Average Loss = 194.91\n",
      "Multiprocess sampling (4 chains in 4 jobs)\n",
      "NUTS: [sigma_y, nu_y, f_gp_rotated_, var, ls, fixed_b, b_shrinkage]\n"
     ]
    },
    {
     "data": {
      "text/html": [
       "\n",
       "    <div>\n",
       "        <style>\n",
       "            /* Turns off some styling */\n",
       "            progress {\n",
       "                /* gets rid of default border in Firefox and Opera. */\n",
       "                border: none;\n",
       "                /* Needs to be in here for Safari polyfill so background images work as expected. */\n",
       "                background-size: auto;\n",
       "            }\n",
       "            .progress-bar-interrupted, .progress-bar-interrupted::-webkit-progress-bar {\n",
       "                background: #F44336;\n",
       "            }\n",
       "        </style>\n",
       "      <progress value='8000' class='' max='8000' style='width:300px; height:20px; vertical-align: middle;'></progress>\n",
       "      100.00% [8000/8000 00:50<00:00 Sampling 4 chains, 1 divergences]\n",
       "    </div>\n",
       "    "
      ],
      "text/plain": [
       "<IPython.core.display.HTML object>"
      ]
     },
     "metadata": {},
     "output_type": "display_data"
    },
    {
     "name": "stderr",
     "output_type": "stream",
     "text": [
      "Sampling 4 chains for 1_500 tune and 500 draw iterations (6_000 + 2_000 draws total) took 51 seconds.\n",
      "There was 1 divergence after tuning. Increase `target_accept` or reparameterize.\n",
      "The number of effective samples is smaller than 25% for some parameters.\n",
      "Got error No model on context stack. trying to find log_likelihood in translation.\n",
      "Got error No model on context stack. trying to find log_likelihood in translation.\n",
      "Got error No model on context stack. trying to find log_likelihood in translation.\n",
      "Got error No model on context stack. trying to find log_likelihood in translation.\n",
      "Got error No model on context stack. trying to find log_likelihood in translation.\n",
      "Got error No model on context stack. trying to find log_likelihood in translation.\n"
     ]
    },
    {
     "name": "stdout",
     "output_type": "stream",
     "text": [
      "\u001b[94mSchizophrenia_Related_Psychosis x Eating_Disorder\u001b[0m\n",
      "\u001b[94mSchizophrenia_Related_Psychosis x Edwards_Syndrome\u001b[0m\n",
      "\u001b[94mSchizophrenia_Related_Psychosis x Ehlers_Danlos_Syndrome\u001b[0m\n",
      "\u001b[94mSchizophrenia_Related_Psychosis x Electrolyte_Acid-Base_Balance_Disorder\u001b[0m\n",
      "\u001b[94mSchizophrenia_Related_Psychosis x Ellis_Van_Creveld_Syndrome\u001b[0m\n",
      "\u001b[94mSchizophrenia_Related_Psychosis x Emphysema_COPD\u001b[0m\n",
      "\u001b[94mSchizophrenia_Related_Psychosis x Encephalitis\u001b[0m\n",
      "\u001b[94mSchizophrenia_Related_Psychosis x Endocrine_Cancer\u001b[0m\n",
      "\u001b[94mSchizophrenia_Related_Psychosis x Epidermolysis_Bullosa\u001b[0m\n",
      "\u001b[94mSchizophrenia_Related_Psychosis x Epilepsy_Related_Disorders\u001b[0m\n",
      "\u001b[94mSchizophrenia_Related_Psychosis x Erythematous_Disorder\u001b[0m\n",
      "\u001b[94mSchizophrenia_Related_Psychosis x Erythromelalgia\u001b[0m\n",
      "\u001b[94mSchizophrenia_Related_Psychosis x Escherichia_Coli_Infection\u001b[0m\n",
      "\u001b[94mSchizophrenia_Related_Psychosis x Esophageal_Cancer\u001b[0m\n",
      "\u001b[94mSchizophrenia_Related_Psychosis x Esophageal_Disease\u001b[0m\n",
      "ss_log__ -1.1447301\n",
      "shift -2.3025851\n",
      "b_shrinkage_log__ -2.28946\n",
      "fixed_b -7.829342\n",
      "ls_log__ -1.1447301\n",
      "var_log__ -1.1447301\n",
      "f_gp_rotated_ -33.081787\n",
      "nu_y_log__ -0.61370564\n",
      "sigma_y_log__ -0.61370564\n"
     ]
    },
    {
     "name": "stderr",
     "output_type": "stream",
     "text": [
      "Initializing NUTS using advi+adapt_diag...\n"
     ]
    },
    {
     "name": "stdout",
     "output_type": "stream",
     "text": [
      "y -110.74869396987074\n"
     ]
    },
    {
     "data": {
      "text/html": [
       "\n",
       "    <div>\n",
       "        <style>\n",
       "            /* Turns off some styling */\n",
       "            progress {\n",
       "                /* gets rid of default border in Firefox and Opera. */\n",
       "                border: none;\n",
       "                /* Needs to be in here for Safari polyfill so background images work as expected. */\n",
       "                background-size: auto;\n",
       "            }\n",
       "            .progress-bar-interrupted, .progress-bar-interrupted::-webkit-progress-bar {\n",
       "                background: #F44336;\n",
       "            }\n",
       "        </style>\n",
       "      <progress value='16484' class='' max='200000' style='width:300px; height:20px; vertical-align: middle;'></progress>\n",
       "      8.24% [16484/200000 00:05<00:55 Average Loss = 107.28]\n",
       "    </div>\n",
       "    "
      ],
      "text/plain": [
       "<IPython.core.display.HTML object>"
      ]
     },
     "metadata": {},
     "output_type": "display_data"
    },
    {
     "name": "stderr",
     "output_type": "stream",
     "text": [
      "Convergence achieved at 16700\n",
      "Interrupted at 16,699 [8%]: Average Loss = 124.98\n",
      "Multiprocess sampling (4 chains in 4 jobs)\n",
      "NUTS: [sigma_y, nu_y, f_gp_rotated_, var, ls, fixed_b, b_shrinkage, shift, ss]\n"
     ]
    },
    {
     "data": {
      "text/html": [
       "\n",
       "    <div>\n",
       "        <style>\n",
       "            /* Turns off some styling */\n",
       "            progress {\n",
       "                /* gets rid of default border in Firefox and Opera. */\n",
       "                border: none;\n",
       "                /* Needs to be in here for Safari polyfill so background images work as expected. */\n",
       "                background-size: auto;\n",
       "            }\n",
       "            .progress-bar-interrupted, .progress-bar-interrupted::-webkit-progress-bar {\n",
       "                background: #F44336;\n",
       "            }\n",
       "        </style>\n",
       "      <progress value='8000' class='' max='8000' style='width:300px; height:20px; vertical-align: middle;'></progress>\n",
       "      100.00% [8000/8000 00:43<00:00 Sampling 4 chains, 6 divergences]\n",
       "    </div>\n",
       "    "
      ],
      "text/plain": [
       "<IPython.core.display.HTML object>"
      ]
     },
     "metadata": {},
     "output_type": "display_data"
    },
    {
     "name": "stderr",
     "output_type": "stream",
     "text": [
      "Sampling 4 chains for 1_500 tune and 500 draw iterations (6_000 + 2_000 draws total) took 44 seconds.\n",
      "There was 1 divergence after tuning. Increase `target_accept` or reparameterize.\n",
      "There was 1 divergence after tuning. Increase `target_accept` or reparameterize.\n",
      "There were 3 divergences after tuning. Increase `target_accept` or reparameterize.\n",
      "There was 1 divergence after tuning. Increase `target_accept` or reparameterize.\n",
      "The estimated number of effective samples is smaller than 200 for some parameters.\n",
      "Got error No model on context stack. trying to find log_likelihood in translation.\n",
      "Got error No model on context stack. trying to find log_likelihood in translation.\n",
      "Got error No model on context stack. trying to find log_likelihood in translation.\n",
      "Got error No model on context stack. trying to find log_likelihood in translation.\n",
      "Got error No model on context stack. trying to find log_likelihood in translation.\n",
      "Got error No model on context stack. trying to find log_likelihood in translation.\n"
     ]
    },
    {
     "name": "stdout",
     "output_type": "stream",
     "text": [
      "b_shrinkage_log__ -2.28946\n",
      "fixed_b -7.829342\n",
      "ls_log__ -1.1447301\n",
      "var_log__ -1.1447301\n",
      "f_gp_rotated_ -33.081787\n",
      "nu_y_log__ -0.61370564\n",
      "sigma_y_log__ -0.61370564\n"
     ]
    },
    {
     "name": "stderr",
     "output_type": "stream",
     "text": [
      "Initializing NUTS using advi+adapt_diag...\n"
     ]
    },
    {
     "name": "stdout",
     "output_type": "stream",
     "text": [
      "y -110.74869396987074\n"
     ]
    },
    {
     "data": {
      "text/html": [
       "\n",
       "    <div>\n",
       "        <style>\n",
       "            /* Turns off some styling */\n",
       "            progress {\n",
       "                /* gets rid of default border in Firefox and Opera. */\n",
       "                border: none;\n",
       "                /* Needs to be in here for Safari polyfill so background images work as expected. */\n",
       "                background-size: auto;\n",
       "            }\n",
       "            .progress-bar-interrupted, .progress-bar-interrupted::-webkit-progress-bar {\n",
       "                background: #F44336;\n",
       "            }\n",
       "        </style>\n",
       "      <progress value='15764' class='' max='200000' style='width:300px; height:20px; vertical-align: middle;'></progress>\n",
       "      7.88% [15764/200000 00:04<00:54 Average Loss = 107.03]\n",
       "    </div>\n",
       "    "
      ],
      "text/plain": [
       "<IPython.core.display.HTML object>"
      ]
     },
     "metadata": {},
     "output_type": "display_data"
    },
    {
     "name": "stderr",
     "output_type": "stream",
     "text": [
      "Convergence achieved at 16100\n",
      "Interrupted at 16,099 [8%]: Average Loss = 124.75\n",
      "Multiprocess sampling (4 chains in 4 jobs)\n",
      "NUTS: [sigma_y, nu_y, f_gp_rotated_, var, ls, fixed_b, b_shrinkage]\n"
     ]
    },
    {
     "data": {
      "text/html": [
       "\n",
       "    <div>\n",
       "        <style>\n",
       "            /* Turns off some styling */\n",
       "            progress {\n",
       "                /* gets rid of default border in Firefox and Opera. */\n",
       "                border: none;\n",
       "                /* Needs to be in here for Safari polyfill so background images work as expected. */\n",
       "                background-size: auto;\n",
       "            }\n",
       "            .progress-bar-interrupted, .progress-bar-interrupted::-webkit-progress-bar {\n",
       "                background: #F44336;\n",
       "            }\n",
       "        </style>\n",
       "      <progress value='8000' class='' max='8000' style='width:300px; height:20px; vertical-align: middle;'></progress>\n",
       "      100.00% [8000/8000 00:38<00:00 Sampling 4 chains, 6 divergences]\n",
       "    </div>\n",
       "    "
      ],
      "text/plain": [
       "<IPython.core.display.HTML object>"
      ]
     },
     "metadata": {},
     "output_type": "display_data"
    },
    {
     "name": "stderr",
     "output_type": "stream",
     "text": [
      "Sampling 4 chains for 1_500 tune and 500 draw iterations (6_000 + 2_000 draws total) took 38 seconds.\n",
      "There were 2 divergences after tuning. Increase `target_accept` or reparameterize.\n",
      "There was 1 divergence after tuning. Increase `target_accept` or reparameterize.\n",
      "There was 1 divergence after tuning. Increase `target_accept` or reparameterize.\n",
      "There were 2 divergences after tuning. Increase `target_accept` or reparameterize.\n",
      "The rhat statistic is larger than 1.05 for some parameters. This indicates slight problems during sampling.\n",
      "The estimated number of effective samples is smaller than 200 for some parameters.\n",
      "Got error No model on context stack. trying to find log_likelihood in translation.\n",
      "Got error No model on context stack. trying to find log_likelihood in translation.\n",
      "Got error No model on context stack. trying to find log_likelihood in translation.\n",
      "Got error No model on context stack. trying to find log_likelihood in translation.\n",
      "Got error No model on context stack. trying to find log_likelihood in translation.\n",
      "Got error No model on context stack. trying to find log_likelihood in translation.\n"
     ]
    },
    {
     "name": "stdout",
     "output_type": "stream",
     "text": [
      "\u001b[94mSchizophrenia_Related_Psychosis x Esophagitis\u001b[0m\n",
      "\u001b[94mSchizophrenia_Related_Psychosis x Eustachian_Tube_Disorder\u001b[0m\n",
      "\u001b[94mSchizophrenia_Related_Psychosis x External_Ear_Disorders\u001b[0m\n",
      "\u001b[94mSchizophrenia_Related_Psychosis x Extrapyramidal_Abnormal_Movement_Disorders\u001b[0m\n",
      "\u001b[94mSchizophrenia_Related_Psychosis x Eye_Cancer\u001b[0m\n",
      "\u001b[94mSchizophrenia_Related_Psychosis x Eye_Infection\u001b[0m\n",
      "ss_log__ -1.1447301\n",
      "shift -2.3025851\n",
      "b_shrinkage_log__ -2.28946\n",
      "fixed_b -7.829342\n",
      "ls_log__ -1.1447301\n",
      "var_log__ -1.1447301\n",
      "f_gp_rotated_ -44.10905\n",
      "nu_y_log__ -0.61370564\n",
      "sigma_y_log__ -0.61370564\n"
     ]
    },
    {
     "name": "stderr",
     "output_type": "stream",
     "text": [
      "Initializing NUTS using advi+adapt_diag...\n"
     ]
    },
    {
     "name": "stdout",
     "output_type": "stream",
     "text": [
      "y -165.51097947773295\n"
     ]
    },
    {
     "data": {
      "text/html": [
       "\n",
       "    <div>\n",
       "        <style>\n",
       "            /* Turns off some styling */\n",
       "            progress {\n",
       "                /* gets rid of default border in Firefox and Opera. */\n",
       "                border: none;\n",
       "                /* Needs to be in here for Safari polyfill so background images work as expected. */\n",
       "                background-size: auto;\n",
       "            }\n",
       "            .progress-bar-interrupted, .progress-bar-interrupted::-webkit-progress-bar {\n",
       "                background: #F44336;\n",
       "            }\n",
       "        </style>\n",
       "      <progress value='15387' class='' max='200000' style='width:300px; height:20px; vertical-align: middle;'></progress>\n",
       "      7.69% [15387/200000 00:05<01:02 Average Loss = 152.03]\n",
       "    </div>\n",
       "    "
      ],
      "text/plain": [
       "<IPython.core.display.HTML object>"
      ]
     },
     "metadata": {},
     "output_type": "display_data"
    },
    {
     "name": "stderr",
     "output_type": "stream",
     "text": [
      "Convergence achieved at 15800\n",
      "Interrupted at 15,799 [7%]: Average Loss = 172.83\n",
      "Multiprocess sampling (4 chains in 4 jobs)\n",
      "NUTS: [sigma_y, nu_y, f_gp_rotated_, var, ls, fixed_b, b_shrinkage, shift, ss]\n"
     ]
    },
    {
     "data": {
      "text/html": [
       "\n",
       "    <div>\n",
       "        <style>\n",
       "            /* Turns off some styling */\n",
       "            progress {\n",
       "                /* gets rid of default border in Firefox and Opera. */\n",
       "                border: none;\n",
       "                /* Needs to be in here for Safari polyfill so background images work as expected. */\n",
       "                background-size: auto;\n",
       "            }\n",
       "            .progress-bar-interrupted, .progress-bar-interrupted::-webkit-progress-bar {\n",
       "                background: #F44336;\n",
       "            }\n",
       "        </style>\n",
       "      <progress value='8000' class='' max='8000' style='width:300px; height:20px; vertical-align: middle;'></progress>\n",
       "      100.00% [8000/8000 00:46<00:00 Sampling 4 chains, 1 divergences]\n",
       "    </div>\n",
       "    "
      ],
      "text/plain": [
       "<IPython.core.display.HTML object>"
      ]
     },
     "metadata": {},
     "output_type": "display_data"
    },
    {
     "name": "stderr",
     "output_type": "stream",
     "text": [
      "Sampling 4 chains for 1_500 tune and 500 draw iterations (6_000 + 2_000 draws total) took 47 seconds.\n",
      "There was 1 divergence after tuning. Increase `target_accept` or reparameterize.\n",
      "The number of effective samples is smaller than 25% for some parameters.\n",
      "Got error No model on context stack. trying to find log_likelihood in translation.\n",
      "Got error No model on context stack. trying to find log_likelihood in translation.\n",
      "Got error No model on context stack. trying to find log_likelihood in translation.\n",
      "Got error No model on context stack. trying to find log_likelihood in translation.\n",
      "Got error No model on context stack. trying to find log_likelihood in translation.\n",
      "Got error No model on context stack. trying to find log_likelihood in translation.\n"
     ]
    },
    {
     "name": "stdout",
     "output_type": "stream",
     "text": [
      "b_shrinkage_log__ -2.28946\n",
      "fixed_b -7.829342\n",
      "ls_log__ -1.1447301\n",
      "var_log__ -1.1447301\n",
      "f_gp_rotated_ -44.10905\n",
      "nu_y_log__ -0.61370564\n",
      "sigma_y_log__ -0.61370564\n"
     ]
    },
    {
     "name": "stderr",
     "output_type": "stream",
     "text": [
      "Initializing NUTS using advi+adapt_diag...\n"
     ]
    },
    {
     "name": "stdout",
     "output_type": "stream",
     "text": [
      "y -165.51097947773295\n"
     ]
    },
    {
     "data": {
      "text/html": [
       "\n",
       "    <div>\n",
       "        <style>\n",
       "            /* Turns off some styling */\n",
       "            progress {\n",
       "                /* gets rid of default border in Firefox and Opera. */\n",
       "                border: none;\n",
       "                /* Needs to be in here for Safari polyfill so background images work as expected. */\n",
       "                background-size: auto;\n",
       "            }\n",
       "            .progress-bar-interrupted, .progress-bar-interrupted::-webkit-progress-bar {\n",
       "                background: #F44336;\n",
       "            }\n",
       "        </style>\n",
       "      <progress value='18496' class='' max='200000' style='width:300px; height:20px; vertical-align: middle;'></progress>\n",
       "      9.25% [18496/200000 00:06<00:59 Average Loss = 145.56]\n",
       "    </div>\n",
       "    "
      ],
      "text/plain": [
       "<IPython.core.display.HTML object>"
      ]
     },
     "metadata": {},
     "output_type": "display_data"
    },
    {
     "name": "stderr",
     "output_type": "stream",
     "text": [
      "Convergence achieved at 18900\n",
      "Interrupted at 18,899 [9%]: Average Loss = 167.29\n",
      "Multiprocess sampling (4 chains in 4 jobs)\n",
      "NUTS: [sigma_y, nu_y, f_gp_rotated_, var, ls, fixed_b, b_shrinkage]\n"
     ]
    },
    {
     "data": {
      "text/html": [
       "\n",
       "    <div>\n",
       "        <style>\n",
       "            /* Turns off some styling */\n",
       "            progress {\n",
       "                /* gets rid of default border in Firefox and Opera. */\n",
       "                border: none;\n",
       "                /* Needs to be in here for Safari polyfill so background images work as expected. */\n",
       "                background-size: auto;\n",
       "            }\n",
       "            .progress-bar-interrupted, .progress-bar-interrupted::-webkit-progress-bar {\n",
       "                background: #F44336;\n",
       "            }\n",
       "        </style>\n",
       "      <progress value='8000' class='' max='8000' style='width:300px; height:20px; vertical-align: middle;'></progress>\n",
       "      100.00% [8000/8000 00:43<00:00 Sampling 4 chains, 2 divergences]\n",
       "    </div>\n",
       "    "
      ],
      "text/plain": [
       "<IPython.core.display.HTML object>"
      ]
     },
     "metadata": {},
     "output_type": "display_data"
    },
    {
     "name": "stderr",
     "output_type": "stream",
     "text": [
      "Sampling 4 chains for 1_500 tune and 500 draw iterations (6_000 + 2_000 draws total) took 45 seconds.\n",
      "There were 2 divergences after tuning. Increase `target_accept` or reparameterize.\n",
      "The number of effective samples is smaller than 25% for some parameters.\n",
      "Got error No model on context stack. trying to find log_likelihood in translation.\n",
      "Got error No model on context stack. trying to find log_likelihood in translation.\n",
      "Got error No model on context stack. trying to find log_likelihood in translation.\n",
      "Got error No model on context stack. trying to find log_likelihood in translation.\n",
      "Got error No model on context stack. trying to find log_likelihood in translation.\n",
      "Got error No model on context stack. trying to find log_likelihood in translation.\n"
     ]
    },
    {
     "name": "stdout",
     "output_type": "stream",
     "text": [
      "\u001b[94mSchizophrenia_Related_Psychosis x Eye_Inflammation\u001b[0m\n",
      "\u001b[94mSchizophrenia_Related_Psychosis x Eyelid_Disorders\u001b[0m\n",
      "\u001b[94mSchizophrenia_Related_Psychosis x Familial_Adenomatous_Polyposis\u001b[0m\n",
      "\u001b[94mSchizophrenia_Related_Psychosis x Familial_Dysautonomia_Related_Conditions\u001b[0m\n",
      "\u001b[94mSchizophrenia_Related_Psychosis x Familial_Mediterranean_Fever\u001b[0m\n",
      "\u001b[94mSchizophrenia_Related_Psychosis x Fasciitis\u001b[0m\n",
      "\u001b[94mSchizophrenia_Related_Psychosis x Female_Genital_Cancer\u001b[0m\n",
      "\u001b[94mSchizophrenia_Related_Psychosis x Female_Genital_Congenital_Anomaly\u001b[0m\n",
      "\u001b[94mSchizophrenia_Related_Psychosis x Food_Allergy\u001b[0m\n",
      "\u001b[94mSchizophrenia_Related_Psychosis x Fragile_X_Syndrome\u001b[0m\n",
      "\u001b[94mSchizophrenia_Related_Psychosis x Friedreichs_Ataxia\u001b[0m\n",
      "\u001b[94mSchizophrenia_Related_Psychosis x Functional_Digestive_Disorder\u001b[0m\n",
      "ss_log__ -1.1447301\n",
      "shift -2.3025851\n",
      "b_shrinkage_log__ -2.28946\n",
      "fixed_b -7.829342\n",
      "ls_log__ -1.1447301\n",
      "var_log__ -1.1447301\n",
      "f_gp_rotated_ -34.00073\n",
      "nu_y_log__ -0.61370564\n",
      "sigma_y_log__ -0.61370564\n"
     ]
    },
    {
     "name": "stderr",
     "output_type": "stream",
     "text": [
      "Initializing NUTS using advi+adapt_diag...\n"
     ]
    },
    {
     "name": "stdout",
     "output_type": "stream",
     "text": [
      "y -115.93492834112546\n"
     ]
    },
    {
     "data": {
      "text/html": [
       "\n",
       "    <div>\n",
       "        <style>\n",
       "            /* Turns off some styling */\n",
       "            progress {\n",
       "                /* gets rid of default border in Firefox and Opera. */\n",
       "                border: none;\n",
       "                /* Needs to be in here for Safari polyfill so background images work as expected. */\n",
       "                background-size: auto;\n",
       "            }\n",
       "            .progress-bar-interrupted, .progress-bar-interrupted::-webkit-progress-bar {\n",
       "                background: #F44336;\n",
       "            }\n",
       "        </style>\n",
       "      <progress value='13559' class='' max='200000' style='width:300px; height:20px; vertical-align: middle;'></progress>\n",
       "      6.78% [13559/200000 00:04<00:58 Average Loss = 111.6]\n",
       "    </div>\n",
       "    "
      ],
      "text/plain": [
       "<IPython.core.display.HTML object>"
      ]
     },
     "metadata": {},
     "output_type": "display_data"
    },
    {
     "name": "stderr",
     "output_type": "stream",
     "text": [
      "Convergence achieved at 13900\n",
      "Interrupted at 13,899 [6%]: Average Loss = 130.82\n",
      "Multiprocess sampling (4 chains in 4 jobs)\n",
      "NUTS: [sigma_y, nu_y, f_gp_rotated_, var, ls, fixed_b, b_shrinkage, shift, ss]\n"
     ]
    },
    {
     "data": {
      "text/html": [
       "\n",
       "    <div>\n",
       "        <style>\n",
       "            /* Turns off some styling */\n",
       "            progress {\n",
       "                /* gets rid of default border in Firefox and Opera. */\n",
       "                border: none;\n",
       "                /* Needs to be in here for Safari polyfill so background images work as expected. */\n",
       "                background-size: auto;\n",
       "            }\n",
       "            .progress-bar-interrupted, .progress-bar-interrupted::-webkit-progress-bar {\n",
       "                background: #F44336;\n",
       "            }\n",
       "        </style>\n",
       "      <progress value='8000' class='' max='8000' style='width:300px; height:20px; vertical-align: middle;'></progress>\n",
       "      100.00% [8000/8000 00:44<00:00 Sampling 4 chains, 2 divergences]\n",
       "    </div>\n",
       "    "
      ],
      "text/plain": [
       "<IPython.core.display.HTML object>"
      ]
     },
     "metadata": {},
     "output_type": "display_data"
    },
    {
     "name": "stderr",
     "output_type": "stream",
     "text": [
      "Sampling 4 chains for 1_500 tune and 500 draw iterations (6_000 + 2_000 draws total) took 45 seconds.\n",
      "There were 2 divergences after tuning. Increase `target_accept` or reparameterize.\n",
      "The rhat statistic is larger than 1.05 for some parameters. This indicates slight problems during sampling.\n",
      "The estimated number of effective samples is smaller than 200 for some parameters.\n",
      "Got error No model on context stack. trying to find log_likelihood in translation.\n",
      "Got error No model on context stack. trying to find log_likelihood in translation.\n",
      "Got error No model on context stack. trying to find log_likelihood in translation.\n",
      "Got error No model on context stack. trying to find log_likelihood in translation.\n",
      "Got error No model on context stack. trying to find log_likelihood in translation.\n",
      "Got error No model on context stack. trying to find log_likelihood in translation.\n"
     ]
    },
    {
     "name": "stdout",
     "output_type": "stream",
     "text": [
      "b_shrinkage_log__ -2.28946\n",
      "fixed_b -7.829342\n",
      "ls_log__ -1.1447301\n",
      "var_log__ -1.1447301\n",
      "f_gp_rotated_ -34.00073\n",
      "nu_y_log__ -0.61370564\n",
      "sigma_y_log__ -0.61370564\n"
     ]
    },
    {
     "name": "stderr",
     "output_type": "stream",
     "text": [
      "Initializing NUTS using advi+adapt_diag...\n"
     ]
    },
    {
     "name": "stdout",
     "output_type": "stream",
     "text": [
      "y -115.93492834112546\n"
     ]
    },
    {
     "data": {
      "text/html": [
       "\n",
       "    <div>\n",
       "        <style>\n",
       "            /* Turns off some styling */\n",
       "            progress {\n",
       "                /* gets rid of default border in Firefox and Opera. */\n",
       "                border: none;\n",
       "                /* Needs to be in here for Safari polyfill so background images work as expected. */\n",
       "                background-size: auto;\n",
       "            }\n",
       "            .progress-bar-interrupted, .progress-bar-interrupted::-webkit-progress-bar {\n",
       "                background: #F44336;\n",
       "            }\n",
       "        </style>\n",
       "      <progress value='16226' class='' max='200000' style='width:300px; height:20px; vertical-align: middle;'></progress>\n",
       "      8.11% [16226/200000 00:04<00:54 Average Loss = 108.82]\n",
       "    </div>\n",
       "    "
      ],
      "text/plain": [
       "<IPython.core.display.HTML object>"
      ]
     },
     "metadata": {},
     "output_type": "display_data"
    },
    {
     "name": "stderr",
     "output_type": "stream",
     "text": [
      "Convergence achieved at 16400\n",
      "Interrupted at 16,399 [8%]: Average Loss = 126.55\n",
      "Multiprocess sampling (4 chains in 4 jobs)\n",
      "NUTS: [sigma_y, nu_y, f_gp_rotated_, var, ls, fixed_b, b_shrinkage]\n"
     ]
    },
    {
     "data": {
      "text/html": [
       "\n",
       "    <div>\n",
       "        <style>\n",
       "            /* Turns off some styling */\n",
       "            progress {\n",
       "                /* gets rid of default border in Firefox and Opera. */\n",
       "                border: none;\n",
       "                /* Needs to be in here for Safari polyfill so background images work as expected. */\n",
       "                background-size: auto;\n",
       "            }\n",
       "            .progress-bar-interrupted, .progress-bar-interrupted::-webkit-progress-bar {\n",
       "                background: #F44336;\n",
       "            }\n",
       "        </style>\n",
       "      <progress value='8000' class='' max='8000' style='width:300px; height:20px; vertical-align: middle;'></progress>\n",
       "      100.00% [8000/8000 00:31<00:00 Sampling 4 chains, 4 divergences]\n",
       "    </div>\n",
       "    "
      ],
      "text/plain": [
       "<IPython.core.display.HTML object>"
      ]
     },
     "metadata": {},
     "output_type": "display_data"
    },
    {
     "name": "stderr",
     "output_type": "stream",
     "text": [
      "Sampling 4 chains for 1_500 tune and 500 draw iterations (6_000 + 2_000 draws total) took 31 seconds.\n",
      "There were 2 divergences after tuning. Increase `target_accept` or reparameterize.\n",
      "There was 1 divergence after tuning. Increase `target_accept` or reparameterize.\n",
      "There was 1 divergence after tuning. Increase `target_accept` or reparameterize.\n",
      "The rhat statistic is larger than 1.05 for some parameters. This indicates slight problems during sampling.\n",
      "The estimated number of effective samples is smaller than 200 for some parameters.\n",
      "Got error No model on context stack. trying to find log_likelihood in translation.\n",
      "Got error No model on context stack. trying to find log_likelihood in translation.\n",
      "Got error No model on context stack. trying to find log_likelihood in translation.\n",
      "Got error No model on context stack. trying to find log_likelihood in translation.\n",
      "Got error No model on context stack. trying to find log_likelihood in translation.\n",
      "Got error No model on context stack. trying to find log_likelihood in translation.\n"
     ]
    },
    {
     "name": "stdout",
     "output_type": "stream",
     "text": [
      "\u001b[94mSchizophrenia_Related_Psychosis x Celiac_Disease\u001b[0m\n",
      "\u001b[94mSchizophrenia_Related_Psychosis x Fungal_Infection\u001b[0m\n",
      "ss_log__ -1.1447301\n",
      "shift -2.3025851\n",
      "b_shrinkage_log__ -2.28946\n",
      "fixed_b -7.829342\n",
      "ls_log__ -1.1447301\n",
      "var_log__ -1.1447301\n",
      "f_gp_rotated_ -35.838604\n",
      "nu_y_log__ -0.61370564\n",
      "sigma_y_log__ -0.61370564\n"
     ]
    },
    {
     "name": "stderr",
     "output_type": "stream",
     "text": [
      "Initializing NUTS using advi+adapt_diag...\n"
     ]
    },
    {
     "name": "stdout",
     "output_type": "stream",
     "text": [
      "y -106.846221497661\n"
     ]
    },
    {
     "data": {
      "text/html": [
       "\n",
       "    <div>\n",
       "        <style>\n",
       "            /* Turns off some styling */\n",
       "            progress {\n",
       "                /* gets rid of default border in Firefox and Opera. */\n",
       "                border: none;\n",
       "                /* Needs to be in here for Safari polyfill so background images work as expected. */\n",
       "                background-size: auto;\n",
       "            }\n",
       "            .progress-bar-interrupted, .progress-bar-interrupted::-webkit-progress-bar {\n",
       "                background: #F44336;\n",
       "            }\n",
       "        </style>\n",
       "      <progress value='14523' class='' max='200000' style='width:300px; height:20px; vertical-align: middle;'></progress>\n",
       "      7.26% [14523/200000 00:04<00:58 Average Loss = 109.83]\n",
       "    </div>\n",
       "    "
      ],
      "text/plain": [
       "<IPython.core.display.HTML object>"
      ]
     },
     "metadata": {},
     "output_type": "display_data"
    },
    {
     "name": "stderr",
     "output_type": "stream",
     "text": [
      "Convergence achieved at 15100\n",
      "Interrupted at 15,099 [7%]: Average Loss = 132\n",
      "Multiprocess sampling (4 chains in 4 jobs)\n",
      "NUTS: [sigma_y, nu_y, f_gp_rotated_, var, ls, fixed_b, b_shrinkage, shift, ss]\n"
     ]
    },
    {
     "data": {
      "text/html": [
       "\n",
       "    <div>\n",
       "        <style>\n",
       "            /* Turns off some styling */\n",
       "            progress {\n",
       "                /* gets rid of default border in Firefox and Opera. */\n",
       "                border: none;\n",
       "                /* Needs to be in here for Safari polyfill so background images work as expected. */\n",
       "                background-size: auto;\n",
       "            }\n",
       "            .progress-bar-interrupted, .progress-bar-interrupted::-webkit-progress-bar {\n",
       "                background: #F44336;\n",
       "            }\n",
       "        </style>\n",
       "      <progress value='8000' class='' max='8000' style='width:300px; height:20px; vertical-align: middle;'></progress>\n",
       "      100.00% [8000/8000 01:05<00:00 Sampling 4 chains, 5 divergences]\n",
       "    </div>\n",
       "    "
      ],
      "text/plain": [
       "<IPython.core.display.HTML object>"
      ]
     },
     "metadata": {},
     "output_type": "display_data"
    },
    {
     "name": "stderr",
     "output_type": "stream",
     "text": [
      "Sampling 4 chains for 1_500 tune and 500 draw iterations (6_000 + 2_000 draws total) took 66 seconds.\n",
      "There were 2 divergences after tuning. Increase `target_accept` or reparameterize.\n",
      "There was 1 divergence after tuning. Increase `target_accept` or reparameterize.\n",
      "There were 2 divergences after tuning. Increase `target_accept` or reparameterize.\n",
      "The acceptance probability does not match the target. It is 0.9634932254308577, but should be close to 0.9. Try to increase the number of tuning steps.\n",
      "The rhat statistic is larger than 1.05 for some parameters. This indicates slight problems during sampling.\n",
      "The estimated number of effective samples is smaller than 200 for some parameters.\n",
      "Got error No model on context stack. trying to find log_likelihood in translation.\n",
      "Got error No model on context stack. trying to find log_likelihood in translation.\n",
      "Got error No model on context stack. trying to find log_likelihood in translation.\n",
      "Got error No model on context stack. trying to find log_likelihood in translation.\n",
      "Got error No model on context stack. trying to find log_likelihood in translation.\n",
      "Got error No model on context stack. trying to find log_likelihood in translation.\n"
     ]
    },
    {
     "name": "stdout",
     "output_type": "stream",
     "text": [
      "b_shrinkage_log__ -2.28946\n",
      "fixed_b -7.829342\n",
      "ls_log__ -1.1447301\n",
      "var_log__ -1.1447301\n",
      "f_gp_rotated_ -35.838604\n",
      "nu_y_log__ -0.61370564\n",
      "sigma_y_log__ -0.61370564\n"
     ]
    },
    {
     "name": "stderr",
     "output_type": "stream",
     "text": [
      "Initializing NUTS using advi+adapt_diag...\n"
     ]
    },
    {
     "name": "stdout",
     "output_type": "stream",
     "text": [
      "y -106.846221497661\n"
     ]
    },
    {
     "data": {
      "text/html": [
       "\n",
       "    <div>\n",
       "        <style>\n",
       "            /* Turns off some styling */\n",
       "            progress {\n",
       "                /* gets rid of default border in Firefox and Opera. */\n",
       "                border: none;\n",
       "                /* Needs to be in here for Safari polyfill so background images work as expected. */\n",
       "                background-size: auto;\n",
       "            }\n",
       "            .progress-bar-interrupted, .progress-bar-interrupted::-webkit-progress-bar {\n",
       "                background: #F44336;\n",
       "            }\n",
       "        </style>\n",
       "      <progress value='18315' class='' max='200000' style='width:300px; height:20px; vertical-align: middle;'></progress>\n",
       "      9.16% [18315/200000 00:05<00:55 Average Loss = 106.07]\n",
       "    </div>\n",
       "    "
      ],
      "text/plain": [
       "<IPython.core.display.HTML object>"
      ]
     },
     "metadata": {},
     "output_type": "display_data"
    },
    {
     "name": "stderr",
     "output_type": "stream",
     "text": [
      "Convergence achieved at 18800\n",
      "Interrupted at 18,799 [9%]: Average Loss = 126.49\n",
      "Multiprocess sampling (4 chains in 4 jobs)\n",
      "NUTS: [sigma_y, nu_y, f_gp_rotated_, var, ls, fixed_b, b_shrinkage]\n"
     ]
    },
    {
     "data": {
      "text/html": [
       "\n",
       "    <div>\n",
       "        <style>\n",
       "            /* Turns off some styling */\n",
       "            progress {\n",
       "                /* gets rid of default border in Firefox and Opera. */\n",
       "                border: none;\n",
       "                /* Needs to be in here for Safari polyfill so background images work as expected. */\n",
       "                background-size: auto;\n",
       "            }\n",
       "            .progress-bar-interrupted, .progress-bar-interrupted::-webkit-progress-bar {\n",
       "                background: #F44336;\n",
       "            }\n",
       "        </style>\n",
       "      <progress value='8000' class='' max='8000' style='width:300px; height:20px; vertical-align: middle;'></progress>\n",
       "      100.00% [8000/8000 00:54<00:00 Sampling 4 chains, 1 divergences]\n",
       "    </div>\n",
       "    "
      ],
      "text/plain": [
       "<IPython.core.display.HTML object>"
      ]
     },
     "metadata": {},
     "output_type": "display_data"
    },
    {
     "name": "stderr",
     "output_type": "stream",
     "text": [
      "Sampling 4 chains for 1_500 tune and 500 draw iterations (6_000 + 2_000 draws total) took 55 seconds.\n",
      "There was 1 divergence after tuning. Increase `target_accept` or reparameterize.\n",
      "The rhat statistic is larger than 1.05 for some parameters. This indicates slight problems during sampling.\n",
      "The estimated number of effective samples is smaller than 200 for some parameters.\n",
      "Got error No model on context stack. trying to find log_likelihood in translation.\n",
      "Got error No model on context stack. trying to find log_likelihood in translation.\n",
      "Got error No model on context stack. trying to find log_likelihood in translation.\n",
      "Got error No model on context stack. trying to find log_likelihood in translation.\n",
      "Got error No model on context stack. trying to find log_likelihood in translation.\n",
      "Got error No model on context stack. trying to find log_likelihood in translation.\n"
     ]
    },
    {
     "name": "stdout",
     "output_type": "stream",
     "text": [
      "\u001b[94mSchizophrenia_Related_Psychosis x G6PD\u001b[0m\n",
      "\u001b[94mSchizophrenia_Related_Psychosis x Galactosemia\u001b[0m\n",
      "\u001b[94mSchizophrenia_Related_Psychosis x Gastritis_Duodenitis\u001b[0m\n",
      "\u001b[94mSchizophrenia_Related_Psychosis x Gastrointestinal_Infection\u001b[0m\n",
      "ss_log__ -1.1447301\n",
      "shift -2.3025851\n",
      "b_shrinkage_log__ -2.28946\n",
      "fixed_b -7.829342\n",
      "ls_log__ -1.1447301\n",
      "var_log__ -1.1447301\n",
      "f_gp_rotated_ -34.00073\n",
      "nu_y_log__ -0.61370564\n",
      "sigma_y_log__ -0.61370564\n"
     ]
    },
    {
     "name": "stderr",
     "output_type": "stream",
     "text": [
      "Initializing NUTS using advi+adapt_diag...\n"
     ]
    },
    {
     "name": "stdout",
     "output_type": "stream",
     "text": [
      "y -101.28388341837173\n"
     ]
    },
    {
     "data": {
      "text/html": [
       "\n",
       "    <div>\n",
       "        <style>\n",
       "            /* Turns off some styling */\n",
       "            progress {\n",
       "                /* gets rid of default border in Firefox and Opera. */\n",
       "                border: none;\n",
       "                /* Needs to be in here for Safari polyfill so background images work as expected. */\n",
       "                background-size: auto;\n",
       "            }\n",
       "            .progress-bar-interrupted, .progress-bar-interrupted::-webkit-progress-bar {\n",
       "                background: #F44336;\n",
       "            }\n",
       "        </style>\n",
       "      <progress value='16084' class='' max='200000' style='width:300px; height:20px; vertical-align: middle;'></progress>\n",
       "      8.04% [16084/200000 00:05<00:57 Average Loss = 101.76]\n",
       "    </div>\n",
       "    "
      ],
      "text/plain": [
       "<IPython.core.display.HTML object>"
      ]
     },
     "metadata": {},
     "output_type": "display_data"
    },
    {
     "name": "stderr",
     "output_type": "stream",
     "text": [
      "Convergence achieved at 16300\n",
      "Interrupted at 16,299 [8%]: Average Loss = 121.14\n",
      "Multiprocess sampling (4 chains in 4 jobs)\n",
      "NUTS: [sigma_y, nu_y, f_gp_rotated_, var, ls, fixed_b, b_shrinkage, shift, ss]\n"
     ]
    },
    {
     "data": {
      "text/html": [
       "\n",
       "    <div>\n",
       "        <style>\n",
       "            /* Turns off some styling */\n",
       "            progress {\n",
       "                /* gets rid of default border in Firefox and Opera. */\n",
       "                border: none;\n",
       "                /* Needs to be in here for Safari polyfill so background images work as expected. */\n",
       "                background-size: auto;\n",
       "            }\n",
       "            .progress-bar-interrupted, .progress-bar-interrupted::-webkit-progress-bar {\n",
       "                background: #F44336;\n",
       "            }\n",
       "        </style>\n",
       "      <progress value='8000' class='' max='8000' style='width:300px; height:20px; vertical-align: middle;'></progress>\n",
       "      100.00% [8000/8000 00:44<00:00 Sampling 4 chains, 6 divergences]\n",
       "    </div>\n",
       "    "
      ],
      "text/plain": [
       "<IPython.core.display.HTML object>"
      ]
     },
     "metadata": {},
     "output_type": "display_data"
    },
    {
     "name": "stderr",
     "output_type": "stream",
     "text": [
      "Sampling 4 chains for 1_500 tune and 500 draw iterations (6_000 + 2_000 draws total) took 45 seconds.\n",
      "There was 1 divergence after tuning. Increase `target_accept` or reparameterize.\n",
      "There were 2 divergences after tuning. Increase `target_accept` or reparameterize.\n",
      "There were 3 divergences after tuning. Increase `target_accept` or reparameterize.\n",
      "The estimated number of effective samples is smaller than 200 for some parameters.\n",
      "Got error No model on context stack. trying to find log_likelihood in translation.\n",
      "Got error No model on context stack. trying to find log_likelihood in translation.\n",
      "Got error No model on context stack. trying to find log_likelihood in translation.\n",
      "Got error No model on context stack. trying to find log_likelihood in translation.\n",
      "Got error No model on context stack. trying to find log_likelihood in translation.\n",
      "Got error No model on context stack. trying to find log_likelihood in translation.\n"
     ]
    },
    {
     "name": "stdout",
     "output_type": "stream",
     "text": [
      "b_shrinkage_log__ -2.28946\n",
      "fixed_b -7.829342\n",
      "ls_log__ -1.1447301\n",
      "var_log__ -1.1447301\n",
      "f_gp_rotated_ -34.00073\n",
      "nu_y_log__ -0.61370564\n",
      "sigma_y_log__ -0.61370564\n"
     ]
    },
    {
     "name": "stderr",
     "output_type": "stream",
     "text": [
      "Initializing NUTS using advi+adapt_diag...\n"
     ]
    },
    {
     "name": "stdout",
     "output_type": "stream",
     "text": [
      "y -101.28388341837173\n"
     ]
    },
    {
     "data": {
      "text/html": [
       "\n",
       "    <div>\n",
       "        <style>\n",
       "            /* Turns off some styling */\n",
       "            progress {\n",
       "                /* gets rid of default border in Firefox and Opera. */\n",
       "                border: none;\n",
       "                /* Needs to be in here for Safari polyfill so background images work as expected. */\n",
       "                background-size: auto;\n",
       "            }\n",
       "            .progress-bar-interrupted, .progress-bar-interrupted::-webkit-progress-bar {\n",
       "                background: #F44336;\n",
       "            }\n",
       "        </style>\n",
       "      <progress value='14945' class='' max='200000' style='width:300px; height:20px; vertical-align: middle;'></progress>\n",
       "      7.47% [14945/200000 00:04<00:55 Average Loss = 101.75]\n",
       "    </div>\n",
       "    "
      ],
      "text/plain": [
       "<IPython.core.display.HTML object>"
      ]
     },
     "metadata": {},
     "output_type": "display_data"
    },
    {
     "name": "stderr",
     "output_type": "stream",
     "text": [
      "Convergence achieved at 15200\n",
      "Interrupted at 15,199 [7%]: Average Loss = 121.75\n",
      "Multiprocess sampling (4 chains in 4 jobs)\n",
      "NUTS: [sigma_y, nu_y, f_gp_rotated_, var, ls, fixed_b, b_shrinkage]\n"
     ]
    },
    {
     "data": {
      "text/html": [
       "\n",
       "    <div>\n",
       "        <style>\n",
       "            /* Turns off some styling */\n",
       "            progress {\n",
       "                /* gets rid of default border in Firefox and Opera. */\n",
       "                border: none;\n",
       "                /* Needs to be in here for Safari polyfill so background images work as expected. */\n",
       "                background-size: auto;\n",
       "            }\n",
       "            .progress-bar-interrupted, .progress-bar-interrupted::-webkit-progress-bar {\n",
       "                background: #F44336;\n",
       "            }\n",
       "        </style>\n",
       "      <progress value='8000' class='' max='8000' style='width:300px; height:20px; vertical-align: middle;'></progress>\n",
       "      100.00% [8000/8000 00:35<00:00 Sampling 4 chains, 7 divergences]\n",
       "    </div>\n",
       "    "
      ],
      "text/plain": [
       "<IPython.core.display.HTML object>"
      ]
     },
     "metadata": {},
     "output_type": "display_data"
    },
    {
     "name": "stderr",
     "output_type": "stream",
     "text": [
      "Sampling 4 chains for 1_500 tune and 500 draw iterations (6_000 + 2_000 draws total) took 36 seconds.\n",
      "There was 1 divergence after tuning. Increase `target_accept` or reparameterize.\n",
      "There were 3 divergences after tuning. Increase `target_accept` or reparameterize.\n",
      "There was 1 divergence after tuning. Increase `target_accept` or reparameterize.\n",
      "There were 2 divergences after tuning. Increase `target_accept` or reparameterize.\n",
      "The acceptance probability does not match the target. It is 0.8400837164173115, but should be close to 0.9. Try to increase the number of tuning steps.\n",
      "The estimated number of effective samples is smaller than 200 for some parameters.\n",
      "Got error No model on context stack. trying to find log_likelihood in translation.\n",
      "Got error No model on context stack. trying to find log_likelihood in translation.\n",
      "Got error No model on context stack. trying to find log_likelihood in translation.\n",
      "Got error No model on context stack. trying to find log_likelihood in translation.\n",
      "Got error No model on context stack. trying to find log_likelihood in translation.\n",
      "Got error No model on context stack. trying to find log_likelihood in translation.\n"
     ]
    },
    {
     "name": "stdout",
     "output_type": "stream",
     "text": [
      "\u001b[94mSchizophrenia_Related_Psychosis x Gastrointestinal_Ulcer\u001b[0m\n",
      "\u001b[94mSchizophrenia_Related_Psychosis x General_Bacterial_Infection\u001b[0m\n",
      "\u001b[94mSchizophrenia_Related_Psychosis x General_Cerebral_Degeneration\u001b[0m\n",
      "\u001b[94mSchizophrenia_Related_Psychosis x General_Dementia\u001b[0m\n",
      "\u001b[94mSchizophrenia_Related_Psychosis x General_Ear_Disorder\u001b[0m\n",
      "ss_log__ -1.1447301\n",
      "shift -2.3025851\n",
      "b_shrinkage_log__ -2.28946\n",
      "fixed_b -7.829342\n",
      "ls_log__ -1.1447301\n",
      "var_log__ -1.1447301\n",
      "f_gp_rotated_ -37.676483\n",
      "nu_y_log__ -0.61370564\n",
      "sigma_y_log__ -0.61370564\n"
     ]
    },
    {
     "name": "stderr",
     "output_type": "stream",
     "text": [
      "Initializing NUTS using advi+adapt_diag...\n"
     ]
    },
    {
     "name": "stdout",
     "output_type": "stream",
     "text": [
      "y -119.1215630132454\n"
     ]
    },
    {
     "data": {
      "text/html": [
       "\n",
       "    <div>\n",
       "        <style>\n",
       "            /* Turns off some styling */\n",
       "            progress {\n",
       "                /* gets rid of default border in Firefox and Opera. */\n",
       "                border: none;\n",
       "                /* Needs to be in here for Safari polyfill so background images work as expected. */\n",
       "                background-size: auto;\n",
       "            }\n",
       "            .progress-bar-interrupted, .progress-bar-interrupted::-webkit-progress-bar {\n",
       "                background: #F44336;\n",
       "            }\n",
       "        </style>\n",
       "      <progress value='15918' class='' max='200000' style='width:300px; height:20px; vertical-align: middle;'></progress>\n",
       "      7.96% [15918/200000 00:05<01:00 Average Loss = 109.3]\n",
       "    </div>\n",
       "    "
      ],
      "text/plain": [
       "<IPython.core.display.HTML object>"
      ]
     },
     "metadata": {},
     "output_type": "display_data"
    },
    {
     "name": "stderr",
     "output_type": "stream",
     "text": [
      "Convergence achieved at 16500\n",
      "Interrupted at 16,499 [8%]: Average Loss = 131.66\n",
      "Multiprocess sampling (4 chains in 4 jobs)\n",
      "NUTS: [sigma_y, nu_y, f_gp_rotated_, var, ls, fixed_b, b_shrinkage, shift, ss]\n"
     ]
    },
    {
     "data": {
      "text/html": [
       "\n",
       "    <div>\n",
       "        <style>\n",
       "            /* Turns off some styling */\n",
       "            progress {\n",
       "                /* gets rid of default border in Firefox and Opera. */\n",
       "                border: none;\n",
       "                /* Needs to be in here for Safari polyfill so background images work as expected. */\n",
       "                background-size: auto;\n",
       "            }\n",
       "            .progress-bar-interrupted, .progress-bar-interrupted::-webkit-progress-bar {\n",
       "                background: #F44336;\n",
       "            }\n",
       "        </style>\n",
       "      <progress value='8000' class='' max='8000' style='width:300px; height:20px; vertical-align: middle;'></progress>\n",
       "      100.00% [8000/8000 00:51<00:00 Sampling 4 chains, 21 divergences]\n",
       "    </div>\n",
       "    "
      ],
      "text/plain": [
       "<IPython.core.display.HTML object>"
      ]
     },
     "metadata": {},
     "output_type": "display_data"
    },
    {
     "name": "stderr",
     "output_type": "stream",
     "text": [
      "Sampling 4 chains for 1_500 tune and 500 draw iterations (6_000 + 2_000 draws total) took 51 seconds.\n",
      "There were 3 divergences after tuning. Increase `target_accept` or reparameterize.\n",
      "The acceptance probability does not match the target. It is 0.6728773544348531, but should be close to 0.9. Try to increase the number of tuning steps.\n",
      "There were 18 divergences after tuning. Increase `target_accept` or reparameterize.\n",
      "The acceptance probability does not match the target. It is 0.7005513263451036, but should be close to 0.9. Try to increase the number of tuning steps.\n",
      "The rhat statistic is larger than 1.2 for some parameters.\n",
      "The estimated number of effective samples is smaller than 200 for some parameters.\n",
      "Got error No model on context stack. trying to find log_likelihood in translation.\n",
      "Got error No model on context stack. trying to find log_likelihood in translation.\n",
      "Got error No model on context stack. trying to find log_likelihood in translation.\n",
      "Got error No model on context stack. trying to find log_likelihood in translation.\n",
      "Got error No model on context stack. trying to find log_likelihood in translation.\n",
      "Got error No model on context stack. trying to find log_likelihood in translation.\n"
     ]
    },
    {
     "name": "stdout",
     "output_type": "stream",
     "text": [
      "b_shrinkage_log__ -2.28946\n",
      "fixed_b -7.829342\n",
      "ls_log__ -1.1447301\n",
      "var_log__ -1.1447301\n",
      "f_gp_rotated_ -37.676483\n",
      "nu_y_log__ -0.61370564\n",
      "sigma_y_log__ -0.61370564\n"
     ]
    },
    {
     "name": "stderr",
     "output_type": "stream",
     "text": [
      "Initializing NUTS using advi+adapt_diag...\n"
     ]
    },
    {
     "name": "stdout",
     "output_type": "stream",
     "text": [
      "y -119.1215630132454\n"
     ]
    },
    {
     "data": {
      "text/html": [
       "\n",
       "    <div>\n",
       "        <style>\n",
       "            /* Turns off some styling */\n",
       "            progress {\n",
       "                /* gets rid of default border in Firefox and Opera. */\n",
       "                border: none;\n",
       "                /* Needs to be in here for Safari polyfill so background images work as expected. */\n",
       "                background-size: auto;\n",
       "            }\n",
       "            .progress-bar-interrupted, .progress-bar-interrupted::-webkit-progress-bar {\n",
       "                background: #F44336;\n",
       "            }\n",
       "        </style>\n",
       "      <progress value='17294' class='' max='200000' style='width:300px; height:20px; vertical-align: middle;'></progress>\n",
       "      8.65% [17294/200000 00:05<00:57 Average Loss = 106.75]\n",
       "    </div>\n",
       "    "
      ],
      "text/plain": [
       "<IPython.core.display.HTML object>"
      ]
     },
     "metadata": {},
     "output_type": "display_data"
    },
    {
     "name": "stderr",
     "output_type": "stream",
     "text": [
      "Convergence achieved at 17700\n",
      "Interrupted at 17,699 [8%]: Average Loss = 129.03\n",
      "Multiprocess sampling (4 chains in 4 jobs)\n",
      "NUTS: [sigma_y, nu_y, f_gp_rotated_, var, ls, fixed_b, b_shrinkage]\n"
     ]
    },
    {
     "data": {
      "text/html": [
       "\n",
       "    <div>\n",
       "        <style>\n",
       "            /* Turns off some styling */\n",
       "            progress {\n",
       "                /* gets rid of default border in Firefox and Opera. */\n",
       "                border: none;\n",
       "                /* Needs to be in here for Safari polyfill so background images work as expected. */\n",
       "                background-size: auto;\n",
       "            }\n",
       "            .progress-bar-interrupted, .progress-bar-interrupted::-webkit-progress-bar {\n",
       "                background: #F44336;\n",
       "            }\n",
       "        </style>\n",
       "      <progress value='8000' class='' max='8000' style='width:300px; height:20px; vertical-align: middle;'></progress>\n",
       "      100.00% [8000/8000 00:43<00:00 Sampling 4 chains, 1 divergences]\n",
       "    </div>\n",
       "    "
      ],
      "text/plain": [
       "<IPython.core.display.HTML object>"
      ]
     },
     "metadata": {},
     "output_type": "display_data"
    },
    {
     "name": "stderr",
     "output_type": "stream",
     "text": [
      "Sampling 4 chains for 1_500 tune and 500 draw iterations (6_000 + 2_000 draws total) took 43 seconds.\n",
      "There was 1 divergence after tuning. Increase `target_accept` or reparameterize.\n",
      "The acceptance probability does not match the target. It is 0.7151430957442297, but should be close to 0.9. Try to increase the number of tuning steps.\n",
      "The rhat statistic is larger than 1.05 for some parameters. This indicates slight problems during sampling.\n",
      "The estimated number of effective samples is smaller than 200 for some parameters.\n",
      "Got error No model on context stack. trying to find log_likelihood in translation.\n",
      "Got error No model on context stack. trying to find log_likelihood in translation.\n",
      "Got error No model on context stack. trying to find log_likelihood in translation.\n",
      "Got error No model on context stack. trying to find log_likelihood in translation.\n",
      "Got error No model on context stack. trying to find log_likelihood in translation.\n",
      "Got error No model on context stack. trying to find log_likelihood in translation.\n"
     ]
    },
    {
     "name": "stdout",
     "output_type": "stream",
     "text": [
      "\u001b[94mSchizophrenia_Related_Psychosis x General_Hypertension\u001b[0m\n",
      "\u001b[94mSchizophrenia_Related_Psychosis x General_Osteochondropathy\u001b[0m\n",
      "\u001b[94mSchizophrenia_Related_Psychosis x General_Paralysis\u001b[0m\n",
      "\u001b[94mSchizophrenia_Related_Psychosis x General_Spondylosis_Spine_Disorder\u001b[0m\n",
      "\u001b[94mSchizophrenia_Related_Psychosis x General_Thrombocytopenia\u001b[0m\n",
      "\u001b[94mSchizophrenia_Related_Psychosis x General_Viral_Infection\u001b[0m\n",
      "ss_log__ -1.1447301\n",
      "shift -2.3025851\n",
      "b_shrinkage_log__ -2.28946\n",
      "fixed_b -7.829342\n",
      "ls_log__ -1.1447301\n",
      "var_log__ -1.1447301\n",
      "f_gp_rotated_ -45.94693\n",
      "nu_y_log__ -0.61370564\n",
      "sigma_y_log__ -0.61370564\n"
     ]
    },
    {
     "name": "stderr",
     "output_type": "stream",
     "text": [
      "Initializing NUTS using advi+adapt_diag...\n"
     ]
    },
    {
     "name": "stdout",
     "output_type": "stream",
     "text": [
      "y -201.70600714170652\n"
     ]
    },
    {
     "data": {
      "text/html": [
       "\n",
       "    <div>\n",
       "        <style>\n",
       "            /* Turns off some styling */\n",
       "            progress {\n",
       "                /* gets rid of default border in Firefox and Opera. */\n",
       "                border: none;\n",
       "                /* Needs to be in here for Safari polyfill so background images work as expected. */\n",
       "                background-size: auto;\n",
       "            }\n",
       "            .progress-bar-interrupted, .progress-bar-interrupted::-webkit-progress-bar {\n",
       "                background: #F44336;\n",
       "            }\n",
       "        </style>\n",
       "      <progress value='15903' class='' max='200000' style='width:300px; height:20px; vertical-align: middle;'></progress>\n",
       "      7.95% [15903/200000 00:05<01:05 Average Loss = 172.69]\n",
       "    </div>\n",
       "    "
      ],
      "text/plain": [
       "<IPython.core.display.HTML object>"
      ]
     },
     "metadata": {},
     "output_type": "display_data"
    },
    {
     "name": "stderr",
     "output_type": "stream",
     "text": [
      "Convergence achieved at 16400\n",
      "Interrupted at 16,399 [8%]: Average Loss = 197.07\n",
      "Multiprocess sampling (4 chains in 4 jobs)\n",
      "NUTS: [sigma_y, nu_y, f_gp_rotated_, var, ls, fixed_b, b_shrinkage, shift, ss]\n"
     ]
    },
    {
     "data": {
      "text/html": [
       "\n",
       "    <div>\n",
       "        <style>\n",
       "            /* Turns off some styling */\n",
       "            progress {\n",
       "                /* gets rid of default border in Firefox and Opera. */\n",
       "                border: none;\n",
       "                /* Needs to be in here for Safari polyfill so background images work as expected. */\n",
       "                background-size: auto;\n",
       "            }\n",
       "            .progress-bar-interrupted, .progress-bar-interrupted::-webkit-progress-bar {\n",
       "                background: #F44336;\n",
       "            }\n",
       "        </style>\n",
       "      <progress value='8000' class='' max='8000' style='width:300px; height:20px; vertical-align: middle;'></progress>\n",
       "      100.00% [8000/8000 00:50<00:00 Sampling 4 chains, 5 divergences]\n",
       "    </div>\n",
       "    "
      ],
      "text/plain": [
       "<IPython.core.display.HTML object>"
      ]
     },
     "metadata": {},
     "output_type": "display_data"
    },
    {
     "name": "stderr",
     "output_type": "stream",
     "text": [
      "Sampling 4 chains for 1_500 tune and 500 draw iterations (6_000 + 2_000 draws total) took 51 seconds.\n",
      "There was 1 divergence after tuning. Increase `target_accept` or reparameterize.\n",
      "There was 1 divergence after tuning. Increase `target_accept` or reparameterize.\n",
      "There was 1 divergence after tuning. Increase `target_accept` or reparameterize.\n",
      "There were 2 divergences after tuning. Increase `target_accept` or reparameterize.\n",
      "The number of effective samples is smaller than 25% for some parameters.\n",
      "Got error No model on context stack. trying to find log_likelihood in translation.\n",
      "Got error No model on context stack. trying to find log_likelihood in translation.\n",
      "Got error No model on context stack. trying to find log_likelihood in translation.\n",
      "Got error No model on context stack. trying to find log_likelihood in translation.\n",
      "Got error No model on context stack. trying to find log_likelihood in translation.\n",
      "Got error No model on context stack. trying to find log_likelihood in translation.\n"
     ]
    },
    {
     "name": "stdout",
     "output_type": "stream",
     "text": [
      "b_shrinkage_log__ -2.28946\n",
      "fixed_b -7.829342\n",
      "ls_log__ -1.1447301\n",
      "var_log__ -1.1447301\n",
      "f_gp_rotated_ -45.94693\n",
      "nu_y_log__ -0.61370564\n",
      "sigma_y_log__ -0.61370564\n"
     ]
    },
    {
     "name": "stderr",
     "output_type": "stream",
     "text": [
      "Initializing NUTS using advi+adapt_diag...\n"
     ]
    },
    {
     "name": "stdout",
     "output_type": "stream",
     "text": [
      "y -201.70600714170652\n"
     ]
    },
    {
     "data": {
      "text/html": [
       "\n",
       "    <div>\n",
       "        <style>\n",
       "            /* Turns off some styling */\n",
       "            progress {\n",
       "                /* gets rid of default border in Firefox and Opera. */\n",
       "                border: none;\n",
       "                /* Needs to be in here for Safari polyfill so background images work as expected. */\n",
       "                background-size: auto;\n",
       "            }\n",
       "            .progress-bar-interrupted, .progress-bar-interrupted::-webkit-progress-bar {\n",
       "                background: #F44336;\n",
       "            }\n",
       "        </style>\n",
       "      <progress value='15119' class='' max='200000' style='width:300px; height:20px; vertical-align: middle;'></progress>\n",
       "      7.56% [15119/200000 00:05<01:01 Average Loss = 173.24]\n",
       "    </div>\n",
       "    "
      ],
      "text/plain": [
       "<IPython.core.display.HTML object>"
      ]
     },
     "metadata": {},
     "output_type": "display_data"
    },
    {
     "name": "stderr",
     "output_type": "stream",
     "text": [
      "Convergence achieved at 15500\n",
      "Interrupted at 15,499 [7%]: Average Loss = 198.04\n",
      "Multiprocess sampling (4 chains in 4 jobs)\n",
      "NUTS: [sigma_y, nu_y, f_gp_rotated_, var, ls, fixed_b, b_shrinkage]\n"
     ]
    },
    {
     "data": {
      "text/html": [
       "\n",
       "    <div>\n",
       "        <style>\n",
       "            /* Turns off some styling */\n",
       "            progress {\n",
       "                /* gets rid of default border in Firefox and Opera. */\n",
       "                border: none;\n",
       "                /* Needs to be in here for Safari polyfill so background images work as expected. */\n",
       "                background-size: auto;\n",
       "            }\n",
       "            .progress-bar-interrupted, .progress-bar-interrupted::-webkit-progress-bar {\n",
       "                background: #F44336;\n",
       "            }\n",
       "        </style>\n",
       "      <progress value='8000' class='' max='8000' style='width:300px; height:20px; vertical-align: middle;'></progress>\n",
       "      100.00% [8000/8000 00:46<00:00 Sampling 4 chains, 1 divergences]\n",
       "    </div>\n",
       "    "
      ],
      "text/plain": [
       "<IPython.core.display.HTML object>"
      ]
     },
     "metadata": {},
     "output_type": "display_data"
    },
    {
     "name": "stderr",
     "output_type": "stream",
     "text": [
      "Sampling 4 chains for 1_500 tune and 500 draw iterations (6_000 + 2_000 draws total) took 48 seconds.\n",
      "There was 1 divergence after tuning. Increase `target_accept` or reparameterize.\n",
      "The number of effective samples is smaller than 25% for some parameters.\n",
      "Got error No model on context stack. trying to find log_likelihood in translation.\n",
      "Got error No model on context stack. trying to find log_likelihood in translation.\n",
      "Got error No model on context stack. trying to find log_likelihood in translation.\n",
      "Got error No model on context stack. trying to find log_likelihood in translation.\n",
      "Got error No model on context stack. trying to find log_likelihood in translation.\n",
      "Got error No model on context stack. trying to find log_likelihood in translation.\n"
     ]
    },
    {
     "name": "stdout",
     "output_type": "stream",
     "text": [
      "\u001b[94mSchizophrenia_Related_Psychosis x Generalized_Digestive_Cancer\u001b[0m\n",
      "\u001b[94mSchizophrenia_Related_Psychosis x Generalized_Lipidoses\u001b[0m\n",
      "\u001b[94mSchizophrenia_Related_Psychosis x Genetic_Anomolies_of_Leukocytes\u001b[0m\n",
      "\u001b[94mSchizophrenia_Related_Psychosis x Gestational_Pregnancy_Related_Disorder\u001b[0m\n",
      "ss_log__ -1.1447301\n",
      "shift -2.3025851\n",
      "b_shrinkage_log__ -2.28946\n",
      "fixed_b -7.829342\n",
      "ls_log__ -1.1447301\n",
      "var_log__ -1.1447301\n",
      "f_gp_rotated_ -35.838604\n",
      "nu_y_log__ -0.61370564\n",
      "sigma_y_log__ -0.61370564\n"
     ]
    },
    {
     "name": "stderr",
     "output_type": "stream",
     "text": [
      "Initializing NUTS using advi+adapt_diag...\n"
     ]
    },
    {
     "name": "stdout",
     "output_type": "stream",
     "text": [
      "y -158.04963813011608\n"
     ]
    },
    {
     "data": {
      "text/html": [
       "\n",
       "    <div>\n",
       "        <style>\n",
       "            /* Turns off some styling */\n",
       "            progress {\n",
       "                /* gets rid of default border in Firefox and Opera. */\n",
       "                border: none;\n",
       "                /* Needs to be in here for Safari polyfill so background images work as expected. */\n",
       "                background-size: auto;\n",
       "            }\n",
       "            .progress-bar-interrupted, .progress-bar-interrupted::-webkit-progress-bar {\n",
       "                background: #F44336;\n",
       "            }\n",
       "        </style>\n",
       "      <progress value='13312' class='' max='200000' style='width:300px; height:20px; vertical-align: middle;'></progress>\n",
       "      6.66% [13312/200000 00:04<00:59 Average Loss = 133.63]\n",
       "    </div>\n",
       "    "
      ],
      "text/plain": [
       "<IPython.core.display.HTML object>"
      ]
     },
     "metadata": {},
     "output_type": "display_data"
    },
    {
     "name": "stderr",
     "output_type": "stream",
     "text": [
      "Convergence achieved at 13900\n",
      "Interrupted at 13,899 [6%]: Average Loss = 157.64\n",
      "Multiprocess sampling (4 chains in 4 jobs)\n",
      "NUTS: [sigma_y, nu_y, f_gp_rotated_, var, ls, fixed_b, b_shrinkage, shift, ss]\n"
     ]
    },
    {
     "data": {
      "text/html": [
       "\n",
       "    <div>\n",
       "        <style>\n",
       "            /* Turns off some styling */\n",
       "            progress {\n",
       "                /* gets rid of default border in Firefox and Opera. */\n",
       "                border: none;\n",
       "                /* Needs to be in here for Safari polyfill so background images work as expected. */\n",
       "                background-size: auto;\n",
       "            }\n",
       "            .progress-bar-interrupted, .progress-bar-interrupted::-webkit-progress-bar {\n",
       "                background: #F44336;\n",
       "            }\n",
       "        </style>\n",
       "      <progress value='8000' class='' max='8000' style='width:300px; height:20px; vertical-align: middle;'></progress>\n",
       "      100.00% [8000/8000 00:59<00:00 Sampling 4 chains, 2 divergences]\n",
       "    </div>\n",
       "    "
      ],
      "text/plain": [
       "<IPython.core.display.HTML object>"
      ]
     },
     "metadata": {},
     "output_type": "display_data"
    },
    {
     "name": "stderr",
     "output_type": "stream",
     "text": [
      "Sampling 4 chains for 1_500 tune and 500 draw iterations (6_000 + 2_000 draws total) took 60 seconds.\n",
      "There were 2 divergences after tuning. Increase `target_accept` or reparameterize.\n",
      "The number of effective samples is smaller than 25% for some parameters.\n",
      "Got error No model on context stack. trying to find log_likelihood in translation.\n",
      "Got error No model on context stack. trying to find log_likelihood in translation.\n",
      "Got error No model on context stack. trying to find log_likelihood in translation.\n",
      "Got error No model on context stack. trying to find log_likelihood in translation.\n",
      "Got error No model on context stack. trying to find log_likelihood in translation.\n",
      "Got error No model on context stack. trying to find log_likelihood in translation.\n"
     ]
    },
    {
     "name": "stdout",
     "output_type": "stream",
     "text": [
      "b_shrinkage_log__ -2.28946\n",
      "fixed_b -7.829342\n",
      "ls_log__ -1.1447301\n",
      "var_log__ -1.1447301\n",
      "f_gp_rotated_ -35.838604\n",
      "nu_y_log__ -0.61370564\n",
      "sigma_y_log__ -0.61370564\n"
     ]
    },
    {
     "name": "stderr",
     "output_type": "stream",
     "text": [
      "Initializing NUTS using advi+adapt_diag...\n"
     ]
    },
    {
     "name": "stdout",
     "output_type": "stream",
     "text": [
      "y -158.04963813011608\n"
     ]
    },
    {
     "data": {
      "text/html": [
       "\n",
       "    <div>\n",
       "        <style>\n",
       "            /* Turns off some styling */\n",
       "            progress {\n",
       "                /* gets rid of default border in Firefox and Opera. */\n",
       "                border: none;\n",
       "                /* Needs to be in here for Safari polyfill so background images work as expected. */\n",
       "                background-size: auto;\n",
       "            }\n",
       "            .progress-bar-interrupted, .progress-bar-interrupted::-webkit-progress-bar {\n",
       "                background: #F44336;\n",
       "            }\n",
       "        </style>\n",
       "      <progress value='14919' class='' max='200000' style='width:300px; height:20px; vertical-align: middle;'></progress>\n",
       "      7.46% [14919/200000 00:04<00:55 Average Loss = 130.86]\n",
       "    </div>\n",
       "    "
      ],
      "text/plain": [
       "<IPython.core.display.HTML object>"
      ]
     },
     "metadata": {},
     "output_type": "display_data"
    },
    {
     "name": "stderr",
     "output_type": "stream",
     "text": [
      "Convergence achieved at 15500\n",
      "Interrupted at 15,499 [7%]: Average Loss = 154.42\n",
      "Multiprocess sampling (4 chains in 4 jobs)\n",
      "NUTS: [sigma_y, nu_y, f_gp_rotated_, var, ls, fixed_b, b_shrinkage]\n"
     ]
    },
    {
     "data": {
      "text/html": [
       "\n",
       "    <div>\n",
       "        <style>\n",
       "            /* Turns off some styling */\n",
       "            progress {\n",
       "                /* gets rid of default border in Firefox and Opera. */\n",
       "                border: none;\n",
       "                /* Needs to be in here for Safari polyfill so background images work as expected. */\n",
       "                background-size: auto;\n",
       "            }\n",
       "            .progress-bar-interrupted, .progress-bar-interrupted::-webkit-progress-bar {\n",
       "                background: #F44336;\n",
       "            }\n",
       "        </style>\n",
       "      <progress value='8000' class='' max='8000' style='width:300px; height:20px; vertical-align: middle;'></progress>\n",
       "      100.00% [8000/8000 00:49<00:00 Sampling 4 chains, 2 divergences]\n",
       "    </div>\n",
       "    "
      ],
      "text/plain": [
       "<IPython.core.display.HTML object>"
      ]
     },
     "metadata": {},
     "output_type": "display_data"
    },
    {
     "name": "stderr",
     "output_type": "stream",
     "text": [
      "Sampling 4 chains for 1_500 tune and 500 draw iterations (6_000 + 2_000 draws total) took 50 seconds.\n",
      "There were 2 divergences after tuning. Increase `target_accept` or reparameterize.\n",
      "The number of effective samples is smaller than 25% for some parameters.\n",
      "Got error No model on context stack. trying to find log_likelihood in translation.\n",
      "Got error No model on context stack. trying to find log_likelihood in translation.\n",
      "Got error No model on context stack. trying to find log_likelihood in translation.\n",
      "Got error No model on context stack. trying to find log_likelihood in translation.\n",
      "Got error No model on context stack. trying to find log_likelihood in translation.\n",
      "Got error No model on context stack. trying to find log_likelihood in translation.\n"
     ]
    },
    {
     "name": "stdout",
     "output_type": "stream",
     "text": [
      "\u001b[94mSchizophrenia_Related_Psychosis x Glaucoma\u001b[0m\n",
      "\u001b[94mSchizophrenia_Related_Psychosis x Globe_Disorders\u001b[0m\n",
      "\u001b[94mSchizophrenia_Related_Psychosis x Glucocorticoid-Remediable_Aldosteronism\u001b[0m\n",
      "\u001b[94mSchizophrenia_Related_Psychosis x Glycogenosis\u001b[0m\n",
      "\u001b[94mSchizophrenia_Related_Psychosis x Goiter\u001b[0m\n",
      "\u001b[94mSchizophrenia_Related_Psychosis x Gout_Related_Crystal_Arthropathies\u001b[0m\n",
      "\u001b[94mSchizophrenia_Related_Psychosis x Graves_Disease\u001b[0m\n",
      "\u001b[94mSchizophrenia_Related_Psychosis x Growth_Hormone_Deficiency\u001b[0m\n",
      "\u001b[94mSchizophrenia_Related_Psychosis x HIV\u001b[0m\n",
      "\u001b[94mSchizophrenia_Related_Psychosis x Haemophilia_Related_Diseases\u001b[0m\n",
      "\u001b[94mSchizophrenia_Related_Psychosis x Hair_Related_Disease\u001b[0m\n",
      "\u001b[94mSchizophrenia_Related_Psychosis x Hearing_Loss\u001b[0m\n",
      "\u001b[94mSchizophrenia_Related_Psychosis x Helicobacter_Pylori_Infection\u001b[0m\n",
      "\u001b[94mSchizophrenia_Related_Psychosis x Hemangioma_Lymphangioma\u001b[0m\n",
      "\u001b[94mSchizophrenia_Related_Psychosis x Hemiplegia\u001b[0m\n",
      "\u001b[94mSchizophrenia_Related_Psychosis x Hepatobiliary_Cancer\u001b[0m\n",
      "\u001b[94mSchizophrenia_Related_Psychosis x Hepatobiliary_Congenital_Anomaly\u001b[0m\n",
      "\u001b[94mSchizophrenia_Related_Psychosis x Hereditary_Blepharophimosis\u001b[0m\n",
      "\u001b[94mSchizophrenia_Related_Psychosis x Hereditary_Breast_Cancer\u001b[0m\n",
      "\u001b[94mSchizophrenia_Related_Psychosis x Hereditary_Color_Blindness\u001b[0m\n",
      "\u001b[94mSchizophrenia_Related_Psychosis x Hereditary_Corneal_Dystrophy\u001b[0m\n",
      "\u001b[94mSchizophrenia_Related_Psychosis x Hereditary_Dental_Anomaly\u001b[0m\n",
      "\u001b[94mSchizophrenia_Related_Psychosis x Hereditary_Elliptocytosis\u001b[0m\n",
      "\u001b[94mSchizophrenia_Related_Psychosis x Hereditary_Face_Skull_Anomalies\u001b[0m\n",
      "\u001b[94mSchizophrenia_Related_Psychosis x Hereditary_Fructose_Intolerance\u001b[0m\n",
      "\u001b[94mSchizophrenia_Related_Psychosis x Hereditary_Harartoses\u001b[0m\n",
      "\u001b[94mSchizophrenia_Related_Psychosis x Hereditary_Hemochromatosis\u001b[0m\n",
      "\u001b[94mSchizophrenia_Related_Psychosis x Hereditary_Hemoglobin_Disease\u001b[0m\n",
      "\u001b[94mSchizophrenia_Related_Psychosis x Hereditary_Hemorrhagic_Telangiectasia\u001b[0m\n",
      "\u001b[94mSchizophrenia_Related_Psychosis x Hereditary_Lymphadema\u001b[0m\n",
      "\u001b[94mSchizophrenia_Related_Psychosis x Hereditary_Muscular_Dystrophy\u001b[0m\n",
      "\u001b[94mSchizophrenia_Related_Psychosis x Hereditary_Night_Blindness\u001b[0m\n",
      "\u001b[94mSchizophrenia_Related_Psychosis x Hereditary_Polycythemia_Vera\u001b[0m\n",
      "\u001b[94mSchizophrenia_Related_Psychosis x Hereditary_Progessive_Muscular_Dystrophy\u001b[0m\n",
      "\u001b[94mSchizophrenia_Related_Psychosis x Hereditary_Sensory_Neuropathy\u001b[0m\n",
      "\u001b[94mSchizophrenia_Related_Psychosis x Hereditary_Spastic_Paraplegia\u001b[0m\n",
      "\u001b[94mSchizophrenia_Related_Psychosis x Hereditary_Spherocytosis\u001b[0m\n",
      "\u001b[94mSchizophrenia_Related_Psychosis x Hereditary_Stomatocytosis\u001b[0m\n",
      "\u001b[94mSchizophrenia_Related_Psychosis x Hereditary_Thrombocytopenic_Purpura\u001b[0m\n",
      "\u001b[94mSchizophrenia_Related_Psychosis x Hernia\u001b[0m\n",
      "\u001b[94mSchizophrenia_Related_Psychosis x Herpes_Simplex\u001b[0m\n",
      "\u001b[94mSchizophrenia_Related_Psychosis x Herpes_Zoster\u001b[0m\n",
      "\u001b[94mSchizophrenia_Related_Psychosis x Hirschsprungs_Disease\u001b[0m\n",
      "\u001b[94mSchizophrenia_Related_Psychosis x Hirsutism\u001b[0m\n",
      "\u001b[94mSchizophrenia_Related_Psychosis x Histidinemia\u001b[0m\n",
      "\u001b[94mSchizophrenia_Related_Psychosis x Hodgkins_Disease\u001b[0m\n",
      "\u001b[94mSchizophrenia_Related_Psychosis x Homocystinuria\u001b[0m\n",
      "\u001b[94mSchizophrenia_Related_Psychosis x Huntingtons_Chorea\u001b[0m\n",
      "\u001b[94mSchizophrenia_Related_Psychosis x Hyper_IgM_Immunodeficiency\u001b[0m\n",
      "\u001b[94mSchizophrenia_Related_Psychosis x Hyperaldosteronism\u001b[0m\n",
      "\u001b[94mSchizophrenia_Related_Psychosis x Hyperalimentation\u001b[0m\n",
      "\u001b[94mSchizophrenia_Related_Psychosis x Hyperchylomicronemia\u001b[0m\n",
      "\u001b[94mSchizophrenia_Related_Psychosis x Hypotension\u001b[0m\n",
      "\u001b[94mSchizophrenia_Related_Psychosis x Hypotony_of_the_Eye\u001b[0m\n",
      "\u001b[94mSchizophrenia_Related_Psychosis x IBS\u001b[0m\n",
      "\u001b[94mSchizophrenia_Related_Psychosis x Ichthyosis_Congenita\u001b[0m\n",
      "\u001b[94mSchizophrenia_Related_Psychosis x IgA_Immunodeficiency\u001b[0m\n",
      "\u001b[94mSchizophrenia_Related_Psychosis x IgM_Immunodeficiency\u001b[0m\n",
      "\u001b[94mSchizophrenia_Related_Psychosis x Impulse_Control_Disorder\u001b[0m\n",
      "\u001b[94mSchizophrenia_Related_Psychosis x Indeterminate_Sex_Pseudohermaphroditism\u001b[0m\n",
      "\u001b[94mSchizophrenia_Related_Psychosis x Infestation\u001b[0m\n",
      "\u001b[94mSchizophrenia_Related_Psychosis x Inflammatory_Spondylopathies\u001b[0m\n",
      "\u001b[94mSchizophrenia_Related_Psychosis x Inflammatory_Toxic_Neuropathy\u001b[0m\n",
      "\u001b[94mSchizophrenia_Related_Psychosis x Influenza\u001b[0m\n",
      "\u001b[94mSchizophrenia_Related_Psychosis x Inner_Ear_Disorder\u001b[0m\n",
      "\u001b[94mSchizophrenia_Related_Psychosis x Intellectual_Disability\u001b[0m\n",
      "\u001b[94mSchizophrenia_Related_Psychosis x Intestinal_Cancer\u001b[0m\n",
      "\u001b[94mSchizophrenia_Related_Psychosis x Intrathoracic_Organ_Cancer\u001b[0m\n",
      "\u001b[94mSchizophrenia_Related_Psychosis x Iron_Metabolism_Disorder\u001b[0m\n",
      "\u001b[94mSchizophrenia_Related_Psychosis x Jaw_Disease\u001b[0m\n",
      "\u001b[94mSchizophrenia_Related_Psychosis x Kaposis_Sarcoma\u001b[0m\n",
      "\u001b[94mSchizophrenia_Related_Psychosis x Kawasaki_Disease\u001b[0m\n",
      "\u001b[94mSchizophrenia_Related_Psychosis x Keratosis\u001b[0m\n",
      "\u001b[94mSchizophrenia_Related_Psychosis x Kidney_Cancer\u001b[0m\n",
      "\u001b[94mSchizophrenia_Related_Psychosis x Kidney_Infection\u001b[0m\n",
      "\u001b[94mSchizophrenia_Related_Psychosis x Klinefelters_Syndrome\u001b[0m\n",
      "\u001b[94mSchizophrenia_Related_Psychosis x Klippel_Feil_Syndrome\u001b[0m\n",
      "\u001b[94mSchizophrenia_Related_Psychosis x Lacrimal_System_Disorder\u001b[0m\n",
      "\u001b[94mSchizophrenia_Related_Psychosis x Lactose_Intolerance\u001b[0m\n",
      "\u001b[94mSchizophrenia_Related_Psychosis x Larynx_Vocal_Chord_Disorders\u001b[0m\n",
      "\u001b[94mSchizophrenia_Related_Psychosis x Learning_Disorder\u001b[0m\n",
      "\u001b[94mSchizophrenia_Related_Psychosis x Leukodystropy\u001b[0m\n",
      "\u001b[94mSchizophrenia_Related_Psychosis x Lichen\u001b[0m\n",
      "\u001b[94mSchizophrenia_Related_Psychosis x Lipodystrophy\u001b[0m\n",
      "\u001b[94mSchizophrenia_Related_Psychosis x Lipoma\u001b[0m\n",
      "\u001b[94mSchizophrenia_Related_Psychosis x Lipoprotein_Deficiency\u001b[0m\n",
      "\u001b[94mSchizophrenia_Related_Psychosis x Localized_Adiposity\u001b[0m\n",
      "\u001b[94mSchizophrenia_Related_Psychosis x Long_QT_Syndrome\u001b[0m\n",
      "\u001b[94mSchizophrenia_Related_Psychosis x Lung_Cancer\u001b[0m\n",
      "\u001b[94mSchizophrenia_Related_Psychosis x Lupus_Erythematosus\u001b[0m\n",
      "\u001b[94mSchizophrenia_Related_Psychosis x Lymphatic_Disorder\u001b[0m\n",
      "\u001b[94mSchizophrenia_Related_Psychosis x Lymphoid_Leukemia\u001b[0m\n",
      "\u001b[94mSchizophrenia_Related_Psychosis x Lysosomal_Storage_Disease\u001b[0m\n",
      "\u001b[94mSchizophrenia_Related_Psychosis x MENI\u001b[0m\n",
      "\u001b[94mSchizophrenia_Related_Psychosis x MENIIA\u001b[0m\n",
      "\u001b[94mSchizophrenia_Related_Psychosis x MENIIB\u001b[0m\n",
      "\u001b[94mSchizophrenia_Related_Psychosis x Macular_Degeneration\u001b[0m\n",
      "\u001b[94mSchizophrenia_Related_Psychosis x Male_Breast_Cancer\u001b[0m\n",
      "\u001b[94mSchizophrenia_Related_Psychosis x Male_Genital_Cancer\u001b[0m\n",
      "\u001b[94mSchizophrenia_Related_Psychosis x Male_Genital_Congenital_Anomaly\u001b[0m\n",
      "\u001b[94mSchizophrenia_Related_Psychosis x Malnutrition\u001b[0m\n",
      "\u001b[94mSchizophrenia_Related_Psychosis x Marfan_Syndrome\u001b[0m\n",
      "\u001b[94mSchizophrenia_Related_Psychosis x Medullary_Cystic_Kidney_Disease\u001b[0m\n",
      "\u001b[94mSchizophrenia_Related_Psychosis x Megaloblastic_Anemia\u001b[0m\n",
      "\u001b[94mSchizophrenia_Related_Psychosis x Melanoma\u001b[0m\n",
      "\u001b[94mSchizophrenia_Related_Psychosis x Meningitis\u001b[0m\n",
      "\u001b[94mSchizophrenia_Related_Psychosis x Menopausal_Disorder\u001b[0m\n",
      "\u001b[94mSchizophrenia_Related_Psychosis x Menstrual_Disorder\u001b[0m\n",
      "\u001b[94mSchizophrenia_Related_Psychosis x Metabolic_Syndrome_X\u001b[0m\n",
      "\u001b[94mSchizophrenia_Related_Psychosis x Migraine\u001b[0m\n",
      "\u001b[94mSchizophrenia_Related_Psychosis x Mixed_Hyperlipidemia\u001b[0m\n",
      "\u001b[94mSchizophrenia_Related_Psychosis x Mood_Disorder\u001b[0m\n",
      "\u001b[94mSchizophrenia_Related_Psychosis x Motor_Neuron_Disease\u001b[0m\n",
      "\u001b[94mSchizophrenia_Related_Psychosis x Mucopolysaccharidosis\u001b[0m\n",
      "\u001b[94mSchizophrenia_Related_Psychosis x Multiple_Epiphyseal_Dysplasia\u001b[0m\n",
      "\u001b[94mSchizophrenia_Related_Psychosis x Multiple_Myeloma\u001b[0m\n",
      "\u001b[94mSchizophrenia_Related_Psychosis x Multiple_Sclerosis_Other_Demyelinating_Disease\u001b[0m\n",
      "\u001b[94mSchizophrenia_Related_Psychosis x Muscle_Ligament_Disorder\u001b[0m\n",
      "\u001b[94mSchizophrenia_Related_Psychosis x Myasthenia_Gravis\u001b[0m\n",
      "\u001b[94mSchizophrenia_Related_Psychosis x Mycobacterial_Disease\u001b[0m\n",
      "\u001b[94mSchizophrenia_Related_Psychosis x Myeloid_Leukemia\u001b[0m\n",
      "\u001b[94mSchizophrenia_Related_Psychosis x Myeloproliferative_Disease\u001b[0m\n",
      "\u001b[94mSchizophrenia_Related_Psychosis x Myocardial_Infarction\u001b[0m\n",
      "\u001b[94mSchizophrenia_Related_Psychosis x Myoneural_Disorders\u001b[0m\n",
      "\u001b[94mSchizophrenia_Related_Psychosis x Myotonia_Congenita\u001b[0m\n",
      "\u001b[94mSchizophrenia_Related_Psychosis x Myotonic_Muscular_Dystrophy\u001b[0m\n",
      "\u001b[94mSchizophrenia_Related_Psychosis x Nail_Disease\u001b[0m\n",
      "\u001b[94mSchizophrenia_Related_Psychosis x Neonatal_Disease\u001b[0m\n",
      "ss_log__ -1.1447301\n",
      "shift -2.3025851\n",
      "b_shrinkage_log__ -2.28946\n",
      "fixed_b -7.829342\n",
      "ls_log__ -1.1447301\n",
      "var_log__ -1.1447301\n",
      "f_gp_rotated_ -33.081787\n",
      "nu_y_log__ -0.61370564\n",
      "sigma_y_log__ -0.61370564\n"
     ]
    },
    {
     "name": "stderr",
     "output_type": "stream",
     "text": [
      "Initializing NUTS using advi+adapt_diag...\n"
     ]
    },
    {
     "name": "stdout",
     "output_type": "stream",
     "text": [
      "y -127.04263409351898\n"
     ]
    },
    {
     "data": {
      "text/html": [
       "\n",
       "    <div>\n",
       "        <style>\n",
       "            /* Turns off some styling */\n",
       "            progress {\n",
       "                /* gets rid of default border in Firefox and Opera. */\n",
       "                border: none;\n",
       "                /* Needs to be in here for Safari polyfill so background images work as expected. */\n",
       "                background-size: auto;\n",
       "            }\n",
       "            .progress-bar-interrupted, .progress-bar-interrupted::-webkit-progress-bar {\n",
       "                background: #F44336;\n",
       "            }\n",
       "        </style>\n",
       "      <progress value='15573' class='' max='200000' style='width:300px; height:20px; vertical-align: middle;'></progress>\n",
       "      7.79% [15573/200000 00:04<00:57 Average Loss = 116.41]\n",
       "    </div>\n",
       "    "
      ],
      "text/plain": [
       "<IPython.core.display.HTML object>"
      ]
     },
     "metadata": {},
     "output_type": "display_data"
    },
    {
     "name": "stderr",
     "output_type": "stream",
     "text": [
      "Convergence achieved at 15900\n",
      "Interrupted at 15,899 [7%]: Average Loss = 134.98\n",
      "Multiprocess sampling (4 chains in 4 jobs)\n",
      "NUTS: [sigma_y, nu_y, f_gp_rotated_, var, ls, fixed_b, b_shrinkage, shift, ss]\n"
     ]
    },
    {
     "data": {
      "text/html": [
       "\n",
       "    <div>\n",
       "        <style>\n",
       "            /* Turns off some styling */\n",
       "            progress {\n",
       "                /* gets rid of default border in Firefox and Opera. */\n",
       "                border: none;\n",
       "                /* Needs to be in here for Safari polyfill so background images work as expected. */\n",
       "                background-size: auto;\n",
       "            }\n",
       "            .progress-bar-interrupted, .progress-bar-interrupted::-webkit-progress-bar {\n",
       "                background: #F44336;\n",
       "            }\n",
       "        </style>\n",
       "      <progress value='8000' class='' max='8000' style='width:300px; height:20px; vertical-align: middle;'></progress>\n",
       "      100.00% [8000/8000 00:47<00:00 Sampling 4 chains, 13 divergences]\n",
       "    </div>\n",
       "    "
      ],
      "text/plain": [
       "<IPython.core.display.HTML object>"
      ]
     },
     "metadata": {},
     "output_type": "display_data"
    },
    {
     "name": "stderr",
     "output_type": "stream",
     "text": [
      "Sampling 4 chains for 1_500 tune and 500 draw iterations (6_000 + 2_000 draws total) took 48 seconds.\n",
      "There were 2 divergences after tuning. Increase `target_accept` or reparameterize.\n",
      "There were 11 divergences after tuning. Increase `target_accept` or reparameterize.\n",
      "The estimated number of effective samples is smaller than 200 for some parameters.\n",
      "Got error No model on context stack. trying to find log_likelihood in translation.\n",
      "Got error No model on context stack. trying to find log_likelihood in translation.\n",
      "Got error No model on context stack. trying to find log_likelihood in translation.\n",
      "Got error No model on context stack. trying to find log_likelihood in translation.\n",
      "Got error No model on context stack. trying to find log_likelihood in translation.\n",
      "Got error No model on context stack. trying to find log_likelihood in translation.\n"
     ]
    },
    {
     "name": "stdout",
     "output_type": "stream",
     "text": [
      "b_shrinkage_log__ -2.28946\n",
      "fixed_b -7.829342\n",
      "ls_log__ -1.1447301\n",
      "var_log__ -1.1447301\n",
      "f_gp_rotated_ -33.081787\n",
      "nu_y_log__ -0.61370564\n",
      "sigma_y_log__ -0.61370564\n"
     ]
    },
    {
     "name": "stderr",
     "output_type": "stream",
     "text": [
      "Initializing NUTS using advi+adapt_diag...\n"
     ]
    },
    {
     "name": "stdout",
     "output_type": "stream",
     "text": [
      "y -127.04263409351898\n"
     ]
    },
    {
     "data": {
      "text/html": [
       "\n",
       "    <div>\n",
       "        <style>\n",
       "            /* Turns off some styling */\n",
       "            progress {\n",
       "                /* gets rid of default border in Firefox and Opera. */\n",
       "                border: none;\n",
       "                /* Needs to be in here for Safari polyfill so background images work as expected. */\n",
       "                background-size: auto;\n",
       "            }\n",
       "            .progress-bar-interrupted, .progress-bar-interrupted::-webkit-progress-bar {\n",
       "                background: #F44336;\n",
       "            }\n",
       "        </style>\n",
       "      <progress value='14513' class='' max='200000' style='width:300px; height:20px; vertical-align: middle;'></progress>\n",
       "      7.26% [14513/200000 00:04<00:53 Average Loss = 117.42]\n",
       "    </div>\n",
       "    "
      ],
      "text/plain": [
       "<IPython.core.display.HTML object>"
      ]
     },
     "metadata": {},
     "output_type": "display_data"
    },
    {
     "name": "stderr",
     "output_type": "stream",
     "text": [
      "Convergence achieved at 14700\n",
      "Interrupted at 14,699 [7%]: Average Loss = 135.44\n",
      "Multiprocess sampling (4 chains in 4 jobs)\n",
      "NUTS: [sigma_y, nu_y, f_gp_rotated_, var, ls, fixed_b, b_shrinkage]\n"
     ]
    },
    {
     "data": {
      "text/html": [
       "\n",
       "    <div>\n",
       "        <style>\n",
       "            /* Turns off some styling */\n",
       "            progress {\n",
       "                /* gets rid of default border in Firefox and Opera. */\n",
       "                border: none;\n",
       "                /* Needs to be in here for Safari polyfill so background images work as expected. */\n",
       "                background-size: auto;\n",
       "            }\n",
       "            .progress-bar-interrupted, .progress-bar-interrupted::-webkit-progress-bar {\n",
       "                background: #F44336;\n",
       "            }\n",
       "        </style>\n",
       "      <progress value='8000' class='' max='8000' style='width:300px; height:20px; vertical-align: middle;'></progress>\n",
       "      100.00% [8000/8000 00:42<00:00 Sampling 4 chains, 5 divergences]\n",
       "    </div>\n",
       "    "
      ],
      "text/plain": [
       "<IPython.core.display.HTML object>"
      ]
     },
     "metadata": {},
     "output_type": "display_data"
    },
    {
     "name": "stderr",
     "output_type": "stream",
     "text": [
      "Sampling 4 chains for 1_500 tune and 500 draw iterations (6_000 + 2_000 draws total) took 42 seconds.\n",
      "There were 3 divergences after tuning. Increase `target_accept` or reparameterize.\n",
      "There was 1 divergence after tuning. Increase `target_accept` or reparameterize.\n",
      "There was 1 divergence after tuning. Increase `target_accept` or reparameterize.\n",
      "The estimated number of effective samples is smaller than 200 for some parameters.\n",
      "Got error No model on context stack. trying to find log_likelihood in translation.\n",
      "Got error No model on context stack. trying to find log_likelihood in translation.\n",
      "Got error No model on context stack. trying to find log_likelihood in translation.\n",
      "Got error No model on context stack. trying to find log_likelihood in translation.\n",
      "Got error No model on context stack. trying to find log_likelihood in translation.\n",
      "Got error No model on context stack. trying to find log_likelihood in translation.\n"
     ]
    },
    {
     "name": "stdout",
     "output_type": "stream",
     "text": [
      "\u001b[94mSchizophrenia_Related_Psychosis x Nephrotic_Syndrome\u001b[0m\n",
      "\u001b[94mSchizophrenia_Related_Psychosis x Nerve_Root_Plexus_Disorders\u001b[0m\n",
      "\u001b[94mSchizophrenia_Related_Psychosis x Neural_Tube_Defect\u001b[0m\n",
      "\u001b[94mSchizophrenia_Related_Psychosis x Neurofibromatosis\u001b[0m\n",
      "\u001b[94mSchizophrenia_Related_Psychosis x Nezelofs_Syndrome\u001b[0m\n",
      "\u001b[94mSchizophrenia_Related_Psychosis x Non-Hodgkins_Lymphoma\u001b[0m\n",
      "\u001b[94mSchizophrenia_Related_Psychosis x Non-Melanoma_Skin_Cancer\u001b[0m\n",
      "\u001b[94mSchizophrenia_Related_Psychosis x Non-Rheumatic_Heart_Disease\u001b[0m\n",
      "\u001b[94mSchizophrenia_Related_Psychosis x Non-Specific_Acquired_Musculoskeletal_Abnormality\u001b[0m\n",
      "\u001b[94mSchizophrenia_Related_Psychosis x Non-Specific_Anemia\u001b[0m\n",
      "\u001b[94mSchizophrenia_Related_Psychosis x Sideroblastic_Anemia\u001b[0m\n",
      "\u001b[94mSchizophrenia_Related_Psychosis x Non-Specific_Arthritis\u001b[0m\n",
      "\u001b[94mSchizophrenia_Related_Psychosis x Non-Specific_Autosomal_Abnormality\u001b[0m\n",
      "\u001b[94mSchizophrenia_Related_Psychosis x Non-Specific_Cardiovascular_Disease\u001b[0m\n",
      "\u001b[94mSchizophrenia_Related_Psychosis x Non-Specific_Chromosomal_Anomaly\u001b[0m\n",
      "\u001b[94mSchizophrenia_Related_Psychosis x Non-Specific_Congenital_Eye_Anomaly\u001b[0m\n",
      "\u001b[94mSchizophrenia_Related_Psychosis x Non-Specific_Congenital_Integumentary_Anomaly\u001b[0m\n",
      "\u001b[94mSchizophrenia_Related_Psychosis x Non-Specific_Congenital_Musculoskeletal_Anomaly\u001b[0m\n",
      "\u001b[94mSchizophrenia_Related_Psychosis x Non-Specific_Dental_Disorder\u001b[0m\n",
      "\u001b[94mSchizophrenia_Related_Psychosis x Non-Specific_Digestive_Congenital_Anomaly\u001b[0m\n",
      "\u001b[94mSchizophrenia_Related_Psychosis x Non-Specific_Eye_Disorders\u001b[0m\n",
      "\u001b[94mSchizophrenia_Related_Psychosis x Non-Specific_Gastrointestinal_Disorder\u001b[0m\n",
      "ss_log__ -1.1447301\n",
      "shift -2.3025851\n",
      "b_shrinkage_log__ -2.28946\n",
      "fixed_b -7.829342\n",
      "ls_log__ -1.1447301\n",
      "var_log__ -1.1447301\n",
      "f_gp_rotated_ -36.75754\n",
      "nu_y_log__ -0.61370564\n",
      "sigma_y_log__ -0.61370564\n"
     ]
    },
    {
     "name": "stderr",
     "output_type": "stream",
     "text": [
      "Initializing NUTS using advi+adapt_diag...\n"
     ]
    },
    {
     "name": "stdout",
     "output_type": "stream",
     "text": [
      "y -132.97635623346045\n"
     ]
    },
    {
     "data": {
      "text/html": [
       "\n",
       "    <div>\n",
       "        <style>\n",
       "            /* Turns off some styling */\n",
       "            progress {\n",
       "                /* gets rid of default border in Firefox and Opera. */\n",
       "                border: none;\n",
       "                /* Needs to be in here for Safari polyfill so background images work as expected. */\n",
       "                background-size: auto;\n",
       "            }\n",
       "            .progress-bar-interrupted, .progress-bar-interrupted::-webkit-progress-bar {\n",
       "                background: #F44336;\n",
       "            }\n",
       "        </style>\n",
       "      <progress value='16576' class='' max='200000' style='width:300px; height:20px; vertical-align: middle;'></progress>\n",
       "      8.29% [16576/200000 00:05<01:00 Average Loss = 117.94]\n",
       "    </div>\n",
       "    "
      ],
      "text/plain": [
       "<IPython.core.display.HTML object>"
      ]
     },
     "metadata": {},
     "output_type": "display_data"
    },
    {
     "name": "stderr",
     "output_type": "stream",
     "text": [
      "Convergence achieved at 17100\n",
      "Interrupted at 17,099 [8%]: Average Loss = 138.43\n",
      "Multiprocess sampling (4 chains in 4 jobs)\n",
      "NUTS: [sigma_y, nu_y, f_gp_rotated_, var, ls, fixed_b, b_shrinkage, shift, ss]\n"
     ]
    },
    {
     "data": {
      "text/html": [
       "\n",
       "    <div>\n",
       "        <style>\n",
       "            /* Turns off some styling */\n",
       "            progress {\n",
       "                /* gets rid of default border in Firefox and Opera. */\n",
       "                border: none;\n",
       "                /* Needs to be in here for Safari polyfill so background images work as expected. */\n",
       "                background-size: auto;\n",
       "            }\n",
       "            .progress-bar-interrupted, .progress-bar-interrupted::-webkit-progress-bar {\n",
       "                background: #F44336;\n",
       "            }\n",
       "        </style>\n",
       "      <progress value='8000' class='' max='8000' style='width:300px; height:20px; vertical-align: middle;'></progress>\n",
       "      100.00% [8000/8000 00:48<00:00 Sampling 4 chains, 2 divergences]\n",
       "    </div>\n",
       "    "
      ],
      "text/plain": [
       "<IPython.core.display.HTML object>"
      ]
     },
     "metadata": {},
     "output_type": "display_data"
    },
    {
     "name": "stderr",
     "output_type": "stream",
     "text": [
      "Sampling 4 chains for 1_500 tune and 500 draw iterations (6_000 + 2_000 draws total) took 49 seconds.\n",
      "There were 2 divergences after tuning. Increase `target_accept` or reparameterize.\n",
      "The estimated number of effective samples is smaller than 200 for some parameters.\n",
      "Got error No model on context stack. trying to find log_likelihood in translation.\n",
      "Got error No model on context stack. trying to find log_likelihood in translation.\n",
      "Got error No model on context stack. trying to find log_likelihood in translation.\n",
      "Got error No model on context stack. trying to find log_likelihood in translation.\n",
      "Got error No model on context stack. trying to find log_likelihood in translation.\n",
      "Got error No model on context stack. trying to find log_likelihood in translation.\n"
     ]
    },
    {
     "name": "stdout",
     "output_type": "stream",
     "text": [
      "b_shrinkage_log__ -2.28946\n",
      "fixed_b -7.829342\n",
      "ls_log__ -1.1447301\n",
      "var_log__ -1.1447301\n",
      "f_gp_rotated_ -36.75754\n",
      "nu_y_log__ -0.61370564\n",
      "sigma_y_log__ -0.61370564\n"
     ]
    },
    {
     "name": "stderr",
     "output_type": "stream",
     "text": [
      "Initializing NUTS using advi+adapt_diag...\n"
     ]
    },
    {
     "name": "stdout",
     "output_type": "stream",
     "text": [
      "y -132.97635623346045\n"
     ]
    },
    {
     "data": {
      "text/html": [
       "\n",
       "    <div>\n",
       "        <style>\n",
       "            /* Turns off some styling */\n",
       "            progress {\n",
       "                /* gets rid of default border in Firefox and Opera. */\n",
       "                border: none;\n",
       "                /* Needs to be in here for Safari polyfill so background images work as expected. */\n",
       "                background-size: auto;\n",
       "            }\n",
       "            .progress-bar-interrupted, .progress-bar-interrupted::-webkit-progress-bar {\n",
       "                background: #F44336;\n",
       "            }\n",
       "        </style>\n",
       "      <progress value='15833' class='' max='200000' style='width:300px; height:20px; vertical-align: middle;'></progress>\n",
       "      7.92% [15833/200000 00:04<00:56 Average Loss = 119.27]\n",
       "    </div>\n",
       "    "
      ],
      "text/plain": [
       "<IPython.core.display.HTML object>"
      ]
     },
     "metadata": {},
     "output_type": "display_data"
    },
    {
     "name": "stderr",
     "output_type": "stream",
     "text": [
      "Convergence achieved at 16000\n",
      "Interrupted at 15,999 [7%]: Average Loss = 139.72\n",
      "Multiprocess sampling (4 chains in 4 jobs)\n",
      "NUTS: [sigma_y, nu_y, f_gp_rotated_, var, ls, fixed_b, b_shrinkage]\n"
     ]
    },
    {
     "data": {
      "text/html": [
       "\n",
       "    <div>\n",
       "        <style>\n",
       "            /* Turns off some styling */\n",
       "            progress {\n",
       "                /* gets rid of default border in Firefox and Opera. */\n",
       "                border: none;\n",
       "                /* Needs to be in here for Safari polyfill so background images work as expected. */\n",
       "                background-size: auto;\n",
       "            }\n",
       "            .progress-bar-interrupted, .progress-bar-interrupted::-webkit-progress-bar {\n",
       "                background: #F44336;\n",
       "            }\n",
       "        </style>\n",
       "      <progress value='8000' class='' max='8000' style='width:300px; height:20px; vertical-align: middle;'></progress>\n",
       "      100.00% [8000/8000 00:40<00:00 Sampling 4 chains, 12 divergences]\n",
       "    </div>\n",
       "    "
      ],
      "text/plain": [
       "<IPython.core.display.HTML object>"
      ]
     },
     "metadata": {},
     "output_type": "display_data"
    },
    {
     "name": "stderr",
     "output_type": "stream",
     "text": [
      "Sampling 4 chains for 1_500 tune and 500 draw iterations (6_000 + 2_000 draws total) took 40 seconds.\n",
      "There were 11 divergences after tuning. Increase `target_accept` or reparameterize.\n",
      "There was 1 divergence after tuning. Increase `target_accept` or reparameterize.\n",
      "The estimated number of effective samples is smaller than 200 for some parameters.\n",
      "Got error No model on context stack. trying to find log_likelihood in translation.\n",
      "Got error No model on context stack. trying to find log_likelihood in translation.\n",
      "Got error No model on context stack. trying to find log_likelihood in translation.\n",
      "Got error No model on context stack. trying to find log_likelihood in translation.\n",
      "Got error No model on context stack. trying to find log_likelihood in translation.\n",
      "Got error No model on context stack. trying to find log_likelihood in translation.\n"
     ]
    },
    {
     "name": "stdout",
     "output_type": "stream",
     "text": [
      "\u001b[94mSchizophrenia_Related_Psychosis x Non-Specific_Genitourinary_Congenital_Anomaly\u001b[0m\n",
      "\u001b[94mSchizophrenia_Related_Psychosis x Non-Specific_Gingival_Peridontal_Disorder\u001b[0m\n",
      "\u001b[94mSchizophrenia_Related_Psychosis x Non-Specific_Hemoglobinopathies\u001b[0m\n",
      "\u001b[94mSchizophrenia_Related_Psychosis x Non-Specific_Humoral_Deficiency\u001b[0m\n",
      "\u001b[94mSchizophrenia_Related_Psychosis x Non-Specific_Immune-Related_Skin_Disorder\u001b[0m\n",
      "\u001b[94mSchizophrenia_Related_Psychosis x Non-Specific_Joint_Disorder\u001b[0m\n",
      "\u001b[94mSchizophrenia_Related_Psychosis x Non-Specific_Leukemia\u001b[0m\n",
      "\u001b[94mSchizophrenia_Related_Psychosis x Non-Specific_Liver_Disease\u001b[0m\n",
      "\u001b[94mSchizophrenia_Related_Psychosis x Non-Specific_Metabolic_Disorder\u001b[0m\n",
      "\u001b[94mSchizophrenia_Related_Psychosis x Non-Specific_Nasal_Throat_Disorder\u001b[0m\n",
      "\u001b[94mSchizophrenia_Related_Psychosis x Non-Specific_Nephropathy\u001b[0m\n",
      "\u001b[94mSchizophrenia_Related_Psychosis x Non-Specific_Neurologic_Congenital_Anomaly\u001b[0m\n",
      "\u001b[94mSchizophrenia_Related_Psychosis x Non-Specific_Osteopathy\u001b[0m\n",
      "\u001b[94mSchizophrenia_Related_Psychosis x Pagets_Disease\u001b[0m\n",
      "\u001b[94mSchizophrenia_Related_Psychosis x Non-Specific_Pain\u001b[0m\n",
      "\u001b[94mSchizophrenia_Related_Psychosis x Non-Specific_Peritoneal_Disorder\u001b[0m\n",
      "\u001b[94mSchizophrenia_Related_Psychosis x Non-Specific_Prostate_Disease\u001b[0m\n",
      "\u001b[94mSchizophrenia_Related_Psychosis x Non-Specific_Pulmonary_Disorder\u001b[0m\n",
      "ss_log__ -1.1447301\n",
      "shift -2.3025851\n",
      "b_shrinkage_log__ -2.28946\n",
      "fixed_b -7.829342\n",
      "ls_log__ -1.1447301\n",
      "var_log__ -1.1447301\n",
      "f_gp_rotated_ -34.919666\n",
      "nu_y_log__ -0.61370564\n",
      "sigma_y_log__ -0.61370564\n"
     ]
    },
    {
     "name": "stderr",
     "output_type": "stream",
     "text": [
      "Initializing NUTS using advi+adapt_diag...\n"
     ]
    },
    {
     "name": "stdout",
     "output_type": "stream",
     "text": [
      "y -107.55353561580412\n"
     ]
    },
    {
     "data": {
      "text/html": [
       "\n",
       "    <div>\n",
       "        <style>\n",
       "            /* Turns off some styling */\n",
       "            progress {\n",
       "                /* gets rid of default border in Firefox and Opera. */\n",
       "                border: none;\n",
       "                /* Needs to be in here for Safari polyfill so background images work as expected. */\n",
       "                background-size: auto;\n",
       "            }\n",
       "            .progress-bar-interrupted, .progress-bar-interrupted::-webkit-progress-bar {\n",
       "                background: #F44336;\n",
       "            }\n",
       "        </style>\n",
       "      <progress value='16978' class='' max='200000' style='width:300px; height:20px; vertical-align: middle;'></progress>\n",
       "      8.49% [16978/200000 00:05<00:58 Average Loss = 107.88]\n",
       "    </div>\n",
       "    "
      ],
      "text/plain": [
       "<IPython.core.display.HTML object>"
      ]
     },
     "metadata": {},
     "output_type": "display_data"
    },
    {
     "name": "stderr",
     "output_type": "stream",
     "text": [
      "Convergence achieved at 17100\n",
      "Interrupted at 17,099 [8%]: Average Loss = 128.49\n",
      "Multiprocess sampling (4 chains in 4 jobs)\n",
      "NUTS: [sigma_y, nu_y, f_gp_rotated_, var, ls, fixed_b, b_shrinkage, shift, ss]\n"
     ]
    },
    {
     "data": {
      "text/html": [
       "\n",
       "    <div>\n",
       "        <style>\n",
       "            /* Turns off some styling */\n",
       "            progress {\n",
       "                /* gets rid of default border in Firefox and Opera. */\n",
       "                border: none;\n",
       "                /* Needs to be in here for Safari polyfill so background images work as expected. */\n",
       "                background-size: auto;\n",
       "            }\n",
       "            .progress-bar-interrupted, .progress-bar-interrupted::-webkit-progress-bar {\n",
       "                background: #F44336;\n",
       "            }\n",
       "        </style>\n",
       "      <progress value='8000' class='' max='8000' style='width:300px; height:20px; vertical-align: middle;'></progress>\n",
       "      100.00% [8000/8000 00:50<00:00 Sampling 4 chains, 5 divergences]\n",
       "    </div>\n",
       "    "
      ],
      "text/plain": [
       "<IPython.core.display.HTML object>"
      ]
     },
     "metadata": {},
     "output_type": "display_data"
    },
    {
     "name": "stderr",
     "output_type": "stream",
     "text": [
      "Sampling 4 chains for 1_500 tune and 500 draw iterations (6_000 + 2_000 draws total) took 50 seconds.\n",
      "There were 2 divergences after tuning. Increase `target_accept` or reparameterize.\n",
      "There were 2 divergences after tuning. Increase `target_accept` or reparameterize.\n",
      "There was 1 divergence after tuning. Increase `target_accept` or reparameterize.\n",
      "The estimated number of effective samples is smaller than 200 for some parameters.\n",
      "Got error No model on context stack. trying to find log_likelihood in translation.\n",
      "Got error No model on context stack. trying to find log_likelihood in translation.\n",
      "Got error No model on context stack. trying to find log_likelihood in translation.\n",
      "Got error No model on context stack. trying to find log_likelihood in translation.\n",
      "Got error No model on context stack. trying to find log_likelihood in translation.\n",
      "Got error No model on context stack. trying to find log_likelihood in translation.\n"
     ]
    },
    {
     "name": "stdout",
     "output_type": "stream",
     "text": [
      "b_shrinkage_log__ -2.28946\n",
      "fixed_b -7.829342\n",
      "ls_log__ -1.1447301\n",
      "var_log__ -1.1447301\n",
      "f_gp_rotated_ -34.919666\n",
      "nu_y_log__ -0.61370564\n",
      "sigma_y_log__ -0.61370564\n"
     ]
    },
    {
     "name": "stderr",
     "output_type": "stream",
     "text": [
      "Initializing NUTS using advi+adapt_diag...\n"
     ]
    },
    {
     "name": "stdout",
     "output_type": "stream",
     "text": [
      "y -107.55353561580412\n"
     ]
    },
    {
     "data": {
      "text/html": [
       "\n",
       "    <div>\n",
       "        <style>\n",
       "            /* Turns off some styling */\n",
       "            progress {\n",
       "                /* gets rid of default border in Firefox and Opera. */\n",
       "                border: none;\n",
       "                /* Needs to be in here for Safari polyfill so background images work as expected. */\n",
       "                background-size: auto;\n",
       "            }\n",
       "            .progress-bar-interrupted, .progress-bar-interrupted::-webkit-progress-bar {\n",
       "                background: #F44336;\n",
       "            }\n",
       "        </style>\n",
       "      <progress value='13848' class='' max='200000' style='width:300px; height:20px; vertical-align: middle;'></progress>\n",
       "      6.92% [13848/200000 00:04<00:53 Average Loss = 109.67]\n",
       "    </div>\n",
       "    "
      ],
      "text/plain": [
       "<IPython.core.display.HTML object>"
      ]
     },
     "metadata": {},
     "output_type": "display_data"
    },
    {
     "name": "stderr",
     "output_type": "stream",
     "text": [
      "Convergence achieved at 14200\n",
      "Interrupted at 14,199 [7%]: Average Loss = 131.68\n",
      "Multiprocess sampling (4 chains in 4 jobs)\n",
      "NUTS: [sigma_y, nu_y, f_gp_rotated_, var, ls, fixed_b, b_shrinkage]\n"
     ]
    },
    {
     "data": {
      "text/html": [
       "\n",
       "    <div>\n",
       "        <style>\n",
       "            /* Turns off some styling */\n",
       "            progress {\n",
       "                /* gets rid of default border in Firefox and Opera. */\n",
       "                border: none;\n",
       "                /* Needs to be in here for Safari polyfill so background images work as expected. */\n",
       "                background-size: auto;\n",
       "            }\n",
       "            .progress-bar-interrupted, .progress-bar-interrupted::-webkit-progress-bar {\n",
       "                background: #F44336;\n",
       "            }\n",
       "        </style>\n",
       "      <progress value='8000' class='' max='8000' style='width:300px; height:20px; vertical-align: middle;'></progress>\n",
       "      100.00% [8000/8000 00:44<00:00 Sampling 4 chains, 2 divergences]\n",
       "    </div>\n",
       "    "
      ],
      "text/plain": [
       "<IPython.core.display.HTML object>"
      ]
     },
     "metadata": {},
     "output_type": "display_data"
    },
    {
     "name": "stderr",
     "output_type": "stream",
     "text": [
      "Sampling 4 chains for 1_500 tune and 500 draw iterations (6_000 + 2_000 draws total) took 45 seconds.\n",
      "There was 1 divergence after tuning. Increase `target_accept` or reparameterize.\n",
      "There was 1 divergence after tuning. Increase `target_accept` or reparameterize.\n",
      "The acceptance probability does not match the target. It is 0.8291820967530475, but should be close to 0.9. Try to increase the number of tuning steps.\n",
      "The estimated number of effective samples is smaller than 200 for some parameters.\n",
      "Got error No model on context stack. trying to find log_likelihood in translation.\n",
      "Got error No model on context stack. trying to find log_likelihood in translation.\n",
      "Got error No model on context stack. trying to find log_likelihood in translation.\n",
      "Got error No model on context stack. trying to find log_likelihood in translation.\n",
      "Got error No model on context stack. trying to find log_likelihood in translation.\n",
      "Got error No model on context stack. trying to find log_likelihood in translation.\n"
     ]
    },
    {
     "name": "stdout",
     "output_type": "stream",
     "text": [
      "\u001b[94mSchizophrenia_Related_Psychosis x Non-Specific_Skin_Disorder\u001b[0m\n",
      "\u001b[94mSchizophrenia_Related_Psychosis x Non-Specific_Soft_Tissue_Disorder\u001b[0m\n",
      "\u001b[94mSchizophrenia_Related_Psychosis x Non-Specific_Sugar_Metabolism_Disorder\u001b[0m\n",
      "\u001b[94mSchizophrenia_Related_Psychosis x Non-Specific_Thryroid_Disorder\u001b[0m\n",
      "\u001b[94mSchizophrenia_Related_Psychosis x Non-Specific_Urinary_Disorder\u001b[0m\n",
      "\u001b[94mSchizophrenia_Related_Psychosis x Non-Specific_Vascular_Disease\u001b[0m\n",
      "\u001b[94mSchizophrenia_Related_Psychosis x Varicose_Veins\u001b[0m\n",
      "\u001b[94mSchizophrenia_Related_Psychosis x Non-Specified_Cardiac_Ischemia\u001b[0m\n",
      "\u001b[94mSchizophrenia_Related_Psychosis x OCD\u001b[0m\n",
      "\u001b[94mSchizophrenia_Related_Psychosis x Obesity\u001b[0m\n",
      "\u001b[94mSchizophrenia_Related_Psychosis x Ocular_Musculoskeletal_Disorder\u001b[0m\n",
      "\u001b[94mSchizophrenia_Related_Psychosis x Optic_Chiasm_Disorder\u001b[0m\n",
      "\u001b[94mSchizophrenia_Related_Psychosis x Optic_Disc_Disorder\u001b[0m\n",
      "\u001b[94mSchizophrenia_Related_Psychosis x Optic_Neuritis_Neuropathy\u001b[0m\n",
      "\u001b[94mSchizophrenia_Related_Psychosis x Oral_Soft_Tissue_Disease\u001b[0m\n",
      "\u001b[94mSchizophrenia_Related_Psychosis x Orbit_Disorders\u001b[0m\n",
      "\u001b[94mSchizophrenia_Related_Psychosis x Oro-Facial_Congenital_Anomaly\u001b[0m\n",
      "\u001b[94mSchizophrenia_Related_Psychosis x Oro-Naso-Pharyngeal_Cancer\u001b[0m\n",
      "\u001b[94mSchizophrenia_Related_Psychosis x Osteoarthritis\u001b[0m\n",
      "\u001b[94mSchizophrenia_Related_Psychosis x Osteogenesis_Imperfecta\u001b[0m\n",
      "\u001b[94mSchizophrenia_Related_Psychosis x Osteomyelitis\u001b[0m\n",
      "\u001b[94mSchizophrenia_Related_Psychosis x Osteopetrosis\u001b[0m\n",
      "\u001b[94mSchizophrenia_Related_Psychosis x Osteopoikilosis\u001b[0m\n",
      "\u001b[94mSchizophrenia_Related_Psychosis x Osteoporosis\u001b[0m\n",
      "\u001b[94mSchizophrenia_Related_Psychosis x Other_Infectious_Diseases\u001b[0m\n",
      "\u001b[94mSchizophrenia_Related_Psychosis x Other_Inherited_Amino_Acid_Metabolic_Disorder\u001b[0m\n",
      "\u001b[94mSchizophrenia_Related_Psychosis x Other_Inherited_Myotonias\u001b[0m\n",
      "\u001b[94mSchizophrenia_Related_Psychosis x Other_Inherited_Osteodystrophy\u001b[0m\n",
      "\u001b[94mSchizophrenia_Related_Psychosis x Other_Lymphoid_Histiocytic_Cancers\u001b[0m\n",
      "\u001b[94mSchizophrenia_Related_Psychosis x Other_Viral_Hepatitis\u001b[0m\n",
      "\u001b[94mSchizophrenia_Related_Psychosis x Otosclerosis\u001b[0m\n",
      "\u001b[94mSchizophrenia_Related_Psychosis x Ovarian_Cancer\u001b[0m\n",
      "\u001b[94mSchizophrenia_Related_Psychosis x Overweight\u001b[0m\n",
      "\u001b[94mSchizophrenia_Related_Psychosis x PTSD\u001b[0m\n",
      "\u001b[94mSchizophrenia_Related_Psychosis x Pancreatic_Cancer\u001b[0m\n",
      "\u001b[94mSchizophrenia_Related_Psychosis x Pancreatic_Disease\u001b[0m\n",
      "\u001b[94mSchizophrenia_Related_Psychosis x Pancytopenia\u001b[0m\n",
      "\u001b[94mSchizophrenia_Related_Psychosis x Papilledema\u001b[0m\n",
      "\u001b[94mSchizophrenia_Related_Psychosis x Paranoia\u001b[0m\n",
      "\u001b[94mSchizophrenia_Related_Psychosis x Parasitic_Infection\u001b[0m\n",
      "\u001b[94mSchizophrenia_Related_Psychosis x Parathyroid_Disorder\u001b[0m\n",
      "\u001b[94mSchizophrenia_Related_Psychosis x Paritial_Androgen_Insensitivity_Syndrome\u001b[0m\n",
      "\u001b[94mSchizophrenia_Related_Psychosis x Parkinsons_Disease\u001b[0m\n",
      "\u001b[94mSchizophrenia_Related_Psychosis x Pataus_Syndrome\u001b[0m\n",
      "\u001b[94mSchizophrenia_Related_Psychosis x Peripheral_Nerve_Disorder\u001b[0m\n",
      "\u001b[94mSchizophrenia_Related_Psychosis x Peripheral_Vascular_Disease\u001b[0m\n",
      "\u001b[94mSchizophrenia_Related_Psychosis x Peritonitis_Retroperitoneal_Infection\u001b[0m\n",
      "\u001b[94mSchizophrenia_Related_Psychosis x Pernicious_or_B12_Deficiency_Anemia\u001b[0m\n",
      "\u001b[94mSchizophrenia_Related_Psychosis x Peroxisomal_Disorders\u001b[0m\n",
      "\u001b[94mSchizophrenia_Related_Psychosis x Personality_Disorder\u001b[0m\n",
      "\u001b[94mSchizophrenia_Related_Psychosis x Phenyketonuria\u001b[0m\n",
      "\u001b[94mSchizophrenia_Related_Psychosis x Phlebitis_Thrombophlebitis\u001b[0m\n",
      "\u001b[94mSchizophrenia_Related_Psychosis x Phosphorus_Metabolism_Disorder\u001b[0m\n",
      "\u001b[94mSchizophrenia_Related_Psychosis x Photodermatitis\u001b[0m\n",
      "\u001b[94mSchizophrenia_Related_Psychosis x Pituitary_Disorder\u001b[0m\n",
      "\u001b[94mSchizophrenia_Related_Psychosis x Pleuritis\u001b[0m\n",
      "\u001b[94mSchizophrenia_Related_Psychosis x Pneumonia\u001b[0m\n",
      "ss_log__ -1.1447301\n",
      "shift -2.3025851\n",
      "b_shrinkage_log__ -2.28946\n",
      "fixed_b -7.829342\n",
      "ls_log__ -1.1447301\n",
      "var_log__ -1.1447301\n",
      "f_gp_rotated_ -39.51436\n",
      "nu_y_log__ -0.61370564\n",
      "sigma_y_log__ -0.61370564\n"
     ]
    },
    {
     "name": "stderr",
     "output_type": "stream",
     "text": [
      "Initializing NUTS using advi+adapt_diag...\n"
     ]
    },
    {
     "name": "stdout",
     "output_type": "stream",
     "text": [
      "y -120.01046329437942\n"
     ]
    },
    {
     "data": {
      "text/html": [
       "\n",
       "    <div>\n",
       "        <style>\n",
       "            /* Turns off some styling */\n",
       "            progress {\n",
       "                /* gets rid of default border in Firefox and Opera. */\n",
       "                border: none;\n",
       "                /* Needs to be in here for Safari polyfill so background images work as expected. */\n",
       "                background-size: auto;\n",
       "            }\n",
       "            .progress-bar-interrupted, .progress-bar-interrupted::-webkit-progress-bar {\n",
       "                background: #F44336;\n",
       "            }\n",
       "        </style>\n",
       "      <progress value='17132' class='' max='200000' style='width:300px; height:20px; vertical-align: middle;'></progress>\n",
       "      8.57% [17132/200000 00:05<01:02 Average Loss = 118.02]\n",
       "    </div>\n",
       "    "
      ],
      "text/plain": [
       "<IPython.core.display.HTML object>"
      ]
     },
     "metadata": {},
     "output_type": "display_data"
    },
    {
     "name": "stderr",
     "output_type": "stream",
     "text": [
      "Convergence achieved at 17400\n",
      "Interrupted at 17,399 [8%]: Average Loss = 142.42\n",
      "Multiprocess sampling (4 chains in 4 jobs)\n",
      "NUTS: [sigma_y, nu_y, f_gp_rotated_, var, ls, fixed_b, b_shrinkage, shift, ss]\n"
     ]
    },
    {
     "data": {
      "text/html": [
       "\n",
       "    <div>\n",
       "        <style>\n",
       "            /* Turns off some styling */\n",
       "            progress {\n",
       "                /* gets rid of default border in Firefox and Opera. */\n",
       "                border: none;\n",
       "                /* Needs to be in here for Safari polyfill so background images work as expected. */\n",
       "                background-size: auto;\n",
       "            }\n",
       "            .progress-bar-interrupted, .progress-bar-interrupted::-webkit-progress-bar {\n",
       "                background: #F44336;\n",
       "            }\n",
       "        </style>\n",
       "      <progress value='8000' class='' max='8000' style='width:300px; height:20px; vertical-align: middle;'></progress>\n",
       "      100.00% [8000/8000 01:08<00:00 Sampling 4 chains, 3 divergences]\n",
       "    </div>\n",
       "    "
      ],
      "text/plain": [
       "<IPython.core.display.HTML object>"
      ]
     },
     "metadata": {},
     "output_type": "display_data"
    },
    {
     "name": "stderr",
     "output_type": "stream",
     "text": [
      "Sampling 4 chains for 1_500 tune and 500 draw iterations (6_000 + 2_000 draws total) took 69 seconds.\n",
      "There were 2 divergences after tuning. Increase `target_accept` or reparameterize.\n",
      "There was 1 divergence after tuning. Increase `target_accept` or reparameterize.\n",
      "The rhat statistic is larger than 1.05 for some parameters. This indicates slight problems during sampling.\n",
      "The estimated number of effective samples is smaller than 200 for some parameters.\n",
      "Got error No model on context stack. trying to find log_likelihood in translation.\n",
      "Got error No model on context stack. trying to find log_likelihood in translation.\n",
      "Got error No model on context stack. trying to find log_likelihood in translation.\n",
      "Got error No model on context stack. trying to find log_likelihood in translation.\n",
      "Got error No model on context stack. trying to find log_likelihood in translation.\n",
      "Got error No model on context stack. trying to find log_likelihood in translation.\n"
     ]
    },
    {
     "name": "stdout",
     "output_type": "stream",
     "text": [
      "b_shrinkage_log__ -2.28946\n",
      "fixed_b -7.829342\n",
      "ls_log__ -1.1447301\n",
      "var_log__ -1.1447301\n",
      "f_gp_rotated_ -39.51436\n",
      "nu_y_log__ -0.61370564\n",
      "sigma_y_log__ -0.61370564\n"
     ]
    },
    {
     "name": "stderr",
     "output_type": "stream",
     "text": [
      "Initializing NUTS using advi+adapt_diag...\n"
     ]
    },
    {
     "name": "stdout",
     "output_type": "stream",
     "text": [
      "y -120.01046329437942\n"
     ]
    },
    {
     "data": {
      "text/html": [
       "\n",
       "    <div>\n",
       "        <style>\n",
       "            /* Turns off some styling */\n",
       "            progress {\n",
       "                /* gets rid of default border in Firefox and Opera. */\n",
       "                border: none;\n",
       "                /* Needs to be in here for Safari polyfill so background images work as expected. */\n",
       "                background-size: auto;\n",
       "            }\n",
       "            .progress-bar-interrupted, .progress-bar-interrupted::-webkit-progress-bar {\n",
       "                background: #F44336;\n",
       "            }\n",
       "        </style>\n",
       "      <progress value='18103' class='' max='200000' style='width:300px; height:20px; vertical-align: middle;'></progress>\n",
       "      9.05% [18103/200000 00:05<00:56 Average Loss = 116.45]\n",
       "    </div>\n",
       "    "
      ],
      "text/plain": [
       "<IPython.core.display.HTML object>"
      ]
     },
     "metadata": {},
     "output_type": "display_data"
    },
    {
     "name": "stderr",
     "output_type": "stream",
     "text": [
      "Convergence achieved at 18200\n",
      "Interrupted at 18,199 [9%]: Average Loss = 140.28\n",
      "Multiprocess sampling (4 chains in 4 jobs)\n",
      "NUTS: [sigma_y, nu_y, f_gp_rotated_, var, ls, fixed_b, b_shrinkage]\n"
     ]
    },
    {
     "data": {
      "text/html": [
       "\n",
       "    <div>\n",
       "        <style>\n",
       "            /* Turns off some styling */\n",
       "            progress {\n",
       "                /* gets rid of default border in Firefox and Opera. */\n",
       "                border: none;\n",
       "                /* Needs to be in here for Safari polyfill so background images work as expected. */\n",
       "                background-size: auto;\n",
       "            }\n",
       "            .progress-bar-interrupted, .progress-bar-interrupted::-webkit-progress-bar {\n",
       "                background: #F44336;\n",
       "            }\n",
       "        </style>\n",
       "      <progress value='8000' class='' max='8000' style='width:300px; height:20px; vertical-align: middle;'></progress>\n",
       "      100.00% [8000/8000 01:02<00:00 Sampling 4 chains, 4 divergences]\n",
       "    </div>\n",
       "    "
      ],
      "text/plain": [
       "<IPython.core.display.HTML object>"
      ]
     },
     "metadata": {},
     "output_type": "display_data"
    },
    {
     "name": "stderr",
     "output_type": "stream",
     "text": [
      "Sampling 4 chains for 1_500 tune and 500 draw iterations (6_000 + 2_000 draws total) took 63 seconds.\n",
      "There was 1 divergence after tuning. Increase `target_accept` or reparameterize.\n",
      "The acceptance probability does not match the target. It is 0.7589764654985752, but should be close to 0.9. Try to increase the number of tuning steps.\n",
      "There were 3 divergences after tuning. Increase `target_accept` or reparameterize.\n",
      "The rhat statistic is larger than 1.05 for some parameters. This indicates slight problems during sampling.\n",
      "The estimated number of effective samples is smaller than 200 for some parameters.\n",
      "Got error No model on context stack. trying to find log_likelihood in translation.\n",
      "Got error No model on context stack. trying to find log_likelihood in translation.\n",
      "Got error No model on context stack. trying to find log_likelihood in translation.\n",
      "Got error No model on context stack. trying to find log_likelihood in translation.\n",
      "Got error No model on context stack. trying to find log_likelihood in translation.\n",
      "Got error No model on context stack. trying to find log_likelihood in translation.\n"
     ]
    },
    {
     "name": "stdout",
     "output_type": "stream",
     "text": [
      "\u001b[94mSchizophrenia_Related_Psychosis x Poliomyelitis\u001b[0m\n",
      "\u001b[94mSchizophrenia_Related_Psychosis x Polyclonal_Hypergammaglobulinemia\u001b[0m\n",
      "\u001b[94mSchizophrenia_Related_Psychosis x Polycystic_Kidney_Disease\u001b[0m\n",
      "\u001b[94mSchizophrenia_Related_Psychosis x Polycystic_Liver_Disease\u001b[0m\n",
      "\u001b[94mSchizophrenia_Related_Psychosis x Polymorphonuclear_Neutrophils_Disorders\u001b[0m\n",
      "\u001b[94mSchizophrenia_Related_Psychosis x Polyostotic_Fibrous_Dysplasia_of_Bone\u001b[0m\n",
      "\u001b[94mSchizophrenia_Related_Psychosis x Porphyrin_Metabolic_Disorder\u001b[0m\n",
      "\u001b[94mSchizophrenia_Related_Psychosis x Prader_Willi_Syndrome\u001b[0m\n",
      "\u001b[94mSchizophrenia_Related_Psychosis x Primary_Carnitine_Deficiency\u001b[0m\n",
      "\u001b[94mSchizophrenia_Related_Psychosis x Primary_Hereditary_Retinal_Dystrophy\u001b[0m\n",
      "\u001b[94mSchizophrenia_Related_Psychosis x Prion_Disease\u001b[0m\n",
      "\u001b[94mSchizophrenia_Related_Psychosis x Prostate_Cancer\u001b[0m\n",
      "\u001b[94mSchizophrenia_Related_Psychosis x Protozoan_Infection\u001b[0m\n",
      "\u001b[94mSchizophrenia_Related_Psychosis x Psoriasis_Related_Disorders\u001b[0m\n",
      "\u001b[94mSchizophrenia_Related_Psychosis x Psychogenic_Somatoform_Disorder\u001b[0m\n",
      "\u001b[94mSchizophrenia_Related_Psychosis x Pubertal_Dysfunction\u001b[0m\n",
      "\u001b[94mSchizophrenia_Related_Psychosis x Pulmonary_Embolism_Infarction\u001b[0m\n",
      "\u001b[94mSchizophrenia_Related_Psychosis x Pulmonary_Heart_Disease\u001b[0m\n",
      "\u001b[94mSchizophrenia_Related_Psychosis x Pure_Hypercholesterolemia\u001b[0m\n",
      "\u001b[94mSchizophrenia_Related_Psychosis x Pure_Hyperglyceridemia\u001b[0m\n",
      "\u001b[94mSchizophrenia_Related_Psychosis x Purine_Pyrimidine_Metabolic_Disorder\u001b[0m\n",
      "\u001b[94mSchizophrenia_Related_Psychosis x Purpura_Other_Hemorrhagic_Conditions\u001b[0m\n",
      "\u001b[94mSchizophrenia_Related_Psychosis x Radiation_Sensitivity\u001b[0m\n",
      "\u001b[94mSchizophrenia_Related_Psychosis x Reactive_Arthritis\u001b[0m\n",
      "\u001b[94mSchizophrenia_Related_Psychosis x Rectal_Anal_Disorder\u001b[0m\n",
      "\u001b[94mSchizophrenia_Related_Psychosis x Refraction_Accomodation_Disorders\u001b[0m\n",
      "\u001b[94mSchizophrenia_Related_Psychosis x Refsums_Disease\u001b[0m\n",
      "\u001b[94mSchizophrenia_Related_Psychosis x Renal_Glycosuria\u001b[0m\n",
      "\u001b[94mSchizophrenia_Related_Psychosis x Respiratory_Congenital_Anomaly\u001b[0m\n",
      "\u001b[94mSchizophrenia_Related_Psychosis x Respiratory_System_Cancer\u001b[0m\n",
      "\u001b[94mSchizophrenia_Related_Psychosis x Rheumatic_Heart_Disease\u001b[0m\n",
      "\u001b[94mSchizophrenia_Related_Psychosis x Rheumatoid_Arthritis_Related_Conditions\u001b[0m\n",
      "\u001b[94mSchizophrenia_Related_Psychosis x Rosacea\u001b[0m\n",
      "\u001b[94mSchizophrenia_Related_Psychosis x Ruvalcaba-Myhre_Syndrome\u001b[0m\n",
      "\u001b[94mSchizophrenia_Related_Psychosis x STI\u001b[0m\n",
      "\u001b[94mSchizophrenia_Related_Psychosis x Salivary_Gland_Disease\u001b[0m\n",
      "\u001b[94mSchizophrenia_Related_Psychosis x Sarcoidosis\u001b[0m\n",
      "\u001b[94mSchizophrenia_Related_Psychosis x Schizophrenia_Related_Psychosis\u001b[0m\n",
      "\u001b[94mSchizophrenia_Related_Psychosis x Schwartz-Jampel_Syndrome\u001b[0m\n",
      "\u001b[94mSchizophrenia_Related_Psychosis x Sebaceous_Gland_Disorder\u001b[0m\n",
      "\u001b[94mSchizophrenia_Related_Psychosis x Seborrheic_Dermatitis\u001b[0m\n",
      "\u001b[94mSchizophrenia_Related_Psychosis x Secondary_Arthropathy\u001b[0m\n",
      "\u001b[94mSchizophrenia_Related_Psychosis x Secondary_Diabetes_Mellitus\u001b[0m\n",
      "\u001b[94mSchizophrenia_Related_Psychosis x Secondary_Hereditary_Retinal_Dystrophy\u001b[0m\n",
      "\u001b[94mSchizophrenia_Related_Psychosis x Secondary_Malignant_Neoplasm\u001b[0m\n",
      "\u001b[94mSchizophrenia_Related_Psychosis x Septic_Arthritis\u001b[0m\n",
      "\u001b[94mSchizophrenia_Related_Psychosis x Septicemia\u001b[0m\n",
      "\u001b[94mSchizophrenia_Related_Psychosis x Severe_Combined_Immunodeficiency\u001b[0m\n",
      "\u001b[94mSchizophrenia_Related_Psychosis x Sexual_Dysfunction\u001b[0m\n",
      "\u001b[94mSchizophrenia_Related_Psychosis x Sjogrens_Syndrome\u001b[0m\n",
      "\u001b[94mSchizophrenia_Related_Psychosis x Skin_Infection\u001b[0m\n",
      "\u001b[94mSchizophrenia_Related_Psychosis x Sleep_Apnea\u001b[0m\n",
      "\u001b[94mSchizophrenia_Related_Psychosis x Sleep_Disorder\u001b[0m\n",
      "\u001b[94mSchizophrenia_Related_Psychosis x Smith-Magenis_Syndrome\u001b[0m\n",
      "\u001b[94mSchizophrenia_Related_Psychosis x Specified_Childhood_Cerebral_Degeneration\u001b[0m\n",
      "\u001b[94mSchizophrenia_Related_Psychosis x Speech_Language_Disorder\u001b[0m\n",
      "\u001b[94mSchizophrenia_Related_Psychosis x Spinal_Chord_Degeneration\u001b[0m\n",
      "\u001b[94mSchizophrenia_Related_Psychosis x Spinal_Muscular_Atrophy\u001b[0m\n",
      "\u001b[94mSchizophrenia_Related_Psychosis x Spinal_Stenosis\u001b[0m\n",
      "\u001b[94mSchizophrenia_Related_Psychosis x Spinocerebellar_Ataxia\u001b[0m\n",
      "\u001b[94mSchizophrenia_Related_Psychosis x Spirochetal_Infection\u001b[0m\n",
      "\u001b[94mSchizophrenia_Related_Psychosis x Spleen_Disease\u001b[0m\n",
      "\u001b[94mSchizophrenia_Related_Psychosis x Staphylococcus_Aureus_Infection\u001b[0m\n",
      "\u001b[94mSchizophrenia_Related_Psychosis x Stomach_Cancer\u001b[0m\n",
      "\u001b[94mSchizophrenia_Related_Psychosis x Streptococcal_Infection\u001b[0m\n",
      "\u001b[94mSchizophrenia_Related_Psychosis x Stuttering\u001b[0m\n",
      "\u001b[94mSchizophrenia_Related_Psychosis x Substance_Abuse\u001b[0m\n",
      "\u001b[94mSchizophrenia_Related_Psychosis x Sweat_Gland_Disorder\u001b[0m\n",
      "\u001b[94mSchizophrenia_Related_Psychosis x Syndrome_with_Pervasive_Congenital_Anomalies\u001b[0m\n",
      "\u001b[94mSchizophrenia_Related_Psychosis x Synovium_Tendon_Bursa_Disorder\u001b[0m\n",
      "\u001b[94mSchizophrenia_Related_Psychosis x Thymic_Disorders\u001b[0m\n",
      "\u001b[94mSchizophrenia_Related_Psychosis x Thyroid_Cancer\u001b[0m\n",
      "\u001b[94mSchizophrenia_Related_Psychosis x Thyroiditis\u001b[0m\n",
      "\u001b[94mSchizophrenia_Related_Psychosis x Thyrotoxicosis\u001b[0m\n",
      "\u001b[94mSchizophrenia_Related_Psychosis x Tics_Tourettes\u001b[0m\n",
      "\u001b[94mSchizophrenia_Related_Psychosis x Tongue_Disease\u001b[0m\n",
      "\u001b[94mSchizophrenia_Related_Psychosis x Tuberculosis\u001b[0m\n",
      "\u001b[94mSchizophrenia_Related_Psychosis x Tuberous_Sclerosis\u001b[0m\n",
      "\u001b[94mSchizophrenia_Related_Psychosis x Turners_Syndrome\u001b[0m\n",
      "\u001b[94mSchizophrenia_Related_Psychosis x Tympanic_Membrane_Disorders\u001b[0m\n",
      "\u001b[94mSchizophrenia_Related_Psychosis x Type_II_Diabetes_Mellitus\u001b[0m\n",
      "\u001b[94mSchizophrenia_Related_Psychosis x Type_I_Diabetes_Mellitus\u001b[0m\n",
      "\u001b[94mSchizophrenia_Related_Psychosis x UTI\u001b[0m\n",
      "\u001b[94mSchizophrenia_Related_Psychosis x Ulcerative_Colitis\u001b[0m\n",
      "\u001b[94mSchizophrenia_Related_Psychosis x Unspecified_Amyloidosis\u001b[0m\n",
      "\u001b[94mSchizophrenia_Related_Psychosis x Unspecified_Autoimmune_Disease\u001b[0m\n",
      "\u001b[94mSchizophrenia_Related_Psychosis x Unspecified_Behavioral_Development_Disorder\u001b[0m\n",
      "\u001b[94mSchizophrenia_Related_Psychosis x Unspecified_Benign_Neoplasm\u001b[0m\n",
      "\u001b[94mSchizophrenia_Related_Psychosis x Unspecified_Cancer\u001b[0m\n",
      "\u001b[94mSchizophrenia_Related_Psychosis x Unspecified_Cerebellar_Disease\u001b[0m\n",
      "\u001b[94mSchizophrenia_Related_Psychosis x Unspecified_Childhood_Cerebral_Degeneration\u001b[0m\n",
      "\u001b[94mSchizophrenia_Related_Psychosis x Unspecified_Childhood_Psychoses\u001b[0m\n",
      "\u001b[94mSchizophrenia_Related_Psychosis x Unspecified_Congenital_Anomaly\u001b[0m\n",
      "\u001b[94mSchizophrenia_Related_Psychosis x Unspecified_Diabetes_Mellitus\u001b[0m\n",
      "\u001b[94mSchizophrenia_Related_Psychosis x Unspecified_Encephalopathy\u001b[0m\n",
      "\u001b[94mSchizophrenia_Related_Psychosis x Unspecified_Endocrine_Disorder\u001b[0m\n",
      "\u001b[94mSchizophrenia_Related_Psychosis x Unspecified_Hematological_Disorder\u001b[0m\n",
      "\u001b[94mSchizophrenia_Related_Psychosis x Unspecified_Hepatitis\u001b[0m\n",
      "\u001b[94mSchizophrenia_Related_Psychosis x Unspecified_Hyperlipidemia\u001b[0m\n",
      "\u001b[94mSchizophrenia_Related_Psychosis x Unspecified_Immune_Deficiency\u001b[0m\n",
      "\u001b[94mSchizophrenia_Related_Psychosis x Unspecified_Immune_Disorder\u001b[0m\n",
      "\u001b[94mSchizophrenia_Related_Psychosis x Unspecified_Lipid_Metabolism_Disorder\u001b[0m\n",
      "\u001b[94mSchizophrenia_Related_Psychosis x Unspecified_Middle_Ear_Mastoid_Diseases\u001b[0m\n",
      "\u001b[94mSchizophrenia_Related_Psychosis x Unspecified_Neuropathy\u001b[0m\n",
      "\u001b[94mSchizophrenia_Related_Psychosis x Unspecified_Neuropsychiatric_Disorder\u001b[0m\n",
      "\u001b[94mSchizophrenia_Related_Psychosis x Unspecified_Plasma_Protein_Metabolism_Disorder\u001b[0m\n",
      "\u001b[94mSchizophrenia_Related_Psychosis x Unspecified_Polyglandular_Disorder\u001b[0m\n",
      "\u001b[94mSchizophrenia_Related_Psychosis x Unspecified_Recurrent_Headaches\u001b[0m\n",
      "\u001b[94mSchizophrenia_Related_Psychosis x Unspecified_White_Blood_Cell_Disease\u001b[0m\n",
      "\u001b[94mSchizophrenia_Related_Psychosis x Upper_Respiratory_Inflammation\u001b[0m\n",
      "ss_log__ -1.1447301\n",
      "shift -2.3025851\n",
      "b_shrinkage_log__ -2.28946\n",
      "fixed_b -7.829342\n",
      "ls_log__ -1.1447301\n",
      "var_log__ -1.1447301\n",
      "f_gp_rotated_ -47.784805\n",
      "nu_y_log__ -0.61370564\n",
      "sigma_y_log__ -0.61370564\n"
     ]
    },
    {
     "name": "stderr",
     "output_type": "stream",
     "text": [
      "Initializing NUTS using advi+adapt_diag...\n"
     ]
    },
    {
     "name": "stdout",
     "output_type": "stream",
     "text": [
      "y -203.81126107134975\n"
     ]
    },
    {
     "data": {
      "text/html": [
       "\n",
       "    <div>\n",
       "        <style>\n",
       "            /* Turns off some styling */\n",
       "            progress {\n",
       "                /* gets rid of default border in Firefox and Opera. */\n",
       "                border: none;\n",
       "                /* Needs to be in here for Safari polyfill so background images work as expected. */\n",
       "                background-size: auto;\n",
       "            }\n",
       "            .progress-bar-interrupted, .progress-bar-interrupted::-webkit-progress-bar {\n",
       "                background: #F44336;\n",
       "            }\n",
       "        </style>\n",
       "      <progress value='15551' class='' max='200000' style='width:300px; height:20px; vertical-align: middle;'></progress>\n",
       "      7.78% [15551/200000 00:05<01:06 Average Loss = 171.01]\n",
       "    </div>\n",
       "    "
      ],
      "text/plain": [
       "<IPython.core.display.HTML object>"
      ]
     },
     "metadata": {},
     "output_type": "display_data"
    },
    {
     "name": "stderr",
     "output_type": "stream",
     "text": [
      "Convergence achieved at 15700\n",
      "Interrupted at 15,699 [7%]: Average Loss = 198.78\n",
      "Multiprocess sampling (4 chains in 4 jobs)\n",
      "NUTS: [sigma_y, nu_y, f_gp_rotated_, var, ls, fixed_b, b_shrinkage, shift, ss]\n"
     ]
    },
    {
     "data": {
      "text/html": [
       "\n",
       "    <div>\n",
       "        <style>\n",
       "            /* Turns off some styling */\n",
       "            progress {\n",
       "                /* gets rid of default border in Firefox and Opera. */\n",
       "                border: none;\n",
       "                /* Needs to be in here for Safari polyfill so background images work as expected. */\n",
       "                background-size: auto;\n",
       "            }\n",
       "            .progress-bar-interrupted, .progress-bar-interrupted::-webkit-progress-bar {\n",
       "                background: #F44336;\n",
       "            }\n",
       "        </style>\n",
       "      <progress value='8000' class='' max='8000' style='width:300px; height:20px; vertical-align: middle;'></progress>\n",
       "      100.00% [8000/8000 00:50<00:00 Sampling 4 chains, 0 divergences]\n",
       "    </div>\n",
       "    "
      ],
      "text/plain": [
       "<IPython.core.display.HTML object>"
      ]
     },
     "metadata": {},
     "output_type": "display_data"
    },
    {
     "name": "stderr",
     "output_type": "stream",
     "text": [
      "Sampling 4 chains for 1_500 tune and 500 draw iterations (6_000 + 2_000 draws total) took 50 seconds.\n",
      "The number of effective samples is smaller than 25% for some parameters.\n",
      "Got error No model on context stack. trying to find log_likelihood in translation.\n",
      "Got error No model on context stack. trying to find log_likelihood in translation.\n",
      "Got error No model on context stack. trying to find log_likelihood in translation.\n",
      "Got error No model on context stack. trying to find log_likelihood in translation.\n",
      "Got error No model on context stack. trying to find log_likelihood in translation.\n",
      "Got error No model on context stack. trying to find log_likelihood in translation.\n"
     ]
    },
    {
     "name": "stdout",
     "output_type": "stream",
     "text": [
      "b_shrinkage_log__ -2.28946\n",
      "fixed_b -7.829342\n",
      "ls_log__ -1.1447301\n",
      "var_log__ -1.1447301\n",
      "f_gp_rotated_ -47.784805\n",
      "nu_y_log__ -0.61370564\n",
      "sigma_y_log__ -0.61370564\n"
     ]
    },
    {
     "name": "stderr",
     "output_type": "stream",
     "text": [
      "Initializing NUTS using advi+adapt_diag...\n"
     ]
    },
    {
     "name": "stdout",
     "output_type": "stream",
     "text": [
      "y -203.81126107134975\n"
     ]
    },
    {
     "data": {
      "text/html": [
       "\n",
       "    <div>\n",
       "        <style>\n",
       "            /* Turns off some styling */\n",
       "            progress {\n",
       "                /* gets rid of default border in Firefox and Opera. */\n",
       "                border: none;\n",
       "                /* Needs to be in here for Safari polyfill so background images work as expected. */\n",
       "                background-size: auto;\n",
       "            }\n",
       "            .progress-bar-interrupted, .progress-bar-interrupted::-webkit-progress-bar {\n",
       "                background: #F44336;\n",
       "            }\n",
       "        </style>\n",
       "      <progress value='14930' class='' max='200000' style='width:300px; height:20px; vertical-align: middle;'></progress>\n",
       "      7.46% [14930/200000 00:05<01:04 Average Loss = 171.98]\n",
       "    </div>\n",
       "    "
      ],
      "text/plain": [
       "<IPython.core.display.HTML object>"
      ]
     },
     "metadata": {},
     "output_type": "display_data"
    },
    {
     "name": "stderr",
     "output_type": "stream",
     "text": [
      "Convergence achieved at 15100\n",
      "Interrupted at 15,099 [7%]: Average Loss = 199.94\n",
      "Multiprocess sampling (4 chains in 4 jobs)\n",
      "NUTS: [sigma_y, nu_y, f_gp_rotated_, var, ls, fixed_b, b_shrinkage]\n"
     ]
    },
    {
     "data": {
      "text/html": [
       "\n",
       "    <div>\n",
       "        <style>\n",
       "            /* Turns off some styling */\n",
       "            progress {\n",
       "                /* gets rid of default border in Firefox and Opera. */\n",
       "                border: none;\n",
       "                /* Needs to be in here for Safari polyfill so background images work as expected. */\n",
       "                background-size: auto;\n",
       "            }\n",
       "            .progress-bar-interrupted, .progress-bar-interrupted::-webkit-progress-bar {\n",
       "                background: #F44336;\n",
       "            }\n",
       "        </style>\n",
       "      <progress value='8000' class='' max='8000' style='width:300px; height:20px; vertical-align: middle;'></progress>\n",
       "      100.00% [8000/8000 00:49<00:00 Sampling 4 chains, 4 divergences]\n",
       "    </div>\n",
       "    "
      ],
      "text/plain": [
       "<IPython.core.display.HTML object>"
      ]
     },
     "metadata": {},
     "output_type": "display_data"
    },
    {
     "name": "stderr",
     "output_type": "stream",
     "text": [
      "Sampling 4 chains for 1_500 tune and 500 draw iterations (6_000 + 2_000 draws total) took 50 seconds.\n",
      "There was 1 divergence after tuning. Increase `target_accept` or reparameterize.\n",
      "There were 3 divergences after tuning. Increase `target_accept` or reparameterize.\n",
      "The number of effective samples is smaller than 25% for some parameters.\n",
      "Got error No model on context stack. trying to find log_likelihood in translation.\n",
      "Got error No model on context stack. trying to find log_likelihood in translation.\n",
      "Got error No model on context stack. trying to find log_likelihood in translation.\n",
      "Got error No model on context stack. trying to find log_likelihood in translation.\n",
      "Got error No model on context stack. trying to find log_likelihood in translation.\n",
      "Got error No model on context stack. trying to find log_likelihood in translation.\n"
     ]
    },
    {
     "name": "stdout",
     "output_type": "stream",
     "text": [
      "\u001b[94mSchizophrenia_Related_Psychosis x Urethral_Disorder\u001b[0m\n",
      "\u001b[94mSchizophrenia_Related_Psychosis x Urinary_Calculus\u001b[0m\n",
      "\u001b[94mSchizophrenia_Related_Psychosis x Uterine_Cancer\u001b[0m\n",
      "\u001b[94mSchizophrenia_Related_Psychosis x Varicella_Infection\u001b[0m\n",
      "\u001b[94mSchizophrenia_Related_Psychosis x Vascular_Congenital_Anomaly\u001b[0m\n",
      "\u001b[94mSchizophrenia_Related_Psychosis x Vascular_Insufficiency\u001b[0m\n",
      "\u001b[94mSchizophrenia_Related_Psychosis x Vasculitis\u001b[0m\n",
      "\u001b[94mSchizophrenia_Related_Psychosis x Velo-Cardio-Facial_Syndrome\u001b[0m\n",
      "\u001b[94mSchizophrenia_Related_Psychosis x Viral_Hepatitis_A\u001b[0m\n",
      "\u001b[94mSchizophrenia_Related_Psychosis x Viral_Hepatitis_B\u001b[0m\n",
      "\u001b[94mSchizophrenia_Related_Psychosis x Viral_Hepatitis_C\u001b[0m\n",
      "\u001b[94mSchizophrenia_Related_Psychosis x Viral_Warts_HPV\u001b[0m\n",
      "\u001b[94mSchizophrenia_Related_Psychosis x Visual_Pathway_Cortex_Disorder\u001b[0m\n",
      "\u001b[94mSchizophrenia_Related_Psychosis x Vitamin_Deficiency\u001b[0m\n",
      "\u001b[94mSchizophrenia_Related_Psychosis x Vitamin_Toxicity\u001b[0m\n",
      "\u001b[94mSchizophrenia_Related_Psychosis x Vitreous_Body_Disorder\u001b[0m\n",
      "\u001b[94mSchizophrenia_Related_Psychosis x Wiskott-Alrich_Syndrome\u001b[0m\n"
     ]
    }
   ],
   "source": [
    "%env MKL_NUM_THREADS=4\n",
    "%env MKL_DEBUG_CPU_TYPE=5\n",
    "%env THEANO_FLAGS=device=cpu, floatX=float32\n",
    "\n",
    "import pickle\n",
    "import numpy as np\n",
    "import pymc3 as pm\n",
    "import arviz as az\n",
    "import theano.tensor as tt\n",
    "import matplotlib.pyplot as plt\n",
    "import matplotlib.font_manager as fm\n",
    "from collections import Counter\n",
    "from pathlib import Path\n",
    "import os\n",
    "import warnings\n",
    "warnings.filterwarnings('ignore')\n",
    "import logging\n",
    "logging.getLogger('matplotlib').setLevel(level=logging.CRITICAL)\n",
    "\n",
    "plt.rcParams['font.family'] = 'Nimbus Sans'\n",
    "\n",
    "INPUT_DATA_AUX_STATS = '../data preparation/all_patients_firstDiag_03292021_otherStats.bpkl3'\n",
    "TIME_DIFF_DATA = '../data preparation/two_dis_time_diff_seqs_03312021.bpkl3'\n",
    "OUTCOME_DIS = 'Schizophrenia_Related_Psychosis'\n",
    "# INTERVENTION = 'Abnormal_Spine_Curvature'\n",
    "TIME_DIFF_UNIT = 100\n",
    "TIME_DIFF_MIM_THRESHOLD = 100\n",
    "NUM_CHAINS = 4\n",
    "\n",
    "with open(INPUT_DATA_AUX_STATS, 'rb') as f:\n",
    "    all_aux_stats = pickle.load(f)\n",
    "    DIS_IDX_DICT = all_aux_stats['dis_to_idx']\n",
    "    DIS_SYS_DICT = all_aux_stats['dis_to_sys']\n",
    "    \n",
    "with open(TIME_DIFF_DATA, 'rb') as f:\n",
    "    ALL_DIS_PAIR_TIME_DIFF = pickle.load(f)\n",
    "\n",
    "SKIP = True\n",
    "for k, v in DIS_IDX_DICT.items():\n",
    "    \n",
    "    INTERVENTION = k\n",
    "    TIME_DIFF = ALL_DIS_PAIR_TIME_DIFF[(OUTCOME_DIS, \n",
    "                                        INTERVENTION, \n",
    "                                        DIS_IDX_DICT[OUTCOME_DIS],\n",
    "                                        DIS_IDX_DICT[INTERVENTION])]\n",
    "    \n",
    "    print('\\033[94m'+OUTCOME_DIS+' x '+INTERVENTION+'\\033[0m')\n",
    "    \n",
    "    if (len(TIME_DIFF)) < TIME_DIFF_MIM_THRESHOLD or (INTERVENTION == OUTCOME_DIS):\n",
    "        continue\n",
    "    \n",
    "#     if INTERVENTION == 'Rectal_Anal_Disorder': # Start from a particular disease\n",
    "#         SKIP = False\n",
    "    \n",
    "#     if SKIP:\n",
    "#         continue\n",
    "        \n",
    "    # Prepare data ------------------------------------------------------------\n",
    "    out_data_time_diff_rounded = np.array(TIME_DIFF) // TIME_DIFF_UNIT\n",
    "    time_diff_counter = Counter(out_data_time_diff_rounded)\n",
    "    time_diff_xaxis = list(time_diff_counter.keys())\n",
    "    time_diff_yaxis = [time_diff_counter[t] for t in time_diff_xaxis]\n",
    "        \n",
    "    # Safely create output folder ---------------------------------------------\n",
    "    plot_out_path = f'RDD_experiment_{OUTCOME_DIS}_06202022/{INTERVENTION}/plots'\n",
    "    data_out_path = f'RDD_experiment_{OUTCOME_DIS}_06202022/{INTERVENTION}'\n",
    "    Path(plot_out_path).mkdir(parents=True, exist_ok=True)\n",
    "    \n",
    "    # Plot raw data points ----------------------------------------------------\n",
    "    fig, ax = plt.subplots(1, 1)\n",
    "    ax.plot(time_diff_xaxis, time_diff_yaxis, '.')\n",
    "    ax.axvline(color='gray')\n",
    "    ax.text(0.0, 1.1, 'Outcome: '+OUTCOME_DIS, transform=ax.transAxes)\n",
    "    ax.text(0.0, 1.05, 'Intervention: '+INTERVENTION, transform=ax.transAxes)\n",
    "    ax.set_ylabel('Number of diagnosis')\n",
    "    ax.set_xlabel('Time difference between the outcome and the intervention\\n'\n",
    "                  f'(unit = {TIME_DIFF_UNIT} days)')\n",
    "    plt.savefig(plot_out_path+'/raw_data_points.pdf', format='pdf', bbox_inches='tight')\n",
    "    plt.close()\n",
    "    \n",
    "    # Prepare MCMC data -------------------------------------------------------\n",
    "    \n",
    "    data_ord = np.argsort(time_diff_xaxis)\n",
    "    data_X = np.array(time_diff_xaxis, dtype=np.float64)[data_ord, None]\n",
    "    data_X_poly = np.hstack((np.ones_like(data_X), data_X, data_X**2.0, data_X**3.0))\n",
    "    data_X_poly_abs = np.abs(data_X_poly)\n",
    "    data_y = np.array(time_diff_yaxis, dtype=np.float64)[data_ord]\n",
    "    data_x_before = 1.0*(data_X.flatten() < 0.0)\n",
    "    \n",
    "    # Alternative model, with a shift at point zero ---------------------------\n",
    "    alter_model = pm.Model()\n",
    "    \n",
    "    with alter_model:\n",
    "\n",
    "        # The RDD shift at point zero\n",
    "        ss = pm.HalfCauchy('ss', beta=5.0)\n",
    "        shift = pm.Laplace('shift', mu=0.0, b=ss)\n",
    "\n",
    "        # Polynomial fit\n",
    "        b_shrinkage = pm.HalfCauchy('b_shrinkage', beta=1.0, shape=2)\n",
    "        fixed_b = pm.Normal('fixed_b', mu=0, sigma=20.0*b_shrinkage, shape=2)\n",
    "\n",
    "        # Gaussian process fit\n",
    "        ls = pm.HalfCauchy('ls', beta=5.0)\n",
    "        var = pm.HalfCauchy('var', beta=5.0)\n",
    "        cov_func = var * pm.gp.cov.ExpQuad(1, ls=ls)\n",
    "        gp = pm.gp.Latent(cov_func=cov_func)\n",
    "        f_gp = gp.prior('f_gp', X=data_X)\n",
    "\n",
    "        poly_abs = pm.Deterministic('poly_abs', tt.dot(data_X_poly_abs[:, :2], fixed_b))\n",
    "\n",
    "        l = pm.Deterministic('l', f_gp + poly_abs + data_x_before * shift)\n",
    "        nu_y = pm.Gamma('nu_y', alpha=2.0, beta=1.0)\n",
    "        sigma_y = pm.Gamma('sigma_y', alpha=2.0, beta=1.0)\n",
    "        y = pm.StudentT('y', \n",
    "                        nu=nu_y,\n",
    "                        mu=l,\n",
    "                        sigma=sigma_y,\n",
    "                        observed=data_y)\n",
    "\n",
    "    for RV in alter_model.basic_RVs:\n",
    "        print(RV.name, RV.logp(alter_model.test_point))\n",
    "\n",
    "    with alter_model:\n",
    "        start, step = pm.init_nuts(init='advi+adapt_diag', \n",
    "                                   chains=NUM_CHAINS,\n",
    "                                   n_init=200000,\n",
    "                                   target_accept=0.9)\n",
    "        alter_trace = pm.sample(draws=500,\n",
    "                                chains=NUM_CHAINS,\n",
    "                                tune=1500,\n",
    "                                start=start,\n",
    "                                step=step,\n",
    "                                discard_tuned_samples=True)\n",
    "    \n",
    "    # Trace plot --------------------------------------------------------\n",
    "    az.style.use('arviz-whitegrid')\n",
    "    az.plot_trace(alter_trace, var_names=['ss', 'shift', \n",
    "                                          'b_shrinkage', 'fixed_b', \n",
    "                                          'ls', 'var',\n",
    "                                          'nu_y', 'sigma_y'])\n",
    "    plt.savefig(plot_out_path+'/alter_model_trace_plot.pdf', format='pdf', bbox_inches='tight')\n",
    "    plt.close()\n",
    "    \n",
    "    alter_summ = az.summary(alter_trace, \n",
    "                            var_names=['ss', 'shift', \n",
    "                                       'b_shrinkage', 'fixed_b', \n",
    "                                       'ls', 'var',\n",
    "                                       'nu_y', 'sigma_y'])\n",
    "    alter_summ.to_csv(data_out_path+'/alter_trace_summary.csv')\n",
    "    \n",
    "    # Trace data --------------------------------------------------------------\n",
    "    l_alter_trace = alter_trace['l']\n",
    "    f_gp_alter_trace = alter_trace['f_gp']\n",
    "    poly_abs_alter_trace = alter_trace['poly_abs']\n",
    "    shift_alter_trace = alter_trace['shift']\n",
    "    fixed_b_alter_trace = alter_trace['fixed_b']\n",
    "    \n",
    "    # Energy plot -------------------------------------------------------------\n",
    "    az.plot_energy(alter_trace)\n",
    "    plt.savefig(plot_out_path+'/alter_model_energy_plot.pdf', format='pdf', bbox_inches='tight')\n",
    "    plt.close()\n",
    "    \n",
    "    # Plot fitting results ----------------------------------------------------\n",
    "    \n",
    "    trend_x_range = np.arange(data_X_poly[0, 1], data_X_poly[-1, 1], 0.1)[:, None]\n",
    "    trend_x_range_and_bias = np.hstack((np.ones_like(trend_x_range),\n",
    "                                        trend_x_range))\n",
    "    trend_y = fixed_b_alter_trace @ np.abs(np.transpose(trend_x_range_and_bias))\n",
    "    # trend_y = np.exp(trend_y)\n",
    "    trend_y += np.outer(shift_alter_trace, (trend_x_range < 0).flatten())\n",
    "    \n",
    "    waic = az.waic(alter_trace, pointwise=True, scale='deviance')\n",
    "    loo = az.loo(alter_trace, pointwise=True, scale='deviance')\n",
    "    shift_hdi = np.float_(az.hdi(shift_alter_trace, hdi_prob=0.95))\n",
    "    slo, sup = round(shift_hdi[0], 4), round(shift_hdi[1], 4)\n",
    "\n",
    "    plt.style.use('default')\n",
    "    plt.rcParams['font.family'] = 'Nimbus Sans'\n",
    "    fig, ax = plt.subplots(1, 1)\n",
    "    ax.plot(data_X.flatten(), data_y, '.')\n",
    "    ax.plot(data_X.flatten(), l_alter_trace.mean(axis=0), label='Posterior fit (95% HDI)')\n",
    "    az.plot_hdi(data_X.flatten(), l_alter_trace, hdi_prob=0.95, \n",
    "                ax=ax, smooth=False, fill_kwargs={'linewidth': 0.0})\n",
    "    ax.plot(data_X.flatten(), f_gp_alter_trace.mean(axis=0), label='GP tweak estimate')\n",
    "    ax.plot(trend_x_range.flatten(), trend_y.mean(axis=0), label='Trend + shift estimate')\n",
    "    ax.text(1.05, 0.75, \n",
    "            f'WAIC = {np.around(waic.waic, 4)}', \n",
    "            fontsize='medium',\n",
    "            transform=ax.transAxes)\n",
    "    ax.text(1.05, 0.7, \n",
    "            f'LOO = {np.around(loo.loo, 4)}', \n",
    "            fontsize='medium',\n",
    "            transform=ax.transAxes)\n",
    "    ax.text(1.05, 0.65,\n",
    "            f'Shift 95% HDI = ({slo}, {sup})',\n",
    "            fontsize='medium',\n",
    "            transform=ax.transAxes)\n",
    "    ax.legend(loc='upper right', bbox_to_anchor=(1.5, 1.0))\n",
    "\n",
    "    ax.axvline(color='gray')\n",
    "    ax.text(0.0, 1.1, 'Outcome: '+OUTCOME_DIS, transform=ax.transAxes)\n",
    "    ax.text(0.0, 1.05, 'Intervention: '+INTERVENTION, transform=ax.transAxes)\n",
    "    ax.set_ylabel('Number of diagnosis')\n",
    "    ax.set_xlabel('Time difference between the outcome and the intervention\\n'\n",
    "                  f'(unit = {TIME_DIFF_UNIT} days)')\n",
    "    \n",
    "    plt.savefig(plot_out_path+'/alter_model_posterior_est_plot.pdf', format='pdf', bbox_inches='tight')\n",
    "    plt.close()\n",
    "    \n",
    "    # Null model, without a shift at point zero ---------------------------\n",
    "    null_model = pm.Model()\n",
    "    \n",
    "    with null_model:\n",
    "\n",
    "        # The RDD shift at point zero\n",
    "        # Pass\n",
    "\n",
    "        # Polynomial fit\n",
    "        b_shrinkage = pm.HalfCauchy('b_shrinkage', beta=1.0, shape=2)\n",
    "        fixed_b = pm.Normal('fixed_b', mu=0, sigma=20.0*b_shrinkage, shape=2)\n",
    "\n",
    "        # Gaussian process fit\n",
    "        ls = pm.HalfCauchy('ls', beta=5.0)\n",
    "        var = pm.HalfCauchy('var', beta=5.0)\n",
    "        cov_func = var * pm.gp.cov.ExpQuad(1, ls=ls)\n",
    "        gp = pm.gp.Latent(cov_func=cov_func)\n",
    "        f_gp = gp.prior('f_gp', X=data_X)\n",
    "\n",
    "        poly_abs = pm.Deterministic('poly_abs', tt.dot(data_X_poly_abs[:, :2], fixed_b))\n",
    "\n",
    "        l = pm.Deterministic('l', f_gp + poly_abs ) #+ data_x_before * shift)\n",
    "        nu_y = pm.Gamma('nu_y', alpha=2.0, beta=1.0)\n",
    "        sigma_y = pm.Gamma('sigma_y', alpha=2.0, beta=1.0)\n",
    "        y = pm.StudentT('y', \n",
    "                        nu=nu_y,\n",
    "                        mu=l,\n",
    "                        sigma=sigma_y,\n",
    "                        observed=data_y)\n",
    "\n",
    "    for RV in null_model.basic_RVs:\n",
    "        print(RV.name, RV.logp(null_model.test_point))\n",
    "\n",
    "    with null_model:\n",
    "        start, step = pm.init_nuts(init='advi+adapt_diag', \n",
    "                                   chains=NUM_CHAINS,\n",
    "                                   n_init=200000,\n",
    "                                   target_accept=0.9)\n",
    "        null_trace = pm.sample(draws=500,\n",
    "                               chains=NUM_CHAINS,\n",
    "                               tune=1500,\n",
    "                               start=start,\n",
    "                               step=step,\n",
    "                               discard_tuned_samples=True)\n",
    "        \n",
    "    # Trace plot --------------------------------------------------------\n",
    "    az.style.use('arviz-whitegrid')\n",
    "    az.plot_trace(null_trace, var_names=['b_shrinkage', 'fixed_b', \n",
    "                                          'ls', 'var',\n",
    "                                          'nu_y', 'sigma_y'])\n",
    "    plt.savefig(plot_out_path+'/null_model_trace_plot.pdf', format='pdf', bbox_inches='tight')\n",
    "    plt.close()\n",
    "    \n",
    "    null_summ = az.summary(null_trace, \n",
    "                           var_names=['b_shrinkage', 'fixed_b', \n",
    "                                      'ls', 'var',\n",
    "                                      'nu_y', 'sigma_y'])\n",
    "    null_summ.to_csv(data_out_path+'/null_trace_summary.csv')\n",
    "    \n",
    "    # Trace data --------------------------------------------------------------\n",
    "    l_null_trace = null_trace['l']\n",
    "    f_gp_null_trace = null_trace['f_gp']\n",
    "    poly_abs_null_trace = null_trace['poly_abs']\n",
    "    fixed_b_null_trace = null_trace['fixed_b']\n",
    "    \n",
    "    # Energy plot -------------------------------------------------------------\n",
    "    az.plot_energy(null_trace)\n",
    "    plt.savefig(plot_out_path+'/null_model_energy_plot.pdf', format='pdf', bbox_inches='tight')\n",
    "    plt.close()\n",
    "    \n",
    "    # Plot fitting results ----------------------------------------------------\n",
    "    \n",
    "    null_trend_y = fixed_b_null_trace @ np.abs(np.transpose(trend_x_range_and_bias))\n",
    "    # null_trend_y = np.exp(null_trend_y)\n",
    "    \n",
    "    null_waic = az.waic(null_trace, pointwise=True, scale='deviance')\n",
    "    null_loo = az.loo(null_trace, pointwise=True, scale='deviance')\n",
    "\n",
    "    plt.style.use('default')\n",
    "    plt.rcParams['font.family'] = 'Nimbus Sans'\n",
    "    fig, ax = plt.subplots(1, 1)\n",
    "    ax.plot(data_X.flatten(), data_y, '.')\n",
    "    ax.plot(data_X.flatten(), l_null_trace.mean(axis=0), label='Posterior fit (95% HDI)')\n",
    "    az.plot_hdi(data_X.flatten(), l_null_trace, hdi_prob=0.95, \n",
    "                ax=ax, smooth=False, fill_kwargs={'linewidth': 0.0})\n",
    "    ax.plot(data_X.flatten(), f_gp_null_trace.mean(axis=0), label='GP tweak estimate')\n",
    "    ax.plot(trend_x_range.flatten(), null_trend_y.mean(axis=0), label='Trend + shift estimate')\n",
    "    ax.text(1.05, 0.75, \n",
    "            f'WAIC = {np.around(null_waic.waic, 4)}', \n",
    "            fontsize='medium',\n",
    "            transform=ax.transAxes)\n",
    "    ax.text(1.05, 0.7, \n",
    "            f'LOO = {np.around(null_loo.loo, 4)}', \n",
    "            fontsize='medium',\n",
    "            transform=ax.transAxes)\n",
    "    ax.legend(loc='upper right', bbox_to_anchor=(1.5, 1.0))\n",
    "\n",
    "    ax.axvline(color='gray')\n",
    "    ax.text(0.0, 1.1, 'Outcome: '+OUTCOME_DIS, transform=ax.transAxes)\n",
    "    ax.text(0.0, 1.05, 'Intervention: '+INTERVENTION, transform=ax.transAxes)\n",
    "    ax.set_ylabel('Number of diagnosis')\n",
    "    ax.set_xlabel('Time difference between the outcome and the intervention\\n'\n",
    "                  f'(unit = {TIME_DIFF_UNIT} days)')\n",
    "    \n",
    "    plt.savefig(plot_out_path+'/null_model_posterior_est_plot.pdf', format='pdf', bbox_inches='tight')\n",
    "    plt.close()\n",
    "    \n",
    "    # ELPD plot ---------------------------------------------------------------\n",
    "    plt.style.use('default')\n",
    "    plt.rcParams['font.family'] = 'Nimbus Sans'\n",
    "    fig, ax = plt.subplots(1, 1)\n",
    "    ax.plot(data_X.flatten(), \n",
    "            0.5*(null_waic.waic_i-waic.waic_i), '.')\n",
    "    ax.axvline(color='gray')\n",
    "    ax.text(0.0, 1.1, 'Outcome: '+OUTCOME_DIS, transform=ax.transAxes)\n",
    "    ax.text(0.0, 1.05, 'Intervention: '+INTERVENTION, transform=ax.transAxes)\n",
    "    ax.set_ylabel('ELPD difference (Alternative, shifted - Null, non-shifted)')\n",
    "    ax.set_xlabel('Time difference between the outcome and the intervention\\n'\n",
    "                  f'(unit = {TIME_DIFF_UNIT} days)')\n",
    "    plt.savefig(plot_out_path+'/model_compare_elpd.pdf', format='pdf', bbox_inches='tight')\n",
    "    plt.close()\n",
    "    \n",
    "    # Save data \n",
    "    with open(data_out_path+'/analysis_results_and_plot_data.bpkl3', 'wb') as f:\n",
    "        pickle.dump({'raw_data': (TIME_DIFF, TIME_DIFF_UNIT, out_data_time_diff_rounded),\n",
    "                     'alter.trace': alter_trace,\n",
    "                     'alter.model': alter_model,\n",
    "                     'alter.waic': waic,\n",
    "                     'alter.loo': loo,\n",
    "                     'null.trace': null_trace,\n",
    "                     'null.model': null_model,\n",
    "                     'null.waic': null_waic,\n",
    "                     'null.loo': null_loo,\n",
    "                     'plot.trend_data': (trend_x_range, trend_y, null_trend_y)}, f)\n",
    "    \n",
    "    # break"
   ]
  }
 ],
 "metadata": {
  "kernelspec": {
   "display_name": "Python 3",
   "language": "python",
   "name": "python3"
  },
  "language_info": {
   "codemirror_mode": {
    "name": "ipython",
    "version": 3
   },
   "file_extension": ".py",
   "mimetype": "text/x-python",
   "name": "python",
   "nbconvert_exporter": "python",
   "pygments_lexer": "ipython3",
   "version": "3.8.5"
  }
 },
 "nbformat": 4,
 "nbformat_minor": 4
}
