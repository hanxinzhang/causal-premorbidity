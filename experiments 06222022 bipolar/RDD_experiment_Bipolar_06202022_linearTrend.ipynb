{
 "cells": [
  {
   "cell_type": "code",
   "execution_count": 1,
   "metadata": {
    "execution": {
     "iopub.execute_input": "2022-06-22T20:07:28.927286Z",
     "iopub.status.busy": "2022-06-22T20:07:28.891667Z",
     "iopub.status.idle": "2022-06-22T21:01:50.439431Z",
     "shell.execute_reply": "2022-06-22T21:01:50.439859Z"
    }
   },
   "outputs": [
    {
     "name": "stdout",
     "output_type": "stream",
     "text": [
      "env: MKL_NUM_THREADS=4\n",
      "env: MKL_DEBUG_CPU_TYPE=5\n",
      "env: THEANO_FLAGS=device=cpu, floatX=float32\n",
      "\u001b[94mBipolar_Disorder x ADHD\u001b[0m\n",
      "ss_log__ -1.1447301\n",
      "shift -2.3025851\n",
      "b_shrinkage_log__ -2.28946\n",
      "fixed_b -7.829342\n",
      "ls_log__ -1.1447301\n",
      "var_log__ -1.1447301\n",
      "f_gp_rotated_ -31.243912\n",
      "nu_y_log__ -0.61370564\n",
      "sigma_y_log__ -0.61370564\n"
     ]
    },
    {
     "name": "stderr",
     "output_type": "stream",
     "text": [
      "Initializing NUTS using advi+adapt_diag...\n"
     ]
    },
    {
     "name": "stdout",
     "output_type": "stream",
     "text": [
      "y -127.33266505258855\n"
     ]
    },
    {
     "data": {
      "text/html": [
       "\n",
       "    <div>\n",
       "        <style>\n",
       "            /* Turns off some styling */\n",
       "            progress {\n",
       "                /* gets rid of default border in Firefox and Opera. */\n",
       "                border: none;\n",
       "                /* Needs to be in here for Safari polyfill so background images work as expected. */\n",
       "                background-size: auto;\n",
       "            }\n",
       "            .progress-bar-interrupted, .progress-bar-interrupted::-webkit-progress-bar {\n",
       "                background: #F44336;\n",
       "            }\n",
       "        </style>\n",
       "      <progress value='13250' class='' max='200000' style='width:300px; height:20px; vertical-align: middle;'></progress>\n",
       "      6.62% [13250/200000 00:03<00:53 Average Loss = 121.89]\n",
       "    </div>\n",
       "    "
      ],
      "text/plain": [
       "<IPython.core.display.HTML object>"
      ]
     },
     "metadata": {},
     "output_type": "display_data"
    },
    {
     "name": "stderr",
     "output_type": "stream",
     "text": [
      "Convergence achieved at 13700\n",
      "Interrupted at 13,699 [6%]: Average Loss = 133.57\n",
      "Multiprocess sampling (4 chains in 4 jobs)\n",
      "NUTS: [sigma_y, nu_y, f_gp_rotated_, var, ls, fixed_b, b_shrinkage, shift, ss]\n"
     ]
    },
    {
     "data": {
      "text/html": [
       "\n",
       "    <div>\n",
       "        <style>\n",
       "            /* Turns off some styling */\n",
       "            progress {\n",
       "                /* gets rid of default border in Firefox and Opera. */\n",
       "                border: none;\n",
       "                /* Needs to be in here for Safari polyfill so background images work as expected. */\n",
       "                background-size: auto;\n",
       "            }\n",
       "            .progress-bar-interrupted, .progress-bar-interrupted::-webkit-progress-bar {\n",
       "                background: #F44336;\n",
       "            }\n",
       "        </style>\n",
       "      <progress value='8000' class='' max='8000' style='width:300px; height:20px; vertical-align: middle;'></progress>\n",
       "      100.00% [8000/8000 01:11<00:00 Sampling 4 chains, 18 divergences]\n",
       "    </div>\n",
       "    "
      ],
      "text/plain": [
       "<IPython.core.display.HTML object>"
      ]
     },
     "metadata": {},
     "output_type": "display_data"
    },
    {
     "name": "stderr",
     "output_type": "stream",
     "text": [
      "Sampling 4 chains for 1_500 tune and 500 draw iterations (6_000 + 2_000 draws total) took 71 seconds.\n",
      "There were 2 divergences after tuning. Increase `target_accept` or reparameterize.\n",
      "There was 1 divergence after tuning. Increase `target_accept` or reparameterize.\n",
      "There were 15 divergences after tuning. Increase `target_accept` or reparameterize.\n",
      "The number of effective samples is smaller than 25% for some parameters.\n",
      "Got error No model on context stack. trying to find log_likelihood in translation.\n",
      "Got error No model on context stack. trying to find log_likelihood in translation.\n",
      "Got error No model on context stack. trying to find log_likelihood in translation.\n",
      "Got error No model on context stack. trying to find log_likelihood in translation.\n",
      "Got error No model on context stack. trying to find log_likelihood in translation.\n",
      "Got error No model on context stack. trying to find log_likelihood in translation.\n"
     ]
    },
    {
     "name": "stdout",
     "output_type": "stream",
     "text": [
      "b_shrinkage_log__ -2.28946\n",
      "fixed_b -7.829342\n",
      "ls_log__ -1.1447301\n",
      "var_log__ -1.1447301\n",
      "f_gp_rotated_ -31.243912\n",
      "nu_y_log__ -0.61370564\n",
      "sigma_y_log__ -0.61370564\n"
     ]
    },
    {
     "name": "stderr",
     "output_type": "stream",
     "text": [
      "Initializing NUTS using advi+adapt_diag...\n"
     ]
    },
    {
     "name": "stdout",
     "output_type": "stream",
     "text": [
      "y -127.33266505258855\n"
     ]
    },
    {
     "data": {
      "text/html": [
       "\n",
       "    <div>\n",
       "        <style>\n",
       "            /* Turns off some styling */\n",
       "            progress {\n",
       "                /* gets rid of default border in Firefox and Opera. */\n",
       "                border: none;\n",
       "                /* Needs to be in here for Safari polyfill so background images work as expected. */\n",
       "                background-size: auto;\n",
       "            }\n",
       "            .progress-bar-interrupted, .progress-bar-interrupted::-webkit-progress-bar {\n",
       "                background: #F44336;\n",
       "            }\n",
       "        </style>\n",
       "      <progress value='11491' class='' max='200000' style='width:300px; height:20px; vertical-align: middle;'></progress>\n",
       "      5.75% [11491/200000 00:03<00:52 Average Loss = 122.47]\n",
       "    </div>\n",
       "    "
      ],
      "text/plain": [
       "<IPython.core.display.HTML object>"
      ]
     },
     "metadata": {},
     "output_type": "display_data"
    },
    {
     "name": "stderr",
     "output_type": "stream",
     "text": [
      "Convergence achieved at 11700\n",
      "Interrupted at 11,699 [5%]: Average Loss = 134.99\n",
      "Multiprocess sampling (4 chains in 4 jobs)\n",
      "NUTS: [sigma_y, nu_y, f_gp_rotated_, var, ls, fixed_b, b_shrinkage]\n"
     ]
    },
    {
     "data": {
      "text/html": [
       "\n",
       "    <div>\n",
       "        <style>\n",
       "            /* Turns off some styling */\n",
       "            progress {\n",
       "                /* gets rid of default border in Firefox and Opera. */\n",
       "                border: none;\n",
       "                /* Needs to be in here for Safari polyfill so background images work as expected. */\n",
       "                background-size: auto;\n",
       "            }\n",
       "            .progress-bar-interrupted, .progress-bar-interrupted::-webkit-progress-bar {\n",
       "                background: #F44336;\n",
       "            }\n",
       "        </style>\n",
       "      <progress value='8000' class='' max='8000' style='width:300px; height:20px; vertical-align: middle;'></progress>\n",
       "      100.00% [8000/8000 00:44<00:00 Sampling 4 chains, 16 divergences]\n",
       "    </div>\n",
       "    "
      ],
      "text/plain": [
       "<IPython.core.display.HTML object>"
      ]
     },
     "metadata": {},
     "output_type": "display_data"
    },
    {
     "name": "stderr",
     "output_type": "stream",
     "text": [
      "Sampling 4 chains for 1_500 tune and 500 draw iterations (6_000 + 2_000 draws total) took 45 seconds.\n",
      "There were 3 divergences after tuning. Increase `target_accept` or reparameterize.\n",
      "There were 5 divergences after tuning. Increase `target_accept` or reparameterize.\n",
      "There were 4 divergences after tuning. Increase `target_accept` or reparameterize.\n",
      "There were 4 divergences after tuning. Increase `target_accept` or reparameterize.\n",
      "The number of effective samples is smaller than 25% for some parameters.\n",
      "Got error No model on context stack. trying to find log_likelihood in translation.\n",
      "Got error No model on context stack. trying to find log_likelihood in translation.\n",
      "Got error No model on context stack. trying to find log_likelihood in translation.\n",
      "Got error No model on context stack. trying to find log_likelihood in translation.\n",
      "Got error No model on context stack. trying to find log_likelihood in translation.\n",
      "Got error No model on context stack. trying to find log_likelihood in translation.\n"
     ]
    },
    {
     "name": "stdout",
     "output_type": "stream",
     "text": [
      "\u001b[94mBipolar_Disorder x Abnormal_Spine_Curvature\u001b[0m\n",
      "\u001b[94mBipolar_Disorder x Acne\u001b[0m\n",
      "\u001b[94mBipolar_Disorder x Acquired_Coagulation_Defect\u001b[0m\n",
      "\u001b[94mBipolar_Disorder x Acquired_Hemolytic_Anemias\u001b[0m\n",
      "\u001b[94mBipolar_Disorder x Acquired_Hypothyroidism\u001b[0m\n",
      "\u001b[94mBipolar_Disorder x Acquired_Limb_Deformities\u001b[0m\n",
      "\u001b[94mBipolar_Disorder x Acquired_Other_Myopathies\u001b[0m\n",
      "\u001b[94mBipolar_Disorder x Acquired_Retinal_Defects\u001b[0m\n",
      "\u001b[94mBipolar_Disorder x Acquired_Visual_Disturbances\u001b[0m\n",
      "\u001b[94mBipolar_Disorder x Acrocephalosyndactyly\u001b[0m\n",
      "\u001b[94mBipolar_Disorder x Acute_Bronchitis\u001b[0m\n",
      "ss_log__ -1.1447301\n",
      "shift -2.3025851\n",
      "b_shrinkage_log__ -2.28946\n",
      "fixed_b -7.829342\n",
      "ls_log__ -1.1447301\n",
      "var_log__ -1.1447301\n",
      "f_gp_rotated_ -45.02799\n",
      "nu_y_log__ -0.61370564\n",
      "sigma_y_log__ -0.61370564\n"
     ]
    },
    {
     "name": "stderr",
     "output_type": "stream",
     "text": [
      "Initializing NUTS using advi+adapt_diag...\n"
     ]
    },
    {
     "name": "stdout",
     "output_type": "stream",
     "text": [
      "y -194.98827702912826\n"
     ]
    },
    {
     "data": {
      "text/html": [
       "\n",
       "    <div>\n",
       "        <style>\n",
       "            /* Turns off some styling */\n",
       "            progress {\n",
       "                /* gets rid of default border in Firefox and Opera. */\n",
       "                border: none;\n",
       "                /* Needs to be in here for Safari polyfill so background images work as expected. */\n",
       "                background-size: auto;\n",
       "            }\n",
       "            .progress-bar-interrupted, .progress-bar-interrupted::-webkit-progress-bar {\n",
       "                background: #F44336;\n",
       "            }\n",
       "        </style>\n",
       "      <progress value='15104' class='' max='200000' style='width:300px; height:20px; vertical-align: middle;'></progress>\n",
       "      7.55% [15104/200000 00:05<01:04 Average Loss = 153.04]\n",
       "    </div>\n",
       "    "
      ],
      "text/plain": [
       "<IPython.core.display.HTML object>"
      ]
     },
     "metadata": {},
     "output_type": "display_data"
    },
    {
     "name": "stderr",
     "output_type": "stream",
     "text": [
      "Convergence achieved at 15400\n",
      "Interrupted at 15,399 [7%]: Average Loss = 178.69\n",
      "Multiprocess sampling (4 chains in 4 jobs)\n",
      "NUTS: [sigma_y, nu_y, f_gp_rotated_, var, ls, fixed_b, b_shrinkage, shift, ss]\n"
     ]
    },
    {
     "data": {
      "text/html": [
       "\n",
       "    <div>\n",
       "        <style>\n",
       "            /* Turns off some styling */\n",
       "            progress {\n",
       "                /* gets rid of default border in Firefox and Opera. */\n",
       "                border: none;\n",
       "                /* Needs to be in here for Safari polyfill so background images work as expected. */\n",
       "                background-size: auto;\n",
       "            }\n",
       "            .progress-bar-interrupted, .progress-bar-interrupted::-webkit-progress-bar {\n",
       "                background: #F44336;\n",
       "            }\n",
       "        </style>\n",
       "      <progress value='8000' class='' max='8000' style='width:300px; height:20px; vertical-align: middle;'></progress>\n",
       "      100.00% [8000/8000 00:54<00:00 Sampling 4 chains, 3 divergences]\n",
       "    </div>\n",
       "    "
      ],
      "text/plain": [
       "<IPython.core.display.HTML object>"
      ]
     },
     "metadata": {},
     "output_type": "display_data"
    },
    {
     "name": "stderr",
     "output_type": "stream",
     "text": [
      "Sampling 4 chains for 1_500 tune and 500 draw iterations (6_000 + 2_000 draws total) took 55 seconds.\n",
      "There was 1 divergence after tuning. Increase `target_accept` or reparameterize.\n",
      "There was 1 divergence after tuning. Increase `target_accept` or reparameterize.\n",
      "There was 1 divergence after tuning. Increase `target_accept` or reparameterize.\n",
      "The estimated number of effective samples is smaller than 200 for some parameters.\n",
      "Got error No model on context stack. trying to find log_likelihood in translation.\n",
      "Got error No model on context stack. trying to find log_likelihood in translation.\n",
      "Got error No model on context stack. trying to find log_likelihood in translation.\n",
      "Got error No model on context stack. trying to find log_likelihood in translation.\n",
      "Got error No model on context stack. trying to find log_likelihood in translation.\n",
      "Got error No model on context stack. trying to find log_likelihood in translation.\n"
     ]
    },
    {
     "name": "stdout",
     "output_type": "stream",
     "text": [
      "b_shrinkage_log__ -2.28946\n",
      "fixed_b -7.829342\n",
      "ls_log__ -1.1447301\n",
      "var_log__ -1.1447301\n",
      "f_gp_rotated_ -45.02799\n",
      "nu_y_log__ -0.61370564\n",
      "sigma_y_log__ -0.61370564\n"
     ]
    },
    {
     "name": "stderr",
     "output_type": "stream",
     "text": [
      "Initializing NUTS using advi+adapt_diag...\n"
     ]
    },
    {
     "name": "stdout",
     "output_type": "stream",
     "text": [
      "y -194.98827702912826\n"
     ]
    },
    {
     "data": {
      "text/html": [
       "\n",
       "    <div>\n",
       "        <style>\n",
       "            /* Turns off some styling */\n",
       "            progress {\n",
       "                /* gets rid of default border in Firefox and Opera. */\n",
       "                border: none;\n",
       "                /* Needs to be in here for Safari polyfill so background images work as expected. */\n",
       "                background-size: auto;\n",
       "            }\n",
       "            .progress-bar-interrupted, .progress-bar-interrupted::-webkit-progress-bar {\n",
       "                background: #F44336;\n",
       "            }\n",
       "        </style>\n",
       "      <progress value='15130' class='' max='200000' style='width:300px; height:20px; vertical-align: middle;'></progress>\n",
       "      7.57% [15130/200000 00:05<01:01 Average Loss = 153.16]\n",
       "    </div>\n",
       "    "
      ],
      "text/plain": [
       "<IPython.core.display.HTML object>"
      ]
     },
     "metadata": {},
     "output_type": "display_data"
    },
    {
     "name": "stderr",
     "output_type": "stream",
     "text": [
      "Convergence achieved at 15300\n",
      "Interrupted at 15,299 [7%]: Average Loss = 178.44\n",
      "Multiprocess sampling (4 chains in 4 jobs)\n",
      "NUTS: [sigma_y, nu_y, f_gp_rotated_, var, ls, fixed_b, b_shrinkage]\n"
     ]
    },
    {
     "data": {
      "text/html": [
       "\n",
       "    <div>\n",
       "        <style>\n",
       "            /* Turns off some styling */\n",
       "            progress {\n",
       "                /* gets rid of default border in Firefox and Opera. */\n",
       "                border: none;\n",
       "                /* Needs to be in here for Safari polyfill so background images work as expected. */\n",
       "                background-size: auto;\n",
       "            }\n",
       "            .progress-bar-interrupted, .progress-bar-interrupted::-webkit-progress-bar {\n",
       "                background: #F44336;\n",
       "            }\n",
       "        </style>\n",
       "      <progress value='8000' class='' max='8000' style='width:300px; height:20px; vertical-align: middle;'></progress>\n",
       "      100.00% [8000/8000 00:53<00:00 Sampling 4 chains, 1 divergences]\n",
       "    </div>\n",
       "    "
      ],
      "text/plain": [
       "<IPython.core.display.HTML object>"
      ]
     },
     "metadata": {},
     "output_type": "display_data"
    },
    {
     "name": "stderr",
     "output_type": "stream",
     "text": [
      "Sampling 4 chains for 1_500 tune and 500 draw iterations (6_000 + 2_000 draws total) took 53 seconds.\n",
      "There was 1 divergence after tuning. Increase `target_accept` or reparameterize.\n",
      "The rhat statistic is larger than 1.05 for some parameters. This indicates slight problems during sampling.\n",
      "The estimated number of effective samples is smaller than 200 for some parameters.\n",
      "Got error No model on context stack. trying to find log_likelihood in translation.\n",
      "Got error No model on context stack. trying to find log_likelihood in translation.\n",
      "Got error No model on context stack. trying to find log_likelihood in translation.\n",
      "Got error No model on context stack. trying to find log_likelihood in translation.\n",
      "Got error No model on context stack. trying to find log_likelihood in translation.\n",
      "Got error No model on context stack. trying to find log_likelihood in translation.\n"
     ]
    },
    {
     "name": "stdout",
     "output_type": "stream",
     "text": [
      "\u001b[94mBipolar_Disorder x Acute_Glomerulonephritis\u001b[0m\n",
      "\u001b[94mBipolar_Disorder x Acute_Renal_Failure\u001b[0m\n",
      "\u001b[94mBipolar_Disorder x Acute_Sinusitis\u001b[0m\n",
      "ss_log__ -1.1447301\n",
      "shift -2.3025851\n",
      "b_shrinkage_log__ -2.28946\n",
      "fixed_b -7.829342\n",
      "ls_log__ -1.1447301\n",
      "var_log__ -1.1447301\n",
      "f_gp_rotated_ -41.352238\n",
      "nu_y_log__ -0.61370564\n",
      "sigma_y_log__ -0.61370564\n"
     ]
    },
    {
     "name": "stderr",
     "output_type": "stream",
     "text": [
      "Initializing NUTS using advi+adapt_diag...\n"
     ]
    },
    {
     "name": "stdout",
     "output_type": "stream",
     "text": [
      "y -159.05925423443944\n"
     ]
    },
    {
     "data": {
      "text/html": [
       "\n",
       "    <div>\n",
       "        <style>\n",
       "            /* Turns off some styling */\n",
       "            progress {\n",
       "                /* gets rid of default border in Firefox and Opera. */\n",
       "                border: none;\n",
       "                /* Needs to be in here for Safari polyfill so background images work as expected. */\n",
       "                background-size: auto;\n",
       "            }\n",
       "            .progress-bar-interrupted, .progress-bar-interrupted::-webkit-progress-bar {\n",
       "                background: #F44336;\n",
       "            }\n",
       "        </style>\n",
       "      <progress value='14065' class='' max='200000' style='width:300px; height:20px; vertical-align: middle;'></progress>\n",
       "      7.03% [14065/200000 00:04<01:03 Average Loss = 134.32]\n",
       "    </div>\n",
       "    "
      ],
      "text/plain": [
       "<IPython.core.display.HTML object>"
      ]
     },
     "metadata": {},
     "output_type": "display_data"
    },
    {
     "name": "stderr",
     "output_type": "stream",
     "text": [
      "Convergence achieved at 14400\n",
      "Interrupted at 14,399 [7%]: Average Loss = 160.39\n",
      "Multiprocess sampling (4 chains in 4 jobs)\n",
      "NUTS: [sigma_y, nu_y, f_gp_rotated_, var, ls, fixed_b, b_shrinkage, shift, ss]\n"
     ]
    },
    {
     "data": {
      "text/html": [
       "\n",
       "    <div>\n",
       "        <style>\n",
       "            /* Turns off some styling */\n",
       "            progress {\n",
       "                /* gets rid of default border in Firefox and Opera. */\n",
       "                border: none;\n",
       "                /* Needs to be in here for Safari polyfill so background images work as expected. */\n",
       "                background-size: auto;\n",
       "            }\n",
       "            .progress-bar-interrupted, .progress-bar-interrupted::-webkit-progress-bar {\n",
       "                background: #F44336;\n",
       "            }\n",
       "        </style>\n",
       "      <progress value='8000' class='' max='8000' style='width:300px; height:20px; vertical-align: middle;'></progress>\n",
       "      100.00% [8000/8000 00:50<00:00 Sampling 4 chains, 2 divergences]\n",
       "    </div>\n",
       "    "
      ],
      "text/plain": [
       "<IPython.core.display.HTML object>"
      ]
     },
     "metadata": {},
     "output_type": "display_data"
    },
    {
     "name": "stderr",
     "output_type": "stream",
     "text": [
      "Sampling 4 chains for 1_500 tune and 500 draw iterations (6_000 + 2_000 draws total) took 50 seconds.\n",
      "There was 1 divergence after tuning. Increase `target_accept` or reparameterize.\n",
      "There was 1 divergence after tuning. Increase `target_accept` or reparameterize.\n",
      "The rhat statistic is larger than 1.05 for some parameters. This indicates slight problems during sampling.\n",
      "The estimated number of effective samples is smaller than 200 for some parameters.\n",
      "Got error No model on context stack. trying to find log_likelihood in translation.\n",
      "Got error No model on context stack. trying to find log_likelihood in translation.\n",
      "Got error No model on context stack. trying to find log_likelihood in translation.\n",
      "Got error No model on context stack. trying to find log_likelihood in translation.\n",
      "Got error No model on context stack. trying to find log_likelihood in translation.\n",
      "Got error No model on context stack. trying to find log_likelihood in translation.\n"
     ]
    },
    {
     "name": "stdout",
     "output_type": "stream",
     "text": [
      "b_shrinkage_log__ -2.28946\n",
      "fixed_b -7.829342\n",
      "ls_log__ -1.1447301\n",
      "var_log__ -1.1447301\n",
      "f_gp_rotated_ -41.352238\n",
      "nu_y_log__ -0.61370564\n",
      "sigma_y_log__ -0.61370564\n"
     ]
    },
    {
     "name": "stderr",
     "output_type": "stream",
     "text": [
      "Initializing NUTS using advi+adapt_diag...\n"
     ]
    },
    {
     "name": "stdout",
     "output_type": "stream",
     "text": [
      "y -159.05925423443944\n"
     ]
    },
    {
     "data": {
      "text/html": [
       "\n",
       "    <div>\n",
       "        <style>\n",
       "            /* Turns off some styling */\n",
       "            progress {\n",
       "                /* gets rid of default border in Firefox and Opera. */\n",
       "                border: none;\n",
       "                /* Needs to be in here for Safari polyfill so background images work as expected. */\n",
       "                background-size: auto;\n",
       "            }\n",
       "            .progress-bar-interrupted, .progress-bar-interrupted::-webkit-progress-bar {\n",
       "                background: #F44336;\n",
       "            }\n",
       "        </style>\n",
       "      <progress value='14147' class='' max='200000' style='width:300px; height:20px; vertical-align: middle;'></progress>\n",
       "      7.07% [14147/200000 00:04<01:00 Average Loss = 133.19]\n",
       "    </div>\n",
       "    "
      ],
      "text/plain": [
       "<IPython.core.display.HTML object>"
      ]
     },
     "metadata": {},
     "output_type": "display_data"
    },
    {
     "name": "stderr",
     "output_type": "stream",
     "text": [
      "Convergence achieved at 14400\n",
      "Interrupted at 14,399 [7%]: Average Loss = 157.81\n",
      "Multiprocess sampling (4 chains in 4 jobs)\n",
      "NUTS: [sigma_y, nu_y, f_gp_rotated_, var, ls, fixed_b, b_shrinkage]\n"
     ]
    },
    {
     "data": {
      "text/html": [
       "\n",
       "    <div>\n",
       "        <style>\n",
       "            /* Turns off some styling */\n",
       "            progress {\n",
       "                /* gets rid of default border in Firefox and Opera. */\n",
       "                border: none;\n",
       "                /* Needs to be in here for Safari polyfill so background images work as expected. */\n",
       "                background-size: auto;\n",
       "            }\n",
       "            .progress-bar-interrupted, .progress-bar-interrupted::-webkit-progress-bar {\n",
       "                background: #F44336;\n",
       "            }\n",
       "        </style>\n",
       "      <progress value='8000' class='' max='8000' style='width:300px; height:20px; vertical-align: middle;'></progress>\n",
       "      100.00% [8000/8000 00:45<00:00 Sampling 4 chains, 4 divergences]\n",
       "    </div>\n",
       "    "
      ],
      "text/plain": [
       "<IPython.core.display.HTML object>"
      ]
     },
     "metadata": {},
     "output_type": "display_data"
    },
    {
     "name": "stderr",
     "output_type": "stream",
     "text": [
      "Sampling 4 chains for 1_500 tune and 500 draw iterations (6_000 + 2_000 draws total) took 46 seconds.\n",
      "There was 1 divergence after tuning. Increase `target_accept` or reparameterize.\n",
      "There were 2 divergences after tuning. Increase `target_accept` or reparameterize.\n",
      "There was 1 divergence after tuning. Increase `target_accept` or reparameterize.\n",
      "The number of effective samples is smaller than 25% for some parameters.\n",
      "Got error No model on context stack. trying to find log_likelihood in translation.\n",
      "Got error No model on context stack. trying to find log_likelihood in translation.\n",
      "Got error No model on context stack. trying to find log_likelihood in translation.\n",
      "Got error No model on context stack. trying to find log_likelihood in translation.\n",
      "Got error No model on context stack. trying to find log_likelihood in translation.\n",
      "Got error No model on context stack. trying to find log_likelihood in translation.\n"
     ]
    },
    {
     "name": "stdout",
     "output_type": "stream",
     "text": [
      "\u001b[94mBipolar_Disorder x Acute_Upper_Respiratory_Infection\u001b[0m\n",
      "ss_log__ -1.1447301\n",
      "shift -2.3025851\n",
      "b_shrinkage_log__ -2.28946\n",
      "fixed_b -7.829342\n",
      "ls_log__ -1.1447301\n",
      "var_log__ -1.1447301\n",
      "f_gp_rotated_ -45.94693\n",
      "nu_y_log__ -0.61370564\n",
      "sigma_y_log__ -0.61370564\n"
     ]
    },
    {
     "name": "stderr",
     "output_type": "stream",
     "text": [
      "Initializing NUTS using advi+adapt_diag...\n"
     ]
    },
    {
     "name": "stdout",
     "output_type": "stream",
     "text": [
      "y -234.58615119974277\n"
     ]
    },
    {
     "data": {
      "text/html": [
       "\n",
       "    <div>\n",
       "        <style>\n",
       "            /* Turns off some styling */\n",
       "            progress {\n",
       "                /* gets rid of default border in Firefox and Opera. */\n",
       "                border: none;\n",
       "                /* Needs to be in here for Safari polyfill so background images work as expected. */\n",
       "                background-size: auto;\n",
       "            }\n",
       "            .progress-bar-interrupted, .progress-bar-interrupted::-webkit-progress-bar {\n",
       "                background: #F44336;\n",
       "            }\n",
       "        </style>\n",
       "      <progress value='15920' class='' max='200000' style='width:300px; height:20px; vertical-align: middle;'></progress>\n",
       "      7.96% [15920/200000 00:05<01:04 Average Loss = 173.5]\n",
       "    </div>\n",
       "    "
      ],
      "text/plain": [
       "<IPython.core.display.HTML object>"
      ]
     },
     "metadata": {},
     "output_type": "display_data"
    },
    {
     "name": "stderr",
     "output_type": "stream",
     "text": [
      "Convergence achieved at 16000\n",
      "Interrupted at 15,999 [7%]: Average Loss = 195.36\n",
      "Multiprocess sampling (4 chains in 4 jobs)\n",
      "NUTS: [sigma_y, nu_y, f_gp_rotated_, var, ls, fixed_b, b_shrinkage, shift, ss]\n"
     ]
    },
    {
     "data": {
      "text/html": [
       "\n",
       "    <div>\n",
       "        <style>\n",
       "            /* Turns off some styling */\n",
       "            progress {\n",
       "                /* gets rid of default border in Firefox and Opera. */\n",
       "                border: none;\n",
       "                /* Needs to be in here for Safari polyfill so background images work as expected. */\n",
       "                background-size: auto;\n",
       "            }\n",
       "            .progress-bar-interrupted, .progress-bar-interrupted::-webkit-progress-bar {\n",
       "                background: #F44336;\n",
       "            }\n",
       "        </style>\n",
       "      <progress value='8000' class='' max='8000' style='width:300px; height:20px; vertical-align: middle;'></progress>\n",
       "      100.00% [8000/8000 00:56<00:00 Sampling 4 chains, 14 divergences]\n",
       "    </div>\n",
       "    "
      ],
      "text/plain": [
       "<IPython.core.display.HTML object>"
      ]
     },
     "metadata": {},
     "output_type": "display_data"
    },
    {
     "name": "stderr",
     "output_type": "stream",
     "text": [
      "Sampling 4 chains for 1_500 tune and 500 draw iterations (6_000 + 2_000 draws total) took 57 seconds.\n",
      "There were 2 divergences after tuning. Increase `target_accept` or reparameterize.\n",
      "There were 2 divergences after tuning. Increase `target_accept` or reparameterize.\n",
      "There were 7 divergences after tuning. Increase `target_accept` or reparameterize.\n",
      "The acceptance probability does not match the target. It is 0.7785184099227835, but should be close to 0.9. Try to increase the number of tuning steps.\n",
      "There were 3 divergences after tuning. Increase `target_accept` or reparameterize.\n",
      "The rhat statistic is larger than 1.05 for some parameters. This indicates slight problems during sampling.\n",
      "The estimated number of effective samples is smaller than 200 for some parameters.\n",
      "Got error No model on context stack. trying to find log_likelihood in translation.\n",
      "Got error No model on context stack. trying to find log_likelihood in translation.\n",
      "Got error No model on context stack. trying to find log_likelihood in translation.\n",
      "Got error No model on context stack. trying to find log_likelihood in translation.\n",
      "Got error No model on context stack. trying to find log_likelihood in translation.\n",
      "Got error No model on context stack. trying to find log_likelihood in translation.\n"
     ]
    },
    {
     "name": "stdout",
     "output_type": "stream",
     "text": [
      "b_shrinkage_log__ -2.28946\n",
      "fixed_b -7.829342\n",
      "ls_log__ -1.1447301\n",
      "var_log__ -1.1447301\n",
      "f_gp_rotated_ -45.94693\n",
      "nu_y_log__ -0.61370564\n",
      "sigma_y_log__ -0.61370564\n"
     ]
    },
    {
     "name": "stderr",
     "output_type": "stream",
     "text": [
      "Initializing NUTS using advi+adapt_diag...\n"
     ]
    },
    {
     "name": "stdout",
     "output_type": "stream",
     "text": [
      "y -234.58615119974277\n"
     ]
    },
    {
     "data": {
      "text/html": [
       "\n",
       "    <div>\n",
       "        <style>\n",
       "            /* Turns off some styling */\n",
       "            progress {\n",
       "                /* gets rid of default border in Firefox and Opera. */\n",
       "                border: none;\n",
       "                /* Needs to be in here for Safari polyfill so background images work as expected. */\n",
       "                background-size: auto;\n",
       "            }\n",
       "            .progress-bar-interrupted, .progress-bar-interrupted::-webkit-progress-bar {\n",
       "                background: #F44336;\n",
       "            }\n",
       "        </style>\n",
       "      <progress value='14015' class='' max='200000' style='width:300px; height:20px; vertical-align: middle;'></progress>\n",
       "      7.01% [14015/200000 00:04<01:01 Average Loss = 175.2]\n",
       "    </div>\n",
       "    "
      ],
      "text/plain": [
       "<IPython.core.display.HTML object>"
      ]
     },
     "metadata": {},
     "output_type": "display_data"
    },
    {
     "name": "stderr",
     "output_type": "stream",
     "text": [
      "Convergence achieved at 14600\n",
      "Interrupted at 14,599 [7%]: Average Loss = 197.12\n",
      "Multiprocess sampling (4 chains in 4 jobs)\n",
      "NUTS: [sigma_y, nu_y, f_gp_rotated_, var, ls, fixed_b, b_shrinkage]\n"
     ]
    },
    {
     "data": {
      "text/html": [
       "\n",
       "    <div>\n",
       "        <style>\n",
       "            /* Turns off some styling */\n",
       "            progress {\n",
       "                /* gets rid of default border in Firefox and Opera. */\n",
       "                border: none;\n",
       "                /* Needs to be in here for Safari polyfill so background images work as expected. */\n",
       "                background-size: auto;\n",
       "            }\n",
       "            .progress-bar-interrupted, .progress-bar-interrupted::-webkit-progress-bar {\n",
       "                background: #F44336;\n",
       "            }\n",
       "        </style>\n",
       "      <progress value='8000' class='' max='8000' style='width:300px; height:20px; vertical-align: middle;'></progress>\n",
       "      100.00% [8000/8000 00:47<00:00 Sampling 4 chains, 24 divergences]\n",
       "    </div>\n",
       "    "
      ],
      "text/plain": [
       "<IPython.core.display.HTML object>"
      ]
     },
     "metadata": {},
     "output_type": "display_data"
    },
    {
     "name": "stderr",
     "output_type": "stream",
     "text": [
      "Sampling 4 chains for 1_500 tune and 500 draw iterations (6_000 + 2_000 draws total) took 47 seconds.\n",
      "There were 6 divergences after tuning. Increase `target_accept` or reparameterize.\n",
      "There were 6 divergences after tuning. Increase `target_accept` or reparameterize.\n",
      "There were 10 divergences after tuning. Increase `target_accept` or reparameterize.\n",
      "There were 2 divergences after tuning. Increase `target_accept` or reparameterize.\n",
      "The estimated number of effective samples is smaller than 200 for some parameters.\n",
      "Got error No model on context stack. trying to find log_likelihood in translation.\n",
      "Got error No model on context stack. trying to find log_likelihood in translation.\n",
      "Got error No model on context stack. trying to find log_likelihood in translation.\n",
      "Got error No model on context stack. trying to find log_likelihood in translation.\n",
      "Got error No model on context stack. trying to find log_likelihood in translation.\n",
      "Got error No model on context stack. trying to find log_likelihood in translation.\n"
     ]
    },
    {
     "name": "stdout",
     "output_type": "stream",
     "text": [
      "\u001b[94mBipolar_Disorder x Addisons_Disease\u001b[0m\n",
      "\u001b[94mBipolar_Disorder x Adjustment_Disorder\u001b[0m\n",
      "ss_log__ -1.1447301\n",
      "shift -2.3025851\n",
      "b_shrinkage_log__ -2.28946\n",
      "fixed_b -7.829342\n",
      "ls_log__ -1.1447301\n",
      "var_log__ -1.1447301\n",
      "f_gp_rotated_ -27.568157\n",
      "nu_y_log__ -0.61370564\n",
      "sigma_y_log__ -0.61370564\n"
     ]
    },
    {
     "name": "stderr",
     "output_type": "stream",
     "text": [
      "Initializing NUTS using advi+adapt_diag...\n"
     ]
    },
    {
     "name": "stdout",
     "output_type": "stream",
     "text": [
      "y -90.82235778421126\n"
     ]
    },
    {
     "data": {
      "text/html": [
       "\n",
       "    <div>\n",
       "        <style>\n",
       "            /* Turns off some styling */\n",
       "            progress {\n",
       "                /* gets rid of default border in Firefox and Opera. */\n",
       "                border: none;\n",
       "                /* Needs to be in here for Safari polyfill so background images work as expected. */\n",
       "                background-size: auto;\n",
       "            }\n",
       "            .progress-bar-interrupted, .progress-bar-interrupted::-webkit-progress-bar {\n",
       "                background: #F44336;\n",
       "            }\n",
       "        </style>\n",
       "      <progress value='12578' class='' max='200000' style='width:300px; height:20px; vertical-align: middle;'></progress>\n",
       "      6.29% [12578/200000 00:03<00:54 Average Loss = 92.225]\n",
       "    </div>\n",
       "    "
      ],
      "text/plain": [
       "<IPython.core.display.HTML object>"
      ]
     },
     "metadata": {},
     "output_type": "display_data"
    },
    {
     "name": "stderr",
     "output_type": "stream",
     "text": [
      "Convergence achieved at 12600\n",
      "Interrupted at 12,599 [6%]: Average Loss = 104.63\n",
      "Multiprocess sampling (4 chains in 4 jobs)\n",
      "NUTS: [sigma_y, nu_y, f_gp_rotated_, var, ls, fixed_b, b_shrinkage, shift, ss]\n"
     ]
    },
    {
     "data": {
      "text/html": [
       "\n",
       "    <div>\n",
       "        <style>\n",
       "            /* Turns off some styling */\n",
       "            progress {\n",
       "                /* gets rid of default border in Firefox and Opera. */\n",
       "                border: none;\n",
       "                /* Needs to be in here for Safari polyfill so background images work as expected. */\n",
       "                background-size: auto;\n",
       "            }\n",
       "            .progress-bar-interrupted, .progress-bar-interrupted::-webkit-progress-bar {\n",
       "                background: #F44336;\n",
       "            }\n",
       "        </style>\n",
       "      <progress value='8000' class='' max='8000' style='width:300px; height:20px; vertical-align: middle;'></progress>\n",
       "      100.00% [8000/8000 00:45<00:00 Sampling 4 chains, 4 divergences]\n",
       "    </div>\n",
       "    "
      ],
      "text/plain": [
       "<IPython.core.display.HTML object>"
      ]
     },
     "metadata": {},
     "output_type": "display_data"
    },
    {
     "name": "stderr",
     "output_type": "stream",
     "text": [
      "Sampling 4 chains for 1_500 tune and 500 draw iterations (6_000 + 2_000 draws total) took 45 seconds.\n",
      "There was 1 divergence after tuning. Increase `target_accept` or reparameterize.\n",
      "There was 1 divergence after tuning. Increase `target_accept` or reparameterize.\n",
      "There were 2 divergences after tuning. Increase `target_accept` or reparameterize.\n",
      "The number of effective samples is smaller than 25% for some parameters.\n",
      "Got error No model on context stack. trying to find log_likelihood in translation.\n",
      "Got error No model on context stack. trying to find log_likelihood in translation.\n",
      "Got error No model on context stack. trying to find log_likelihood in translation.\n",
      "Got error No model on context stack. trying to find log_likelihood in translation.\n",
      "Got error No model on context stack. trying to find log_likelihood in translation.\n",
      "Got error No model on context stack. trying to find log_likelihood in translation.\n"
     ]
    },
    {
     "name": "stdout",
     "output_type": "stream",
     "text": [
      "b_shrinkage_log__ -2.28946\n",
      "fixed_b -7.829342\n",
      "ls_log__ -1.1447301\n",
      "var_log__ -1.1447301\n",
      "f_gp_rotated_ -27.568157\n",
      "nu_y_log__ -0.61370564\n",
      "sigma_y_log__ -0.61370564\n"
     ]
    },
    {
     "name": "stderr",
     "output_type": "stream",
     "text": [
      "Initializing NUTS using advi+adapt_diag...\n"
     ]
    },
    {
     "name": "stdout",
     "output_type": "stream",
     "text": [
      "y -90.82235778421126\n"
     ]
    },
    {
     "data": {
      "text/html": [
       "\n",
       "    <div>\n",
       "        <style>\n",
       "            /* Turns off some styling */\n",
       "            progress {\n",
       "                /* gets rid of default border in Firefox and Opera. */\n",
       "                border: none;\n",
       "                /* Needs to be in here for Safari polyfill so background images work as expected. */\n",
       "                background-size: auto;\n",
       "            }\n",
       "            .progress-bar-interrupted, .progress-bar-interrupted::-webkit-progress-bar {\n",
       "                background: #F44336;\n",
       "            }\n",
       "        </style>\n",
       "      <progress value='11768' class='' max='200000' style='width:300px; height:20px; vertical-align: middle;'></progress>\n",
       "      5.88% [11768/200000 00:03<00:51 Average Loss = 92.395]\n",
       "    </div>\n",
       "    "
      ],
      "text/plain": [
       "<IPython.core.display.HTML object>"
      ]
     },
     "metadata": {},
     "output_type": "display_data"
    },
    {
     "name": "stderr",
     "output_type": "stream",
     "text": [
      "Convergence achieved at 11900\n",
      "Interrupted at 11,899 [5%]: Average Loss = 104.1\n",
      "Multiprocess sampling (4 chains in 4 jobs)\n",
      "NUTS: [sigma_y, nu_y, f_gp_rotated_, var, ls, fixed_b, b_shrinkage]\n"
     ]
    },
    {
     "data": {
      "text/html": [
       "\n",
       "    <div>\n",
       "        <style>\n",
       "            /* Turns off some styling */\n",
       "            progress {\n",
       "                /* gets rid of default border in Firefox and Opera. */\n",
       "                border: none;\n",
       "                /* Needs to be in here for Safari polyfill so background images work as expected. */\n",
       "                background-size: auto;\n",
       "            }\n",
       "            .progress-bar-interrupted, .progress-bar-interrupted::-webkit-progress-bar {\n",
       "                background: #F44336;\n",
       "            }\n",
       "        </style>\n",
       "      <progress value='8000' class='' max='8000' style='width:300px; height:20px; vertical-align: middle;'></progress>\n",
       "      100.00% [8000/8000 00:39<00:00 Sampling 4 chains, 54 divergences]\n",
       "    </div>\n",
       "    "
      ],
      "text/plain": [
       "<IPython.core.display.HTML object>"
      ]
     },
     "metadata": {},
     "output_type": "display_data"
    },
    {
     "name": "stderr",
     "output_type": "stream",
     "text": [
      "Sampling 4 chains for 1_500 tune and 500 draw iterations (6_000 + 2_000 draws total) took 40 seconds.\n",
      "There were 2 divergences after tuning. Increase `target_accept` or reparameterize.\n",
      "There were 2 divergences after tuning. Increase `target_accept` or reparameterize.\n",
      "There were 50 divergences after tuning. Increase `target_accept` or reparameterize.\n",
      "The number of effective samples is smaller than 25% for some parameters.\n",
      "Got error No model on context stack. trying to find log_likelihood in translation.\n",
      "Got error No model on context stack. trying to find log_likelihood in translation.\n",
      "Got error No model on context stack. trying to find log_likelihood in translation.\n",
      "Got error No model on context stack. trying to find log_likelihood in translation.\n",
      "Got error No model on context stack. trying to find log_likelihood in translation.\n",
      "Got error No model on context stack. trying to find log_likelihood in translation.\n"
     ]
    },
    {
     "name": "stdout",
     "output_type": "stream",
     "text": [
      "\u001b[94mBipolar_Disorder x Adrenogenital_Disorder\u001b[0m\n",
      "\u001b[94mBipolar_Disorder x Allergic_Rhinitis\u001b[0m\n",
      "ss_log__ -1.1447301\n",
      "shift -2.3025851\n",
      "b_shrinkage_log__ -2.28946\n",
      "fixed_b -7.829342\n",
      "ls_log__ -1.1447301\n",
      "var_log__ -1.1447301\n",
      "f_gp_rotated_ -42.271175\n",
      "nu_y_log__ -0.61370564\n",
      "sigma_y_log__ -0.61370564\n"
     ]
    },
    {
     "name": "stderr",
     "output_type": "stream",
     "text": [
      "Initializing NUTS using advi+adapt_diag...\n"
     ]
    },
    {
     "name": "stdout",
     "output_type": "stream",
     "text": [
      "y -153.69391112893882\n"
     ]
    },
    {
     "data": {
      "text/html": [
       "\n",
       "    <div>\n",
       "        <style>\n",
       "            /* Turns off some styling */\n",
       "            progress {\n",
       "                /* gets rid of default border in Firefox and Opera. */\n",
       "                border: none;\n",
       "                /* Needs to be in here for Safari polyfill so background images work as expected. */\n",
       "                background-size: auto;\n",
       "            }\n",
       "            .progress-bar-interrupted, .progress-bar-interrupted::-webkit-progress-bar {\n",
       "                background: #F44336;\n",
       "            }\n",
       "        </style>\n",
       "      <progress value='16745' class='' max='200000' style='width:300px; height:20px; vertical-align: middle;'></progress>\n",
       "      8.37% [16745/200000 00:05<01:03 Average Loss = 137.34]\n",
       "    </div>\n",
       "    "
      ],
      "text/plain": [
       "<IPython.core.display.HTML object>"
      ]
     },
     "metadata": {},
     "output_type": "display_data"
    },
    {
     "name": "stderr",
     "output_type": "stream",
     "text": [
      "Convergence achieved at 16900\n",
      "Interrupted at 16,899 [8%]: Average Loss = 160.15\n",
      "Multiprocess sampling (4 chains in 4 jobs)\n",
      "NUTS: [sigma_y, nu_y, f_gp_rotated_, var, ls, fixed_b, b_shrinkage, shift, ss]\n"
     ]
    },
    {
     "data": {
      "text/html": [
       "\n",
       "    <div>\n",
       "        <style>\n",
       "            /* Turns off some styling */\n",
       "            progress {\n",
       "                /* gets rid of default border in Firefox and Opera. */\n",
       "                border: none;\n",
       "                /* Needs to be in here for Safari polyfill so background images work as expected. */\n",
       "                background-size: auto;\n",
       "            }\n",
       "            .progress-bar-interrupted, .progress-bar-interrupted::-webkit-progress-bar {\n",
       "                background: #F44336;\n",
       "            }\n",
       "        </style>\n",
       "      <progress value='8000' class='' max='8000' style='width:300px; height:20px; vertical-align: middle;'></progress>\n",
       "      100.00% [8000/8000 00:40<00:00 Sampling 4 chains, 0 divergences]\n",
       "    </div>\n",
       "    "
      ],
      "text/plain": [
       "<IPython.core.display.HTML object>"
      ]
     },
     "metadata": {},
     "output_type": "display_data"
    },
    {
     "name": "stderr",
     "output_type": "stream",
     "text": [
      "Sampling 4 chains for 1_500 tune and 500 draw iterations (6_000 + 2_000 draws total) took 41 seconds.\n",
      "The rhat statistic is larger than 1.05 for some parameters. This indicates slight problems during sampling.\n",
      "The estimated number of effective samples is smaller than 200 for some parameters.\n",
      "Got error No model on context stack. trying to find log_likelihood in translation.\n",
      "Got error No model on context stack. trying to find log_likelihood in translation.\n",
      "Got error No model on context stack. trying to find log_likelihood in translation.\n",
      "Got error No model on context stack. trying to find log_likelihood in translation.\n",
      "Got error No model on context stack. trying to find log_likelihood in translation.\n",
      "Got error No model on context stack. trying to find log_likelihood in translation.\n"
     ]
    },
    {
     "name": "stdout",
     "output_type": "stream",
     "text": [
      "b_shrinkage_log__ -2.28946\n",
      "fixed_b -7.829342\n",
      "ls_log__ -1.1447301\n",
      "var_log__ -1.1447301\n",
      "f_gp_rotated_ -42.271175\n",
      "nu_y_log__ -0.61370564\n",
      "sigma_y_log__ -0.61370564\n"
     ]
    },
    {
     "name": "stderr",
     "output_type": "stream",
     "text": [
      "Initializing NUTS using advi+adapt_diag...\n"
     ]
    },
    {
     "name": "stdout",
     "output_type": "stream",
     "text": [
      "y -153.69391112893882\n"
     ]
    },
    {
     "data": {
      "text/html": [
       "\n",
       "    <div>\n",
       "        <style>\n",
       "            /* Turns off some styling */\n",
       "            progress {\n",
       "                /* gets rid of default border in Firefox and Opera. */\n",
       "                border: none;\n",
       "                /* Needs to be in here for Safari polyfill so background images work as expected. */\n",
       "                background-size: auto;\n",
       "            }\n",
       "            .progress-bar-interrupted, .progress-bar-interrupted::-webkit-progress-bar {\n",
       "                background: #F44336;\n",
       "            }\n",
       "        </style>\n",
       "      <progress value='15394' class='' max='200000' style='width:300px; height:20px; vertical-align: middle;'></progress>\n",
       "      7.70% [15394/200000 00:05<01:00 Average Loss = 135.58]\n",
       "    </div>\n",
       "    "
      ],
      "text/plain": [
       "<IPython.core.display.HTML object>"
      ]
     },
     "metadata": {},
     "output_type": "display_data"
    },
    {
     "name": "stderr",
     "output_type": "stream",
     "text": [
      "Convergence achieved at 16000\n",
      "Interrupted at 15,999 [7%]: Average Loss = 160.35\n",
      "Multiprocess sampling (4 chains in 4 jobs)\n",
      "NUTS: [sigma_y, nu_y, f_gp_rotated_, var, ls, fixed_b, b_shrinkage]\n"
     ]
    },
    {
     "data": {
      "text/html": [
       "\n",
       "    <div>\n",
       "        <style>\n",
       "            /* Turns off some styling */\n",
       "            progress {\n",
       "                /* gets rid of default border in Firefox and Opera. */\n",
       "                border: none;\n",
       "                /* Needs to be in here for Safari polyfill so background images work as expected. */\n",
       "                background-size: auto;\n",
       "            }\n",
       "            .progress-bar-interrupted, .progress-bar-interrupted::-webkit-progress-bar {\n",
       "                background: #F44336;\n",
       "            }\n",
       "        </style>\n",
       "      <progress value='8000' class='' max='8000' style='width:300px; height:20px; vertical-align: middle;'></progress>\n",
       "      100.00% [8000/8000 00:32<00:00 Sampling 4 chains, 1 divergences]\n",
       "    </div>\n",
       "    "
      ],
      "text/plain": [
       "<IPython.core.display.HTML object>"
      ]
     },
     "metadata": {},
     "output_type": "display_data"
    },
    {
     "name": "stderr",
     "output_type": "stream",
     "text": [
      "Sampling 4 chains for 1_500 tune and 500 draw iterations (6_000 + 2_000 draws total) took 33 seconds.\n",
      "There was 1 divergence after tuning. Increase `target_accept` or reparameterize.\n",
      "The rhat statistic is larger than 1.05 for some parameters. This indicates slight problems during sampling.\n",
      "The estimated number of effective samples is smaller than 200 for some parameters.\n",
      "Got error No model on context stack. trying to find log_likelihood in translation.\n",
      "Got error No model on context stack. trying to find log_likelihood in translation.\n",
      "Got error No model on context stack. trying to find log_likelihood in translation.\n",
      "Got error No model on context stack. trying to find log_likelihood in translation.\n",
      "Got error No model on context stack. trying to find log_likelihood in translation.\n",
      "Got error No model on context stack. trying to find log_likelihood in translation.\n"
     ]
    },
    {
     "name": "stdout",
     "output_type": "stream",
     "text": [
      "\u001b[94mBipolar_Disorder x Alopecia\u001b[0m\n",
      "\u001b[94mBipolar_Disorder x Alpha-1-Antitrypsin_Deficiency\u001b[0m\n",
      "\u001b[94mBipolar_Disorder x Alveolar_Disease\u001b[0m\n",
      "\u001b[94mBipolar_Disorder x Alzheimers_Disease\u001b[0m\n",
      "\u001b[94mBipolar_Disorder x Amino_Acid_Transport_Disorder\u001b[0m\n",
      "\u001b[94mBipolar_Disorder x Androgen_Insensitivity_Syndrome\u001b[0m\n",
      "\u001b[94mBipolar_Disorder x Aneurysm\u001b[0m\n",
      "\u001b[94mBipolar_Disorder x Aniridia\u001b[0m\n",
      "\u001b[94mBipolar_Disorder x Anophthalmia_Mircopthalmia\u001b[0m\n",
      "\u001b[94mBipolar_Disorder x Anterior_Eye_Anomaly\u001b[0m\n",
      "\u001b[94mBipolar_Disorder x Anxiety_Phobic_Disorder\u001b[0m\n",
      "ss_log__ -1.1447301\n",
      "shift -2.3025851\n",
      "b_shrinkage_log__ -2.28946\n",
      "fixed_b -7.829342\n",
      "ls_log__ -1.1447301\n",
      "var_log__ -1.1447301\n",
      "f_gp_rotated_ -28.487097\n",
      "nu_y_log__ -0.61370564\n",
      "sigma_y_log__ -0.61370564\n"
     ]
    },
    {
     "name": "stderr",
     "output_type": "stream",
     "text": [
      "Initializing NUTS using advi+adapt_diag...\n"
     ]
    },
    {
     "name": "stdout",
     "output_type": "stream",
     "text": [
      "y -96.24584212722417\n"
     ]
    },
    {
     "data": {
      "text/html": [
       "\n",
       "    <div>\n",
       "        <style>\n",
       "            /* Turns off some styling */\n",
       "            progress {\n",
       "                /* gets rid of default border in Firefox and Opera. */\n",
       "                border: none;\n",
       "                /* Needs to be in here for Safari polyfill so background images work as expected. */\n",
       "                background-size: auto;\n",
       "            }\n",
       "            .progress-bar-interrupted, .progress-bar-interrupted::-webkit-progress-bar {\n",
       "                background: #F44336;\n",
       "            }\n",
       "        </style>\n",
       "      <progress value='14823' class='' max='200000' style='width:300px; height:20px; vertical-align: middle;'></progress>\n",
       "      7.41% [14823/200000 00:04<00:55 Average Loss = 95.641]\n",
       "    </div>\n",
       "    "
      ],
      "text/plain": [
       "<IPython.core.display.HTML object>"
      ]
     },
     "metadata": {},
     "output_type": "display_data"
    },
    {
     "name": "stderr",
     "output_type": "stream",
     "text": [
      "Convergence achieved at 15400\n",
      "Interrupted at 15,399 [7%]: Average Loss = 107.62\n",
      "Multiprocess sampling (4 chains in 4 jobs)\n",
      "NUTS: [sigma_y, nu_y, f_gp_rotated_, var, ls, fixed_b, b_shrinkage, shift, ss]\n"
     ]
    },
    {
     "data": {
      "text/html": [
       "\n",
       "    <div>\n",
       "        <style>\n",
       "            /* Turns off some styling */\n",
       "            progress {\n",
       "                /* gets rid of default border in Firefox and Opera. */\n",
       "                border: none;\n",
       "                /* Needs to be in here for Safari polyfill so background images work as expected. */\n",
       "                background-size: auto;\n",
       "            }\n",
       "            .progress-bar-interrupted, .progress-bar-interrupted::-webkit-progress-bar {\n",
       "                background: #F44336;\n",
       "            }\n",
       "        </style>\n",
       "      <progress value='8000' class='' max='8000' style='width:300px; height:20px; vertical-align: middle;'></progress>\n",
       "      100.00% [8000/8000 00:51<00:00 Sampling 4 chains, 1 divergences]\n",
       "    </div>\n",
       "    "
      ],
      "text/plain": [
       "<IPython.core.display.HTML object>"
      ]
     },
     "metadata": {},
     "output_type": "display_data"
    },
    {
     "name": "stderr",
     "output_type": "stream",
     "text": [
      "Sampling 4 chains for 1_500 tune and 500 draw iterations (6_000 + 2_000 draws total) took 52 seconds.\n",
      "There was 1 divergence after tuning. Increase `target_accept` or reparameterize.\n",
      "The estimated number of effective samples is smaller than 200 for some parameters.\n",
      "Got error No model on context stack. trying to find log_likelihood in translation.\n",
      "Got error No model on context stack. trying to find log_likelihood in translation.\n",
      "Got error No model on context stack. trying to find log_likelihood in translation.\n",
      "Got error No model on context stack. trying to find log_likelihood in translation.\n",
      "Got error No model on context stack. trying to find log_likelihood in translation.\n",
      "Got error No model on context stack. trying to find log_likelihood in translation.\n"
     ]
    },
    {
     "name": "stdout",
     "output_type": "stream",
     "text": [
      "b_shrinkage_log__ -2.28946\n",
      "fixed_b -7.829342\n",
      "ls_log__ -1.1447301\n",
      "var_log__ -1.1447301\n",
      "f_gp_rotated_ -28.487097\n",
      "nu_y_log__ -0.61370564\n",
      "sigma_y_log__ -0.61370564\n"
     ]
    },
    {
     "name": "stderr",
     "output_type": "stream",
     "text": [
      "Initializing NUTS using advi+adapt_diag...\n"
     ]
    },
    {
     "name": "stdout",
     "output_type": "stream",
     "text": [
      "y -96.24584212722417\n"
     ]
    },
    {
     "data": {
      "text/html": [
       "\n",
       "    <div>\n",
       "        <style>\n",
       "            /* Turns off some styling */\n",
       "            progress {\n",
       "                /* gets rid of default border in Firefox and Opera. */\n",
       "                border: none;\n",
       "                /* Needs to be in here for Safari polyfill so background images work as expected. */\n",
       "                background-size: auto;\n",
       "            }\n",
       "            .progress-bar-interrupted, .progress-bar-interrupted::-webkit-progress-bar {\n",
       "                background: #F44336;\n",
       "            }\n",
       "        </style>\n",
       "      <progress value='12075' class='' max='200000' style='width:300px; height:20px; vertical-align: middle;'></progress>\n",
       "      6.04% [12075/200000 00:03<00:53 Average Loss = 96.034]\n",
       "    </div>\n",
       "    "
      ],
      "text/plain": [
       "<IPython.core.display.HTML object>"
      ]
     },
     "metadata": {},
     "output_type": "display_data"
    },
    {
     "name": "stderr",
     "output_type": "stream",
     "text": [
      "Convergence achieved at 12200\n",
      "Interrupted at 12,199 [6%]: Average Loss = 109.32\n",
      "Multiprocess sampling (4 chains in 4 jobs)\n",
      "NUTS: [sigma_y, nu_y, f_gp_rotated_, var, ls, fixed_b, b_shrinkage]\n"
     ]
    },
    {
     "data": {
      "text/html": [
       "\n",
       "    <div>\n",
       "        <style>\n",
       "            /* Turns off some styling */\n",
       "            progress {\n",
       "                /* gets rid of default border in Firefox and Opera. */\n",
       "                border: none;\n",
       "                /* Needs to be in here for Safari polyfill so background images work as expected. */\n",
       "                background-size: auto;\n",
       "            }\n",
       "            .progress-bar-interrupted, .progress-bar-interrupted::-webkit-progress-bar {\n",
       "                background: #F44336;\n",
       "            }\n",
       "        </style>\n",
       "      <progress value='8000' class='' max='8000' style='width:300px; height:20px; vertical-align: middle;'></progress>\n",
       "      100.00% [8000/8000 00:40<00:00 Sampling 4 chains, 3 divergences]\n",
       "    </div>\n",
       "    "
      ],
      "text/plain": [
       "<IPython.core.display.HTML object>"
      ]
     },
     "metadata": {},
     "output_type": "display_data"
    },
    {
     "name": "stderr",
     "output_type": "stream",
     "text": [
      "Sampling 4 chains for 1_500 tune and 500 draw iterations (6_000 + 2_000 draws total) took 41 seconds.\n",
      "There was 1 divergence after tuning. Increase `target_accept` or reparameterize.\n",
      "There were 2 divergences after tuning. Increase `target_accept` or reparameterize.\n",
      "The acceptance probability does not match the target. It is 0.8240370938806495, but should be close to 0.9. Try to increase the number of tuning steps.\n",
      "The estimated number of effective samples is smaller than 200 for some parameters.\n",
      "Got error No model on context stack. trying to find log_likelihood in translation.\n",
      "Got error No model on context stack. trying to find log_likelihood in translation.\n",
      "Got error No model on context stack. trying to find log_likelihood in translation.\n",
      "Got error No model on context stack. trying to find log_likelihood in translation.\n",
      "Got error No model on context stack. trying to find log_likelihood in translation.\n",
      "Got error No model on context stack. trying to find log_likelihood in translation.\n"
     ]
    },
    {
     "name": "stdout",
     "output_type": "stream",
     "text": [
      "\u001b[94mBipolar_Disorder x Aplastic_Anemia\u001b[0m\n",
      "\u001b[94mBipolar_Disorder x Appendiceal_Disease\u001b[0m\n",
      "\u001b[94mBipolar_Disorder x Aromatic_Amino_Acid_Metabolism_Disorder\u001b[0m\n",
      "\u001b[94mBipolar_Disorder x Arterial_Dissection\u001b[0m\n",
      "\u001b[94mBipolar_Disorder x Arterial_Embolism_Thrombosis\u001b[0m\n",
      "\u001b[94mBipolar_Disorder x Arthropod-Borne_Diseases\u001b[0m\n",
      "\u001b[94mBipolar_Disorder x Asthma\u001b[0m\n",
      "ss_log__ -1.1447301\n",
      "shift -2.3025851\n",
      "b_shrinkage_log__ -2.28946\n",
      "fixed_b -7.829342\n",
      "ls_log__ -1.1447301\n",
      "var_log__ -1.1447301\n",
      "f_gp_rotated_ -43.190113\n",
      "nu_y_log__ -0.61370564\n",
      "sigma_y_log__ -0.61370564\n"
     ]
    },
    {
     "name": "stderr",
     "output_type": "stream",
     "text": [
      "Initializing NUTS using advi+adapt_diag...\n"
     ]
    },
    {
     "name": "stdout",
     "output_type": "stream",
     "text": [
      "y -135.52284667798523\n"
     ]
    },
    {
     "data": {
      "text/html": [
       "\n",
       "    <div>\n",
       "        <style>\n",
       "            /* Turns off some styling */\n",
       "            progress {\n",
       "                /* gets rid of default border in Firefox and Opera. */\n",
       "                border: none;\n",
       "                /* Needs to be in here for Safari polyfill so background images work as expected. */\n",
       "                background-size: auto;\n",
       "            }\n",
       "            .progress-bar-interrupted, .progress-bar-interrupted::-webkit-progress-bar {\n",
       "                background: #F44336;\n",
       "            }\n",
       "        </style>\n",
       "      <progress value='16316' class='' max='200000' style='width:300px; height:20px; vertical-align: middle;'></progress>\n",
       "      8.16% [16316/200000 00:05<01:03 Average Loss = 121.93]\n",
       "    </div>\n",
       "    "
      ],
      "text/plain": [
       "<IPython.core.display.HTML object>"
      ]
     },
     "metadata": {},
     "output_type": "display_data"
    },
    {
     "name": "stderr",
     "output_type": "stream",
     "text": [
      "Convergence achieved at 16400\n",
      "Interrupted at 16,399 [8%]: Average Loss = 152.99\n",
      "Multiprocess sampling (4 chains in 4 jobs)\n",
      "NUTS: [sigma_y, nu_y, f_gp_rotated_, var, ls, fixed_b, b_shrinkage, shift, ss]\n"
     ]
    },
    {
     "data": {
      "text/html": [
       "\n",
       "    <div>\n",
       "        <style>\n",
       "            /* Turns off some styling */\n",
       "            progress {\n",
       "                /* gets rid of default border in Firefox and Opera. */\n",
       "                border: none;\n",
       "                /* Needs to be in here for Safari polyfill so background images work as expected. */\n",
       "                background-size: auto;\n",
       "            }\n",
       "            .progress-bar-interrupted, .progress-bar-interrupted::-webkit-progress-bar {\n",
       "                background: #F44336;\n",
       "            }\n",
       "        </style>\n",
       "      <progress value='8000' class='' max='8000' style='width:300px; height:20px; vertical-align: middle;'></progress>\n",
       "      100.00% [8000/8000 01:06<00:00 Sampling 4 chains, 3 divergences]\n",
       "    </div>\n",
       "    "
      ],
      "text/plain": [
       "<IPython.core.display.HTML object>"
      ]
     },
     "metadata": {},
     "output_type": "display_data"
    },
    {
     "name": "stderr",
     "output_type": "stream",
     "text": [
      "Sampling 4 chains for 1_500 tune and 500 draw iterations (6_000 + 2_000 draws total) took 67 seconds.\n",
      "There was 1 divergence after tuning. Increase `target_accept` or reparameterize.\n",
      "There were 2 divergences after tuning. Increase `target_accept` or reparameterize.\n",
      "The rhat statistic is larger than 1.05 for some parameters. This indicates slight problems during sampling.\n",
      "The estimated number of effective samples is smaller than 200 for some parameters.\n",
      "Got error No model on context stack. trying to find log_likelihood in translation.\n",
      "Got error No model on context stack. trying to find log_likelihood in translation.\n",
      "Got error No model on context stack. trying to find log_likelihood in translation.\n",
      "Got error No model on context stack. trying to find log_likelihood in translation.\n",
      "Got error No model on context stack. trying to find log_likelihood in translation.\n",
      "Got error No model on context stack. trying to find log_likelihood in translation.\n"
     ]
    },
    {
     "name": "stdout",
     "output_type": "stream",
     "text": [
      "b_shrinkage_log__ -2.28946\n",
      "fixed_b -7.829342\n",
      "ls_log__ -1.1447301\n",
      "var_log__ -1.1447301\n",
      "f_gp_rotated_ -43.190113\n",
      "nu_y_log__ -0.61370564\n",
      "sigma_y_log__ -0.61370564\n"
     ]
    },
    {
     "name": "stderr",
     "output_type": "stream",
     "text": [
      "Initializing NUTS using advi+adapt_diag...\n"
     ]
    },
    {
     "name": "stdout",
     "output_type": "stream",
     "text": [
      "y -135.52284667798523\n"
     ]
    },
    {
     "data": {
      "text/html": [
       "\n",
       "    <div>\n",
       "        <style>\n",
       "            /* Turns off some styling */\n",
       "            progress {\n",
       "                /* gets rid of default border in Firefox and Opera. */\n",
       "                border: none;\n",
       "                /* Needs to be in here for Safari polyfill so background images work as expected. */\n",
       "                background-size: auto;\n",
       "            }\n",
       "            .progress-bar-interrupted, .progress-bar-interrupted::-webkit-progress-bar {\n",
       "                background: #F44336;\n",
       "            }\n",
       "        </style>\n",
       "      <progress value='16879' class='' max='200000' style='width:300px; height:20px; vertical-align: middle;'></progress>\n",
       "      8.44% [16879/200000 00:05<01:01 Average Loss = 120.61]\n",
       "    </div>\n",
       "    "
      ],
      "text/plain": [
       "<IPython.core.display.HTML object>"
      ]
     },
     "metadata": {},
     "output_type": "display_data"
    },
    {
     "name": "stderr",
     "output_type": "stream",
     "text": [
      "Convergence achieved at 16900\n",
      "Interrupted at 16,899 [8%]: Average Loss = 150.37\n",
      "Multiprocess sampling (4 chains in 4 jobs)\n",
      "NUTS: [sigma_y, nu_y, f_gp_rotated_, var, ls, fixed_b, b_shrinkage]\n"
     ]
    },
    {
     "data": {
      "text/html": [
       "\n",
       "    <div>\n",
       "        <style>\n",
       "            /* Turns off some styling */\n",
       "            progress {\n",
       "                /* gets rid of default border in Firefox and Opera. */\n",
       "                border: none;\n",
       "                /* Needs to be in here for Safari polyfill so background images work as expected. */\n",
       "                background-size: auto;\n",
       "            }\n",
       "            .progress-bar-interrupted, .progress-bar-interrupted::-webkit-progress-bar {\n",
       "                background: #F44336;\n",
       "            }\n",
       "        </style>\n",
       "      <progress value='8000' class='' max='8000' style='width:300px; height:20px; vertical-align: middle;'></progress>\n",
       "      100.00% [8000/8000 00:48<00:00 Sampling 4 chains, 6 divergences]\n",
       "    </div>\n",
       "    "
      ],
      "text/plain": [
       "<IPython.core.display.HTML object>"
      ]
     },
     "metadata": {},
     "output_type": "display_data"
    },
    {
     "name": "stderr",
     "output_type": "stream",
     "text": [
      "Sampling 4 chains for 1_500 tune and 500 draw iterations (6_000 + 2_000 draws total) took 49 seconds.\n",
      "There was 1 divergence after tuning. Increase `target_accept` or reparameterize.\n",
      "There was 1 divergence after tuning. Increase `target_accept` or reparameterize.\n",
      "There were 2 divergences after tuning. Increase `target_accept` or reparameterize.\n",
      "There were 2 divergences after tuning. Increase `target_accept` or reparameterize.\n",
      "The number of effective samples is smaller than 25% for some parameters.\n",
      "Got error No model on context stack. trying to find log_likelihood in translation.\n",
      "Got error No model on context stack. trying to find log_likelihood in translation.\n",
      "Got error No model on context stack. trying to find log_likelihood in translation.\n",
      "Got error No model on context stack. trying to find log_likelihood in translation.\n",
      "Got error No model on context stack. trying to find log_likelihood in translation.\n",
      "Got error No model on context stack. trying to find log_likelihood in translation.\n"
     ]
    },
    {
     "name": "stdout",
     "output_type": "stream",
     "text": [
      "\u001b[94mBipolar_Disorder x Atherosclerosis\u001b[0m\n",
      "\u001b[94mBipolar_Disorder x Atopic_Contact_Dermatitis\u001b[0m\n",
      "ss_log__ -1.1447301\n",
      "shift -2.3025851\n",
      "b_shrinkage_log__ -2.28946\n",
      "fixed_b -7.829342\n",
      "ls_log__ -1.1447301\n",
      "var_log__ -1.1447301\n",
      "f_gp_rotated_ -42.271175\n",
      "nu_y_log__ -0.61370564\n",
      "sigma_y_log__ -0.61370564\n"
     ]
    },
    {
     "name": "stderr",
     "output_type": "stream",
     "text": [
      "Initializing NUTS using advi+adapt_diag...\n"
     ]
    },
    {
     "name": "stdout",
     "output_type": "stream",
     "text": [
      "y -178.53344160633182\n"
     ]
    },
    {
     "data": {
      "text/html": [
       "\n",
       "    <div>\n",
       "        <style>\n",
       "            /* Turns off some styling */\n",
       "            progress {\n",
       "                /* gets rid of default border in Firefox and Opera. */\n",
       "                border: none;\n",
       "                /* Needs to be in here for Safari polyfill so background images work as expected. */\n",
       "                background-size: auto;\n",
       "            }\n",
       "            .progress-bar-interrupted, .progress-bar-interrupted::-webkit-progress-bar {\n",
       "                background: #F44336;\n",
       "            }\n",
       "        </style>\n",
       "      <progress value='15553' class='' max='200000' style='width:300px; height:20px; vertical-align: middle;'></progress>\n",
       "      7.78% [15553/200000 00:05<01:02 Average Loss = 138.02]\n",
       "    </div>\n",
       "    "
      ],
      "text/plain": [
       "<IPython.core.display.HTML object>"
      ]
     },
     "metadata": {},
     "output_type": "display_data"
    },
    {
     "name": "stderr",
     "output_type": "stream",
     "text": [
      "Convergence achieved at 15800\n",
      "Interrupted at 15,799 [7%]: Average Loss = 162.9\n",
      "Multiprocess sampling (4 chains in 4 jobs)\n",
      "NUTS: [sigma_y, nu_y, f_gp_rotated_, var, ls, fixed_b, b_shrinkage, shift, ss]\n"
     ]
    },
    {
     "data": {
      "text/html": [
       "\n",
       "    <div>\n",
       "        <style>\n",
       "            /* Turns off some styling */\n",
       "            progress {\n",
       "                /* gets rid of default border in Firefox and Opera. */\n",
       "                border: none;\n",
       "                /* Needs to be in here for Safari polyfill so background images work as expected. */\n",
       "                background-size: auto;\n",
       "            }\n",
       "            .progress-bar-interrupted, .progress-bar-interrupted::-webkit-progress-bar {\n",
       "                background: #F44336;\n",
       "            }\n",
       "        </style>\n",
       "      <progress value='8000' class='' max='8000' style='width:300px; height:20px; vertical-align: middle;'></progress>\n",
       "      100.00% [8000/8000 00:54<00:00 Sampling 4 chains, 3 divergences]\n",
       "    </div>\n",
       "    "
      ],
      "text/plain": [
       "<IPython.core.display.HTML object>"
      ]
     },
     "metadata": {},
     "output_type": "display_data"
    },
    {
     "name": "stderr",
     "output_type": "stream",
     "text": [
      "Sampling 4 chains for 1_500 tune and 500 draw iterations (6_000 + 2_000 draws total) took 55 seconds.\n",
      "There was 1 divergence after tuning. Increase `target_accept` or reparameterize.\n",
      "There were 2 divergences after tuning. Increase `target_accept` or reparameterize.\n",
      "The number of effective samples is smaller than 25% for some parameters.\n",
      "Got error No model on context stack. trying to find log_likelihood in translation.\n",
      "Got error No model on context stack. trying to find log_likelihood in translation.\n",
      "Got error No model on context stack. trying to find log_likelihood in translation.\n",
      "Got error No model on context stack. trying to find log_likelihood in translation.\n",
      "Got error No model on context stack. trying to find log_likelihood in translation.\n",
      "Got error No model on context stack. trying to find log_likelihood in translation.\n"
     ]
    },
    {
     "name": "stdout",
     "output_type": "stream",
     "text": [
      "b_shrinkage_log__ -2.28946\n",
      "fixed_b -7.829342\n",
      "ls_log__ -1.1447301\n",
      "var_log__ -1.1447301\n",
      "f_gp_rotated_ -42.271175\n",
      "nu_y_log__ -0.61370564\n",
      "sigma_y_log__ -0.61370564\n"
     ]
    },
    {
     "name": "stderr",
     "output_type": "stream",
     "text": [
      "Initializing NUTS using advi+adapt_diag...\n"
     ]
    },
    {
     "name": "stdout",
     "output_type": "stream",
     "text": [
      "y -178.53344160633182\n"
     ]
    },
    {
     "data": {
      "text/html": [
       "\n",
       "    <div>\n",
       "        <style>\n",
       "            /* Turns off some styling */\n",
       "            progress {\n",
       "                /* gets rid of default border in Firefox and Opera. */\n",
       "                border: none;\n",
       "                /* Needs to be in here for Safari polyfill so background images work as expected. */\n",
       "                background-size: auto;\n",
       "            }\n",
       "            .progress-bar-interrupted, .progress-bar-interrupted::-webkit-progress-bar {\n",
       "                background: #F44336;\n",
       "            }\n",
       "        </style>\n",
       "      <progress value='15392' class='' max='200000' style='width:300px; height:20px; vertical-align: middle;'></progress>\n",
       "      7.70% [15392/200000 00:05<01:00 Average Loss = 137.9]\n",
       "    </div>\n",
       "    "
      ],
      "text/plain": [
       "<IPython.core.display.HTML object>"
      ]
     },
     "metadata": {},
     "output_type": "display_data"
    },
    {
     "name": "stderr",
     "output_type": "stream",
     "text": [
      "Convergence achieved at 16000\n",
      "Interrupted at 15,999 [7%]: Average Loss = 161.75\n",
      "Multiprocess sampling (4 chains in 4 jobs)\n",
      "NUTS: [sigma_y, nu_y, f_gp_rotated_, var, ls, fixed_b, b_shrinkage]\n"
     ]
    },
    {
     "data": {
      "text/html": [
       "\n",
       "    <div>\n",
       "        <style>\n",
       "            /* Turns off some styling */\n",
       "            progress {\n",
       "                /* gets rid of default border in Firefox and Opera. */\n",
       "                border: none;\n",
       "                /* Needs to be in here for Safari polyfill so background images work as expected. */\n",
       "                background-size: auto;\n",
       "            }\n",
       "            .progress-bar-interrupted, .progress-bar-interrupted::-webkit-progress-bar {\n",
       "                background: #F44336;\n",
       "            }\n",
       "        </style>\n",
       "      <progress value='8000' class='' max='8000' style='width:300px; height:20px; vertical-align: middle;'></progress>\n",
       "      100.00% [8000/8000 00:47<00:00 Sampling 4 chains, 8 divergences]\n",
       "    </div>\n",
       "    "
      ],
      "text/plain": [
       "<IPython.core.display.HTML object>"
      ]
     },
     "metadata": {},
     "output_type": "display_data"
    },
    {
     "name": "stderr",
     "output_type": "stream",
     "text": [
      "Sampling 4 chains for 1_500 tune and 500 draw iterations (6_000 + 2_000 draws total) took 48 seconds.\n",
      "There were 6 divergences after tuning. Increase `target_accept` or reparameterize.\n",
      "There were 2 divergences after tuning. Increase `target_accept` or reparameterize.\n",
      "The number of effective samples is smaller than 25% for some parameters.\n",
      "Got error No model on context stack. trying to find log_likelihood in translation.\n",
      "Got error No model on context stack. trying to find log_likelihood in translation.\n",
      "Got error No model on context stack. trying to find log_likelihood in translation.\n",
      "Got error No model on context stack. trying to find log_likelihood in translation.\n",
      "Got error No model on context stack. trying to find log_likelihood in translation.\n",
      "Got error No model on context stack. trying to find log_likelihood in translation.\n"
     ]
    },
    {
     "name": "stdout",
     "output_type": "stream",
     "text": [
      "\u001b[94mBipolar_Disorder x Autism\u001b[0m\n",
      "\u001b[94mBipolar_Disorder x Autoimmune_Lymphoproliferative_Syndrome\u001b[0m\n",
      "\u001b[94mBipolar_Disorder x Autoimmune_Polyglandular_Disorder\u001b[0m\n",
      "\u001b[94mBipolar_Disorder x Autonomic_System_Disorder\u001b[0m\n",
      "\u001b[94mBipolar_Disorder x Balanced_Translocation\u001b[0m\n",
      "\u001b[94mBipolar_Disorder x Bartters_Syndrome\u001b[0m\n",
      "\u001b[94mBipolar_Disorder x Behcets_Syndrome\u001b[0m\n",
      "\u001b[94mBipolar_Disorder x Benign_Bone_Connective_Tissue_Neoplasm\u001b[0m\n",
      "\u001b[94mBipolar_Disorder x Benign_Breast_Neoplasm\u001b[0m\n",
      "\u001b[94mBipolar_Disorder x Benign_CNS_Neoplasm\u001b[0m\n",
      "\u001b[94mBipolar_Disorder x Benign_Colon_Neoplasm\u001b[0m\n",
      "\u001b[94mBipolar_Disorder x Benign_Digestive_Neoplasm\u001b[0m\n",
      "\u001b[94mBipolar_Disorder x Benign_Endocrine_Neoplasm\u001b[0m\n",
      "\u001b[94mBipolar_Disorder x Benign_Eye_Neoplasm\u001b[0m\n",
      "\u001b[94mBipolar_Disorder x Benign_Female_Genital_Neoplasm\u001b[0m\n",
      "\u001b[94mBipolar_Disorder x Benign_Intrathoracic_Neoplasm\u001b[0m\n",
      "\u001b[94mBipolar_Disorder x Benign_Male_Genital_Neoplasm\u001b[0m\n",
      "\u001b[94mBipolar_Disorder x Benign_Oropharyngeal_Neoplasm\u001b[0m\n",
      "\u001b[94mBipolar_Disorder x Benign_Ovarian_Neoplasm\u001b[0m\n",
      "\u001b[94mBipolar_Disorder x Benign_Prostastic_Hyperplasia\u001b[0m\n",
      "\u001b[94mBipolar_Disorder x Benign_Skin_Neoplasm\u001b[0m\n",
      "\u001b[94mBipolar_Disorder x Benign_Thyroid_Neoplasm\u001b[0m\n",
      "\u001b[94mBipolar_Disorder x Benign_Urinary_Neoplasm\u001b[0m\n",
      "\u001b[94mBipolar_Disorder x Benign_Uterine_Neoplasm\u001b[0m\n",
      "\u001b[94mBipolar_Disorder x Biliary_Tract_Disease\u001b[0m\n",
      "\u001b[94mBipolar_Disorder x Bipolar_Disorder\u001b[0m\n",
      "\u001b[94mBipolar_Disorder x Bladder_Cancer\u001b[0m\n",
      "\u001b[94mBipolar_Disorder x Bladder_Disorder\u001b[0m\n",
      "\u001b[94mBipolar_Disorder x Bone_Cancer\u001b[0m\n",
      "\u001b[94mBipolar_Disorder x Bone_Infection\u001b[0m\n",
      "\u001b[94mBipolar_Disorder x Brain_Cancer\u001b[0m\n",
      "\u001b[94mBipolar_Disorder x Brain_Damage\u001b[0m\n",
      "\u001b[94mBipolar_Disorder x Branched_Chain_Amino_Acid_Metabolism_Disorder\u001b[0m\n",
      "\u001b[94mBipolar_Disorder x Breast_Cancer\u001b[0m\n",
      "\u001b[94mBipolar_Disorder x Breast_Disorder\u001b[0m\n",
      "\u001b[94mBipolar_Disorder x CNS_Cancer\u001b[0m\n",
      "\u001b[94mBipolar_Disorder x CNS_Infection\u001b[0m\n",
      "\u001b[94mBipolar_Disorder x Carbuncle_Furuncle\u001b[0m\n",
      "\u001b[94mBipolar_Disorder x Carcinoid_Syndrome\u001b[0m\n",
      "\u001b[94mBipolar_Disorder x Cardiac_Conduction_Disorder\u001b[0m\n",
      "\u001b[94mBipolar_Disorder x Cardiac_Congenital_Anomaly\u001b[0m\n",
      "\u001b[94mBipolar_Disorder x Cardiac_Dysrhythmia\u001b[0m\n",
      "\u001b[94mBipolar_Disorder x Cardiomyopathy\u001b[0m\n",
      "\u001b[94mBipolar_Disorder x Carditis\u001b[0m\n",
      "\u001b[94mBipolar_Disorder x Carinoid_Neoplasm\u001b[0m\n",
      "\u001b[94mBipolar_Disorder x Cataplexy_Narcolepsy\u001b[0m\n",
      "\u001b[94mBipolar_Disorder x Cataract\u001b[0m\n",
      "\u001b[94mBipolar_Disorder x Cellulitis\u001b[0m\n",
      "\u001b[94mBipolar_Disorder x Cerebral_Cysts\u001b[0m\n",
      "\u001b[94mBipolar_Disorder x Cerebral_Lipidoses\u001b[0m\n",
      "\u001b[94mBipolar_Disorder x Cerebrovascular_Disease\u001b[0m\n",
      "\u001b[94mBipolar_Disorder x Cervical_Cancer\u001b[0m\n",
      "\u001b[94mBipolar_Disorder x Charcot_Marie_Tooth_Disease\u001b[0m\n",
      "\u001b[94mBipolar_Disorder x Childhood_Disintegrative_Disorder\u001b[0m\n",
      "\u001b[94mBipolar_Disorder x Chondrocalcinosis\u001b[0m\n",
      "\u001b[94mBipolar_Disorder x Chondrodystrophy\u001b[0m\n",
      "\u001b[94mBipolar_Disorder x Choroidal_Disorders\u001b[0m\n",
      "\u001b[94mBipolar_Disorder x Chronic_Glomerulonephritis\u001b[0m\n",
      "\u001b[94mBipolar_Disorder x Chronic_Kidney_Disease\u001b[0m\n",
      "\u001b[94mBipolar_Disorder x Chronic_Liver_Disease\u001b[0m\n",
      "\u001b[94mBipolar_Disorder x Chronic_Progressive_External_Ophthalmoplegia\u001b[0m\n",
      "\u001b[94mBipolar_Disorder x Chronic_Pruritus\u001b[0m\n",
      "\u001b[94mBipolar_Disorder x Chronic_Sinusitis\u001b[0m\n",
      "\u001b[94mBipolar_Disorder x Chronic_Tonsillitis_Adenoiditis\u001b[0m\n",
      "\u001b[94mBipolar_Disorder x Chronic_Upper_Respiratory_Infection\u001b[0m\n",
      "\u001b[94mBipolar_Disorder x Chronic_Venous_Hypertension\u001b[0m\n",
      "\u001b[94mBipolar_Disorder x Circulating_Enzyme_Deficiency\u001b[0m\n",
      "\u001b[94mBipolar_Disorder x Colorectal_Cancer\u001b[0m\n",
      "\u001b[94mBipolar_Disorder x Common_Variable_Immunodeficiency\u001b[0m\n",
      "\u001b[94mBipolar_Disorder x Complex_Regional_Pain_Syndrome\u001b[0m\n",
      "\u001b[94mBipolar_Disorder x Conduct_Disorder\u001b[0m\n",
      "ss_log__ -1.1447301\n",
      "shift -2.3025851\n",
      "b_shrinkage_log__ -2.28946\n",
      "fixed_b -7.829342\n",
      "ls_log__ -1.1447301\n",
      "var_log__ -1.1447301\n",
      "f_gp_rotated_ -30.324972\n",
      "nu_y_log__ -0.61370564\n",
      "sigma_y_log__ -0.61370564\n"
     ]
    },
    {
     "name": "stderr",
     "output_type": "stream",
     "text": [
      "Initializing NUTS using advi+adapt_diag...\n"
     ]
    },
    {
     "name": "stdout",
     "output_type": "stream",
     "text": [
      "y -107.5163624546309\n"
     ]
    },
    {
     "data": {
      "text/html": [
       "\n",
       "    <div>\n",
       "        <style>\n",
       "            /* Turns off some styling */\n",
       "            progress {\n",
       "                /* gets rid of default border in Firefox and Opera. */\n",
       "                border: none;\n",
       "                /* Needs to be in here for Safari polyfill so background images work as expected. */\n",
       "                background-size: auto;\n",
       "            }\n",
       "            .progress-bar-interrupted, .progress-bar-interrupted::-webkit-progress-bar {\n",
       "                background: #F44336;\n",
       "            }\n",
       "        </style>\n",
       "      <progress value='16437' class='' max='200000' style='width:300px; height:20px; vertical-align: middle;'></progress>\n",
       "      8.22% [16437/200000 00:05<00:56 Average Loss = 103.93]\n",
       "    </div>\n",
       "    "
      ],
      "text/plain": [
       "<IPython.core.display.HTML object>"
      ]
     },
     "metadata": {},
     "output_type": "display_data"
    },
    {
     "name": "stderr",
     "output_type": "stream",
     "text": [
      "Convergence achieved at 16800\n",
      "Interrupted at 16,799 [8%]: Average Loss = 116.56\n",
      "Multiprocess sampling (4 chains in 4 jobs)\n",
      "NUTS: [sigma_y, nu_y, f_gp_rotated_, var, ls, fixed_b, b_shrinkage, shift, ss]\n"
     ]
    },
    {
     "data": {
      "text/html": [
       "\n",
       "    <div>\n",
       "        <style>\n",
       "            /* Turns off some styling */\n",
       "            progress {\n",
       "                /* gets rid of default border in Firefox and Opera. */\n",
       "                border: none;\n",
       "                /* Needs to be in here for Safari polyfill so background images work as expected. */\n",
       "                background-size: auto;\n",
       "            }\n",
       "            .progress-bar-interrupted, .progress-bar-interrupted::-webkit-progress-bar {\n",
       "                background: #F44336;\n",
       "            }\n",
       "        </style>\n",
       "      <progress value='8000' class='' max='8000' style='width:300px; height:20px; vertical-align: middle;'></progress>\n",
       "      100.00% [8000/8000 00:45<00:00 Sampling 4 chains, 2 divergences]\n",
       "    </div>\n",
       "    "
      ],
      "text/plain": [
       "<IPython.core.display.HTML object>"
      ]
     },
     "metadata": {},
     "output_type": "display_data"
    },
    {
     "name": "stderr",
     "output_type": "stream",
     "text": [
      "Sampling 4 chains for 1_500 tune and 500 draw iterations (6_000 + 2_000 draws total) took 46 seconds.\n",
      "There was 1 divergence after tuning. Increase `target_accept` or reparameterize.\n",
      "There was 1 divergence after tuning. Increase `target_accept` or reparameterize.\n",
      "The number of effective samples is smaller than 25% for some parameters.\n",
      "Got error No model on context stack. trying to find log_likelihood in translation.\n",
      "Got error No model on context stack. trying to find log_likelihood in translation.\n",
      "Got error No model on context stack. trying to find log_likelihood in translation.\n",
      "Got error No model on context stack. trying to find log_likelihood in translation.\n",
      "Got error No model on context stack. trying to find log_likelihood in translation.\n",
      "Got error No model on context stack. trying to find log_likelihood in translation.\n"
     ]
    },
    {
     "name": "stdout",
     "output_type": "stream",
     "text": [
      "b_shrinkage_log__ -2.28946\n",
      "fixed_b -7.829342\n",
      "ls_log__ -1.1447301\n",
      "var_log__ -1.1447301\n",
      "f_gp_rotated_ -30.324972\n",
      "nu_y_log__ -0.61370564\n",
      "sigma_y_log__ -0.61370564\n"
     ]
    },
    {
     "name": "stderr",
     "output_type": "stream",
     "text": [
      "Initializing NUTS using advi+adapt_diag...\n"
     ]
    },
    {
     "name": "stdout",
     "output_type": "stream",
     "text": [
      "y -107.5163624546309\n"
     ]
    },
    {
     "data": {
      "text/html": [
       "\n",
       "    <div>\n",
       "        <style>\n",
       "            /* Turns off some styling */\n",
       "            progress {\n",
       "                /* gets rid of default border in Firefox and Opera. */\n",
       "                border: none;\n",
       "                /* Needs to be in here for Safari polyfill so background images work as expected. */\n",
       "                background-size: auto;\n",
       "            }\n",
       "            .progress-bar-interrupted, .progress-bar-interrupted::-webkit-progress-bar {\n",
       "                background: #F44336;\n",
       "            }\n",
       "        </style>\n",
       "      <progress value='13348' class='' max='200000' style='width:300px; height:20px; vertical-align: middle;'></progress>\n",
       "      6.67% [13348/200000 00:03<00:53 Average Loss = 105.5]\n",
       "    </div>\n",
       "    "
      ],
      "text/plain": [
       "<IPython.core.display.HTML object>"
      ]
     },
     "metadata": {},
     "output_type": "display_data"
    },
    {
     "name": "stderr",
     "output_type": "stream",
     "text": [
      "Convergence achieved at 13800\n",
      "Interrupted at 13,799 [6%]: Average Loss = 118.58\n",
      "Multiprocess sampling (4 chains in 4 jobs)\n",
      "NUTS: [sigma_y, nu_y, f_gp_rotated_, var, ls, fixed_b, b_shrinkage]\n"
     ]
    },
    {
     "data": {
      "text/html": [
       "\n",
       "    <div>\n",
       "        <style>\n",
       "            /* Turns off some styling */\n",
       "            progress {\n",
       "                /* gets rid of default border in Firefox and Opera. */\n",
       "                border: none;\n",
       "                /* Needs to be in here for Safari polyfill so background images work as expected. */\n",
       "                background-size: auto;\n",
       "            }\n",
       "            .progress-bar-interrupted, .progress-bar-interrupted::-webkit-progress-bar {\n",
       "                background: #F44336;\n",
       "            }\n",
       "        </style>\n",
       "      <progress value='8000' class='' max='8000' style='width:300px; height:20px; vertical-align: middle;'></progress>\n",
       "      100.00% [8000/8000 00:38<00:00 Sampling 4 chains, 14 divergences]\n",
       "    </div>\n",
       "    "
      ],
      "text/plain": [
       "<IPython.core.display.HTML object>"
      ]
     },
     "metadata": {},
     "output_type": "display_data"
    },
    {
     "name": "stderr",
     "output_type": "stream",
     "text": [
      "Sampling 4 chains for 1_500 tune and 500 draw iterations (6_000 + 2_000 draws total) took 38 seconds.\n",
      "There were 3 divergences after tuning. Increase `target_accept` or reparameterize.\n",
      "There were 2 divergences after tuning. Increase `target_accept` or reparameterize.\n",
      "There were 8 divergences after tuning. Increase `target_accept` or reparameterize.\n",
      "The acceptance probability does not match the target. It is 0.7922693061829353, but should be close to 0.9. Try to increase the number of tuning steps.\n",
      "There was 1 divergence after tuning. Increase `target_accept` or reparameterize.\n",
      "The number of effective samples is smaller than 25% for some parameters.\n",
      "Got error No model on context stack. trying to find log_likelihood in translation.\n",
      "Got error No model on context stack. trying to find log_likelihood in translation.\n",
      "Got error No model on context stack. trying to find log_likelihood in translation.\n",
      "Got error No model on context stack. trying to find log_likelihood in translation.\n",
      "Got error No model on context stack. trying to find log_likelihood in translation.\n",
      "Got error No model on context stack. trying to find log_likelihood in translation.\n"
     ]
    },
    {
     "name": "stdout",
     "output_type": "stream",
     "text": [
      "\u001b[94mBipolar_Disorder x Congenital_Anomaly_of_Skull_Neck\u001b[0m\n",
      "\u001b[94mBipolar_Disorder x Congenital_Aphakia\u001b[0m\n",
      "\u001b[94mBipolar_Disorder x Congenital_Breast_Anomaly\u001b[0m\n",
      "\u001b[94mBipolar_Disorder x Congenital_Ectodermal_Dysplasia\u001b[0m\n",
      "\u001b[94mBipolar_Disorder x Congenital_Hair_Anomaly\u001b[0m\n",
      "\u001b[94mBipolar_Disorder x Congenital_Hypogammaglobulinemia\u001b[0m\n",
      "\u001b[94mBipolar_Disorder x Congenital_Hypothyroidism\u001b[0m\n",
      "\u001b[94mBipolar_Disorder x Congenital_Nail_Anomaly\u001b[0m\n",
      "\u001b[94mBipolar_Disorder x Congenital_Neutropenia\u001b[0m\n",
      "\u001b[94mBipolar_Disorder x Congenital_Pigmentary_Anomaly\u001b[0m\n",
      "\u001b[94mBipolar_Disorder x Congenital_Spine_Anomaly\u001b[0m\n",
      "\u001b[94mBipolar_Disorder x Conjunctival_Disorders\u001b[0m\n",
      "\u001b[94mBipolar_Disorder x Connective_Tissue_Cancer\u001b[0m\n",
      "\u001b[94mBipolar_Disorder x Connective_Tissue_Infection\u001b[0m\n",
      "\u001b[94mBipolar_Disorder x Copper_Metabolism_Disorder\u001b[0m\n",
      "\u001b[94mBipolar_Disorder x Corneal_Disorders\u001b[0m\n",
      "\u001b[94mBipolar_Disorder x Corns_Callosites\u001b[0m\n",
      "\u001b[94mBipolar_Disorder x Cranial_Nerve_Disorder\u001b[0m\n",
      "\u001b[94mBipolar_Disorder x Cri-Du-Chat_Syndrome\u001b[0m\n",
      "\u001b[94mBipolar_Disorder x Crohns_Disease\u001b[0m\n",
      "\u001b[94mBipolar_Disorder x Cushings_Syndrome\u001b[0m\n",
      "\u001b[94mBipolar_Disorder x Other_Corticoadrenal_Disorder\u001b[0m\n",
      "\u001b[94mBipolar_Disorder x Cyclic_Neutropenia\u001b[0m\n",
      "\u001b[94mBipolar_Disorder x Cystic_Fibrosis\u001b[0m\n",
      "\u001b[94mBipolar_Disorder x Cystitis_Urethritis\u001b[0m\n",
      "\u001b[94mBipolar_Disorder x Deep_Vein_Thrombosis\u001b[0m\n",
      "\u001b[94mBipolar_Disorder x Degenerative_Dementia\u001b[0m\n",
      "\u001b[94mBipolar_Disorder x Dejerine_Sottas_Disease\u001b[0m\n",
      "\u001b[94mBipolar_Disorder x Depression\u001b[0m\n",
      "\u001b[94mBipolar_Disorder x Dermatitis_Herpetiformis\u001b[0m\n",
      "\u001b[94mBipolar_Disorder x Dermatomyositis_Polymyositis\u001b[0m\n",
      "\u001b[94mBipolar_Disorder x Developmental_Delay\u001b[0m\n",
      "\u001b[94mBipolar_Disorder x Deviated_Nasal_Septum\u001b[0m\n",
      "\u001b[94mBipolar_Disorder x Diabetes_Insipidus\u001b[0m\n",
      "\u001b[94mBipolar_Disorder x Diamond-Blackfan_Anemia\u001b[0m\n",
      "\u001b[94mBipolar_Disorder x Digeorges_Syndrome\u001b[0m\n",
      "\u001b[94mBipolar_Disorder x Disease_of_the_Female_Reproductive_Organs\u001b[0m\n",
      "\u001b[94mBipolar_Disorder x Disease_of_the_Male_Reproductive_Organs\u001b[0m\n",
      "\u001b[94mBipolar_Disorder x Disorder_of_the_Vestibular_System\u001b[0m\n",
      "\u001b[94mBipolar_Disorder x Disorders_of_Fatty_Acid_Oxidation\u001b[0m\n",
      "\u001b[94mBipolar_Disorder x Disorders_of_Iris_Ciliary_Body\u001b[0m\n",
      "\u001b[94mBipolar_Disorder x Disorders_of_Mitochondrial_Metabolism\u001b[0m\n",
      "\u001b[94mBipolar_Disorder x Disorders_of_Straight_Chain_Amino_Acid_Metabolism\u001b[0m\n",
      "\u001b[94mBipolar_Disorder x Disorders_of_Urea_Cycle_Metabolism\u001b[0m\n",
      "\u001b[94mBipolar_Disorder x Dissociative_Disorder\u001b[0m\n",
      "\u001b[94mBipolar_Disorder x Diverticulosis_Diverticulitis\u001b[0m\n",
      "\u001b[94mBipolar_Disorder x Dopa-Responsive_Dystonia\u001b[0m\n",
      "\u001b[94mBipolar_Disorder x Downs_Syndrome\u001b[0m\n",
      "\u001b[94mBipolar_Disorder x Dwarfism_of_Unknown_Etiology\u001b[0m\n",
      "\u001b[94mBipolar_Disorder x Dyschromia\u001b[0m\n",
      "\u001b[94mBipolar_Disorder x Ear_Infection\u001b[0m\n",
      "ss_log__ -1.1447301\n",
      "shift -2.3025851\n",
      "b_shrinkage_log__ -2.28946\n",
      "fixed_b -7.829342\n",
      "ls_log__ -1.1447301\n",
      "var_log__ -1.1447301\n",
      "f_gp_rotated_ -45.94693\n",
      "nu_y_log__ -0.61370564\n",
      "sigma_y_log__ -0.61370564\n"
     ]
    },
    {
     "name": "stderr",
     "output_type": "stream",
     "text": [
      "Initializing NUTS using advi+adapt_diag...\n"
     ]
    },
    {
     "name": "stdout",
     "output_type": "stream",
     "text": [
      "y -230.06238887311557\n"
     ]
    },
    {
     "data": {
      "text/html": [
       "\n",
       "    <div>\n",
       "        <style>\n",
       "            /* Turns off some styling */\n",
       "            progress {\n",
       "                /* gets rid of default border in Firefox and Opera. */\n",
       "                border: none;\n",
       "                /* Needs to be in here for Safari polyfill so background images work as expected. */\n",
       "                background-size: auto;\n",
       "            }\n",
       "            .progress-bar-interrupted, .progress-bar-interrupted::-webkit-progress-bar {\n",
       "                background: #F44336;\n",
       "            }\n",
       "        </style>\n",
       "      <progress value='13066' class='' max='200000' style='width:300px; height:20px; vertical-align: middle;'></progress>\n",
       "      6.53% [13066/200000 00:04<01:06 Average Loss = 168.86]\n",
       "    </div>\n",
       "    "
      ],
      "text/plain": [
       "<IPython.core.display.HTML object>"
      ]
     },
     "metadata": {},
     "output_type": "display_data"
    },
    {
     "name": "stderr",
     "output_type": "stream",
     "text": [
      "Convergence achieved at 13400\n",
      "Interrupted at 13,399 [6%]: Average Loss = 195.39\n",
      "Multiprocess sampling (4 chains in 4 jobs)\n",
      "NUTS: [sigma_y, nu_y, f_gp_rotated_, var, ls, fixed_b, b_shrinkage, shift, ss]\n"
     ]
    },
    {
     "data": {
      "text/html": [
       "\n",
       "    <div>\n",
       "        <style>\n",
       "            /* Turns off some styling */\n",
       "            progress {\n",
       "                /* gets rid of default border in Firefox and Opera. */\n",
       "                border: none;\n",
       "                /* Needs to be in here for Safari polyfill so background images work as expected. */\n",
       "                background-size: auto;\n",
       "            }\n",
       "            .progress-bar-interrupted, .progress-bar-interrupted::-webkit-progress-bar {\n",
       "                background: #F44336;\n",
       "            }\n",
       "        </style>\n",
       "      <progress value='8000' class='' max='8000' style='width:300px; height:20px; vertical-align: middle;'></progress>\n",
       "      100.00% [8000/8000 01:09<00:00 Sampling 4 chains, 7 divergences]\n",
       "    </div>\n",
       "    "
      ],
      "text/plain": [
       "<IPython.core.display.HTML object>"
      ]
     },
     "metadata": {},
     "output_type": "display_data"
    },
    {
     "name": "stderr",
     "output_type": "stream",
     "text": [
      "Sampling 4 chains for 1_500 tune and 500 draw iterations (6_000 + 2_000 draws total) took 69 seconds.\n",
      "There was 1 divergence after tuning. Increase `target_accept` or reparameterize.\n",
      "There were 5 divergences after tuning. Increase `target_accept` or reparameterize.\n",
      "There was 1 divergence after tuning. Increase `target_accept` or reparameterize.\n",
      "The number of effective samples is smaller than 25% for some parameters.\n",
      "Got error No model on context stack. trying to find log_likelihood in translation.\n",
      "Got error No model on context stack. trying to find log_likelihood in translation.\n",
      "Got error No model on context stack. trying to find log_likelihood in translation.\n",
      "Got error No model on context stack. trying to find log_likelihood in translation.\n",
      "Got error No model on context stack. trying to find log_likelihood in translation.\n",
      "Got error No model on context stack. trying to find log_likelihood in translation.\n"
     ]
    },
    {
     "name": "stdout",
     "output_type": "stream",
     "text": [
      "b_shrinkage_log__ -2.28946\n",
      "fixed_b -7.829342\n",
      "ls_log__ -1.1447301\n",
      "var_log__ -1.1447301\n",
      "f_gp_rotated_ -45.94693\n",
      "nu_y_log__ -0.61370564\n",
      "sigma_y_log__ -0.61370564\n"
     ]
    },
    {
     "name": "stderr",
     "output_type": "stream",
     "text": [
      "Initializing NUTS using advi+adapt_diag...\n"
     ]
    },
    {
     "name": "stdout",
     "output_type": "stream",
     "text": [
      "y -230.06238887311557\n"
     ]
    },
    {
     "data": {
      "text/html": [
       "\n",
       "    <div>\n",
       "        <style>\n",
       "            /* Turns off some styling */\n",
       "            progress {\n",
       "                /* gets rid of default border in Firefox and Opera. */\n",
       "                border: none;\n",
       "                /* Needs to be in here for Safari polyfill so background images work as expected. */\n",
       "                background-size: auto;\n",
       "            }\n",
       "            .progress-bar-interrupted, .progress-bar-interrupted::-webkit-progress-bar {\n",
       "                background: #F44336;\n",
       "            }\n",
       "        </style>\n",
       "      <progress value='14064' class='' max='200000' style='width:300px; height:20px; vertical-align: middle;'></progress>\n",
       "      7.03% [14064/200000 00:04<01:01 Average Loss = 169.95]\n",
       "    </div>\n",
       "    "
      ],
      "text/plain": [
       "<IPython.core.display.HTML object>"
      ]
     },
     "metadata": {},
     "output_type": "display_data"
    },
    {
     "name": "stderr",
     "output_type": "stream",
     "text": [
      "Convergence achieved at 14100\n",
      "Interrupted at 14,099 [7%]: Average Loss = 193.73\n",
      "Multiprocess sampling (4 chains in 4 jobs)\n",
      "NUTS: [sigma_y, nu_y, f_gp_rotated_, var, ls, fixed_b, b_shrinkage]\n"
     ]
    },
    {
     "data": {
      "text/html": [
       "\n",
       "    <div>\n",
       "        <style>\n",
       "            /* Turns off some styling */\n",
       "            progress {\n",
       "                /* gets rid of default border in Firefox and Opera. */\n",
       "                border: none;\n",
       "                /* Needs to be in here for Safari polyfill so background images work as expected. */\n",
       "                background-size: auto;\n",
       "            }\n",
       "            .progress-bar-interrupted, .progress-bar-interrupted::-webkit-progress-bar {\n",
       "                background: #F44336;\n",
       "            }\n",
       "        </style>\n",
       "      <progress value='8000' class='' max='8000' style='width:300px; height:20px; vertical-align: middle;'></progress>\n",
       "      100.00% [8000/8000 00:56<00:00 Sampling 4 chains, 92 divergences]\n",
       "    </div>\n",
       "    "
      ],
      "text/plain": [
       "<IPython.core.display.HTML object>"
      ]
     },
     "metadata": {},
     "output_type": "display_data"
    },
    {
     "name": "stderr",
     "output_type": "stream",
     "text": [
      "Sampling 4 chains for 1_500 tune and 500 draw iterations (6_000 + 2_000 draws total) took 57 seconds.\n",
      "There were 88 divergences after tuning. Increase `target_accept` or reparameterize.\n",
      "The acceptance probability does not match the target. It is 0.7404998435848139, but should be close to 0.9. Try to increase the number of tuning steps.\n",
      "There were 3 divergences after tuning. Increase `target_accept` or reparameterize.\n",
      "There was 1 divergence after tuning. Increase `target_accept` or reparameterize.\n",
      "The rhat statistic is larger than 1.05 for some parameters. This indicates slight problems during sampling.\n",
      "The estimated number of effective samples is smaller than 200 for some parameters.\n",
      "Got error No model on context stack. trying to find log_likelihood in translation.\n",
      "Got error No model on context stack. trying to find log_likelihood in translation.\n",
      "Got error No model on context stack. trying to find log_likelihood in translation.\n",
      "Got error No model on context stack. trying to find log_likelihood in translation.\n",
      "Got error No model on context stack. trying to find log_likelihood in translation.\n",
      "Got error No model on context stack. trying to find log_likelihood in translation.\n"
     ]
    },
    {
     "name": "stdout",
     "output_type": "stream",
     "text": [
      "\u001b[94mBipolar_Disorder x Eating_Disorder\u001b[0m\n",
      "\u001b[94mBipolar_Disorder x Edwards_Syndrome\u001b[0m\n",
      "\u001b[94mBipolar_Disorder x Ehlers_Danlos_Syndrome\u001b[0m\n",
      "\u001b[94mBipolar_Disorder x Electrolyte_Acid-Base_Balance_Disorder\u001b[0m\n",
      "\u001b[94mBipolar_Disorder x Ellis_Van_Creveld_Syndrome\u001b[0m\n",
      "\u001b[94mBipolar_Disorder x Emphysema_COPD\u001b[0m\n",
      "\u001b[94mBipolar_Disorder x Encephalitis\u001b[0m\n",
      "\u001b[94mBipolar_Disorder x Endocrine_Cancer\u001b[0m\n",
      "\u001b[94mBipolar_Disorder x Epidermolysis_Bullosa\u001b[0m\n",
      "\u001b[94mBipolar_Disorder x Epilepsy_Related_Disorders\u001b[0m\n",
      "\u001b[94mBipolar_Disorder x Erythematous_Disorder\u001b[0m\n",
      "\u001b[94mBipolar_Disorder x Erythromelalgia\u001b[0m\n",
      "\u001b[94mBipolar_Disorder x Escherichia_Coli_Infection\u001b[0m\n",
      "\u001b[94mBipolar_Disorder x Esophageal_Cancer\u001b[0m\n",
      "\u001b[94mBipolar_Disorder x Esophageal_Disease\u001b[0m\n",
      "ss_log__ -1.1447301\n",
      "shift -2.3025851\n",
      "b_shrinkage_log__ -2.28946\n",
      "fixed_b -7.829342\n",
      "ls_log__ -1.1447301\n",
      "var_log__ -1.1447301\n",
      "f_gp_rotated_ -40.433296\n",
      "nu_y_log__ -0.61370564\n",
      "sigma_y_log__ -0.61370564\n"
     ]
    },
    {
     "name": "stderr",
     "output_type": "stream",
     "text": [
      "Initializing NUTS using advi+adapt_diag...\n"
     ]
    },
    {
     "name": "stdout",
     "output_type": "stream",
     "text": [
      "y -118.88164642857923\n"
     ]
    },
    {
     "data": {
      "text/html": [
       "\n",
       "    <div>\n",
       "        <style>\n",
       "            /* Turns off some styling */\n",
       "            progress {\n",
       "                /* gets rid of default border in Firefox and Opera. */\n",
       "                border: none;\n",
       "                /* Needs to be in here for Safari polyfill so background images work as expected. */\n",
       "                background-size: auto;\n",
       "            }\n",
       "            .progress-bar-interrupted, .progress-bar-interrupted::-webkit-progress-bar {\n",
       "                background: #F44336;\n",
       "            }\n",
       "        </style>\n",
       "      <progress value='23185' class='' max='200000' style='width:300px; height:20px; vertical-align: middle;'></progress>\n",
       "      11.59% [23185/200000 00:07<00:58 Average Loss = 107.09]\n",
       "    </div>\n",
       "    "
      ],
      "text/plain": [
       "<IPython.core.display.HTML object>"
      ]
     },
     "metadata": {},
     "output_type": "display_data"
    },
    {
     "name": "stderr",
     "output_type": "stream",
     "text": [
      "Convergence achieved at 23300\n",
      "Interrupted at 23,299 [11%]: Average Loss = 133.86\n",
      "Multiprocess sampling (4 chains in 4 jobs)\n",
      "NUTS: [sigma_y, nu_y, f_gp_rotated_, var, ls, fixed_b, b_shrinkage, shift, ss]\n"
     ]
    },
    {
     "data": {
      "text/html": [
       "\n",
       "    <div>\n",
       "        <style>\n",
       "            /* Turns off some styling */\n",
       "            progress {\n",
       "                /* gets rid of default border in Firefox and Opera. */\n",
       "                border: none;\n",
       "                /* Needs to be in here for Safari polyfill so background images work as expected. */\n",
       "                background-size: auto;\n",
       "            }\n",
       "            .progress-bar-interrupted, .progress-bar-interrupted::-webkit-progress-bar {\n",
       "                background: #F44336;\n",
       "            }\n",
       "        </style>\n",
       "      <progress value='8000' class='' max='8000' style='width:300px; height:20px; vertical-align: middle;'></progress>\n",
       "      100.00% [8000/8000 00:52<00:00 Sampling 4 chains, 9 divergences]\n",
       "    </div>\n",
       "    "
      ],
      "text/plain": [
       "<IPython.core.display.HTML object>"
      ]
     },
     "metadata": {},
     "output_type": "display_data"
    },
    {
     "name": "stderr",
     "output_type": "stream",
     "text": [
      "Sampling 4 chains for 1_500 tune and 500 draw iterations (6_000 + 2_000 draws total) took 53 seconds.\n",
      "There were 2 divergences after tuning. Increase `target_accept` or reparameterize.\n",
      "There were 3 divergences after tuning. Increase `target_accept` or reparameterize.\n",
      "There were 4 divergences after tuning. Increase `target_accept` or reparameterize.\n",
      "The acceptance probability does not match the target. It is 0.8219401300879083, but should be close to 0.9. Try to increase the number of tuning steps.\n",
      "The rhat statistic is larger than 1.05 for some parameters. This indicates slight problems during sampling.\n",
      "The estimated number of effective samples is smaller than 200 for some parameters.\n",
      "Got error No model on context stack. trying to find log_likelihood in translation.\n",
      "Got error No model on context stack. trying to find log_likelihood in translation.\n",
      "Got error No model on context stack. trying to find log_likelihood in translation.\n",
      "Got error No model on context stack. trying to find log_likelihood in translation.\n",
      "Got error No model on context stack. trying to find log_likelihood in translation.\n",
      "Got error No model on context stack. trying to find log_likelihood in translation.\n"
     ]
    },
    {
     "name": "stdout",
     "output_type": "stream",
     "text": [
      "b_shrinkage_log__ -2.28946\n",
      "fixed_b -7.829342\n",
      "ls_log__ -1.1447301\n",
      "var_log__ -1.1447301\n",
      "f_gp_rotated_ -40.433296\n",
      "nu_y_log__ -0.61370564\n",
      "sigma_y_log__ -0.61370564\n"
     ]
    },
    {
     "name": "stderr",
     "output_type": "stream",
     "text": [
      "Initializing NUTS using advi+adapt_diag...\n"
     ]
    },
    {
     "name": "stdout",
     "output_type": "stream",
     "text": [
      "y -118.88164642857923\n"
     ]
    },
    {
     "data": {
      "text/html": [
       "\n",
       "    <div>\n",
       "        <style>\n",
       "            /* Turns off some styling */\n",
       "            progress {\n",
       "                /* gets rid of default border in Firefox and Opera. */\n",
       "                border: none;\n",
       "                /* Needs to be in here for Safari polyfill so background images work as expected. */\n",
       "                background-size: auto;\n",
       "            }\n",
       "            .progress-bar-interrupted, .progress-bar-interrupted::-webkit-progress-bar {\n",
       "                background: #F44336;\n",
       "            }\n",
       "        </style>\n",
       "      <progress value='17306' class='' max='200000' style='width:300px; height:20px; vertical-align: middle;'></progress>\n",
       "      8.65% [17306/200000 00:05<00:59 Average Loss = 112.55]\n",
       "    </div>\n",
       "    "
      ],
      "text/plain": [
       "<IPython.core.display.HTML object>"
      ]
     },
     "metadata": {},
     "output_type": "display_data"
    },
    {
     "name": "stderr",
     "output_type": "stream",
     "text": [
      "Convergence achieved at 17700\n",
      "Interrupted at 17,699 [8%]: Average Loss = 140.63\n",
      "Multiprocess sampling (4 chains in 4 jobs)\n",
      "NUTS: [sigma_y, nu_y, f_gp_rotated_, var, ls, fixed_b, b_shrinkage]\n"
     ]
    },
    {
     "data": {
      "text/html": [
       "\n",
       "    <div>\n",
       "        <style>\n",
       "            /* Turns off some styling */\n",
       "            progress {\n",
       "                /* gets rid of default border in Firefox and Opera. */\n",
       "                border: none;\n",
       "                /* Needs to be in here for Safari polyfill so background images work as expected. */\n",
       "                background-size: auto;\n",
       "            }\n",
       "            .progress-bar-interrupted, .progress-bar-interrupted::-webkit-progress-bar {\n",
       "                background: #F44336;\n",
       "            }\n",
       "        </style>\n",
       "      <progress value='8000' class='' max='8000' style='width:300px; height:20px; vertical-align: middle;'></progress>\n",
       "      100.00% [8000/8000 00:33<00:00 Sampling 4 chains, 25 divergences]\n",
       "    </div>\n",
       "    "
      ],
      "text/plain": [
       "<IPython.core.display.HTML object>"
      ]
     },
     "metadata": {},
     "output_type": "display_data"
    },
    {
     "name": "stderr",
     "output_type": "stream",
     "text": [
      "Sampling 4 chains for 1_500 tune and 500 draw iterations (6_000 + 2_000 draws total) took 34 seconds.\n",
      "There were 14 divergences after tuning. Increase `target_accept` or reparameterize.\n",
      "There were 4 divergences after tuning. Increase `target_accept` or reparameterize.\n",
      "There was 1 divergence after tuning. Increase `target_accept` or reparameterize.\n",
      "The acceptance probability does not match the target. It is 0.7654513158978782, but should be close to 0.9. Try to increase the number of tuning steps.\n",
      "There were 6 divergences after tuning. Increase `target_accept` or reparameterize.\n",
      "The estimated number of effective samples is smaller than 200 for some parameters.\n",
      "Got error No model on context stack. trying to find log_likelihood in translation.\n",
      "Got error No model on context stack. trying to find log_likelihood in translation.\n",
      "Got error No model on context stack. trying to find log_likelihood in translation.\n",
      "Got error No model on context stack. trying to find log_likelihood in translation.\n",
      "Got error No model on context stack. trying to find log_likelihood in translation.\n",
      "Got error No model on context stack. trying to find log_likelihood in translation.\n"
     ]
    },
    {
     "name": "stdout",
     "output_type": "stream",
     "text": [
      "\u001b[94mBipolar_Disorder x Esophagitis\u001b[0m\n",
      "\u001b[94mBipolar_Disorder x Eustachian_Tube_Disorder\u001b[0m\n",
      "\u001b[94mBipolar_Disorder x External_Ear_Disorders\u001b[0m\n",
      "\u001b[94mBipolar_Disorder x Extrapyramidal_Abnormal_Movement_Disorders\u001b[0m\n",
      "\u001b[94mBipolar_Disorder x Eye_Cancer\u001b[0m\n",
      "\u001b[94mBipolar_Disorder x Eye_Infection\u001b[0m\n",
      "ss_log__ -1.1447301\n",
      "shift -2.3025851\n",
      "b_shrinkage_log__ -2.28946\n",
      "fixed_b -7.829342\n",
      "ls_log__ -1.1447301\n",
      "var_log__ -1.1447301\n",
      "f_gp_rotated_ -43.190113\n",
      "nu_y_log__ -0.61370564\n",
      "sigma_y_log__ -0.61370564\n"
     ]
    },
    {
     "name": "stderr",
     "output_type": "stream",
     "text": [
      "Initializing NUTS using advi+adapt_diag...\n"
     ]
    },
    {
     "name": "stdout",
     "output_type": "stream",
     "text": [
      "y -154.09220966050293\n"
     ]
    },
    {
     "data": {
      "text/html": [
       "\n",
       "    <div>\n",
       "        <style>\n",
       "            /* Turns off some styling */\n",
       "            progress {\n",
       "                /* gets rid of default border in Firefox and Opera. */\n",
       "                border: none;\n",
       "                /* Needs to be in here for Safari polyfill so background images work as expected. */\n",
       "                background-size: auto;\n",
       "            }\n",
       "            .progress-bar-interrupted, .progress-bar-interrupted::-webkit-progress-bar {\n",
       "                background: #F44336;\n",
       "            }\n",
       "        </style>\n",
       "      <progress value='16282' class='' max='200000' style='width:300px; height:20px; vertical-align: middle;'></progress>\n",
       "      8.14% [16282/200000 00:05<01:03 Average Loss = 138.29]\n",
       "    </div>\n",
       "    "
      ],
      "text/plain": [
       "<IPython.core.display.HTML object>"
      ]
     },
     "metadata": {},
     "output_type": "display_data"
    },
    {
     "name": "stderr",
     "output_type": "stream",
     "text": [
      "Convergence achieved at 16800\n",
      "Interrupted at 16,799 [8%]: Average Loss = 160.03\n",
      "Multiprocess sampling (4 chains in 4 jobs)\n",
      "NUTS: [sigma_y, nu_y, f_gp_rotated_, var, ls, fixed_b, b_shrinkage, shift, ss]\n"
     ]
    },
    {
     "data": {
      "text/html": [
       "\n",
       "    <div>\n",
       "        <style>\n",
       "            /* Turns off some styling */\n",
       "            progress {\n",
       "                /* gets rid of default border in Firefox and Opera. */\n",
       "                border: none;\n",
       "                /* Needs to be in here for Safari polyfill so background images work as expected. */\n",
       "                background-size: auto;\n",
       "            }\n",
       "            .progress-bar-interrupted, .progress-bar-interrupted::-webkit-progress-bar {\n",
       "                background: #F44336;\n",
       "            }\n",
       "        </style>\n",
       "      <progress value='8000' class='' max='8000' style='width:300px; height:20px; vertical-align: middle;'></progress>\n",
       "      100.00% [8000/8000 00:51<00:00 Sampling 4 chains, 96 divergences]\n",
       "    </div>\n",
       "    "
      ],
      "text/plain": [
       "<IPython.core.display.HTML object>"
      ]
     },
     "metadata": {},
     "output_type": "display_data"
    },
    {
     "name": "stderr",
     "output_type": "stream",
     "text": [
      "Sampling 4 chains for 1_500 tune and 500 draw iterations (6_000 + 2_000 draws total) took 51 seconds.\n",
      "There were 15 divergences after tuning. Increase `target_accept` or reparameterize.\n",
      "The acceptance probability does not match the target. It is 0.8206655737217498, but should be close to 0.9. Try to increase the number of tuning steps.\n",
      "There were 36 divergences after tuning. Increase `target_accept` or reparameterize.\n",
      "The acceptance probability does not match the target. It is 0.8004699462962077, but should be close to 0.9. Try to increase the number of tuning steps.\n",
      "There were 12 divergences after tuning. Increase `target_accept` or reparameterize.\n",
      "There were 33 divergences after tuning. Increase `target_accept` or reparameterize.\n",
      "The acceptance probability does not match the target. It is 0.7974329274011656, but should be close to 0.9. Try to increase the number of tuning steps.\n",
      "The rhat statistic is larger than 1.2 for some parameters.\n",
      "The estimated number of effective samples is smaller than 200 for some parameters.\n",
      "Got error No model on context stack. trying to find log_likelihood in translation.\n",
      "Got error No model on context stack. trying to find log_likelihood in translation.\n",
      "Got error No model on context stack. trying to find log_likelihood in translation.\n",
      "Got error No model on context stack. trying to find log_likelihood in translation.\n",
      "Got error No model on context stack. trying to find log_likelihood in translation.\n",
      "Got error No model on context stack. trying to find log_likelihood in translation.\n"
     ]
    },
    {
     "name": "stdout",
     "output_type": "stream",
     "text": [
      "b_shrinkage_log__ -2.28946\n",
      "fixed_b -7.829342\n",
      "ls_log__ -1.1447301\n",
      "var_log__ -1.1447301\n",
      "f_gp_rotated_ -43.190113\n",
      "nu_y_log__ -0.61370564\n",
      "sigma_y_log__ -0.61370564\n"
     ]
    },
    {
     "name": "stderr",
     "output_type": "stream",
     "text": [
      "Initializing NUTS using advi+adapt_diag...\n"
     ]
    },
    {
     "name": "stdout",
     "output_type": "stream",
     "text": [
      "y -154.09220966050293\n"
     ]
    },
    {
     "data": {
      "text/html": [
       "\n",
       "    <div>\n",
       "        <style>\n",
       "            /* Turns off some styling */\n",
       "            progress {\n",
       "                /* gets rid of default border in Firefox and Opera. */\n",
       "                border: none;\n",
       "                /* Needs to be in here for Safari polyfill so background images work as expected. */\n",
       "                background-size: auto;\n",
       "            }\n",
       "            .progress-bar-interrupted, .progress-bar-interrupted::-webkit-progress-bar {\n",
       "                background: #F44336;\n",
       "            }\n",
       "        </style>\n",
       "      <progress value='15416' class='' max='200000' style='width:300px; height:20px; vertical-align: middle;'></progress>\n",
       "      7.71% [15416/200000 00:05<01:00 Average Loss = 135.15]\n",
       "    </div>\n",
       "    "
      ],
      "text/plain": [
       "<IPython.core.display.HTML object>"
      ]
     },
     "metadata": {},
     "output_type": "display_data"
    },
    {
     "name": "stderr",
     "output_type": "stream",
     "text": [
      "Convergence achieved at 15600\n",
      "Interrupted at 15,599 [7%]: Average Loss = 160.74\n",
      "Multiprocess sampling (4 chains in 4 jobs)\n",
      "NUTS: [sigma_y, nu_y, f_gp_rotated_, var, ls, fixed_b, b_shrinkage]\n"
     ]
    },
    {
     "data": {
      "text/html": [
       "\n",
       "    <div>\n",
       "        <style>\n",
       "            /* Turns off some styling */\n",
       "            progress {\n",
       "                /* gets rid of default border in Firefox and Opera. */\n",
       "                border: none;\n",
       "                /* Needs to be in here for Safari polyfill so background images work as expected. */\n",
       "                background-size: auto;\n",
       "            }\n",
       "            .progress-bar-interrupted, .progress-bar-interrupted::-webkit-progress-bar {\n",
       "                background: #F44336;\n",
       "            }\n",
       "        </style>\n",
       "      <progress value='8000' class='' max='8000' style='width:300px; height:20px; vertical-align: middle;'></progress>\n",
       "      100.00% [8000/8000 00:44<00:00 Sampling 4 chains, 6 divergences]\n",
       "    </div>\n",
       "    "
      ],
      "text/plain": [
       "<IPython.core.display.HTML object>"
      ]
     },
     "metadata": {},
     "output_type": "display_data"
    },
    {
     "name": "stderr",
     "output_type": "stream",
     "text": [
      "Sampling 4 chains for 1_500 tune and 500 draw iterations (6_000 + 2_000 draws total) took 45 seconds.\n",
      "There were 2 divergences after tuning. Increase `target_accept` or reparameterize.\n",
      "There was 1 divergence after tuning. Increase `target_accept` or reparameterize.\n",
      "There was 1 divergence after tuning. Increase `target_accept` or reparameterize.\n",
      "There were 2 divergences after tuning. Increase `target_accept` or reparameterize.\n",
      "Got error No model on context stack. trying to find log_likelihood in translation.\n",
      "Got error No model on context stack. trying to find log_likelihood in translation.\n",
      "Got error No model on context stack. trying to find log_likelihood in translation.\n",
      "Got error No model on context stack. trying to find log_likelihood in translation.\n",
      "Got error No model on context stack. trying to find log_likelihood in translation.\n",
      "Got error No model on context stack. trying to find log_likelihood in translation.\n"
     ]
    },
    {
     "name": "stdout",
     "output_type": "stream",
     "text": [
      "\u001b[94mBipolar_Disorder x Eye_Inflammation\u001b[0m\n",
      "\u001b[94mBipolar_Disorder x Eyelid_Disorders\u001b[0m\n",
      "\u001b[94mBipolar_Disorder x Familial_Adenomatous_Polyposis\u001b[0m\n",
      "\u001b[94mBipolar_Disorder x Familial_Dysautonomia_Related_Conditions\u001b[0m\n",
      "\u001b[94mBipolar_Disorder x Familial_Mediterranean_Fever\u001b[0m\n",
      "\u001b[94mBipolar_Disorder x Fasciitis\u001b[0m\n",
      "\u001b[94mBipolar_Disorder x Female_Genital_Cancer\u001b[0m\n",
      "\u001b[94mBipolar_Disorder x Female_Genital_Congenital_Anomaly\u001b[0m\n",
      "\u001b[94mBipolar_Disorder x Food_Allergy\u001b[0m\n",
      "\u001b[94mBipolar_Disorder x Fragile_X_Syndrome\u001b[0m\n",
      "\u001b[94mBipolar_Disorder x Friedreichs_Ataxia\u001b[0m\n",
      "\u001b[94mBipolar_Disorder x Functional_Digestive_Disorder\u001b[0m\n",
      "ss_log__ -1.1447301\n",
      "shift -2.3025851\n",
      "b_shrinkage_log__ -2.28946\n",
      "fixed_b -7.829342\n",
      "ls_log__ -1.1447301\n",
      "var_log__ -1.1447301\n",
      "f_gp_rotated_ -39.51436\n",
      "nu_y_log__ -0.61370564\n",
      "sigma_y_log__ -0.61370564\n"
     ]
    },
    {
     "name": "stderr",
     "output_type": "stream",
     "text": [
      "Initializing NUTS using advi+adapt_diag...\n"
     ]
    },
    {
     "name": "stdout",
     "output_type": "stream",
     "text": [
      "y -121.38785293412482\n"
     ]
    },
    {
     "data": {
      "text/html": [
       "\n",
       "    <div>\n",
       "        <style>\n",
       "            /* Turns off some styling */\n",
       "            progress {\n",
       "                /* gets rid of default border in Firefox and Opera. */\n",
       "                border: none;\n",
       "                /* Needs to be in here for Safari polyfill so background images work as expected. */\n",
       "                background-size: auto;\n",
       "            }\n",
       "            .progress-bar-interrupted, .progress-bar-interrupted::-webkit-progress-bar {\n",
       "                background: #F44336;\n",
       "            }\n",
       "        </style>\n",
       "      <progress value='16670' class='' max='200000' style='width:300px; height:20px; vertical-align: middle;'></progress>\n",
       "      8.34% [16670/200000 00:05<01:02 Average Loss = 111.46]\n",
       "    </div>\n",
       "    "
      ],
      "text/plain": [
       "<IPython.core.display.HTML object>"
      ]
     },
     "metadata": {},
     "output_type": "display_data"
    },
    {
     "name": "stderr",
     "output_type": "stream",
     "text": [
      "Convergence achieved at 17100\n",
      "Interrupted at 17,099 [8%]: Average Loss = 137.14\n",
      "Multiprocess sampling (4 chains in 4 jobs)\n",
      "NUTS: [sigma_y, nu_y, f_gp_rotated_, var, ls, fixed_b, b_shrinkage, shift, ss]\n"
     ]
    },
    {
     "data": {
      "text/html": [
       "\n",
       "    <div>\n",
       "        <style>\n",
       "            /* Turns off some styling */\n",
       "            progress {\n",
       "                /* gets rid of default border in Firefox and Opera. */\n",
       "                border: none;\n",
       "                /* Needs to be in here for Safari polyfill so background images work as expected. */\n",
       "                background-size: auto;\n",
       "            }\n",
       "            .progress-bar-interrupted, .progress-bar-interrupted::-webkit-progress-bar {\n",
       "                background: #F44336;\n",
       "            }\n",
       "        </style>\n",
       "      <progress value='8000' class='' max='8000' style='width:300px; height:20px; vertical-align: middle;'></progress>\n",
       "      100.00% [8000/8000 00:51<00:00 Sampling 4 chains, 3 divergences]\n",
       "    </div>\n",
       "    "
      ],
      "text/plain": [
       "<IPython.core.display.HTML object>"
      ]
     },
     "metadata": {},
     "output_type": "display_data"
    },
    {
     "name": "stderr",
     "output_type": "stream",
     "text": [
      "Sampling 4 chains for 1_500 tune and 500 draw iterations (6_000 + 2_000 draws total) took 52 seconds.\n",
      "There was 1 divergence after tuning. Increase `target_accept` or reparameterize.\n",
      "There was 1 divergence after tuning. Increase `target_accept` or reparameterize.\n",
      "There was 1 divergence after tuning. Increase `target_accept` or reparameterize.\n",
      "The estimated number of effective samples is smaller than 200 for some parameters.\n",
      "Got error No model on context stack. trying to find log_likelihood in translation.\n",
      "Got error No model on context stack. trying to find log_likelihood in translation.\n",
      "Got error No model on context stack. trying to find log_likelihood in translation.\n",
      "Got error No model on context stack. trying to find log_likelihood in translation.\n",
      "Got error No model on context stack. trying to find log_likelihood in translation.\n",
      "Got error No model on context stack. trying to find log_likelihood in translation.\n"
     ]
    },
    {
     "name": "stdout",
     "output_type": "stream",
     "text": [
      "b_shrinkage_log__ -2.28946\n",
      "fixed_b -7.829342\n",
      "ls_log__ -1.1447301\n",
      "var_log__ -1.1447301\n",
      "f_gp_rotated_ -39.51436\n",
      "nu_y_log__ -0.61370564\n",
      "sigma_y_log__ -0.61370564\n"
     ]
    },
    {
     "name": "stderr",
     "output_type": "stream",
     "text": [
      "Initializing NUTS using advi+adapt_diag...\n"
     ]
    },
    {
     "name": "stdout",
     "output_type": "stream",
     "text": [
      "y -121.38785293412482\n"
     ]
    },
    {
     "data": {
      "text/html": [
       "\n",
       "    <div>\n",
       "        <style>\n",
       "            /* Turns off some styling */\n",
       "            progress {\n",
       "                /* gets rid of default border in Firefox and Opera. */\n",
       "                border: none;\n",
       "                /* Needs to be in here for Safari polyfill so background images work as expected. */\n",
       "                background-size: auto;\n",
       "            }\n",
       "            .progress-bar-interrupted, .progress-bar-interrupted::-webkit-progress-bar {\n",
       "                background: #F44336;\n",
       "            }\n",
       "        </style>\n",
       "      <progress value='16467' class='' max='200000' style='width:300px; height:20px; vertical-align: middle;'></progress>\n",
       "      8.23% [16467/200000 00:05<00:58 Average Loss = 111.48]\n",
       "    </div>\n",
       "    "
      ],
      "text/plain": [
       "<IPython.core.display.HTML object>"
      ]
     },
     "metadata": {},
     "output_type": "display_data"
    },
    {
     "name": "stderr",
     "output_type": "stream",
     "text": [
      "Convergence achieved at 16500\n",
      "Interrupted at 16,499 [8%]: Average Loss = 137.1\n",
      "Multiprocess sampling (4 chains in 4 jobs)\n",
      "NUTS: [sigma_y, nu_y, f_gp_rotated_, var, ls, fixed_b, b_shrinkage]\n"
     ]
    },
    {
     "data": {
      "text/html": [
       "\n",
       "    <div>\n",
       "        <style>\n",
       "            /* Turns off some styling */\n",
       "            progress {\n",
       "                /* gets rid of default border in Firefox and Opera. */\n",
       "                border: none;\n",
       "                /* Needs to be in here for Safari polyfill so background images work as expected. */\n",
       "                background-size: auto;\n",
       "            }\n",
       "            .progress-bar-interrupted, .progress-bar-interrupted::-webkit-progress-bar {\n",
       "                background: #F44336;\n",
       "            }\n",
       "        </style>\n",
       "      <progress value='8000' class='' max='8000' style='width:300px; height:20px; vertical-align: middle;'></progress>\n",
       "      100.00% [8000/8000 00:47<00:00 Sampling 4 chains, 1 divergences]\n",
       "    </div>\n",
       "    "
      ],
      "text/plain": [
       "<IPython.core.display.HTML object>"
      ]
     },
     "metadata": {},
     "output_type": "display_data"
    },
    {
     "name": "stderr",
     "output_type": "stream",
     "text": [
      "Sampling 4 chains for 1_500 tune and 500 draw iterations (6_000 + 2_000 draws total) took 48 seconds.\n",
      "The acceptance probability does not match the target. It is 0.7606918909138783, but should be close to 0.9. Try to increase the number of tuning steps.\n",
      "There was 1 divergence after tuning. Increase `target_accept` or reparameterize.\n",
      "The acceptance probability does not match the target. It is 0.7824644820408689, but should be close to 0.9. Try to increase the number of tuning steps.\n",
      "The rhat statistic is larger than 1.05 for some parameters. This indicates slight problems during sampling.\n",
      "The estimated number of effective samples is smaller than 200 for some parameters.\n",
      "Got error No model on context stack. trying to find log_likelihood in translation.\n",
      "Got error No model on context stack. trying to find log_likelihood in translation.\n",
      "Got error No model on context stack. trying to find log_likelihood in translation.\n",
      "Got error No model on context stack. trying to find log_likelihood in translation.\n",
      "Got error No model on context stack. trying to find log_likelihood in translation.\n",
      "Got error No model on context stack. trying to find log_likelihood in translation.\n"
     ]
    },
    {
     "name": "stdout",
     "output_type": "stream",
     "text": [
      "\u001b[94mBipolar_Disorder x Celiac_Disease\u001b[0m\n",
      "\u001b[94mBipolar_Disorder x Fungal_Infection\u001b[0m\n",
      "ss_log__ -1.1447301\n",
      "shift -2.3025851\n",
      "b_shrinkage_log__ -2.28946\n",
      "fixed_b -7.829342\n",
      "ls_log__ -1.1447301\n",
      "var_log__ -1.1447301\n",
      "f_gp_rotated_ -34.919666\n",
      "nu_y_log__ -0.61370564\n",
      "sigma_y_log__ -0.61370564\n"
     ]
    },
    {
     "name": "stderr",
     "output_type": "stream",
     "text": [
      "Initializing NUTS using advi+adapt_diag...\n"
     ]
    },
    {
     "name": "stdout",
     "output_type": "stream",
     "text": [
      "y -104.07365063623213\n"
     ]
    },
    {
     "data": {
      "text/html": [
       "\n",
       "    <div>\n",
       "        <style>\n",
       "            /* Turns off some styling */\n",
       "            progress {\n",
       "                /* gets rid of default border in Firefox and Opera. */\n",
       "                border: none;\n",
       "                /* Needs to be in here for Safari polyfill so background images work as expected. */\n",
       "                background-size: auto;\n",
       "            }\n",
       "            .progress-bar-interrupted, .progress-bar-interrupted::-webkit-progress-bar {\n",
       "                background: #F44336;\n",
       "            }\n",
       "        </style>\n",
       "      <progress value='20221' class='' max='200000' style='width:300px; height:20px; vertical-align: middle;'></progress>\n",
       "      10.11% [20221/200000 00:06<00:56 Average Loss = 97.441]\n",
       "    </div>\n",
       "    "
      ],
      "text/plain": [
       "<IPython.core.display.HTML object>"
      ]
     },
     "metadata": {},
     "output_type": "display_data"
    },
    {
     "name": "stderr",
     "output_type": "stream",
     "text": [
      "Convergence achieved at 20300\n",
      "Interrupted at 20,299 [10%]: Average Loss = 117.73\n",
      "Multiprocess sampling (4 chains in 4 jobs)\n",
      "NUTS: [sigma_y, nu_y, f_gp_rotated_, var, ls, fixed_b, b_shrinkage, shift, ss]\n"
     ]
    },
    {
     "data": {
      "text/html": [
       "\n",
       "    <div>\n",
       "        <style>\n",
       "            /* Turns off some styling */\n",
       "            progress {\n",
       "                /* gets rid of default border in Firefox and Opera. */\n",
       "                border: none;\n",
       "                /* Needs to be in here for Safari polyfill so background images work as expected. */\n",
       "                background-size: auto;\n",
       "            }\n",
       "            .progress-bar-interrupted, .progress-bar-interrupted::-webkit-progress-bar {\n",
       "                background: #F44336;\n",
       "            }\n",
       "        </style>\n",
       "      <progress value='8000' class='' max='8000' style='width:300px; height:20px; vertical-align: middle;'></progress>\n",
       "      100.00% [8000/8000 00:48<00:00 Sampling 4 chains, 9 divergences]\n",
       "    </div>\n",
       "    "
      ],
      "text/plain": [
       "<IPython.core.display.HTML object>"
      ]
     },
     "metadata": {},
     "output_type": "display_data"
    },
    {
     "name": "stderr",
     "output_type": "stream",
     "text": [
      "Sampling 4 chains for 1_500 tune and 500 draw iterations (6_000 + 2_000 draws total) took 49 seconds.\n",
      "There were 3 divergences after tuning. Increase `target_accept` or reparameterize.\n",
      "The acceptance probability does not match the target. It is 0.8202662331158226, but should be close to 0.9. Try to increase the number of tuning steps.\n",
      "There was 1 divergence after tuning. Increase `target_accept` or reparameterize.\n",
      "There were 3 divergences after tuning. Increase `target_accept` or reparameterize.\n",
      "There were 2 divergences after tuning. Increase `target_accept` or reparameterize.\n",
      "The rhat statistic is larger than 1.05 for some parameters. This indicates slight problems during sampling.\n",
      "The estimated number of effective samples is smaller than 200 for some parameters.\n",
      "Got error No model on context stack. trying to find log_likelihood in translation.\n",
      "Got error No model on context stack. trying to find log_likelihood in translation.\n",
      "Got error No model on context stack. trying to find log_likelihood in translation.\n",
      "Got error No model on context stack. trying to find log_likelihood in translation.\n",
      "Got error No model on context stack. trying to find log_likelihood in translation.\n",
      "Got error No model on context stack. trying to find log_likelihood in translation.\n"
     ]
    },
    {
     "name": "stdout",
     "output_type": "stream",
     "text": [
      "b_shrinkage_log__ -2.28946\n",
      "fixed_b -7.829342\n",
      "ls_log__ -1.1447301\n",
      "var_log__ -1.1447301\n",
      "f_gp_rotated_ -34.919666\n",
      "nu_y_log__ -0.61370564\n",
      "sigma_y_log__ -0.61370564\n"
     ]
    },
    {
     "name": "stderr",
     "output_type": "stream",
     "text": [
      "Initializing NUTS using advi+adapt_diag...\n"
     ]
    },
    {
     "name": "stdout",
     "output_type": "stream",
     "text": [
      "y -104.07365063623213\n"
     ]
    },
    {
     "data": {
      "text/html": [
       "\n",
       "    <div>\n",
       "        <style>\n",
       "            /* Turns off some styling */\n",
       "            progress {\n",
       "                /* gets rid of default border in Firefox and Opera. */\n",
       "                border: none;\n",
       "                /* Needs to be in here for Safari polyfill so background images work as expected. */\n",
       "                background-size: auto;\n",
       "            }\n",
       "            .progress-bar-interrupted, .progress-bar-interrupted::-webkit-progress-bar {\n",
       "                background: #F44336;\n",
       "            }\n",
       "        </style>\n",
       "      <progress value='18898' class='' max='200000' style='width:300px; height:20px; vertical-align: middle;'></progress>\n",
       "      9.45% [18898/200000 00:05<00:53 Average Loss = 97.154]\n",
       "    </div>\n",
       "    "
      ],
      "text/plain": [
       "<IPython.core.display.HTML object>"
      ]
     },
     "metadata": {},
     "output_type": "display_data"
    },
    {
     "name": "stderr",
     "output_type": "stream",
     "text": [
      "Convergence achieved at 19000\n",
      "Interrupted at 18,999 [9%]: Average Loss = 118.29\n",
      "Multiprocess sampling (4 chains in 4 jobs)\n",
      "NUTS: [sigma_y, nu_y, f_gp_rotated_, var, ls, fixed_b, b_shrinkage]\n"
     ]
    },
    {
     "data": {
      "text/html": [
       "\n",
       "    <div>\n",
       "        <style>\n",
       "            /* Turns off some styling */\n",
       "            progress {\n",
       "                /* gets rid of default border in Firefox and Opera. */\n",
       "                border: none;\n",
       "                /* Needs to be in here for Safari polyfill so background images work as expected. */\n",
       "                background-size: auto;\n",
       "            }\n",
       "            .progress-bar-interrupted, .progress-bar-interrupted::-webkit-progress-bar {\n",
       "                background: #F44336;\n",
       "            }\n",
       "        </style>\n",
       "      <progress value='8000' class='' max='8000' style='width:300px; height:20px; vertical-align: middle;'></progress>\n",
       "      100.00% [8000/8000 00:41<00:00 Sampling 4 chains, 25 divergences]\n",
       "    </div>\n",
       "    "
      ],
      "text/plain": [
       "<IPython.core.display.HTML object>"
      ]
     },
     "metadata": {},
     "output_type": "display_data"
    },
    {
     "name": "stderr",
     "output_type": "stream",
     "text": [
      "Sampling 4 chains for 1_500 tune and 500 draw iterations (6_000 + 2_000 draws total) took 42 seconds.\n",
      "There were 4 divergences after tuning. Increase `target_accept` or reparameterize.\n",
      "There were 5 divergences after tuning. Increase `target_accept` or reparameterize.\n",
      "There were 9 divergences after tuning. Increase `target_accept` or reparameterize.\n",
      "There were 7 divergences after tuning. Increase `target_accept` or reparameterize.\n",
      "The number of effective samples is smaller than 25% for some parameters.\n",
      "Got error No model on context stack. trying to find log_likelihood in translation.\n",
      "Got error No model on context stack. trying to find log_likelihood in translation.\n",
      "Got error No model on context stack. trying to find log_likelihood in translation.\n",
      "Got error No model on context stack. trying to find log_likelihood in translation.\n",
      "Got error No model on context stack. trying to find log_likelihood in translation.\n",
      "Got error No model on context stack. trying to find log_likelihood in translation.\n"
     ]
    },
    {
     "name": "stdout",
     "output_type": "stream",
     "text": [
      "\u001b[94mBipolar_Disorder x G6PD\u001b[0m\n",
      "\u001b[94mBipolar_Disorder x Galactosemia\u001b[0m\n",
      "\u001b[94mBipolar_Disorder x Gastritis_Duodenitis\u001b[0m\n",
      "\u001b[94mBipolar_Disorder x Gastrointestinal_Infection\u001b[0m\n",
      "\u001b[94mBipolar_Disorder x Gastrointestinal_Ulcer\u001b[0m\n",
      "\u001b[94mBipolar_Disorder x General_Bacterial_Infection\u001b[0m\n",
      "\u001b[94mBipolar_Disorder x General_Cerebral_Degeneration\u001b[0m\n",
      "\u001b[94mBipolar_Disorder x General_Dementia\u001b[0m\n",
      "\u001b[94mBipolar_Disorder x General_Ear_Disorder\u001b[0m\n",
      "ss_log__ -1.1447301\n",
      "shift -2.3025851\n",
      "b_shrinkage_log__ -2.28946\n",
      "fixed_b -7.829342\n",
      "ls_log__ -1.1447301\n",
      "var_log__ -1.1447301\n",
      "f_gp_rotated_ -37.676483\n",
      "nu_y_log__ -0.61370564\n",
      "sigma_y_log__ -0.61370564\n"
     ]
    },
    {
     "name": "stderr",
     "output_type": "stream",
     "text": [
      "Initializing NUTS using advi+adapt_diag...\n"
     ]
    },
    {
     "name": "stdout",
     "output_type": "stream",
     "text": [
      "y -114.85996632995602\n"
     ]
    },
    {
     "data": {
      "text/html": [
       "\n",
       "    <div>\n",
       "        <style>\n",
       "            /* Turns off some styling */\n",
       "            progress {\n",
       "                /* gets rid of default border in Firefox and Opera. */\n",
       "                border: none;\n",
       "                /* Needs to be in here for Safari polyfill so background images work as expected. */\n",
       "                background-size: auto;\n",
       "            }\n",
       "            .progress-bar-interrupted, .progress-bar-interrupted::-webkit-progress-bar {\n",
       "                background: #F44336;\n",
       "            }\n",
       "        </style>\n",
       "      <progress value='17060' class='' max='200000' style='width:300px; height:20px; vertical-align: middle;'></progress>\n",
       "      8.53% [17060/200000 00:05<01:00 Average Loss = 107.09]\n",
       "    </div>\n",
       "    "
      ],
      "text/plain": [
       "<IPython.core.display.HTML object>"
      ]
     },
     "metadata": {},
     "output_type": "display_data"
    },
    {
     "name": "stderr",
     "output_type": "stream",
     "text": [
      "Convergence achieved at 17300\n",
      "Interrupted at 17,299 [8%]: Average Loss = 131.41\n",
      "Multiprocess sampling (4 chains in 4 jobs)\n",
      "NUTS: [sigma_y, nu_y, f_gp_rotated_, var, ls, fixed_b, b_shrinkage, shift, ss]\n"
     ]
    },
    {
     "data": {
      "text/html": [
       "\n",
       "    <div>\n",
       "        <style>\n",
       "            /* Turns off some styling */\n",
       "            progress {\n",
       "                /* gets rid of default border in Firefox and Opera. */\n",
       "                border: none;\n",
       "                /* Needs to be in here for Safari polyfill so background images work as expected. */\n",
       "                background-size: auto;\n",
       "            }\n",
       "            .progress-bar-interrupted, .progress-bar-interrupted::-webkit-progress-bar {\n",
       "                background: #F44336;\n",
       "            }\n",
       "        </style>\n",
       "      <progress value='8000' class='' max='8000' style='width:300px; height:20px; vertical-align: middle;'></progress>\n",
       "      100.00% [8000/8000 00:57<00:00 Sampling 4 chains, 19 divergences]\n",
       "    </div>\n",
       "    "
      ],
      "text/plain": [
       "<IPython.core.display.HTML object>"
      ]
     },
     "metadata": {},
     "output_type": "display_data"
    },
    {
     "name": "stderr",
     "output_type": "stream",
     "text": [
      "Sampling 4 chains for 1_500 tune and 500 draw iterations (6_000 + 2_000 draws total) took 58 seconds.\n",
      "There were 17 divergences after tuning. Increase `target_accept` or reparameterize.\n",
      "The acceptance probability does not match the target. It is 0.8004988158459069, but should be close to 0.9. Try to increase the number of tuning steps.\n",
      "There was 1 divergence after tuning. Increase `target_accept` or reparameterize.\n",
      "There was 1 divergence after tuning. Increase `target_accept` or reparameterize.\n",
      "The rhat statistic is larger than 1.05 for some parameters. This indicates slight problems during sampling.\n",
      "The estimated number of effective samples is smaller than 200 for some parameters.\n",
      "Got error No model on context stack. trying to find log_likelihood in translation.\n",
      "Got error No model on context stack. trying to find log_likelihood in translation.\n",
      "Got error No model on context stack. trying to find log_likelihood in translation.\n",
      "Got error No model on context stack. trying to find log_likelihood in translation.\n",
      "Got error No model on context stack. trying to find log_likelihood in translation.\n",
      "Got error No model on context stack. trying to find log_likelihood in translation.\n"
     ]
    },
    {
     "name": "stdout",
     "output_type": "stream",
     "text": [
      "b_shrinkage_log__ -2.28946\n",
      "fixed_b -7.829342\n",
      "ls_log__ -1.1447301\n",
      "var_log__ -1.1447301\n",
      "f_gp_rotated_ -37.676483\n",
      "nu_y_log__ -0.61370564\n",
      "sigma_y_log__ -0.61370564\n"
     ]
    },
    {
     "name": "stderr",
     "output_type": "stream",
     "text": [
      "Initializing NUTS using advi+adapt_diag...\n"
     ]
    },
    {
     "name": "stdout",
     "output_type": "stream",
     "text": [
      "y -114.85996632995602\n"
     ]
    },
    {
     "data": {
      "text/html": [
       "\n",
       "    <div>\n",
       "        <style>\n",
       "            /* Turns off some styling */\n",
       "            progress {\n",
       "                /* gets rid of default border in Firefox and Opera. */\n",
       "                border: none;\n",
       "                /* Needs to be in here for Safari polyfill so background images work as expected. */\n",
       "                background-size: auto;\n",
       "            }\n",
       "            .progress-bar-interrupted, .progress-bar-interrupted::-webkit-progress-bar {\n",
       "                background: #F44336;\n",
       "            }\n",
       "        </style>\n",
       "      <progress value='17054' class='' max='200000' style='width:300px; height:20px; vertical-align: middle;'></progress>\n",
       "      8.53% [17054/200000 00:05<00:55 Average Loss = 105.4]\n",
       "    </div>\n",
       "    "
      ],
      "text/plain": [
       "<IPython.core.display.HTML object>"
      ]
     },
     "metadata": {},
     "output_type": "display_data"
    },
    {
     "name": "stderr",
     "output_type": "stream",
     "text": [
      "Convergence achieved at 17200\n",
      "Interrupted at 17,199 [8%]: Average Loss = 129.81\n",
      "Multiprocess sampling (4 chains in 4 jobs)\n",
      "NUTS: [sigma_y, nu_y, f_gp_rotated_, var, ls, fixed_b, b_shrinkage]\n"
     ]
    },
    {
     "data": {
      "text/html": [
       "\n",
       "    <div>\n",
       "        <style>\n",
       "            /* Turns off some styling */\n",
       "            progress {\n",
       "                /* gets rid of default border in Firefox and Opera. */\n",
       "                border: none;\n",
       "                /* Needs to be in here for Safari polyfill so background images work as expected. */\n",
       "                background-size: auto;\n",
       "            }\n",
       "            .progress-bar-interrupted, .progress-bar-interrupted::-webkit-progress-bar {\n",
       "                background: #F44336;\n",
       "            }\n",
       "        </style>\n",
       "      <progress value='8000' class='' max='8000' style='width:300px; height:20px; vertical-align: middle;'></progress>\n",
       "      100.00% [8000/8000 00:42<00:00 Sampling 4 chains, 5 divergences]\n",
       "    </div>\n",
       "    "
      ],
      "text/plain": [
       "<IPython.core.display.HTML object>"
      ]
     },
     "metadata": {},
     "output_type": "display_data"
    },
    {
     "name": "stderr",
     "output_type": "stream",
     "text": [
      "Sampling 4 chains for 1_500 tune and 500 draw iterations (6_000 + 2_000 draws total) took 43 seconds.\n",
      "There was 1 divergence after tuning. Increase `target_accept` or reparameterize.\n",
      "There were 2 divergences after tuning. Increase `target_accept` or reparameterize.\n",
      "There was 1 divergence after tuning. Increase `target_accept` or reparameterize.\n",
      "There was 1 divergence after tuning. Increase `target_accept` or reparameterize.\n",
      "The rhat statistic is larger than 1.05 for some parameters. This indicates slight problems during sampling.\n",
      "The estimated number of effective samples is smaller than 200 for some parameters.\n",
      "Got error No model on context stack. trying to find log_likelihood in translation.\n",
      "Got error No model on context stack. trying to find log_likelihood in translation.\n",
      "Got error No model on context stack. trying to find log_likelihood in translation.\n",
      "Got error No model on context stack. trying to find log_likelihood in translation.\n",
      "Got error No model on context stack. trying to find log_likelihood in translation.\n",
      "Got error No model on context stack. trying to find log_likelihood in translation.\n"
     ]
    },
    {
     "name": "stdout",
     "output_type": "stream",
     "text": [
      "\u001b[94mBipolar_Disorder x General_Hypertension\u001b[0m\n",
      "\u001b[94mBipolar_Disorder x General_Osteochondropathy\u001b[0m\n",
      "\u001b[94mBipolar_Disorder x General_Paralysis\u001b[0m\n",
      "\u001b[94mBipolar_Disorder x General_Spondylosis_Spine_Disorder\u001b[0m\n",
      "\u001b[94mBipolar_Disorder x General_Thrombocytopenia\u001b[0m\n",
      "\u001b[94mBipolar_Disorder x General_Viral_Infection\u001b[0m\n",
      "ss_log__ -1.1447301\n",
      "shift -2.3025851\n",
      "b_shrinkage_log__ -2.28946\n",
      "fixed_b -7.829342\n",
      "ls_log__ -1.1447301\n",
      "var_log__ -1.1447301\n",
      "f_gp_rotated_ -45.02799\n",
      "nu_y_log__ -0.61370564\n",
      "sigma_y_log__ -0.61370564\n"
     ]
    },
    {
     "name": "stderr",
     "output_type": "stream",
     "text": [
      "Initializing NUTS using advi+adapt_diag...\n"
     ]
    },
    {
     "name": "stdout",
     "output_type": "stream",
     "text": [
      "y -191.3446569492913\n"
     ]
    },
    {
     "data": {
      "text/html": [
       "\n",
       "    <div>\n",
       "        <style>\n",
       "            /* Turns off some styling */\n",
       "            progress {\n",
       "                /* gets rid of default border in Firefox and Opera. */\n",
       "                border: none;\n",
       "                /* Needs to be in here for Safari polyfill so background images work as expected. */\n",
       "                background-size: auto;\n",
       "            }\n",
       "            .progress-bar-interrupted, .progress-bar-interrupted::-webkit-progress-bar {\n",
       "                background: #F44336;\n",
       "            }\n",
       "        </style>\n",
       "      <progress value='14679' class='' max='200000' style='width:300px; height:20px; vertical-align: middle;'></progress>\n",
       "      7.34% [14679/200000 00:05<01:03 Average Loss = 152.78]\n",
       "    </div>\n",
       "    "
      ],
      "text/plain": [
       "<IPython.core.display.HTML object>"
      ]
     },
     "metadata": {},
     "output_type": "display_data"
    },
    {
     "name": "stderr",
     "output_type": "stream",
     "text": [
      "Convergence achieved at 15200\n",
      "Interrupted at 15,199 [7%]: Average Loss = 179.2\n",
      "Multiprocess sampling (4 chains in 4 jobs)\n",
      "NUTS: [sigma_y, nu_y, f_gp_rotated_, var, ls, fixed_b, b_shrinkage, shift, ss]\n"
     ]
    },
    {
     "data": {
      "text/html": [
       "\n",
       "    <div>\n",
       "        <style>\n",
       "            /* Turns off some styling */\n",
       "            progress {\n",
       "                /* gets rid of default border in Firefox and Opera. */\n",
       "                border: none;\n",
       "                /* Needs to be in here for Safari polyfill so background images work as expected. */\n",
       "                background-size: auto;\n",
       "            }\n",
       "            .progress-bar-interrupted, .progress-bar-interrupted::-webkit-progress-bar {\n",
       "                background: #F44336;\n",
       "            }\n",
       "        </style>\n",
       "      <progress value='8000' class='' max='8000' style='width:300px; height:20px; vertical-align: middle;'></progress>\n",
       "      100.00% [8000/8000 00:52<00:00 Sampling 4 chains, 52 divergences]\n",
       "    </div>\n",
       "    "
      ],
      "text/plain": [
       "<IPython.core.display.HTML object>"
      ]
     },
     "metadata": {},
     "output_type": "display_data"
    },
    {
     "name": "stderr",
     "output_type": "stream",
     "text": [
      "Sampling 4 chains for 1_500 tune and 500 draw iterations (6_000 + 2_000 draws total) took 53 seconds.\n",
      "There were 3 divergences after tuning. Increase `target_accept` or reparameterize.\n",
      "There were 46 divergences after tuning. Increase `target_accept` or reparameterize.\n",
      "There were 3 divergences after tuning. Increase `target_accept` or reparameterize.\n",
      "The estimated number of effective samples is smaller than 200 for some parameters.\n",
      "Got error No model on context stack. trying to find log_likelihood in translation.\n",
      "Got error No model on context stack. trying to find log_likelihood in translation.\n",
      "Got error No model on context stack. trying to find log_likelihood in translation.\n",
      "Got error No model on context stack. trying to find log_likelihood in translation.\n",
      "Got error No model on context stack. trying to find log_likelihood in translation.\n",
      "Got error No model on context stack. trying to find log_likelihood in translation.\n"
     ]
    },
    {
     "name": "stdout",
     "output_type": "stream",
     "text": [
      "b_shrinkage_log__ -2.28946\n",
      "fixed_b -7.829342\n",
      "ls_log__ -1.1447301\n",
      "var_log__ -1.1447301\n",
      "f_gp_rotated_ -45.02799\n",
      "nu_y_log__ -0.61370564\n",
      "sigma_y_log__ -0.61370564\n"
     ]
    },
    {
     "name": "stderr",
     "output_type": "stream",
     "text": [
      "Initializing NUTS using advi+adapt_diag...\n"
     ]
    },
    {
     "name": "stdout",
     "output_type": "stream",
     "text": [
      "y -191.3446569492913\n"
     ]
    },
    {
     "data": {
      "text/html": [
       "\n",
       "    <div>\n",
       "        <style>\n",
       "            /* Turns off some styling */\n",
       "            progress {\n",
       "                /* gets rid of default border in Firefox and Opera. */\n",
       "                border: none;\n",
       "                /* Needs to be in here for Safari polyfill so background images work as expected. */\n",
       "                background-size: auto;\n",
       "            }\n",
       "            .progress-bar-interrupted, .progress-bar-interrupted::-webkit-progress-bar {\n",
       "                background: #F44336;\n",
       "            }\n",
       "        </style>\n",
       "      <progress value='14629' class='' max='200000' style='width:300px; height:20px; vertical-align: middle;'></progress>\n",
       "      7.31% [14629/200000 00:04<01:01 Average Loss = 154.28]\n",
       "    </div>\n",
       "    "
      ],
      "text/plain": [
       "<IPython.core.display.HTML object>"
      ]
     },
     "metadata": {},
     "output_type": "display_data"
    },
    {
     "name": "stderr",
     "output_type": "stream",
     "text": [
      "Convergence achieved at 14900\n",
      "Interrupted at 14,899 [7%]: Average Loss = 178.46\n",
      "Multiprocess sampling (4 chains in 4 jobs)\n",
      "NUTS: [sigma_y, nu_y, f_gp_rotated_, var, ls, fixed_b, b_shrinkage]\n"
     ]
    },
    {
     "data": {
      "text/html": [
       "\n",
       "    <div>\n",
       "        <style>\n",
       "            /* Turns off some styling */\n",
       "            progress {\n",
       "                /* gets rid of default border in Firefox and Opera. */\n",
       "                border: none;\n",
       "                /* Needs to be in here for Safari polyfill so background images work as expected. */\n",
       "                background-size: auto;\n",
       "            }\n",
       "            .progress-bar-interrupted, .progress-bar-interrupted::-webkit-progress-bar {\n",
       "                background: #F44336;\n",
       "            }\n",
       "        </style>\n",
       "      <progress value='8000' class='' max='8000' style='width:300px; height:20px; vertical-align: middle;'></progress>\n",
       "      100.00% [8000/8000 00:46<00:00 Sampling 4 chains, 6 divergences]\n",
       "    </div>\n",
       "    "
      ],
      "text/plain": [
       "<IPython.core.display.HTML object>"
      ]
     },
     "metadata": {},
     "output_type": "display_data"
    },
    {
     "name": "stderr",
     "output_type": "stream",
     "text": [
      "Sampling 4 chains for 1_500 tune and 500 draw iterations (6_000 + 2_000 draws total) took 47 seconds.\n",
      "There were 2 divergences after tuning. Increase `target_accept` or reparameterize.\n",
      "There were 2 divergences after tuning. Increase `target_accept` or reparameterize.\n",
      "There were 2 divergences after tuning. Increase `target_accept` or reparameterize.\n",
      "The number of effective samples is smaller than 25% for some parameters.\n",
      "Got error No model on context stack. trying to find log_likelihood in translation.\n",
      "Got error No model on context stack. trying to find log_likelihood in translation.\n",
      "Got error No model on context stack. trying to find log_likelihood in translation.\n",
      "Got error No model on context stack. trying to find log_likelihood in translation.\n",
      "Got error No model on context stack. trying to find log_likelihood in translation.\n",
      "Got error No model on context stack. trying to find log_likelihood in translation.\n"
     ]
    },
    {
     "name": "stdout",
     "output_type": "stream",
     "text": [
      "\u001b[94mBipolar_Disorder x Generalized_Digestive_Cancer\u001b[0m\n",
      "\u001b[94mBipolar_Disorder x Generalized_Lipidoses\u001b[0m\n",
      "\u001b[94mBipolar_Disorder x Genetic_Anomolies_of_Leukocytes\u001b[0m\n",
      "\u001b[94mBipolar_Disorder x Gestational_Pregnancy_Related_Disorder\u001b[0m\n",
      "ss_log__ -1.1447301\n",
      "shift -2.3025851\n",
      "b_shrinkage_log__ -2.28946\n",
      "fixed_b -7.829342\n",
      "ls_log__ -1.1447301\n",
      "var_log__ -1.1447301\n",
      "f_gp_rotated_ -37.676483\n",
      "nu_y_log__ -0.61370564\n",
      "sigma_y_log__ -0.61370564\n"
     ]
    },
    {
     "name": "stderr",
     "output_type": "stream",
     "text": [
      "Initializing NUTS using advi+adapt_diag...\n"
     ]
    },
    {
     "name": "stdout",
     "output_type": "stream",
     "text": [
      "y -141.25418633675872\n"
     ]
    },
    {
     "data": {
      "text/html": [
       "\n",
       "    <div>\n",
       "        <style>\n",
       "            /* Turns off some styling */\n",
       "            progress {\n",
       "                /* gets rid of default border in Firefox and Opera. */\n",
       "                border: none;\n",
       "                /* Needs to be in here for Safari polyfill so background images work as expected. */\n",
       "                background-size: auto;\n",
       "            }\n",
       "            .progress-bar-interrupted, .progress-bar-interrupted::-webkit-progress-bar {\n",
       "                background: #F44336;\n",
       "            }\n",
       "        </style>\n",
       "      <progress value='16003' class='' max='200000' style='width:300px; height:20px; vertical-align: middle;'></progress>\n",
       "      8.00% [16003/200000 00:05<01:00 Average Loss = 125.97]\n",
       "    </div>\n",
       "    "
      ],
      "text/plain": [
       "<IPython.core.display.HTML object>"
      ]
     },
     "metadata": {},
     "output_type": "display_data"
    },
    {
     "name": "stderr",
     "output_type": "stream",
     "text": [
      "Convergence achieved at 16300\n",
      "Interrupted at 16,299 [8%]: Average Loss = 149.55\n",
      "Multiprocess sampling (4 chains in 4 jobs)\n",
      "NUTS: [sigma_y, nu_y, f_gp_rotated_, var, ls, fixed_b, b_shrinkage, shift, ss]\n"
     ]
    },
    {
     "data": {
      "text/html": [
       "\n",
       "    <div>\n",
       "        <style>\n",
       "            /* Turns off some styling */\n",
       "            progress {\n",
       "                /* gets rid of default border in Firefox and Opera. */\n",
       "                border: none;\n",
       "                /* Needs to be in here for Safari polyfill so background images work as expected. */\n",
       "                background-size: auto;\n",
       "            }\n",
       "            .progress-bar-interrupted, .progress-bar-interrupted::-webkit-progress-bar {\n",
       "                background: #F44336;\n",
       "            }\n",
       "        </style>\n",
       "      <progress value='8000' class='' max='8000' style='width:300px; height:20px; vertical-align: middle;'></progress>\n",
       "      100.00% [8000/8000 00:45<00:00 Sampling 4 chains, 11 divergences]\n",
       "    </div>\n",
       "    "
      ],
      "text/plain": [
       "<IPython.core.display.HTML object>"
      ]
     },
     "metadata": {},
     "output_type": "display_data"
    },
    {
     "name": "stderr",
     "output_type": "stream",
     "text": [
      "Sampling 4 chains for 1_500 tune and 500 draw iterations (6_000 + 2_000 draws total) took 46 seconds.\n",
      "There were 2 divergences after tuning. Increase `target_accept` or reparameterize.\n",
      "The acceptance probability does not match the target. It is 0.8323501696635792, but should be close to 0.9. Try to increase the number of tuning steps.\n",
      "There were 3 divergences after tuning. Increase `target_accept` or reparameterize.\n",
      "There were 4 divergences after tuning. Increase `target_accept` or reparameterize.\n",
      "There were 2 divergences after tuning. Increase `target_accept` or reparameterize.\n",
      "The rhat statistic is larger than 1.05 for some parameters. This indicates slight problems during sampling.\n",
      "The estimated number of effective samples is smaller than 200 for some parameters.\n",
      "Got error No model on context stack. trying to find log_likelihood in translation.\n",
      "Got error No model on context stack. trying to find log_likelihood in translation.\n",
      "Got error No model on context stack. trying to find log_likelihood in translation.\n",
      "Got error No model on context stack. trying to find log_likelihood in translation.\n",
      "Got error No model on context stack. trying to find log_likelihood in translation.\n",
      "Got error No model on context stack. trying to find log_likelihood in translation.\n"
     ]
    },
    {
     "name": "stdout",
     "output_type": "stream",
     "text": [
      "b_shrinkage_log__ -2.28946\n",
      "fixed_b -7.829342\n",
      "ls_log__ -1.1447301\n",
      "var_log__ -1.1447301\n",
      "f_gp_rotated_ -37.676483\n",
      "nu_y_log__ -0.61370564\n",
      "sigma_y_log__ -0.61370564\n"
     ]
    },
    {
     "name": "stderr",
     "output_type": "stream",
     "text": [
      "Initializing NUTS using advi+adapt_diag...\n"
     ]
    },
    {
     "name": "stdout",
     "output_type": "stream",
     "text": [
      "y -141.25418633675872\n"
     ]
    },
    {
     "data": {
      "text/html": [
       "\n",
       "    <div>\n",
       "        <style>\n",
       "            /* Turns off some styling */\n",
       "            progress {\n",
       "                /* gets rid of default border in Firefox and Opera. */\n",
       "                border: none;\n",
       "                /* Needs to be in here for Safari polyfill so background images work as expected. */\n",
       "                background-size: auto;\n",
       "            }\n",
       "            .progress-bar-interrupted, .progress-bar-interrupted::-webkit-progress-bar {\n",
       "                background: #F44336;\n",
       "            }\n",
       "        </style>\n",
       "      <progress value='14517' class='' max='200000' style='width:300px; height:20px; vertical-align: middle;'></progress>\n",
       "      7.26% [14517/200000 00:04<00:56 Average Loss = 126.89]\n",
       "    </div>\n",
       "    "
      ],
      "text/plain": [
       "<IPython.core.display.HTML object>"
      ]
     },
     "metadata": {},
     "output_type": "display_data"
    },
    {
     "name": "stderr",
     "output_type": "stream",
     "text": [
      "Convergence achieved at 14700\n",
      "Interrupted at 14,699 [7%]: Average Loss = 151.14\n",
      "Multiprocess sampling (4 chains in 4 jobs)\n",
      "NUTS: [sigma_y, nu_y, f_gp_rotated_, var, ls, fixed_b, b_shrinkage]\n"
     ]
    },
    {
     "data": {
      "text/html": [
       "\n",
       "    <div>\n",
       "        <style>\n",
       "            /* Turns off some styling */\n",
       "            progress {\n",
       "                /* gets rid of default border in Firefox and Opera. */\n",
       "                border: none;\n",
       "                /* Needs to be in here for Safari polyfill so background images work as expected. */\n",
       "                background-size: auto;\n",
       "            }\n",
       "            .progress-bar-interrupted, .progress-bar-interrupted::-webkit-progress-bar {\n",
       "                background: #F44336;\n",
       "            }\n",
       "        </style>\n",
       "      <progress value='8000' class='' max='8000' style='width:300px; height:20px; vertical-align: middle;'></progress>\n",
       "      100.00% [8000/8000 00:35<00:00 Sampling 4 chains, 32 divergences]\n",
       "    </div>\n",
       "    "
      ],
      "text/plain": [
       "<IPython.core.display.HTML object>"
      ]
     },
     "metadata": {},
     "output_type": "display_data"
    },
    {
     "name": "stderr",
     "output_type": "stream",
     "text": [
      "Sampling 4 chains for 1_500 tune and 500 draw iterations (6_000 + 2_000 draws total) took 36 seconds.\n",
      "There were 8 divergences after tuning. Increase `target_accept` or reparameterize.\n",
      "There were 11 divergences after tuning. Increase `target_accept` or reparameterize.\n",
      "There were 4 divergences after tuning. Increase `target_accept` or reparameterize.\n",
      "The acceptance probability does not match the target. It is 0.8111294460245598, but should be close to 0.9. Try to increase the number of tuning steps.\n",
      "There were 9 divergences after tuning. Increase `target_accept` or reparameterize.\n",
      "The rhat statistic is larger than 1.05 for some parameters. This indicates slight problems during sampling.\n",
      "The estimated number of effective samples is smaller than 200 for some parameters.\n",
      "Got error No model on context stack. trying to find log_likelihood in translation.\n",
      "Got error No model on context stack. trying to find log_likelihood in translation.\n",
      "Got error No model on context stack. trying to find log_likelihood in translation.\n",
      "Got error No model on context stack. trying to find log_likelihood in translation.\n",
      "Got error No model on context stack. trying to find log_likelihood in translation.\n",
      "Got error No model on context stack. trying to find log_likelihood in translation.\n"
     ]
    },
    {
     "name": "stdout",
     "output_type": "stream",
     "text": [
      "\u001b[94mBipolar_Disorder x Glaucoma\u001b[0m\n",
      "\u001b[94mBipolar_Disorder x Globe_Disorders\u001b[0m\n",
      "\u001b[94mBipolar_Disorder x Glucocorticoid-Remediable_Aldosteronism\u001b[0m\n",
      "\u001b[94mBipolar_Disorder x Glycogenosis\u001b[0m\n",
      "\u001b[94mBipolar_Disorder x Goiter\u001b[0m\n",
      "\u001b[94mBipolar_Disorder x Gout_Related_Crystal_Arthropathies\u001b[0m\n",
      "\u001b[94mBipolar_Disorder x Graves_Disease\u001b[0m\n",
      "\u001b[94mBipolar_Disorder x Growth_Hormone_Deficiency\u001b[0m\n",
      "\u001b[94mBipolar_Disorder x HIV\u001b[0m\n",
      "\u001b[94mBipolar_Disorder x Haemophilia_Related_Diseases\u001b[0m\n",
      "\u001b[94mBipolar_Disorder x Hair_Related_Disease\u001b[0m\n",
      "\u001b[94mBipolar_Disorder x Hearing_Loss\u001b[0m\n",
      "\u001b[94mBipolar_Disorder x Helicobacter_Pylori_Infection\u001b[0m\n",
      "\u001b[94mBipolar_Disorder x Hemangioma_Lymphangioma\u001b[0m\n",
      "\u001b[94mBipolar_Disorder x Hemiplegia\u001b[0m\n",
      "\u001b[94mBipolar_Disorder x Hepatobiliary_Cancer\u001b[0m\n",
      "\u001b[94mBipolar_Disorder x Hepatobiliary_Congenital_Anomaly\u001b[0m\n",
      "\u001b[94mBipolar_Disorder x Hereditary_Blepharophimosis\u001b[0m\n",
      "\u001b[94mBipolar_Disorder x Hereditary_Breast_Cancer\u001b[0m\n",
      "\u001b[94mBipolar_Disorder x Hereditary_Color_Blindness\u001b[0m\n",
      "\u001b[94mBipolar_Disorder x Hereditary_Corneal_Dystrophy\u001b[0m\n",
      "\u001b[94mBipolar_Disorder x Hereditary_Dental_Anomaly\u001b[0m\n",
      "\u001b[94mBipolar_Disorder x Hereditary_Elliptocytosis\u001b[0m\n",
      "\u001b[94mBipolar_Disorder x Hereditary_Face_Skull_Anomalies\u001b[0m\n",
      "\u001b[94mBipolar_Disorder x Hereditary_Fructose_Intolerance\u001b[0m\n",
      "\u001b[94mBipolar_Disorder x Hereditary_Harartoses\u001b[0m\n",
      "\u001b[94mBipolar_Disorder x Hereditary_Hemochromatosis\u001b[0m\n",
      "\u001b[94mBipolar_Disorder x Hereditary_Hemoglobin_Disease\u001b[0m\n",
      "\u001b[94mBipolar_Disorder x Hereditary_Hemorrhagic_Telangiectasia\u001b[0m\n",
      "\u001b[94mBipolar_Disorder x Hereditary_Lymphadema\u001b[0m\n",
      "\u001b[94mBipolar_Disorder x Hereditary_Muscular_Dystrophy\u001b[0m\n",
      "\u001b[94mBipolar_Disorder x Hereditary_Night_Blindness\u001b[0m\n",
      "\u001b[94mBipolar_Disorder x Hereditary_Polycythemia_Vera\u001b[0m\n",
      "\u001b[94mBipolar_Disorder x Hereditary_Progessive_Muscular_Dystrophy\u001b[0m\n",
      "\u001b[94mBipolar_Disorder x Hereditary_Sensory_Neuropathy\u001b[0m\n",
      "\u001b[94mBipolar_Disorder x Hereditary_Spastic_Paraplegia\u001b[0m\n",
      "\u001b[94mBipolar_Disorder x Hereditary_Spherocytosis\u001b[0m\n",
      "\u001b[94mBipolar_Disorder x Hereditary_Stomatocytosis\u001b[0m\n",
      "\u001b[94mBipolar_Disorder x Hereditary_Thrombocytopenic_Purpura\u001b[0m\n",
      "\u001b[94mBipolar_Disorder x Hernia\u001b[0m\n",
      "\u001b[94mBipolar_Disorder x Herpes_Simplex\u001b[0m\n",
      "\u001b[94mBipolar_Disorder x Herpes_Zoster\u001b[0m\n",
      "\u001b[94mBipolar_Disorder x Hirschsprungs_Disease\u001b[0m\n",
      "\u001b[94mBipolar_Disorder x Hirsutism\u001b[0m\n",
      "\u001b[94mBipolar_Disorder x Histidinemia\u001b[0m\n",
      "\u001b[94mBipolar_Disorder x Hodgkins_Disease\u001b[0m\n",
      "\u001b[94mBipolar_Disorder x Homocystinuria\u001b[0m\n",
      "\u001b[94mBipolar_Disorder x Huntingtons_Chorea\u001b[0m\n",
      "\u001b[94mBipolar_Disorder x Hyper_IgM_Immunodeficiency\u001b[0m\n",
      "\u001b[94mBipolar_Disorder x Hyperaldosteronism\u001b[0m\n",
      "\u001b[94mBipolar_Disorder x Hyperalimentation\u001b[0m\n",
      "\u001b[94mBipolar_Disorder x Hyperchylomicronemia\u001b[0m\n",
      "\u001b[94mBipolar_Disorder x Hypotension\u001b[0m\n",
      "\u001b[94mBipolar_Disorder x Hypotony_of_the_Eye\u001b[0m\n",
      "\u001b[94mBipolar_Disorder x IBS\u001b[0m\n",
      "\u001b[94mBipolar_Disorder x Ichthyosis_Congenita\u001b[0m\n",
      "\u001b[94mBipolar_Disorder x IgA_Immunodeficiency\u001b[0m\n",
      "\u001b[94mBipolar_Disorder x IgM_Immunodeficiency\u001b[0m\n",
      "\u001b[94mBipolar_Disorder x Impulse_Control_Disorder\u001b[0m\n",
      "\u001b[94mBipolar_Disorder x Indeterminate_Sex_Pseudohermaphroditism\u001b[0m\n",
      "\u001b[94mBipolar_Disorder x Infestation\u001b[0m\n",
      "\u001b[94mBipolar_Disorder x Inflammatory_Spondylopathies\u001b[0m\n",
      "\u001b[94mBipolar_Disorder x Inflammatory_Toxic_Neuropathy\u001b[0m\n",
      "\u001b[94mBipolar_Disorder x Influenza\u001b[0m\n",
      "\u001b[94mBipolar_Disorder x Inner_Ear_Disorder\u001b[0m\n",
      "\u001b[94mBipolar_Disorder x Intellectual_Disability\u001b[0m\n",
      "\u001b[94mBipolar_Disorder x Intestinal_Cancer\u001b[0m\n",
      "\u001b[94mBipolar_Disorder x Intrathoracic_Organ_Cancer\u001b[0m\n",
      "\u001b[94mBipolar_Disorder x Iron_Metabolism_Disorder\u001b[0m\n",
      "\u001b[94mBipolar_Disorder x Jaw_Disease\u001b[0m\n",
      "\u001b[94mBipolar_Disorder x Kaposis_Sarcoma\u001b[0m\n",
      "\u001b[94mBipolar_Disorder x Kawasaki_Disease\u001b[0m\n",
      "\u001b[94mBipolar_Disorder x Keratosis\u001b[0m\n",
      "\u001b[94mBipolar_Disorder x Kidney_Cancer\u001b[0m\n",
      "\u001b[94mBipolar_Disorder x Kidney_Infection\u001b[0m\n",
      "\u001b[94mBipolar_Disorder x Klinefelters_Syndrome\u001b[0m\n",
      "\u001b[94mBipolar_Disorder x Klippel_Feil_Syndrome\u001b[0m\n",
      "\u001b[94mBipolar_Disorder x Lacrimal_System_Disorder\u001b[0m\n",
      "\u001b[94mBipolar_Disorder x Lactose_Intolerance\u001b[0m\n",
      "\u001b[94mBipolar_Disorder x Larynx_Vocal_Chord_Disorders\u001b[0m\n",
      "\u001b[94mBipolar_Disorder x Learning_Disorder\u001b[0m\n",
      "\u001b[94mBipolar_Disorder x Leukodystropy\u001b[0m\n",
      "\u001b[94mBipolar_Disorder x Lichen\u001b[0m\n",
      "\u001b[94mBipolar_Disorder x Lipodystrophy\u001b[0m\n",
      "\u001b[94mBipolar_Disorder x Lipoma\u001b[0m\n",
      "\u001b[94mBipolar_Disorder x Lipoprotein_Deficiency\u001b[0m\n",
      "\u001b[94mBipolar_Disorder x Localized_Adiposity\u001b[0m\n",
      "\u001b[94mBipolar_Disorder x Long_QT_Syndrome\u001b[0m\n",
      "\u001b[94mBipolar_Disorder x Lung_Cancer\u001b[0m\n",
      "\u001b[94mBipolar_Disorder x Lupus_Erythematosus\u001b[0m\n",
      "\u001b[94mBipolar_Disorder x Lymphatic_Disorder\u001b[0m\n",
      "\u001b[94mBipolar_Disorder x Lymphoid_Leukemia\u001b[0m\n",
      "\u001b[94mBipolar_Disorder x Lysosomal_Storage_Disease\u001b[0m\n",
      "\u001b[94mBipolar_Disorder x MENI\u001b[0m\n",
      "\u001b[94mBipolar_Disorder x MENIIA\u001b[0m\n",
      "\u001b[94mBipolar_Disorder x MENIIB\u001b[0m\n",
      "\u001b[94mBipolar_Disorder x Macular_Degeneration\u001b[0m\n",
      "\u001b[94mBipolar_Disorder x Male_Breast_Cancer\u001b[0m\n",
      "\u001b[94mBipolar_Disorder x Male_Genital_Cancer\u001b[0m\n",
      "\u001b[94mBipolar_Disorder x Male_Genital_Congenital_Anomaly\u001b[0m\n",
      "\u001b[94mBipolar_Disorder x Malnutrition\u001b[0m\n",
      "\u001b[94mBipolar_Disorder x Marfan_Syndrome\u001b[0m\n",
      "\u001b[94mBipolar_Disorder x Medullary_Cystic_Kidney_Disease\u001b[0m\n",
      "\u001b[94mBipolar_Disorder x Megaloblastic_Anemia\u001b[0m\n",
      "\u001b[94mBipolar_Disorder x Melanoma\u001b[0m\n",
      "\u001b[94mBipolar_Disorder x Meningitis\u001b[0m\n",
      "\u001b[94mBipolar_Disorder x Menopausal_Disorder\u001b[0m\n",
      "\u001b[94mBipolar_Disorder x Menstrual_Disorder\u001b[0m\n",
      "\u001b[94mBipolar_Disorder x Metabolic_Syndrome_X\u001b[0m\n",
      "\u001b[94mBipolar_Disorder x Migraine\u001b[0m\n",
      "\u001b[94mBipolar_Disorder x Mixed_Hyperlipidemia\u001b[0m\n",
      "\u001b[94mBipolar_Disorder x Mood_Disorder\u001b[0m\n",
      "ss_log__ -1.1447301\n",
      "shift -2.3025851\n",
      "b_shrinkage_log__ -2.28946\n",
      "fixed_b -7.829342\n",
      "ls_log__ -1.1447301\n",
      "var_log__ -1.1447301\n",
      "f_gp_rotated_ -19.29771\n",
      "nu_y_log__ -0.61370564\n",
      "sigma_y_log__ -0.61370564\n"
     ]
    },
    {
     "name": "stderr",
     "output_type": "stream",
     "text": [
      "Initializing NUTS using advi+adapt_diag...\n"
     ]
    },
    {
     "name": "stdout",
     "output_type": "stream",
     "text": [
      "y -80.3174896311242\n"
     ]
    },
    {
     "data": {
      "text/html": [
       "\n",
       "    <div>\n",
       "        <style>\n",
       "            /* Turns off some styling */\n",
       "            progress {\n",
       "                /* gets rid of default border in Firefox and Opera. */\n",
       "                border: none;\n",
       "                /* Needs to be in here for Safari polyfill so background images work as expected. */\n",
       "                background-size: auto;\n",
       "            }\n",
       "            .progress-bar-interrupted, .progress-bar-interrupted::-webkit-progress-bar {\n",
       "                background: #F44336;\n",
       "            }\n",
       "        </style>\n",
       "      <progress value='10847' class='' max='200000' style='width:300px; height:20px; vertical-align: middle;'></progress>\n",
       "      5.42% [10847/200000 00:03<00:52 Average Loss = 79.921]\n",
       "    </div>\n",
       "    "
      ],
      "text/plain": [
       "<IPython.core.display.HTML object>"
      ]
     },
     "metadata": {},
     "output_type": "display_data"
    },
    {
     "name": "stderr",
     "output_type": "stream",
     "text": [
      "Convergence achieved at 10900\n",
      "Interrupted at 10,899 [5%]: Average Loss = 85.745\n",
      "Multiprocess sampling (4 chains in 4 jobs)\n",
      "NUTS: [sigma_y, nu_y, f_gp_rotated_, var, ls, fixed_b, b_shrinkage, shift, ss]\n"
     ]
    },
    {
     "data": {
      "text/html": [
       "\n",
       "    <div>\n",
       "        <style>\n",
       "            /* Turns off some styling */\n",
       "            progress {\n",
       "                /* gets rid of default border in Firefox and Opera. */\n",
       "                border: none;\n",
       "                /* Needs to be in here for Safari polyfill so background images work as expected. */\n",
       "                background-size: auto;\n",
       "            }\n",
       "            .progress-bar-interrupted, .progress-bar-interrupted::-webkit-progress-bar {\n",
       "                background: #F44336;\n",
       "            }\n",
       "        </style>\n",
       "      <progress value='8000' class='' max='8000' style='width:300px; height:20px; vertical-align: middle;'></progress>\n",
       "      100.00% [8000/8000 01:09<00:00 Sampling 4 chains, 2 divergences]\n",
       "    </div>\n",
       "    "
      ],
      "text/plain": [
       "<IPython.core.display.HTML object>"
      ]
     },
     "metadata": {},
     "output_type": "display_data"
    },
    {
     "name": "stderr",
     "output_type": "stream",
     "text": [
      "Sampling 4 chains for 1_500 tune and 500 draw iterations (6_000 + 2_000 draws total) took 70 seconds.\n",
      "There was 1 divergence after tuning. Increase `target_accept` or reparameterize.\n",
      "There was 1 divergence after tuning. Increase `target_accept` or reparameterize.\n",
      "The number of effective samples is smaller than 25% for some parameters.\n",
      "Got error No model on context stack. trying to find log_likelihood in translation.\n",
      "Got error No model on context stack. trying to find log_likelihood in translation.\n",
      "Got error No model on context stack. trying to find log_likelihood in translation.\n",
      "Got error No model on context stack. trying to find log_likelihood in translation.\n",
      "Got error No model on context stack. trying to find log_likelihood in translation.\n",
      "Got error No model on context stack. trying to find log_likelihood in translation.\n"
     ]
    },
    {
     "name": "stdout",
     "output_type": "stream",
     "text": [
      "b_shrinkage_log__ -2.28946\n",
      "fixed_b -7.829342\n",
      "ls_log__ -1.1447301\n",
      "var_log__ -1.1447301\n",
      "f_gp_rotated_ -19.29771\n",
      "nu_y_log__ -0.61370564\n",
      "sigma_y_log__ -0.61370564\n"
     ]
    },
    {
     "name": "stderr",
     "output_type": "stream",
     "text": [
      "Initializing NUTS using advi+adapt_diag...\n"
     ]
    },
    {
     "name": "stdout",
     "output_type": "stream",
     "text": [
      "y -80.3174896311242\n"
     ]
    },
    {
     "data": {
      "text/html": [
       "\n",
       "    <div>\n",
       "        <style>\n",
       "            /* Turns off some styling */\n",
       "            progress {\n",
       "                /* gets rid of default border in Firefox and Opera. */\n",
       "                border: none;\n",
       "                /* Needs to be in here for Safari polyfill so background images work as expected. */\n",
       "                background-size: auto;\n",
       "            }\n",
       "            .progress-bar-interrupted, .progress-bar-interrupted::-webkit-progress-bar {\n",
       "                background: #F44336;\n",
       "            }\n",
       "        </style>\n",
       "      <progress value='10690' class='' max='200000' style='width:300px; height:20px; vertical-align: middle;'></progress>\n",
       "      5.34% [10690/200000 00:02<00:49 Average Loss = 79.069]\n",
       "    </div>\n",
       "    "
      ],
      "text/plain": [
       "<IPython.core.display.HTML object>"
      ]
     },
     "metadata": {},
     "output_type": "display_data"
    },
    {
     "name": "stderr",
     "output_type": "stream",
     "text": [
      "Convergence achieved at 11400\n",
      "Interrupted at 11,399 [5%]: Average Loss = 84.89\n",
      "Multiprocess sampling (4 chains in 4 jobs)\n",
      "NUTS: [sigma_y, nu_y, f_gp_rotated_, var, ls, fixed_b, b_shrinkage]\n"
     ]
    },
    {
     "data": {
      "text/html": [
       "\n",
       "    <div>\n",
       "        <style>\n",
       "            /* Turns off some styling */\n",
       "            progress {\n",
       "                /* gets rid of default border in Firefox and Opera. */\n",
       "                border: none;\n",
       "                /* Needs to be in here for Safari polyfill so background images work as expected. */\n",
       "                background-size: auto;\n",
       "            }\n",
       "            .progress-bar-interrupted, .progress-bar-interrupted::-webkit-progress-bar {\n",
       "                background: #F44336;\n",
       "            }\n",
       "        </style>\n",
       "      <progress value='8000' class='' max='8000' style='width:300px; height:20px; vertical-align: middle;'></progress>\n",
       "      100.00% [8000/8000 00:46<00:00 Sampling 4 chains, 8 divergences]\n",
       "    </div>\n",
       "    "
      ],
      "text/plain": [
       "<IPython.core.display.HTML object>"
      ]
     },
     "metadata": {},
     "output_type": "display_data"
    },
    {
     "name": "stderr",
     "output_type": "stream",
     "text": [
      "Sampling 4 chains for 1_500 tune and 500 draw iterations (6_000 + 2_000 draws total) took 46 seconds.\n",
      "There were 5 divergences after tuning. Increase `target_accept` or reparameterize.\n",
      "There was 1 divergence after tuning. Increase `target_accept` or reparameterize.\n",
      "There was 1 divergence after tuning. Increase `target_accept` or reparameterize.\n",
      "There was 1 divergence after tuning. Increase `target_accept` or reparameterize.\n",
      "The number of effective samples is smaller than 25% for some parameters.\n",
      "Got error No model on context stack. trying to find log_likelihood in translation.\n",
      "Got error No model on context stack. trying to find log_likelihood in translation.\n",
      "Got error No model on context stack. trying to find log_likelihood in translation.\n",
      "Got error No model on context stack. trying to find log_likelihood in translation.\n",
      "Got error No model on context stack. trying to find log_likelihood in translation.\n",
      "Got error No model on context stack. trying to find log_likelihood in translation.\n"
     ]
    },
    {
     "name": "stdout",
     "output_type": "stream",
     "text": [
      "\u001b[94mBipolar_Disorder x Motor_Neuron_Disease\u001b[0m\n",
      "\u001b[94mBipolar_Disorder x Mucopolysaccharidosis\u001b[0m\n",
      "\u001b[94mBipolar_Disorder x Multiple_Epiphyseal_Dysplasia\u001b[0m\n",
      "\u001b[94mBipolar_Disorder x Multiple_Myeloma\u001b[0m\n",
      "\u001b[94mBipolar_Disorder x Multiple_Sclerosis_Other_Demyelinating_Disease\u001b[0m\n",
      "\u001b[94mBipolar_Disorder x Muscle_Ligament_Disorder\u001b[0m\n",
      "\u001b[94mBipolar_Disorder x Myasthenia_Gravis\u001b[0m\n",
      "\u001b[94mBipolar_Disorder x Mycobacterial_Disease\u001b[0m\n",
      "\u001b[94mBipolar_Disorder x Myeloid_Leukemia\u001b[0m\n",
      "\u001b[94mBipolar_Disorder x Myeloproliferative_Disease\u001b[0m\n",
      "\u001b[94mBipolar_Disorder x Myocardial_Infarction\u001b[0m\n",
      "\u001b[94mBipolar_Disorder x Myoneural_Disorders\u001b[0m\n",
      "\u001b[94mBipolar_Disorder x Myotonia_Congenita\u001b[0m\n",
      "\u001b[94mBipolar_Disorder x Myotonic_Muscular_Dystrophy\u001b[0m\n",
      "\u001b[94mBipolar_Disorder x Nail_Disease\u001b[0m\n",
      "\u001b[94mBipolar_Disorder x Neonatal_Disease\u001b[0m\n",
      "ss_log__ -1.1447301\n",
      "shift -2.3025851\n",
      "b_shrinkage_log__ -2.28946\n",
      "fixed_b -7.829342\n",
      "ls_log__ -1.1447301\n",
      "var_log__ -1.1447301\n",
      "f_gp_rotated_ -34.00073\n",
      "nu_y_log__ -0.61370564\n",
      "sigma_y_log__ -0.61370564\n"
     ]
    },
    {
     "name": "stderr",
     "output_type": "stream",
     "text": [
      "Initializing NUTS using advi+adapt_diag...\n"
     ]
    },
    {
     "name": "stdout",
     "output_type": "stream",
     "text": [
      "y -108.12337796334339\n"
     ]
    },
    {
     "data": {
      "text/html": [
       "\n",
       "    <div>\n",
       "        <style>\n",
       "            /* Turns off some styling */\n",
       "            progress {\n",
       "                /* gets rid of default border in Firefox and Opera. */\n",
       "                border: none;\n",
       "                /* Needs to be in here for Safari polyfill so background images work as expected. */\n",
       "                background-size: auto;\n",
       "            }\n",
       "            .progress-bar-interrupted, .progress-bar-interrupted::-webkit-progress-bar {\n",
       "                background: #F44336;\n",
       "            }\n",
       "        </style>\n",
       "      <progress value='18102' class='' max='200000' style='width:300px; height:20px; vertical-align: middle;'></progress>\n",
       "      9.05% [18102/200000 00:05<00:56 Average Loss = 104.9]\n",
       "    </div>\n",
       "    "
      ],
      "text/plain": [
       "<IPython.core.display.HTML object>"
      ]
     },
     "metadata": {},
     "output_type": "display_data"
    },
    {
     "name": "stderr",
     "output_type": "stream",
     "text": [
      "Convergence achieved at 18200\n",
      "Interrupted at 18,199 [9%]: Average Loss = 128.39\n",
      "Multiprocess sampling (4 chains in 4 jobs)\n",
      "NUTS: [sigma_y, nu_y, f_gp_rotated_, var, ls, fixed_b, b_shrinkage, shift, ss]\n"
     ]
    },
    {
     "data": {
      "text/html": [
       "\n",
       "    <div>\n",
       "        <style>\n",
       "            /* Turns off some styling */\n",
       "            progress {\n",
       "                /* gets rid of default border in Firefox and Opera. */\n",
       "                border: none;\n",
       "                /* Needs to be in here for Safari polyfill so background images work as expected. */\n",
       "                background-size: auto;\n",
       "            }\n",
       "            .progress-bar-interrupted, .progress-bar-interrupted::-webkit-progress-bar {\n",
       "                background: #F44336;\n",
       "            }\n",
       "        </style>\n",
       "      <progress value='8000' class='' max='8000' style='width:300px; height:20px; vertical-align: middle;'></progress>\n",
       "      100.00% [8000/8000 01:09<00:00 Sampling 4 chains, 3 divergences]\n",
       "    </div>\n",
       "    "
      ],
      "text/plain": [
       "<IPython.core.display.HTML object>"
      ]
     },
     "metadata": {},
     "output_type": "display_data"
    },
    {
     "name": "stderr",
     "output_type": "stream",
     "text": [
      "Sampling 4 chains for 1_500 tune and 500 draw iterations (6_000 + 2_000 draws total) took 70 seconds.\n",
      "There was 1 divergence after tuning. Increase `target_accept` or reparameterize.\n",
      "There were 2 divergences after tuning. Increase `target_accept` or reparameterize.\n",
      "The estimated number of effective samples is smaller than 200 for some parameters.\n",
      "Got error No model on context stack. trying to find log_likelihood in translation.\n",
      "Got error No model on context stack. trying to find log_likelihood in translation.\n",
      "Got error No model on context stack. trying to find log_likelihood in translation.\n",
      "Got error No model on context stack. trying to find log_likelihood in translation.\n",
      "Got error No model on context stack. trying to find log_likelihood in translation.\n",
      "Got error No model on context stack. trying to find log_likelihood in translation.\n"
     ]
    },
    {
     "name": "stdout",
     "output_type": "stream",
     "text": [
      "b_shrinkage_log__ -2.28946\n",
      "fixed_b -7.829342\n",
      "ls_log__ -1.1447301\n",
      "var_log__ -1.1447301\n",
      "f_gp_rotated_ -34.00073\n",
      "nu_y_log__ -0.61370564\n",
      "sigma_y_log__ -0.61370564\n"
     ]
    },
    {
     "name": "stderr",
     "output_type": "stream",
     "text": [
      "Initializing NUTS using advi+adapt_diag...\n"
     ]
    },
    {
     "name": "stdout",
     "output_type": "stream",
     "text": [
      "y -108.12337796334339\n"
     ]
    },
    {
     "data": {
      "text/html": [
       "\n",
       "    <div>\n",
       "        <style>\n",
       "            /* Turns off some styling */\n",
       "            progress {\n",
       "                /* gets rid of default border in Firefox and Opera. */\n",
       "                border: none;\n",
       "                /* Needs to be in here for Safari polyfill so background images work as expected. */\n",
       "                background-size: auto;\n",
       "            }\n",
       "            .progress-bar-interrupted, .progress-bar-interrupted::-webkit-progress-bar {\n",
       "                background: #F44336;\n",
       "            }\n",
       "        </style>\n",
       "      <progress value='16038' class='' max='200000' style='width:300px; height:20px; vertical-align: middle;'></progress>\n",
       "      8.02% [16038/200000 00:04<00:55 Average Loss = 105.61]\n",
       "    </div>\n",
       "    "
      ],
      "text/plain": [
       "<IPython.core.display.HTML object>"
      ]
     },
     "metadata": {},
     "output_type": "display_data"
    },
    {
     "name": "stderr",
     "output_type": "stream",
     "text": [
      "Convergence achieved at 16600\n",
      "Interrupted at 16,599 [8%]: Average Loss = 128.51\n",
      "Multiprocess sampling (4 chains in 4 jobs)\n",
      "NUTS: [sigma_y, nu_y, f_gp_rotated_, var, ls, fixed_b, b_shrinkage]\n"
     ]
    },
    {
     "data": {
      "text/html": [
       "\n",
       "    <div>\n",
       "        <style>\n",
       "            /* Turns off some styling */\n",
       "            progress {\n",
       "                /* gets rid of default border in Firefox and Opera. */\n",
       "                border: none;\n",
       "                /* Needs to be in here for Safari polyfill so background images work as expected. */\n",
       "                background-size: auto;\n",
       "            }\n",
       "            .progress-bar-interrupted, .progress-bar-interrupted::-webkit-progress-bar {\n",
       "                background: #F44336;\n",
       "            }\n",
       "        </style>\n",
       "      <progress value='8000' class='' max='8000' style='width:300px; height:20px; vertical-align: middle;'></progress>\n",
       "      100.00% [8000/8000 00:52<00:00 Sampling 4 chains, 9 divergences]\n",
       "    </div>\n",
       "    "
      ],
      "text/plain": [
       "<IPython.core.display.HTML object>"
      ]
     },
     "metadata": {},
     "output_type": "display_data"
    },
    {
     "name": "stderr",
     "output_type": "stream",
     "text": [
      "Sampling 4 chains for 1_500 tune and 500 draw iterations (6_000 + 2_000 draws total) took 53 seconds.\n",
      "There were 6 divergences after tuning. Increase `target_accept` or reparameterize.\n",
      "There was 1 divergence after tuning. Increase `target_accept` or reparameterize.\n",
      "There were 2 divergences after tuning. Increase `target_accept` or reparameterize.\n",
      "The acceptance probability does not match the target. It is 0.8240393679912085, but should be close to 0.9. Try to increase the number of tuning steps.\n",
      "The rhat statistic is larger than 1.05 for some parameters. This indicates slight problems during sampling.\n",
      "The estimated number of effective samples is smaller than 200 for some parameters.\n",
      "Got error No model on context stack. trying to find log_likelihood in translation.\n",
      "Got error No model on context stack. trying to find log_likelihood in translation.\n",
      "Got error No model on context stack. trying to find log_likelihood in translation.\n",
      "Got error No model on context stack. trying to find log_likelihood in translation.\n",
      "Got error No model on context stack. trying to find log_likelihood in translation.\n",
      "Got error No model on context stack. trying to find log_likelihood in translation.\n"
     ]
    },
    {
     "name": "stdout",
     "output_type": "stream",
     "text": [
      "\u001b[94mBipolar_Disorder x Nephrotic_Syndrome\u001b[0m\n",
      "\u001b[94mBipolar_Disorder x Nerve_Root_Plexus_Disorders\u001b[0m\n",
      "\u001b[94mBipolar_Disorder x Neural_Tube_Defect\u001b[0m\n",
      "\u001b[94mBipolar_Disorder x Neurofibromatosis\u001b[0m\n",
      "\u001b[94mBipolar_Disorder x Nezelofs_Syndrome\u001b[0m\n",
      "\u001b[94mBipolar_Disorder x Non-Hodgkins_Lymphoma\u001b[0m\n",
      "\u001b[94mBipolar_Disorder x Non-Melanoma_Skin_Cancer\u001b[0m\n",
      "\u001b[94mBipolar_Disorder x Non-Rheumatic_Heart_Disease\u001b[0m\n",
      "\u001b[94mBipolar_Disorder x Non-Specific_Acquired_Musculoskeletal_Abnormality\u001b[0m\n",
      "\u001b[94mBipolar_Disorder x Non-Specific_Anemia\u001b[0m\n",
      "\u001b[94mBipolar_Disorder x Sideroblastic_Anemia\u001b[0m\n",
      "\u001b[94mBipolar_Disorder x Non-Specific_Arthritis\u001b[0m\n",
      "\u001b[94mBipolar_Disorder x Non-Specific_Autosomal_Abnormality\u001b[0m\n",
      "\u001b[94mBipolar_Disorder x Non-Specific_Cardiovascular_Disease\u001b[0m\n",
      "\u001b[94mBipolar_Disorder x Non-Specific_Chromosomal_Anomaly\u001b[0m\n",
      "\u001b[94mBipolar_Disorder x Non-Specific_Congenital_Eye_Anomaly\u001b[0m\n",
      "\u001b[94mBipolar_Disorder x Non-Specific_Congenital_Integumentary_Anomaly\u001b[0m\n",
      "\u001b[94mBipolar_Disorder x Non-Specific_Congenital_Musculoskeletal_Anomaly\u001b[0m\n",
      "\u001b[94mBipolar_Disorder x Non-Specific_Dental_Disorder\u001b[0m\n",
      "\u001b[94mBipolar_Disorder x Non-Specific_Digestive_Congenital_Anomaly\u001b[0m\n",
      "\u001b[94mBipolar_Disorder x Non-Specific_Eye_Disorders\u001b[0m\n",
      "\u001b[94mBipolar_Disorder x Non-Specific_Gastrointestinal_Disorder\u001b[0m\n",
      "ss_log__ -1.1447301\n",
      "shift -2.3025851\n",
      "b_shrinkage_log__ -2.28946\n",
      "fixed_b -7.829342\n",
      "ls_log__ -1.1447301\n",
      "var_log__ -1.1447301\n",
      "f_gp_rotated_ -41.352238\n",
      "nu_y_log__ -0.61370564\n",
      "sigma_y_log__ -0.61370564\n"
     ]
    },
    {
     "name": "stderr",
     "output_type": "stream",
     "text": [
      "Initializing NUTS using advi+adapt_diag...\n"
     ]
    },
    {
     "name": "stdout",
     "output_type": "stream",
     "text": [
      "y -143.4714552281317\n"
     ]
    },
    {
     "data": {
      "text/html": [
       "\n",
       "    <div>\n",
       "        <style>\n",
       "            /* Turns off some styling */\n",
       "            progress {\n",
       "                /* gets rid of default border in Firefox and Opera. */\n",
       "                border: none;\n",
       "                /* Needs to be in here for Safari polyfill so background images work as expected. */\n",
       "                background-size: auto;\n",
       "            }\n",
       "            .progress-bar-interrupted, .progress-bar-interrupted::-webkit-progress-bar {\n",
       "                background: #F44336;\n",
       "            }\n",
       "        </style>\n",
       "      <progress value='15787' class='' max='200000' style='width:300px; height:20px; vertical-align: middle;'></progress>\n",
       "      7.89% [15787/200000 00:05<01:02 Average Loss = 130.1]\n",
       "    </div>\n",
       "    "
      ],
      "text/plain": [
       "<IPython.core.display.HTML object>"
      ]
     },
     "metadata": {},
     "output_type": "display_data"
    },
    {
     "name": "stderr",
     "output_type": "stream",
     "text": [
      "Convergence achieved at 16200\n",
      "Interrupted at 16,199 [8%]: Average Loss = 151.88\n",
      "Multiprocess sampling (4 chains in 4 jobs)\n",
      "NUTS: [sigma_y, nu_y, f_gp_rotated_, var, ls, fixed_b, b_shrinkage, shift, ss]\n"
     ]
    },
    {
     "data": {
      "text/html": [
       "\n",
       "    <div>\n",
       "        <style>\n",
       "            /* Turns off some styling */\n",
       "            progress {\n",
       "                /* gets rid of default border in Firefox and Opera. */\n",
       "                border: none;\n",
       "                /* Needs to be in here for Safari polyfill so background images work as expected. */\n",
       "                background-size: auto;\n",
       "            }\n",
       "            .progress-bar-interrupted, .progress-bar-interrupted::-webkit-progress-bar {\n",
       "                background: #F44336;\n",
       "            }\n",
       "        </style>\n",
       "      <progress value='8000' class='' max='8000' style='width:300px; height:20px; vertical-align: middle;'></progress>\n",
       "      100.00% [8000/8000 01:01<00:00 Sampling 4 chains, 11 divergences]\n",
       "    </div>\n",
       "    "
      ],
      "text/plain": [
       "<IPython.core.display.HTML object>"
      ]
     },
     "metadata": {},
     "output_type": "display_data"
    },
    {
     "name": "stderr",
     "output_type": "stream",
     "text": [
      "Sampling 4 chains for 1_500 tune and 500 draw iterations (6_000 + 2_000 draws total) took 62 seconds.\n",
      "There were 4 divergences after tuning. Increase `target_accept` or reparameterize.\n",
      "There were 3 divergences after tuning. Increase `target_accept` or reparameterize.\n",
      "There were 2 divergences after tuning. Increase `target_accept` or reparameterize.\n",
      "There were 2 divergences after tuning. Increase `target_accept` or reparameterize.\n",
      "The estimated number of effective samples is smaller than 200 for some parameters.\n",
      "Got error No model on context stack. trying to find log_likelihood in translation.\n",
      "Got error No model on context stack. trying to find log_likelihood in translation.\n",
      "Got error No model on context stack. trying to find log_likelihood in translation.\n",
      "Got error No model on context stack. trying to find log_likelihood in translation.\n",
      "Got error No model on context stack. trying to find log_likelihood in translation.\n",
      "Got error No model on context stack. trying to find log_likelihood in translation.\n"
     ]
    },
    {
     "name": "stdout",
     "output_type": "stream",
     "text": [
      "b_shrinkage_log__ -2.28946\n",
      "fixed_b -7.829342\n",
      "ls_log__ -1.1447301\n",
      "var_log__ -1.1447301\n",
      "f_gp_rotated_ -41.352238\n",
      "nu_y_log__ -0.61370564\n",
      "sigma_y_log__ -0.61370564\n"
     ]
    },
    {
     "name": "stderr",
     "output_type": "stream",
     "text": [
      "Initializing NUTS using advi+adapt_diag...\n"
     ]
    },
    {
     "name": "stdout",
     "output_type": "stream",
     "text": [
      "y -143.4714552281317\n"
     ]
    },
    {
     "data": {
      "text/html": [
       "\n",
       "    <div>\n",
       "        <style>\n",
       "            /* Turns off some styling */\n",
       "            progress {\n",
       "                /* gets rid of default border in Firefox and Opera. */\n",
       "                border: none;\n",
       "                /* Needs to be in here for Safari polyfill so background images work as expected. */\n",
       "                background-size: auto;\n",
       "            }\n",
       "            .progress-bar-interrupted, .progress-bar-interrupted::-webkit-progress-bar {\n",
       "                background: #F44336;\n",
       "            }\n",
       "        </style>\n",
       "      <progress value='15536' class='' max='200000' style='width:300px; height:20px; vertical-align: middle;'></progress>\n",
       "      7.77% [15536/200000 00:05<00:59 Average Loss = 129.2]\n",
       "    </div>\n",
       "    "
      ],
      "text/plain": [
       "<IPython.core.display.HTML object>"
      ]
     },
     "metadata": {},
     "output_type": "display_data"
    },
    {
     "name": "stderr",
     "output_type": "stream",
     "text": [
      "Convergence achieved at 15900\n",
      "Interrupted at 15,899 [7%]: Average Loss = 153.32\n",
      "Multiprocess sampling (4 chains in 4 jobs)\n",
      "NUTS: [sigma_y, nu_y, f_gp_rotated_, var, ls, fixed_b, b_shrinkage]\n"
     ]
    },
    {
     "data": {
      "text/html": [
       "\n",
       "    <div>\n",
       "        <style>\n",
       "            /* Turns off some styling */\n",
       "            progress {\n",
       "                /* gets rid of default border in Firefox and Opera. */\n",
       "                border: none;\n",
       "                /* Needs to be in here for Safari polyfill so background images work as expected. */\n",
       "                background-size: auto;\n",
       "            }\n",
       "            .progress-bar-interrupted, .progress-bar-interrupted::-webkit-progress-bar {\n",
       "                background: #F44336;\n",
       "            }\n",
       "        </style>\n",
       "      <progress value='8000' class='' max='8000' style='width:300px; height:20px; vertical-align: middle;'></progress>\n",
       "      100.00% [8000/8000 00:39<00:00 Sampling 4 chains, 27 divergences]\n",
       "    </div>\n",
       "    "
      ],
      "text/plain": [
       "<IPython.core.display.HTML object>"
      ]
     },
     "metadata": {},
     "output_type": "display_data"
    },
    {
     "name": "stderr",
     "output_type": "stream",
     "text": [
      "Sampling 4 chains for 1_500 tune and 500 draw iterations (6_000 + 2_000 draws total) took 40 seconds.\n",
      "There were 4 divergences after tuning. Increase `target_accept` or reparameterize.\n",
      "There were 17 divergences after tuning. Increase `target_accept` or reparameterize.\n",
      "There were 2 divergences after tuning. Increase `target_accept` or reparameterize.\n",
      "There were 4 divergences after tuning. Increase `target_accept` or reparameterize.\n",
      "The acceptance probability does not match the target. It is 0.7811376593520399, but should be close to 0.9. Try to increase the number of tuning steps.\n",
      "The rhat statistic is larger than 1.05 for some parameters. This indicates slight problems during sampling.\n",
      "The estimated number of effective samples is smaller than 200 for some parameters.\n",
      "Got error No model on context stack. trying to find log_likelihood in translation.\n",
      "Got error No model on context stack. trying to find log_likelihood in translation.\n",
      "Got error No model on context stack. trying to find log_likelihood in translation.\n",
      "Got error No model on context stack. trying to find log_likelihood in translation.\n",
      "Got error No model on context stack. trying to find log_likelihood in translation.\n",
      "Got error No model on context stack. trying to find log_likelihood in translation.\n"
     ]
    },
    {
     "name": "stdout",
     "output_type": "stream",
     "text": [
      "\u001b[94mBipolar_Disorder x Non-Specific_Genitourinary_Congenital_Anomaly\u001b[0m\n",
      "\u001b[94mBipolar_Disorder x Non-Specific_Gingival_Peridontal_Disorder\u001b[0m\n",
      "\u001b[94mBipolar_Disorder x Non-Specific_Hemoglobinopathies\u001b[0m\n",
      "\u001b[94mBipolar_Disorder x Non-Specific_Humoral_Deficiency\u001b[0m\n",
      "\u001b[94mBipolar_Disorder x Non-Specific_Immune-Related_Skin_Disorder\u001b[0m\n",
      "\u001b[94mBipolar_Disorder x Non-Specific_Joint_Disorder\u001b[0m\n",
      "\u001b[94mBipolar_Disorder x Non-Specific_Leukemia\u001b[0m\n",
      "\u001b[94mBipolar_Disorder x Non-Specific_Liver_Disease\u001b[0m\n",
      "\u001b[94mBipolar_Disorder x Non-Specific_Metabolic_Disorder\u001b[0m\n",
      "\u001b[94mBipolar_Disorder x Non-Specific_Nasal_Throat_Disorder\u001b[0m\n",
      "\u001b[94mBipolar_Disorder x Non-Specific_Nephropathy\u001b[0m\n",
      "\u001b[94mBipolar_Disorder x Non-Specific_Neurologic_Congenital_Anomaly\u001b[0m\n",
      "\u001b[94mBipolar_Disorder x Non-Specific_Osteopathy\u001b[0m\n",
      "\u001b[94mBipolar_Disorder x Pagets_Disease\u001b[0m\n",
      "\u001b[94mBipolar_Disorder x Non-Specific_Pain\u001b[0m\n",
      "\u001b[94mBipolar_Disorder x Non-Specific_Peritoneal_Disorder\u001b[0m\n",
      "\u001b[94mBipolar_Disorder x Non-Specific_Prostate_Disease\u001b[0m\n",
      "\u001b[94mBipolar_Disorder x Non-Specific_Pulmonary_Disorder\u001b[0m\n",
      "\u001b[94mBipolar_Disorder x Non-Specific_Skin_Disorder\u001b[0m\n",
      "\u001b[94mBipolar_Disorder x Non-Specific_Soft_Tissue_Disorder\u001b[0m\n",
      "\u001b[94mBipolar_Disorder x Non-Specific_Sugar_Metabolism_Disorder\u001b[0m\n",
      "\u001b[94mBipolar_Disorder x Non-Specific_Thryroid_Disorder\u001b[0m\n",
      "\u001b[94mBipolar_Disorder x Non-Specific_Urinary_Disorder\u001b[0m\n",
      "\u001b[94mBipolar_Disorder x Non-Specific_Vascular_Disease\u001b[0m\n",
      "\u001b[94mBipolar_Disorder x Varicose_Veins\u001b[0m\n",
      "\u001b[94mBipolar_Disorder x Non-Specified_Cardiac_Ischemia\u001b[0m\n",
      "\u001b[94mBipolar_Disorder x OCD\u001b[0m\n",
      "\u001b[94mBipolar_Disorder x Obesity\u001b[0m\n",
      "\u001b[94mBipolar_Disorder x Ocular_Musculoskeletal_Disorder\u001b[0m\n",
      "\u001b[94mBipolar_Disorder x Optic_Chiasm_Disorder\u001b[0m\n",
      "\u001b[94mBipolar_Disorder x Optic_Disc_Disorder\u001b[0m\n",
      "\u001b[94mBipolar_Disorder x Optic_Neuritis_Neuropathy\u001b[0m\n",
      "\u001b[94mBipolar_Disorder x Oral_Soft_Tissue_Disease\u001b[0m\n",
      "\u001b[94mBipolar_Disorder x Orbit_Disorders\u001b[0m\n",
      "\u001b[94mBipolar_Disorder x Oro-Facial_Congenital_Anomaly\u001b[0m\n",
      "\u001b[94mBipolar_Disorder x Oro-Naso-Pharyngeal_Cancer\u001b[0m\n",
      "\u001b[94mBipolar_Disorder x Osteoarthritis\u001b[0m\n",
      "\u001b[94mBipolar_Disorder x Osteogenesis_Imperfecta\u001b[0m\n",
      "\u001b[94mBipolar_Disorder x Osteomyelitis\u001b[0m\n",
      "\u001b[94mBipolar_Disorder x Osteopetrosis\u001b[0m\n",
      "\u001b[94mBipolar_Disorder x Osteopoikilosis\u001b[0m\n",
      "\u001b[94mBipolar_Disorder x Osteoporosis\u001b[0m\n",
      "\u001b[94mBipolar_Disorder x Other_Infectious_Diseases\u001b[0m\n",
      "\u001b[94mBipolar_Disorder x Other_Inherited_Amino_Acid_Metabolic_Disorder\u001b[0m\n",
      "\u001b[94mBipolar_Disorder x Other_Inherited_Myotonias\u001b[0m\n",
      "\u001b[94mBipolar_Disorder x Other_Inherited_Osteodystrophy\u001b[0m\n",
      "\u001b[94mBipolar_Disorder x Other_Lymphoid_Histiocytic_Cancers\u001b[0m\n",
      "\u001b[94mBipolar_Disorder x Other_Viral_Hepatitis\u001b[0m\n",
      "\u001b[94mBipolar_Disorder x Otosclerosis\u001b[0m\n",
      "\u001b[94mBipolar_Disorder x Ovarian_Cancer\u001b[0m\n",
      "\u001b[94mBipolar_Disorder x Overweight\u001b[0m\n",
      "\u001b[94mBipolar_Disorder x PTSD\u001b[0m\n",
      "\u001b[94mBipolar_Disorder x Pancreatic_Cancer\u001b[0m\n",
      "\u001b[94mBipolar_Disorder x Pancreatic_Disease\u001b[0m\n",
      "\u001b[94mBipolar_Disorder x Pancytopenia\u001b[0m\n",
      "\u001b[94mBipolar_Disorder x Papilledema\u001b[0m\n",
      "\u001b[94mBipolar_Disorder x Paranoia\u001b[0m\n",
      "\u001b[94mBipolar_Disorder x Parasitic_Infection\u001b[0m\n",
      "\u001b[94mBipolar_Disorder x Parathyroid_Disorder\u001b[0m\n",
      "\u001b[94mBipolar_Disorder x Paritial_Androgen_Insensitivity_Syndrome\u001b[0m\n",
      "\u001b[94mBipolar_Disorder x Parkinsons_Disease\u001b[0m\n",
      "\u001b[94mBipolar_Disorder x Pataus_Syndrome\u001b[0m\n",
      "\u001b[94mBipolar_Disorder x Peripheral_Nerve_Disorder\u001b[0m\n",
      "\u001b[94mBipolar_Disorder x Peripheral_Vascular_Disease\u001b[0m\n",
      "\u001b[94mBipolar_Disorder x Peritonitis_Retroperitoneal_Infection\u001b[0m\n",
      "\u001b[94mBipolar_Disorder x Pernicious_or_B12_Deficiency_Anemia\u001b[0m\n",
      "\u001b[94mBipolar_Disorder x Peroxisomal_Disorders\u001b[0m\n",
      "\u001b[94mBipolar_Disorder x Personality_Disorder\u001b[0m\n",
      "\u001b[94mBipolar_Disorder x Phenyketonuria\u001b[0m\n",
      "\u001b[94mBipolar_Disorder x Phlebitis_Thrombophlebitis\u001b[0m\n",
      "\u001b[94mBipolar_Disorder x Phosphorus_Metabolism_Disorder\u001b[0m\n",
      "\u001b[94mBipolar_Disorder x Photodermatitis\u001b[0m\n",
      "\u001b[94mBipolar_Disorder x Pituitary_Disorder\u001b[0m\n",
      "\u001b[94mBipolar_Disorder x Pleuritis\u001b[0m\n",
      "\u001b[94mBipolar_Disorder x Pneumonia\u001b[0m\n",
      "ss_log__ -1.1447301\n",
      "shift -2.3025851\n",
      "b_shrinkage_log__ -2.28946\n",
      "fixed_b -7.829342\n",
      "ls_log__ -1.1447301\n",
      "var_log__ -1.1447301\n",
      "f_gp_rotated_ -38.59542\n",
      "nu_y_log__ -0.61370564\n",
      "sigma_y_log__ -0.61370564\n"
     ]
    },
    {
     "name": "stderr",
     "output_type": "stream",
     "text": [
      "Initializing NUTS using advi+adapt_diag...\n"
     ]
    },
    {
     "name": "stdout",
     "output_type": "stream",
     "text": [
      "y -109.4565200998174\n"
     ]
    },
    {
     "data": {
      "text/html": [
       "\n",
       "    <div>\n",
       "        <style>\n",
       "            /* Turns off some styling */\n",
       "            progress {\n",
       "                /* gets rid of default border in Firefox and Opera. */\n",
       "                border: none;\n",
       "                /* Needs to be in here for Safari polyfill so background images work as expected. */\n",
       "                background-size: auto;\n",
       "            }\n",
       "            .progress-bar-interrupted, .progress-bar-interrupted::-webkit-progress-bar {\n",
       "                background: #F44336;\n",
       "            }\n",
       "        </style>\n",
       "      <progress value='19980' class='' max='200000' style='width:300px; height:20px; vertical-align: middle;'></progress>\n",
       "      9.99% [19980/200000 00:06<00:58 Average Loss = 101.06]\n",
       "    </div>\n",
       "    "
      ],
      "text/plain": [
       "<IPython.core.display.HTML object>"
      ]
     },
     "metadata": {},
     "output_type": "display_data"
    },
    {
     "name": "stderr",
     "output_type": "stream",
     "text": [
      "Convergence achieved at 20300\n",
      "Interrupted at 20,299 [10%]: Average Loss = 127.3\n",
      "Multiprocess sampling (4 chains in 4 jobs)\n",
      "NUTS: [sigma_y, nu_y, f_gp_rotated_, var, ls, fixed_b, b_shrinkage, shift, ss]\n"
     ]
    },
    {
     "data": {
      "text/html": [
       "\n",
       "    <div>\n",
       "        <style>\n",
       "            /* Turns off some styling */\n",
       "            progress {\n",
       "                /* gets rid of default border in Firefox and Opera. */\n",
       "                border: none;\n",
       "                /* Needs to be in here for Safari polyfill so background images work as expected. */\n",
       "                background-size: auto;\n",
       "            }\n",
       "            .progress-bar-interrupted, .progress-bar-interrupted::-webkit-progress-bar {\n",
       "                background: #F44336;\n",
       "            }\n",
       "        </style>\n",
       "      <progress value='8000' class='' max='8000' style='width:300px; height:20px; vertical-align: middle;'></progress>\n",
       "      100.00% [8000/8000 00:49<00:00 Sampling 4 chains, 8 divergences]\n",
       "    </div>\n",
       "    "
      ],
      "text/plain": [
       "<IPython.core.display.HTML object>"
      ]
     },
     "metadata": {},
     "output_type": "display_data"
    },
    {
     "name": "stderr",
     "output_type": "stream",
     "text": [
      "Sampling 4 chains for 1_500 tune and 500 draw iterations (6_000 + 2_000 draws total) took 50 seconds.\n",
      "There were 3 divergences after tuning. Increase `target_accept` or reparameterize.\n",
      "There were 2 divergences after tuning. Increase `target_accept` or reparameterize.\n",
      "There were 3 divergences after tuning. Increase `target_accept` or reparameterize.\n",
      "The estimated number of effective samples is smaller than 200 for some parameters.\n",
      "Got error No model on context stack. trying to find log_likelihood in translation.\n",
      "Got error No model on context stack. trying to find log_likelihood in translation.\n",
      "Got error No model on context stack. trying to find log_likelihood in translation.\n",
      "Got error No model on context stack. trying to find log_likelihood in translation.\n",
      "Got error No model on context stack. trying to find log_likelihood in translation.\n",
      "Got error No model on context stack. trying to find log_likelihood in translation.\n"
     ]
    },
    {
     "name": "stdout",
     "output_type": "stream",
     "text": [
      "b_shrinkage_log__ -2.28946\n",
      "fixed_b -7.829342\n",
      "ls_log__ -1.1447301\n",
      "var_log__ -1.1447301\n",
      "f_gp_rotated_ -38.59542\n",
      "nu_y_log__ -0.61370564\n",
      "sigma_y_log__ -0.61370564\n"
     ]
    },
    {
     "name": "stderr",
     "output_type": "stream",
     "text": [
      "Initializing NUTS using advi+adapt_diag...\n"
     ]
    },
    {
     "name": "stdout",
     "output_type": "stream",
     "text": [
      "y -109.4565200998174\n"
     ]
    },
    {
     "data": {
      "text/html": [
       "\n",
       "    <div>\n",
       "        <style>\n",
       "            /* Turns off some styling */\n",
       "            progress {\n",
       "                /* gets rid of default border in Firefox and Opera. */\n",
       "                border: none;\n",
       "                /* Needs to be in here for Safari polyfill so background images work as expected. */\n",
       "                background-size: auto;\n",
       "            }\n",
       "            .progress-bar-interrupted, .progress-bar-interrupted::-webkit-progress-bar {\n",
       "                background: #F44336;\n",
       "            }\n",
       "        </style>\n",
       "      <progress value='19929' class='' max='200000' style='width:300px; height:20px; vertical-align: middle;'></progress>\n",
       "      9.96% [19929/200000 00:06<00:56 Average Loss = 100.8]\n",
       "    </div>\n",
       "    "
      ],
      "text/plain": [
       "<IPython.core.display.HTML object>"
      ]
     },
     "metadata": {},
     "output_type": "display_data"
    },
    {
     "name": "stderr",
     "output_type": "stream",
     "text": [
      "Convergence achieved at 20100\n",
      "Interrupted at 20,099 [10%]: Average Loss = 128.3\n",
      "Multiprocess sampling (4 chains in 4 jobs)\n",
      "NUTS: [sigma_y, nu_y, f_gp_rotated_, var, ls, fixed_b, b_shrinkage]\n"
     ]
    },
    {
     "data": {
      "text/html": [
       "\n",
       "    <div>\n",
       "        <style>\n",
       "            /* Turns off some styling */\n",
       "            progress {\n",
       "                /* gets rid of default border in Firefox and Opera. */\n",
       "                border: none;\n",
       "                /* Needs to be in here for Safari polyfill so background images work as expected. */\n",
       "                background-size: auto;\n",
       "            }\n",
       "            .progress-bar-interrupted, .progress-bar-interrupted::-webkit-progress-bar {\n",
       "                background: #F44336;\n",
       "            }\n",
       "        </style>\n",
       "      <progress value='8000' class='' max='8000' style='width:300px; height:20px; vertical-align: middle;'></progress>\n",
       "      100.00% [8000/8000 00:49<00:00 Sampling 4 chains, 12 divergences]\n",
       "    </div>\n",
       "    "
      ],
      "text/plain": [
       "<IPython.core.display.HTML object>"
      ]
     },
     "metadata": {},
     "output_type": "display_data"
    },
    {
     "name": "stderr",
     "output_type": "stream",
     "text": [
      "Sampling 4 chains for 1_500 tune and 500 draw iterations (6_000 + 2_000 draws total) took 50 seconds.\n",
      "There were 8 divergences after tuning. Increase `target_accept` or reparameterize.\n",
      "There were 2 divergences after tuning. Increase `target_accept` or reparameterize.\n",
      "There were 2 divergences after tuning. Increase `target_accept` or reparameterize.\n",
      "The estimated number of effective samples is smaller than 200 for some parameters.\n",
      "Got error No model on context stack. trying to find log_likelihood in translation.\n",
      "Got error No model on context stack. trying to find log_likelihood in translation.\n",
      "Got error No model on context stack. trying to find log_likelihood in translation.\n",
      "Got error No model on context stack. trying to find log_likelihood in translation.\n",
      "Got error No model on context stack. trying to find log_likelihood in translation.\n",
      "Got error No model on context stack. trying to find log_likelihood in translation.\n"
     ]
    },
    {
     "name": "stdout",
     "output_type": "stream",
     "text": [
      "\u001b[94mBipolar_Disorder x Poliomyelitis\u001b[0m\n",
      "\u001b[94mBipolar_Disorder x Polyclonal_Hypergammaglobulinemia\u001b[0m\n",
      "\u001b[94mBipolar_Disorder x Polycystic_Kidney_Disease\u001b[0m\n",
      "\u001b[94mBipolar_Disorder x Polycystic_Liver_Disease\u001b[0m\n",
      "\u001b[94mBipolar_Disorder x Polymorphonuclear_Neutrophils_Disorders\u001b[0m\n",
      "\u001b[94mBipolar_Disorder x Polyostotic_Fibrous_Dysplasia_of_Bone\u001b[0m\n",
      "\u001b[94mBipolar_Disorder x Porphyrin_Metabolic_Disorder\u001b[0m\n",
      "\u001b[94mBipolar_Disorder x Prader_Willi_Syndrome\u001b[0m\n",
      "\u001b[94mBipolar_Disorder x Primary_Carnitine_Deficiency\u001b[0m\n",
      "\u001b[94mBipolar_Disorder x Primary_Hereditary_Retinal_Dystrophy\u001b[0m\n",
      "\u001b[94mBipolar_Disorder x Prion_Disease\u001b[0m\n",
      "\u001b[94mBipolar_Disorder x Prostate_Cancer\u001b[0m\n",
      "\u001b[94mBipolar_Disorder x Protozoan_Infection\u001b[0m\n",
      "\u001b[94mBipolar_Disorder x Psoriasis_Related_Disorders\u001b[0m\n",
      "\u001b[94mBipolar_Disorder x Psychogenic_Somatoform_Disorder\u001b[0m\n",
      "\u001b[94mBipolar_Disorder x Pubertal_Dysfunction\u001b[0m\n",
      "\u001b[94mBipolar_Disorder x Pulmonary_Embolism_Infarction\u001b[0m\n",
      "\u001b[94mBipolar_Disorder x Pulmonary_Heart_Disease\u001b[0m\n",
      "\u001b[94mBipolar_Disorder x Pure_Hypercholesterolemia\u001b[0m\n",
      "\u001b[94mBipolar_Disorder x Pure_Hyperglyceridemia\u001b[0m\n",
      "\u001b[94mBipolar_Disorder x Purine_Pyrimidine_Metabolic_Disorder\u001b[0m\n",
      "\u001b[94mBipolar_Disorder x Purpura_Other_Hemorrhagic_Conditions\u001b[0m\n",
      "\u001b[94mBipolar_Disorder x Radiation_Sensitivity\u001b[0m\n",
      "\u001b[94mBipolar_Disorder x Reactive_Arthritis\u001b[0m\n",
      "\u001b[94mBipolar_Disorder x Rectal_Anal_Disorder\u001b[0m\n",
      "\u001b[94mBipolar_Disorder x Refraction_Accomodation_Disorders\u001b[0m\n",
      "\u001b[94mBipolar_Disorder x Refsums_Disease\u001b[0m\n",
      "\u001b[94mBipolar_Disorder x Renal_Glycosuria\u001b[0m\n",
      "\u001b[94mBipolar_Disorder x Respiratory_Congenital_Anomaly\u001b[0m\n",
      "\u001b[94mBipolar_Disorder x Respiratory_System_Cancer\u001b[0m\n",
      "\u001b[94mBipolar_Disorder x Rheumatic_Heart_Disease\u001b[0m\n",
      "\u001b[94mBipolar_Disorder x Rheumatoid_Arthritis_Related_Conditions\u001b[0m\n",
      "\u001b[94mBipolar_Disorder x Rosacea\u001b[0m\n",
      "\u001b[94mBipolar_Disorder x Ruvalcaba-Myhre_Syndrome\u001b[0m\n",
      "\u001b[94mBipolar_Disorder x STI\u001b[0m\n",
      "\u001b[94mBipolar_Disorder x Salivary_Gland_Disease\u001b[0m\n",
      "\u001b[94mBipolar_Disorder x Sarcoidosis\u001b[0m\n",
      "\u001b[94mBipolar_Disorder x Schizophrenia_Related_Psychosis\u001b[0m\n",
      "\u001b[94mBipolar_Disorder x Schwartz-Jampel_Syndrome\u001b[0m\n",
      "\u001b[94mBipolar_Disorder x Sebaceous_Gland_Disorder\u001b[0m\n",
      "\u001b[94mBipolar_Disorder x Seborrheic_Dermatitis\u001b[0m\n",
      "\u001b[94mBipolar_Disorder x Secondary_Arthropathy\u001b[0m\n",
      "\u001b[94mBipolar_Disorder x Secondary_Diabetes_Mellitus\u001b[0m\n",
      "\u001b[94mBipolar_Disorder x Secondary_Hereditary_Retinal_Dystrophy\u001b[0m\n",
      "\u001b[94mBipolar_Disorder x Secondary_Malignant_Neoplasm\u001b[0m\n",
      "\u001b[94mBipolar_Disorder x Septic_Arthritis\u001b[0m\n",
      "\u001b[94mBipolar_Disorder x Septicemia\u001b[0m\n",
      "\u001b[94mBipolar_Disorder x Severe_Combined_Immunodeficiency\u001b[0m\n",
      "\u001b[94mBipolar_Disorder x Sexual_Dysfunction\u001b[0m\n",
      "\u001b[94mBipolar_Disorder x Sjogrens_Syndrome\u001b[0m\n",
      "\u001b[94mBipolar_Disorder x Skin_Infection\u001b[0m\n",
      "\u001b[94mBipolar_Disorder x Sleep_Apnea\u001b[0m\n",
      "\u001b[94mBipolar_Disorder x Sleep_Disorder\u001b[0m\n",
      "\u001b[94mBipolar_Disorder x Smith-Magenis_Syndrome\u001b[0m\n",
      "\u001b[94mBipolar_Disorder x Specified_Childhood_Cerebral_Degeneration\u001b[0m\n",
      "\u001b[94mBipolar_Disorder x Speech_Language_Disorder\u001b[0m\n",
      "\u001b[94mBipolar_Disorder x Spinal_Chord_Degeneration\u001b[0m\n",
      "\u001b[94mBipolar_Disorder x Spinal_Muscular_Atrophy\u001b[0m\n",
      "\u001b[94mBipolar_Disorder x Spinal_Stenosis\u001b[0m\n",
      "\u001b[94mBipolar_Disorder x Spinocerebellar_Ataxia\u001b[0m\n",
      "\u001b[94mBipolar_Disorder x Spirochetal_Infection\u001b[0m\n",
      "\u001b[94mBipolar_Disorder x Spleen_Disease\u001b[0m\n",
      "\u001b[94mBipolar_Disorder x Staphylococcus_Aureus_Infection\u001b[0m\n",
      "\u001b[94mBipolar_Disorder x Stomach_Cancer\u001b[0m\n",
      "\u001b[94mBipolar_Disorder x Streptococcal_Infection\u001b[0m\n",
      "\u001b[94mBipolar_Disorder x Stuttering\u001b[0m\n",
      "\u001b[94mBipolar_Disorder x Substance_Abuse\u001b[0m\n",
      "\u001b[94mBipolar_Disorder x Sweat_Gland_Disorder\u001b[0m\n",
      "\u001b[94mBipolar_Disorder x Syndrome_with_Pervasive_Congenital_Anomalies\u001b[0m\n",
      "\u001b[94mBipolar_Disorder x Synovium_Tendon_Bursa_Disorder\u001b[0m\n",
      "\u001b[94mBipolar_Disorder x Thymic_Disorders\u001b[0m\n",
      "\u001b[94mBipolar_Disorder x Thyroid_Cancer\u001b[0m\n",
      "\u001b[94mBipolar_Disorder x Thyroiditis\u001b[0m\n",
      "\u001b[94mBipolar_Disorder x Thyrotoxicosis\u001b[0m\n",
      "\u001b[94mBipolar_Disorder x Tics_Tourettes\u001b[0m\n",
      "\u001b[94mBipolar_Disorder x Tongue_Disease\u001b[0m\n",
      "\u001b[94mBipolar_Disorder x Tuberculosis\u001b[0m\n",
      "\u001b[94mBipolar_Disorder x Tuberous_Sclerosis\u001b[0m\n",
      "\u001b[94mBipolar_Disorder x Turners_Syndrome\u001b[0m\n",
      "\u001b[94mBipolar_Disorder x Tympanic_Membrane_Disorders\u001b[0m\n",
      "\u001b[94mBipolar_Disorder x Type_II_Diabetes_Mellitus\u001b[0m\n",
      "\u001b[94mBipolar_Disorder x Type_I_Diabetes_Mellitus\u001b[0m\n",
      "\u001b[94mBipolar_Disorder x UTI\u001b[0m\n",
      "\u001b[94mBipolar_Disorder x Ulcerative_Colitis\u001b[0m\n",
      "\u001b[94mBipolar_Disorder x Unspecified_Amyloidosis\u001b[0m\n",
      "\u001b[94mBipolar_Disorder x Unspecified_Autoimmune_Disease\u001b[0m\n",
      "\u001b[94mBipolar_Disorder x Unspecified_Behavioral_Development_Disorder\u001b[0m\n",
      "\u001b[94mBipolar_Disorder x Unspecified_Benign_Neoplasm\u001b[0m\n",
      "\u001b[94mBipolar_Disorder x Unspecified_Cancer\u001b[0m\n",
      "\u001b[94mBipolar_Disorder x Unspecified_Cerebellar_Disease\u001b[0m\n",
      "\u001b[94mBipolar_Disorder x Unspecified_Childhood_Cerebral_Degeneration\u001b[0m\n",
      "\u001b[94mBipolar_Disorder x Unspecified_Childhood_Psychoses\u001b[0m\n",
      "\u001b[94mBipolar_Disorder x Unspecified_Congenital_Anomaly\u001b[0m\n",
      "\u001b[94mBipolar_Disorder x Unspecified_Diabetes_Mellitus\u001b[0m\n",
      "\u001b[94mBipolar_Disorder x Unspecified_Encephalopathy\u001b[0m\n",
      "\u001b[94mBipolar_Disorder x Unspecified_Endocrine_Disorder\u001b[0m\n",
      "\u001b[94mBipolar_Disorder x Unspecified_Hematological_Disorder\u001b[0m\n",
      "\u001b[94mBipolar_Disorder x Unspecified_Hepatitis\u001b[0m\n",
      "\u001b[94mBipolar_Disorder x Unspecified_Hyperlipidemia\u001b[0m\n",
      "\u001b[94mBipolar_Disorder x Unspecified_Immune_Deficiency\u001b[0m\n",
      "\u001b[94mBipolar_Disorder x Unspecified_Immune_Disorder\u001b[0m\n",
      "\u001b[94mBipolar_Disorder x Unspecified_Lipid_Metabolism_Disorder\u001b[0m\n",
      "\u001b[94mBipolar_Disorder x Unspecified_Middle_Ear_Mastoid_Diseases\u001b[0m\n",
      "\u001b[94mBipolar_Disorder x Unspecified_Neuropathy\u001b[0m\n",
      "\u001b[94mBipolar_Disorder x Unspecified_Neuropsychiatric_Disorder\u001b[0m\n",
      "\u001b[94mBipolar_Disorder x Unspecified_Plasma_Protein_Metabolism_Disorder\u001b[0m\n",
      "\u001b[94mBipolar_Disorder x Unspecified_Polyglandular_Disorder\u001b[0m\n",
      "\u001b[94mBipolar_Disorder x Unspecified_Recurrent_Headaches\u001b[0m\n",
      "\u001b[94mBipolar_Disorder x Unspecified_White_Blood_Cell_Disease\u001b[0m\n",
      "\u001b[94mBipolar_Disorder x Upper_Respiratory_Inflammation\u001b[0m\n",
      "ss_log__ -1.1447301\n",
      "shift -2.3025851\n",
      "b_shrinkage_log__ -2.28946\n",
      "fixed_b -7.829342\n",
      "ls_log__ -1.1447301\n",
      "var_log__ -1.1447301\n",
      "f_gp_rotated_ -47.784805\n",
      "nu_y_log__ -0.61370564\n",
      "sigma_y_log__ -0.61370564\n"
     ]
    },
    {
     "name": "stderr",
     "output_type": "stream",
     "text": [
      "Initializing NUTS using advi+adapt_diag...\n"
     ]
    },
    {
     "name": "stdout",
     "output_type": "stream",
     "text": [
      "y -205.94225539292285\n"
     ]
    },
    {
     "data": {
      "text/html": [
       "\n",
       "    <div>\n",
       "        <style>\n",
       "            /* Turns off some styling */\n",
       "            progress {\n",
       "                /* gets rid of default border in Firefox and Opera. */\n",
       "                border: none;\n",
       "                /* Needs to be in here for Safari polyfill so background images work as expected. */\n",
       "                background-size: auto;\n",
       "            }\n",
       "            .progress-bar-interrupted, .progress-bar-interrupted::-webkit-progress-bar {\n",
       "                background: #F44336;\n",
       "            }\n",
       "        </style>\n",
       "      <progress value='14799' class='' max='200000' style='width:300px; height:20px; vertical-align: middle;'></progress>\n",
       "      7.40% [14799/200000 00:05<01:07 Average Loss = 161.97]\n",
       "    </div>\n",
       "    "
      ],
      "text/plain": [
       "<IPython.core.display.HTML object>"
      ]
     },
     "metadata": {},
     "output_type": "display_data"
    },
    {
     "name": "stderr",
     "output_type": "stream",
     "text": [
      "Convergence achieved at 14900\n",
      "Interrupted at 14,899 [7%]: Average Loss = 191.43\n",
      "Multiprocess sampling (4 chains in 4 jobs)\n",
      "NUTS: [sigma_y, nu_y, f_gp_rotated_, var, ls, fixed_b, b_shrinkage, shift, ss]\n"
     ]
    },
    {
     "data": {
      "text/html": [
       "\n",
       "    <div>\n",
       "        <style>\n",
       "            /* Turns off some styling */\n",
       "            progress {\n",
       "                /* gets rid of default border in Firefox and Opera. */\n",
       "                border: none;\n",
       "                /* Needs to be in here for Safari polyfill so background images work as expected. */\n",
       "                background-size: auto;\n",
       "            }\n",
       "            .progress-bar-interrupted, .progress-bar-interrupted::-webkit-progress-bar {\n",
       "                background: #F44336;\n",
       "            }\n",
       "        </style>\n",
       "      <progress value='8000' class='' max='8000' style='width:300px; height:20px; vertical-align: middle;'></progress>\n",
       "      100.00% [8000/8000 00:54<00:00 Sampling 4 chains, 0 divergences]\n",
       "    </div>\n",
       "    "
      ],
      "text/plain": [
       "<IPython.core.display.HTML object>"
      ]
     },
     "metadata": {},
     "output_type": "display_data"
    },
    {
     "name": "stderr",
     "output_type": "stream",
     "text": [
      "Sampling 4 chains for 1_500 tune and 500 draw iterations (6_000 + 2_000 draws total) took 54 seconds.\n",
      "The rhat statistic is larger than 1.05 for some parameters. This indicates slight problems during sampling.\n",
      "The estimated number of effective samples is smaller than 200 for some parameters.\n",
      "Got error No model on context stack. trying to find log_likelihood in translation.\n",
      "Got error No model on context stack. trying to find log_likelihood in translation.\n",
      "Got error No model on context stack. trying to find log_likelihood in translation.\n",
      "Got error No model on context stack. trying to find log_likelihood in translation.\n",
      "Got error No model on context stack. trying to find log_likelihood in translation.\n",
      "Got error No model on context stack. trying to find log_likelihood in translation.\n"
     ]
    },
    {
     "name": "stdout",
     "output_type": "stream",
     "text": [
      "b_shrinkage_log__ -2.28946\n",
      "fixed_b -7.829342\n",
      "ls_log__ -1.1447301\n",
      "var_log__ -1.1447301\n",
      "f_gp_rotated_ -47.784805\n",
      "nu_y_log__ -0.61370564\n",
      "sigma_y_log__ -0.61370564\n"
     ]
    },
    {
     "name": "stderr",
     "output_type": "stream",
     "text": [
      "Initializing NUTS using advi+adapt_diag...\n"
     ]
    },
    {
     "name": "stdout",
     "output_type": "stream",
     "text": [
      "y -205.94225539292285\n"
     ]
    },
    {
     "data": {
      "text/html": [
       "\n",
       "    <div>\n",
       "        <style>\n",
       "            /* Turns off some styling */\n",
       "            progress {\n",
       "                /* gets rid of default border in Firefox and Opera. */\n",
       "                border: none;\n",
       "                /* Needs to be in here for Safari polyfill so background images work as expected. */\n",
       "                background-size: auto;\n",
       "            }\n",
       "            .progress-bar-interrupted, .progress-bar-interrupted::-webkit-progress-bar {\n",
       "                background: #F44336;\n",
       "            }\n",
       "        </style>\n",
       "      <progress value='16515' class='' max='200000' style='width:300px; height:20px; vertical-align: middle;'></progress>\n",
       "      8.26% [16515/200000 00:05<01:02 Average Loss = 161.09]\n",
       "    </div>\n",
       "    "
      ],
      "text/plain": [
       "<IPython.core.display.HTML object>"
      ]
     },
     "metadata": {},
     "output_type": "display_data"
    },
    {
     "name": "stderr",
     "output_type": "stream",
     "text": [
      "Convergence achieved at 16700\n",
      "Interrupted at 16,699 [8%]: Average Loss = 188.71\n",
      "Multiprocess sampling (4 chains in 4 jobs)\n",
      "NUTS: [sigma_y, nu_y, f_gp_rotated_, var, ls, fixed_b, b_shrinkage]\n"
     ]
    },
    {
     "data": {
      "text/html": [
       "\n",
       "    <div>\n",
       "        <style>\n",
       "            /* Turns off some styling */\n",
       "            progress {\n",
       "                /* gets rid of default border in Firefox and Opera. */\n",
       "                border: none;\n",
       "                /* Needs to be in here for Safari polyfill so background images work as expected. */\n",
       "                background-size: auto;\n",
       "            }\n",
       "            .progress-bar-interrupted, .progress-bar-interrupted::-webkit-progress-bar {\n",
       "                background: #F44336;\n",
       "            }\n",
       "        </style>\n",
       "      <progress value='8000' class='' max='8000' style='width:300px; height:20px; vertical-align: middle;'></progress>\n",
       "      100.00% [8000/8000 00:56<00:00 Sampling 4 chains, 3 divergences]\n",
       "    </div>\n",
       "    "
      ],
      "text/plain": [
       "<IPython.core.display.HTML object>"
      ]
     },
     "metadata": {},
     "output_type": "display_data"
    },
    {
     "name": "stderr",
     "output_type": "stream",
     "text": [
      "Sampling 4 chains for 1_500 tune and 500 draw iterations (6_000 + 2_000 draws total) took 57 seconds.\n",
      "There were 2 divergences after tuning. Increase `target_accept` or reparameterize.\n",
      "There was 1 divergence after tuning. Increase `target_accept` or reparameterize.\n",
      "The estimated number of effective samples is smaller than 200 for some parameters.\n",
      "Got error No model on context stack. trying to find log_likelihood in translation.\n",
      "Got error No model on context stack. trying to find log_likelihood in translation.\n",
      "Got error No model on context stack. trying to find log_likelihood in translation.\n",
      "Got error No model on context stack. trying to find log_likelihood in translation.\n",
      "Got error No model on context stack. trying to find log_likelihood in translation.\n",
      "Got error No model on context stack. trying to find log_likelihood in translation.\n"
     ]
    },
    {
     "name": "stdout",
     "output_type": "stream",
     "text": [
      "\u001b[94mBipolar_Disorder x Urethral_Disorder\u001b[0m\n",
      "\u001b[94mBipolar_Disorder x Urinary_Calculus\u001b[0m\n",
      "\u001b[94mBipolar_Disorder x Uterine_Cancer\u001b[0m\n",
      "\u001b[94mBipolar_Disorder x Varicella_Infection\u001b[0m\n",
      "\u001b[94mBipolar_Disorder x Vascular_Congenital_Anomaly\u001b[0m\n",
      "\u001b[94mBipolar_Disorder x Vascular_Insufficiency\u001b[0m\n",
      "\u001b[94mBipolar_Disorder x Vasculitis\u001b[0m\n",
      "\u001b[94mBipolar_Disorder x Velo-Cardio-Facial_Syndrome\u001b[0m\n",
      "\u001b[94mBipolar_Disorder x Viral_Hepatitis_A\u001b[0m\n",
      "\u001b[94mBipolar_Disorder x Viral_Hepatitis_B\u001b[0m\n",
      "\u001b[94mBipolar_Disorder x Viral_Hepatitis_C\u001b[0m\n",
      "\u001b[94mBipolar_Disorder x Viral_Warts_HPV\u001b[0m\n",
      "\u001b[94mBipolar_Disorder x Visual_Pathway_Cortex_Disorder\u001b[0m\n",
      "\u001b[94mBipolar_Disorder x Vitamin_Deficiency\u001b[0m\n",
      "\u001b[94mBipolar_Disorder x Vitamin_Toxicity\u001b[0m\n",
      "\u001b[94mBipolar_Disorder x Vitreous_Body_Disorder\u001b[0m\n",
      "\u001b[94mBipolar_Disorder x Wiskott-Alrich_Syndrome\u001b[0m\n"
     ]
    }
   ],
   "source": [
    "%env MKL_NUM_THREADS=4\n",
    "%env MKL_DEBUG_CPU_TYPE=5\n",
    "%env THEANO_FLAGS=device=cpu, floatX=float32\n",
    "\n",
    "import pickle\n",
    "import numpy as np\n",
    "import pymc3 as pm\n",
    "import arviz as az\n",
    "import theano.tensor as tt\n",
    "import matplotlib.pyplot as plt\n",
    "import matplotlib.font_manager as fm\n",
    "from collections import Counter\n",
    "from pathlib import Path\n",
    "import os\n",
    "import warnings\n",
    "warnings.filterwarnings('ignore')\n",
    "import logging\n",
    "logging.getLogger('matplotlib').setLevel(level=logging.CRITICAL)\n",
    "\n",
    "plt.rcParams['font.family'] = 'Nimbus Sans'\n",
    "\n",
    "INPUT_DATA_AUX_STATS = '../data preparation/all_patients_firstDiag_03292021_otherStats.bpkl3'\n",
    "TIME_DIFF_DATA = '../data preparation/two_dis_time_diff_seqs_03312021.bpkl3'\n",
    "OUTCOME_DIS = 'Bipolar_Disorder'\n",
    "# INTERVENTION = 'Abnormal_Spine_Curvature'\n",
    "TIME_DIFF_UNIT = 100\n",
    "TIME_DIFF_MIM_THRESHOLD = 100\n",
    "NUM_CHAINS = 4\n",
    "\n",
    "with open(INPUT_DATA_AUX_STATS, 'rb') as f:\n",
    "    all_aux_stats = pickle.load(f)\n",
    "    DIS_IDX_DICT = all_aux_stats['dis_to_idx']\n",
    "    DIS_SYS_DICT = all_aux_stats['dis_to_sys']\n",
    "    \n",
    "with open(TIME_DIFF_DATA, 'rb') as f:\n",
    "    ALL_DIS_PAIR_TIME_DIFF = pickle.load(f)\n",
    "\n",
    "SKIP = True\n",
    "for k, v in DIS_IDX_DICT.items():\n",
    "    \n",
    "    INTERVENTION = k\n",
    "    TIME_DIFF = ALL_DIS_PAIR_TIME_DIFF[(OUTCOME_DIS, \n",
    "                                        INTERVENTION, \n",
    "                                        DIS_IDX_DICT[OUTCOME_DIS],\n",
    "                                        DIS_IDX_DICT[INTERVENTION])]\n",
    "    \n",
    "    print('\\033[94m'+OUTCOME_DIS+' x '+INTERVENTION+'\\033[0m')\n",
    "    \n",
    "    if (len(TIME_DIFF)) < TIME_DIFF_MIM_THRESHOLD or (INTERVENTION == OUTCOME_DIS):\n",
    "        continue\n",
    "    \n",
    "#     if INTERVENTION == 'Rectal_Anal_Disorder': # Start from a particular disease\n",
    "#         SKIP = False\n",
    "    \n",
    "#     if SKIP:\n",
    "#         continue\n",
    "        \n",
    "    # Prepare data ------------------------------------------------------------\n",
    "    out_data_time_diff_rounded = np.array(TIME_DIFF) // TIME_DIFF_UNIT\n",
    "    time_diff_counter = Counter(out_data_time_diff_rounded)\n",
    "    time_diff_xaxis = list(time_diff_counter.keys())\n",
    "    time_diff_yaxis = [time_diff_counter[t] for t in time_diff_xaxis]\n",
    "        \n",
    "    # Safely create output folder ---------------------------------------------\n",
    "    plot_out_path = f'RDD_experiment_{OUTCOME_DIS}_06202022/{INTERVENTION}/plots'\n",
    "    data_out_path = f'RDD_experiment_{OUTCOME_DIS}_06202022/{INTERVENTION}'\n",
    "    Path(plot_out_path).mkdir(parents=True, exist_ok=True)\n",
    "    \n",
    "    # Plot raw data points ----------------------------------------------------\n",
    "    fig, ax = plt.subplots(1, 1)\n",
    "    ax.plot(time_diff_xaxis, time_diff_yaxis, '.')\n",
    "    ax.axvline(color='gray')\n",
    "    ax.text(0.0, 1.1, 'Outcome: '+OUTCOME_DIS, transform=ax.transAxes)\n",
    "    ax.text(0.0, 1.05, 'Intervention: '+INTERVENTION, transform=ax.transAxes)\n",
    "    ax.set_ylabel('Number of diagnosis')\n",
    "    ax.set_xlabel('Time difference between the outcome and the intervention\\n'\n",
    "                  f'(unit = {TIME_DIFF_UNIT} days)')\n",
    "    plt.savefig(plot_out_path+'/raw_data_points.pdf', format='pdf', bbox_inches='tight')\n",
    "    plt.close()\n",
    "    \n",
    "    # Prepare MCMC data -------------------------------------------------------\n",
    "    \n",
    "    data_ord = np.argsort(time_diff_xaxis)\n",
    "    data_X = np.array(time_diff_xaxis, dtype=np.float64)[data_ord, None]\n",
    "    data_X_poly = np.hstack((np.ones_like(data_X), data_X, data_X**2.0, data_X**3.0))\n",
    "    data_X_poly_abs = np.abs(data_X_poly)\n",
    "    data_y = np.array(time_diff_yaxis, dtype=np.float64)[data_ord]\n",
    "    data_x_before = 1.0*(data_X.flatten() < 0.0)\n",
    "    \n",
    "    # Alternative model, with a shift at point zero ---------------------------\n",
    "    alter_model = pm.Model()\n",
    "    \n",
    "    with alter_model:\n",
    "\n",
    "        # The RDD shift at point zero\n",
    "        ss = pm.HalfCauchy('ss', beta=5.0)\n",
    "        shift = pm.Laplace('shift', mu=0.0, b=ss)\n",
    "\n",
    "        # Polynomial fit\n",
    "        b_shrinkage = pm.HalfCauchy('b_shrinkage', beta=1.0, shape=2)\n",
    "        fixed_b = pm.Normal('fixed_b', mu=0, sigma=20.0*b_shrinkage, shape=2)\n",
    "\n",
    "        # Gaussian process fit\n",
    "        ls = pm.HalfCauchy('ls', beta=5.0)\n",
    "        var = pm.HalfCauchy('var', beta=5.0)\n",
    "        cov_func = var * pm.gp.cov.ExpQuad(1, ls=ls)\n",
    "        gp = pm.gp.Latent(cov_func=cov_func)\n",
    "        f_gp = gp.prior('f_gp', X=data_X)\n",
    "\n",
    "        poly_abs = pm.Deterministic('poly_abs', tt.dot(data_X_poly_abs[:, :2], fixed_b))\n",
    "\n",
    "        l = pm.Deterministic('l', f_gp + poly_abs + data_x_before * shift)\n",
    "        nu_y = pm.Gamma('nu_y', alpha=2.0, beta=1.0)\n",
    "        sigma_y = pm.Gamma('sigma_y', alpha=2.0, beta=1.0)\n",
    "        y = pm.StudentT('y', \n",
    "                        nu=nu_y,\n",
    "                        mu=l,\n",
    "                        sigma=sigma_y,\n",
    "                        observed=data_y)\n",
    "\n",
    "    for RV in alter_model.basic_RVs:\n",
    "        print(RV.name, RV.logp(alter_model.test_point))\n",
    "\n",
    "    with alter_model:\n",
    "        start, step = pm.init_nuts(init='advi+adapt_diag', \n",
    "                                   chains=NUM_CHAINS,\n",
    "                                   n_init=200000,\n",
    "                                   target_accept=0.9)\n",
    "        alter_trace = pm.sample(draws=500,\n",
    "                                chains=NUM_CHAINS,\n",
    "                                tune=1500,\n",
    "                                start=start,\n",
    "                                step=step,\n",
    "                                discard_tuned_samples=True)\n",
    "    \n",
    "    # Trace plot --------------------------------------------------------\n",
    "    az.style.use('arviz-whitegrid')\n",
    "    az.plot_trace(alter_trace, var_names=['ss', 'shift', \n",
    "                                          'b_shrinkage', 'fixed_b', \n",
    "                                          'ls', 'var',\n",
    "                                          'nu_y', 'sigma_y'])\n",
    "    plt.savefig(plot_out_path+'/alter_model_trace_plot.pdf', format='pdf', bbox_inches='tight')\n",
    "    plt.close()\n",
    "    \n",
    "    alter_summ = az.summary(alter_trace, \n",
    "                            var_names=['ss', 'shift', \n",
    "                                       'b_shrinkage', 'fixed_b', \n",
    "                                       'ls', 'var',\n",
    "                                       'nu_y', 'sigma_y'])\n",
    "    alter_summ.to_csv(data_out_path+'/alter_trace_summary.csv')\n",
    "    \n",
    "    # Trace data --------------------------------------------------------------\n",
    "    l_alter_trace = alter_trace['l']\n",
    "    f_gp_alter_trace = alter_trace['f_gp']\n",
    "    poly_abs_alter_trace = alter_trace['poly_abs']\n",
    "    shift_alter_trace = alter_trace['shift']\n",
    "    fixed_b_alter_trace = alter_trace['fixed_b']\n",
    "    \n",
    "    # Energy plot -------------------------------------------------------------\n",
    "    az.plot_energy(alter_trace)\n",
    "    plt.savefig(plot_out_path+'/alter_model_energy_plot.pdf', format='pdf', bbox_inches='tight')\n",
    "    plt.close()\n",
    "    \n",
    "    # Plot fitting results ----------------------------------------------------\n",
    "    \n",
    "    trend_x_range = np.arange(data_X_poly[0, 1], data_X_poly[-1, 1], 0.1)[:, None]\n",
    "    trend_x_range_and_bias = np.hstack((np.ones_like(trend_x_range),\n",
    "                                        trend_x_range))\n",
    "    trend_y = fixed_b_alter_trace @ np.abs(np.transpose(trend_x_range_and_bias))\n",
    "    # trend_y = np.exp(trend_y)\n",
    "    trend_y += np.outer(shift_alter_trace, (trend_x_range < 0).flatten())\n",
    "    \n",
    "    waic = az.waic(alter_trace, pointwise=True, scale='deviance')\n",
    "    loo = az.loo(alter_trace, pointwise=True, scale='deviance')\n",
    "    shift_hdi = np.float_(az.hdi(shift_alter_trace, hdi_prob=0.95))\n",
    "    slo, sup = round(shift_hdi[0], 4), round(shift_hdi[1], 4)\n",
    "\n",
    "    plt.style.use('default')\n",
    "    plt.rcParams['font.family'] = 'Nimbus Sans'\n",
    "    fig, ax = plt.subplots(1, 1)\n",
    "    ax.plot(data_X.flatten(), data_y, '.')\n",
    "    ax.plot(data_X.flatten(), l_alter_trace.mean(axis=0), label='Posterior fit (95% HDI)')\n",
    "    az.plot_hdi(data_X.flatten(), l_alter_trace, hdi_prob=0.95, \n",
    "                ax=ax, smooth=False, fill_kwargs={'linewidth': 0.0})\n",
    "    ax.plot(data_X.flatten(), f_gp_alter_trace.mean(axis=0), label='GP tweak estimate')\n",
    "    ax.plot(trend_x_range.flatten(), trend_y.mean(axis=0), label='Trend + shift estimate')\n",
    "    ax.text(1.05, 0.75, \n",
    "            f'WAIC = {np.around(waic.waic, 4)}', \n",
    "            fontsize='medium',\n",
    "            transform=ax.transAxes)\n",
    "    ax.text(1.05, 0.7, \n",
    "            f'LOO = {np.around(loo.loo, 4)}', \n",
    "            fontsize='medium',\n",
    "            transform=ax.transAxes)\n",
    "    ax.text(1.05, 0.65,\n",
    "            f'Shift 95% HDI = ({slo}, {sup})',\n",
    "            fontsize='medium',\n",
    "            transform=ax.transAxes)\n",
    "    ax.legend(loc='upper right', bbox_to_anchor=(1.5, 1.0))\n",
    "\n",
    "    ax.axvline(color='gray')\n",
    "    ax.text(0.0, 1.1, 'Outcome: '+OUTCOME_DIS, transform=ax.transAxes)\n",
    "    ax.text(0.0, 1.05, 'Intervention: '+INTERVENTION, transform=ax.transAxes)\n",
    "    ax.set_ylabel('Number of diagnosis')\n",
    "    ax.set_xlabel('Time difference between the outcome and the intervention\\n'\n",
    "                  f'(unit = {TIME_DIFF_UNIT} days)')\n",
    "    \n",
    "    plt.savefig(plot_out_path+'/alter_model_posterior_est_plot.pdf', format='pdf', bbox_inches='tight')\n",
    "    plt.close()\n",
    "    \n",
    "    # Null model, without a shift at point zero ---------------------------\n",
    "    null_model = pm.Model()\n",
    "    \n",
    "    with null_model:\n",
    "\n",
    "        # The RDD shift at point zero\n",
    "        # Pass\n",
    "\n",
    "        # Polynomial fit\n",
    "        b_shrinkage = pm.HalfCauchy('b_shrinkage', beta=1.0, shape=2)\n",
    "        fixed_b = pm.Normal('fixed_b', mu=0, sigma=20.0*b_shrinkage, shape=2)\n",
    "\n",
    "        # Gaussian process fit\n",
    "        ls = pm.HalfCauchy('ls', beta=5.0)\n",
    "        var = pm.HalfCauchy('var', beta=5.0)\n",
    "        cov_func = var * pm.gp.cov.ExpQuad(1, ls=ls)\n",
    "        gp = pm.gp.Latent(cov_func=cov_func)\n",
    "        f_gp = gp.prior('f_gp', X=data_X)\n",
    "\n",
    "        poly_abs = pm.Deterministic('poly_abs', tt.dot(data_X_poly_abs[:, :2], fixed_b))\n",
    "\n",
    "        l = pm.Deterministic('l', f_gp + poly_abs ) #+ data_x_before * shift)\n",
    "        nu_y = pm.Gamma('nu_y', alpha=2.0, beta=1.0)\n",
    "        sigma_y = pm.Gamma('sigma_y', alpha=2.0, beta=1.0)\n",
    "        y = pm.StudentT('y', \n",
    "                        nu=nu_y,\n",
    "                        mu=l,\n",
    "                        sigma=sigma_y,\n",
    "                        observed=data_y)\n",
    "\n",
    "    for RV in null_model.basic_RVs:\n",
    "        print(RV.name, RV.logp(null_model.test_point))\n",
    "\n",
    "    with null_model:\n",
    "        start, step = pm.init_nuts(init='advi+adapt_diag', \n",
    "                                   chains=NUM_CHAINS,\n",
    "                                   n_init=200000,\n",
    "                                   target_accept=0.9)\n",
    "        null_trace = pm.sample(draws=500,\n",
    "                               chains=NUM_CHAINS,\n",
    "                               tune=1500,\n",
    "                               start=start,\n",
    "                               step=step,\n",
    "                               discard_tuned_samples=True)\n",
    "        \n",
    "    # Trace plot --------------------------------------------------------\n",
    "    az.style.use('arviz-whitegrid')\n",
    "    az.plot_trace(null_trace, var_names=['b_shrinkage', 'fixed_b', \n",
    "                                          'ls', 'var',\n",
    "                                          'nu_y', 'sigma_y'])\n",
    "    plt.savefig(plot_out_path+'/null_model_trace_plot.pdf', format='pdf', bbox_inches='tight')\n",
    "    plt.close()\n",
    "    \n",
    "    null_summ = az.summary(null_trace, \n",
    "                           var_names=['b_shrinkage', 'fixed_b', \n",
    "                                      'ls', 'var',\n",
    "                                      'nu_y', 'sigma_y'])\n",
    "    null_summ.to_csv(data_out_path+'/null_trace_summary.csv')\n",
    "    \n",
    "    # Trace data --------------------------------------------------------------\n",
    "    l_null_trace = null_trace['l']\n",
    "    f_gp_null_trace = null_trace['f_gp']\n",
    "    poly_abs_null_trace = null_trace['poly_abs']\n",
    "    fixed_b_null_trace = null_trace['fixed_b']\n",
    "    \n",
    "    # Energy plot -------------------------------------------------------------\n",
    "    az.plot_energy(null_trace)\n",
    "    plt.savefig(plot_out_path+'/null_model_energy_plot.pdf', format='pdf', bbox_inches='tight')\n",
    "    plt.close()\n",
    "    \n",
    "    # Plot fitting results ----------------------------------------------------\n",
    "    \n",
    "    null_trend_y = fixed_b_null_trace @ np.abs(np.transpose(trend_x_range_and_bias))\n",
    "    # null_trend_y = np.exp(null_trend_y)\n",
    "    \n",
    "    null_waic = az.waic(null_trace, pointwise=True, scale='deviance')\n",
    "    null_loo = az.loo(null_trace, pointwise=True, scale='deviance')\n",
    "\n",
    "    plt.style.use('default')\n",
    "    plt.rcParams['font.family'] = 'Nimbus Sans'\n",
    "    fig, ax = plt.subplots(1, 1)\n",
    "    ax.plot(data_X.flatten(), data_y, '.')\n",
    "    ax.plot(data_X.flatten(), l_null_trace.mean(axis=0), label='Posterior fit (95% HDI)')\n",
    "    az.plot_hdi(data_X.flatten(), l_null_trace, hdi_prob=0.95, \n",
    "                ax=ax, smooth=False, fill_kwargs={'linewidth': 0.0})\n",
    "    ax.plot(data_X.flatten(), f_gp_null_trace.mean(axis=0), label='GP tweak estimate')\n",
    "    ax.plot(trend_x_range.flatten(), null_trend_y.mean(axis=0), label='Trend + shift estimate')\n",
    "    ax.text(1.05, 0.75, \n",
    "            f'WAIC = {np.around(null_waic.waic, 4)}', \n",
    "            fontsize='medium',\n",
    "            transform=ax.transAxes)\n",
    "    ax.text(1.05, 0.7, \n",
    "            f'LOO = {np.around(null_loo.loo, 4)}', \n",
    "            fontsize='medium',\n",
    "            transform=ax.transAxes)\n",
    "    ax.legend(loc='upper right', bbox_to_anchor=(1.5, 1.0))\n",
    "\n",
    "    ax.axvline(color='gray')\n",
    "    ax.text(0.0, 1.1, 'Outcome: '+OUTCOME_DIS, transform=ax.transAxes)\n",
    "    ax.text(0.0, 1.05, 'Intervention: '+INTERVENTION, transform=ax.transAxes)\n",
    "    ax.set_ylabel('Number of diagnosis')\n",
    "    ax.set_xlabel('Time difference between the outcome and the intervention\\n'\n",
    "                  f'(unit = {TIME_DIFF_UNIT} days)')\n",
    "    \n",
    "    plt.savefig(plot_out_path+'/null_model_posterior_est_plot.pdf', format='pdf', bbox_inches='tight')\n",
    "    plt.close()\n",
    "    \n",
    "    # ELPD plot ---------------------------------------------------------------\n",
    "    plt.style.use('default')\n",
    "    plt.rcParams['font.family'] = 'Nimbus Sans'\n",
    "    fig, ax = plt.subplots(1, 1)\n",
    "    ax.plot(data_X.flatten(), \n",
    "            0.5*(null_waic.waic_i-waic.waic_i), '.')\n",
    "    ax.axvline(color='gray')\n",
    "    ax.text(0.0, 1.1, 'Outcome: '+OUTCOME_DIS, transform=ax.transAxes)\n",
    "    ax.text(0.0, 1.05, 'Intervention: '+INTERVENTION, transform=ax.transAxes)\n",
    "    ax.set_ylabel('ELPD difference (Alternative, shifted - Null, non-shifted)')\n",
    "    ax.set_xlabel('Time difference between the outcome and the intervention\\n'\n",
    "                  f'(unit = {TIME_DIFF_UNIT} days)')\n",
    "    plt.savefig(plot_out_path+'/model_compare_elpd.pdf', format='pdf', bbox_inches='tight')\n",
    "    plt.close()\n",
    "    \n",
    "    # Save data \n",
    "    with open(data_out_path+'/analysis_results_and_plot_data.bpkl3', 'wb') as f:\n",
    "        pickle.dump({'raw_data': (TIME_DIFF, TIME_DIFF_UNIT, out_data_time_diff_rounded),\n",
    "                     'alter.trace': alter_trace,\n",
    "                     'alter.model': alter_model,\n",
    "                     'alter.waic': waic,\n",
    "                     'alter.loo': loo,\n",
    "                     'null.trace': null_trace,\n",
    "                     'null.model': null_model,\n",
    "                     'null.waic': null_waic,\n",
    "                     'null.loo': null_loo,\n",
    "                     'plot.trend_data': (trend_x_range, trend_y, null_trend_y)}, f)\n",
    "    \n",
    "    # break"
   ]
  }
 ],
 "metadata": {
  "kernelspec": {
   "display_name": "Python 3 (ipykernel)",
   "language": "python",
   "name": "python3"
  },
  "language_info": {
   "codemirror_mode": {
    "name": "ipython",
    "version": 3
   },
   "file_extension": ".py",
   "mimetype": "text/x-python",
   "name": "python",
   "nbconvert_exporter": "python",
   "pygments_lexer": "ipython3",
   "version": "3.11.5"
  }
 },
 "nbformat": 4,
 "nbformat_minor": 4
}
