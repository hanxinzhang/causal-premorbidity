{
 "cells": [
  {
   "cell_type": "code",
   "execution_count": 1,
   "metadata": {
    "execution": {
     "iopub.execute_input": "2022-07-16T19:32:59.447523Z",
     "iopub.status.busy": "2022-07-16T19:32:59.411543Z",
     "iopub.status.idle": "2022-07-16T21:58:08.746826Z",
     "shell.execute_reply": "2022-07-16T21:58:08.747229Z"
    }
   },
   "outputs": [
    {
     "name": "stdout",
     "output_type": "stream",
     "text": [
      "env: MKL_NUM_THREADS=4\n",
      "env: MKL_DEBUG_CPU_TYPE=5\n",
      "env: THEANO_FLAGS=device=cpu, floatX=float32\n",
      "\u001b[94mOCD x ADHD\u001b[0m\n",
      "ss_log__ -1.1447301\n",
      "shift -2.3025851\n",
      "b_shrinkage_log__ -2.28946\n",
      "fixed_b -7.829342\n",
      "ls_log__ -1.1447301\n",
      "var_log__ -1.1447301\n",
      "f_gp_rotated_ -39.51436\n",
      "nu_y_log__ -0.61370564\n",
      "sigma_y_log__ -0.61370564\n"
     ]
    },
    {
     "name": "stderr",
     "output_type": "stream",
     "text": [
      "Initializing NUTS using advi+adapt_diag...\n"
     ]
    },
    {
     "name": "stdout",
     "output_type": "stream",
     "text": [
      "y -171.3781465143124\n"
     ]
    },
    {
     "data": {
      "text/html": [
       "\n",
       "    <div>\n",
       "        <style>\n",
       "            /* Turns off some styling */\n",
       "            progress {\n",
       "                /* gets rid of default border in Firefox and Opera. */\n",
       "                border: none;\n",
       "                /* Needs to be in here for Safari polyfill so background images work as expected. */\n",
       "                background-size: auto;\n",
       "            }\n",
       "            .progress-bar-interrupted, .progress-bar-interrupted::-webkit-progress-bar {\n",
       "                background: #F44336;\n",
       "            }\n",
       "        </style>\n",
       "      <progress value='15098' class='' max='200000' style='width:300px; height:20px; vertical-align: middle;'></progress>\n",
       "      7.55% [15098/200000 00:04<00:58 Average Loss = 158.84]\n",
       "    </div>\n",
       "    "
      ],
      "text/plain": [
       "<IPython.core.display.HTML object>"
      ]
     },
     "metadata": {},
     "output_type": "display_data"
    },
    {
     "name": "stderr",
     "output_type": "stream",
     "text": [
      "Convergence achieved at 15700\n",
      "Interrupted at 15,699 [7%]: Average Loss = 176.27\n",
      "Multiprocess sampling (4 chains in 4 jobs)\n",
      "NUTS: [sigma_y, nu_y, f_gp_rotated_, var, ls, fixed_b, b_shrinkage, shift, ss]\n"
     ]
    },
    {
     "data": {
      "text/html": [
       "\n",
       "    <div>\n",
       "        <style>\n",
       "            /* Turns off some styling */\n",
       "            progress {\n",
       "                /* gets rid of default border in Firefox and Opera. */\n",
       "                border: none;\n",
       "                /* Needs to be in here for Safari polyfill so background images work as expected. */\n",
       "                background-size: auto;\n",
       "            }\n",
       "            .progress-bar-interrupted, .progress-bar-interrupted::-webkit-progress-bar {\n",
       "                background: #F44336;\n",
       "            }\n",
       "        </style>\n",
       "      <progress value='8000' class='' max='8000' style='width:300px; height:20px; vertical-align: middle;'></progress>\n",
       "      100.00% [8000/8000 01:24<00:00 Sampling 4 chains, 2 divergences]\n",
       "    </div>\n",
       "    "
      ],
      "text/plain": [
       "<IPython.core.display.HTML object>"
      ]
     },
     "metadata": {},
     "output_type": "display_data"
    },
    {
     "name": "stderr",
     "output_type": "stream",
     "text": [
      "Sampling 4 chains for 1_500 tune and 500 draw iterations (6_000 + 2_000 draws total) took 85 seconds.\n",
      "There was 1 divergence after tuning. Increase `target_accept` or reparameterize.\n",
      "There was 1 divergence after tuning. Increase `target_accept` or reparameterize.\n",
      "The number of effective samples is smaller than 25% for some parameters.\n",
      "Got error No model on context stack. trying to find log_likelihood in translation.\n",
      "Got error No model on context stack. trying to find log_likelihood in translation.\n",
      "Got error No model on context stack. trying to find log_likelihood in translation.\n",
      "Got error No model on context stack. trying to find log_likelihood in translation.\n",
      "Got error No model on context stack. trying to find log_likelihood in translation.\n",
      "Got error No model on context stack. trying to find log_likelihood in translation.\n"
     ]
    },
    {
     "name": "stdout",
     "output_type": "stream",
     "text": [
      "b_shrinkage_log__ -2.28946\n",
      "fixed_b -7.829342\n",
      "ls_log__ -1.1447301\n",
      "var_log__ -1.1447301\n",
      "f_gp_rotated_ -39.51436\n",
      "nu_y_log__ -0.61370564\n",
      "sigma_y_log__ -0.61370564\n"
     ]
    },
    {
     "name": "stderr",
     "output_type": "stream",
     "text": [
      "Initializing NUTS using advi+adapt_diag...\n"
     ]
    },
    {
     "name": "stdout",
     "output_type": "stream",
     "text": [
      "y -171.3781465143124\n"
     ]
    },
    {
     "data": {
      "text/html": [
       "\n",
       "    <div>\n",
       "        <style>\n",
       "            /* Turns off some styling */\n",
       "            progress {\n",
       "                /* gets rid of default border in Firefox and Opera. */\n",
       "                border: none;\n",
       "                /* Needs to be in here for Safari polyfill so background images work as expected. */\n",
       "                background-size: auto;\n",
       "            }\n",
       "            .progress-bar-interrupted, .progress-bar-interrupted::-webkit-progress-bar {\n",
       "                background: #F44336;\n",
       "            }\n",
       "        </style>\n",
       "      <progress value='15354' class='' max='200000' style='width:300px; height:20px; vertical-align: middle;'></progress>\n",
       "      7.68% [15354/200000 00:04<00:58 Average Loss = 158.01]\n",
       "    </div>\n",
       "    "
      ],
      "text/plain": [
       "<IPython.core.display.HTML object>"
      ]
     },
     "metadata": {},
     "output_type": "display_data"
    },
    {
     "name": "stderr",
     "output_type": "stream",
     "text": [
      "Convergence achieved at 15700\n",
      "Interrupted at 15,699 [7%]: Average Loss = 176.24\n",
      "Multiprocess sampling (4 chains in 4 jobs)\n",
      "NUTS: [sigma_y, nu_y, f_gp_rotated_, var, ls, fixed_b, b_shrinkage]\n"
     ]
    },
    {
     "data": {
      "text/html": [
       "\n",
       "    <div>\n",
       "        <style>\n",
       "            /* Turns off some styling */\n",
       "            progress {\n",
       "                /* gets rid of default border in Firefox and Opera. */\n",
       "                border: none;\n",
       "                /* Needs to be in here for Safari polyfill so background images work as expected. */\n",
       "                background-size: auto;\n",
       "            }\n",
       "            .progress-bar-interrupted, .progress-bar-interrupted::-webkit-progress-bar {\n",
       "                background: #F44336;\n",
       "            }\n",
       "        </style>\n",
       "      <progress value='8000' class='' max='8000' style='width:300px; height:20px; vertical-align: middle;'></progress>\n",
       "      100.00% [8000/8000 01:10<00:00 Sampling 4 chains, 0 divergences]\n",
       "    </div>\n",
       "    "
      ],
      "text/plain": [
       "<IPython.core.display.HTML object>"
      ]
     },
     "metadata": {},
     "output_type": "display_data"
    },
    {
     "name": "stderr",
     "output_type": "stream",
     "text": [
      "Sampling 4 chains for 1_500 tune and 500 draw iterations (6_000 + 2_000 draws total) took 71 seconds.\n",
      "The acceptance probability does not match the target. It is 0.8175190935745056, but should be close to 0.9. Try to increase the number of tuning steps.\n",
      "The estimated number of effective samples is smaller than 200 for some parameters.\n",
      "Got error No model on context stack. trying to find log_likelihood in translation.\n",
      "Got error No model on context stack. trying to find log_likelihood in translation.\n",
      "Got error No model on context stack. trying to find log_likelihood in translation.\n",
      "Got error No model on context stack. trying to find log_likelihood in translation.\n",
      "Got error No model on context stack. trying to find log_likelihood in translation.\n",
      "Got error No model on context stack. trying to find log_likelihood in translation.\n"
     ]
    },
    {
     "name": "stdout",
     "output_type": "stream",
     "text": [
      "\u001b[94mOCD x Abnormal_Spine_Curvature\u001b[0m\n",
      "\u001b[94mOCD x Acne\u001b[0m\n",
      "\u001b[94mOCD x Acquired_Coagulation_Defect\u001b[0m\n",
      "\u001b[94mOCD x Acquired_Hemolytic_Anemias\u001b[0m\n",
      "\u001b[94mOCD x Acquired_Hypothyroidism\u001b[0m\n",
      "\u001b[94mOCD x Acquired_Limb_Deformities\u001b[0m\n",
      "\u001b[94mOCD x Acquired_Other_Myopathies\u001b[0m\n",
      "\u001b[94mOCD x Acquired_Retinal_Defects\u001b[0m\n",
      "\u001b[94mOCD x Acquired_Visual_Disturbances\u001b[0m\n",
      "ss_log__ -1.1447301\n",
      "shift -2.3025851\n",
      "b_shrinkage_log__ -2.28946\n",
      "fixed_b -7.829342\n",
      "ls_log__ -1.1447301\n",
      "var_log__ -1.1447301\n",
      "f_gp_rotated_ -41.352238\n",
      "nu_y_log__ -0.61370564\n",
      "sigma_y_log__ -0.61370564\n"
     ]
    },
    {
     "name": "stderr",
     "output_type": "stream",
     "text": [
      "Initializing NUTS using advi+adapt_diag...\n"
     ]
    },
    {
     "name": "stdout",
     "output_type": "stream",
     "text": [
      "y -121.85792219266968\n"
     ]
    },
    {
     "data": {
      "text/html": [
       "\n",
       "    <div>\n",
       "        <style>\n",
       "            /* Turns off some styling */\n",
       "            progress {\n",
       "                /* gets rid of default border in Firefox and Opera. */\n",
       "                border: none;\n",
       "                /* Needs to be in here for Safari polyfill so background images work as expected. */\n",
       "                background-size: auto;\n",
       "            }\n",
       "            .progress-bar-interrupted, .progress-bar-interrupted::-webkit-progress-bar {\n",
       "                background: #F44336;\n",
       "            }\n",
       "        </style>\n",
       "      <progress value='15479' class='' max='200000' style='width:300px; height:20px; vertical-align: middle;'></progress>\n",
       "      7.74% [15479/200000 00:05<01:02 Average Loss = 119.5]\n",
       "    </div>\n",
       "    "
      ],
      "text/plain": [
       "<IPython.core.display.HTML object>"
      ]
     },
     "metadata": {},
     "output_type": "display_data"
    },
    {
     "name": "stderr",
     "output_type": "stream",
     "text": [
      "Convergence achieved at 15900\n",
      "Interrupted at 15,899 [7%]: Average Loss = 145.48\n",
      "Multiprocess sampling (4 chains in 4 jobs)\n",
      "NUTS: [sigma_y, nu_y, f_gp_rotated_, var, ls, fixed_b, b_shrinkage, shift, ss]\n"
     ]
    },
    {
     "data": {
      "text/html": [
       "\n",
       "    <div>\n",
       "        <style>\n",
       "            /* Turns off some styling */\n",
       "            progress {\n",
       "                /* gets rid of default border in Firefox and Opera. */\n",
       "                border: none;\n",
       "                /* Needs to be in here for Safari polyfill so background images work as expected. */\n",
       "                background-size: auto;\n",
       "            }\n",
       "            .progress-bar-interrupted, .progress-bar-interrupted::-webkit-progress-bar {\n",
       "                background: #F44336;\n",
       "            }\n",
       "        </style>\n",
       "      <progress value='8000' class='' max='8000' style='width:300px; height:20px; vertical-align: middle;'></progress>\n",
       "      100.00% [8000/8000 00:51<00:00 Sampling 4 chains, 10 divergences]\n",
       "    </div>\n",
       "    "
      ],
      "text/plain": [
       "<IPython.core.display.HTML object>"
      ]
     },
     "metadata": {},
     "output_type": "display_data"
    },
    {
     "name": "stderr",
     "output_type": "stream",
     "text": [
      "Sampling 4 chains for 1_500 tune and 500 draw iterations (6_000 + 2_000 draws total) took 52 seconds.\n",
      "There was 1 divergence after tuning. Increase `target_accept` or reparameterize.\n",
      "The acceptance probability does not match the target. It is 0.8396518777323994, but should be close to 0.9. Try to increase the number of tuning steps.\n",
      "There was 1 divergence after tuning. Increase `target_accept` or reparameterize.\n",
      "There were 3 divergences after tuning. Increase `target_accept` or reparameterize.\n",
      "There were 5 divergences after tuning. Increase `target_accept` or reparameterize.\n",
      "The estimated number of effective samples is smaller than 200 for some parameters.\n",
      "Got error No model on context stack. trying to find log_likelihood in translation.\n",
      "Got error No model on context stack. trying to find log_likelihood in translation.\n",
      "Got error No model on context stack. trying to find log_likelihood in translation.\n",
      "Got error No model on context stack. trying to find log_likelihood in translation.\n",
      "Got error No model on context stack. trying to find log_likelihood in translation.\n",
      "Got error No model on context stack. trying to find log_likelihood in translation.\n"
     ]
    },
    {
     "name": "stdout",
     "output_type": "stream",
     "text": [
      "b_shrinkage_log__ -2.28946\n",
      "fixed_b -7.829342\n",
      "ls_log__ -1.1447301\n",
      "var_log__ -1.1447301\n",
      "f_gp_rotated_ -41.352238\n",
      "nu_y_log__ -0.61370564\n",
      "sigma_y_log__ -0.61370564\n"
     ]
    },
    {
     "name": "stderr",
     "output_type": "stream",
     "text": [
      "Initializing NUTS using advi+adapt_diag...\n"
     ]
    },
    {
     "name": "stdout",
     "output_type": "stream",
     "text": [
      "y -121.85792219266968\n"
     ]
    },
    {
     "data": {
      "text/html": [
       "\n",
       "    <div>\n",
       "        <style>\n",
       "            /* Turns off some styling */\n",
       "            progress {\n",
       "                /* gets rid of default border in Firefox and Opera. */\n",
       "                border: none;\n",
       "                /* Needs to be in here for Safari polyfill so background images work as expected. */\n",
       "                background-size: auto;\n",
       "            }\n",
       "            .progress-bar-interrupted, .progress-bar-interrupted::-webkit-progress-bar {\n",
       "                background: #F44336;\n",
       "            }\n",
       "        </style>\n",
       "      <progress value='16332' class='' max='200000' style='width:300px; height:20px; vertical-align: middle;'></progress>\n",
       "      8.17% [16332/200000 00:05<00:58 Average Loss = 118.22]\n",
       "    </div>\n",
       "    "
      ],
      "text/plain": [
       "<IPython.core.display.HTML object>"
      ]
     },
     "metadata": {},
     "output_type": "display_data"
    },
    {
     "name": "stderr",
     "output_type": "stream",
     "text": [
      "Convergence achieved at 16400\n",
      "Interrupted at 16,399 [8%]: Average Loss = 144.15\n",
      "Multiprocess sampling (4 chains in 4 jobs)\n",
      "NUTS: [sigma_y, nu_y, f_gp_rotated_, var, ls, fixed_b, b_shrinkage]\n"
     ]
    },
    {
     "data": {
      "text/html": [
       "\n",
       "    <div>\n",
       "        <style>\n",
       "            /* Turns off some styling */\n",
       "            progress {\n",
       "                /* gets rid of default border in Firefox and Opera. */\n",
       "                border: none;\n",
       "                /* Needs to be in here for Safari polyfill so background images work as expected. */\n",
       "                background-size: auto;\n",
       "            }\n",
       "            .progress-bar-interrupted, .progress-bar-interrupted::-webkit-progress-bar {\n",
       "                background: #F44336;\n",
       "            }\n",
       "        </style>\n",
       "      <progress value='8000' class='' max='8000' style='width:300px; height:20px; vertical-align: middle;'></progress>\n",
       "      100.00% [8000/8000 00:41<00:00 Sampling 4 chains, 6 divergences]\n",
       "    </div>\n",
       "    "
      ],
      "text/plain": [
       "<IPython.core.display.HTML object>"
      ]
     },
     "metadata": {},
     "output_type": "display_data"
    },
    {
     "name": "stderr",
     "output_type": "stream",
     "text": [
      "Sampling 4 chains for 1_500 tune and 500 draw iterations (6_000 + 2_000 draws total) took 41 seconds.\n",
      "There were 2 divergences after tuning. Increase `target_accept` or reparameterize.\n",
      "There were 2 divergences after tuning. Increase `target_accept` or reparameterize.\n",
      "There were 2 divergences after tuning. Increase `target_accept` or reparameterize.\n",
      "The estimated number of effective samples is smaller than 200 for some parameters.\n",
      "Got error No model on context stack. trying to find log_likelihood in translation.\n",
      "Got error No model on context stack. trying to find log_likelihood in translation.\n",
      "Got error No model on context stack. trying to find log_likelihood in translation.\n",
      "Got error No model on context stack. trying to find log_likelihood in translation.\n",
      "Got error No model on context stack. trying to find log_likelihood in translation.\n",
      "Got error No model on context stack. trying to find log_likelihood in translation.\n"
     ]
    },
    {
     "name": "stdout",
     "output_type": "stream",
     "text": [
      "\u001b[94mOCD x Acrocephalosyndactyly\u001b[0m\n",
      "\u001b[94mOCD x Acute_Bronchitis\u001b[0m\n",
      "ss_log__ -1.1447301\n",
      "shift -2.3025851\n",
      "b_shrinkage_log__ -2.28946\n",
      "fixed_b -7.829342\n",
      "ls_log__ -1.1447301\n",
      "var_log__ -1.1447301\n",
      "f_gp_rotated_ -49.622684\n",
      "nu_y_log__ -0.61370564\n",
      "sigma_y_log__ -0.61370564\n"
     ]
    },
    {
     "name": "stderr",
     "output_type": "stream",
     "text": [
      "Initializing NUTS using advi+adapt_diag...\n"
     ]
    },
    {
     "name": "stdout",
     "output_type": "stream",
     "text": [
      "y -300.81820105622387\n"
     ]
    },
    {
     "data": {
      "text/html": [
       "\n",
       "    <div>\n",
       "        <style>\n",
       "            /* Turns off some styling */\n",
       "            progress {\n",
       "                /* gets rid of default border in Firefox and Opera. */\n",
       "                border: none;\n",
       "                /* Needs to be in here for Safari polyfill so background images work as expected. */\n",
       "                background-size: auto;\n",
       "            }\n",
       "            .progress-bar-interrupted, .progress-bar-interrupted::-webkit-progress-bar {\n",
       "                background: #F44336;\n",
       "            }\n",
       "        </style>\n",
       "      <progress value='13204' class='' max='200000' style='width:300px; height:20px; vertical-align: middle;'></progress>\n",
       "      6.60% [13204/200000 00:04<01:08 Average Loss = 208.94]\n",
       "    </div>\n",
       "    "
      ],
      "text/plain": [
       "<IPython.core.display.HTML object>"
      ]
     },
     "metadata": {},
     "output_type": "display_data"
    },
    {
     "name": "stderr",
     "output_type": "stream",
     "text": [
      "Convergence achieved at 13300\n",
      "Interrupted at 13,299 [6%]: Average Loss = 237.34\n",
      "Multiprocess sampling (4 chains in 4 jobs)\n",
      "NUTS: [sigma_y, nu_y, f_gp_rotated_, var, ls, fixed_b, b_shrinkage, shift, ss]\n"
     ]
    },
    {
     "data": {
      "text/html": [
       "\n",
       "    <div>\n",
       "        <style>\n",
       "            /* Turns off some styling */\n",
       "            progress {\n",
       "                /* gets rid of default border in Firefox and Opera. */\n",
       "                border: none;\n",
       "                /* Needs to be in here for Safari polyfill so background images work as expected. */\n",
       "                background-size: auto;\n",
       "            }\n",
       "            .progress-bar-interrupted, .progress-bar-interrupted::-webkit-progress-bar {\n",
       "                background: #F44336;\n",
       "            }\n",
       "        </style>\n",
       "      <progress value='8000' class='' max='8000' style='width:300px; height:20px; vertical-align: middle;'></progress>\n",
       "      100.00% [8000/8000 01:36<00:00 Sampling 4 chains, 11 divergences]\n",
       "    </div>\n",
       "    "
      ],
      "text/plain": [
       "<IPython.core.display.HTML object>"
      ]
     },
     "metadata": {},
     "output_type": "display_data"
    },
    {
     "name": "stderr",
     "output_type": "stream",
     "text": [
      "Sampling 4 chains for 1_500 tune and 500 draw iterations (6_000 + 2_000 draws total) took 96 seconds.\n",
      "There were 2 divergences after tuning. Increase `target_accept` or reparameterize.\n",
      "There were 3 divergences after tuning. Increase `target_accept` or reparameterize.\n",
      "There were 4 divergences after tuning. Increase `target_accept` or reparameterize.\n",
      "There were 2 divergences after tuning. Increase `target_accept` or reparameterize.\n",
      "The number of effective samples is smaller than 25% for some parameters.\n",
      "Got error No model on context stack. trying to find log_likelihood in translation.\n",
      "Got error No model on context stack. trying to find log_likelihood in translation.\n",
      "Got error No model on context stack. trying to find log_likelihood in translation.\n",
      "Got error No model on context stack. trying to find log_likelihood in translation.\n",
      "Got error No model on context stack. trying to find log_likelihood in translation.\n",
      "Got error No model on context stack. trying to find log_likelihood in translation.\n"
     ]
    },
    {
     "name": "stdout",
     "output_type": "stream",
     "text": [
      "b_shrinkage_log__ -2.28946\n",
      "fixed_b -7.829342\n",
      "ls_log__ -1.1447301\n",
      "var_log__ -1.1447301\n",
      "f_gp_rotated_ -49.622684\n",
      "nu_y_log__ -0.61370564\n",
      "sigma_y_log__ -0.61370564\n"
     ]
    },
    {
     "name": "stderr",
     "output_type": "stream",
     "text": [
      "Initializing NUTS using advi+adapt_diag...\n"
     ]
    },
    {
     "name": "stdout",
     "output_type": "stream",
     "text": [
      "y -300.81820105622387\n"
     ]
    },
    {
     "data": {
      "text/html": [
       "\n",
       "    <div>\n",
       "        <style>\n",
       "            /* Turns off some styling */\n",
       "            progress {\n",
       "                /* gets rid of default border in Firefox and Opera. */\n",
       "                border: none;\n",
       "                /* Needs to be in here for Safari polyfill so background images work as expected. */\n",
       "                background-size: auto;\n",
       "            }\n",
       "            .progress-bar-interrupted, .progress-bar-interrupted::-webkit-progress-bar {\n",
       "                background: #F44336;\n",
       "            }\n",
       "        </style>\n",
       "      <progress value='15325' class='' max='200000' style='width:300px; height:20px; vertical-align: middle;'></progress>\n",
       "      7.66% [15325/200000 00:05<01:05 Average Loss = 206.97]\n",
       "    </div>\n",
       "    "
      ],
      "text/plain": [
       "<IPython.core.display.HTML object>"
      ]
     },
     "metadata": {},
     "output_type": "display_data"
    },
    {
     "name": "stderr",
     "output_type": "stream",
     "text": [
      "Convergence achieved at 15700\n",
      "Interrupted at 15,699 [7%]: Average Loss = 233.15\n",
      "Multiprocess sampling (4 chains in 4 jobs)\n",
      "NUTS: [sigma_y, nu_y, f_gp_rotated_, var, ls, fixed_b, b_shrinkage]\n"
     ]
    },
    {
     "data": {
      "text/html": [
       "\n",
       "    <div>\n",
       "        <style>\n",
       "            /* Turns off some styling */\n",
       "            progress {\n",
       "                /* gets rid of default border in Firefox and Opera. */\n",
       "                border: none;\n",
       "                /* Needs to be in here for Safari polyfill so background images work as expected. */\n",
       "                background-size: auto;\n",
       "            }\n",
       "            .progress-bar-interrupted, .progress-bar-interrupted::-webkit-progress-bar {\n",
       "                background: #F44336;\n",
       "            }\n",
       "        </style>\n",
       "      <progress value='8000' class='' max='8000' style='width:300px; height:20px; vertical-align: middle;'></progress>\n",
       "      100.00% [8000/8000 00:59<00:00 Sampling 4 chains, 12 divergences]\n",
       "    </div>\n",
       "    "
      ],
      "text/plain": [
       "<IPython.core.display.HTML object>"
      ]
     },
     "metadata": {},
     "output_type": "display_data"
    },
    {
     "name": "stderr",
     "output_type": "stream",
     "text": [
      "Sampling 4 chains for 1_500 tune and 500 draw iterations (6_000 + 2_000 draws total) took 60 seconds.\n",
      "There were 3 divergences after tuning. Increase `target_accept` or reparameterize.\n",
      "There was 1 divergence after tuning. Increase `target_accept` or reparameterize.\n",
      "There were 5 divergences after tuning. Increase `target_accept` or reparameterize.\n",
      "There were 3 divergences after tuning. Increase `target_accept` or reparameterize.\n",
      "The number of effective samples is smaller than 25% for some parameters.\n",
      "Got error No model on context stack. trying to find log_likelihood in translation.\n",
      "Got error No model on context stack. trying to find log_likelihood in translation.\n",
      "Got error No model on context stack. trying to find log_likelihood in translation.\n",
      "Got error No model on context stack. trying to find log_likelihood in translation.\n",
      "Got error No model on context stack. trying to find log_likelihood in translation.\n",
      "Got error No model on context stack. trying to find log_likelihood in translation.\n"
     ]
    },
    {
     "name": "stdout",
     "output_type": "stream",
     "text": [
      "\u001b[94mOCD x Acute_Glomerulonephritis\u001b[0m\n",
      "\u001b[94mOCD x Acute_Renal_Failure\u001b[0m\n",
      "\u001b[94mOCD x Acute_Sinusitis\u001b[0m\n",
      "ss_log__ -1.1447301\n",
      "shift -2.3025851\n",
      "b_shrinkage_log__ -2.28946\n",
      "fixed_b -7.829342\n",
      "ls_log__ -1.1447301\n",
      "var_log__ -1.1447301\n",
      "f_gp_rotated_ -50.541622\n",
      "nu_y_log__ -0.61370564\n",
      "sigma_y_log__ -0.61370564\n"
     ]
    },
    {
     "name": "stderr",
     "output_type": "stream",
     "text": [
      "Initializing NUTS using advi+adapt_diag...\n"
     ]
    },
    {
     "name": "stdout",
     "output_type": "stream",
     "text": [
      "y -268.83643448825353\n"
     ]
    },
    {
     "data": {
      "text/html": [
       "\n",
       "    <div>\n",
       "        <style>\n",
       "            /* Turns off some styling */\n",
       "            progress {\n",
       "                /* gets rid of default border in Firefox and Opera. */\n",
       "                border: none;\n",
       "                /* Needs to be in here for Safari polyfill so background images work as expected. */\n",
       "                background-size: auto;\n",
       "            }\n",
       "            .progress-bar-interrupted, .progress-bar-interrupted::-webkit-progress-bar {\n",
       "                background: #F44336;\n",
       "            }\n",
       "        </style>\n",
       "      <progress value='17150' class='' max='200000' style='width:300px; height:20px; vertical-align: middle;'></progress>\n",
       "      8.57% [17150/200000 00:06<01:08 Average Loss = 186.53]\n",
       "    </div>\n",
       "    "
      ],
      "text/plain": [
       "<IPython.core.display.HTML object>"
      ]
     },
     "metadata": {},
     "output_type": "display_data"
    },
    {
     "name": "stderr",
     "output_type": "stream",
     "text": [
      "Convergence achieved at 17200\n",
      "Interrupted at 17,199 [8%]: Average Loss = 215.34\n",
      "Multiprocess sampling (4 chains in 4 jobs)\n",
      "NUTS: [sigma_y, nu_y, f_gp_rotated_, var, ls, fixed_b, b_shrinkage, shift, ss]\n"
     ]
    },
    {
     "data": {
      "text/html": [
       "\n",
       "    <div>\n",
       "        <style>\n",
       "            /* Turns off some styling */\n",
       "            progress {\n",
       "                /* gets rid of default border in Firefox and Opera. */\n",
       "                border: none;\n",
       "                /* Needs to be in here for Safari polyfill so background images work as expected. */\n",
       "                background-size: auto;\n",
       "            }\n",
       "            .progress-bar-interrupted, .progress-bar-interrupted::-webkit-progress-bar {\n",
       "                background: #F44336;\n",
       "            }\n",
       "        </style>\n",
       "      <progress value='8000' class='' max='8000' style='width:300px; height:20px; vertical-align: middle;'></progress>\n",
       "      100.00% [8000/8000 01:19<00:00 Sampling 4 chains, 11 divergences]\n",
       "    </div>\n",
       "    "
      ],
      "text/plain": [
       "<IPython.core.display.HTML object>"
      ]
     },
     "metadata": {},
     "output_type": "display_data"
    },
    {
     "name": "stderr",
     "output_type": "stream",
     "text": [
      "Sampling 4 chains for 1_500 tune and 500 draw iterations (6_000 + 2_000 draws total) took 80 seconds.\n",
      "There were 4 divergences after tuning. Increase `target_accept` or reparameterize.\n",
      "There were 2 divergences after tuning. Increase `target_accept` or reparameterize.\n",
      "There were 4 divergences after tuning. Increase `target_accept` or reparameterize.\n",
      "There was 1 divergence after tuning. Increase `target_accept` or reparameterize.\n",
      "The number of effective samples is smaller than 25% for some parameters.\n",
      "Got error No model on context stack. trying to find log_likelihood in translation.\n",
      "Got error No model on context stack. trying to find log_likelihood in translation.\n",
      "Got error No model on context stack. trying to find log_likelihood in translation.\n",
      "Got error No model on context stack. trying to find log_likelihood in translation.\n",
      "Got error No model on context stack. trying to find log_likelihood in translation.\n",
      "Got error No model on context stack. trying to find log_likelihood in translation.\n"
     ]
    },
    {
     "name": "stdout",
     "output_type": "stream",
     "text": [
      "b_shrinkage_log__ -2.28946\n",
      "fixed_b -7.829342\n",
      "ls_log__ -1.1447301\n",
      "var_log__ -1.1447301\n",
      "f_gp_rotated_ -50.541622\n",
      "nu_y_log__ -0.61370564\n",
      "sigma_y_log__ -0.61370564\n"
     ]
    },
    {
     "name": "stderr",
     "output_type": "stream",
     "text": [
      "Initializing NUTS using advi+adapt_diag...\n"
     ]
    },
    {
     "name": "stdout",
     "output_type": "stream",
     "text": [
      "y -268.83643448825353\n"
     ]
    },
    {
     "data": {
      "text/html": [
       "\n",
       "    <div>\n",
       "        <style>\n",
       "            /* Turns off some styling */\n",
       "            progress {\n",
       "                /* gets rid of default border in Firefox and Opera. */\n",
       "                border: none;\n",
       "                /* Needs to be in here for Safari polyfill so background images work as expected. */\n",
       "                background-size: auto;\n",
       "            }\n",
       "            .progress-bar-interrupted, .progress-bar-interrupted::-webkit-progress-bar {\n",
       "                background: #F44336;\n",
       "            }\n",
       "        </style>\n",
       "      <progress value='15252' class='' max='200000' style='width:300px; height:20px; vertical-align: middle;'></progress>\n",
       "      7.63% [15252/200000 00:05<01:05 Average Loss = 188.42]\n",
       "    </div>\n",
       "    "
      ],
      "text/plain": [
       "<IPython.core.display.HTML object>"
      ]
     },
     "metadata": {},
     "output_type": "display_data"
    },
    {
     "name": "stderr",
     "output_type": "stream",
     "text": [
      "Convergence achieved at 15800\n",
      "Interrupted at 15,799 [7%]: Average Loss = 218.43\n",
      "Multiprocess sampling (4 chains in 4 jobs)\n",
      "NUTS: [sigma_y, nu_y, f_gp_rotated_, var, ls, fixed_b, b_shrinkage]\n"
     ]
    },
    {
     "data": {
      "text/html": [
       "\n",
       "    <div>\n",
       "        <style>\n",
       "            /* Turns off some styling */\n",
       "            progress {\n",
       "                /* gets rid of default border in Firefox and Opera. */\n",
       "                border: none;\n",
       "                /* Needs to be in here for Safari polyfill so background images work as expected. */\n",
       "                background-size: auto;\n",
       "            }\n",
       "            .progress-bar-interrupted, .progress-bar-interrupted::-webkit-progress-bar {\n",
       "                background: #F44336;\n",
       "            }\n",
       "        </style>\n",
       "      <progress value='8000' class='' max='8000' style='width:300px; height:20px; vertical-align: middle;'></progress>\n",
       "      100.00% [8000/8000 01:04<00:00 Sampling 4 chains, 12 divergences]\n",
       "    </div>\n",
       "    "
      ],
      "text/plain": [
       "<IPython.core.display.HTML object>"
      ]
     },
     "metadata": {},
     "output_type": "display_data"
    },
    {
     "name": "stderr",
     "output_type": "stream",
     "text": [
      "Sampling 4 chains for 1_500 tune and 500 draw iterations (6_000 + 2_000 draws total) took 65 seconds.\n",
      "There were 3 divergences after tuning. Increase `target_accept` or reparameterize.\n",
      "There were 4 divergences after tuning. Increase `target_accept` or reparameterize.\n",
      "There were 5 divergences after tuning. Increase `target_accept` or reparameterize.\n",
      "The number of effective samples is smaller than 25% for some parameters.\n",
      "Got error No model on context stack. trying to find log_likelihood in translation.\n",
      "Got error No model on context stack. trying to find log_likelihood in translation.\n",
      "Got error No model on context stack. trying to find log_likelihood in translation.\n",
      "Got error No model on context stack. trying to find log_likelihood in translation.\n",
      "Got error No model on context stack. trying to find log_likelihood in translation.\n",
      "Got error No model on context stack. trying to find log_likelihood in translation.\n"
     ]
    },
    {
     "name": "stdout",
     "output_type": "stream",
     "text": [
      "\u001b[94mOCD x Acute_Upper_Respiratory_Infection\u001b[0m\n",
      "ss_log__ -1.1447301\n",
      "shift -2.3025851\n",
      "b_shrinkage_log__ -2.28946\n",
      "fixed_b -7.829342\n",
      "ls_log__ -1.1447301\n",
      "var_log__ -1.1447301\n",
      "f_gp_rotated_ -51.46056\n",
      "nu_y_log__ -0.61370564\n",
      "sigma_y_log__ -0.61370564\n"
     ]
    },
    {
     "name": "stderr",
     "output_type": "stream",
     "text": [
      "Initializing NUTS using advi+adapt_diag...\n"
     ]
    },
    {
     "name": "stdout",
     "output_type": "stream",
     "text": [
      "y -353.34090859461696\n"
     ]
    },
    {
     "data": {
      "text/html": [
       "\n",
       "    <div>\n",
       "        <style>\n",
       "            /* Turns off some styling */\n",
       "            progress {\n",
       "                /* gets rid of default border in Firefox and Opera. */\n",
       "                border: none;\n",
       "                /* Needs to be in here for Safari polyfill so background images work as expected. */\n",
       "                background-size: auto;\n",
       "            }\n",
       "            .progress-bar-interrupted, .progress-bar-interrupted::-webkit-progress-bar {\n",
       "                background: #F44336;\n",
       "            }\n",
       "        </style>\n",
       "      <progress value='16105' class='' max='200000' style='width:300px; height:20px; vertical-align: middle;'></progress>\n",
       "      8.05% [16105/200000 00:06<01:08 Average Loss = 226.66]\n",
       "    </div>\n",
       "    "
      ],
      "text/plain": [
       "<IPython.core.display.HTML object>"
      ]
     },
     "metadata": {},
     "output_type": "display_data"
    },
    {
     "name": "stderr",
     "output_type": "stream",
     "text": [
      "Convergence achieved at 16400\n",
      "Interrupted at 16,399 [8%]: Average Loss = 257.38\n",
      "Multiprocess sampling (4 chains in 4 jobs)\n",
      "NUTS: [sigma_y, nu_y, f_gp_rotated_, var, ls, fixed_b, b_shrinkage, shift, ss]\n"
     ]
    },
    {
     "data": {
      "text/html": [
       "\n",
       "    <div>\n",
       "        <style>\n",
       "            /* Turns off some styling */\n",
       "            progress {\n",
       "                /* gets rid of default border in Firefox and Opera. */\n",
       "                border: none;\n",
       "                /* Needs to be in here for Safari polyfill so background images work as expected. */\n",
       "                background-size: auto;\n",
       "            }\n",
       "            .progress-bar-interrupted, .progress-bar-interrupted::-webkit-progress-bar {\n",
       "                background: #F44336;\n",
       "            }\n",
       "        </style>\n",
       "      <progress value='8000' class='' max='8000' style='width:300px; height:20px; vertical-align: middle;'></progress>\n",
       "      100.00% [8000/8000 02:36<00:00 Sampling 4 chains, 1 divergences]\n",
       "    </div>\n",
       "    "
      ],
      "text/plain": [
       "<IPython.core.display.HTML object>"
      ]
     },
     "metadata": {},
     "output_type": "display_data"
    },
    {
     "name": "stderr",
     "output_type": "stream",
     "text": [
      "Sampling 4 chains for 1_500 tune and 500 draw iterations (6_000 + 2_000 draws total) took 157 seconds.\n",
      "There was 1 divergence after tuning. Increase `target_accept` or reparameterize.\n",
      "The number of effective samples is smaller than 25% for some parameters.\n",
      "Got error No model on context stack. trying to find log_likelihood in translation.\n",
      "Got error No model on context stack. trying to find log_likelihood in translation.\n",
      "Got error No model on context stack. trying to find log_likelihood in translation.\n",
      "Got error No model on context stack. trying to find log_likelihood in translation.\n",
      "Got error No model on context stack. trying to find log_likelihood in translation.\n",
      "Got error No model on context stack. trying to find log_likelihood in translation.\n"
     ]
    },
    {
     "name": "stdout",
     "output_type": "stream",
     "text": [
      "b_shrinkage_log__ -2.28946\n",
      "fixed_b -7.829342\n",
      "ls_log__ -1.1447301\n",
      "var_log__ -1.1447301\n",
      "f_gp_rotated_ -51.46056\n",
      "nu_y_log__ -0.61370564\n",
      "sigma_y_log__ -0.61370564\n"
     ]
    },
    {
     "name": "stderr",
     "output_type": "stream",
     "text": [
      "Initializing NUTS using advi+adapt_diag...\n"
     ]
    },
    {
     "name": "stdout",
     "output_type": "stream",
     "text": [
      "y -353.34090859461696\n"
     ]
    },
    {
     "data": {
      "text/html": [
       "\n",
       "    <div>\n",
       "        <style>\n",
       "            /* Turns off some styling */\n",
       "            progress {\n",
       "                /* gets rid of default border in Firefox and Opera. */\n",
       "                border: none;\n",
       "                /* Needs to be in here for Safari polyfill so background images work as expected. */\n",
       "                background-size: auto;\n",
       "            }\n",
       "            .progress-bar-interrupted, .progress-bar-interrupted::-webkit-progress-bar {\n",
       "                background: #F44336;\n",
       "            }\n",
       "        </style>\n",
       "      <progress value='17119' class='' max='200000' style='width:300px; height:20px; vertical-align: middle;'></progress>\n",
       "      8.56% [17119/200000 00:06<01:06 Average Loss = 225.35]\n",
       "    </div>\n",
       "    "
      ],
      "text/plain": [
       "<IPython.core.display.HTML object>"
      ]
     },
     "metadata": {},
     "output_type": "display_data"
    },
    {
     "name": "stderr",
     "output_type": "stream",
     "text": [
      "Convergence achieved at 17600\n",
      "Interrupted at 17,599 [8%]: Average Loss = 255.5\n",
      "Multiprocess sampling (4 chains in 4 jobs)\n",
      "NUTS: [sigma_y, nu_y, f_gp_rotated_, var, ls, fixed_b, b_shrinkage]\n"
     ]
    },
    {
     "data": {
      "text/html": [
       "\n",
       "    <div>\n",
       "        <style>\n",
       "            /* Turns off some styling */\n",
       "            progress {\n",
       "                /* gets rid of default border in Firefox and Opera. */\n",
       "                border: none;\n",
       "                /* Needs to be in here for Safari polyfill so background images work as expected. */\n",
       "                background-size: auto;\n",
       "            }\n",
       "            .progress-bar-interrupted, .progress-bar-interrupted::-webkit-progress-bar {\n",
       "                background: #F44336;\n",
       "            }\n",
       "        </style>\n",
       "      <progress value='8000' class='' max='8000' style='width:300px; height:20px; vertical-align: middle;'></progress>\n",
       "      100.00% [8000/8000 02:03<00:00 Sampling 4 chains, 4 divergences]\n",
       "    </div>\n",
       "    "
      ],
      "text/plain": [
       "<IPython.core.display.HTML object>"
      ]
     },
     "metadata": {},
     "output_type": "display_data"
    },
    {
     "name": "stderr",
     "output_type": "stream",
     "text": [
      "Sampling 4 chains for 1_500 tune and 500 draw iterations (6_000 + 2_000 draws total) took 124 seconds.\n",
      "There was 1 divergence after tuning. Increase `target_accept` or reparameterize.\n",
      "There were 3 divergences after tuning. Increase `target_accept` or reparameterize.\n",
      "The estimated number of effective samples is smaller than 200 for some parameters.\n",
      "Got error No model on context stack. trying to find log_likelihood in translation.\n",
      "Got error No model on context stack. trying to find log_likelihood in translation.\n",
      "Got error No model on context stack. trying to find log_likelihood in translation.\n",
      "Got error No model on context stack. trying to find log_likelihood in translation.\n",
      "Got error No model on context stack. trying to find log_likelihood in translation.\n",
      "Got error No model on context stack. trying to find log_likelihood in translation.\n"
     ]
    },
    {
     "name": "stdout",
     "output_type": "stream",
     "text": [
      "\u001b[94mOCD x Addisons_Disease\u001b[0m\n",
      "\u001b[94mOCD x Adjustment_Disorder\u001b[0m\n",
      "ss_log__ -1.1447301\n",
      "shift -2.3025851\n",
      "b_shrinkage_log__ -2.28946\n",
      "fixed_b -7.829342\n",
      "ls_log__ -1.1447301\n",
      "var_log__ -1.1447301\n",
      "f_gp_rotated_ -32.16285\n",
      "nu_y_log__ -0.61370564\n",
      "sigma_y_log__ -0.61370564\n"
     ]
    },
    {
     "name": "stderr",
     "output_type": "stream",
     "text": [
      "Initializing NUTS using advi+adapt_diag...\n"
     ]
    },
    {
     "name": "stdout",
     "output_type": "stream",
     "text": [
      "y -118.95555155817516\n"
     ]
    },
    {
     "data": {
      "text/html": [
       "\n",
       "    <div>\n",
       "        <style>\n",
       "            /* Turns off some styling */\n",
       "            progress {\n",
       "                /* gets rid of default border in Firefox and Opera. */\n",
       "                border: none;\n",
       "                /* Needs to be in here for Safari polyfill so background images work as expected. */\n",
       "                background-size: auto;\n",
       "            }\n",
       "            .progress-bar-interrupted, .progress-bar-interrupted::-webkit-progress-bar {\n",
       "                background: #F44336;\n",
       "            }\n",
       "        </style>\n",
       "      <progress value='14739' class='' max='200000' style='width:300px; height:20px; vertical-align: middle;'></progress>\n",
       "      7.37% [14739/200000 00:04<00:58 Average Loss = 116.29]\n",
       "    </div>\n",
       "    "
      ],
      "text/plain": [
       "<IPython.core.display.HTML object>"
      ]
     },
     "metadata": {},
     "output_type": "display_data"
    },
    {
     "name": "stderr",
     "output_type": "stream",
     "text": [
      "Convergence achieved at 15300\n",
      "Interrupted at 15,299 [7%]: Average Loss = 128.59\n",
      "Multiprocess sampling (4 chains in 4 jobs)\n",
      "NUTS: [sigma_y, nu_y, f_gp_rotated_, var, ls, fixed_b, b_shrinkage, shift, ss]\n"
     ]
    },
    {
     "data": {
      "text/html": [
       "\n",
       "    <div>\n",
       "        <style>\n",
       "            /* Turns off some styling */\n",
       "            progress {\n",
       "                /* gets rid of default border in Firefox and Opera. */\n",
       "                border: none;\n",
       "                /* Needs to be in here for Safari polyfill so background images work as expected. */\n",
       "                background-size: auto;\n",
       "            }\n",
       "            .progress-bar-interrupted, .progress-bar-interrupted::-webkit-progress-bar {\n",
       "                background: #F44336;\n",
       "            }\n",
       "        </style>\n",
       "      <progress value='8000' class='' max='8000' style='width:300px; height:20px; vertical-align: middle;'></progress>\n",
       "      100.00% [8000/8000 01:08<00:00 Sampling 4 chains, 10 divergences]\n",
       "    </div>\n",
       "    "
      ],
      "text/plain": [
       "<IPython.core.display.HTML object>"
      ]
     },
     "metadata": {},
     "output_type": "display_data"
    },
    {
     "name": "stderr",
     "output_type": "stream",
     "text": [
      "Sampling 4 chains for 1_500 tune and 500 draw iterations (6_000 + 2_000 draws total) took 69 seconds.\n",
      "There were 6 divergences after tuning. Increase `target_accept` or reparameterize.\n",
      "There were 3 divergences after tuning. Increase `target_accept` or reparameterize.\n",
      "There was 1 divergence after tuning. Increase `target_accept` or reparameterize.\n",
      "The number of effective samples is smaller than 25% for some parameters.\n",
      "Got error No model on context stack. trying to find log_likelihood in translation.\n",
      "Got error No model on context stack. trying to find log_likelihood in translation.\n",
      "Got error No model on context stack. trying to find log_likelihood in translation.\n",
      "Got error No model on context stack. trying to find log_likelihood in translation.\n",
      "Got error No model on context stack. trying to find log_likelihood in translation.\n",
      "Got error No model on context stack. trying to find log_likelihood in translation.\n"
     ]
    },
    {
     "name": "stdout",
     "output_type": "stream",
     "text": [
      "b_shrinkage_log__ -2.28946\n",
      "fixed_b -7.829342\n",
      "ls_log__ -1.1447301\n",
      "var_log__ -1.1447301\n",
      "f_gp_rotated_ -32.16285\n",
      "nu_y_log__ -0.61370564\n",
      "sigma_y_log__ -0.61370564\n"
     ]
    },
    {
     "name": "stderr",
     "output_type": "stream",
     "text": [
      "Initializing NUTS using advi+adapt_diag...\n"
     ]
    },
    {
     "name": "stdout",
     "output_type": "stream",
     "text": [
      "y -118.95555155817516\n"
     ]
    },
    {
     "data": {
      "text/html": [
       "\n",
       "    <div>\n",
       "        <style>\n",
       "            /* Turns off some styling */\n",
       "            progress {\n",
       "                /* gets rid of default border in Firefox and Opera. */\n",
       "                border: none;\n",
       "                /* Needs to be in here for Safari polyfill so background images work as expected. */\n",
       "                background-size: auto;\n",
       "            }\n",
       "            .progress-bar-interrupted, .progress-bar-interrupted::-webkit-progress-bar {\n",
       "                background: #F44336;\n",
       "            }\n",
       "        </style>\n",
       "      <progress value='15573' class='' max='200000' style='width:300px; height:20px; vertical-align: middle;'></progress>\n",
       "      7.79% [15573/200000 00:04<00:54 Average Loss = 113.73]\n",
       "    </div>\n",
       "    "
      ],
      "text/plain": [
       "<IPython.core.display.HTML object>"
      ]
     },
     "metadata": {},
     "output_type": "display_data"
    },
    {
     "name": "stderr",
     "output_type": "stream",
     "text": [
      "Convergence achieved at 16100\n",
      "Interrupted at 16,099 [8%]: Average Loss = 127.07\n",
      "Multiprocess sampling (4 chains in 4 jobs)\n",
      "NUTS: [sigma_y, nu_y, f_gp_rotated_, var, ls, fixed_b, b_shrinkage]\n"
     ]
    },
    {
     "data": {
      "text/html": [
       "\n",
       "    <div>\n",
       "        <style>\n",
       "            /* Turns off some styling */\n",
       "            progress {\n",
       "                /* gets rid of default border in Firefox and Opera. */\n",
       "                border: none;\n",
       "                /* Needs to be in here for Safari polyfill so background images work as expected. */\n",
       "                background-size: auto;\n",
       "            }\n",
       "            .progress-bar-interrupted, .progress-bar-interrupted::-webkit-progress-bar {\n",
       "                background: #F44336;\n",
       "            }\n",
       "        </style>\n",
       "      <progress value='8000' class='' max='8000' style='width:300px; height:20px; vertical-align: middle;'></progress>\n",
       "      100.00% [8000/8000 00:44<00:00 Sampling 4 chains, 1 divergences]\n",
       "    </div>\n",
       "    "
      ],
      "text/plain": [
       "<IPython.core.display.HTML object>"
      ]
     },
     "metadata": {},
     "output_type": "display_data"
    },
    {
     "name": "stderr",
     "output_type": "stream",
     "text": [
      "Sampling 4 chains for 1_500 tune and 500 draw iterations (6_000 + 2_000 draws total) took 45 seconds.\n",
      "There was 1 divergence after tuning. Increase `target_accept` or reparameterize.\n",
      "The number of effective samples is smaller than 25% for some parameters.\n",
      "Got error No model on context stack. trying to find log_likelihood in translation.\n",
      "Got error No model on context stack. trying to find log_likelihood in translation.\n",
      "Got error No model on context stack. trying to find log_likelihood in translation.\n",
      "Got error No model on context stack. trying to find log_likelihood in translation.\n",
      "Got error No model on context stack. trying to find log_likelihood in translation.\n",
      "Got error No model on context stack. trying to find log_likelihood in translation.\n"
     ]
    },
    {
     "name": "stdout",
     "output_type": "stream",
     "text": [
      "\u001b[94mOCD x Adrenogenital_Disorder\u001b[0m\n",
      "\u001b[94mOCD x Allergic_Rhinitis\u001b[0m\n",
      "ss_log__ -1.1447301\n",
      "shift -2.3025851\n",
      "b_shrinkage_log__ -2.28946\n",
      "fixed_b -7.829342\n",
      "ls_log__ -1.1447301\n",
      "var_log__ -1.1447301\n",
      "f_gp_rotated_ -55.136314\n",
      "nu_y_log__ -0.61370564\n",
      "sigma_y_log__ -0.61370564\n"
     ]
    },
    {
     "name": "stderr",
     "output_type": "stream",
     "text": [
      "Initializing NUTS using advi+adapt_diag...\n"
     ]
    },
    {
     "name": "stdout",
     "output_type": "stream",
     "text": [
      "y -270.6478811377128\n"
     ]
    },
    {
     "data": {
      "text/html": [
       "\n",
       "    <div>\n",
       "        <style>\n",
       "            /* Turns off some styling */\n",
       "            progress {\n",
       "                /* gets rid of default border in Firefox and Opera. */\n",
       "                border: none;\n",
       "                /* Needs to be in here for Safari polyfill so background images work as expected. */\n",
       "                background-size: auto;\n",
       "            }\n",
       "            .progress-bar-interrupted, .progress-bar-interrupted::-webkit-progress-bar {\n",
       "                background: #F44336;\n",
       "            }\n",
       "        </style>\n",
       "      <progress value='15993' class='' max='200000' style='width:300px; height:20px; vertical-align: middle;'></progress>\n",
       "      8.00% [15993/200000 00:06<01:11 Average Loss = 198.37]\n",
       "    </div>\n",
       "    "
      ],
      "text/plain": [
       "<IPython.core.display.HTML object>"
      ]
     },
     "metadata": {},
     "output_type": "display_data"
    },
    {
     "name": "stderr",
     "output_type": "stream",
     "text": [
      "Convergence achieved at 16200\n",
      "Interrupted at 16,199 [8%]: Average Loss = 234.23\n",
      "Multiprocess sampling (4 chains in 4 jobs)\n",
      "NUTS: [sigma_y, nu_y, f_gp_rotated_, var, ls, fixed_b, b_shrinkage, shift, ss]\n"
     ]
    },
    {
     "data": {
      "text/html": [
       "\n",
       "    <div>\n",
       "        <style>\n",
       "            /* Turns off some styling */\n",
       "            progress {\n",
       "                /* gets rid of default border in Firefox and Opera. */\n",
       "                border: none;\n",
       "                /* Needs to be in here for Safari polyfill so background images work as expected. */\n",
       "                background-size: auto;\n",
       "            }\n",
       "            .progress-bar-interrupted, .progress-bar-interrupted::-webkit-progress-bar {\n",
       "                background: #F44336;\n",
       "            }\n",
       "        </style>\n",
       "      <progress value='8000' class='' max='8000' style='width:300px; height:20px; vertical-align: middle;'></progress>\n",
       "      100.00% [8000/8000 01:31<00:00 Sampling 4 chains, 1 divergences]\n",
       "    </div>\n",
       "    "
      ],
      "text/plain": [
       "<IPython.core.display.HTML object>"
      ]
     },
     "metadata": {},
     "output_type": "display_data"
    },
    {
     "name": "stderr",
     "output_type": "stream",
     "text": [
      "Sampling 4 chains for 1_500 tune and 500 draw iterations (6_000 + 2_000 draws total) took 91 seconds.\n",
      "There was 1 divergence after tuning. Increase `target_accept` or reparameterize.\n",
      "The estimated number of effective samples is smaller than 200 for some parameters.\n",
      "Got error No model on context stack. trying to find log_likelihood in translation.\n",
      "Got error No model on context stack. trying to find log_likelihood in translation.\n",
      "Got error No model on context stack. trying to find log_likelihood in translation.\n",
      "Got error No model on context stack. trying to find log_likelihood in translation.\n",
      "Got error No model on context stack. trying to find log_likelihood in translation.\n",
      "Got error No model on context stack. trying to find log_likelihood in translation.\n"
     ]
    },
    {
     "name": "stdout",
     "output_type": "stream",
     "text": [
      "b_shrinkage_log__ -2.28946\n",
      "fixed_b -7.829342\n",
      "ls_log__ -1.1447301\n",
      "var_log__ -1.1447301\n",
      "f_gp_rotated_ -55.136314\n",
      "nu_y_log__ -0.61370564\n",
      "sigma_y_log__ -0.61370564\n"
     ]
    },
    {
     "name": "stderr",
     "output_type": "stream",
     "text": [
      "Initializing NUTS using advi+adapt_diag...\n"
     ]
    },
    {
     "name": "stdout",
     "output_type": "stream",
     "text": [
      "y -270.6478811377128\n"
     ]
    },
    {
     "data": {
      "text/html": [
       "\n",
       "    <div>\n",
       "        <style>\n",
       "            /* Turns off some styling */\n",
       "            progress {\n",
       "                /* gets rid of default border in Firefox and Opera. */\n",
       "                border: none;\n",
       "                /* Needs to be in here for Safari polyfill so background images work as expected. */\n",
       "                background-size: auto;\n",
       "            }\n",
       "            .progress-bar-interrupted, .progress-bar-interrupted::-webkit-progress-bar {\n",
       "                background: #F44336;\n",
       "            }\n",
       "        </style>\n",
       "      <progress value='15932' class='' max='200000' style='width:300px; height:20px; vertical-align: middle;'></progress>\n",
       "      7.97% [15932/200000 00:06<01:09 Average Loss = 199.27]\n",
       "    </div>\n",
       "    "
      ],
      "text/plain": [
       "<IPython.core.display.HTML object>"
      ]
     },
     "metadata": {},
     "output_type": "display_data"
    },
    {
     "name": "stderr",
     "output_type": "stream",
     "text": [
      "Convergence achieved at 16200\n",
      "Interrupted at 16,199 [8%]: Average Loss = 235.57\n",
      "Multiprocess sampling (4 chains in 4 jobs)\n",
      "NUTS: [sigma_y, nu_y, f_gp_rotated_, var, ls, fixed_b, b_shrinkage]\n"
     ]
    },
    {
     "data": {
      "text/html": [
       "\n",
       "    <div>\n",
       "        <style>\n",
       "            /* Turns off some styling */\n",
       "            progress {\n",
       "                /* gets rid of default border in Firefox and Opera. */\n",
       "                border: none;\n",
       "                /* Needs to be in here for Safari polyfill so background images work as expected. */\n",
       "                background-size: auto;\n",
       "            }\n",
       "            .progress-bar-interrupted, .progress-bar-interrupted::-webkit-progress-bar {\n",
       "                background: #F44336;\n",
       "            }\n",
       "        </style>\n",
       "      <progress value='8000' class='' max='8000' style='width:300px; height:20px; vertical-align: middle;'></progress>\n",
       "      100.00% [8000/8000 01:46<00:00 Sampling 4 chains, 0 divergences]\n",
       "    </div>\n",
       "    "
      ],
      "text/plain": [
       "<IPython.core.display.HTML object>"
      ]
     },
     "metadata": {},
     "output_type": "display_data"
    },
    {
     "name": "stderr",
     "output_type": "stream",
     "text": [
      "Sampling 4 chains for 1_500 tune and 500 draw iterations (6_000 + 2_000 draws total) took 107 seconds.\n",
      "The number of effective samples is smaller than 25% for some parameters.\n",
      "Got error No model on context stack. trying to find log_likelihood in translation.\n",
      "Got error No model on context stack. trying to find log_likelihood in translation.\n",
      "Got error No model on context stack. trying to find log_likelihood in translation.\n",
      "Got error No model on context stack. trying to find log_likelihood in translation.\n",
      "Got error No model on context stack. trying to find log_likelihood in translation.\n",
      "Got error No model on context stack. trying to find log_likelihood in translation.\n"
     ]
    },
    {
     "name": "stdout",
     "output_type": "stream",
     "text": [
      "\u001b[94mOCD x Alopecia\u001b[0m\n",
      "\u001b[94mOCD x Alpha-1-Antitrypsin_Deficiency\u001b[0m\n",
      "\u001b[94mOCD x Alveolar_Disease\u001b[0m\n",
      "\u001b[94mOCD x Alzheimers_Disease\u001b[0m\n",
      "\u001b[94mOCD x Amino_Acid_Transport_Disorder\u001b[0m\n",
      "\u001b[94mOCD x Androgen_Insensitivity_Syndrome\u001b[0m\n",
      "\u001b[94mOCD x Aneurysm\u001b[0m\n",
      "\u001b[94mOCD x Aniridia\u001b[0m\n",
      "\u001b[94mOCD x Anophthalmia_Mircopthalmia\u001b[0m\n",
      "\u001b[94mOCD x Anterior_Eye_Anomaly\u001b[0m\n",
      "\u001b[94mOCD x Anxiety_Phobic_Disorder\u001b[0m\n",
      "ss_log__ -1.1447301\n",
      "shift -2.3025851\n",
      "b_shrinkage_log__ -2.28946\n",
      "fixed_b -7.829342\n",
      "ls_log__ -1.1447301\n",
      "var_log__ -1.1447301\n",
      "f_gp_rotated_ -37.676483\n",
      "nu_y_log__ -0.61370564\n",
      "sigma_y_log__ -0.61370564\n"
     ]
    },
    {
     "name": "stderr",
     "output_type": "stream",
     "text": [
      "Initializing NUTS using advi+adapt_diag...\n"
     ]
    },
    {
     "name": "stdout",
     "output_type": "stream",
     "text": [
      "y -167.97199624488576\n"
     ]
    },
    {
     "data": {
      "text/html": [
       "\n",
       "    <div>\n",
       "        <style>\n",
       "            /* Turns off some styling */\n",
       "            progress {\n",
       "                /* gets rid of default border in Firefox and Opera. */\n",
       "                border: none;\n",
       "                /* Needs to be in here for Safari polyfill so background images work as expected. */\n",
       "                background-size: auto;\n",
       "            }\n",
       "            .progress-bar-interrupted, .progress-bar-interrupted::-webkit-progress-bar {\n",
       "                background: #F44336;\n",
       "            }\n",
       "        </style>\n",
       "      <progress value='14644' class='' max='200000' style='width:300px; height:20px; vertical-align: middle;'></progress>\n",
       "      7.32% [14644/200000 00:04<01:01 Average Loss = 155.72]\n",
       "    </div>\n",
       "    "
      ],
      "text/plain": [
       "<IPython.core.display.HTML object>"
      ]
     },
     "metadata": {},
     "output_type": "display_data"
    },
    {
     "name": "stderr",
     "output_type": "stream",
     "text": [
      "Convergence achieved at 14800\n",
      "Interrupted at 14,799 [7%]: Average Loss = 172.56\n",
      "Multiprocess sampling (4 chains in 4 jobs)\n",
      "NUTS: [sigma_y, nu_y, f_gp_rotated_, var, ls, fixed_b, b_shrinkage, shift, ss]\n"
     ]
    },
    {
     "data": {
      "text/html": [
       "\n",
       "    <div>\n",
       "        <style>\n",
       "            /* Turns off some styling */\n",
       "            progress {\n",
       "                /* gets rid of default border in Firefox and Opera. */\n",
       "                border: none;\n",
       "                /* Needs to be in here for Safari polyfill so background images work as expected. */\n",
       "                background-size: auto;\n",
       "            }\n",
       "            .progress-bar-interrupted, .progress-bar-interrupted::-webkit-progress-bar {\n",
       "                background: #F44336;\n",
       "            }\n",
       "        </style>\n",
       "      <progress value='8000' class='' max='8000' style='width:300px; height:20px; vertical-align: middle;'></progress>\n",
       "      100.00% [8000/8000 02:25<00:00 Sampling 4 chains, 1 divergences]\n",
       "    </div>\n",
       "    "
      ],
      "text/plain": [
       "<IPython.core.display.HTML object>"
      ]
     },
     "metadata": {},
     "output_type": "display_data"
    },
    {
     "name": "stderr",
     "output_type": "stream",
     "text": [
      "Sampling 4 chains for 1_500 tune and 500 draw iterations (6_000 + 2_000 draws total) took 146 seconds.\n",
      "There was 1 divergence after tuning. Increase `target_accept` or reparameterize.\n",
      "The number of effective samples is smaller than 25% for some parameters.\n",
      "Got error No model on context stack. trying to find log_likelihood in translation.\n",
      "Got error No model on context stack. trying to find log_likelihood in translation.\n",
      "Got error No model on context stack. trying to find log_likelihood in translation.\n",
      "Got error No model on context stack. trying to find log_likelihood in translation.\n",
      "Got error No model on context stack. trying to find log_likelihood in translation.\n",
      "Got error No model on context stack. trying to find log_likelihood in translation.\n"
     ]
    },
    {
     "name": "stdout",
     "output_type": "stream",
     "text": [
      "b_shrinkage_log__ -2.28946\n",
      "fixed_b -7.829342\n",
      "ls_log__ -1.1447301\n",
      "var_log__ -1.1447301\n",
      "f_gp_rotated_ -37.676483\n",
      "nu_y_log__ -0.61370564\n",
      "sigma_y_log__ -0.61370564\n"
     ]
    },
    {
     "name": "stderr",
     "output_type": "stream",
     "text": [
      "Initializing NUTS using advi+adapt_diag...\n"
     ]
    },
    {
     "name": "stdout",
     "output_type": "stream",
     "text": [
      "y -167.97199624488576\n"
     ]
    },
    {
     "data": {
      "text/html": [
       "\n",
       "    <div>\n",
       "        <style>\n",
       "            /* Turns off some styling */\n",
       "            progress {\n",
       "                /* gets rid of default border in Firefox and Opera. */\n",
       "                border: none;\n",
       "                /* Needs to be in here for Safari polyfill so background images work as expected. */\n",
       "                background-size: auto;\n",
       "            }\n",
       "            .progress-bar-interrupted, .progress-bar-interrupted::-webkit-progress-bar {\n",
       "                background: #F44336;\n",
       "            }\n",
       "        </style>\n",
       "      <progress value='13829' class='' max='200000' style='width:300px; height:20px; vertical-align: middle;'></progress>\n",
       "      6.91% [13829/200000 00:04<00:56 Average Loss = 155.78]\n",
       "    </div>\n",
       "    "
      ],
      "text/plain": [
       "<IPython.core.display.HTML object>"
      ]
     },
     "metadata": {},
     "output_type": "display_data"
    },
    {
     "name": "stderr",
     "output_type": "stream",
     "text": [
      "Convergence achieved at 14400\n",
      "Interrupted at 14,399 [7%]: Average Loss = 172.19\n",
      "Multiprocess sampling (4 chains in 4 jobs)\n",
      "NUTS: [sigma_y, nu_y, f_gp_rotated_, var, ls, fixed_b, b_shrinkage]\n"
     ]
    },
    {
     "data": {
      "text/html": [
       "\n",
       "    <div>\n",
       "        <style>\n",
       "            /* Turns off some styling */\n",
       "            progress {\n",
       "                /* gets rid of default border in Firefox and Opera. */\n",
       "                border: none;\n",
       "                /* Needs to be in here for Safari polyfill so background images work as expected. */\n",
       "                background-size: auto;\n",
       "            }\n",
       "            .progress-bar-interrupted, .progress-bar-interrupted::-webkit-progress-bar {\n",
       "                background: #F44336;\n",
       "            }\n",
       "        </style>\n",
       "      <progress value='8000' class='' max='8000' style='width:300px; height:20px; vertical-align: middle;'></progress>\n",
       "      100.00% [8000/8000 02:18<00:00 Sampling 4 chains, 0 divergences]\n",
       "    </div>\n",
       "    "
      ],
      "text/plain": [
       "<IPython.core.display.HTML object>"
      ]
     },
     "metadata": {},
     "output_type": "display_data"
    },
    {
     "name": "stderr",
     "output_type": "stream",
     "text": [
      "Sampling 4 chains for 1_500 tune and 500 draw iterations (6_000 + 2_000 draws total) took 139 seconds.\n",
      "The number of effective samples is smaller than 25% for some parameters.\n",
      "Got error No model on context stack. trying to find log_likelihood in translation.\n",
      "Got error No model on context stack. trying to find log_likelihood in translation.\n",
      "Got error No model on context stack. trying to find log_likelihood in translation.\n",
      "Got error No model on context stack. trying to find log_likelihood in translation.\n",
      "Got error No model on context stack. trying to find log_likelihood in translation.\n",
      "Got error No model on context stack. trying to find log_likelihood in translation.\n"
     ]
    },
    {
     "name": "stdout",
     "output_type": "stream",
     "text": [
      "\u001b[94mOCD x Aplastic_Anemia\u001b[0m\n",
      "\u001b[94mOCD x Appendiceal_Disease\u001b[0m\n",
      "\u001b[94mOCD x Aromatic_Amino_Acid_Metabolism_Disorder\u001b[0m\n",
      "\u001b[94mOCD x Arterial_Dissection\u001b[0m\n",
      "\u001b[94mOCD x Arterial_Embolism_Thrombosis\u001b[0m\n",
      "\u001b[94mOCD x Arthropod-Borne_Diseases\u001b[0m\n",
      "\u001b[94mOCD x Asthma\u001b[0m\n",
      "ss_log__ -1.1447301\n",
      "shift -2.3025851\n",
      "b_shrinkage_log__ -2.28946\n",
      "fixed_b -7.829342\n",
      "ls_log__ -1.1447301\n",
      "var_log__ -1.1447301\n",
      "f_gp_rotated_ -48.703743\n",
      "nu_y_log__ -0.61370564\n",
      "sigma_y_log__ -0.61370564\n"
     ]
    },
    {
     "name": "stderr",
     "output_type": "stream",
     "text": [
      "Initializing NUTS using advi+adapt_diag...\n"
     ]
    },
    {
     "name": "stdout",
     "output_type": "stream",
     "text": [
      "y -211.7998132111641\n"
     ]
    },
    {
     "data": {
      "text/html": [
       "\n",
       "    <div>\n",
       "        <style>\n",
       "            /* Turns off some styling */\n",
       "            progress {\n",
       "                /* gets rid of default border in Firefox and Opera. */\n",
       "                border: none;\n",
       "                /* Needs to be in here for Safari polyfill so background images work as expected. */\n",
       "                background-size: auto;\n",
       "            }\n",
       "            .progress-bar-interrupted, .progress-bar-interrupted::-webkit-progress-bar {\n",
       "                background: #F44336;\n",
       "            }\n",
       "        </style>\n",
       "      <progress value='15465' class='' max='200000' style='width:300px; height:20px; vertical-align: middle;'></progress>\n",
       "      7.73% [15465/200000 00:05<01:07 Average Loss = 166.15]\n",
       "    </div>\n",
       "    "
      ],
      "text/plain": [
       "<IPython.core.display.HTML object>"
      ]
     },
     "metadata": {},
     "output_type": "display_data"
    },
    {
     "name": "stderr",
     "output_type": "stream",
     "text": [
      "Convergence achieved at 16000\n",
      "Interrupted at 15,999 [7%]: Average Loss = 193.8\n",
      "Multiprocess sampling (4 chains in 4 jobs)\n",
      "NUTS: [sigma_y, nu_y, f_gp_rotated_, var, ls, fixed_b, b_shrinkage, shift, ss]\n"
     ]
    },
    {
     "data": {
      "text/html": [
       "\n",
       "    <div>\n",
       "        <style>\n",
       "            /* Turns off some styling */\n",
       "            progress {\n",
       "                /* gets rid of default border in Firefox and Opera. */\n",
       "                border: none;\n",
       "                /* Needs to be in here for Safari polyfill so background images work as expected. */\n",
       "                background-size: auto;\n",
       "            }\n",
       "            .progress-bar-interrupted, .progress-bar-interrupted::-webkit-progress-bar {\n",
       "                background: #F44336;\n",
       "            }\n",
       "        </style>\n",
       "      <progress value='8000' class='' max='8000' style='width:300px; height:20px; vertical-align: middle;'></progress>\n",
       "      100.00% [8000/8000 01:06<00:00 Sampling 4 chains, 6 divergences]\n",
       "    </div>\n",
       "    "
      ],
      "text/plain": [
       "<IPython.core.display.HTML object>"
      ]
     },
     "metadata": {},
     "output_type": "display_data"
    },
    {
     "name": "stderr",
     "output_type": "stream",
     "text": [
      "Sampling 4 chains for 1_500 tune and 500 draw iterations (6_000 + 2_000 draws total) took 67 seconds.\n",
      "There were 3 divergences after tuning. Increase `target_accept` or reparameterize.\n",
      "There were 2 divergences after tuning. Increase `target_accept` or reparameterize.\n",
      "There was 1 divergence after tuning. Increase `target_accept` or reparameterize.\n",
      "The number of effective samples is smaller than 25% for some parameters.\n",
      "Got error No model on context stack. trying to find log_likelihood in translation.\n",
      "Got error No model on context stack. trying to find log_likelihood in translation.\n",
      "Got error No model on context stack. trying to find log_likelihood in translation.\n",
      "Got error No model on context stack. trying to find log_likelihood in translation.\n",
      "Got error No model on context stack. trying to find log_likelihood in translation.\n",
      "Got error No model on context stack. trying to find log_likelihood in translation.\n"
     ]
    },
    {
     "name": "stdout",
     "output_type": "stream",
     "text": [
      "b_shrinkage_log__ -2.28946\n",
      "fixed_b -7.829342\n",
      "ls_log__ -1.1447301\n",
      "var_log__ -1.1447301\n",
      "f_gp_rotated_ -48.703743\n",
      "nu_y_log__ -0.61370564\n",
      "sigma_y_log__ -0.61370564\n"
     ]
    },
    {
     "name": "stderr",
     "output_type": "stream",
     "text": [
      "Initializing NUTS using advi+adapt_diag...\n"
     ]
    },
    {
     "name": "stdout",
     "output_type": "stream",
     "text": [
      "y -211.7998132111641\n"
     ]
    },
    {
     "data": {
      "text/html": [
       "\n",
       "    <div>\n",
       "        <style>\n",
       "            /* Turns off some styling */\n",
       "            progress {\n",
       "                /* gets rid of default border in Firefox and Opera. */\n",
       "                border: none;\n",
       "                /* Needs to be in here for Safari polyfill so background images work as expected. */\n",
       "                background-size: auto;\n",
       "            }\n",
       "            .progress-bar-interrupted, .progress-bar-interrupted::-webkit-progress-bar {\n",
       "                background: #F44336;\n",
       "            }\n",
       "        </style>\n",
       "      <progress value='16161' class='' max='200000' style='width:300px; height:20px; vertical-align: middle;'></progress>\n",
       "      8.08% [16161/200000 00:05<01:03 Average Loss = 165.19]\n",
       "    </div>\n",
       "    "
      ],
      "text/plain": [
       "<IPython.core.display.HTML object>"
      ]
     },
     "metadata": {},
     "output_type": "display_data"
    },
    {
     "name": "stderr",
     "output_type": "stream",
     "text": [
      "Convergence achieved at 16500\n",
      "Interrupted at 16,499 [8%]: Average Loss = 192.65\n",
      "Multiprocess sampling (4 chains in 4 jobs)\n",
      "NUTS: [sigma_y, nu_y, f_gp_rotated_, var, ls, fixed_b, b_shrinkage]\n"
     ]
    },
    {
     "data": {
      "text/html": [
       "\n",
       "    <div>\n",
       "        <style>\n",
       "            /* Turns off some styling */\n",
       "            progress {\n",
       "                /* gets rid of default border in Firefox and Opera. */\n",
       "                border: none;\n",
       "                /* Needs to be in here for Safari polyfill so background images work as expected. */\n",
       "                background-size: auto;\n",
       "            }\n",
       "            .progress-bar-interrupted, .progress-bar-interrupted::-webkit-progress-bar {\n",
       "                background: #F44336;\n",
       "            }\n",
       "        </style>\n",
       "      <progress value='8000' class='' max='8000' style='width:300px; height:20px; vertical-align: middle;'></progress>\n",
       "      100.00% [8000/8000 00:54<00:00 Sampling 4 chains, 16 divergences]\n",
       "    </div>\n",
       "    "
      ],
      "text/plain": [
       "<IPython.core.display.HTML object>"
      ]
     },
     "metadata": {},
     "output_type": "display_data"
    },
    {
     "name": "stderr",
     "output_type": "stream",
     "text": [
      "Sampling 4 chains for 1_500 tune and 500 draw iterations (6_000 + 2_000 draws total) took 55 seconds.\n",
      "There were 2 divergences after tuning. Increase `target_accept` or reparameterize.\n",
      "There was 1 divergence after tuning. Increase `target_accept` or reparameterize.\n",
      "There were 13 divergences after tuning. Increase `target_accept` or reparameterize.\n",
      "Got error No model on context stack. trying to find log_likelihood in translation.\n",
      "Got error No model on context stack. trying to find log_likelihood in translation.\n",
      "Got error No model on context stack. trying to find log_likelihood in translation.\n",
      "Got error No model on context stack. trying to find log_likelihood in translation.\n",
      "Got error No model on context stack. trying to find log_likelihood in translation.\n",
      "Got error No model on context stack. trying to find log_likelihood in translation.\n"
     ]
    },
    {
     "name": "stdout",
     "output_type": "stream",
     "text": [
      "\u001b[94mOCD x Atherosclerosis\u001b[0m\n",
      "\u001b[94mOCD x Atopic_Contact_Dermatitis\u001b[0m\n",
      "ss_log__ -1.1447301\n",
      "shift -2.3025851\n",
      "b_shrinkage_log__ -2.28946\n",
      "fixed_b -7.829342\n",
      "ls_log__ -1.1447301\n",
      "var_log__ -1.1447301\n",
      "f_gp_rotated_ -52.379498\n",
      "nu_y_log__ -0.61370564\n",
      "sigma_y_log__ -0.61370564\n"
     ]
    },
    {
     "name": "stderr",
     "output_type": "stream",
     "text": [
      "Initializing NUTS using advi+adapt_diag...\n"
     ]
    },
    {
     "name": "stdout",
     "output_type": "stream",
     "text": [
      "y -300.2658627872231\n"
     ]
    },
    {
     "data": {
      "text/html": [
       "\n",
       "    <div>\n",
       "        <style>\n",
       "            /* Turns off some styling */\n",
       "            progress {\n",
       "                /* gets rid of default border in Firefox and Opera. */\n",
       "                border: none;\n",
       "                /* Needs to be in here for Safari polyfill so background images work as expected. */\n",
       "                background-size: auto;\n",
       "            }\n",
       "            .progress-bar-interrupted, .progress-bar-interrupted::-webkit-progress-bar {\n",
       "                background: #F44336;\n",
       "            }\n",
       "        </style>\n",
       "      <progress value='15082' class='' max='200000' style='width:300px; height:20px; vertical-align: middle;'></progress>\n",
       "      7.54% [15082/200000 00:05<01:11 Average Loss = 200.68]\n",
       "    </div>\n",
       "    "
      ],
      "text/plain": [
       "<IPython.core.display.HTML object>"
      ]
     },
     "metadata": {},
     "output_type": "display_data"
    },
    {
     "name": "stderr",
     "output_type": "stream",
     "text": [
      "Convergence achieved at 15300\n",
      "Interrupted at 15,299 [7%]: Average Loss = 235.14\n",
      "Multiprocess sampling (4 chains in 4 jobs)\n",
      "NUTS: [sigma_y, nu_y, f_gp_rotated_, var, ls, fixed_b, b_shrinkage, shift, ss]\n"
     ]
    },
    {
     "data": {
      "text/html": [
       "\n",
       "    <div>\n",
       "        <style>\n",
       "            /* Turns off some styling */\n",
       "            progress {\n",
       "                /* gets rid of default border in Firefox and Opera. */\n",
       "                border: none;\n",
       "                /* Needs to be in here for Safari polyfill so background images work as expected. */\n",
       "                background-size: auto;\n",
       "            }\n",
       "            .progress-bar-interrupted, .progress-bar-interrupted::-webkit-progress-bar {\n",
       "                background: #F44336;\n",
       "            }\n",
       "        </style>\n",
       "      <progress value='8000' class='' max='8000' style='width:300px; height:20px; vertical-align: middle;'></progress>\n",
       "      100.00% [8000/8000 01:49<00:00 Sampling 4 chains, 3 divergences]\n",
       "    </div>\n",
       "    "
      ],
      "text/plain": [
       "<IPython.core.display.HTML object>"
      ]
     },
     "metadata": {},
     "output_type": "display_data"
    },
    {
     "name": "stderr",
     "output_type": "stream",
     "text": [
      "Sampling 4 chains for 1_500 tune and 500 draw iterations (6_000 + 2_000 draws total) took 110 seconds.\n",
      "There were 2 divergences after tuning. Increase `target_accept` or reparameterize.\n",
      "There was 1 divergence after tuning. Increase `target_accept` or reparameterize.\n",
      "The number of effective samples is smaller than 25% for some parameters.\n",
      "Got error No model on context stack. trying to find log_likelihood in translation.\n",
      "Got error No model on context stack. trying to find log_likelihood in translation.\n",
      "Got error No model on context stack. trying to find log_likelihood in translation.\n",
      "Got error No model on context stack. trying to find log_likelihood in translation.\n",
      "Got error No model on context stack. trying to find log_likelihood in translation.\n",
      "Got error No model on context stack. trying to find log_likelihood in translation.\n"
     ]
    },
    {
     "name": "stdout",
     "output_type": "stream",
     "text": [
      "b_shrinkage_log__ -2.28946\n",
      "fixed_b -7.829342\n",
      "ls_log__ -1.1447301\n",
      "var_log__ -1.1447301\n",
      "f_gp_rotated_ -52.379498\n",
      "nu_y_log__ -0.61370564\n",
      "sigma_y_log__ -0.61370564\n"
     ]
    },
    {
     "name": "stderr",
     "output_type": "stream",
     "text": [
      "Initializing NUTS using advi+adapt_diag...\n"
     ]
    },
    {
     "name": "stdout",
     "output_type": "stream",
     "text": [
      "y -300.2658627872231\n"
     ]
    },
    {
     "data": {
      "text/html": [
       "\n",
       "    <div>\n",
       "        <style>\n",
       "            /* Turns off some styling */\n",
       "            progress {\n",
       "                /* gets rid of default border in Firefox and Opera. */\n",
       "                border: none;\n",
       "                /* Needs to be in here for Safari polyfill so background images work as expected. */\n",
       "                background-size: auto;\n",
       "            }\n",
       "            .progress-bar-interrupted, .progress-bar-interrupted::-webkit-progress-bar {\n",
       "                background: #F44336;\n",
       "            }\n",
       "        </style>\n",
       "      <progress value='14553' class='' max='200000' style='width:300px; height:20px; vertical-align: middle;'></progress>\n",
       "      7.28% [14553/200000 00:05<01:09 Average Loss = 201.66]\n",
       "    </div>\n",
       "    "
      ],
      "text/plain": [
       "<IPython.core.display.HTML object>"
      ]
     },
     "metadata": {},
     "output_type": "display_data"
    },
    {
     "name": "stderr",
     "output_type": "stream",
     "text": [
      "Convergence achieved at 14600\n",
      "Interrupted at 14,599 [7%]: Average Loss = 237.61\n",
      "Multiprocess sampling (4 chains in 4 jobs)\n",
      "NUTS: [sigma_y, nu_y, f_gp_rotated_, var, ls, fixed_b, b_shrinkage]\n"
     ]
    },
    {
     "data": {
      "text/html": [
       "\n",
       "    <div>\n",
       "        <style>\n",
       "            /* Turns off some styling */\n",
       "            progress {\n",
       "                /* gets rid of default border in Firefox and Opera. */\n",
       "                border: none;\n",
       "                /* Needs to be in here for Safari polyfill so background images work as expected. */\n",
       "                background-size: auto;\n",
       "            }\n",
       "            .progress-bar-interrupted, .progress-bar-interrupted::-webkit-progress-bar {\n",
       "                background: #F44336;\n",
       "            }\n",
       "        </style>\n",
       "      <progress value='8000' class='' max='8000' style='width:300px; height:20px; vertical-align: middle;'></progress>\n",
       "      100.00% [8000/8000 01:40<00:00 Sampling 4 chains, 4 divergences]\n",
       "    </div>\n",
       "    "
      ],
      "text/plain": [
       "<IPython.core.display.HTML object>"
      ]
     },
     "metadata": {},
     "output_type": "display_data"
    },
    {
     "name": "stderr",
     "output_type": "stream",
     "text": [
      "Sampling 4 chains for 1_500 tune and 500 draw iterations (6_000 + 2_000 draws total) took 101 seconds.\n",
      "There was 1 divergence after tuning. Increase `target_accept` or reparameterize.\n",
      "There was 1 divergence after tuning. Increase `target_accept` or reparameterize.\n",
      "There were 2 divergences after tuning. Increase `target_accept` or reparameterize.\n",
      "Got error No model on context stack. trying to find log_likelihood in translation.\n",
      "Got error No model on context stack. trying to find log_likelihood in translation.\n",
      "Got error No model on context stack. trying to find log_likelihood in translation.\n",
      "Got error No model on context stack. trying to find log_likelihood in translation.\n",
      "Got error No model on context stack. trying to find log_likelihood in translation.\n",
      "Got error No model on context stack. trying to find log_likelihood in translation.\n"
     ]
    },
    {
     "name": "stdout",
     "output_type": "stream",
     "text": [
      "\u001b[94mOCD x Autism\u001b[0m\n",
      "ss_log__ -1.1447301\n",
      "shift -2.3025851\n",
      "b_shrinkage_log__ -2.28946\n",
      "fixed_b -7.829342\n",
      "ls_log__ -1.1447301\n",
      "var_log__ -1.1447301\n",
      "f_gp_rotated_ -30.324972\n",
      "nu_y_log__ -0.61370564\n",
      "sigma_y_log__ -0.61370564\n"
     ]
    },
    {
     "name": "stderr",
     "output_type": "stream",
     "text": [
      "Initializing NUTS using advi+adapt_diag...\n"
     ]
    },
    {
     "name": "stdout",
     "output_type": "stream",
     "text": [
      "y -98.11177652244703\n"
     ]
    },
    {
     "data": {
      "text/html": [
       "\n",
       "    <div>\n",
       "        <style>\n",
       "            /* Turns off some styling */\n",
       "            progress {\n",
       "                /* gets rid of default border in Firefox and Opera. */\n",
       "                border: none;\n",
       "                /* Needs to be in here for Safari polyfill so background images work as expected. */\n",
       "                background-size: auto;\n",
       "            }\n",
       "            .progress-bar-interrupted, .progress-bar-interrupted::-webkit-progress-bar {\n",
       "                background: #F44336;\n",
       "            }\n",
       "        </style>\n",
       "      <progress value='16626' class='' max='200000' style='width:300px; height:20px; vertical-align: middle;'></progress>\n",
       "      8.31% [16626/200000 00:05<00:55 Average Loss = 108.99]\n",
       "    </div>\n",
       "    "
      ],
      "text/plain": [
       "<IPython.core.display.HTML object>"
      ]
     },
     "metadata": {},
     "output_type": "display_data"
    },
    {
     "name": "stderr",
     "output_type": "stream",
     "text": [
      "Convergence achieved at 17100\n",
      "Interrupted at 17,099 [8%]: Average Loss = 113.18\n",
      "Multiprocess sampling (4 chains in 4 jobs)\n",
      "NUTS: [sigma_y, nu_y, f_gp_rotated_, var, ls, fixed_b, b_shrinkage, shift, ss]\n"
     ]
    },
    {
     "data": {
      "text/html": [
       "\n",
       "    <div>\n",
       "        <style>\n",
       "            /* Turns off some styling */\n",
       "            progress {\n",
       "                /* gets rid of default border in Firefox and Opera. */\n",
       "                border: none;\n",
       "                /* Needs to be in here for Safari polyfill so background images work as expected. */\n",
       "                background-size: auto;\n",
       "            }\n",
       "            .progress-bar-interrupted, .progress-bar-interrupted::-webkit-progress-bar {\n",
       "                background: #F44336;\n",
       "            }\n",
       "        </style>\n",
       "      <progress value='8000' class='' max='8000' style='width:300px; height:20px; vertical-align: middle;'></progress>\n",
       "      100.00% [8000/8000 00:51<00:00 Sampling 4 chains, 3 divergences]\n",
       "    </div>\n",
       "    "
      ],
      "text/plain": [
       "<IPython.core.display.HTML object>"
      ]
     },
     "metadata": {},
     "output_type": "display_data"
    },
    {
     "name": "stderr",
     "output_type": "stream",
     "text": [
      "Sampling 4 chains for 1_500 tune and 500 draw iterations (6_000 + 2_000 draws total) took 52 seconds.\n",
      "There were 3 divergences after tuning. Increase `target_accept` or reparameterize.\n",
      "The estimated number of effective samples is smaller than 200 for some parameters.\n",
      "Got error No model on context stack. trying to find log_likelihood in translation.\n",
      "Got error No model on context stack. trying to find log_likelihood in translation.\n",
      "Got error No model on context stack. trying to find log_likelihood in translation.\n",
      "Got error No model on context stack. trying to find log_likelihood in translation.\n",
      "Got error No model on context stack. trying to find log_likelihood in translation.\n",
      "Got error No model on context stack. trying to find log_likelihood in translation.\n"
     ]
    },
    {
     "name": "stdout",
     "output_type": "stream",
     "text": [
      "b_shrinkage_log__ -2.28946\n",
      "fixed_b -7.829342\n",
      "ls_log__ -1.1447301\n",
      "var_log__ -1.1447301\n",
      "f_gp_rotated_ -30.324972\n",
      "nu_y_log__ -0.61370564\n",
      "sigma_y_log__ -0.61370564\n"
     ]
    },
    {
     "name": "stderr",
     "output_type": "stream",
     "text": [
      "Initializing NUTS using advi+adapt_diag...\n"
     ]
    },
    {
     "name": "stdout",
     "output_type": "stream",
     "text": [
      "y -98.11177652244703\n"
     ]
    },
    {
     "data": {
      "text/html": [
       "\n",
       "    <div>\n",
       "        <style>\n",
       "            /* Turns off some styling */\n",
       "            progress {\n",
       "                /* gets rid of default border in Firefox and Opera. */\n",
       "                border: none;\n",
       "                /* Needs to be in here for Safari polyfill so background images work as expected. */\n",
       "                background-size: auto;\n",
       "            }\n",
       "            .progress-bar-interrupted, .progress-bar-interrupted::-webkit-progress-bar {\n",
       "                background: #F44336;\n",
       "            }\n",
       "        </style>\n",
       "      <progress value='16862' class='' max='200000' style='width:300px; height:20px; vertical-align: middle;'></progress>\n",
       "      8.43% [16862/200000 00:04<00:52 Average Loss = 96.082]\n",
       "    </div>\n",
       "    "
      ],
      "text/plain": [
       "<IPython.core.display.HTML object>"
      ]
     },
     "metadata": {},
     "output_type": "display_data"
    },
    {
     "name": "stderr",
     "output_type": "stream",
     "text": [
      "Convergence achieved at 17000\n",
      "Interrupted at 16,999 [8%]: Average Loss = 111.21\n",
      "Multiprocess sampling (4 chains in 4 jobs)\n",
      "NUTS: [sigma_y, nu_y, f_gp_rotated_, var, ls, fixed_b, b_shrinkage]\n"
     ]
    },
    {
     "data": {
      "text/html": [
       "\n",
       "    <div>\n",
       "        <style>\n",
       "            /* Turns off some styling */\n",
       "            progress {\n",
       "                /* gets rid of default border in Firefox and Opera. */\n",
       "                border: none;\n",
       "                /* Needs to be in here for Safari polyfill so background images work as expected. */\n",
       "                background-size: auto;\n",
       "            }\n",
       "            .progress-bar-interrupted, .progress-bar-interrupted::-webkit-progress-bar {\n",
       "                background: #F44336;\n",
       "            }\n",
       "        </style>\n",
       "      <progress value='8000' class='' max='8000' style='width:300px; height:20px; vertical-align: middle;'></progress>\n",
       "      100.00% [8000/8000 00:46<00:00 Sampling 4 chains, 2 divergences]\n",
       "    </div>\n",
       "    "
      ],
      "text/plain": [
       "<IPython.core.display.HTML object>"
      ]
     },
     "metadata": {},
     "output_type": "display_data"
    },
    {
     "name": "stderr",
     "output_type": "stream",
     "text": [
      "Sampling 4 chains for 1_500 tune and 500 draw iterations (6_000 + 2_000 draws total) took 47 seconds.\n",
      "There was 1 divergence after tuning. Increase `target_accept` or reparameterize.\n",
      "There was 1 divergence after tuning. Increase `target_accept` or reparameterize.\n",
      "The estimated number of effective samples is smaller than 200 for some parameters.\n",
      "Got error No model on context stack. trying to find log_likelihood in translation.\n",
      "Got error No model on context stack. trying to find log_likelihood in translation.\n",
      "Got error No model on context stack. trying to find log_likelihood in translation.\n",
      "Got error No model on context stack. trying to find log_likelihood in translation.\n",
      "Got error No model on context stack. trying to find log_likelihood in translation.\n",
      "Got error No model on context stack. trying to find log_likelihood in translation.\n"
     ]
    },
    {
     "name": "stdout",
     "output_type": "stream",
     "text": [
      "\u001b[94mOCD x Autoimmune_Lymphoproliferative_Syndrome\u001b[0m\n",
      "\u001b[94mOCD x Autoimmune_Polyglandular_Disorder\u001b[0m\n",
      "\u001b[94mOCD x Autonomic_System_Disorder\u001b[0m\n",
      "\u001b[94mOCD x Balanced_Translocation\u001b[0m\n",
      "\u001b[94mOCD x Bartters_Syndrome\u001b[0m\n",
      "\u001b[94mOCD x Behcets_Syndrome\u001b[0m\n",
      "\u001b[94mOCD x Benign_Bone_Connective_Tissue_Neoplasm\u001b[0m\n",
      "\u001b[94mOCD x Benign_Breast_Neoplasm\u001b[0m\n",
      "\u001b[94mOCD x Benign_CNS_Neoplasm\u001b[0m\n",
      "\u001b[94mOCD x Benign_Colon_Neoplasm\u001b[0m\n",
      "\u001b[94mOCD x Benign_Digestive_Neoplasm\u001b[0m\n",
      "\u001b[94mOCD x Benign_Endocrine_Neoplasm\u001b[0m\n",
      "\u001b[94mOCD x Benign_Eye_Neoplasm\u001b[0m\n",
      "\u001b[94mOCD x Benign_Female_Genital_Neoplasm\u001b[0m\n",
      "\u001b[94mOCD x Benign_Intrathoracic_Neoplasm\u001b[0m\n",
      "\u001b[94mOCD x Benign_Male_Genital_Neoplasm\u001b[0m\n",
      "\u001b[94mOCD x Benign_Oropharyngeal_Neoplasm\u001b[0m\n",
      "\u001b[94mOCD x Benign_Ovarian_Neoplasm\u001b[0m\n",
      "\u001b[94mOCD x Benign_Prostastic_Hyperplasia\u001b[0m\n",
      "\u001b[94mOCD x Benign_Skin_Neoplasm\u001b[0m\n",
      "\u001b[94mOCD x Benign_Thyroid_Neoplasm\u001b[0m\n",
      "\u001b[94mOCD x Benign_Urinary_Neoplasm\u001b[0m\n",
      "\u001b[94mOCD x Benign_Uterine_Neoplasm\u001b[0m\n",
      "\u001b[94mOCD x Biliary_Tract_Disease\u001b[0m\n",
      "\u001b[94mOCD x Bipolar_Disorder\u001b[0m\n",
      "\u001b[94mOCD x Bladder_Cancer\u001b[0m\n",
      "\u001b[94mOCD x Bladder_Disorder\u001b[0m\n",
      "\u001b[94mOCD x Bone_Cancer\u001b[0m\n",
      "\u001b[94mOCD x Bone_Infection\u001b[0m\n",
      "\u001b[94mOCD x Brain_Cancer\u001b[0m\n",
      "\u001b[94mOCD x Brain_Damage\u001b[0m\n",
      "\u001b[94mOCD x Branched_Chain_Amino_Acid_Metabolism_Disorder\u001b[0m\n",
      "\u001b[94mOCD x Breast_Cancer\u001b[0m\n",
      "\u001b[94mOCD x Breast_Disorder\u001b[0m\n",
      "\u001b[94mOCD x CNS_Cancer\u001b[0m\n",
      "\u001b[94mOCD x CNS_Infection\u001b[0m\n",
      "\u001b[94mOCD x Carbuncle_Furuncle\u001b[0m\n",
      "\u001b[94mOCD x Carcinoid_Syndrome\u001b[0m\n",
      "\u001b[94mOCD x Cardiac_Conduction_Disorder\u001b[0m\n",
      "\u001b[94mOCD x Cardiac_Congenital_Anomaly\u001b[0m\n",
      "\u001b[94mOCD x Cardiac_Dysrhythmia\u001b[0m\n",
      "\u001b[94mOCD x Cardiomyopathy\u001b[0m\n",
      "\u001b[94mOCD x Carditis\u001b[0m\n",
      "\u001b[94mOCD x Carinoid_Neoplasm\u001b[0m\n",
      "\u001b[94mOCD x Cataplexy_Narcolepsy\u001b[0m\n",
      "\u001b[94mOCD x Cataract\u001b[0m\n",
      "\u001b[94mOCD x Cellulitis\u001b[0m\n",
      "ss_log__ -1.1447301\n",
      "shift -2.3025851\n",
      "b_shrinkage_log__ -2.28946\n",
      "fixed_b -7.829342\n",
      "ls_log__ -1.1447301\n",
      "var_log__ -1.1447301\n",
      "f_gp_rotated_ -40.433296\n",
      "nu_y_log__ -0.61370564\n",
      "sigma_y_log__ -0.61370564\n"
     ]
    },
    {
     "name": "stderr",
     "output_type": "stream",
     "text": [
      "Initializing NUTS using advi+adapt_diag...\n"
     ]
    },
    {
     "name": "stdout",
     "output_type": "stream",
     "text": [
      "y -137.9446175577844\n"
     ]
    },
    {
     "data": {
      "text/html": [
       "\n",
       "    <div>\n",
       "        <style>\n",
       "            /* Turns off some styling */\n",
       "            progress {\n",
       "                /* gets rid of default border in Firefox and Opera. */\n",
       "                border: none;\n",
       "                /* Needs to be in here for Safari polyfill so background images work as expected. */\n",
       "                background-size: auto;\n",
       "            }\n",
       "            .progress-bar-interrupted, .progress-bar-interrupted::-webkit-progress-bar {\n",
       "                background: #F44336;\n",
       "            }\n",
       "        </style>\n",
       "      <progress value='15562' class='' max='200000' style='width:300px; height:20px; vertical-align: middle;'></progress>\n",
       "      7.78% [15562/200000 00:05<01:04 Average Loss = 122.98]\n",
       "    </div>\n",
       "    "
      ],
      "text/plain": [
       "<IPython.core.display.HTML object>"
      ]
     },
     "metadata": {},
     "output_type": "display_data"
    },
    {
     "name": "stderr",
     "output_type": "stream",
     "text": [
      "Convergence achieved at 15700\n",
      "Interrupted at 15,699 [7%]: Average Loss = 147.56\n",
      "Multiprocess sampling (4 chains in 4 jobs)\n",
      "NUTS: [sigma_y, nu_y, f_gp_rotated_, var, ls, fixed_b, b_shrinkage, shift, ss]\n"
     ]
    },
    {
     "data": {
      "text/html": [
       "\n",
       "    <div>\n",
       "        <style>\n",
       "            /* Turns off some styling */\n",
       "            progress {\n",
       "                /* gets rid of default border in Firefox and Opera. */\n",
       "                border: none;\n",
       "                /* Needs to be in here for Safari polyfill so background images work as expected. */\n",
       "                background-size: auto;\n",
       "            }\n",
       "            .progress-bar-interrupted, .progress-bar-interrupted::-webkit-progress-bar {\n",
       "                background: #F44336;\n",
       "            }\n",
       "        </style>\n",
       "      <progress value='8000' class='' max='8000' style='width:300px; height:20px; vertical-align: middle;'></progress>\n",
       "      100.00% [8000/8000 00:47<00:00 Sampling 4 chains, 8 divergences]\n",
       "    </div>\n",
       "    "
      ],
      "text/plain": [
       "<IPython.core.display.HTML object>"
      ]
     },
     "metadata": {},
     "output_type": "display_data"
    },
    {
     "name": "stderr",
     "output_type": "stream",
     "text": [
      "Sampling 4 chains for 1_500 tune and 500 draw iterations (6_000 + 2_000 draws total) took 48 seconds.\n",
      "There were 3 divergences after tuning. Increase `target_accept` or reparameterize.\n",
      "There were 3 divergences after tuning. Increase `target_accept` or reparameterize.\n",
      "There were 2 divergences after tuning. Increase `target_accept` or reparameterize.\n",
      "The rhat statistic is larger than 1.05 for some parameters. This indicates slight problems during sampling.\n",
      "The estimated number of effective samples is smaller than 200 for some parameters.\n",
      "Got error No model on context stack. trying to find log_likelihood in translation.\n",
      "Got error No model on context stack. trying to find log_likelihood in translation.\n",
      "Got error No model on context stack. trying to find log_likelihood in translation.\n",
      "Got error No model on context stack. trying to find log_likelihood in translation.\n",
      "Got error No model on context stack. trying to find log_likelihood in translation.\n",
      "Got error No model on context stack. trying to find log_likelihood in translation.\n"
     ]
    },
    {
     "name": "stdout",
     "output_type": "stream",
     "text": [
      "b_shrinkage_log__ -2.28946\n",
      "fixed_b -7.829342\n",
      "ls_log__ -1.1447301\n",
      "var_log__ -1.1447301\n",
      "f_gp_rotated_ -40.433296\n",
      "nu_y_log__ -0.61370564\n",
      "sigma_y_log__ -0.61370564\n"
     ]
    },
    {
     "name": "stderr",
     "output_type": "stream",
     "text": [
      "Initializing NUTS using advi+adapt_diag...\n"
     ]
    },
    {
     "name": "stdout",
     "output_type": "stream",
     "text": [
      "y -137.9446175577844\n"
     ]
    },
    {
     "data": {
      "text/html": [
       "\n",
       "    <div>\n",
       "        <style>\n",
       "            /* Turns off some styling */\n",
       "            progress {\n",
       "                /* gets rid of default border in Firefox and Opera. */\n",
       "                border: none;\n",
       "                /* Needs to be in here for Safari polyfill so background images work as expected. */\n",
       "                background-size: auto;\n",
       "            }\n",
       "            .progress-bar-interrupted, .progress-bar-interrupted::-webkit-progress-bar {\n",
       "                background: #F44336;\n",
       "            }\n",
       "        </style>\n",
       "      <progress value='13818' class='' max='200000' style='width:300px; height:20px; vertical-align: middle;'></progress>\n",
       "      6.91% [13818/200000 00:04<01:01 Average Loss = 125.03]\n",
       "    </div>\n",
       "    "
      ],
      "text/plain": [
       "<IPython.core.display.HTML object>"
      ]
     },
     "metadata": {},
     "output_type": "display_data"
    },
    {
     "name": "stderr",
     "output_type": "stream",
     "text": [
      "Convergence achieved at 14300\n",
      "Interrupted at 14,299 [7%]: Average Loss = 149.36\n",
      "Multiprocess sampling (4 chains in 4 jobs)\n",
      "NUTS: [sigma_y, nu_y, f_gp_rotated_, var, ls, fixed_b, b_shrinkage]\n"
     ]
    },
    {
     "data": {
      "text/html": [
       "\n",
       "    <div>\n",
       "        <style>\n",
       "            /* Turns off some styling */\n",
       "            progress {\n",
       "                /* gets rid of default border in Firefox and Opera. */\n",
       "                border: none;\n",
       "                /* Needs to be in here for Safari polyfill so background images work as expected. */\n",
       "                background-size: auto;\n",
       "            }\n",
       "            .progress-bar-interrupted, .progress-bar-interrupted::-webkit-progress-bar {\n",
       "                background: #F44336;\n",
       "            }\n",
       "        </style>\n",
       "      <progress value='8000' class='' max='8000' style='width:300px; height:20px; vertical-align: middle;'></progress>\n",
       "      100.00% [8000/8000 00:37<00:00 Sampling 4 chains, 13 divergences]\n",
       "    </div>\n",
       "    "
      ],
      "text/plain": [
       "<IPython.core.display.HTML object>"
      ]
     },
     "metadata": {},
     "output_type": "display_data"
    },
    {
     "name": "stderr",
     "output_type": "stream",
     "text": [
      "Sampling 4 chains for 1_500 tune and 500 draw iterations (6_000 + 2_000 draws total) took 37 seconds.\n",
      "There were 5 divergences after tuning. Increase `target_accept` or reparameterize.\n",
      "There were 3 divergences after tuning. Increase `target_accept` or reparameterize.\n",
      "There was 1 divergence after tuning. Increase `target_accept` or reparameterize.\n",
      "There were 4 divergences after tuning. Increase `target_accept` or reparameterize.\n",
      "The number of effective samples is smaller than 25% for some parameters.\n",
      "Got error No model on context stack. trying to find log_likelihood in translation.\n",
      "Got error No model on context stack. trying to find log_likelihood in translation.\n",
      "Got error No model on context stack. trying to find log_likelihood in translation.\n",
      "Got error No model on context stack. trying to find log_likelihood in translation.\n",
      "Got error No model on context stack. trying to find log_likelihood in translation.\n",
      "Got error No model on context stack. trying to find log_likelihood in translation.\n"
     ]
    },
    {
     "name": "stdout",
     "output_type": "stream",
     "text": [
      "\u001b[94mOCD x Cerebral_Cysts\u001b[0m\n",
      "\u001b[94mOCD x Cerebral_Lipidoses\u001b[0m\n",
      "\u001b[94mOCD x Cerebrovascular_Disease\u001b[0m\n",
      "\u001b[94mOCD x Cervical_Cancer\u001b[0m\n",
      "\u001b[94mOCD x Charcot_Marie_Tooth_Disease\u001b[0m\n",
      "\u001b[94mOCD x Childhood_Disintegrative_Disorder\u001b[0m\n",
      "\u001b[94mOCD x Chondrocalcinosis\u001b[0m\n",
      "\u001b[94mOCD x Chondrodystrophy\u001b[0m\n",
      "\u001b[94mOCD x Choroidal_Disorders\u001b[0m\n",
      "\u001b[94mOCD x Chronic_Glomerulonephritis\u001b[0m\n",
      "\u001b[94mOCD x Chronic_Kidney_Disease\u001b[0m\n",
      "\u001b[94mOCD x Chronic_Liver_Disease\u001b[0m\n",
      "\u001b[94mOCD x Chronic_Progressive_External_Ophthalmoplegia\u001b[0m\n",
      "\u001b[94mOCD x Chronic_Pruritus\u001b[0m\n",
      "\u001b[94mOCD x Chronic_Sinusitis\u001b[0m\n",
      "ss_log__ -1.1447301\n",
      "shift -2.3025851\n",
      "b_shrinkage_log__ -2.28946\n",
      "fixed_b -7.829342\n",
      "ls_log__ -1.1447301\n",
      "var_log__ -1.1447301\n",
      "f_gp_rotated_ -41.352238\n",
      "nu_y_log__ -0.61370564\n",
      "sigma_y_log__ -0.61370564\n"
     ]
    },
    {
     "name": "stderr",
     "output_type": "stream",
     "text": [
      "Initializing NUTS using advi+adapt_diag...\n"
     ]
    },
    {
     "name": "stdout",
     "output_type": "stream",
     "text": [
      "y -165.40259690241282\n"
     ]
    },
    {
     "data": {
      "text/html": [
       "\n",
       "    <div>\n",
       "        <style>\n",
       "            /* Turns off some styling */\n",
       "            progress {\n",
       "                /* gets rid of default border in Firefox and Opera. */\n",
       "                border: none;\n",
       "                /* Needs to be in here for Safari polyfill so background images work as expected. */\n",
       "                background-size: auto;\n",
       "            }\n",
       "            .progress-bar-interrupted, .progress-bar-interrupted::-webkit-progress-bar {\n",
       "                background: #F44336;\n",
       "            }\n",
       "        </style>\n",
       "      <progress value='17622' class='' max='200000' style='width:300px; height:20px; vertical-align: middle;'></progress>\n",
       "      8.81% [17622/200000 00:06<01:02 Average Loss = 127.08]\n",
       "    </div>\n",
       "    "
      ],
      "text/plain": [
       "<IPython.core.display.HTML object>"
      ]
     },
     "metadata": {},
     "output_type": "display_data"
    },
    {
     "name": "stderr",
     "output_type": "stream",
     "text": [
      "Convergence achieved at 17800\n",
      "Interrupted at 17,799 [8%]: Average Loss = 150.32\n",
      "Multiprocess sampling (4 chains in 4 jobs)\n",
      "NUTS: [sigma_y, nu_y, f_gp_rotated_, var, ls, fixed_b, b_shrinkage, shift, ss]\n"
     ]
    },
    {
     "data": {
      "text/html": [
       "\n",
       "    <div>\n",
       "        <style>\n",
       "            /* Turns off some styling */\n",
       "            progress {\n",
       "                /* gets rid of default border in Firefox and Opera. */\n",
       "                border: none;\n",
       "                /* Needs to be in here for Safari polyfill so background images work as expected. */\n",
       "                background-size: auto;\n",
       "            }\n",
       "            .progress-bar-interrupted, .progress-bar-interrupted::-webkit-progress-bar {\n",
       "                background: #F44336;\n",
       "            }\n",
       "        </style>\n",
       "      <progress value='8000' class='' max='8000' style='width:300px; height:20px; vertical-align: middle;'></progress>\n",
       "      100.00% [8000/8000 00:48<00:00 Sampling 4 chains, 1 divergences]\n",
       "    </div>\n",
       "    "
      ],
      "text/plain": [
       "<IPython.core.display.HTML object>"
      ]
     },
     "metadata": {},
     "output_type": "display_data"
    },
    {
     "name": "stderr",
     "output_type": "stream",
     "text": [
      "Sampling 4 chains for 1_500 tune and 500 draw iterations (6_000 + 2_000 draws total) took 49 seconds.\n",
      "There was 1 divergence after tuning. Increase `target_accept` or reparameterize.\n",
      "The acceptance probability does not match the target. It is 0.8272410238494736, but should be close to 0.9. Try to increase the number of tuning steps.\n",
      "The estimated number of effective samples is smaller than 200 for some parameters.\n",
      "Got error No model on context stack. trying to find log_likelihood in translation.\n",
      "Got error No model on context stack. trying to find log_likelihood in translation.\n",
      "Got error No model on context stack. trying to find log_likelihood in translation.\n",
      "Got error No model on context stack. trying to find log_likelihood in translation.\n",
      "Got error No model on context stack. trying to find log_likelihood in translation.\n",
      "Got error No model on context stack. trying to find log_likelihood in translation.\n"
     ]
    },
    {
     "name": "stdout",
     "output_type": "stream",
     "text": [
      "b_shrinkage_log__ -2.28946\n",
      "fixed_b -7.829342\n",
      "ls_log__ -1.1447301\n",
      "var_log__ -1.1447301\n",
      "f_gp_rotated_ -41.352238\n",
      "nu_y_log__ -0.61370564\n",
      "sigma_y_log__ -0.61370564\n"
     ]
    },
    {
     "name": "stderr",
     "output_type": "stream",
     "text": [
      "Initializing NUTS using advi+adapt_diag...\n"
     ]
    },
    {
     "name": "stdout",
     "output_type": "stream",
     "text": [
      "y -165.40259690241282\n"
     ]
    },
    {
     "data": {
      "text/html": [
       "\n",
       "    <div>\n",
       "        <style>\n",
       "            /* Turns off some styling */\n",
       "            progress {\n",
       "                /* gets rid of default border in Firefox and Opera. */\n",
       "                border: none;\n",
       "                /* Needs to be in here for Safari polyfill so background images work as expected. */\n",
       "                background-size: auto;\n",
       "            }\n",
       "            .progress-bar-interrupted, .progress-bar-interrupted::-webkit-progress-bar {\n",
       "                background: #F44336;\n",
       "            }\n",
       "        </style>\n",
       "      <progress value='15633' class='' max='200000' style='width:300px; height:20px; vertical-align: middle;'></progress>\n",
       "      7.82% [15633/200000 00:05<00:59 Average Loss = 130.53]\n",
       "    </div>\n",
       "    "
      ],
      "text/plain": [
       "<IPython.core.display.HTML object>"
      ]
     },
     "metadata": {},
     "output_type": "display_data"
    },
    {
     "name": "stderr",
     "output_type": "stream",
     "text": [
      "Convergence achieved at 16000\n",
      "Interrupted at 15,999 [7%]: Average Loss = 153.3\n",
      "Multiprocess sampling (4 chains in 4 jobs)\n",
      "NUTS: [sigma_y, nu_y, f_gp_rotated_, var, ls, fixed_b, b_shrinkage]\n"
     ]
    },
    {
     "data": {
      "text/html": [
       "\n",
       "    <div>\n",
       "        <style>\n",
       "            /* Turns off some styling */\n",
       "            progress {\n",
       "                /* gets rid of default border in Firefox and Opera. */\n",
       "                border: none;\n",
       "                /* Needs to be in here for Safari polyfill so background images work as expected. */\n",
       "                background-size: auto;\n",
       "            }\n",
       "            .progress-bar-interrupted, .progress-bar-interrupted::-webkit-progress-bar {\n",
       "                background: #F44336;\n",
       "            }\n",
       "        </style>\n",
       "      <progress value='8000' class='' max='8000' style='width:300px; height:20px; vertical-align: middle;'></progress>\n",
       "      100.00% [8000/8000 00:49<00:00 Sampling 4 chains, 5 divergences]\n",
       "    </div>\n",
       "    "
      ],
      "text/plain": [
       "<IPython.core.display.HTML object>"
      ]
     },
     "metadata": {},
     "output_type": "display_data"
    },
    {
     "name": "stderr",
     "output_type": "stream",
     "text": [
      "Sampling 4 chains for 1_500 tune and 500 draw iterations (6_000 + 2_000 draws total) took 50 seconds.\n",
      "There were 2 divergences after tuning. Increase `target_accept` or reparameterize.\n",
      "There was 1 divergence after tuning. Increase `target_accept` or reparameterize.\n",
      "There were 2 divergences after tuning. Increase `target_accept` or reparameterize.\n",
      "The number of effective samples is smaller than 25% for some parameters.\n",
      "Got error No model on context stack. trying to find log_likelihood in translation.\n",
      "Got error No model on context stack. trying to find log_likelihood in translation.\n",
      "Got error No model on context stack. trying to find log_likelihood in translation.\n",
      "Got error No model on context stack. trying to find log_likelihood in translation.\n",
      "Got error No model on context stack. trying to find log_likelihood in translation.\n",
      "Got error No model on context stack. trying to find log_likelihood in translation.\n"
     ]
    },
    {
     "name": "stdout",
     "output_type": "stream",
     "text": [
      "\u001b[94mOCD x Chronic_Tonsillitis_Adenoiditis\u001b[0m\n",
      "ss_log__ -1.1447301\n",
      "shift -2.3025851\n",
      "b_shrinkage_log__ -2.28946\n",
      "fixed_b -7.829342\n",
      "ls_log__ -1.1447301\n",
      "var_log__ -1.1447301\n",
      "f_gp_rotated_ -43.190113\n",
      "nu_y_log__ -0.61370564\n",
      "sigma_y_log__ -0.61370564\n"
     ]
    },
    {
     "name": "stderr",
     "output_type": "stream",
     "text": [
      "Initializing NUTS using advi+adapt_diag...\n"
     ]
    },
    {
     "name": "stdout",
     "output_type": "stream",
     "text": [
      "y -176.26264267981182\n"
     ]
    },
    {
     "data": {
      "text/html": [
       "\n",
       "    <div>\n",
       "        <style>\n",
       "            /* Turns off some styling */\n",
       "            progress {\n",
       "                /* gets rid of default border in Firefox and Opera. */\n",
       "                border: none;\n",
       "                /* Needs to be in here for Safari polyfill so background images work as expected. */\n",
       "                background-size: auto;\n",
       "            }\n",
       "            .progress-bar-interrupted, .progress-bar-interrupted::-webkit-progress-bar {\n",
       "                background: #F44336;\n",
       "            }\n",
       "        </style>\n",
       "      <progress value='13967' class='' max='200000' style='width:300px; height:20px; vertical-align: middle;'></progress>\n",
       "      6.98% [13967/200000 00:04<01:04 Average Loss = 146.47]\n",
       "    </div>\n",
       "    "
      ],
      "text/plain": [
       "<IPython.core.display.HTML object>"
      ]
     },
     "metadata": {},
     "output_type": "display_data"
    },
    {
     "name": "stderr",
     "output_type": "stream",
     "text": [
      "Convergence achieved at 14300\n",
      "Interrupted at 14,299 [7%]: Average Loss = 171.32\n",
      "Multiprocess sampling (4 chains in 4 jobs)\n",
      "NUTS: [sigma_y, nu_y, f_gp_rotated_, var, ls, fixed_b, b_shrinkage, shift, ss]\n"
     ]
    },
    {
     "data": {
      "text/html": [
       "\n",
       "    <div>\n",
       "        <style>\n",
       "            /* Turns off some styling */\n",
       "            progress {\n",
       "                /* gets rid of default border in Firefox and Opera. */\n",
       "                border: none;\n",
       "                /* Needs to be in here for Safari polyfill so background images work as expected. */\n",
       "                background-size: auto;\n",
       "            }\n",
       "            .progress-bar-interrupted, .progress-bar-interrupted::-webkit-progress-bar {\n",
       "                background: #F44336;\n",
       "            }\n",
       "        </style>\n",
       "      <progress value='8000' class='' max='8000' style='width:300px; height:20px; vertical-align: middle;'></progress>\n",
       "      100.00% [8000/8000 00:46<00:00 Sampling 4 chains, 28 divergences]\n",
       "    </div>\n",
       "    "
      ],
      "text/plain": [
       "<IPython.core.display.HTML object>"
      ]
     },
     "metadata": {},
     "output_type": "display_data"
    },
    {
     "name": "stderr",
     "output_type": "stream",
     "text": [
      "Sampling 4 chains for 1_500 tune and 500 draw iterations (6_000 + 2_000 draws total) took 47 seconds.\n",
      "There were 10 divergences after tuning. Increase `target_accept` or reparameterize.\n",
      "The acceptance probability does not match the target. It is 0.8074722059712365, but should be close to 0.9. Try to increase the number of tuning steps.\n",
      "There were 9 divergences after tuning. Increase `target_accept` or reparameterize.\n",
      "The acceptance probability does not match the target. It is 0.7666372495183548, but should be close to 0.9. Try to increase the number of tuning steps.\n",
      "There were 8 divergences after tuning. Increase `target_accept` or reparameterize.\n",
      "The acceptance probability does not match the target. It is 0.8318056869094106, but should be close to 0.9. Try to increase the number of tuning steps.\n",
      "There was 1 divergence after tuning. Increase `target_accept` or reparameterize.\n",
      "The estimated number of effective samples is smaller than 200 for some parameters.\n",
      "Got error No model on context stack. trying to find log_likelihood in translation.\n",
      "Got error No model on context stack. trying to find log_likelihood in translation.\n",
      "Got error No model on context stack. trying to find log_likelihood in translation.\n",
      "Got error No model on context stack. trying to find log_likelihood in translation.\n",
      "Got error No model on context stack. trying to find log_likelihood in translation.\n",
      "Got error No model on context stack. trying to find log_likelihood in translation.\n"
     ]
    },
    {
     "name": "stdout",
     "output_type": "stream",
     "text": [
      "b_shrinkage_log__ -2.28946\n",
      "fixed_b -7.829342\n",
      "ls_log__ -1.1447301\n",
      "var_log__ -1.1447301\n",
      "f_gp_rotated_ -43.190113\n",
      "nu_y_log__ -0.61370564\n",
      "sigma_y_log__ -0.61370564\n"
     ]
    },
    {
     "name": "stderr",
     "output_type": "stream",
     "text": [
      "Initializing NUTS using advi+adapt_diag...\n"
     ]
    },
    {
     "name": "stdout",
     "output_type": "stream",
     "text": [
      "y -176.26264267981182\n"
     ]
    },
    {
     "data": {
      "text/html": [
       "\n",
       "    <div>\n",
       "        <style>\n",
       "            /* Turns off some styling */\n",
       "            progress {\n",
       "                /* gets rid of default border in Firefox and Opera. */\n",
       "                border: none;\n",
       "                /* Needs to be in here for Safari polyfill so background images work as expected. */\n",
       "                background-size: auto;\n",
       "            }\n",
       "            .progress-bar-interrupted, .progress-bar-interrupted::-webkit-progress-bar {\n",
       "                background: #F44336;\n",
       "            }\n",
       "        </style>\n",
       "      <progress value='14608' class='' max='200000' style='width:300px; height:20px; vertical-align: middle;'></progress>\n",
       "      7.30% [14608/200000 00:04<01:01 Average Loss = 145.97]\n",
       "    </div>\n",
       "    "
      ],
      "text/plain": [
       "<IPython.core.display.HTML object>"
      ]
     },
     "metadata": {},
     "output_type": "display_data"
    },
    {
     "name": "stderr",
     "output_type": "stream",
     "text": [
      "Convergence achieved at 14900\n",
      "Interrupted at 14,899 [7%]: Average Loss = 169.56\n",
      "Multiprocess sampling (4 chains in 4 jobs)\n",
      "NUTS: [sigma_y, nu_y, f_gp_rotated_, var, ls, fixed_b, b_shrinkage]\n"
     ]
    },
    {
     "data": {
      "text/html": [
       "\n",
       "    <div>\n",
       "        <style>\n",
       "            /* Turns off some styling */\n",
       "            progress {\n",
       "                /* gets rid of default border in Firefox and Opera. */\n",
       "                border: none;\n",
       "                /* Needs to be in here for Safari polyfill so background images work as expected. */\n",
       "                background-size: auto;\n",
       "            }\n",
       "            .progress-bar-interrupted, .progress-bar-interrupted::-webkit-progress-bar {\n",
       "                background: #F44336;\n",
       "            }\n",
       "        </style>\n",
       "      <progress value='8000' class='' max='8000' style='width:300px; height:20px; vertical-align: middle;'></progress>\n",
       "      100.00% [8000/8000 00:44<00:00 Sampling 4 chains, 11 divergences]\n",
       "    </div>\n",
       "    "
      ],
      "text/plain": [
       "<IPython.core.display.HTML object>"
      ]
     },
     "metadata": {},
     "output_type": "display_data"
    },
    {
     "name": "stderr",
     "output_type": "stream",
     "text": [
      "Sampling 4 chains for 1_500 tune and 500 draw iterations (6_000 + 2_000 draws total) took 45 seconds.\n",
      "There were 2 divergences after tuning. Increase `target_accept` or reparameterize.\n",
      "There were 5 divergences after tuning. Increase `target_accept` or reparameterize.\n",
      "There was 1 divergence after tuning. Increase `target_accept` or reparameterize.\n",
      "There were 3 divergences after tuning. Increase `target_accept` or reparameterize.\n",
      "Got error No model on context stack. trying to find log_likelihood in translation.\n",
      "Got error No model on context stack. trying to find log_likelihood in translation.\n",
      "Got error No model on context stack. trying to find log_likelihood in translation.\n",
      "Got error No model on context stack. trying to find log_likelihood in translation.\n",
      "Got error No model on context stack. trying to find log_likelihood in translation.\n",
      "Got error No model on context stack. trying to find log_likelihood in translation.\n"
     ]
    },
    {
     "name": "stdout",
     "output_type": "stream",
     "text": [
      "\u001b[94mOCD x Chronic_Upper_Respiratory_Infection\u001b[0m\n",
      "ss_log__ -1.1447301\n",
      "shift -2.3025851\n",
      "b_shrinkage_log__ -2.28946\n",
      "fixed_b -7.829342\n",
      "ls_log__ -1.1447301\n",
      "var_log__ -1.1447301\n",
      "f_gp_rotated_ -43.190113\n",
      "nu_y_log__ -0.61370564\n",
      "sigma_y_log__ -0.61370564\n"
     ]
    },
    {
     "name": "stderr",
     "output_type": "stream",
     "text": [
      "Initializing NUTS using advi+adapt_diag...\n"
     ]
    },
    {
     "name": "stdout",
     "output_type": "stream",
     "text": [
      "y -148.2759196729077\n"
     ]
    },
    {
     "data": {
      "text/html": [
       "\n",
       "    <div>\n",
       "        <style>\n",
       "            /* Turns off some styling */\n",
       "            progress {\n",
       "                /* gets rid of default border in Firefox and Opera. */\n",
       "                border: none;\n",
       "                /* Needs to be in here for Safari polyfill so background images work as expected. */\n",
       "                background-size: auto;\n",
       "            }\n",
       "            .progress-bar-interrupted, .progress-bar-interrupted::-webkit-progress-bar {\n",
       "                background: #F44336;\n",
       "            }\n",
       "        </style>\n",
       "      <progress value='18044' class='' max='200000' style='width:300px; height:20px; vertical-align: middle;'></progress>\n",
       "      9.02% [18044/200000 00:06<01:02 Average Loss = 129.94]\n",
       "    </div>\n",
       "    "
      ],
      "text/plain": [
       "<IPython.core.display.HTML object>"
      ]
     },
     "metadata": {},
     "output_type": "display_data"
    },
    {
     "name": "stderr",
     "output_type": "stream",
     "text": [
      "Convergence achieved at 18300\n",
      "Interrupted at 18,299 [9%]: Average Loss = 151.95\n",
      "Multiprocess sampling (4 chains in 4 jobs)\n",
      "NUTS: [sigma_y, nu_y, f_gp_rotated_, var, ls, fixed_b, b_shrinkage, shift, ss]\n"
     ]
    },
    {
     "data": {
      "text/html": [
       "\n",
       "    <div>\n",
       "        <style>\n",
       "            /* Turns off some styling */\n",
       "            progress {\n",
       "                /* gets rid of default border in Firefox and Opera. */\n",
       "                border: none;\n",
       "                /* Needs to be in here for Safari polyfill so background images work as expected. */\n",
       "                background-size: auto;\n",
       "            }\n",
       "            .progress-bar-interrupted, .progress-bar-interrupted::-webkit-progress-bar {\n",
       "                background: #F44336;\n",
       "            }\n",
       "        </style>\n",
       "      <progress value='8000' class='' max='8000' style='width:300px; height:20px; vertical-align: middle;'></progress>\n",
       "      100.00% [8000/8000 00:49<00:00 Sampling 4 chains, 15 divergences]\n",
       "    </div>\n",
       "    "
      ],
      "text/plain": [
       "<IPython.core.display.HTML object>"
      ]
     },
     "metadata": {},
     "output_type": "display_data"
    },
    {
     "name": "stderr",
     "output_type": "stream",
     "text": [
      "Sampling 4 chains for 1_500 tune and 500 draw iterations (6_000 + 2_000 draws total) took 50 seconds.\n",
      "There were 9 divergences after tuning. Increase `target_accept` or reparameterize.\n",
      "There were 2 divergences after tuning. Increase `target_accept` or reparameterize.\n",
      "There were 3 divergences after tuning. Increase `target_accept` or reparameterize.\n",
      "There was 1 divergence after tuning. Increase `target_accept` or reparameterize.\n",
      "The rhat statistic is larger than 1.05 for some parameters. This indicates slight problems during sampling.\n",
      "The estimated number of effective samples is smaller than 200 for some parameters.\n",
      "Got error No model on context stack. trying to find log_likelihood in translation.\n",
      "Got error No model on context stack. trying to find log_likelihood in translation.\n",
      "Got error No model on context stack. trying to find log_likelihood in translation.\n",
      "Got error No model on context stack. trying to find log_likelihood in translation.\n",
      "Got error No model on context stack. trying to find log_likelihood in translation.\n",
      "Got error No model on context stack. trying to find log_likelihood in translation.\n"
     ]
    },
    {
     "name": "stdout",
     "output_type": "stream",
     "text": [
      "b_shrinkage_log__ -2.28946\n",
      "fixed_b -7.829342\n",
      "ls_log__ -1.1447301\n",
      "var_log__ -1.1447301\n",
      "f_gp_rotated_ -43.190113\n",
      "nu_y_log__ -0.61370564\n",
      "sigma_y_log__ -0.61370564\n"
     ]
    },
    {
     "name": "stderr",
     "output_type": "stream",
     "text": [
      "Initializing NUTS using advi+adapt_diag...\n"
     ]
    },
    {
     "name": "stdout",
     "output_type": "stream",
     "text": [
      "y -148.2759196729077\n"
     ]
    },
    {
     "data": {
      "text/html": [
       "\n",
       "    <div>\n",
       "        <style>\n",
       "            /* Turns off some styling */\n",
       "            progress {\n",
       "                /* gets rid of default border in Firefox and Opera. */\n",
       "                border: none;\n",
       "                /* Needs to be in here for Safari polyfill so background images work as expected. */\n",
       "                background-size: auto;\n",
       "            }\n",
       "            .progress-bar-interrupted, .progress-bar-interrupted::-webkit-progress-bar {\n",
       "                background: #F44336;\n",
       "            }\n",
       "        </style>\n",
       "      <progress value='16995' class='' max='200000' style='width:300px; height:20px; vertical-align: middle;'></progress>\n",
       "      8.50% [16995/200000 00:05<01:00 Average Loss = 125.57]\n",
       "    </div>\n",
       "    "
      ],
      "text/plain": [
       "<IPython.core.display.HTML object>"
      ]
     },
     "metadata": {},
     "output_type": "display_data"
    },
    {
     "name": "stderr",
     "output_type": "stream",
     "text": [
      "Convergence achieved at 17500\n",
      "Interrupted at 17,499 [8%]: Average Loss = 152.37\n",
      "Multiprocess sampling (4 chains in 4 jobs)\n",
      "NUTS: [sigma_y, nu_y, f_gp_rotated_, var, ls, fixed_b, b_shrinkage]\n"
     ]
    },
    {
     "data": {
      "text/html": [
       "\n",
       "    <div>\n",
       "        <style>\n",
       "            /* Turns off some styling */\n",
       "            progress {\n",
       "                /* gets rid of default border in Firefox and Opera. */\n",
       "                border: none;\n",
       "                /* Needs to be in here for Safari polyfill so background images work as expected. */\n",
       "                background-size: auto;\n",
       "            }\n",
       "            .progress-bar-interrupted, .progress-bar-interrupted::-webkit-progress-bar {\n",
       "                background: #F44336;\n",
       "            }\n",
       "        </style>\n",
       "      <progress value='8000' class='' max='8000' style='width:300px; height:20px; vertical-align: middle;'></progress>\n",
       "      100.00% [8000/8000 00:42<00:00 Sampling 4 chains, 20 divergences]\n",
       "    </div>\n",
       "    "
      ],
      "text/plain": [
       "<IPython.core.display.HTML object>"
      ]
     },
     "metadata": {},
     "output_type": "display_data"
    },
    {
     "name": "stderr",
     "output_type": "stream",
     "text": [
      "Sampling 4 chains for 1_500 tune and 500 draw iterations (6_000 + 2_000 draws total) took 43 seconds.\n",
      "There were 4 divergences after tuning. Increase `target_accept` or reparameterize.\n",
      "There were 8 divergences after tuning. Increase `target_accept` or reparameterize.\n",
      "The acceptance probability does not match the target. It is 0.797911452314568, but should be close to 0.9. Try to increase the number of tuning steps.\n",
      "There were 3 divergences after tuning. Increase `target_accept` or reparameterize.\n",
      "There were 5 divergences after tuning. Increase `target_accept` or reparameterize.\n",
      "The number of effective samples is smaller than 25% for some parameters.\n",
      "Got error No model on context stack. trying to find log_likelihood in translation.\n",
      "Got error No model on context stack. trying to find log_likelihood in translation.\n",
      "Got error No model on context stack. trying to find log_likelihood in translation.\n",
      "Got error No model on context stack. trying to find log_likelihood in translation.\n",
      "Got error No model on context stack. trying to find log_likelihood in translation.\n",
      "Got error No model on context stack. trying to find log_likelihood in translation.\n"
     ]
    },
    {
     "name": "stdout",
     "output_type": "stream",
     "text": [
      "\u001b[94mOCD x Chronic_Venous_Hypertension\u001b[0m\n",
      "\u001b[94mOCD x Circulating_Enzyme_Deficiency\u001b[0m\n",
      "\u001b[94mOCD x Colorectal_Cancer\u001b[0m\n",
      "\u001b[94mOCD x Common_Variable_Immunodeficiency\u001b[0m\n",
      "\u001b[94mOCD x Complex_Regional_Pain_Syndrome\u001b[0m\n",
      "\u001b[94mOCD x Conduct_Disorder\u001b[0m\n",
      "ss_log__ -1.1447301\n",
      "shift -2.3025851\n",
      "b_shrinkage_log__ -2.28946\n",
      "fixed_b -7.829342\n",
      "ls_log__ -1.1447301\n",
      "var_log__ -1.1447301\n",
      "f_gp_rotated_ -37.676483\n",
      "nu_y_log__ -0.61370564\n",
      "sigma_y_log__ -0.61370564\n"
     ]
    },
    {
     "name": "stderr",
     "output_type": "stream",
     "text": [
      "Initializing NUTS using advi+adapt_diag...\n"
     ]
    },
    {
     "name": "stdout",
     "output_type": "stream",
     "text": [
      "y -136.39977410074738\n"
     ]
    },
    {
     "data": {
      "text/html": [
       "\n",
       "    <div>\n",
       "        <style>\n",
       "            /* Turns off some styling */\n",
       "            progress {\n",
       "                /* gets rid of default border in Firefox and Opera. */\n",
       "                border: none;\n",
       "                /* Needs to be in here for Safari polyfill so background images work as expected. */\n",
       "                background-size: auto;\n",
       "            }\n",
       "            .progress-bar-interrupted, .progress-bar-interrupted::-webkit-progress-bar {\n",
       "                background: #F44336;\n",
       "            }\n",
       "        </style>\n",
       "      <progress value='14774' class='' max='200000' style='width:300px; height:20px; vertical-align: middle;'></progress>\n",
       "      7.39% [14774/200000 00:04<01:00 Average Loss = 133.17]\n",
       "    </div>\n",
       "    "
      ],
      "text/plain": [
       "<IPython.core.display.HTML object>"
      ]
     },
     "metadata": {},
     "output_type": "display_data"
    },
    {
     "name": "stderr",
     "output_type": "stream",
     "text": [
      "Convergence achieved at 15100\n",
      "Interrupted at 15,099 [7%]: Average Loss = 152.06\n",
      "Multiprocess sampling (4 chains in 4 jobs)\n",
      "NUTS: [sigma_y, nu_y, f_gp_rotated_, var, ls, fixed_b, b_shrinkage, shift, ss]\n"
     ]
    },
    {
     "data": {
      "text/html": [
       "\n",
       "    <div>\n",
       "        <style>\n",
       "            /* Turns off some styling */\n",
       "            progress {\n",
       "                /* gets rid of default border in Firefox and Opera. */\n",
       "                border: none;\n",
       "                /* Needs to be in here for Safari polyfill so background images work as expected. */\n",
       "                background-size: auto;\n",
       "            }\n",
       "            .progress-bar-interrupted, .progress-bar-interrupted::-webkit-progress-bar {\n",
       "                background: #F44336;\n",
       "            }\n",
       "        </style>\n",
       "      <progress value='8000' class='' max='8000' style='width:300px; height:20px; vertical-align: middle;'></progress>\n",
       "      100.00% [8000/8000 01:14<00:00 Sampling 4 chains, 1 divergences]\n",
       "    </div>\n",
       "    "
      ],
      "text/plain": [
       "<IPython.core.display.HTML object>"
      ]
     },
     "metadata": {},
     "output_type": "display_data"
    },
    {
     "name": "stderr",
     "output_type": "stream",
     "text": [
      "Sampling 4 chains for 1_500 tune and 500 draw iterations (6_000 + 2_000 draws total) took 75 seconds.\n",
      "There was 1 divergence after tuning. Increase `target_accept` or reparameterize.\n",
      "The number of effective samples is smaller than 25% for some parameters.\n",
      "Got error No model on context stack. trying to find log_likelihood in translation.\n",
      "Got error No model on context stack. trying to find log_likelihood in translation.\n",
      "Got error No model on context stack. trying to find log_likelihood in translation.\n",
      "Got error No model on context stack. trying to find log_likelihood in translation.\n",
      "Got error No model on context stack. trying to find log_likelihood in translation.\n",
      "Got error No model on context stack. trying to find log_likelihood in translation.\n"
     ]
    },
    {
     "name": "stdout",
     "output_type": "stream",
     "text": [
      "b_shrinkage_log__ -2.28946\n",
      "fixed_b -7.829342\n",
      "ls_log__ -1.1447301\n",
      "var_log__ -1.1447301\n",
      "f_gp_rotated_ -37.676483\n",
      "nu_y_log__ -0.61370564\n",
      "sigma_y_log__ -0.61370564\n"
     ]
    },
    {
     "name": "stderr",
     "output_type": "stream",
     "text": [
      "Initializing NUTS using advi+adapt_diag...\n"
     ]
    },
    {
     "name": "stdout",
     "output_type": "stream",
     "text": [
      "y -136.39977410074738\n"
     ]
    },
    {
     "data": {
      "text/html": [
       "\n",
       "    <div>\n",
       "        <style>\n",
       "            /* Turns off some styling */\n",
       "            progress {\n",
       "                /* gets rid of default border in Firefox and Opera. */\n",
       "                border: none;\n",
       "                /* Needs to be in here for Safari polyfill so background images work as expected. */\n",
       "                background-size: auto;\n",
       "            }\n",
       "            .progress-bar-interrupted, .progress-bar-interrupted::-webkit-progress-bar {\n",
       "                background: #F44336;\n",
       "            }\n",
       "        </style>\n",
       "      <progress value='15808' class='' max='200000' style='width:300px; height:20px; vertical-align: middle;'></progress>\n",
       "      7.90% [15808/200000 00:05<00:59 Average Loss = 132.2]\n",
       "    </div>\n",
       "    "
      ],
      "text/plain": [
       "<IPython.core.display.HTML object>"
      ]
     },
     "metadata": {},
     "output_type": "display_data"
    },
    {
     "name": "stderr",
     "output_type": "stream",
     "text": [
      "Convergence achieved at 16400\n",
      "Interrupted at 16,399 [8%]: Average Loss = 149.8\n",
      "Multiprocess sampling (4 chains in 4 jobs)\n",
      "NUTS: [sigma_y, nu_y, f_gp_rotated_, var, ls, fixed_b, b_shrinkage]\n"
     ]
    },
    {
     "data": {
      "text/html": [
       "\n",
       "    <div>\n",
       "        <style>\n",
       "            /* Turns off some styling */\n",
       "            progress {\n",
       "                /* gets rid of default border in Firefox and Opera. */\n",
       "                border: none;\n",
       "                /* Needs to be in here for Safari polyfill so background images work as expected. */\n",
       "                background-size: auto;\n",
       "            }\n",
       "            .progress-bar-interrupted, .progress-bar-interrupted::-webkit-progress-bar {\n",
       "                background: #F44336;\n",
       "            }\n",
       "        </style>\n",
       "      <progress value='8000' class='' max='8000' style='width:300px; height:20px; vertical-align: middle;'></progress>\n",
       "      100.00% [8000/8000 01:06<00:00 Sampling 4 chains, 4 divergences]\n",
       "    </div>\n",
       "    "
      ],
      "text/plain": [
       "<IPython.core.display.HTML object>"
      ]
     },
     "metadata": {},
     "output_type": "display_data"
    },
    {
     "name": "stderr",
     "output_type": "stream",
     "text": [
      "Sampling 4 chains for 1_500 tune and 500 draw iterations (6_000 + 2_000 draws total) took 66 seconds.\n",
      "There was 1 divergence after tuning. Increase `target_accept` or reparameterize.\n",
      "There were 2 divergences after tuning. Increase `target_accept` or reparameterize.\n",
      "There was 1 divergence after tuning. Increase `target_accept` or reparameterize.\n",
      "The estimated number of effective samples is smaller than 200 for some parameters.\n",
      "Got error No model on context stack. trying to find log_likelihood in translation.\n",
      "Got error No model on context stack. trying to find log_likelihood in translation.\n",
      "Got error No model on context stack. trying to find log_likelihood in translation.\n",
      "Got error No model on context stack. trying to find log_likelihood in translation.\n",
      "Got error No model on context stack. trying to find log_likelihood in translation.\n",
      "Got error No model on context stack. trying to find log_likelihood in translation.\n"
     ]
    },
    {
     "name": "stdout",
     "output_type": "stream",
     "text": [
      "\u001b[94mOCD x Congenital_Anomaly_of_Skull_Neck\u001b[0m\n",
      "\u001b[94mOCD x Congenital_Aphakia\u001b[0m\n",
      "\u001b[94mOCD x Congenital_Breast_Anomaly\u001b[0m\n",
      "\u001b[94mOCD x Congenital_Ectodermal_Dysplasia\u001b[0m\n",
      "\u001b[94mOCD x Congenital_Hair_Anomaly\u001b[0m\n",
      "\u001b[94mOCD x Congenital_Hypogammaglobulinemia\u001b[0m\n",
      "\u001b[94mOCD x Congenital_Hypothyroidism\u001b[0m\n",
      "\u001b[94mOCD x Congenital_Nail_Anomaly\u001b[0m\n",
      "\u001b[94mOCD x Congenital_Neutropenia\u001b[0m\n",
      "\u001b[94mOCD x Congenital_Pigmentary_Anomaly\u001b[0m\n",
      "\u001b[94mOCD x Congenital_Spine_Anomaly\u001b[0m\n",
      "\u001b[94mOCD x Conjunctival_Disorders\u001b[0m\n",
      "\u001b[94mOCD x Connective_Tissue_Cancer\u001b[0m\n",
      "\u001b[94mOCD x Connective_Tissue_Infection\u001b[0m\n",
      "\u001b[94mOCD x Copper_Metabolism_Disorder\u001b[0m\n",
      "\u001b[94mOCD x Corneal_Disorders\u001b[0m\n",
      "\u001b[94mOCD x Corns_Callosites\u001b[0m\n",
      "\u001b[94mOCD x Cranial_Nerve_Disorder\u001b[0m\n",
      "\u001b[94mOCD x Cri-Du-Chat_Syndrome\u001b[0m\n",
      "\u001b[94mOCD x Crohns_Disease\u001b[0m\n",
      "\u001b[94mOCD x Cushings_Syndrome\u001b[0m\n",
      "\u001b[94mOCD x Other_Corticoadrenal_Disorder\u001b[0m\n",
      "\u001b[94mOCD x Cyclic_Neutropenia\u001b[0m\n",
      "\u001b[94mOCD x Cystic_Fibrosis\u001b[0m\n",
      "\u001b[94mOCD x Cystitis_Urethritis\u001b[0m\n",
      "\u001b[94mOCD x Deep_Vein_Thrombosis\u001b[0m\n",
      "\u001b[94mOCD x Degenerative_Dementia\u001b[0m\n",
      "\u001b[94mOCD x Dejerine_Sottas_Disease\u001b[0m\n",
      "\u001b[94mOCD x Depression\u001b[0m\n",
      "\u001b[94mOCD x Dermatitis_Herpetiformis\u001b[0m\n",
      "\u001b[94mOCD x Dermatomyositis_Polymyositis\u001b[0m\n",
      "\u001b[94mOCD x Developmental_Delay\u001b[0m\n",
      "ss_log__ -1.1447301\n",
      "shift -2.3025851\n",
      "b_shrinkage_log__ -2.28946\n",
      "fixed_b -7.829342\n",
      "ls_log__ -1.1447301\n",
      "var_log__ -1.1447301\n",
      "f_gp_rotated_ -37.676483\n",
      "nu_y_log__ -0.61370564\n",
      "sigma_y_log__ -0.61370564\n"
     ]
    },
    {
     "name": "stderr",
     "output_type": "stream",
     "text": [
      "Initializing NUTS using advi+adapt_diag...\n"
     ]
    },
    {
     "name": "stdout",
     "output_type": "stream",
     "text": [
      "y -121.3996303633209\n"
     ]
    },
    {
     "data": {
      "text/html": [
       "\n",
       "    <div>\n",
       "        <style>\n",
       "            /* Turns off some styling */\n",
       "            progress {\n",
       "                /* gets rid of default border in Firefox and Opera. */\n",
       "                border: none;\n",
       "                /* Needs to be in here for Safari polyfill so background images work as expected. */\n",
       "                background-size: auto;\n",
       "            }\n",
       "            .progress-bar-interrupted, .progress-bar-interrupted::-webkit-progress-bar {\n",
       "                background: #F44336;\n",
       "            }\n",
       "        </style>\n",
       "      <progress value='17200' class='' max='200000' style='width:300px; height:20px; vertical-align: middle;'></progress>\n",
       "      8.60% [17200/200000 00:05<00:59 Average Loss = 119.71]\n",
       "    </div>\n",
       "    "
      ],
      "text/plain": [
       "<IPython.core.display.HTML object>"
      ]
     },
     "metadata": {},
     "output_type": "display_data"
    },
    {
     "name": "stderr",
     "output_type": "stream",
     "text": [
      "Convergence achieved at 17500\n",
      "Interrupted at 17,499 [8%]: Average Loss = 139.75\n",
      "Multiprocess sampling (4 chains in 4 jobs)\n",
      "NUTS: [sigma_y, nu_y, f_gp_rotated_, var, ls, fixed_b, b_shrinkage, shift, ss]\n"
     ]
    },
    {
     "data": {
      "text/html": [
       "\n",
       "    <div>\n",
       "        <style>\n",
       "            /* Turns off some styling */\n",
       "            progress {\n",
       "                /* gets rid of default border in Firefox and Opera. */\n",
       "                border: none;\n",
       "                /* Needs to be in here for Safari polyfill so background images work as expected. */\n",
       "                background-size: auto;\n",
       "            }\n",
       "            .progress-bar-interrupted, .progress-bar-interrupted::-webkit-progress-bar {\n",
       "                background: #F44336;\n",
       "            }\n",
       "        </style>\n",
       "      <progress value='8000' class='' max='8000' style='width:300px; height:20px; vertical-align: middle;'></progress>\n",
       "      100.00% [8000/8000 00:52<00:00 Sampling 4 chains, 7 divergences]\n",
       "    </div>\n",
       "    "
      ],
      "text/plain": [
       "<IPython.core.display.HTML object>"
      ]
     },
     "metadata": {},
     "output_type": "display_data"
    },
    {
     "name": "stderr",
     "output_type": "stream",
     "text": [
      "Sampling 4 chains for 1_500 tune and 500 draw iterations (6_000 + 2_000 draws total) took 53 seconds.\n",
      "There were 7 divergences after tuning. Increase `target_accept` or reparameterize.\n",
      "The rhat statistic is larger than 1.05 for some parameters. This indicates slight problems during sampling.\n",
      "The estimated number of effective samples is smaller than 200 for some parameters.\n",
      "Got error No model on context stack. trying to find log_likelihood in translation.\n",
      "Got error No model on context stack. trying to find log_likelihood in translation.\n",
      "Got error No model on context stack. trying to find log_likelihood in translation.\n",
      "Got error No model on context stack. trying to find log_likelihood in translation.\n",
      "Got error No model on context stack. trying to find log_likelihood in translation.\n",
      "Got error No model on context stack. trying to find log_likelihood in translation.\n"
     ]
    },
    {
     "name": "stdout",
     "output_type": "stream",
     "text": [
      "b_shrinkage_log__ -2.28946\n",
      "fixed_b -7.829342\n",
      "ls_log__ -1.1447301\n",
      "var_log__ -1.1447301\n",
      "f_gp_rotated_ -37.676483\n",
      "nu_y_log__ -0.61370564\n",
      "sigma_y_log__ -0.61370564\n"
     ]
    },
    {
     "name": "stderr",
     "output_type": "stream",
     "text": [
      "Initializing NUTS using advi+adapt_diag...\n"
     ]
    },
    {
     "name": "stdout",
     "output_type": "stream",
     "text": [
      "y -121.3996303633209\n"
     ]
    },
    {
     "data": {
      "text/html": [
       "\n",
       "    <div>\n",
       "        <style>\n",
       "            /* Turns off some styling */\n",
       "            progress {\n",
       "                /* gets rid of default border in Firefox and Opera. */\n",
       "                border: none;\n",
       "                /* Needs to be in here for Safari polyfill so background images work as expected. */\n",
       "                background-size: auto;\n",
       "            }\n",
       "            .progress-bar-interrupted, .progress-bar-interrupted::-webkit-progress-bar {\n",
       "                background: #F44336;\n",
       "            }\n",
       "        </style>\n",
       "      <progress value='17283' class='' max='200000' style='width:300px; height:20px; vertical-align: middle;'></progress>\n",
       "      8.64% [17283/200000 00:05<00:57 Average Loss = 118.09]\n",
       "    </div>\n",
       "    "
      ],
      "text/plain": [
       "<IPython.core.display.HTML object>"
      ]
     },
     "metadata": {},
     "output_type": "display_data"
    },
    {
     "name": "stderr",
     "output_type": "stream",
     "text": [
      "Convergence achieved at 17800\n",
      "Interrupted at 17,799 [8%]: Average Loss = 138.56\n",
      "Multiprocess sampling (4 chains in 4 jobs)\n",
      "NUTS: [sigma_y, nu_y, f_gp_rotated_, var, ls, fixed_b, b_shrinkage]\n"
     ]
    },
    {
     "data": {
      "text/html": [
       "\n",
       "    <div>\n",
       "        <style>\n",
       "            /* Turns off some styling */\n",
       "            progress {\n",
       "                /* gets rid of default border in Firefox and Opera. */\n",
       "                border: none;\n",
       "                /* Needs to be in here for Safari polyfill so background images work as expected. */\n",
       "                background-size: auto;\n",
       "            }\n",
       "            .progress-bar-interrupted, .progress-bar-interrupted::-webkit-progress-bar {\n",
       "                background: #F44336;\n",
       "            }\n",
       "        </style>\n",
       "      <progress value='8000' class='' max='8000' style='width:300px; height:20px; vertical-align: middle;'></progress>\n",
       "      100.00% [8000/8000 00:44<00:00 Sampling 4 chains, 0 divergences]\n",
       "    </div>\n",
       "    "
      ],
      "text/plain": [
       "<IPython.core.display.HTML object>"
      ]
     },
     "metadata": {},
     "output_type": "display_data"
    },
    {
     "name": "stderr",
     "output_type": "stream",
     "text": [
      "Sampling 4 chains for 1_500 tune and 500 draw iterations (6_000 + 2_000 draws total) took 45 seconds.\n",
      "The estimated number of effective samples is smaller than 200 for some parameters.\n",
      "Got error No model on context stack. trying to find log_likelihood in translation.\n",
      "Got error No model on context stack. trying to find log_likelihood in translation.\n",
      "Got error No model on context stack. trying to find log_likelihood in translation.\n",
      "Got error No model on context stack. trying to find log_likelihood in translation.\n",
      "Got error No model on context stack. trying to find log_likelihood in translation.\n",
      "Got error No model on context stack. trying to find log_likelihood in translation.\n"
     ]
    },
    {
     "name": "stdout",
     "output_type": "stream",
     "text": [
      "\u001b[94mOCD x Deviated_Nasal_Septum\u001b[0m\n",
      "\u001b[94mOCD x Diabetes_Insipidus\u001b[0m\n",
      "\u001b[94mOCD x Diamond-Blackfan_Anemia\u001b[0m\n",
      "\u001b[94mOCD x Digeorges_Syndrome\u001b[0m\n",
      "\u001b[94mOCD x Disease_of_the_Female_Reproductive_Organs\u001b[0m\n",
      "\u001b[94mOCD x Disease_of_the_Male_Reproductive_Organs\u001b[0m\n",
      "ss_log__ -1.1447301\n",
      "shift -2.3025851\n",
      "b_shrinkage_log__ -2.28946\n",
      "fixed_b -7.829342\n",
      "ls_log__ -1.1447301\n",
      "var_log__ -1.1447301\n",
      "f_gp_rotated_ -41.352238\n",
      "nu_y_log__ -0.61370564\n",
      "sigma_y_log__ -0.61370564\n"
     ]
    },
    {
     "name": "stderr",
     "output_type": "stream",
     "text": [
      "Initializing NUTS using advi+adapt_diag...\n"
     ]
    },
    {
     "name": "stdout",
     "output_type": "stream",
     "text": [
      "y -132.3300451571985\n"
     ]
    },
    {
     "data": {
      "text/html": [
       "\n",
       "    <div>\n",
       "        <style>\n",
       "            /* Turns off some styling */\n",
       "            progress {\n",
       "                /* gets rid of default border in Firefox and Opera. */\n",
       "                border: none;\n",
       "                /* Needs to be in here for Safari polyfill so background images work as expected. */\n",
       "                background-size: auto;\n",
       "            }\n",
       "            .progress-bar-interrupted, .progress-bar-interrupted::-webkit-progress-bar {\n",
       "                background: #F44336;\n",
       "            }\n",
       "        </style>\n",
       "      <progress value='15758' class='' max='200000' style='width:300px; height:20px; vertical-align: middle;'></progress>\n",
       "      7.88% [15758/200000 00:05<01:01 Average Loss = 121.02]\n",
       "    </div>\n",
       "    "
      ],
      "text/plain": [
       "<IPython.core.display.HTML object>"
      ]
     },
     "metadata": {},
     "output_type": "display_data"
    },
    {
     "name": "stderr",
     "output_type": "stream",
     "text": [
      "Convergence achieved at 16000\n",
      "Interrupted at 15,999 [7%]: Average Loss = 150.33\n",
      "Multiprocess sampling (4 chains in 4 jobs)\n",
      "NUTS: [sigma_y, nu_y, f_gp_rotated_, var, ls, fixed_b, b_shrinkage, shift, ss]\n"
     ]
    },
    {
     "data": {
      "text/html": [
       "\n",
       "    <div>\n",
       "        <style>\n",
       "            /* Turns off some styling */\n",
       "            progress {\n",
       "                /* gets rid of default border in Firefox and Opera. */\n",
       "                border: none;\n",
       "                /* Needs to be in here for Safari polyfill so background images work as expected. */\n",
       "                background-size: auto;\n",
       "            }\n",
       "            .progress-bar-interrupted, .progress-bar-interrupted::-webkit-progress-bar {\n",
       "                background: #F44336;\n",
       "            }\n",
       "        </style>\n",
       "      <progress value='8000' class='' max='8000' style='width:300px; height:20px; vertical-align: middle;'></progress>\n",
       "      100.00% [8000/8000 00:55<00:00 Sampling 4 chains, 22 divergences]\n",
       "    </div>\n",
       "    "
      ],
      "text/plain": [
       "<IPython.core.display.HTML object>"
      ]
     },
     "metadata": {},
     "output_type": "display_data"
    },
    {
     "name": "stderr",
     "output_type": "stream",
     "text": [
      "Sampling 4 chains for 1_500 tune and 500 draw iterations (6_000 + 2_000 draws total) took 56 seconds.\n",
      "There were 14 divergences after tuning. Increase `target_accept` or reparameterize.\n",
      "The acceptance probability does not match the target. It is 0.8218928759413135, but should be close to 0.9. Try to increase the number of tuning steps.\n",
      "There were 3 divergences after tuning. Increase `target_accept` or reparameterize.\n",
      "There was 1 divergence after tuning. Increase `target_accept` or reparameterize.\n",
      "There were 4 divergences after tuning. Increase `target_accept` or reparameterize.\n",
      "The rhat statistic is larger than 1.05 for some parameters. This indicates slight problems during sampling.\n",
      "The estimated number of effective samples is smaller than 200 for some parameters.\n",
      "Got error No model on context stack. trying to find log_likelihood in translation.\n",
      "Got error No model on context stack. trying to find log_likelihood in translation.\n",
      "Got error No model on context stack. trying to find log_likelihood in translation.\n",
      "Got error No model on context stack. trying to find log_likelihood in translation.\n",
      "Got error No model on context stack. trying to find log_likelihood in translation.\n",
      "Got error No model on context stack. trying to find log_likelihood in translation.\n"
     ]
    },
    {
     "name": "stdout",
     "output_type": "stream",
     "text": [
      "b_shrinkage_log__ -2.28946\n",
      "fixed_b -7.829342\n",
      "ls_log__ -1.1447301\n",
      "var_log__ -1.1447301\n",
      "f_gp_rotated_ -41.352238\n",
      "nu_y_log__ -0.61370564\n",
      "sigma_y_log__ -0.61370564\n"
     ]
    },
    {
     "name": "stderr",
     "output_type": "stream",
     "text": [
      "Initializing NUTS using advi+adapt_diag...\n"
     ]
    },
    {
     "name": "stdout",
     "output_type": "stream",
     "text": [
      "y -132.3300451571985\n"
     ]
    },
    {
     "data": {
      "text/html": [
       "\n",
       "    <div>\n",
       "        <style>\n",
       "            /* Turns off some styling */\n",
       "            progress {\n",
       "                /* gets rid of default border in Firefox and Opera. */\n",
       "                border: none;\n",
       "                /* Needs to be in here for Safari polyfill so background images work as expected. */\n",
       "                background-size: auto;\n",
       "            }\n",
       "            .progress-bar-interrupted, .progress-bar-interrupted::-webkit-progress-bar {\n",
       "                background: #F44336;\n",
       "            }\n",
       "        </style>\n",
       "      <progress value='15306' class='' max='200000' style='width:300px; height:20px; vertical-align: middle;'></progress>\n",
       "      7.65% [15306/200000 00:05<01:00 Average Loss = 120.64]\n",
       "    </div>\n",
       "    "
      ],
      "text/plain": [
       "<IPython.core.display.HTML object>"
      ]
     },
     "metadata": {},
     "output_type": "display_data"
    },
    {
     "name": "stderr",
     "output_type": "stream",
     "text": [
      "Convergence achieved at 15800\n",
      "Interrupted at 15,799 [7%]: Average Loss = 149.09\n",
      "Multiprocess sampling (4 chains in 4 jobs)\n",
      "NUTS: [sigma_y, nu_y, f_gp_rotated_, var, ls, fixed_b, b_shrinkage]\n"
     ]
    },
    {
     "data": {
      "text/html": [
       "\n",
       "    <div>\n",
       "        <style>\n",
       "            /* Turns off some styling */\n",
       "            progress {\n",
       "                /* gets rid of default border in Firefox and Opera. */\n",
       "                border: none;\n",
       "                /* Needs to be in here for Safari polyfill so background images work as expected. */\n",
       "                background-size: auto;\n",
       "            }\n",
       "            .progress-bar-interrupted, .progress-bar-interrupted::-webkit-progress-bar {\n",
       "                background: #F44336;\n",
       "            }\n",
       "        </style>\n",
       "      <progress value='8000' class='' max='8000' style='width:300px; height:20px; vertical-align: middle;'></progress>\n",
       "      100.00% [8000/8000 00:44<00:00 Sampling 4 chains, 70 divergences]\n",
       "    </div>\n",
       "    "
      ],
      "text/plain": [
       "<IPython.core.display.HTML object>"
      ]
     },
     "metadata": {},
     "output_type": "display_data"
    },
    {
     "name": "stderr",
     "output_type": "stream",
     "text": [
      "Sampling 4 chains for 1_500 tune and 500 draw iterations (6_000 + 2_000 draws total) took 45 seconds.\n",
      "There were 5 divergences after tuning. Increase `target_accept` or reparameterize.\n",
      "The acceptance probability does not match the target. It is 0.8314165471451777, but should be close to 0.9. Try to increase the number of tuning steps.\n",
      "There were 2 divergences after tuning. Increase `target_accept` or reparameterize.\n",
      "There were 50 divergences after tuning. Increase `target_accept` or reparameterize.\n",
      "The acceptance probability does not match the target. It is 0.8380650436378778, but should be close to 0.9. Try to increase the number of tuning steps.\n",
      "There were 13 divergences after tuning. Increase `target_accept` or reparameterize.\n",
      "The estimated number of effective samples is smaller than 200 for some parameters.\n",
      "Got error No model on context stack. trying to find log_likelihood in translation.\n",
      "Got error No model on context stack. trying to find log_likelihood in translation.\n",
      "Got error No model on context stack. trying to find log_likelihood in translation.\n",
      "Got error No model on context stack. trying to find log_likelihood in translation.\n",
      "Got error No model on context stack. trying to find log_likelihood in translation.\n",
      "Got error No model on context stack. trying to find log_likelihood in translation.\n"
     ]
    },
    {
     "name": "stdout",
     "output_type": "stream",
     "text": [
      "\u001b[94mOCD x Disorder_of_the_Vestibular_System\u001b[0m\n",
      "\u001b[94mOCD x Disorders_of_Fatty_Acid_Oxidation\u001b[0m\n",
      "\u001b[94mOCD x Disorders_of_Iris_Ciliary_Body\u001b[0m\n",
      "\u001b[94mOCD x Disorders_of_Mitochondrial_Metabolism\u001b[0m\n",
      "\u001b[94mOCD x Disorders_of_Straight_Chain_Amino_Acid_Metabolism\u001b[0m\n",
      "\u001b[94mOCD x Disorders_of_Urea_Cycle_Metabolism\u001b[0m\n",
      "\u001b[94mOCD x Dissociative_Disorder\u001b[0m\n",
      "\u001b[94mOCD x Diverticulosis_Diverticulitis\u001b[0m\n",
      "\u001b[94mOCD x Dopa-Responsive_Dystonia\u001b[0m\n",
      "\u001b[94mOCD x Downs_Syndrome\u001b[0m\n",
      "\u001b[94mOCD x Dwarfism_of_Unknown_Etiology\u001b[0m\n",
      "\u001b[94mOCD x Dyschromia\u001b[0m\n",
      "\u001b[94mOCD x Ear_Infection\u001b[0m\n",
      "ss_log__ -1.1447301\n",
      "shift -2.3025851\n",
      "b_shrinkage_log__ -2.28946\n",
      "fixed_b -7.829342\n",
      "ls_log__ -1.1447301\n",
      "var_log__ -1.1447301\n",
      "f_gp_rotated_ -48.703743\n",
      "nu_y_log__ -0.61370564\n",
      "sigma_y_log__ -0.61370564\n"
     ]
    },
    {
     "name": "stderr",
     "output_type": "stream",
     "text": [
      "Initializing NUTS using advi+adapt_diag...\n"
     ]
    },
    {
     "name": "stdout",
     "output_type": "stream",
     "text": [
      "y -344.40842428257196\n"
     ]
    },
    {
     "data": {
      "text/html": [
       "\n",
       "    <div>\n",
       "        <style>\n",
       "            /* Turns off some styling */\n",
       "            progress {\n",
       "                /* gets rid of default border in Firefox and Opera. */\n",
       "                border: none;\n",
       "                /* Needs to be in here for Safari polyfill so background images work as expected. */\n",
       "                background-size: auto;\n",
       "            }\n",
       "            .progress-bar-interrupted, .progress-bar-interrupted::-webkit-progress-bar {\n",
       "                background: #F44336;\n",
       "            }\n",
       "        </style>\n",
       "      <progress value='16865' class='' max='200000' style='width:300px; height:20px; vertical-align: middle;'></progress>\n",
       "      8.43% [16865/200000 00:06<01:07 Average Loss = 215.55]\n",
       "    </div>\n",
       "    "
      ],
      "text/plain": [
       "<IPython.core.display.HTML object>"
      ]
     },
     "metadata": {},
     "output_type": "display_data"
    },
    {
     "name": "stderr",
     "output_type": "stream",
     "text": [
      "Convergence achieved at 17400\n",
      "Interrupted at 17,399 [8%]: Average Loss = 243.04\n",
      "Multiprocess sampling (4 chains in 4 jobs)\n",
      "NUTS: [sigma_y, nu_y, f_gp_rotated_, var, ls, fixed_b, b_shrinkage, shift, ss]\n"
     ]
    },
    {
     "data": {
      "text/html": [
       "\n",
       "    <div>\n",
       "        <style>\n",
       "            /* Turns off some styling */\n",
       "            progress {\n",
       "                /* gets rid of default border in Firefox and Opera. */\n",
       "                border: none;\n",
       "                /* Needs to be in here for Safari polyfill so background images work as expected. */\n",
       "                background-size: auto;\n",
       "            }\n",
       "            .progress-bar-interrupted, .progress-bar-interrupted::-webkit-progress-bar {\n",
       "                background: #F44336;\n",
       "            }\n",
       "        </style>\n",
       "      <progress value='8000' class='' max='8000' style='width:300px; height:20px; vertical-align: middle;'></progress>\n",
       "      100.00% [8000/8000 01:49<00:00 Sampling 4 chains, 23 divergences]\n",
       "    </div>\n",
       "    "
      ],
      "text/plain": [
       "<IPython.core.display.HTML object>"
      ]
     },
     "metadata": {},
     "output_type": "display_data"
    },
    {
     "name": "stderr",
     "output_type": "stream",
     "text": [
      "Sampling 4 chains for 1_500 tune and 500 draw iterations (6_000 + 2_000 draws total) took 110 seconds.\n",
      "There were 12 divergences after tuning. Increase `target_accept` or reparameterize.\n",
      "There were 3 divergences after tuning. Increase `target_accept` or reparameterize.\n",
      "There were 7 divergences after tuning. Increase `target_accept` or reparameterize.\n",
      "There was 1 divergence after tuning. Increase `target_accept` or reparameterize.\n",
      "The number of effective samples is smaller than 25% for some parameters.\n",
      "Got error No model on context stack. trying to find log_likelihood in translation.\n",
      "Got error No model on context stack. trying to find log_likelihood in translation.\n",
      "Got error No model on context stack. trying to find log_likelihood in translation.\n",
      "Got error No model on context stack. trying to find log_likelihood in translation.\n",
      "Got error No model on context stack. trying to find log_likelihood in translation.\n",
      "Got error No model on context stack. trying to find log_likelihood in translation.\n"
     ]
    },
    {
     "name": "stdout",
     "output_type": "stream",
     "text": [
      "b_shrinkage_log__ -2.28946\n",
      "fixed_b -7.829342\n",
      "ls_log__ -1.1447301\n",
      "var_log__ -1.1447301\n",
      "f_gp_rotated_ -48.703743\n",
      "nu_y_log__ -0.61370564\n",
      "sigma_y_log__ -0.61370564\n"
     ]
    },
    {
     "name": "stderr",
     "output_type": "stream",
     "text": [
      "Initializing NUTS using advi+adapt_diag...\n"
     ]
    },
    {
     "name": "stdout",
     "output_type": "stream",
     "text": [
      "y -344.40842428257196\n"
     ]
    },
    {
     "data": {
      "text/html": [
       "\n",
       "    <div>\n",
       "        <style>\n",
       "            /* Turns off some styling */\n",
       "            progress {\n",
       "                /* gets rid of default border in Firefox and Opera. */\n",
       "                border: none;\n",
       "                /* Needs to be in here for Safari polyfill so background images work as expected. */\n",
       "                background-size: auto;\n",
       "            }\n",
       "            .progress-bar-interrupted, .progress-bar-interrupted::-webkit-progress-bar {\n",
       "                background: #F44336;\n",
       "            }\n",
       "        </style>\n",
       "      <progress value='14759' class='' max='200000' style='width:300px; height:20px; vertical-align: middle;'></progress>\n",
       "      7.38% [14759/200000 00:05<01:05 Average Loss = 216.72]\n",
       "    </div>\n",
       "    "
      ],
      "text/plain": [
       "<IPython.core.display.HTML object>"
      ]
     },
     "metadata": {},
     "output_type": "display_data"
    },
    {
     "name": "stderr",
     "output_type": "stream",
     "text": [
      "Convergence achieved at 15300\n",
      "Interrupted at 15,299 [7%]: Average Loss = 246.75\n",
      "Multiprocess sampling (4 chains in 4 jobs)\n",
      "NUTS: [sigma_y, nu_y, f_gp_rotated_, var, ls, fixed_b, b_shrinkage]\n"
     ]
    },
    {
     "data": {
      "text/html": [
       "\n",
       "    <div>\n",
       "        <style>\n",
       "            /* Turns off some styling */\n",
       "            progress {\n",
       "                /* gets rid of default border in Firefox and Opera. */\n",
       "                border: none;\n",
       "                /* Needs to be in here for Safari polyfill so background images work as expected. */\n",
       "                background-size: auto;\n",
       "            }\n",
       "            .progress-bar-interrupted, .progress-bar-interrupted::-webkit-progress-bar {\n",
       "                background: #F44336;\n",
       "            }\n",
       "        </style>\n",
       "      <progress value='8000' class='' max='8000' style='width:300px; height:20px; vertical-align: middle;'></progress>\n",
       "      100.00% [8000/8000 01:29<00:00 Sampling 4 chains, 14 divergences]\n",
       "    </div>\n",
       "    "
      ],
      "text/plain": [
       "<IPython.core.display.HTML object>"
      ]
     },
     "metadata": {},
     "output_type": "display_data"
    },
    {
     "name": "stderr",
     "output_type": "stream",
     "text": [
      "Sampling 4 chains for 1_500 tune and 500 draw iterations (6_000 + 2_000 draws total) took 90 seconds.\n",
      "There were 4 divergences after tuning. Increase `target_accept` or reparameterize.\n",
      "There were 3 divergences after tuning. Increase `target_accept` or reparameterize.\n",
      "There were 3 divergences after tuning. Increase `target_accept` or reparameterize.\n",
      "There were 4 divergences after tuning. Increase `target_accept` or reparameterize.\n",
      "Got error No model on context stack. trying to find log_likelihood in translation.\n",
      "Got error No model on context stack. trying to find log_likelihood in translation.\n",
      "Got error No model on context stack. trying to find log_likelihood in translation.\n",
      "Got error No model on context stack. trying to find log_likelihood in translation.\n",
      "Got error No model on context stack. trying to find log_likelihood in translation.\n",
      "Got error No model on context stack. trying to find log_likelihood in translation.\n"
     ]
    },
    {
     "name": "stdout",
     "output_type": "stream",
     "text": [
      "\u001b[94mOCD x Eating_Disorder\u001b[0m\n",
      "\u001b[94mOCD x Edwards_Syndrome\u001b[0m\n",
      "\u001b[94mOCD x Ehlers_Danlos_Syndrome\u001b[0m\n",
      "\u001b[94mOCD x Electrolyte_Acid-Base_Balance_Disorder\u001b[0m\n",
      "\u001b[94mOCD x Ellis_Van_Creveld_Syndrome\u001b[0m\n",
      "\u001b[94mOCD x Emphysema_COPD\u001b[0m\n",
      "\u001b[94mOCD x Encephalitis\u001b[0m\n",
      "\u001b[94mOCD x Endocrine_Cancer\u001b[0m\n",
      "\u001b[94mOCD x Epidermolysis_Bullosa\u001b[0m\n",
      "\u001b[94mOCD x Epilepsy_Related_Disorders\u001b[0m\n",
      "\u001b[94mOCD x Erythematous_Disorder\u001b[0m\n",
      "\u001b[94mOCD x Erythromelalgia\u001b[0m\n",
      "\u001b[94mOCD x Escherichia_Coli_Infection\u001b[0m\n",
      "\u001b[94mOCD x Esophageal_Cancer\u001b[0m\n",
      "\u001b[94mOCD x Esophageal_Disease\u001b[0m\n",
      "ss_log__ -1.1447301\n",
      "shift -2.3025851\n",
      "b_shrinkage_log__ -2.28946\n",
      "fixed_b -7.829342\n",
      "ls_log__ -1.1447301\n",
      "var_log__ -1.1447301\n",
      "f_gp_rotated_ -45.02799\n",
      "nu_y_log__ -0.61370564\n",
      "sigma_y_log__ -0.61370564\n"
     ]
    },
    {
     "name": "stderr",
     "output_type": "stream",
     "text": [
      "Initializing NUTS using advi+adapt_diag...\n"
     ]
    },
    {
     "name": "stdout",
     "output_type": "stream",
     "text": [
      "y -199.74560386796756\n"
     ]
    },
    {
     "data": {
      "text/html": [
       "\n",
       "    <div>\n",
       "        <style>\n",
       "            /* Turns off some styling */\n",
       "            progress {\n",
       "                /* gets rid of default border in Firefox and Opera. */\n",
       "                border: none;\n",
       "                /* Needs to be in here for Safari polyfill so background images work as expected. */\n",
       "                background-size: auto;\n",
       "            }\n",
       "            .progress-bar-interrupted, .progress-bar-interrupted::-webkit-progress-bar {\n",
       "                background: #F44336;\n",
       "            }\n",
       "        </style>\n",
       "      <progress value='17293' class='' max='200000' style='width:300px; height:20px; vertical-align: middle;'></progress>\n",
       "      8.65% [17293/200000 00:06<01:05 Average Loss = 151.33]\n",
       "    </div>\n",
       "    "
      ],
      "text/plain": [
       "<IPython.core.display.HTML object>"
      ]
     },
     "metadata": {},
     "output_type": "display_data"
    },
    {
     "name": "stderr",
     "output_type": "stream",
     "text": [
      "Convergence achieved at 17400\n",
      "Interrupted at 17,399 [8%]: Average Loss = 173.63\n",
      "Multiprocess sampling (4 chains in 4 jobs)\n",
      "NUTS: [sigma_y, nu_y, f_gp_rotated_, var, ls, fixed_b, b_shrinkage, shift, ss]\n"
     ]
    },
    {
     "data": {
      "text/html": [
       "\n",
       "    <div>\n",
       "        <style>\n",
       "            /* Turns off some styling */\n",
       "            progress {\n",
       "                /* gets rid of default border in Firefox and Opera. */\n",
       "                border: none;\n",
       "                /* Needs to be in here for Safari polyfill so background images work as expected. */\n",
       "                background-size: auto;\n",
       "            }\n",
       "            .progress-bar-interrupted, .progress-bar-interrupted::-webkit-progress-bar {\n",
       "                background: #F44336;\n",
       "            }\n",
       "        </style>\n",
       "      <progress value='8000' class='' max='8000' style='width:300px; height:20px; vertical-align: middle;'></progress>\n",
       "      100.00% [8000/8000 01:44<00:00 Sampling 4 chains, 3 divergences]\n",
       "    </div>\n",
       "    "
      ],
      "text/plain": [
       "<IPython.core.display.HTML object>"
      ]
     },
     "metadata": {},
     "output_type": "display_data"
    },
    {
     "name": "stderr",
     "output_type": "stream",
     "text": [
      "Sampling 4 chains for 1_500 tune and 500 draw iterations (6_000 + 2_000 draws total) took 105 seconds.\n",
      "There was 1 divergence after tuning. Increase `target_accept` or reparameterize.\n",
      "There were 2 divergences after tuning. Increase `target_accept` or reparameterize.\n",
      "The number of effective samples is smaller than 25% for some parameters.\n",
      "Got error No model on context stack. trying to find log_likelihood in translation.\n",
      "Got error No model on context stack. trying to find log_likelihood in translation.\n",
      "Got error No model on context stack. trying to find log_likelihood in translation.\n",
      "Got error No model on context stack. trying to find log_likelihood in translation.\n",
      "Got error No model on context stack. trying to find log_likelihood in translation.\n",
      "Got error No model on context stack. trying to find log_likelihood in translation.\n"
     ]
    },
    {
     "name": "stdout",
     "output_type": "stream",
     "text": [
      "b_shrinkage_log__ -2.28946\n",
      "fixed_b -7.829342\n",
      "ls_log__ -1.1447301\n",
      "var_log__ -1.1447301\n",
      "f_gp_rotated_ -45.02799\n",
      "nu_y_log__ -0.61370564\n",
      "sigma_y_log__ -0.61370564\n"
     ]
    },
    {
     "name": "stderr",
     "output_type": "stream",
     "text": [
      "Initializing NUTS using advi+adapt_diag...\n"
     ]
    },
    {
     "name": "stdout",
     "output_type": "stream",
     "text": [
      "y -199.74560386796756\n"
     ]
    },
    {
     "data": {
      "text/html": [
       "\n",
       "    <div>\n",
       "        <style>\n",
       "            /* Turns off some styling */\n",
       "            progress {\n",
       "                /* gets rid of default border in Firefox and Opera. */\n",
       "                border: none;\n",
       "                /* Needs to be in here for Safari polyfill so background images work as expected. */\n",
       "                background-size: auto;\n",
       "            }\n",
       "            .progress-bar-interrupted, .progress-bar-interrupted::-webkit-progress-bar {\n",
       "                background: #F44336;\n",
       "            }\n",
       "        </style>\n",
       "      <progress value='16374' class='' max='200000' style='width:300px; height:20px; vertical-align: middle;'></progress>\n",
       "      8.19% [16374/200000 00:05<01:00 Average Loss = 149.09]\n",
       "    </div>\n",
       "    "
      ],
      "text/plain": [
       "<IPython.core.display.HTML object>"
      ]
     },
     "metadata": {},
     "output_type": "display_data"
    },
    {
     "name": "stderr",
     "output_type": "stream",
     "text": [
      "Convergence achieved at 16900\n",
      "Interrupted at 16,899 [8%]: Average Loss = 172.83\n",
      "Multiprocess sampling (4 chains in 4 jobs)\n",
      "NUTS: [sigma_y, nu_y, f_gp_rotated_, var, ls, fixed_b, b_shrinkage]\n"
     ]
    },
    {
     "data": {
      "text/html": [
       "\n",
       "    <div>\n",
       "        <style>\n",
       "            /* Turns off some styling */\n",
       "            progress {\n",
       "                /* gets rid of default border in Firefox and Opera. */\n",
       "                border: none;\n",
       "                /* Needs to be in here for Safari polyfill so background images work as expected. */\n",
       "                background-size: auto;\n",
       "            }\n",
       "            .progress-bar-interrupted, .progress-bar-interrupted::-webkit-progress-bar {\n",
       "                background: #F44336;\n",
       "            }\n",
       "        </style>\n",
       "      <progress value='8000' class='' max='8000' style='width:300px; height:20px; vertical-align: middle;'></progress>\n",
       "      100.00% [8000/8000 01:28<00:00 Sampling 4 chains, 11 divergences]\n",
       "    </div>\n",
       "    "
      ],
      "text/plain": [
       "<IPython.core.display.HTML object>"
      ]
     },
     "metadata": {},
     "output_type": "display_data"
    },
    {
     "name": "stderr",
     "output_type": "stream",
     "text": [
      "Sampling 4 chains for 1_500 tune and 500 draw iterations (6_000 + 2_000 draws total) took 89 seconds.\n",
      "There were 4 divergences after tuning. Increase `target_accept` or reparameterize.\n",
      "There was 1 divergence after tuning. Increase `target_accept` or reparameterize.\n",
      "There were 2 divergences after tuning. Increase `target_accept` or reparameterize.\n",
      "There were 4 divergences after tuning. Increase `target_accept` or reparameterize.\n",
      "Got error No model on context stack. trying to find log_likelihood in translation.\n",
      "Got error No model on context stack. trying to find log_likelihood in translation.\n",
      "Got error No model on context stack. trying to find log_likelihood in translation.\n",
      "Got error No model on context stack. trying to find log_likelihood in translation.\n",
      "Got error No model on context stack. trying to find log_likelihood in translation.\n",
      "Got error No model on context stack. trying to find log_likelihood in translation.\n"
     ]
    },
    {
     "name": "stdout",
     "output_type": "stream",
     "text": [
      "\u001b[94mOCD x Esophagitis\u001b[0m\n",
      "\u001b[94mOCD x Eustachian_Tube_Disorder\u001b[0m\n",
      "ss_log__ -1.1447301\n",
      "shift -2.3025851\n",
      "b_shrinkage_log__ -2.28946\n",
      "fixed_b -7.829342\n",
      "ls_log__ -1.1447301\n",
      "var_log__ -1.1447301\n",
      "f_gp_rotated_ -39.51436\n",
      "nu_y_log__ -0.61370564\n",
      "sigma_y_log__ -0.61370564\n"
     ]
    },
    {
     "name": "stderr",
     "output_type": "stream",
     "text": [
      "Initializing NUTS using advi+adapt_diag...\n"
     ]
    },
    {
     "name": "stdout",
     "output_type": "stream",
     "text": [
      "y -142.87478199811034\n"
     ]
    },
    {
     "data": {
      "text/html": [
       "\n",
       "    <div>\n",
       "        <style>\n",
       "            /* Turns off some styling */\n",
       "            progress {\n",
       "                /* gets rid of default border in Firefox and Opera. */\n",
       "                border: none;\n",
       "                /* Needs to be in here for Safari polyfill so background images work as expected. */\n",
       "                background-size: auto;\n",
       "            }\n",
       "            .progress-bar-interrupted, .progress-bar-interrupted::-webkit-progress-bar {\n",
       "                background: #F44336;\n",
       "            }\n",
       "        </style>\n",
       "      <progress value='16184' class='' max='200000' style='width:300px; height:20px; vertical-align: middle;'></progress>\n",
       "      8.09% [16184/200000 00:05<01:01 Average Loss = 122.33]\n",
       "    </div>\n",
       "    "
      ],
      "text/plain": [
       "<IPython.core.display.HTML object>"
      ]
     },
     "metadata": {},
     "output_type": "display_data"
    },
    {
     "name": "stderr",
     "output_type": "stream",
     "text": [
      "Convergence achieved at 16400\n",
      "Interrupted at 16,399 [8%]: Average Loss = 145.67\n",
      "Multiprocess sampling (4 chains in 4 jobs)\n",
      "NUTS: [sigma_y, nu_y, f_gp_rotated_, var, ls, fixed_b, b_shrinkage, shift, ss]\n"
     ]
    },
    {
     "data": {
      "text/html": [
       "\n",
       "    <div>\n",
       "        <style>\n",
       "            /* Turns off some styling */\n",
       "            progress {\n",
       "                /* gets rid of default border in Firefox and Opera. */\n",
       "                border: none;\n",
       "                /* Needs to be in here for Safari polyfill so background images work as expected. */\n",
       "                background-size: auto;\n",
       "            }\n",
       "            .progress-bar-interrupted, .progress-bar-interrupted::-webkit-progress-bar {\n",
       "                background: #F44336;\n",
       "            }\n",
       "        </style>\n",
       "      <progress value='8000' class='' max='8000' style='width:300px; height:20px; vertical-align: middle;'></progress>\n",
       "      100.00% [8000/8000 00:48<00:00 Sampling 4 chains, 19 divergences]\n",
       "    </div>\n",
       "    "
      ],
      "text/plain": [
       "<IPython.core.display.HTML object>"
      ]
     },
     "metadata": {},
     "output_type": "display_data"
    },
    {
     "name": "stderr",
     "output_type": "stream",
     "text": [
      "Sampling 4 chains for 1_500 tune and 500 draw iterations (6_000 + 2_000 draws total) took 49 seconds.\n",
      "There were 7 divergences after tuning. Increase `target_accept` or reparameterize.\n",
      "There were 6 divergences after tuning. Increase `target_accept` or reparameterize.\n",
      "There were 3 divergences after tuning. Increase `target_accept` or reparameterize.\n",
      "There were 3 divergences after tuning. Increase `target_accept` or reparameterize.\n",
      "The estimated number of effective samples is smaller than 200 for some parameters.\n",
      "Got error No model on context stack. trying to find log_likelihood in translation.\n",
      "Got error No model on context stack. trying to find log_likelihood in translation.\n",
      "Got error No model on context stack. trying to find log_likelihood in translation.\n",
      "Got error No model on context stack. trying to find log_likelihood in translation.\n",
      "Got error No model on context stack. trying to find log_likelihood in translation.\n",
      "Got error No model on context stack. trying to find log_likelihood in translation.\n"
     ]
    },
    {
     "name": "stdout",
     "output_type": "stream",
     "text": [
      "b_shrinkage_log__ -2.28946\n",
      "fixed_b -7.829342\n",
      "ls_log__ -1.1447301\n",
      "var_log__ -1.1447301\n",
      "f_gp_rotated_ -39.51436\n",
      "nu_y_log__ -0.61370564\n",
      "sigma_y_log__ -0.61370564\n"
     ]
    },
    {
     "name": "stderr",
     "output_type": "stream",
     "text": [
      "Initializing NUTS using advi+adapt_diag...\n"
     ]
    },
    {
     "name": "stdout",
     "output_type": "stream",
     "text": [
      "y -142.87478199811034\n"
     ]
    },
    {
     "data": {
      "text/html": [
       "\n",
       "    <div>\n",
       "        <style>\n",
       "            /* Turns off some styling */\n",
       "            progress {\n",
       "                /* gets rid of default border in Firefox and Opera. */\n",
       "                border: none;\n",
       "                /* Needs to be in here for Safari polyfill so background images work as expected. */\n",
       "                background-size: auto;\n",
       "            }\n",
       "            .progress-bar-interrupted, .progress-bar-interrupted::-webkit-progress-bar {\n",
       "                background: #F44336;\n",
       "            }\n",
       "        </style>\n",
       "      <progress value='17359' class='' max='200000' style='width:300px; height:20px; vertical-align: middle;'></progress>\n",
       "      8.68% [17359/200000 00:05<00:57 Average Loss = 121.91]\n",
       "    </div>\n",
       "    "
      ],
      "text/plain": [
       "<IPython.core.display.HTML object>"
      ]
     },
     "metadata": {},
     "output_type": "display_data"
    },
    {
     "name": "stderr",
     "output_type": "stream",
     "text": [
      "Convergence achieved at 17400\n",
      "Interrupted at 17,399 [8%]: Average Loss = 143.77\n",
      "Multiprocess sampling (4 chains in 4 jobs)\n",
      "NUTS: [sigma_y, nu_y, f_gp_rotated_, var, ls, fixed_b, b_shrinkage]\n"
     ]
    },
    {
     "data": {
      "text/html": [
       "\n",
       "    <div>\n",
       "        <style>\n",
       "            /* Turns off some styling */\n",
       "            progress {\n",
       "                /* gets rid of default border in Firefox and Opera. */\n",
       "                border: none;\n",
       "                /* Needs to be in here for Safari polyfill so background images work as expected. */\n",
       "                background-size: auto;\n",
       "            }\n",
       "            .progress-bar-interrupted, .progress-bar-interrupted::-webkit-progress-bar {\n",
       "                background: #F44336;\n",
       "            }\n",
       "        </style>\n",
       "      <progress value='8000' class='' max='8000' style='width:300px; height:20px; vertical-align: middle;'></progress>\n",
       "      100.00% [8000/8000 00:36<00:00 Sampling 4 chains, 13 divergences]\n",
       "    </div>\n",
       "    "
      ],
      "text/plain": [
       "<IPython.core.display.HTML object>"
      ]
     },
     "metadata": {},
     "output_type": "display_data"
    },
    {
     "name": "stderr",
     "output_type": "stream",
     "text": [
      "Sampling 4 chains for 1_500 tune and 500 draw iterations (6_000 + 2_000 draws total) took 37 seconds.\n",
      "There were 6 divergences after tuning. Increase `target_accept` or reparameterize.\n",
      "There were 6 divergences after tuning. Increase `target_accept` or reparameterize.\n",
      "There was 1 divergence after tuning. Increase `target_accept` or reparameterize.\n",
      "Got error No model on context stack. trying to find log_likelihood in translation.\n",
      "Got error No model on context stack. trying to find log_likelihood in translation.\n",
      "Got error No model on context stack. trying to find log_likelihood in translation.\n",
      "Got error No model on context stack. trying to find log_likelihood in translation.\n",
      "Got error No model on context stack. trying to find log_likelihood in translation.\n",
      "Got error No model on context stack. trying to find log_likelihood in translation.\n"
     ]
    },
    {
     "name": "stdout",
     "output_type": "stream",
     "text": [
      "\u001b[94mOCD x External_Ear_Disorders\u001b[0m\n",
      "ss_log__ -1.1447301\n",
      "shift -2.3025851\n",
      "b_shrinkage_log__ -2.28946\n",
      "fixed_b -7.829342\n",
      "ls_log__ -1.1447301\n",
      "var_log__ -1.1447301\n",
      "f_gp_rotated_ -34.919666\n",
      "nu_y_log__ -0.61370564\n",
      "sigma_y_log__ -0.61370564\n"
     ]
    },
    {
     "name": "stderr",
     "output_type": "stream",
     "text": [
      "Initializing NUTS using advi+adapt_diag...\n"
     ]
    },
    {
     "name": "stdout",
     "output_type": "stream",
     "text": [
      "y -116.21510741185281\n"
     ]
    },
    {
     "data": {
      "text/html": [
       "\n",
       "    <div>\n",
       "        <style>\n",
       "            /* Turns off some styling */\n",
       "            progress {\n",
       "                /* gets rid of default border in Firefox and Opera. */\n",
       "                border: none;\n",
       "                /* Needs to be in here for Safari polyfill so background images work as expected. */\n",
       "                background-size: auto;\n",
       "            }\n",
       "            .progress-bar-interrupted, .progress-bar-interrupted::-webkit-progress-bar {\n",
       "                background: #F44336;\n",
       "            }\n",
       "        </style>\n",
       "      <progress value='16109' class='' max='200000' style='width:300px; height:20px; vertical-align: middle;'></progress>\n",
       "      8.05% [16109/200000 00:05<00:57 Average Loss = 103.78]\n",
       "    </div>\n",
       "    "
      ],
      "text/plain": [
       "<IPython.core.display.HTML object>"
      ]
     },
     "metadata": {},
     "output_type": "display_data"
    },
    {
     "name": "stderr",
     "output_type": "stream",
     "text": [
      "Convergence achieved at 16300\n",
      "Interrupted at 16,299 [8%]: Average Loss = 124.49\n",
      "Multiprocess sampling (4 chains in 4 jobs)\n",
      "NUTS: [sigma_y, nu_y, f_gp_rotated_, var, ls, fixed_b, b_shrinkage, shift, ss]\n"
     ]
    },
    {
     "data": {
      "text/html": [
       "\n",
       "    <div>\n",
       "        <style>\n",
       "            /* Turns off some styling */\n",
       "            progress {\n",
       "                /* gets rid of default border in Firefox and Opera. */\n",
       "                border: none;\n",
       "                /* Needs to be in here for Safari polyfill so background images work as expected. */\n",
       "                background-size: auto;\n",
       "            }\n",
       "            .progress-bar-interrupted, .progress-bar-interrupted::-webkit-progress-bar {\n",
       "                background: #F44336;\n",
       "            }\n",
       "        </style>\n",
       "      <progress value='8000' class='' max='8000' style='width:300px; height:20px; vertical-align: middle;'></progress>\n",
       "      100.00% [8000/8000 00:43<00:00 Sampling 4 chains, 6 divergences]\n",
       "    </div>\n",
       "    "
      ],
      "text/plain": [
       "<IPython.core.display.HTML object>"
      ]
     },
     "metadata": {},
     "output_type": "display_data"
    },
    {
     "name": "stderr",
     "output_type": "stream",
     "text": [
      "Sampling 4 chains for 1_500 tune and 500 draw iterations (6_000 + 2_000 draws total) took 44 seconds.\n",
      "There were 3 divergences after tuning. Increase `target_accept` or reparameterize.\n",
      "The acceptance probability does not match the target. It is 0.7352788085100938, but should be close to 0.9. Try to increase the number of tuning steps.\n",
      "There was 1 divergence after tuning. Increase `target_accept` or reparameterize.\n",
      "There was 1 divergence after tuning. Increase `target_accept` or reparameterize.\n",
      "There was 1 divergence after tuning. Increase `target_accept` or reparameterize.\n",
      "The rhat statistic is larger than 1.05 for some parameters. This indicates slight problems during sampling.\n",
      "The estimated number of effective samples is smaller than 200 for some parameters.\n",
      "Got error No model on context stack. trying to find log_likelihood in translation.\n",
      "Got error No model on context stack. trying to find log_likelihood in translation.\n",
      "Got error No model on context stack. trying to find log_likelihood in translation.\n",
      "Got error No model on context stack. trying to find log_likelihood in translation.\n",
      "Got error No model on context stack. trying to find log_likelihood in translation.\n",
      "Got error No model on context stack. trying to find log_likelihood in translation.\n"
     ]
    },
    {
     "name": "stdout",
     "output_type": "stream",
     "text": [
      "b_shrinkage_log__ -2.28946\n",
      "fixed_b -7.829342\n",
      "ls_log__ -1.1447301\n",
      "var_log__ -1.1447301\n",
      "f_gp_rotated_ -34.919666\n",
      "nu_y_log__ -0.61370564\n",
      "sigma_y_log__ -0.61370564\n"
     ]
    },
    {
     "name": "stderr",
     "output_type": "stream",
     "text": [
      "Initializing NUTS using advi+adapt_diag...\n"
     ]
    },
    {
     "name": "stdout",
     "output_type": "stream",
     "text": [
      "y -116.21510741185281\n"
     ]
    },
    {
     "data": {
      "text/html": [
       "\n",
       "    <div>\n",
       "        <style>\n",
       "            /* Turns off some styling */\n",
       "            progress {\n",
       "                /* gets rid of default border in Firefox and Opera. */\n",
       "                border: none;\n",
       "                /* Needs to be in here for Safari polyfill so background images work as expected. */\n",
       "                background-size: auto;\n",
       "            }\n",
       "            .progress-bar-interrupted, .progress-bar-interrupted::-webkit-progress-bar {\n",
       "                background: #F44336;\n",
       "            }\n",
       "        </style>\n",
       "      <progress value='15348' class='' max='200000' style='width:300px; height:20px; vertical-align: middle;'></progress>\n",
       "      7.67% [15348/200000 00:04<00:55 Average Loss = 103.89]\n",
       "    </div>\n",
       "    "
      ],
      "text/plain": [
       "<IPython.core.display.HTML object>"
      ]
     },
     "metadata": {},
     "output_type": "display_data"
    },
    {
     "name": "stderr",
     "output_type": "stream",
     "text": [
      "Convergence achieved at 15900\n",
      "Interrupted at 15,899 [7%]: Average Loss = 124.11\n",
      "Multiprocess sampling (4 chains in 4 jobs)\n",
      "NUTS: [sigma_y, nu_y, f_gp_rotated_, var, ls, fixed_b, b_shrinkage]\n"
     ]
    },
    {
     "data": {
      "text/html": [
       "\n",
       "    <div>\n",
       "        <style>\n",
       "            /* Turns off some styling */\n",
       "            progress {\n",
       "                /* gets rid of default border in Firefox and Opera. */\n",
       "                border: none;\n",
       "                /* Needs to be in here for Safari polyfill so background images work as expected. */\n",
       "                background-size: auto;\n",
       "            }\n",
       "            .progress-bar-interrupted, .progress-bar-interrupted::-webkit-progress-bar {\n",
       "                background: #F44336;\n",
       "            }\n",
       "        </style>\n",
       "      <progress value='8000' class='' max='8000' style='width:300px; height:20px; vertical-align: middle;'></progress>\n",
       "      100.00% [8000/8000 00:41<00:00 Sampling 4 chains, 23 divergences]\n",
       "    </div>\n",
       "    "
      ],
      "text/plain": [
       "<IPython.core.display.HTML object>"
      ]
     },
     "metadata": {},
     "output_type": "display_data"
    },
    {
     "name": "stderr",
     "output_type": "stream",
     "text": [
      "Sampling 4 chains for 1_500 tune and 500 draw iterations (6_000 + 2_000 draws total) took 42 seconds.\n",
      "There were 2 divergences after tuning. Increase `target_accept` or reparameterize.\n",
      "There were 2 divergences after tuning. Increase `target_accept` or reparameterize.\n",
      "There were 13 divergences after tuning. Increase `target_accept` or reparameterize.\n",
      "The acceptance probability does not match the target. It is 0.8246514720279415, but should be close to 0.9. Try to increase the number of tuning steps.\n",
      "There were 6 divergences after tuning. Increase `target_accept` or reparameterize.\n",
      "The rhat statistic is larger than 1.05 for some parameters. This indicates slight problems during sampling.\n",
      "The estimated number of effective samples is smaller than 200 for some parameters.\n",
      "Got error No model on context stack. trying to find log_likelihood in translation.\n",
      "Got error No model on context stack. trying to find log_likelihood in translation.\n",
      "Got error No model on context stack. trying to find log_likelihood in translation.\n",
      "Got error No model on context stack. trying to find log_likelihood in translation.\n",
      "Got error No model on context stack. trying to find log_likelihood in translation.\n",
      "Got error No model on context stack. trying to find log_likelihood in translation.\n"
     ]
    },
    {
     "name": "stdout",
     "output_type": "stream",
     "text": [
      "\u001b[94mOCD x Extrapyramidal_Abnormal_Movement_Disorders\u001b[0m\n",
      "\u001b[94mOCD x Eye_Cancer\u001b[0m\n",
      "\u001b[94mOCD x Eye_Infection\u001b[0m\n",
      "ss_log__ -1.1447301\n",
      "shift -2.3025851\n",
      "b_shrinkage_log__ -2.28946\n",
      "fixed_b -7.829342\n",
      "ls_log__ -1.1447301\n",
      "var_log__ -1.1447301\n",
      "f_gp_rotated_ -49.622684\n",
      "nu_y_log__ -0.61370564\n",
      "sigma_y_log__ -0.61370564\n"
     ]
    },
    {
     "name": "stderr",
     "output_type": "stream",
     "text": [
      "Initializing NUTS using advi+adapt_diag...\n"
     ]
    },
    {
     "name": "stdout",
     "output_type": "stream",
     "text": [
      "y -263.17154432175806\n"
     ]
    },
    {
     "data": {
      "text/html": [
       "\n",
       "    <div>\n",
       "        <style>\n",
       "            /* Turns off some styling */\n",
       "            progress {\n",
       "                /* gets rid of default border in Firefox and Opera. */\n",
       "                border: none;\n",
       "                /* Needs to be in here for Safari polyfill so background images work as expected. */\n",
       "                background-size: auto;\n",
       "            }\n",
       "            .progress-bar-interrupted, .progress-bar-interrupted::-webkit-progress-bar {\n",
       "                background: #F44336;\n",
       "            }\n",
       "        </style>\n",
       "      <progress value='15404' class='' max='200000' style='width:300px; height:20px; vertical-align: middle;'></progress>\n",
       "      7.70% [15404/200000 00:05<01:09 Average Loss = 187.56]\n",
       "    </div>\n",
       "    "
      ],
      "text/plain": [
       "<IPython.core.display.HTML object>"
      ]
     },
     "metadata": {},
     "output_type": "display_data"
    },
    {
     "name": "stderr",
     "output_type": "stream",
     "text": [
      "Convergence achieved at 15800\n",
      "Interrupted at 15,799 [7%]: Average Loss = 216.25\n",
      "Multiprocess sampling (4 chains in 4 jobs)\n",
      "NUTS: [sigma_y, nu_y, f_gp_rotated_, var, ls, fixed_b, b_shrinkage, shift, ss]\n"
     ]
    },
    {
     "data": {
      "text/html": [
       "\n",
       "    <div>\n",
       "        <style>\n",
       "            /* Turns off some styling */\n",
       "            progress {\n",
       "                /* gets rid of default border in Firefox and Opera. */\n",
       "                border: none;\n",
       "                /* Needs to be in here for Safari polyfill so background images work as expected. */\n",
       "                background-size: auto;\n",
       "            }\n",
       "            .progress-bar-interrupted, .progress-bar-interrupted::-webkit-progress-bar {\n",
       "                background: #F44336;\n",
       "            }\n",
       "        </style>\n",
       "      <progress value='8000' class='' max='8000' style='width:300px; height:20px; vertical-align: middle;'></progress>\n",
       "      100.00% [8000/8000 00:57<00:00 Sampling 4 chains, 3 divergences]\n",
       "    </div>\n",
       "    "
      ],
      "text/plain": [
       "<IPython.core.display.HTML object>"
      ]
     },
     "metadata": {},
     "output_type": "display_data"
    },
    {
     "name": "stderr",
     "output_type": "stream",
     "text": [
      "Sampling 4 chains for 1_500 tune and 500 draw iterations (6_000 + 2_000 draws total) took 57 seconds.\n",
      "There were 3 divergences after tuning. Increase `target_accept` or reparameterize.\n",
      "The number of effective samples is smaller than 25% for some parameters.\n",
      "Got error No model on context stack. trying to find log_likelihood in translation.\n",
      "Got error No model on context stack. trying to find log_likelihood in translation.\n",
      "Got error No model on context stack. trying to find log_likelihood in translation.\n",
      "Got error No model on context stack. trying to find log_likelihood in translation.\n",
      "Got error No model on context stack. trying to find log_likelihood in translation.\n",
      "Got error No model on context stack. trying to find log_likelihood in translation.\n"
     ]
    },
    {
     "name": "stdout",
     "output_type": "stream",
     "text": [
      "b_shrinkage_log__ -2.28946\n",
      "fixed_b -7.829342\n",
      "ls_log__ -1.1447301\n",
      "var_log__ -1.1447301\n",
      "f_gp_rotated_ -49.622684\n",
      "nu_y_log__ -0.61370564\n",
      "sigma_y_log__ -0.61370564\n"
     ]
    },
    {
     "name": "stderr",
     "output_type": "stream",
     "text": [
      "Initializing NUTS using advi+adapt_diag...\n"
     ]
    },
    {
     "name": "stdout",
     "output_type": "stream",
     "text": [
      "y -263.17154432175806\n"
     ]
    },
    {
     "data": {
      "text/html": [
       "\n",
       "    <div>\n",
       "        <style>\n",
       "            /* Turns off some styling */\n",
       "            progress {\n",
       "                /* gets rid of default border in Firefox and Opera. */\n",
       "                border: none;\n",
       "                /* Needs to be in here for Safari polyfill so background images work as expected. */\n",
       "                background-size: auto;\n",
       "            }\n",
       "            .progress-bar-interrupted, .progress-bar-interrupted::-webkit-progress-bar {\n",
       "                background: #F44336;\n",
       "            }\n",
       "        </style>\n",
       "      <progress value='16510' class='' max='200000' style='width:300px; height:20px; vertical-align: middle;'></progress>\n",
       "      8.26% [16510/200000 00:05<01:04 Average Loss = 186.27]\n",
       "    </div>\n",
       "    "
      ],
      "text/plain": [
       "<IPython.core.display.HTML object>"
      ]
     },
     "metadata": {},
     "output_type": "display_data"
    },
    {
     "name": "stderr",
     "output_type": "stream",
     "text": [
      "Convergence achieved at 16800\n",
      "Interrupted at 16,799 [8%]: Average Loss = 214.13\n",
      "Multiprocess sampling (4 chains in 4 jobs)\n",
      "NUTS: [sigma_y, nu_y, f_gp_rotated_, var, ls, fixed_b, b_shrinkage]\n"
     ]
    },
    {
     "data": {
      "text/html": [
       "\n",
       "    <div>\n",
       "        <style>\n",
       "            /* Turns off some styling */\n",
       "            progress {\n",
       "                /* gets rid of default border in Firefox and Opera. */\n",
       "                border: none;\n",
       "                /* Needs to be in here for Safari polyfill so background images work as expected. */\n",
       "                background-size: auto;\n",
       "            }\n",
       "            .progress-bar-interrupted, .progress-bar-interrupted::-webkit-progress-bar {\n",
       "                background: #F44336;\n",
       "            }\n",
       "        </style>\n",
       "      <progress value='8000' class='' max='8000' style='width:300px; height:20px; vertical-align: middle;'></progress>\n",
       "      100.00% [8000/8000 00:54<00:00 Sampling 4 chains, 2 divergences]\n",
       "    </div>\n",
       "    "
      ],
      "text/plain": [
       "<IPython.core.display.HTML object>"
      ]
     },
     "metadata": {},
     "output_type": "display_data"
    },
    {
     "name": "stderr",
     "output_type": "stream",
     "text": [
      "Sampling 4 chains for 1_500 tune and 500 draw iterations (6_000 + 2_000 draws total) took 55 seconds.\n",
      "There was 1 divergence after tuning. Increase `target_accept` or reparameterize.\n",
      "There was 1 divergence after tuning. Increase `target_accept` or reparameterize.\n",
      "The number of effective samples is smaller than 25% for some parameters.\n",
      "Got error No model on context stack. trying to find log_likelihood in translation.\n",
      "Got error No model on context stack. trying to find log_likelihood in translation.\n",
      "Got error No model on context stack. trying to find log_likelihood in translation.\n",
      "Got error No model on context stack. trying to find log_likelihood in translation.\n",
      "Got error No model on context stack. trying to find log_likelihood in translation.\n",
      "Got error No model on context stack. trying to find log_likelihood in translation.\n"
     ]
    },
    {
     "name": "stdout",
     "output_type": "stream",
     "text": [
      "\u001b[94mOCD x Eye_Inflammation\u001b[0m\n",
      "ss_log__ -1.1447301\n",
      "shift -2.3025851\n",
      "b_shrinkage_log__ -2.28946\n",
      "fixed_b -7.829342\n",
      "ls_log__ -1.1447301\n",
      "var_log__ -1.1447301\n",
      "f_gp_rotated_ -37.676483\n",
      "nu_y_log__ -0.61370564\n",
      "sigma_y_log__ -0.61370564\n"
     ]
    },
    {
     "name": "stderr",
     "output_type": "stream",
     "text": [
      "Initializing NUTS using advi+adapt_diag...\n"
     ]
    },
    {
     "name": "stdout",
     "output_type": "stream",
     "text": [
      "y -131.50489939228996\n"
     ]
    },
    {
     "data": {
      "text/html": [
       "\n",
       "    <div>\n",
       "        <style>\n",
       "            /* Turns off some styling */\n",
       "            progress {\n",
       "                /* gets rid of default border in Firefox and Opera. */\n",
       "                border: none;\n",
       "                /* Needs to be in here for Safari polyfill so background images work as expected. */\n",
       "                background-size: auto;\n",
       "            }\n",
       "            .progress-bar-interrupted, .progress-bar-interrupted::-webkit-progress-bar {\n",
       "                background: #F44336;\n",
       "            }\n",
       "        </style>\n",
       "      <progress value='14952' class='' max='200000' style='width:300px; height:20px; vertical-align: middle;'></progress>\n",
       "      7.48% [14952/200000 00:04<00:59 Average Loss = 117.38]\n",
       "    </div>\n",
       "    "
      ],
      "text/plain": [
       "<IPython.core.display.HTML object>"
      ]
     },
     "metadata": {},
     "output_type": "display_data"
    },
    {
     "name": "stderr",
     "output_type": "stream",
     "text": [
      "Convergence achieved at 15300\n",
      "Interrupted at 15,299 [7%]: Average Loss = 140.52\n",
      "Multiprocess sampling (4 chains in 4 jobs)\n",
      "NUTS: [sigma_y, nu_y, f_gp_rotated_, var, ls, fixed_b, b_shrinkage, shift, ss]\n"
     ]
    },
    {
     "data": {
      "text/html": [
       "\n",
       "    <div>\n",
       "        <style>\n",
       "            /* Turns off some styling */\n",
       "            progress {\n",
       "                /* gets rid of default border in Firefox and Opera. */\n",
       "                border: none;\n",
       "                /* Needs to be in here for Safari polyfill so background images work as expected. */\n",
       "                background-size: auto;\n",
       "            }\n",
       "            .progress-bar-interrupted, .progress-bar-interrupted::-webkit-progress-bar {\n",
       "                background: #F44336;\n",
       "            }\n",
       "        </style>\n",
       "      <progress value='8000' class='' max='8000' style='width:300px; height:20px; vertical-align: middle;'></progress>\n",
       "      100.00% [8000/8000 00:45<00:00 Sampling 4 chains, 4 divergences]\n",
       "    </div>\n",
       "    "
      ],
      "text/plain": [
       "<IPython.core.display.HTML object>"
      ]
     },
     "metadata": {},
     "output_type": "display_data"
    },
    {
     "name": "stderr",
     "output_type": "stream",
     "text": [
      "Sampling 4 chains for 1_500 tune and 500 draw iterations (6_000 + 2_000 draws total) took 46 seconds.\n",
      "There was 1 divergence after tuning. Increase `target_accept` or reparameterize.\n",
      "The acceptance probability does not match the target. It is 0.8313084209184022, but should be close to 0.9. Try to increase the number of tuning steps.\n",
      "There was 1 divergence after tuning. Increase `target_accept` or reparameterize.\n",
      "There were 2 divergences after tuning. Increase `target_accept` or reparameterize.\n",
      "The estimated number of effective samples is smaller than 200 for some parameters.\n",
      "Got error No model on context stack. trying to find log_likelihood in translation.\n",
      "Got error No model on context stack. trying to find log_likelihood in translation.\n",
      "Got error No model on context stack. trying to find log_likelihood in translation.\n",
      "Got error No model on context stack. trying to find log_likelihood in translation.\n",
      "Got error No model on context stack. trying to find log_likelihood in translation.\n",
      "Got error No model on context stack. trying to find log_likelihood in translation.\n"
     ]
    },
    {
     "name": "stdout",
     "output_type": "stream",
     "text": [
      "b_shrinkage_log__ -2.28946\n",
      "fixed_b -7.829342\n",
      "ls_log__ -1.1447301\n",
      "var_log__ -1.1447301\n",
      "f_gp_rotated_ -37.676483\n",
      "nu_y_log__ -0.61370564\n",
      "sigma_y_log__ -0.61370564\n"
     ]
    },
    {
     "name": "stderr",
     "output_type": "stream",
     "text": [
      "Initializing NUTS using advi+adapt_diag...\n"
     ]
    },
    {
     "name": "stdout",
     "output_type": "stream",
     "text": [
      "y -131.50489939228996\n"
     ]
    },
    {
     "data": {
      "text/html": [
       "\n",
       "    <div>\n",
       "        <style>\n",
       "            /* Turns off some styling */\n",
       "            progress {\n",
       "                /* gets rid of default border in Firefox and Opera. */\n",
       "                border: none;\n",
       "                /* Needs to be in here for Safari polyfill so background images work as expected. */\n",
       "                background-size: auto;\n",
       "            }\n",
       "            .progress-bar-interrupted, .progress-bar-interrupted::-webkit-progress-bar {\n",
       "                background: #F44336;\n",
       "            }\n",
       "        </style>\n",
       "      <progress value='15873' class='' max='200000' style='width:300px; height:20px; vertical-align: middle;'></progress>\n",
       "      7.94% [15873/200000 00:05<00:58 Average Loss = 116.13]\n",
       "    </div>\n",
       "    "
      ],
      "text/plain": [
       "<IPython.core.display.HTML object>"
      ]
     },
     "metadata": {},
     "output_type": "display_data"
    },
    {
     "name": "stderr",
     "output_type": "stream",
     "text": [
      "Convergence achieved at 16300\n",
      "Interrupted at 16,299 [8%]: Average Loss = 137.71\n",
      "Multiprocess sampling (4 chains in 4 jobs)\n",
      "NUTS: [sigma_y, nu_y, f_gp_rotated_, var, ls, fixed_b, b_shrinkage]\n"
     ]
    },
    {
     "data": {
      "text/html": [
       "\n",
       "    <div>\n",
       "        <style>\n",
       "            /* Turns off some styling */\n",
       "            progress {\n",
       "                /* gets rid of default border in Firefox and Opera. */\n",
       "                border: none;\n",
       "                /* Needs to be in here for Safari polyfill so background images work as expected. */\n",
       "                background-size: auto;\n",
       "            }\n",
       "            .progress-bar-interrupted, .progress-bar-interrupted::-webkit-progress-bar {\n",
       "                background: #F44336;\n",
       "            }\n",
       "        </style>\n",
       "      <progress value='8000' class='' max='8000' style='width:300px; height:20px; vertical-align: middle;'></progress>\n",
       "      100.00% [8000/8000 00:29<00:00 Sampling 4 chains, 3 divergences]\n",
       "    </div>\n",
       "    "
      ],
      "text/plain": [
       "<IPython.core.display.HTML object>"
      ]
     },
     "metadata": {},
     "output_type": "display_data"
    },
    {
     "name": "stderr",
     "output_type": "stream",
     "text": [
      "Sampling 4 chains for 1_500 tune and 500 draw iterations (6_000 + 2_000 draws total) took 30 seconds.\n",
      "There was 1 divergence after tuning. Increase `target_accept` or reparameterize.\n",
      "There were 2 divergences after tuning. Increase `target_accept` or reparameterize.\n",
      "The estimated number of effective samples is smaller than 200 for some parameters.\n",
      "Got error No model on context stack. trying to find log_likelihood in translation.\n",
      "Got error No model on context stack. trying to find log_likelihood in translation.\n",
      "Got error No model on context stack. trying to find log_likelihood in translation.\n",
      "Got error No model on context stack. trying to find log_likelihood in translation.\n",
      "Got error No model on context stack. trying to find log_likelihood in translation.\n",
      "Got error No model on context stack. trying to find log_likelihood in translation.\n"
     ]
    },
    {
     "name": "stdout",
     "output_type": "stream",
     "text": [
      "\u001b[94mOCD x Eyelid_Disorders\u001b[0m\n",
      "\u001b[94mOCD x Familial_Adenomatous_Polyposis\u001b[0m\n",
      "\u001b[94mOCD x Familial_Dysautonomia_Related_Conditions\u001b[0m\n",
      "\u001b[94mOCD x Familial_Mediterranean_Fever\u001b[0m\n",
      "\u001b[94mOCD x Fasciitis\u001b[0m\n",
      "\u001b[94mOCD x Female_Genital_Cancer\u001b[0m\n",
      "\u001b[94mOCD x Female_Genital_Congenital_Anomaly\u001b[0m\n",
      "\u001b[94mOCD x Food_Allergy\u001b[0m\n",
      "\u001b[94mOCD x Fragile_X_Syndrome\u001b[0m\n",
      "\u001b[94mOCD x Friedreichs_Ataxia\u001b[0m\n",
      "\u001b[94mOCD x Functional_Digestive_Disorder\u001b[0m\n",
      "ss_log__ -1.1447301\n",
      "shift -2.3025851\n",
      "b_shrinkage_log__ -2.28946\n",
      "fixed_b -7.829342\n",
      "ls_log__ -1.1447301\n",
      "var_log__ -1.1447301\n",
      "f_gp_rotated_ -49.622684\n",
      "nu_y_log__ -0.61370564\n",
      "sigma_y_log__ -0.61370564\n"
     ]
    },
    {
     "name": "stderr",
     "output_type": "stream",
     "text": [
      "Initializing NUTS using advi+adapt_diag...\n"
     ]
    },
    {
     "name": "stdout",
     "output_type": "stream",
     "text": [
      "y -212.50005611417362\n"
     ]
    },
    {
     "data": {
      "text/html": [
       "\n",
       "    <div>\n",
       "        <style>\n",
       "            /* Turns off some styling */\n",
       "            progress {\n",
       "                /* gets rid of default border in Firefox and Opera. */\n",
       "                border: none;\n",
       "                /* Needs to be in here for Safari polyfill so background images work as expected. */\n",
       "                background-size: auto;\n",
       "            }\n",
       "            .progress-bar-interrupted, .progress-bar-interrupted::-webkit-progress-bar {\n",
       "                background: #F44336;\n",
       "            }\n",
       "        </style>\n",
       "      <progress value='14976' class='' max='200000' style='width:300px; height:20px; vertical-align: middle;'></progress>\n",
       "      7.49% [14976/200000 00:05<01:08 Average Loss = 173.06]\n",
       "    </div>\n",
       "    "
      ],
      "text/plain": [
       "<IPython.core.display.HTML object>"
      ]
     },
     "metadata": {},
     "output_type": "display_data"
    },
    {
     "name": "stderr",
     "output_type": "stream",
     "text": [
      "Convergence achieved at 15000\n",
      "Interrupted at 14,999 [7%]: Average Loss = 203.47\n",
      "Multiprocess sampling (4 chains in 4 jobs)\n",
      "NUTS: [sigma_y, nu_y, f_gp_rotated_, var, ls, fixed_b, b_shrinkage, shift, ss]\n"
     ]
    },
    {
     "data": {
      "text/html": [
       "\n",
       "    <div>\n",
       "        <style>\n",
       "            /* Turns off some styling */\n",
       "            progress {\n",
       "                /* gets rid of default border in Firefox and Opera. */\n",
       "                border: none;\n",
       "                /* Needs to be in here for Safari polyfill so background images work as expected. */\n",
       "                background-size: auto;\n",
       "            }\n",
       "            .progress-bar-interrupted, .progress-bar-interrupted::-webkit-progress-bar {\n",
       "                background: #F44336;\n",
       "            }\n",
       "        </style>\n",
       "      <progress value='8000' class='' max='8000' style='width:300px; height:20px; vertical-align: middle;'></progress>\n",
       "      100.00% [8000/8000 00:51<00:00 Sampling 4 chains, 10 divergences]\n",
       "    </div>\n",
       "    "
      ],
      "text/plain": [
       "<IPython.core.display.HTML object>"
      ]
     },
     "metadata": {},
     "output_type": "display_data"
    },
    {
     "name": "stderr",
     "output_type": "stream",
     "text": [
      "Sampling 4 chains for 1_500 tune and 500 draw iterations (6_000 + 2_000 draws total) took 52 seconds.\n",
      "There were 2 divergences after tuning. Increase `target_accept` or reparameterize.\n",
      "There was 1 divergence after tuning. Increase `target_accept` or reparameterize.\n",
      "There were 5 divergences after tuning. Increase `target_accept` or reparameterize.\n",
      "There were 2 divergences after tuning. Increase `target_accept` or reparameterize.\n",
      "The rhat statistic is larger than 1.05 for some parameters. This indicates slight problems during sampling.\n",
      "The estimated number of effective samples is smaller than 200 for some parameters.\n",
      "Got error No model on context stack. trying to find log_likelihood in translation.\n",
      "Got error No model on context stack. trying to find log_likelihood in translation.\n",
      "Got error No model on context stack. trying to find log_likelihood in translation.\n",
      "Got error No model on context stack. trying to find log_likelihood in translation.\n",
      "Got error No model on context stack. trying to find log_likelihood in translation.\n",
      "Got error No model on context stack. trying to find log_likelihood in translation.\n"
     ]
    },
    {
     "name": "stdout",
     "output_type": "stream",
     "text": [
      "b_shrinkage_log__ -2.28946\n",
      "fixed_b -7.829342\n",
      "ls_log__ -1.1447301\n",
      "var_log__ -1.1447301\n",
      "f_gp_rotated_ -49.622684\n",
      "nu_y_log__ -0.61370564\n",
      "sigma_y_log__ -0.61370564\n"
     ]
    },
    {
     "name": "stderr",
     "output_type": "stream",
     "text": [
      "Initializing NUTS using advi+adapt_diag...\n"
     ]
    },
    {
     "name": "stdout",
     "output_type": "stream",
     "text": [
      "y -212.50005611417362\n"
     ]
    },
    {
     "data": {
      "text/html": [
       "\n",
       "    <div>\n",
       "        <style>\n",
       "            /* Turns off some styling */\n",
       "            progress {\n",
       "                /* gets rid of default border in Firefox and Opera. */\n",
       "                border: none;\n",
       "                /* Needs to be in here for Safari polyfill so background images work as expected. */\n",
       "                background-size: auto;\n",
       "            }\n",
       "            .progress-bar-interrupted, .progress-bar-interrupted::-webkit-progress-bar {\n",
       "                background: #F44336;\n",
       "            }\n",
       "        </style>\n",
       "      <progress value='14081' class='' max='200000' style='width:300px; height:20px; vertical-align: middle;'></progress>\n",
       "      7.04% [14081/200000 00:04<01:05 Average Loss = 175.09]\n",
       "    </div>\n",
       "    "
      ],
      "text/plain": [
       "<IPython.core.display.HTML object>"
      ]
     },
     "metadata": {},
     "output_type": "display_data"
    },
    {
     "name": "stderr",
     "output_type": "stream",
     "text": [
      "Convergence achieved at 14500\n",
      "Interrupted at 14,499 [7%]: Average Loss = 204.48\n",
      "Multiprocess sampling (4 chains in 4 jobs)\n",
      "NUTS: [sigma_y, nu_y, f_gp_rotated_, var, ls, fixed_b, b_shrinkage]\n"
     ]
    },
    {
     "data": {
      "text/html": [
       "\n",
       "    <div>\n",
       "        <style>\n",
       "            /* Turns off some styling */\n",
       "            progress {\n",
       "                /* gets rid of default border in Firefox and Opera. */\n",
       "                border: none;\n",
       "                /* Needs to be in here for Safari polyfill so background images work as expected. */\n",
       "                background-size: auto;\n",
       "            }\n",
       "            .progress-bar-interrupted, .progress-bar-interrupted::-webkit-progress-bar {\n",
       "                background: #F44336;\n",
       "            }\n",
       "        </style>\n",
       "      <progress value='8000' class='' max='8000' style='width:300px; height:20px; vertical-align: middle;'></progress>\n",
       "      100.00% [8000/8000 00:51<00:00 Sampling 4 chains, 11 divergences]\n",
       "    </div>\n",
       "    "
      ],
      "text/plain": [
       "<IPython.core.display.HTML object>"
      ]
     },
     "metadata": {},
     "output_type": "display_data"
    },
    {
     "name": "stderr",
     "output_type": "stream",
     "text": [
      "Sampling 4 chains for 1_500 tune and 500 draw iterations (6_000 + 2_000 draws total) took 52 seconds.\n",
      "There were 7 divergences after tuning. Increase `target_accept` or reparameterize.\n",
      "There was 1 divergence after tuning. Increase `target_accept` or reparameterize.\n",
      "There were 3 divergences after tuning. Increase `target_accept` or reparameterize.\n",
      "Got error No model on context stack. trying to find log_likelihood in translation.\n",
      "Got error No model on context stack. trying to find log_likelihood in translation.\n",
      "Got error No model on context stack. trying to find log_likelihood in translation.\n",
      "Got error No model on context stack. trying to find log_likelihood in translation.\n",
      "Got error No model on context stack. trying to find log_likelihood in translation.\n",
      "Got error No model on context stack. trying to find log_likelihood in translation.\n"
     ]
    },
    {
     "name": "stdout",
     "output_type": "stream",
     "text": [
      "\u001b[94mOCD x Celiac_Disease\u001b[0m\n",
      "\u001b[94mOCD x Fungal_Infection\u001b[0m\n",
      "ss_log__ -1.1447301\n",
      "shift -2.3025851\n",
      "b_shrinkage_log__ -2.28946\n",
      "fixed_b -7.829342\n",
      "ls_log__ -1.1447301\n",
      "var_log__ -1.1447301\n",
      "f_gp_rotated_ -47.784805\n",
      "nu_y_log__ -0.61370564\n",
      "sigma_y_log__ -0.61370564\n"
     ]
    },
    {
     "name": "stderr",
     "output_type": "stream",
     "text": [
      "Initializing NUTS using advi+adapt_diag...\n"
     ]
    },
    {
     "name": "stdout",
     "output_type": "stream",
     "text": [
      "y -181.76713766354294\n"
     ]
    },
    {
     "data": {
      "text/html": [
       "\n",
       "    <div>\n",
       "        <style>\n",
       "            /* Turns off some styling */\n",
       "            progress {\n",
       "                /* gets rid of default border in Firefox and Opera. */\n",
       "                border: none;\n",
       "                /* Needs to be in here for Safari polyfill so background images work as expected. */\n",
       "                background-size: auto;\n",
       "            }\n",
       "            .progress-bar-interrupted, .progress-bar-interrupted::-webkit-progress-bar {\n",
       "                background: #F44336;\n",
       "            }\n",
       "        </style>\n",
       "      <progress value='16829' class='' max='200000' style='width:300px; height:20px; vertical-align: middle;'></progress>\n",
       "      8.41% [16829/200000 00:06<01:07 Average Loss = 148.69]\n",
       "    </div>\n",
       "    "
      ],
      "text/plain": [
       "<IPython.core.display.HTML object>"
      ]
     },
     "metadata": {},
     "output_type": "display_data"
    },
    {
     "name": "stderr",
     "output_type": "stream",
     "text": [
      "Convergence achieved at 17200\n",
      "Interrupted at 17,199 [8%]: Average Loss = 178.19\n",
      "Multiprocess sampling (4 chains in 4 jobs)\n",
      "NUTS: [sigma_y, nu_y, f_gp_rotated_, var, ls, fixed_b, b_shrinkage, shift, ss]\n"
     ]
    },
    {
     "data": {
      "text/html": [
       "\n",
       "    <div>\n",
       "        <style>\n",
       "            /* Turns off some styling */\n",
       "            progress {\n",
       "                /* gets rid of default border in Firefox and Opera. */\n",
       "                border: none;\n",
       "                /* Needs to be in here for Safari polyfill so background images work as expected. */\n",
       "                background-size: auto;\n",
       "            }\n",
       "            .progress-bar-interrupted, .progress-bar-interrupted::-webkit-progress-bar {\n",
       "                background: #F44336;\n",
       "            }\n",
       "        </style>\n",
       "      <progress value='8000' class='' max='8000' style='width:300px; height:20px; vertical-align: middle;'></progress>\n",
       "      100.00% [8000/8000 01:00<00:00 Sampling 4 chains, 28 divergences]\n",
       "    </div>\n",
       "    "
      ],
      "text/plain": [
       "<IPython.core.display.HTML object>"
      ]
     },
     "metadata": {},
     "output_type": "display_data"
    },
    {
     "name": "stderr",
     "output_type": "stream",
     "text": [
      "Sampling 4 chains for 1_500 tune and 500 draw iterations (6_000 + 2_000 draws total) took 61 seconds.\n",
      "There were 25 divergences after tuning. Increase `target_accept` or reparameterize.\n",
      "The acceptance probability does not match the target. It is 0.47852341739431115, but should be close to 0.9. Try to increase the number of tuning steps.\n",
      "There was 1 divergence after tuning. Increase `target_accept` or reparameterize.\n",
      "The acceptance probability does not match the target. It is 0.8041214983799174, but should be close to 0.9. Try to increase the number of tuning steps.\n",
      "There were 2 divergences after tuning. Increase `target_accept` or reparameterize.\n",
      "The rhat statistic is larger than 1.2 for some parameters.\n",
      "The estimated number of effective samples is smaller than 200 for some parameters.\n",
      "Got error No model on context stack. trying to find log_likelihood in translation.\n",
      "Got error No model on context stack. trying to find log_likelihood in translation.\n",
      "Got error No model on context stack. trying to find log_likelihood in translation.\n",
      "Got error No model on context stack. trying to find log_likelihood in translation.\n",
      "Got error No model on context stack. trying to find log_likelihood in translation.\n",
      "Got error No model on context stack. trying to find log_likelihood in translation.\n"
     ]
    },
    {
     "name": "stdout",
     "output_type": "stream",
     "text": [
      "b_shrinkage_log__ -2.28946\n",
      "fixed_b -7.829342\n",
      "ls_log__ -1.1447301\n",
      "var_log__ -1.1447301\n",
      "f_gp_rotated_ -47.784805\n",
      "nu_y_log__ -0.61370564\n",
      "sigma_y_log__ -0.61370564\n"
     ]
    },
    {
     "name": "stderr",
     "output_type": "stream",
     "text": [
      "Initializing NUTS using advi+adapt_diag...\n"
     ]
    },
    {
     "name": "stdout",
     "output_type": "stream",
     "text": [
      "y -181.76713766354294\n"
     ]
    },
    {
     "data": {
      "text/html": [
       "\n",
       "    <div>\n",
       "        <style>\n",
       "            /* Turns off some styling */\n",
       "            progress {\n",
       "                /* gets rid of default border in Firefox and Opera. */\n",
       "                border: none;\n",
       "                /* Needs to be in here for Safari polyfill so background images work as expected. */\n",
       "                background-size: auto;\n",
       "            }\n",
       "            .progress-bar-interrupted, .progress-bar-interrupted::-webkit-progress-bar {\n",
       "                background: #F44336;\n",
       "            }\n",
       "        </style>\n",
       "      <progress value='18184' class='' max='200000' style='width:300px; height:20px; vertical-align: middle;'></progress>\n",
       "      9.09% [18184/200000 00:06<01:02 Average Loss = 148.14]\n",
       "    </div>\n",
       "    "
      ],
      "text/plain": [
       "<IPython.core.display.HTML object>"
      ]
     },
     "metadata": {},
     "output_type": "display_data"
    },
    {
     "name": "stderr",
     "output_type": "stream",
     "text": [
      "Convergence achieved at 18200\n",
      "Interrupted at 18,199 [9%]: Average Loss = 175.81\n",
      "Multiprocess sampling (4 chains in 4 jobs)\n",
      "NUTS: [sigma_y, nu_y, f_gp_rotated_, var, ls, fixed_b, b_shrinkage]\n"
     ]
    },
    {
     "data": {
      "text/html": [
       "\n",
       "    <div>\n",
       "        <style>\n",
       "            /* Turns off some styling */\n",
       "            progress {\n",
       "                /* gets rid of default border in Firefox and Opera. */\n",
       "                border: none;\n",
       "                /* Needs to be in here for Safari polyfill so background images work as expected. */\n",
       "                background-size: auto;\n",
       "            }\n",
       "            .progress-bar-interrupted, .progress-bar-interrupted::-webkit-progress-bar {\n",
       "                background: #F44336;\n",
       "            }\n",
       "        </style>\n",
       "      <progress value='8000' class='' max='8000' style='width:300px; height:20px; vertical-align: middle;'></progress>\n",
       "      100.00% [8000/8000 00:51<00:00 Sampling 4 chains, 13 divergences]\n",
       "    </div>\n",
       "    "
      ],
      "text/plain": [
       "<IPython.core.display.HTML object>"
      ]
     },
     "metadata": {},
     "output_type": "display_data"
    },
    {
     "name": "stderr",
     "output_type": "stream",
     "text": [
      "Sampling 4 chains for 1_500 tune and 500 draw iterations (6_000 + 2_000 draws total) took 52 seconds.\n",
      "There was 1 divergence after tuning. Increase `target_accept` or reparameterize.\n",
      "There were 2 divergences after tuning. Increase `target_accept` or reparameterize.\n",
      "There were 2 divergences after tuning. Increase `target_accept` or reparameterize.\n",
      "There were 8 divergences after tuning. Increase `target_accept` or reparameterize.\n",
      "The number of effective samples is smaller than 25% for some parameters.\n",
      "Got error No model on context stack. trying to find log_likelihood in translation.\n",
      "Got error No model on context stack. trying to find log_likelihood in translation.\n",
      "Got error No model on context stack. trying to find log_likelihood in translation.\n",
      "Got error No model on context stack. trying to find log_likelihood in translation.\n",
      "Got error No model on context stack. trying to find log_likelihood in translation.\n",
      "Got error No model on context stack. trying to find log_likelihood in translation.\n"
     ]
    },
    {
     "name": "stdout",
     "output_type": "stream",
     "text": [
      "\u001b[94mOCD x G6PD\u001b[0m\n",
      "\u001b[94mOCD x Galactosemia\u001b[0m\n",
      "\u001b[94mOCD x Gastritis_Duodenitis\u001b[0m\n",
      "\u001b[94mOCD x Gastrointestinal_Infection\u001b[0m\n",
      "ss_log__ -1.1447301\n",
      "shift -2.3025851\n",
      "b_shrinkage_log__ -2.28946\n",
      "fixed_b -7.829342\n",
      "ls_log__ -1.1447301\n",
      "var_log__ -1.1447301\n",
      "f_gp_rotated_ -45.02799\n",
      "nu_y_log__ -0.61370564\n",
      "sigma_y_log__ -0.61370564\n"
     ]
    },
    {
     "name": "stderr",
     "output_type": "stream",
     "text": [
      "Initializing NUTS using advi+adapt_diag...\n"
     ]
    },
    {
     "name": "stdout",
     "output_type": "stream",
     "text": [
      "y -181.17070427421953\n"
     ]
    },
    {
     "data": {
      "text/html": [
       "\n",
       "    <div>\n",
       "        <style>\n",
       "            /* Turns off some styling */\n",
       "            progress {\n",
       "                /* gets rid of default border in Firefox and Opera. */\n",
       "                border: none;\n",
       "                /* Needs to be in here for Safari polyfill so background images work as expected. */\n",
       "                background-size: auto;\n",
       "            }\n",
       "            .progress-bar-interrupted, .progress-bar-interrupted::-webkit-progress-bar {\n",
       "                background: #F44336;\n",
       "            }\n",
       "        </style>\n",
       "      <progress value='15041' class='' max='200000' style='width:300px; height:20px; vertical-align: middle;'></progress>\n",
       "      7.52% [15041/200000 00:05<01:04 Average Loss = 143.63]\n",
       "    </div>\n",
       "    "
      ],
      "text/plain": [
       "<IPython.core.display.HTML object>"
      ]
     },
     "metadata": {},
     "output_type": "display_data"
    },
    {
     "name": "stderr",
     "output_type": "stream",
     "text": [
      "Convergence achieved at 15600\n",
      "Interrupted at 15,599 [7%]: Average Loss = 170.42\n",
      "Multiprocess sampling (4 chains in 4 jobs)\n",
      "NUTS: [sigma_y, nu_y, f_gp_rotated_, var, ls, fixed_b, b_shrinkage, shift, ss]\n"
     ]
    },
    {
     "data": {
      "text/html": [
       "\n",
       "    <div>\n",
       "        <style>\n",
       "            /* Turns off some styling */\n",
       "            progress {\n",
       "                /* gets rid of default border in Firefox and Opera. */\n",
       "                border: none;\n",
       "                /* Needs to be in here for Safari polyfill so background images work as expected. */\n",
       "                background-size: auto;\n",
       "            }\n",
       "            .progress-bar-interrupted, .progress-bar-interrupted::-webkit-progress-bar {\n",
       "                background: #F44336;\n",
       "            }\n",
       "        </style>\n",
       "      <progress value='8000' class='' max='8000' style='width:300px; height:20px; vertical-align: middle;'></progress>\n",
       "      100.00% [8000/8000 01:08<00:00 Sampling 4 chains, 5 divergences]\n",
       "    </div>\n",
       "    "
      ],
      "text/plain": [
       "<IPython.core.display.HTML object>"
      ]
     },
     "metadata": {},
     "output_type": "display_data"
    },
    {
     "name": "stderr",
     "output_type": "stream",
     "text": [
      "Sampling 4 chains for 1_500 tune and 500 draw iterations (6_000 + 2_000 draws total) took 69 seconds.\n",
      "There was 1 divergence after tuning. Increase `target_accept` or reparameterize.\n",
      "The acceptance probability does not match the target. It is 0.6803260772836806, but should be close to 0.9. Try to increase the number of tuning steps.\n",
      "There were 2 divergences after tuning. Increase `target_accept` or reparameterize.\n",
      "There were 2 divergences after tuning. Increase `target_accept` or reparameterize.\n",
      "The acceptance probability does not match the target. It is 0.7731991780362016, but should be close to 0.9. Try to increase the number of tuning steps.\n",
      "The rhat statistic is larger than 1.4 for some parameters. The sampler did not converge.\n",
      "The estimated number of effective samples is smaller than 200 for some parameters.\n",
      "Got error No model on context stack. trying to find log_likelihood in translation.\n",
      "Got error No model on context stack. trying to find log_likelihood in translation.\n",
      "Got error No model on context stack. trying to find log_likelihood in translation.\n",
      "Got error No model on context stack. trying to find log_likelihood in translation.\n",
      "Got error No model on context stack. trying to find log_likelihood in translation.\n",
      "Got error No model on context stack. trying to find log_likelihood in translation.\n"
     ]
    },
    {
     "name": "stdout",
     "output_type": "stream",
     "text": [
      "b_shrinkage_log__ -2.28946\n",
      "fixed_b -7.829342\n",
      "ls_log__ -1.1447301\n",
      "var_log__ -1.1447301\n",
      "f_gp_rotated_ -45.02799\n",
      "nu_y_log__ -0.61370564\n",
      "sigma_y_log__ -0.61370564\n"
     ]
    },
    {
     "name": "stderr",
     "output_type": "stream",
     "text": [
      "Initializing NUTS using advi+adapt_diag...\n"
     ]
    },
    {
     "name": "stdout",
     "output_type": "stream",
     "text": [
      "y -181.17070427421953\n"
     ]
    },
    {
     "data": {
      "text/html": [
       "\n",
       "    <div>\n",
       "        <style>\n",
       "            /* Turns off some styling */\n",
       "            progress {\n",
       "                /* gets rid of default border in Firefox and Opera. */\n",
       "                border: none;\n",
       "                /* Needs to be in here for Safari polyfill so background images work as expected. */\n",
       "                background-size: auto;\n",
       "            }\n",
       "            .progress-bar-interrupted, .progress-bar-interrupted::-webkit-progress-bar {\n",
       "                background: #F44336;\n",
       "            }\n",
       "        </style>\n",
       "      <progress value='14306' class='' max='200000' style='width:300px; height:20px; vertical-align: middle;'></progress>\n",
       "      7.15% [14306/200000 00:04<01:02 Average Loss = 144.36]\n",
       "    </div>\n",
       "    "
      ],
      "text/plain": [
       "<IPython.core.display.HTML object>"
      ]
     },
     "metadata": {},
     "output_type": "display_data"
    },
    {
     "name": "stderr",
     "output_type": "stream",
     "text": [
      "Convergence achieved at 14800\n",
      "Interrupted at 14,799 [7%]: Average Loss = 171.71\n",
      "Multiprocess sampling (4 chains in 4 jobs)\n",
      "NUTS: [sigma_y, nu_y, f_gp_rotated_, var, ls, fixed_b, b_shrinkage]\n"
     ]
    },
    {
     "data": {
      "text/html": [
       "\n",
       "    <div>\n",
       "        <style>\n",
       "            /* Turns off some styling */\n",
       "            progress {\n",
       "                /* gets rid of default border in Firefox and Opera. */\n",
       "                border: none;\n",
       "                /* Needs to be in here for Safari polyfill so background images work as expected. */\n",
       "                background-size: auto;\n",
       "            }\n",
       "            .progress-bar-interrupted, .progress-bar-interrupted::-webkit-progress-bar {\n",
       "                background: #F44336;\n",
       "            }\n",
       "        </style>\n",
       "      <progress value='8000' class='' max='8000' style='width:300px; height:20px; vertical-align: middle;'></progress>\n",
       "      100.00% [8000/8000 00:55<00:00 Sampling 4 chains, 8 divergences]\n",
       "    </div>\n",
       "    "
      ],
      "text/plain": [
       "<IPython.core.display.HTML object>"
      ]
     },
     "metadata": {},
     "output_type": "display_data"
    },
    {
     "name": "stderr",
     "output_type": "stream",
     "text": [
      "Sampling 4 chains for 1_500 tune and 500 draw iterations (6_000 + 2_000 draws total) took 56 seconds.\n",
      "There was 1 divergence after tuning. Increase `target_accept` or reparameterize.\n",
      "There was 1 divergence after tuning. Increase `target_accept` or reparameterize.\n",
      "There were 3 divergences after tuning. Increase `target_accept` or reparameterize.\n",
      "There were 3 divergences after tuning. Increase `target_accept` or reparameterize.\n",
      "The number of effective samples is smaller than 25% for some parameters.\n",
      "Got error No model on context stack. trying to find log_likelihood in translation.\n",
      "Got error No model on context stack. trying to find log_likelihood in translation.\n",
      "Got error No model on context stack. trying to find log_likelihood in translation.\n",
      "Got error No model on context stack. trying to find log_likelihood in translation.\n",
      "Got error No model on context stack. trying to find log_likelihood in translation.\n",
      "Got error No model on context stack. trying to find log_likelihood in translation.\n"
     ]
    },
    {
     "name": "stdout",
     "output_type": "stream",
     "text": [
      "\u001b[94mOCD x Gastrointestinal_Ulcer\u001b[0m\n",
      "\u001b[94mOCD x General_Bacterial_Infection\u001b[0m\n",
      "\u001b[94mOCD x General_Cerebral_Degeneration\u001b[0m\n",
      "\u001b[94mOCD x General_Dementia\u001b[0m\n",
      "\u001b[94mOCD x General_Ear_Disorder\u001b[0m\n",
      "ss_log__ -1.1447301\n",
      "shift -2.3025851\n",
      "b_shrinkage_log__ -2.28946\n",
      "fixed_b -7.829342\n",
      "ls_log__ -1.1447301\n",
      "var_log__ -1.1447301\n",
      "f_gp_rotated_ -48.703743\n",
      "nu_y_log__ -0.61370564\n",
      "sigma_y_log__ -0.61370564\n"
     ]
    },
    {
     "name": "stderr",
     "output_type": "stream",
     "text": [
      "Initializing NUTS using advi+adapt_diag...\n"
     ]
    },
    {
     "name": "stdout",
     "output_type": "stream",
     "text": [
      "y -221.2318470241772\n"
     ]
    },
    {
     "data": {
      "text/html": [
       "\n",
       "    <div>\n",
       "        <style>\n",
       "            /* Turns off some styling */\n",
       "            progress {\n",
       "                /* gets rid of default border in Firefox and Opera. */\n",
       "                border: none;\n",
       "                /* Needs to be in here for Safari polyfill so background images work as expected. */\n",
       "                background-size: auto;\n",
       "            }\n",
       "            .progress-bar-interrupted, .progress-bar-interrupted::-webkit-progress-bar {\n",
       "                background: #F44336;\n",
       "            }\n",
       "        </style>\n",
       "      <progress value='14024' class='' max='200000' style='width:300px; height:20px; vertical-align: middle;'></progress>\n",
       "      7.01% [14024/200000 00:05<01:09 Average Loss = 181.69]\n",
       "    </div>\n",
       "    "
      ],
      "text/plain": [
       "<IPython.core.display.HTML object>"
      ]
     },
     "metadata": {},
     "output_type": "display_data"
    },
    {
     "name": "stderr",
     "output_type": "stream",
     "text": [
      "Convergence achieved at 14200\n",
      "Interrupted at 14,199 [7%]: Average Loss = 200.94\n",
      "Multiprocess sampling (4 chains in 4 jobs)\n",
      "NUTS: [sigma_y, nu_y, f_gp_rotated_, var, ls, fixed_b, b_shrinkage, shift, ss]\n"
     ]
    },
    {
     "data": {
      "text/html": [
       "\n",
       "    <div>\n",
       "        <style>\n",
       "            /* Turns off some styling */\n",
       "            progress {\n",
       "                /* gets rid of default border in Firefox and Opera. */\n",
       "                border: none;\n",
       "                /* Needs to be in here for Safari polyfill so background images work as expected. */\n",
       "                background-size: auto;\n",
       "            }\n",
       "            .progress-bar-interrupted, .progress-bar-interrupted::-webkit-progress-bar {\n",
       "                background: #F44336;\n",
       "            }\n",
       "        </style>\n",
       "      <progress value='8000' class='' max='8000' style='width:300px; height:20px; vertical-align: middle;'></progress>\n",
       "      100.00% [8000/8000 00:52<00:00 Sampling 4 chains, 1 divergences]\n",
       "    </div>\n",
       "    "
      ],
      "text/plain": [
       "<IPython.core.display.HTML object>"
      ]
     },
     "metadata": {},
     "output_type": "display_data"
    },
    {
     "name": "stderr",
     "output_type": "stream",
     "text": [
      "Sampling 4 chains for 1_500 tune and 500 draw iterations (6_000 + 2_000 draws total) took 53 seconds.\n",
      "There was 1 divergence after tuning. Increase `target_accept` or reparameterize.\n",
      "The estimated number of effective samples is smaller than 200 for some parameters.\n",
      "Got error No model on context stack. trying to find log_likelihood in translation.\n",
      "Got error No model on context stack. trying to find log_likelihood in translation.\n",
      "Got error No model on context stack. trying to find log_likelihood in translation.\n",
      "Got error No model on context stack. trying to find log_likelihood in translation.\n",
      "Got error No model on context stack. trying to find log_likelihood in translation.\n",
      "Got error No model on context stack. trying to find log_likelihood in translation.\n"
     ]
    },
    {
     "name": "stdout",
     "output_type": "stream",
     "text": [
      "b_shrinkage_log__ -2.28946\n",
      "fixed_b -7.829342\n",
      "ls_log__ -1.1447301\n",
      "var_log__ -1.1447301\n",
      "f_gp_rotated_ -48.703743\n",
      "nu_y_log__ -0.61370564\n",
      "sigma_y_log__ -0.61370564\n"
     ]
    },
    {
     "name": "stderr",
     "output_type": "stream",
     "text": [
      "Initializing NUTS using advi+adapt_diag...\n"
     ]
    },
    {
     "name": "stdout",
     "output_type": "stream",
     "text": [
      "y -221.2318470241772\n"
     ]
    },
    {
     "data": {
      "text/html": [
       "\n",
       "    <div>\n",
       "        <style>\n",
       "            /* Turns off some styling */\n",
       "            progress {\n",
       "                /* gets rid of default border in Firefox and Opera. */\n",
       "                border: none;\n",
       "                /* Needs to be in here for Safari polyfill so background images work as expected. */\n",
       "                background-size: auto;\n",
       "            }\n",
       "            .progress-bar-interrupted, .progress-bar-interrupted::-webkit-progress-bar {\n",
       "                background: #F44336;\n",
       "            }\n",
       "        </style>\n",
       "      <progress value='15897' class='' max='200000' style='width:300px; height:20px; vertical-align: middle;'></progress>\n",
       "      7.95% [15897/200000 00:05<01:05 Average Loss = 170.34]\n",
       "    </div>\n",
       "    "
      ],
      "text/plain": [
       "<IPython.core.display.HTML object>"
      ]
     },
     "metadata": {},
     "output_type": "display_data"
    },
    {
     "name": "stderr",
     "output_type": "stream",
     "text": [
      "Convergence achieved at 16200\n",
      "Interrupted at 16,199 [8%]: Average Loss = 196.42\n",
      "Multiprocess sampling (4 chains in 4 jobs)\n",
      "NUTS: [sigma_y, nu_y, f_gp_rotated_, var, ls, fixed_b, b_shrinkage]\n"
     ]
    },
    {
     "data": {
      "text/html": [
       "\n",
       "    <div>\n",
       "        <style>\n",
       "            /* Turns off some styling */\n",
       "            progress {\n",
       "                /* gets rid of default border in Firefox and Opera. */\n",
       "                border: none;\n",
       "                /* Needs to be in here for Safari polyfill so background images work as expected. */\n",
       "                background-size: auto;\n",
       "            }\n",
       "            .progress-bar-interrupted, .progress-bar-interrupted::-webkit-progress-bar {\n",
       "                background: #F44336;\n",
       "            }\n",
       "        </style>\n",
       "      <progress value='8000' class='' max='8000' style='width:300px; height:20px; vertical-align: middle;'></progress>\n",
       "      100.00% [8000/8000 00:52<00:00 Sampling 4 chains, 9 divergences]\n",
       "    </div>\n",
       "    "
      ],
      "text/plain": [
       "<IPython.core.display.HTML object>"
      ]
     },
     "metadata": {},
     "output_type": "display_data"
    },
    {
     "name": "stderr",
     "output_type": "stream",
     "text": [
      "Sampling 4 chains for 1_500 tune and 500 draw iterations (6_000 + 2_000 draws total) took 53 seconds.\n",
      "There were 3 divergences after tuning. Increase `target_accept` or reparameterize.\n",
      "There were 2 divergences after tuning. Increase `target_accept` or reparameterize.\n",
      "There were 4 divergences after tuning. Increase `target_accept` or reparameterize.\n",
      "The number of effective samples is smaller than 25% for some parameters.\n",
      "Got error No model on context stack. trying to find log_likelihood in translation.\n",
      "Got error No model on context stack. trying to find log_likelihood in translation.\n",
      "Got error No model on context stack. trying to find log_likelihood in translation.\n",
      "Got error No model on context stack. trying to find log_likelihood in translation.\n",
      "Got error No model on context stack. trying to find log_likelihood in translation.\n",
      "Got error No model on context stack. trying to find log_likelihood in translation.\n"
     ]
    },
    {
     "name": "stdout",
     "output_type": "stream",
     "text": [
      "\u001b[94mOCD x General_Hypertension\u001b[0m\n",
      "\u001b[94mOCD x General_Osteochondropathy\u001b[0m\n",
      "\u001b[94mOCD x General_Paralysis\u001b[0m\n",
      "\u001b[94mOCD x General_Spondylosis_Spine_Disorder\u001b[0m\n",
      "\u001b[94mOCD x General_Thrombocytopenia\u001b[0m\n",
      "\u001b[94mOCD x General_Viral_Infection\u001b[0m\n",
      "ss_log__ -1.1447301\n",
      "shift -2.3025851\n",
      "b_shrinkage_log__ -2.28946\n",
      "fixed_b -7.829342\n",
      "ls_log__ -1.1447301\n",
      "var_log__ -1.1447301\n",
      "f_gp_rotated_ -52.379498\n",
      "nu_y_log__ -0.61370564\n",
      "sigma_y_log__ -0.61370564\n"
     ]
    },
    {
     "name": "stderr",
     "output_type": "stream",
     "text": [
      "Initializing NUTS using advi+adapt_diag...\n"
     ]
    },
    {
     "name": "stdout",
     "output_type": "stream",
     "text": [
      "y -318.13776554847743\n"
     ]
    },
    {
     "data": {
      "text/html": [
       "\n",
       "    <div>\n",
       "        <style>\n",
       "            /* Turns off some styling */\n",
       "            progress {\n",
       "                /* gets rid of default border in Firefox and Opera. */\n",
       "                border: none;\n",
       "                /* Needs to be in here for Safari polyfill so background images work as expected. */\n",
       "                background-size: auto;\n",
       "            }\n",
       "            .progress-bar-interrupted, .progress-bar-interrupted::-webkit-progress-bar {\n",
       "                background: #F44336;\n",
       "            }\n",
       "        </style>\n",
       "      <progress value='15789' class='' max='200000' style='width:300px; height:20px; vertical-align: middle;'></progress>\n",
       "      7.89% [15789/200000 00:06<01:12 Average Loss = 216.86]\n",
       "    </div>\n",
       "    "
      ],
      "text/plain": [
       "<IPython.core.display.HTML object>"
      ]
     },
     "metadata": {},
     "output_type": "display_data"
    },
    {
     "name": "stderr",
     "output_type": "stream",
     "text": [
      "Convergence achieved at 16000\n",
      "Interrupted at 15,999 [7%]: Average Loss = 246.27\n",
      "Multiprocess sampling (4 chains in 4 jobs)\n",
      "NUTS: [sigma_y, nu_y, f_gp_rotated_, var, ls, fixed_b, b_shrinkage, shift, ss]\n"
     ]
    },
    {
     "data": {
      "text/html": [
       "\n",
       "    <div>\n",
       "        <style>\n",
       "            /* Turns off some styling */\n",
       "            progress {\n",
       "                /* gets rid of default border in Firefox and Opera. */\n",
       "                border: none;\n",
       "                /* Needs to be in here for Safari polyfill so background images work as expected. */\n",
       "                background-size: auto;\n",
       "            }\n",
       "            .progress-bar-interrupted, .progress-bar-interrupted::-webkit-progress-bar {\n",
       "                background: #F44336;\n",
       "            }\n",
       "        </style>\n",
       "      <progress value='8000' class='' max='8000' style='width:300px; height:20px; vertical-align: middle;'></progress>\n",
       "      100.00% [8000/8000 01:36<00:00 Sampling 4 chains, 8 divergences]\n",
       "    </div>\n",
       "    "
      ],
      "text/plain": [
       "<IPython.core.display.HTML object>"
      ]
     },
     "metadata": {},
     "output_type": "display_data"
    },
    {
     "name": "stderr",
     "output_type": "stream",
     "text": [
      "Sampling 4 chains for 1_500 tune and 500 draw iterations (6_000 + 2_000 draws total) took 97 seconds.\n",
      "There were 3 divergences after tuning. Increase `target_accept` or reparameterize.\n",
      "There were 4 divergences after tuning. Increase `target_accept` or reparameterize.\n",
      "There was 1 divergence after tuning. Increase `target_accept` or reparameterize.\n",
      "The acceptance probability does not match the target. It is 0.6857036367425151, but should be close to 0.9. Try to increase the number of tuning steps.\n",
      "The rhat statistic is larger than 1.05 for some parameters. This indicates slight problems during sampling.\n",
      "The estimated number of effective samples is smaller than 200 for some parameters.\n",
      "Got error No model on context stack. trying to find log_likelihood in translation.\n",
      "Got error No model on context stack. trying to find log_likelihood in translation.\n",
      "Got error No model on context stack. trying to find log_likelihood in translation.\n",
      "Got error No model on context stack. trying to find log_likelihood in translation.\n",
      "Got error No model on context stack. trying to find log_likelihood in translation.\n",
      "Got error No model on context stack. trying to find log_likelihood in translation.\n"
     ]
    },
    {
     "name": "stdout",
     "output_type": "stream",
     "text": [
      "b_shrinkage_log__ -2.28946\n",
      "fixed_b -7.829342\n",
      "ls_log__ -1.1447301\n",
      "var_log__ -1.1447301\n",
      "f_gp_rotated_ -52.379498\n",
      "nu_y_log__ -0.61370564\n",
      "sigma_y_log__ -0.61370564\n"
     ]
    },
    {
     "name": "stderr",
     "output_type": "stream",
     "text": [
      "Initializing NUTS using advi+adapt_diag...\n"
     ]
    },
    {
     "name": "stdout",
     "output_type": "stream",
     "text": [
      "y -318.13776554847743\n"
     ]
    },
    {
     "data": {
      "text/html": [
       "\n",
       "    <div>\n",
       "        <style>\n",
       "            /* Turns off some styling */\n",
       "            progress {\n",
       "                /* gets rid of default border in Firefox and Opera. */\n",
       "                border: none;\n",
       "                /* Needs to be in here for Safari polyfill so background images work as expected. */\n",
       "                background-size: auto;\n",
       "            }\n",
       "            .progress-bar-interrupted, .progress-bar-interrupted::-webkit-progress-bar {\n",
       "                background: #F44336;\n",
       "            }\n",
       "        </style>\n",
       "      <progress value='15352' class='' max='200000' style='width:300px; height:20px; vertical-align: middle;'></progress>\n",
       "      7.68% [15352/200000 00:05<01:07 Average Loss = 217.4]\n",
       "    </div>\n",
       "    "
      ],
      "text/plain": [
       "<IPython.core.display.HTML object>"
      ]
     },
     "metadata": {},
     "output_type": "display_data"
    },
    {
     "name": "stderr",
     "output_type": "stream",
     "text": [
      "Convergence achieved at 15700\n",
      "Interrupted at 15,699 [7%]: Average Loss = 247.85\n",
      "Multiprocess sampling (4 chains in 4 jobs)\n",
      "NUTS: [sigma_y, nu_y, f_gp_rotated_, var, ls, fixed_b, b_shrinkage]\n"
     ]
    },
    {
     "data": {
      "text/html": [
       "\n",
       "    <div>\n",
       "        <style>\n",
       "            /* Turns off some styling */\n",
       "            progress {\n",
       "                /* gets rid of default border in Firefox and Opera. */\n",
       "                border: none;\n",
       "                /* Needs to be in here for Safari polyfill so background images work as expected. */\n",
       "                background-size: auto;\n",
       "            }\n",
       "            .progress-bar-interrupted, .progress-bar-interrupted::-webkit-progress-bar {\n",
       "                background: #F44336;\n",
       "            }\n",
       "        </style>\n",
       "      <progress value='8000' class='' max='8000' style='width:300px; height:20px; vertical-align: middle;'></progress>\n",
       "      100.00% [8000/8000 01:19<00:00 Sampling 4 chains, 24 divergences]\n",
       "    </div>\n",
       "    "
      ],
      "text/plain": [
       "<IPython.core.display.HTML object>"
      ]
     },
     "metadata": {},
     "output_type": "display_data"
    },
    {
     "name": "stderr",
     "output_type": "stream",
     "text": [
      "Sampling 4 chains for 1_500 tune and 500 draw iterations (6_000 + 2_000 draws total) took 80 seconds.\n",
      "There were 2 divergences after tuning. Increase `target_accept` or reparameterize.\n",
      "There were 16 divergences after tuning. Increase `target_accept` or reparameterize.\n",
      "There were 5 divergences after tuning. Increase `target_accept` or reparameterize.\n",
      "There was 1 divergence after tuning. Increase `target_accept` or reparameterize.\n",
      "The number of effective samples is smaller than 25% for some parameters.\n",
      "Got error No model on context stack. trying to find log_likelihood in translation.\n",
      "Got error No model on context stack. trying to find log_likelihood in translation.\n",
      "Got error No model on context stack. trying to find log_likelihood in translation.\n",
      "Got error No model on context stack. trying to find log_likelihood in translation.\n",
      "Got error No model on context stack. trying to find log_likelihood in translation.\n",
      "Got error No model on context stack. trying to find log_likelihood in translation.\n"
     ]
    },
    {
     "name": "stdout",
     "output_type": "stream",
     "text": [
      "\u001b[94mOCD x Generalized_Digestive_Cancer\u001b[0m\n",
      "\u001b[94mOCD x Generalized_Lipidoses\u001b[0m\n",
      "\u001b[94mOCD x Genetic_Anomolies_of_Leukocytes\u001b[0m\n",
      "\u001b[94mOCD x Gestational_Pregnancy_Related_Disorder\u001b[0m\n",
      "ss_log__ -1.1447301\n",
      "shift -2.3025851\n",
      "b_shrinkage_log__ -2.28946\n",
      "fixed_b -7.829342\n",
      "ls_log__ -1.1447301\n",
      "var_log__ -1.1447301\n",
      "f_gp_rotated_ -35.838604\n",
      "nu_y_log__ -0.61370564\n",
      "sigma_y_log__ -0.61370564\n"
     ]
    },
    {
     "name": "stderr",
     "output_type": "stream",
     "text": [
      "Initializing NUTS using advi+adapt_diag...\n"
     ]
    },
    {
     "name": "stdout",
     "output_type": "stream",
     "text": [
      "y -224.72323048827204\n"
     ]
    },
    {
     "data": {
      "text/html": [
       "\n",
       "    <div>\n",
       "        <style>\n",
       "            /* Turns off some styling */\n",
       "            progress {\n",
       "                /* gets rid of default border in Firefox and Opera. */\n",
       "                border: none;\n",
       "                /* Needs to be in here for Safari polyfill so background images work as expected. */\n",
       "                background-size: auto;\n",
       "            }\n",
       "            .progress-bar-interrupted, .progress-bar-interrupted::-webkit-progress-bar {\n",
       "                background: #F44336;\n",
       "            }\n",
       "        </style>\n",
       "      <progress value='16225' class='' max='200000' style='width:300px; height:20px; vertical-align: middle;'></progress>\n",
       "      8.11% [16225/200000 00:05<00:59 Average Loss = 153.7]\n",
       "    </div>\n",
       "    "
      ],
      "text/plain": [
       "<IPython.core.display.HTML object>"
      ]
     },
     "metadata": {},
     "output_type": "display_data"
    },
    {
     "name": "stderr",
     "output_type": "stream",
     "text": [
      "Convergence achieved at 16300\n",
      "Interrupted at 16,299 [8%]: Average Loss = 169.44\n",
      "Multiprocess sampling (4 chains in 4 jobs)\n",
      "NUTS: [sigma_y, nu_y, f_gp_rotated_, var, ls, fixed_b, b_shrinkage, shift, ss]\n"
     ]
    },
    {
     "data": {
      "text/html": [
       "\n",
       "    <div>\n",
       "        <style>\n",
       "            /* Turns off some styling */\n",
       "            progress {\n",
       "                /* gets rid of default border in Firefox and Opera. */\n",
       "                border: none;\n",
       "                /* Needs to be in here for Safari polyfill so background images work as expected. */\n",
       "                background-size: auto;\n",
       "            }\n",
       "            .progress-bar-interrupted, .progress-bar-interrupted::-webkit-progress-bar {\n",
       "                background: #F44336;\n",
       "            }\n",
       "        </style>\n",
       "      <progress value='8000' class='' max='8000' style='width:300px; height:20px; vertical-align: middle;'></progress>\n",
       "      100.00% [8000/8000 01:39<00:00 Sampling 4 chains, 5 divergences]\n",
       "    </div>\n",
       "    "
      ],
      "text/plain": [
       "<IPython.core.display.HTML object>"
      ]
     },
     "metadata": {},
     "output_type": "display_data"
    },
    {
     "name": "stderr",
     "output_type": "stream",
     "text": [
      "Sampling 4 chains for 1_500 tune and 500 draw iterations (6_000 + 2_000 draws total) took 100 seconds.\n",
      "There was 1 divergence after tuning. Increase `target_accept` or reparameterize.\n",
      "There was 1 divergence after tuning. Increase `target_accept` or reparameterize.\n",
      "There were 3 divergences after tuning. Increase `target_accept` or reparameterize.\n",
      "The number of effective samples is smaller than 25% for some parameters.\n",
      "Got error No model on context stack. trying to find log_likelihood in translation.\n",
      "Got error No model on context stack. trying to find log_likelihood in translation.\n",
      "Got error No model on context stack. trying to find log_likelihood in translation.\n",
      "Got error No model on context stack. trying to find log_likelihood in translation.\n",
      "Got error No model on context stack. trying to find log_likelihood in translation.\n",
      "Got error No model on context stack. trying to find log_likelihood in translation.\n"
     ]
    },
    {
     "name": "stdout",
     "output_type": "stream",
     "text": [
      "b_shrinkage_log__ -2.28946\n",
      "fixed_b -7.829342\n",
      "ls_log__ -1.1447301\n",
      "var_log__ -1.1447301\n",
      "f_gp_rotated_ -35.838604\n",
      "nu_y_log__ -0.61370564\n",
      "sigma_y_log__ -0.61370564\n"
     ]
    },
    {
     "name": "stderr",
     "output_type": "stream",
     "text": [
      "Initializing NUTS using advi+adapt_diag...\n"
     ]
    },
    {
     "name": "stdout",
     "output_type": "stream",
     "text": [
      "y -224.72323048827204\n"
     ]
    },
    {
     "data": {
      "text/html": [
       "\n",
       "    <div>\n",
       "        <style>\n",
       "            /* Turns off some styling */\n",
       "            progress {\n",
       "                /* gets rid of default border in Firefox and Opera. */\n",
       "                border: none;\n",
       "                /* Needs to be in here for Safari polyfill so background images work as expected. */\n",
       "                background-size: auto;\n",
       "            }\n",
       "            .progress-bar-interrupted, .progress-bar-interrupted::-webkit-progress-bar {\n",
       "                background: #F44336;\n",
       "            }\n",
       "        </style>\n",
       "      <progress value='17643' class='' max='200000' style='width:300px; height:20px; vertical-align: middle;'></progress>\n",
       "      8.82% [17643/200000 00:05<00:56 Average Loss = 149.67]\n",
       "    </div>\n",
       "    "
      ],
      "text/plain": [
       "<IPython.core.display.HTML object>"
      ]
     },
     "metadata": {},
     "output_type": "display_data"
    },
    {
     "name": "stderr",
     "output_type": "stream",
     "text": [
      "Convergence achieved at 17800\n",
      "Interrupted at 17,799 [8%]: Average Loss = 166.9\n",
      "Multiprocess sampling (4 chains in 4 jobs)\n",
      "NUTS: [sigma_y, nu_y, f_gp_rotated_, var, ls, fixed_b, b_shrinkage]\n"
     ]
    },
    {
     "data": {
      "text/html": [
       "\n",
       "    <div>\n",
       "        <style>\n",
       "            /* Turns off some styling */\n",
       "            progress {\n",
       "                /* gets rid of default border in Firefox and Opera. */\n",
       "                border: none;\n",
       "                /* Needs to be in here for Safari polyfill so background images work as expected. */\n",
       "                background-size: auto;\n",
       "            }\n",
       "            .progress-bar-interrupted, .progress-bar-interrupted::-webkit-progress-bar {\n",
       "                background: #F44336;\n",
       "            }\n",
       "        </style>\n",
       "      <progress value='8000' class='' max='8000' style='width:300px; height:20px; vertical-align: middle;'></progress>\n",
       "      100.00% [8000/8000 00:56<00:00 Sampling 4 chains, 12 divergences]\n",
       "    </div>\n",
       "    "
      ],
      "text/plain": [
       "<IPython.core.display.HTML object>"
      ]
     },
     "metadata": {},
     "output_type": "display_data"
    },
    {
     "name": "stderr",
     "output_type": "stream",
     "text": [
      "Sampling 4 chains for 1_500 tune and 500 draw iterations (6_000 + 2_000 draws total) took 57 seconds.\n",
      "There were 2 divergences after tuning. Increase `target_accept` or reparameterize.\n",
      "There were 6 divergences after tuning. Increase `target_accept` or reparameterize.\n",
      "There were 2 divergences after tuning. Increase `target_accept` or reparameterize.\n",
      "There were 2 divergences after tuning. Increase `target_accept` or reparameterize.\n",
      "The number of effective samples is smaller than 25% for some parameters.\n",
      "Got error No model on context stack. trying to find log_likelihood in translation.\n",
      "Got error No model on context stack. trying to find log_likelihood in translation.\n",
      "Got error No model on context stack. trying to find log_likelihood in translation.\n",
      "Got error No model on context stack. trying to find log_likelihood in translation.\n",
      "Got error No model on context stack. trying to find log_likelihood in translation.\n",
      "Got error No model on context stack. trying to find log_likelihood in translation.\n"
     ]
    },
    {
     "name": "stdout",
     "output_type": "stream",
     "text": [
      "\u001b[94mOCD x Glaucoma\u001b[0m\n",
      "\u001b[94mOCD x Globe_Disorders\u001b[0m\n",
      "\u001b[94mOCD x Glucocorticoid-Remediable_Aldosteronism\u001b[0m\n",
      "\u001b[94mOCD x Glycogenosis\u001b[0m\n",
      "\u001b[94mOCD x Goiter\u001b[0m\n",
      "\u001b[94mOCD x Gout_Related_Crystal_Arthropathies\u001b[0m\n",
      "\u001b[94mOCD x Graves_Disease\u001b[0m\n",
      "\u001b[94mOCD x Growth_Hormone_Deficiency\u001b[0m\n",
      "\u001b[94mOCD x HIV\u001b[0m\n",
      "\u001b[94mOCD x Haemophilia_Related_Diseases\u001b[0m\n",
      "\u001b[94mOCD x Hair_Related_Disease\u001b[0m\n",
      "\u001b[94mOCD x Hearing_Loss\u001b[0m\n",
      "ss_log__ -1.1447301\n",
      "shift -2.3025851\n",
      "b_shrinkage_log__ -2.28946\n",
      "fixed_b -7.829342\n",
      "ls_log__ -1.1447301\n",
      "var_log__ -1.1447301\n",
      "f_gp_rotated_ -42.271175\n",
      "nu_y_log__ -0.61370564\n",
      "sigma_y_log__ -0.61370564\n"
     ]
    },
    {
     "name": "stderr",
     "output_type": "stream",
     "text": [
      "Initializing NUTS using advi+adapt_diag...\n"
     ]
    },
    {
     "name": "stdout",
     "output_type": "stream",
     "text": [
      "y -146.31110726928878\n"
     ]
    },
    {
     "data": {
      "text/html": [
       "\n",
       "    <div>\n",
       "        <style>\n",
       "            /* Turns off some styling */\n",
       "            progress {\n",
       "                /* gets rid of default border in Firefox and Opera. */\n",
       "                border: none;\n",
       "                /* Needs to be in here for Safari polyfill so background images work as expected. */\n",
       "                background-size: auto;\n",
       "            }\n",
       "            .progress-bar-interrupted, .progress-bar-interrupted::-webkit-progress-bar {\n",
       "                background: #F44336;\n",
       "            }\n",
       "        </style>\n",
       "      <progress value='16037' class='' max='200000' style='width:300px; height:20px; vertical-align: middle;'></progress>\n",
       "      8.02% [16037/200000 00:05<01:02 Average Loss = 124.64]\n",
       "    </div>\n",
       "    "
      ],
      "text/plain": [
       "<IPython.core.display.HTML object>"
      ]
     },
     "metadata": {},
     "output_type": "display_data"
    },
    {
     "name": "stderr",
     "output_type": "stream",
     "text": [
      "Convergence achieved at 16300\n",
      "Interrupted at 16,299 [8%]: Average Loss = 152.54\n",
      "Multiprocess sampling (4 chains in 4 jobs)\n",
      "NUTS: [sigma_y, nu_y, f_gp_rotated_, var, ls, fixed_b, b_shrinkage, shift, ss]\n"
     ]
    },
    {
     "data": {
      "text/html": [
       "\n",
       "    <div>\n",
       "        <style>\n",
       "            /* Turns off some styling */\n",
       "            progress {\n",
       "                /* gets rid of default border in Firefox and Opera. */\n",
       "                border: none;\n",
       "                /* Needs to be in here for Safari polyfill so background images work as expected. */\n",
       "                background-size: auto;\n",
       "            }\n",
       "            .progress-bar-interrupted, .progress-bar-interrupted::-webkit-progress-bar {\n",
       "                background: #F44336;\n",
       "            }\n",
       "        </style>\n",
       "      <progress value='8000' class='' max='8000' style='width:300px; height:20px; vertical-align: middle;'></progress>\n",
       "      100.00% [8000/8000 00:58<00:00 Sampling 4 chains, 10 divergences]\n",
       "    </div>\n",
       "    "
      ],
      "text/plain": [
       "<IPython.core.display.HTML object>"
      ]
     },
     "metadata": {},
     "output_type": "display_data"
    },
    {
     "name": "stderr",
     "output_type": "stream",
     "text": [
      "Sampling 4 chains for 1_500 tune and 500 draw iterations (6_000 + 2_000 draws total) took 58 seconds.\n",
      "There were 6 divergences after tuning. Increase `target_accept` or reparameterize.\n",
      "There were 2 divergences after tuning. Increase `target_accept` or reparameterize.\n",
      "There were 2 divergences after tuning. Increase `target_accept` or reparameterize.\n",
      "The number of effective samples is smaller than 25% for some parameters.\n",
      "Got error No model on context stack. trying to find log_likelihood in translation.\n",
      "Got error No model on context stack. trying to find log_likelihood in translation.\n",
      "Got error No model on context stack. trying to find log_likelihood in translation.\n",
      "Got error No model on context stack. trying to find log_likelihood in translation.\n",
      "Got error No model on context stack. trying to find log_likelihood in translation.\n",
      "Got error No model on context stack. trying to find log_likelihood in translation.\n"
     ]
    },
    {
     "name": "stdout",
     "output_type": "stream",
     "text": [
      "b_shrinkage_log__ -2.28946\n",
      "fixed_b -7.829342\n",
      "ls_log__ -1.1447301\n",
      "var_log__ -1.1447301\n",
      "f_gp_rotated_ -42.271175\n",
      "nu_y_log__ -0.61370564\n",
      "sigma_y_log__ -0.61370564\n"
     ]
    },
    {
     "name": "stderr",
     "output_type": "stream",
     "text": [
      "Initializing NUTS using advi+adapt_diag...\n"
     ]
    },
    {
     "name": "stdout",
     "output_type": "stream",
     "text": [
      "y -146.31110726928878\n"
     ]
    },
    {
     "data": {
      "text/html": [
       "\n",
       "    <div>\n",
       "        <style>\n",
       "            /* Turns off some styling */\n",
       "            progress {\n",
       "                /* gets rid of default border in Firefox and Opera. */\n",
       "                border: none;\n",
       "                /* Needs to be in here for Safari polyfill so background images work as expected. */\n",
       "                background-size: auto;\n",
       "            }\n",
       "            .progress-bar-interrupted, .progress-bar-interrupted::-webkit-progress-bar {\n",
       "                background: #F44336;\n",
       "            }\n",
       "        </style>\n",
       "      <progress value='17335' class='' max='200000' style='width:300px; height:20px; vertical-align: middle;'></progress>\n",
       "      8.67% [17335/200000 00:05<00:59 Average Loss = 122.87]\n",
       "    </div>\n",
       "    "
      ],
      "text/plain": [
       "<IPython.core.display.HTML object>"
      ]
     },
     "metadata": {},
     "output_type": "display_data"
    },
    {
     "name": "stderr",
     "output_type": "stream",
     "text": [
      "Convergence achieved at 17800\n",
      "Interrupted at 17,799 [8%]: Average Loss = 148.71\n",
      "Multiprocess sampling (4 chains in 4 jobs)\n",
      "NUTS: [sigma_y, nu_y, f_gp_rotated_, var, ls, fixed_b, b_shrinkage]\n"
     ]
    },
    {
     "data": {
      "text/html": [
       "\n",
       "    <div>\n",
       "        <style>\n",
       "            /* Turns off some styling */\n",
       "            progress {\n",
       "                /* gets rid of default border in Firefox and Opera. */\n",
       "                border: none;\n",
       "                /* Needs to be in here for Safari polyfill so background images work as expected. */\n",
       "                background-size: auto;\n",
       "            }\n",
       "            .progress-bar-interrupted, .progress-bar-interrupted::-webkit-progress-bar {\n",
       "                background: #F44336;\n",
       "            }\n",
       "        </style>\n",
       "      <progress value='8000' class='' max='8000' style='width:300px; height:20px; vertical-align: middle;'></progress>\n",
       "      100.00% [8000/8000 00:43<00:00 Sampling 4 chains, 15 divergences]\n",
       "    </div>\n",
       "    "
      ],
      "text/plain": [
       "<IPython.core.display.HTML object>"
      ]
     },
     "metadata": {},
     "output_type": "display_data"
    },
    {
     "name": "stderr",
     "output_type": "stream",
     "text": [
      "Sampling 4 chains for 1_500 tune and 500 draw iterations (6_000 + 2_000 draws total) took 43 seconds.\n",
      "There were 3 divergences after tuning. Increase `target_accept` or reparameterize.\n",
      "There were 7 divergences after tuning. Increase `target_accept` or reparameterize.\n",
      "There were 3 divergences after tuning. Increase `target_accept` or reparameterize.\n",
      "There were 2 divergences after tuning. Increase `target_accept` or reparameterize.\n",
      "The number of effective samples is smaller than 25% for some parameters.\n",
      "Got error No model on context stack. trying to find log_likelihood in translation.\n",
      "Got error No model on context stack. trying to find log_likelihood in translation.\n",
      "Got error No model on context stack. trying to find log_likelihood in translation.\n",
      "Got error No model on context stack. trying to find log_likelihood in translation.\n",
      "Got error No model on context stack. trying to find log_likelihood in translation.\n",
      "Got error No model on context stack. trying to find log_likelihood in translation.\n"
     ]
    },
    {
     "name": "stdout",
     "output_type": "stream",
     "text": [
      "\u001b[94mOCD x Helicobacter_Pylori_Infection\u001b[0m\n",
      "\u001b[94mOCD x Hemangioma_Lymphangioma\u001b[0m\n",
      "\u001b[94mOCD x Hemiplegia\u001b[0m\n",
      "\u001b[94mOCD x Hepatobiliary_Cancer\u001b[0m\n",
      "\u001b[94mOCD x Hepatobiliary_Congenital_Anomaly\u001b[0m\n",
      "\u001b[94mOCD x Hereditary_Blepharophimosis\u001b[0m\n",
      "\u001b[94mOCD x Hereditary_Breast_Cancer\u001b[0m\n",
      "\u001b[94mOCD x Hereditary_Color_Blindness\u001b[0m\n",
      "\u001b[94mOCD x Hereditary_Corneal_Dystrophy\u001b[0m\n",
      "\u001b[94mOCD x Hereditary_Dental_Anomaly\u001b[0m\n",
      "\u001b[94mOCD x Hereditary_Elliptocytosis\u001b[0m\n",
      "\u001b[94mOCD x Hereditary_Face_Skull_Anomalies\u001b[0m\n",
      "\u001b[94mOCD x Hereditary_Fructose_Intolerance\u001b[0m\n",
      "\u001b[94mOCD x Hereditary_Harartoses\u001b[0m\n",
      "\u001b[94mOCD x Hereditary_Hemochromatosis\u001b[0m\n",
      "\u001b[94mOCD x Hereditary_Hemoglobin_Disease\u001b[0m\n",
      "\u001b[94mOCD x Hereditary_Hemorrhagic_Telangiectasia\u001b[0m\n",
      "\u001b[94mOCD x Hereditary_Lymphadema\u001b[0m\n",
      "\u001b[94mOCD x Hereditary_Muscular_Dystrophy\u001b[0m\n",
      "\u001b[94mOCD x Hereditary_Night_Blindness\u001b[0m\n",
      "\u001b[94mOCD x Hereditary_Polycythemia_Vera\u001b[0m\n",
      "\u001b[94mOCD x Hereditary_Progessive_Muscular_Dystrophy\u001b[0m\n",
      "\u001b[94mOCD x Hereditary_Sensory_Neuropathy\u001b[0m\n",
      "\u001b[94mOCD x Hereditary_Spastic_Paraplegia\u001b[0m\n",
      "\u001b[94mOCD x Hereditary_Spherocytosis\u001b[0m\n",
      "\u001b[94mOCD x Hereditary_Stomatocytosis\u001b[0m\n",
      "\u001b[94mOCD x Hereditary_Thrombocytopenic_Purpura\u001b[0m\n",
      "\u001b[94mOCD x Hernia\u001b[0m\n",
      "\u001b[94mOCD x Herpes_Simplex\u001b[0m\n",
      "\u001b[94mOCD x Herpes_Zoster\u001b[0m\n",
      "\u001b[94mOCD x Hirschsprungs_Disease\u001b[0m\n",
      "\u001b[94mOCD x Hirsutism\u001b[0m\n",
      "\u001b[94mOCD x Histidinemia\u001b[0m\n",
      "\u001b[94mOCD x Hodgkins_Disease\u001b[0m\n",
      "\u001b[94mOCD x Homocystinuria\u001b[0m\n",
      "\u001b[94mOCD x Huntingtons_Chorea\u001b[0m\n",
      "\u001b[94mOCD x Hyper_IgM_Immunodeficiency\u001b[0m\n",
      "\u001b[94mOCD x Hyperaldosteronism\u001b[0m\n",
      "\u001b[94mOCD x Hyperalimentation\u001b[0m\n",
      "\u001b[94mOCD x Hyperchylomicronemia\u001b[0m\n",
      "\u001b[94mOCD x Hypotension\u001b[0m\n",
      "\u001b[94mOCD x Hypotony_of_the_Eye\u001b[0m\n",
      "\u001b[94mOCD x IBS\u001b[0m\n",
      "\u001b[94mOCD x Ichthyosis_Congenita\u001b[0m\n",
      "\u001b[94mOCD x IgA_Immunodeficiency\u001b[0m\n",
      "\u001b[94mOCD x IgM_Immunodeficiency\u001b[0m\n",
      "\u001b[94mOCD x Impulse_Control_Disorder\u001b[0m\n",
      "\u001b[94mOCD x Indeterminate_Sex_Pseudohermaphroditism\u001b[0m\n",
      "\u001b[94mOCD x Infestation\u001b[0m\n",
      "\u001b[94mOCD x Inflammatory_Spondylopathies\u001b[0m\n",
      "\u001b[94mOCD x Inflammatory_Toxic_Neuropathy\u001b[0m\n",
      "\u001b[94mOCD x Influenza\u001b[0m\n",
      "ss_log__ -1.1447301\n",
      "shift -2.3025851\n",
      "b_shrinkage_log__ -2.28946\n",
      "fixed_b -7.829342\n",
      "ls_log__ -1.1447301\n",
      "var_log__ -1.1447301\n",
      "f_gp_rotated_ -46.865868\n",
      "nu_y_log__ -0.61370564\n",
      "sigma_y_log__ -0.61370564\n"
     ]
    },
    {
     "name": "stderr",
     "output_type": "stream",
     "text": [
      "Initializing NUTS using advi+adapt_diag...\n"
     ]
    },
    {
     "name": "stdout",
     "output_type": "stream",
     "text": [
      "y -170.9083837245728\n"
     ]
    },
    {
     "data": {
      "text/html": [
       "\n",
       "    <div>\n",
       "        <style>\n",
       "            /* Turns off some styling */\n",
       "            progress {\n",
       "                /* gets rid of default border in Firefox and Opera. */\n",
       "                border: none;\n",
       "                /* Needs to be in here for Safari polyfill so background images work as expected. */\n",
       "                background-size: auto;\n",
       "            }\n",
       "            .progress-bar-interrupted, .progress-bar-interrupted::-webkit-progress-bar {\n",
       "                background: #F44336;\n",
       "            }\n",
       "        </style>\n",
       "      <progress value='17451' class='' max='200000' style='width:300px; height:20px; vertical-align: middle;'></progress>\n",
       "      8.73% [17451/200000 00:06<01:07 Average Loss = 148.96]\n",
       "    </div>\n",
       "    "
      ],
      "text/plain": [
       "<IPython.core.display.HTML object>"
      ]
     },
     "metadata": {},
     "output_type": "display_data"
    },
    {
     "name": "stderr",
     "output_type": "stream",
     "text": [
      "Convergence achieved at 17900\n",
      "Interrupted at 17,899 [8%]: Average Loss = 175.4\n",
      "Multiprocess sampling (4 chains in 4 jobs)\n",
      "NUTS: [sigma_y, nu_y, f_gp_rotated_, var, ls, fixed_b, b_shrinkage, shift, ss]\n"
     ]
    },
    {
     "data": {
      "text/html": [
       "\n",
       "    <div>\n",
       "        <style>\n",
       "            /* Turns off some styling */\n",
       "            progress {\n",
       "                /* gets rid of default border in Firefox and Opera. */\n",
       "                border: none;\n",
       "                /* Needs to be in here for Safari polyfill so background images work as expected. */\n",
       "                background-size: auto;\n",
       "            }\n",
       "            .progress-bar-interrupted, .progress-bar-interrupted::-webkit-progress-bar {\n",
       "                background: #F44336;\n",
       "            }\n",
       "        </style>\n",
       "      <progress value='8000' class='' max='8000' style='width:300px; height:20px; vertical-align: middle;'></progress>\n",
       "      100.00% [8000/8000 01:08<00:00 Sampling 4 chains, 2 divergences]\n",
       "    </div>\n",
       "    "
      ],
      "text/plain": [
       "<IPython.core.display.HTML object>"
      ]
     },
     "metadata": {},
     "output_type": "display_data"
    },
    {
     "name": "stderr",
     "output_type": "stream",
     "text": [
      "Sampling 4 chains for 1_500 tune and 500 draw iterations (6_000 + 2_000 draws total) took 69 seconds.\n",
      "There was 1 divergence after tuning. Increase `target_accept` or reparameterize.\n",
      "There was 1 divergence after tuning. Increase `target_accept` or reparameterize.\n",
      "The rhat statistic is larger than 1.05 for some parameters. This indicates slight problems during sampling.\n",
      "The estimated number of effective samples is smaller than 200 for some parameters.\n",
      "Got error No model on context stack. trying to find log_likelihood in translation.\n",
      "Got error No model on context stack. trying to find log_likelihood in translation.\n",
      "Got error No model on context stack. trying to find log_likelihood in translation.\n",
      "Got error No model on context stack. trying to find log_likelihood in translation.\n",
      "Got error No model on context stack. trying to find log_likelihood in translation.\n",
      "Got error No model on context stack. trying to find log_likelihood in translation.\n"
     ]
    },
    {
     "name": "stdout",
     "output_type": "stream",
     "text": [
      "b_shrinkage_log__ -2.28946\n",
      "fixed_b -7.829342\n",
      "ls_log__ -1.1447301\n",
      "var_log__ -1.1447301\n",
      "f_gp_rotated_ -46.865868\n",
      "nu_y_log__ -0.61370564\n",
      "sigma_y_log__ -0.61370564\n"
     ]
    },
    {
     "name": "stderr",
     "output_type": "stream",
     "text": [
      "Initializing NUTS using advi+adapt_diag...\n"
     ]
    },
    {
     "name": "stdout",
     "output_type": "stream",
     "text": [
      "y -170.9083837245728\n"
     ]
    },
    {
     "data": {
      "text/html": [
       "\n",
       "    <div>\n",
       "        <style>\n",
       "            /* Turns off some styling */\n",
       "            progress {\n",
       "                /* gets rid of default border in Firefox and Opera. */\n",
       "                border: none;\n",
       "                /* Needs to be in here for Safari polyfill so background images work as expected. */\n",
       "                background-size: auto;\n",
       "            }\n",
       "            .progress-bar-interrupted, .progress-bar-interrupted::-webkit-progress-bar {\n",
       "                background: #F44336;\n",
       "            }\n",
       "        </style>\n",
       "      <progress value='15304' class='' max='200000' style='width:300px; height:20px; vertical-align: middle;'></progress>\n",
       "      7.65% [15304/200000 00:05<01:03 Average Loss = 150.75]\n",
       "    </div>\n",
       "    "
      ],
      "text/plain": [
       "<IPython.core.display.HTML object>"
      ]
     },
     "metadata": {},
     "output_type": "display_data"
    },
    {
     "name": "stderr",
     "output_type": "stream",
     "text": [
      "Convergence achieved at 15800\n",
      "Interrupted at 15,799 [7%]: Average Loss = 178.22\n",
      "Multiprocess sampling (4 chains in 4 jobs)\n",
      "NUTS: [sigma_y, nu_y, f_gp_rotated_, var, ls, fixed_b, b_shrinkage]\n"
     ]
    },
    {
     "data": {
      "text/html": [
       "\n",
       "    <div>\n",
       "        <style>\n",
       "            /* Turns off some styling */\n",
       "            progress {\n",
       "                /* gets rid of default border in Firefox and Opera. */\n",
       "                border: none;\n",
       "                /* Needs to be in here for Safari polyfill so background images work as expected. */\n",
       "                background-size: auto;\n",
       "            }\n",
       "            .progress-bar-interrupted, .progress-bar-interrupted::-webkit-progress-bar {\n",
       "                background: #F44336;\n",
       "            }\n",
       "        </style>\n",
       "      <progress value='8000' class='' max='8000' style='width:300px; height:20px; vertical-align: middle;'></progress>\n",
       "      100.00% [8000/8000 00:49<00:00 Sampling 4 chains, 3 divergences]\n",
       "    </div>\n",
       "    "
      ],
      "text/plain": [
       "<IPython.core.display.HTML object>"
      ]
     },
     "metadata": {},
     "output_type": "display_data"
    },
    {
     "name": "stderr",
     "output_type": "stream",
     "text": [
      "Sampling 4 chains for 1_500 tune and 500 draw iterations (6_000 + 2_000 draws total) took 50 seconds.\n",
      "There was 1 divergence after tuning. Increase `target_accept` or reparameterize.\n",
      "There were 2 divergences after tuning. Increase `target_accept` or reparameterize.\n",
      "The estimated number of effective samples is smaller than 200 for some parameters.\n",
      "Got error No model on context stack. trying to find log_likelihood in translation.\n",
      "Got error No model on context stack. trying to find log_likelihood in translation.\n",
      "Got error No model on context stack. trying to find log_likelihood in translation.\n",
      "Got error No model on context stack. trying to find log_likelihood in translation.\n",
      "Got error No model on context stack. trying to find log_likelihood in translation.\n",
      "Got error No model on context stack. trying to find log_likelihood in translation.\n"
     ]
    },
    {
     "name": "stdout",
     "output_type": "stream",
     "text": [
      "\u001b[94mOCD x Inner_Ear_Disorder\u001b[0m\n",
      "\u001b[94mOCD x Intellectual_Disability\u001b[0m\n",
      "\u001b[94mOCD x Intestinal_Cancer\u001b[0m\n",
      "\u001b[94mOCD x Intrathoracic_Organ_Cancer\u001b[0m\n",
      "\u001b[94mOCD x Iron_Metabolism_Disorder\u001b[0m\n",
      "\u001b[94mOCD x Jaw_Disease\u001b[0m\n",
      "\u001b[94mOCD x Kaposis_Sarcoma\u001b[0m\n",
      "\u001b[94mOCD x Kawasaki_Disease\u001b[0m\n",
      "\u001b[94mOCD x Keratosis\u001b[0m\n",
      "\u001b[94mOCD x Kidney_Cancer\u001b[0m\n",
      "\u001b[94mOCD x Kidney_Infection\u001b[0m\n",
      "\u001b[94mOCD x Klinefelters_Syndrome\u001b[0m\n",
      "\u001b[94mOCD x Klippel_Feil_Syndrome\u001b[0m\n",
      "\u001b[94mOCD x Lacrimal_System_Disorder\u001b[0m\n",
      "\u001b[94mOCD x Lactose_Intolerance\u001b[0m\n",
      "\u001b[94mOCD x Larynx_Vocal_Chord_Disorders\u001b[0m\n",
      "\u001b[94mOCD x Learning_Disorder\u001b[0m\n",
      "\u001b[94mOCD x Leukodystropy\u001b[0m\n",
      "\u001b[94mOCD x Lichen\u001b[0m\n",
      "\u001b[94mOCD x Lipodystrophy\u001b[0m\n",
      "\u001b[94mOCD x Lipoma\u001b[0m\n",
      "\u001b[94mOCD x Lipoprotein_Deficiency\u001b[0m\n",
      "\u001b[94mOCD x Localized_Adiposity\u001b[0m\n",
      "\u001b[94mOCD x Long_QT_Syndrome\u001b[0m\n",
      "\u001b[94mOCD x Lung_Cancer\u001b[0m\n",
      "\u001b[94mOCD x Lupus_Erythematosus\u001b[0m\n",
      "\u001b[94mOCD x Lymphatic_Disorder\u001b[0m\n",
      "\u001b[94mOCD x Lymphoid_Leukemia\u001b[0m\n",
      "\u001b[94mOCD x Lysosomal_Storage_Disease\u001b[0m\n",
      "\u001b[94mOCD x MENI\u001b[0m\n",
      "\u001b[94mOCD x MENIIA\u001b[0m\n",
      "\u001b[94mOCD x MENIIB\u001b[0m\n",
      "\u001b[94mOCD x Macular_Degeneration\u001b[0m\n",
      "\u001b[94mOCD x Male_Breast_Cancer\u001b[0m\n",
      "\u001b[94mOCD x Male_Genital_Cancer\u001b[0m\n",
      "\u001b[94mOCD x Male_Genital_Congenital_Anomaly\u001b[0m\n",
      "\u001b[94mOCD x Malnutrition\u001b[0m\n",
      "\u001b[94mOCD x Marfan_Syndrome\u001b[0m\n",
      "\u001b[94mOCD x Medullary_Cystic_Kidney_Disease\u001b[0m\n",
      "\u001b[94mOCD x Megaloblastic_Anemia\u001b[0m\n",
      "\u001b[94mOCD x Melanoma\u001b[0m\n",
      "\u001b[94mOCD x Meningitis\u001b[0m\n",
      "\u001b[94mOCD x Menopausal_Disorder\u001b[0m\n",
      "\u001b[94mOCD x Menstrual_Disorder\u001b[0m\n",
      "\u001b[94mOCD x Metabolic_Syndrome_X\u001b[0m\n",
      "\u001b[94mOCD x Migraine\u001b[0m\n",
      "\u001b[94mOCD x Mixed_Hyperlipidemia\u001b[0m\n",
      "\u001b[94mOCD x Mood_Disorder\u001b[0m\n",
      "\u001b[94mOCD x Motor_Neuron_Disease\u001b[0m\n",
      "\u001b[94mOCD x Mucopolysaccharidosis\u001b[0m\n",
      "\u001b[94mOCD x Multiple_Epiphyseal_Dysplasia\u001b[0m\n",
      "\u001b[94mOCD x Multiple_Myeloma\u001b[0m\n",
      "\u001b[94mOCD x Multiple_Sclerosis_Other_Demyelinating_Disease\u001b[0m\n",
      "\u001b[94mOCD x Muscle_Ligament_Disorder\u001b[0m\n",
      "ss_log__ -1.1447301\n",
      "shift -2.3025851\n",
      "b_shrinkage_log__ -2.28946\n",
      "fixed_b -7.829342\n",
      "ls_log__ -1.1447301\n",
      "var_log__ -1.1447301\n",
      "f_gp_rotated_ -32.16285\n",
      "nu_y_log__ -0.61370564\n",
      "sigma_y_log__ -0.61370564\n"
     ]
    },
    {
     "name": "stderr",
     "output_type": "stream",
     "text": [
      "Initializing NUTS using advi+adapt_diag...\n"
     ]
    },
    {
     "name": "stdout",
     "output_type": "stream",
     "text": [
      "y -99.22164777583076\n"
     ]
    },
    {
     "data": {
      "text/html": [
       "\n",
       "    <div>\n",
       "        <style>\n",
       "            /* Turns off some styling */\n",
       "            progress {\n",
       "                /* gets rid of default border in Firefox and Opera. */\n",
       "                border: none;\n",
       "                /* Needs to be in here for Safari polyfill so background images work as expected. */\n",
       "                background-size: auto;\n",
       "            }\n",
       "            .progress-bar-interrupted, .progress-bar-interrupted::-webkit-progress-bar {\n",
       "                background: #F44336;\n",
       "            }\n",
       "        </style>\n",
       "      <progress value='16308' class='' max='200000' style='width:300px; height:20px; vertical-align: middle;'></progress>\n",
       "      8.15% [16308/200000 00:05<00:56 Average Loss = 95.769]\n",
       "    </div>\n",
       "    "
      ],
      "text/plain": [
       "<IPython.core.display.HTML object>"
      ]
     },
     "metadata": {},
     "output_type": "display_data"
    },
    {
     "name": "stderr",
     "output_type": "stream",
     "text": [
      "Convergence achieved at 16500\n",
      "Interrupted at 16,499 [8%]: Average Loss = 115.44\n",
      "Multiprocess sampling (4 chains in 4 jobs)\n",
      "NUTS: [sigma_y, nu_y, f_gp_rotated_, var, ls, fixed_b, b_shrinkage, shift, ss]\n"
     ]
    },
    {
     "data": {
      "text/html": [
       "\n",
       "    <div>\n",
       "        <style>\n",
       "            /* Turns off some styling */\n",
       "            progress {\n",
       "                /* gets rid of default border in Firefox and Opera. */\n",
       "                border: none;\n",
       "                /* Needs to be in here for Safari polyfill so background images work as expected. */\n",
       "                background-size: auto;\n",
       "            }\n",
       "            .progress-bar-interrupted, .progress-bar-interrupted::-webkit-progress-bar {\n",
       "                background: #F44336;\n",
       "            }\n",
       "        </style>\n",
       "      <progress value='8000' class='' max='8000' style='width:300px; height:20px; vertical-align: middle;'></progress>\n",
       "      100.00% [8000/8000 00:46<00:00 Sampling 4 chains, 1 divergences]\n",
       "    </div>\n",
       "    "
      ],
      "text/plain": [
       "<IPython.core.display.HTML object>"
      ]
     },
     "metadata": {},
     "output_type": "display_data"
    },
    {
     "name": "stderr",
     "output_type": "stream",
     "text": [
      "Sampling 4 chains for 1_500 tune and 500 draw iterations (6_000 + 2_000 draws total) took 47 seconds.\n",
      "There was 1 divergence after tuning. Increase `target_accept` or reparameterize.\n",
      "The acceptance probability does not match the target. It is 0.7445052726326338, but should be close to 0.9. Try to increase the number of tuning steps.\n",
      "The rhat statistic is larger than 1.05 for some parameters. This indicates slight problems during sampling.\n",
      "The estimated number of effective samples is smaller than 200 for some parameters.\n",
      "Got error No model on context stack. trying to find log_likelihood in translation.\n",
      "Got error No model on context stack. trying to find log_likelihood in translation.\n",
      "Got error No model on context stack. trying to find log_likelihood in translation.\n",
      "Got error No model on context stack. trying to find log_likelihood in translation.\n",
      "Got error No model on context stack. trying to find log_likelihood in translation.\n",
      "Got error No model on context stack. trying to find log_likelihood in translation.\n"
     ]
    },
    {
     "name": "stdout",
     "output_type": "stream",
     "text": [
      "b_shrinkage_log__ -2.28946\n",
      "fixed_b -7.829342\n",
      "ls_log__ -1.1447301\n",
      "var_log__ -1.1447301\n",
      "f_gp_rotated_ -32.16285\n",
      "nu_y_log__ -0.61370564\n",
      "sigma_y_log__ -0.61370564\n"
     ]
    },
    {
     "name": "stderr",
     "output_type": "stream",
     "text": [
      "Initializing NUTS using advi+adapt_diag...\n"
     ]
    },
    {
     "name": "stdout",
     "output_type": "stream",
     "text": [
      "y -99.22164777583076\n"
     ]
    },
    {
     "data": {
      "text/html": [
       "\n",
       "    <div>\n",
       "        <style>\n",
       "            /* Turns off some styling */\n",
       "            progress {\n",
       "                /* gets rid of default border in Firefox and Opera. */\n",
       "                border: none;\n",
       "                /* Needs to be in here for Safari polyfill so background images work as expected. */\n",
       "                background-size: auto;\n",
       "            }\n",
       "            .progress-bar-interrupted, .progress-bar-interrupted::-webkit-progress-bar {\n",
       "                background: #F44336;\n",
       "            }\n",
       "        </style>\n",
       "      <progress value='17872' class='' max='200000' style='width:300px; height:20px; vertical-align: middle;'></progress>\n",
       "      8.94% [17872/200000 00:05<00:53 Average Loss = 92.904]\n",
       "    </div>\n",
       "    "
      ],
      "text/plain": [
       "<IPython.core.display.HTML object>"
      ]
     },
     "metadata": {},
     "output_type": "display_data"
    },
    {
     "name": "stderr",
     "output_type": "stream",
     "text": [
      "Convergence achieved at 18000\n",
      "Interrupted at 17,999 [8%]: Average Loss = 112.43\n",
      "Multiprocess sampling (4 chains in 4 jobs)\n",
      "NUTS: [sigma_y, nu_y, f_gp_rotated_, var, ls, fixed_b, b_shrinkage]\n"
     ]
    },
    {
     "data": {
      "text/html": [
       "\n",
       "    <div>\n",
       "        <style>\n",
       "            /* Turns off some styling */\n",
       "            progress {\n",
       "                /* gets rid of default border in Firefox and Opera. */\n",
       "                border: none;\n",
       "                /* Needs to be in here for Safari polyfill so background images work as expected. */\n",
       "                background-size: auto;\n",
       "            }\n",
       "            .progress-bar-interrupted, .progress-bar-interrupted::-webkit-progress-bar {\n",
       "                background: #F44336;\n",
       "            }\n",
       "        </style>\n",
       "      <progress value='8000' class='' max='8000' style='width:300px; height:20px; vertical-align: middle;'></progress>\n",
       "      100.00% [8000/8000 00:41<00:00 Sampling 4 chains, 4 divergences]\n",
       "    </div>\n",
       "    "
      ],
      "text/plain": [
       "<IPython.core.display.HTML object>"
      ]
     },
     "metadata": {},
     "output_type": "display_data"
    },
    {
     "name": "stderr",
     "output_type": "stream",
     "text": [
      "Sampling 4 chains for 1_500 tune and 500 draw iterations (6_000 + 2_000 draws total) took 42 seconds.\n",
      "There was 1 divergence after tuning. Increase `target_accept` or reparameterize.\n",
      "There were 3 divergences after tuning. Increase `target_accept` or reparameterize.\n",
      "The acceptance probability does not match the target. It is 0.829580381093589, but should be close to 0.9. Try to increase the number of tuning steps.\n",
      "The estimated number of effective samples is smaller than 200 for some parameters.\n",
      "Got error No model on context stack. trying to find log_likelihood in translation.\n",
      "Got error No model on context stack. trying to find log_likelihood in translation.\n",
      "Got error No model on context stack. trying to find log_likelihood in translation.\n",
      "Got error No model on context stack. trying to find log_likelihood in translation.\n",
      "Got error No model on context stack. trying to find log_likelihood in translation.\n",
      "Got error No model on context stack. trying to find log_likelihood in translation.\n"
     ]
    },
    {
     "name": "stdout",
     "output_type": "stream",
     "text": [
      "\u001b[94mOCD x Myasthenia_Gravis\u001b[0m\n",
      "\u001b[94mOCD x Mycobacterial_Disease\u001b[0m\n",
      "\u001b[94mOCD x Myeloid_Leukemia\u001b[0m\n",
      "\u001b[94mOCD x Myeloproliferative_Disease\u001b[0m\n",
      "\u001b[94mOCD x Myocardial_Infarction\u001b[0m\n",
      "\u001b[94mOCD x Myoneural_Disorders\u001b[0m\n",
      "\u001b[94mOCD x Myotonia_Congenita\u001b[0m\n",
      "\u001b[94mOCD x Myotonic_Muscular_Dystrophy\u001b[0m\n",
      "\u001b[94mOCD x Nail_Disease\u001b[0m\n",
      "\u001b[94mOCD x Neonatal_Disease\u001b[0m\n",
      "ss_log__ -1.1447301\n",
      "shift -2.3025851\n",
      "b_shrinkage_log__ -2.28946\n",
      "fixed_b -7.829342\n",
      "ls_log__ -1.1447301\n",
      "var_log__ -1.1447301\n",
      "f_gp_rotated_ -39.51436\n",
      "nu_y_log__ -0.61370564\n",
      "sigma_y_log__ -0.61370564\n"
     ]
    },
    {
     "name": "stderr",
     "output_type": "stream",
     "text": [
      "Initializing NUTS using advi+adapt_diag...\n"
     ]
    },
    {
     "name": "stdout",
     "output_type": "stream",
     "text": [
      "y -183.05542220405258\n"
     ]
    },
    {
     "data": {
      "text/html": [
       "\n",
       "    <div>\n",
       "        <style>\n",
       "            /* Turns off some styling */\n",
       "            progress {\n",
       "                /* gets rid of default border in Firefox and Opera. */\n",
       "                border: none;\n",
       "                /* Needs to be in here for Safari polyfill so background images work as expected. */\n",
       "                background-size: auto;\n",
       "            }\n",
       "            .progress-bar-interrupted, .progress-bar-interrupted::-webkit-progress-bar {\n",
       "                background: #F44336;\n",
       "            }\n",
       "        </style>\n",
       "      <progress value='17158' class='' max='200000' style='width:300px; height:20px; vertical-align: middle;'></progress>\n",
       "      8.58% [17158/200000 00:05<01:01 Average Loss = 145.64]\n",
       "    </div>\n",
       "    "
      ],
      "text/plain": [
       "<IPython.core.display.HTML object>"
      ]
     },
     "metadata": {},
     "output_type": "display_data"
    },
    {
     "name": "stderr",
     "output_type": "stream",
     "text": [
      "Convergence achieved at 17400\n",
      "Interrupted at 17,399 [8%]: Average Loss = 164.54\n",
      "Multiprocess sampling (4 chains in 4 jobs)\n",
      "NUTS: [sigma_y, nu_y, f_gp_rotated_, var, ls, fixed_b, b_shrinkage, shift, ss]\n"
     ]
    },
    {
     "data": {
      "text/html": [
       "\n",
       "    <div>\n",
       "        <style>\n",
       "            /* Turns off some styling */\n",
       "            progress {\n",
       "                /* gets rid of default border in Firefox and Opera. */\n",
       "                border: none;\n",
       "                /* Needs to be in here for Safari polyfill so background images work as expected. */\n",
       "                background-size: auto;\n",
       "            }\n",
       "            .progress-bar-interrupted, .progress-bar-interrupted::-webkit-progress-bar {\n",
       "                background: #F44336;\n",
       "            }\n",
       "        </style>\n",
       "      <progress value='8000' class='' max='8000' style='width:300px; height:20px; vertical-align: middle;'></progress>\n",
       "      100.00% [8000/8000 01:21<00:00 Sampling 4 chains, 16 divergences]\n",
       "    </div>\n",
       "    "
      ],
      "text/plain": [
       "<IPython.core.display.HTML object>"
      ]
     },
     "metadata": {},
     "output_type": "display_data"
    },
    {
     "name": "stderr",
     "output_type": "stream",
     "text": [
      "Sampling 4 chains for 1_500 tune and 500 draw iterations (6_000 + 2_000 draws total) took 82 seconds.\n",
      "There were 7 divergences after tuning. Increase `target_accept` or reparameterize.\n",
      "There were 2 divergences after tuning. Increase `target_accept` or reparameterize.\n",
      "There were 7 divergences after tuning. Increase `target_accept` or reparameterize.\n",
      "The number of effective samples is smaller than 25% for some parameters.\n",
      "Got error No model on context stack. trying to find log_likelihood in translation.\n",
      "Got error No model on context stack. trying to find log_likelihood in translation.\n",
      "Got error No model on context stack. trying to find log_likelihood in translation.\n",
      "Got error No model on context stack. trying to find log_likelihood in translation.\n",
      "Got error No model on context stack. trying to find log_likelihood in translation.\n",
      "Got error No model on context stack. trying to find log_likelihood in translation.\n"
     ]
    },
    {
     "name": "stdout",
     "output_type": "stream",
     "text": [
      "b_shrinkage_log__ -2.28946\n",
      "fixed_b -7.829342\n",
      "ls_log__ -1.1447301\n",
      "var_log__ -1.1447301\n",
      "f_gp_rotated_ -39.51436\n",
      "nu_y_log__ -0.61370564\n",
      "sigma_y_log__ -0.61370564\n"
     ]
    },
    {
     "name": "stderr",
     "output_type": "stream",
     "text": [
      "Initializing NUTS using advi+adapt_diag...\n"
     ]
    },
    {
     "name": "stdout",
     "output_type": "stream",
     "text": [
      "y -183.05542220405258\n"
     ]
    },
    {
     "data": {
      "text/html": [
       "\n",
       "    <div>\n",
       "        <style>\n",
       "            /* Turns off some styling */\n",
       "            progress {\n",
       "                /* gets rid of default border in Firefox and Opera. */\n",
       "                border: none;\n",
       "                /* Needs to be in here for Safari polyfill so background images work as expected. */\n",
       "                background-size: auto;\n",
       "            }\n",
       "            .progress-bar-interrupted, .progress-bar-interrupted::-webkit-progress-bar {\n",
       "                background: #F44336;\n",
       "            }\n",
       "        </style>\n",
       "      <progress value='17907' class='' max='200000' style='width:300px; height:20px; vertical-align: middle;'></progress>\n",
       "      8.95% [17907/200000 00:05<00:57 Average Loss = 143.08]\n",
       "    </div>\n",
       "    "
      ],
      "text/plain": [
       "<IPython.core.display.HTML object>"
      ]
     },
     "metadata": {},
     "output_type": "display_data"
    },
    {
     "name": "stderr",
     "output_type": "stream",
     "text": [
      "Convergence achieved at 18400\n",
      "Interrupted at 18,399 [9%]: Average Loss = 162.28\n",
      "Multiprocess sampling (4 chains in 4 jobs)\n",
      "NUTS: [sigma_y, nu_y, f_gp_rotated_, var, ls, fixed_b, b_shrinkage]\n"
     ]
    },
    {
     "data": {
      "text/html": [
       "\n",
       "    <div>\n",
       "        <style>\n",
       "            /* Turns off some styling */\n",
       "            progress {\n",
       "                /* gets rid of default border in Firefox and Opera. */\n",
       "                border: none;\n",
       "                /* Needs to be in here for Safari polyfill so background images work as expected. */\n",
       "                background-size: auto;\n",
       "            }\n",
       "            .progress-bar-interrupted, .progress-bar-interrupted::-webkit-progress-bar {\n",
       "                background: #F44336;\n",
       "            }\n",
       "        </style>\n",
       "      <progress value='8000' class='' max='8000' style='width:300px; height:20px; vertical-align: middle;'></progress>\n",
       "      100.00% [8000/8000 01:08<00:00 Sampling 4 chains, 16 divergences]\n",
       "    </div>\n",
       "    "
      ],
      "text/plain": [
       "<IPython.core.display.HTML object>"
      ]
     },
     "metadata": {},
     "output_type": "display_data"
    },
    {
     "name": "stderr",
     "output_type": "stream",
     "text": [
      "Sampling 4 chains for 1_500 tune and 500 draw iterations (6_000 + 2_000 draws total) took 69 seconds.\n",
      "There were 4 divergences after tuning. Increase `target_accept` or reparameterize.\n",
      "There were 3 divergences after tuning. Increase `target_accept` or reparameterize.\n",
      "There were 3 divergences after tuning. Increase `target_accept` or reparameterize.\n",
      "There were 6 divergences after tuning. Increase `target_accept` or reparameterize.\n",
      "The estimated number of effective samples is smaller than 200 for some parameters.\n",
      "Got error No model on context stack. trying to find log_likelihood in translation.\n",
      "Got error No model on context stack. trying to find log_likelihood in translation.\n",
      "Got error No model on context stack. trying to find log_likelihood in translation.\n",
      "Got error No model on context stack. trying to find log_likelihood in translation.\n",
      "Got error No model on context stack. trying to find log_likelihood in translation.\n",
      "Got error No model on context stack. trying to find log_likelihood in translation.\n"
     ]
    },
    {
     "name": "stdout",
     "output_type": "stream",
     "text": [
      "\u001b[94mOCD x Nephrotic_Syndrome\u001b[0m\n",
      "\u001b[94mOCD x Nerve_Root_Plexus_Disorders\u001b[0m\n",
      "\u001b[94mOCD x Neural_Tube_Defect\u001b[0m\n",
      "\u001b[94mOCD x Neurofibromatosis\u001b[0m\n",
      "\u001b[94mOCD x Nezelofs_Syndrome\u001b[0m\n",
      "\u001b[94mOCD x Non-Hodgkins_Lymphoma\u001b[0m\n",
      "\u001b[94mOCD x Non-Melanoma_Skin_Cancer\u001b[0m\n",
      "\u001b[94mOCD x Non-Rheumatic_Heart_Disease\u001b[0m\n",
      "\u001b[94mOCD x Non-Specific_Acquired_Musculoskeletal_Abnormality\u001b[0m\n",
      "\u001b[94mOCD x Non-Specific_Anemia\u001b[0m\n",
      "ss_log__ -1.1447301\n",
      "shift -2.3025851\n",
      "b_shrinkage_log__ -2.28946\n",
      "fixed_b -7.829342\n",
      "ls_log__ -1.1447301\n",
      "var_log__ -1.1447301\n",
      "f_gp_rotated_ -38.59542\n",
      "nu_y_log__ -0.61370564\n",
      "sigma_y_log__ -0.61370564\n"
     ]
    },
    {
     "name": "stderr",
     "output_type": "stream",
     "text": [
      "Initializing NUTS using advi+adapt_diag...\n"
     ]
    },
    {
     "name": "stdout",
     "output_type": "stream",
     "text": [
      "y -118.90685789019821\n"
     ]
    },
    {
     "data": {
      "text/html": [
       "\n",
       "    <div>\n",
       "        <style>\n",
       "            /* Turns off some styling */\n",
       "            progress {\n",
       "                /* gets rid of default border in Firefox and Opera. */\n",
       "                border: none;\n",
       "                /* Needs to be in here for Safari polyfill so background images work as expected. */\n",
       "                background-size: auto;\n",
       "            }\n",
       "            .progress-bar-interrupted, .progress-bar-interrupted::-webkit-progress-bar {\n",
       "                background: #F44336;\n",
       "            }\n",
       "        </style>\n",
       "      <progress value='16742' class='' max='200000' style='width:300px; height:20px; vertical-align: middle;'></progress>\n",
       "      8.37% [16742/200000 00:05<00:59 Average Loss = 113.28]\n",
       "    </div>\n",
       "    "
      ],
      "text/plain": [
       "<IPython.core.display.HTML object>"
      ]
     },
     "metadata": {},
     "output_type": "display_data"
    },
    {
     "name": "stderr",
     "output_type": "stream",
     "text": [
      "Convergence achieved at 16900\n",
      "Interrupted at 16,899 [8%]: Average Loss = 138.41\n",
      "Multiprocess sampling (4 chains in 4 jobs)\n",
      "NUTS: [sigma_y, nu_y, f_gp_rotated_, var, ls, fixed_b, b_shrinkage, shift, ss]\n"
     ]
    },
    {
     "data": {
      "text/html": [
       "\n",
       "    <div>\n",
       "        <style>\n",
       "            /* Turns off some styling */\n",
       "            progress {\n",
       "                /* gets rid of default border in Firefox and Opera. */\n",
       "                border: none;\n",
       "                /* Needs to be in here for Safari polyfill so background images work as expected. */\n",
       "                background-size: auto;\n",
       "            }\n",
       "            .progress-bar-interrupted, .progress-bar-interrupted::-webkit-progress-bar {\n",
       "                background: #F44336;\n",
       "            }\n",
       "        </style>\n",
       "      <progress value='8000' class='' max='8000' style='width:300px; height:20px; vertical-align: middle;'></progress>\n",
       "      100.00% [8000/8000 00:50<00:00 Sampling 4 chains, 14 divergences]\n",
       "    </div>\n",
       "    "
      ],
      "text/plain": [
       "<IPython.core.display.HTML object>"
      ]
     },
     "metadata": {},
     "output_type": "display_data"
    },
    {
     "name": "stderr",
     "output_type": "stream",
     "text": [
      "Sampling 4 chains for 1_500 tune and 500 draw iterations (6_000 + 2_000 draws total) took 51 seconds.\n",
      "There were 3 divergences after tuning. Increase `target_accept` or reparameterize.\n",
      "There were 3 divergences after tuning. Increase `target_accept` or reparameterize.\n",
      "There were 8 divergences after tuning. Increase `target_accept` or reparameterize.\n",
      "The rhat statistic is larger than 1.05 for some parameters. This indicates slight problems during sampling.\n",
      "The estimated number of effective samples is smaller than 200 for some parameters.\n",
      "Got error No model on context stack. trying to find log_likelihood in translation.\n",
      "Got error No model on context stack. trying to find log_likelihood in translation.\n",
      "Got error No model on context stack. trying to find log_likelihood in translation.\n",
      "Got error No model on context stack. trying to find log_likelihood in translation.\n",
      "Got error No model on context stack. trying to find log_likelihood in translation.\n",
      "Got error No model on context stack. trying to find log_likelihood in translation.\n"
     ]
    },
    {
     "name": "stdout",
     "output_type": "stream",
     "text": [
      "b_shrinkage_log__ -2.28946\n",
      "fixed_b -7.829342\n",
      "ls_log__ -1.1447301\n",
      "var_log__ -1.1447301\n",
      "f_gp_rotated_ -38.59542\n",
      "nu_y_log__ -0.61370564\n",
      "sigma_y_log__ -0.61370564\n"
     ]
    },
    {
     "name": "stderr",
     "output_type": "stream",
     "text": [
      "Initializing NUTS using advi+adapt_diag...\n"
     ]
    },
    {
     "name": "stdout",
     "output_type": "stream",
     "text": [
      "y -118.90685789019821\n"
     ]
    },
    {
     "data": {
      "text/html": [
       "\n",
       "    <div>\n",
       "        <style>\n",
       "            /* Turns off some styling */\n",
       "            progress {\n",
       "                /* gets rid of default border in Firefox and Opera. */\n",
       "                border: none;\n",
       "                /* Needs to be in here for Safari polyfill so background images work as expected. */\n",
       "                background-size: auto;\n",
       "            }\n",
       "            .progress-bar-interrupted, .progress-bar-interrupted::-webkit-progress-bar {\n",
       "                background: #F44336;\n",
       "            }\n",
       "        </style>\n",
       "      <progress value='15619' class='' max='200000' style='width:300px; height:20px; vertical-align: middle;'></progress>\n",
       "      7.81% [15619/200000 00:04<00:57 Average Loss = 113.22]\n",
       "    </div>\n",
       "    "
      ],
      "text/plain": [
       "<IPython.core.display.HTML object>"
      ]
     },
     "metadata": {},
     "output_type": "display_data"
    },
    {
     "name": "stderr",
     "output_type": "stream",
     "text": [
      "Convergence achieved at 16000\n",
      "Interrupted at 15,999 [7%]: Average Loss = 138.04\n",
      "Multiprocess sampling (4 chains in 4 jobs)\n",
      "NUTS: [sigma_y, nu_y, f_gp_rotated_, var, ls, fixed_b, b_shrinkage]\n"
     ]
    },
    {
     "data": {
      "text/html": [
       "\n",
       "    <div>\n",
       "        <style>\n",
       "            /* Turns off some styling */\n",
       "            progress {\n",
       "                /* gets rid of default border in Firefox and Opera. */\n",
       "                border: none;\n",
       "                /* Needs to be in here for Safari polyfill so background images work as expected. */\n",
       "                background-size: auto;\n",
       "            }\n",
       "            .progress-bar-interrupted, .progress-bar-interrupted::-webkit-progress-bar {\n",
       "                background: #F44336;\n",
       "            }\n",
       "        </style>\n",
       "      <progress value='8000' class='' max='8000' style='width:300px; height:20px; vertical-align: middle;'></progress>\n",
       "      100.00% [8000/8000 00:36<00:00 Sampling 4 chains, 45 divergences]\n",
       "    </div>\n",
       "    "
      ],
      "text/plain": [
       "<IPython.core.display.HTML object>"
      ]
     },
     "metadata": {},
     "output_type": "display_data"
    },
    {
     "name": "stderr",
     "output_type": "stream",
     "text": [
      "Sampling 4 chains for 1_500 tune and 500 draw iterations (6_000 + 2_000 draws total) took 37 seconds.\n",
      "There were 21 divergences after tuning. Increase `target_accept` or reparameterize.\n",
      "There were 4 divergences after tuning. Increase `target_accept` or reparameterize.\n",
      "There were 10 divergences after tuning. Increase `target_accept` or reparameterize.\n",
      "There were 10 divergences after tuning. Increase `target_accept` or reparameterize.\n",
      "The estimated number of effective samples is smaller than 200 for some parameters.\n",
      "Got error No model on context stack. trying to find log_likelihood in translation.\n",
      "Got error No model on context stack. trying to find log_likelihood in translation.\n",
      "Got error No model on context stack. trying to find log_likelihood in translation.\n",
      "Got error No model on context stack. trying to find log_likelihood in translation.\n",
      "Got error No model on context stack. trying to find log_likelihood in translation.\n",
      "Got error No model on context stack. trying to find log_likelihood in translation.\n"
     ]
    },
    {
     "name": "stdout",
     "output_type": "stream",
     "text": [
      "\u001b[94mOCD x Sideroblastic_Anemia\u001b[0m\n",
      "\u001b[94mOCD x Non-Specific_Arthritis\u001b[0m\n",
      "\u001b[94mOCD x Non-Specific_Autosomal_Abnormality\u001b[0m\n",
      "\u001b[94mOCD x Non-Specific_Cardiovascular_Disease\u001b[0m\n",
      "ss_log__ -1.1447301\n",
      "shift -2.3025851\n",
      "b_shrinkage_log__ -2.28946\n",
      "fixed_b -7.829342\n",
      "ls_log__ -1.1447301\n",
      "var_log__ -1.1447301\n",
      "f_gp_rotated_ -43.190113\n",
      "nu_y_log__ -0.61370564\n",
      "sigma_y_log__ -0.61370564\n"
     ]
    },
    {
     "name": "stderr",
     "output_type": "stream",
     "text": [
      "Initializing NUTS using advi+adapt_diag...\n"
     ]
    },
    {
     "name": "stdout",
     "output_type": "stream",
     "text": [
      "y -139.43589015558246\n"
     ]
    },
    {
     "data": {
      "text/html": [
       "\n",
       "    <div>\n",
       "        <style>\n",
       "            /* Turns off some styling */\n",
       "            progress {\n",
       "                /* gets rid of default border in Firefox and Opera. */\n",
       "                border: none;\n",
       "                /* Needs to be in here for Safari polyfill so background images work as expected. */\n",
       "                background-size: auto;\n",
       "            }\n",
       "            .progress-bar-interrupted, .progress-bar-interrupted::-webkit-progress-bar {\n",
       "                background: #F44336;\n",
       "            }\n",
       "        </style>\n",
       "      <progress value='17612' class='' max='200000' style='width:300px; height:20px; vertical-align: middle;'></progress>\n",
       "      8.81% [17612/200000 00:06<01:04 Average Loss = 128.8]\n",
       "    </div>\n",
       "    "
      ],
      "text/plain": [
       "<IPython.core.display.HTML object>"
      ]
     },
     "metadata": {},
     "output_type": "display_data"
    },
    {
     "name": "stderr",
     "output_type": "stream",
     "text": [
      "Convergence achieved at 17900\n",
      "Interrupted at 17,899 [8%]: Average Loss = 156.01\n",
      "Multiprocess sampling (4 chains in 4 jobs)\n",
      "NUTS: [sigma_y, nu_y, f_gp_rotated_, var, ls, fixed_b, b_shrinkage, shift, ss]\n"
     ]
    },
    {
     "data": {
      "text/html": [
       "\n",
       "    <div>\n",
       "        <style>\n",
       "            /* Turns off some styling */\n",
       "            progress {\n",
       "                /* gets rid of default border in Firefox and Opera. */\n",
       "                border: none;\n",
       "                /* Needs to be in here for Safari polyfill so background images work as expected. */\n",
       "                background-size: auto;\n",
       "            }\n",
       "            .progress-bar-interrupted, .progress-bar-interrupted::-webkit-progress-bar {\n",
       "                background: #F44336;\n",
       "            }\n",
       "        </style>\n",
       "      <progress value='8000' class='' max='8000' style='width:300px; height:20px; vertical-align: middle;'></progress>\n",
       "      100.00% [8000/8000 00:57<00:00 Sampling 4 chains, 52 divergences]\n",
       "    </div>\n",
       "    "
      ],
      "text/plain": [
       "<IPython.core.display.HTML object>"
      ]
     },
     "metadata": {},
     "output_type": "display_data"
    },
    {
     "name": "stderr",
     "output_type": "stream",
     "text": [
      "Sampling 4 chains for 1_500 tune and 500 draw iterations (6_000 + 2_000 draws total) took 58 seconds.\n",
      "There were 4 divergences after tuning. Increase `target_accept` or reparameterize.\n",
      "The acceptance probability does not match the target. It is 0.7981918956674863, but should be close to 0.9. Try to increase the number of tuning steps.\n",
      "There were 47 divergences after tuning. Increase `target_accept` or reparameterize.\n",
      "The acceptance probability does not match the target. It is 0.24823964130287818, but should be close to 0.9. Try to increase the number of tuning steps.\n",
      "There was 1 divergence after tuning. Increase `target_accept` or reparameterize.\n",
      "The rhat statistic is larger than 1.4 for some parameters. The sampler did not converge.\n",
      "The estimated number of effective samples is smaller than 200 for some parameters.\n",
      "Got error No model on context stack. trying to find log_likelihood in translation.\n",
      "Got error No model on context stack. trying to find log_likelihood in translation.\n",
      "Got error No model on context stack. trying to find log_likelihood in translation.\n",
      "Got error No model on context stack. trying to find log_likelihood in translation.\n",
      "Got error No model on context stack. trying to find log_likelihood in translation.\n",
      "Got error No model on context stack. trying to find log_likelihood in translation.\n"
     ]
    },
    {
     "name": "stdout",
     "output_type": "stream",
     "text": [
      "b_shrinkage_log__ -2.28946\n",
      "fixed_b -7.829342\n",
      "ls_log__ -1.1447301\n",
      "var_log__ -1.1447301\n",
      "f_gp_rotated_ -43.190113\n",
      "nu_y_log__ -0.61370564\n",
      "sigma_y_log__ -0.61370564\n"
     ]
    },
    {
     "name": "stderr",
     "output_type": "stream",
     "text": [
      "Initializing NUTS using advi+adapt_diag...\n"
     ]
    },
    {
     "name": "stdout",
     "output_type": "stream",
     "text": [
      "y -139.43589015558246\n"
     ]
    },
    {
     "data": {
      "text/html": [
       "\n",
       "    <div>\n",
       "        <style>\n",
       "            /* Turns off some styling */\n",
       "            progress {\n",
       "                /* gets rid of default border in Firefox and Opera. */\n",
       "                border: none;\n",
       "                /* Needs to be in here for Safari polyfill so background images work as expected. */\n",
       "                background-size: auto;\n",
       "            }\n",
       "            .progress-bar-interrupted, .progress-bar-interrupted::-webkit-progress-bar {\n",
       "                background: #F44336;\n",
       "            }\n",
       "        </style>\n",
       "      <progress value='17651' class='' max='200000' style='width:300px; height:20px; vertical-align: middle;'></progress>\n",
       "      8.83% [17651/200000 00:05<01:00 Average Loss = 127.62]\n",
       "    </div>\n",
       "    "
      ],
      "text/plain": [
       "<IPython.core.display.HTML object>"
      ]
     },
     "metadata": {},
     "output_type": "display_data"
    },
    {
     "name": "stderr",
     "output_type": "stream",
     "text": [
      "Convergence achieved at 17800\n",
      "Interrupted at 17,799 [8%]: Average Loss = 155.11\n",
      "Multiprocess sampling (4 chains in 4 jobs)\n",
      "NUTS: [sigma_y, nu_y, f_gp_rotated_, var, ls, fixed_b, b_shrinkage]\n"
     ]
    },
    {
     "data": {
      "text/html": [
       "\n",
       "    <div>\n",
       "        <style>\n",
       "            /* Turns off some styling */\n",
       "            progress {\n",
       "                /* gets rid of default border in Firefox and Opera. */\n",
       "                border: none;\n",
       "                /* Needs to be in here for Safari polyfill so background images work as expected. */\n",
       "                background-size: auto;\n",
       "            }\n",
       "            .progress-bar-interrupted, .progress-bar-interrupted::-webkit-progress-bar {\n",
       "                background: #F44336;\n",
       "            }\n",
       "        </style>\n",
       "      <progress value='8000' class='' max='8000' style='width:300px; height:20px; vertical-align: middle;'></progress>\n",
       "      100.00% [8000/8000 00:46<00:00 Sampling 4 chains, 18 divergences]\n",
       "    </div>\n",
       "    "
      ],
      "text/plain": [
       "<IPython.core.display.HTML object>"
      ]
     },
     "metadata": {},
     "output_type": "display_data"
    },
    {
     "name": "stderr",
     "output_type": "stream",
     "text": [
      "Sampling 4 chains for 1_500 tune and 500 draw iterations (6_000 + 2_000 draws total) took 47 seconds.\n",
      "There were 3 divergences after tuning. Increase `target_accept` or reparameterize.\n",
      "There were 7 divergences after tuning. Increase `target_accept` or reparameterize.\n",
      "There were 4 divergences after tuning. Increase `target_accept` or reparameterize.\n",
      "There were 4 divergences after tuning. Increase `target_accept` or reparameterize.\n",
      "The rhat statistic is larger than 1.05 for some parameters. This indicates slight problems during sampling.\n",
      "The estimated number of effective samples is smaller than 200 for some parameters.\n",
      "Got error No model on context stack. trying to find log_likelihood in translation.\n",
      "Got error No model on context stack. trying to find log_likelihood in translation.\n",
      "Got error No model on context stack. trying to find log_likelihood in translation.\n",
      "Got error No model on context stack. trying to find log_likelihood in translation.\n",
      "Got error No model on context stack. trying to find log_likelihood in translation.\n",
      "Got error No model on context stack. trying to find log_likelihood in translation.\n"
     ]
    },
    {
     "name": "stdout",
     "output_type": "stream",
     "text": [
      "\u001b[94mOCD x Non-Specific_Chromosomal_Anomaly\u001b[0m\n",
      "\u001b[94mOCD x Non-Specific_Congenital_Eye_Anomaly\u001b[0m\n",
      "\u001b[94mOCD x Non-Specific_Congenital_Integumentary_Anomaly\u001b[0m\n",
      "\u001b[94mOCD x Non-Specific_Congenital_Musculoskeletal_Anomaly\u001b[0m\n",
      "\u001b[94mOCD x Non-Specific_Dental_Disorder\u001b[0m\n",
      "\u001b[94mOCD x Non-Specific_Digestive_Congenital_Anomaly\u001b[0m\n",
      "\u001b[94mOCD x Non-Specific_Eye_Disorders\u001b[0m\n",
      "\u001b[94mOCD x Non-Specific_Gastrointestinal_Disorder\u001b[0m\n",
      "ss_log__ -1.1447301\n",
      "shift -2.3025851\n",
      "b_shrinkage_log__ -2.28946\n",
      "fixed_b -7.829342\n",
      "ls_log__ -1.1447301\n",
      "var_log__ -1.1447301\n",
      "f_gp_rotated_ -47.784805\n",
      "nu_y_log__ -0.61370564\n",
      "sigma_y_log__ -0.61370564\n"
     ]
    },
    {
     "name": "stderr",
     "output_type": "stream",
     "text": [
      "Initializing NUTS using advi+adapt_diag...\n"
     ]
    },
    {
     "name": "stdout",
     "output_type": "stream",
     "text": [
      "y -237.06056719928094\n"
     ]
    },
    {
     "data": {
      "text/html": [
       "\n",
       "    <div>\n",
       "        <style>\n",
       "            /* Turns off some styling */\n",
       "            progress {\n",
       "                /* gets rid of default border in Firefox and Opera. */\n",
       "                border: none;\n",
       "                /* Needs to be in here for Safari polyfill so background images work as expected. */\n",
       "                background-size: auto;\n",
       "            }\n",
       "            .progress-bar-interrupted, .progress-bar-interrupted::-webkit-progress-bar {\n",
       "                background: #F44336;\n",
       "            }\n",
       "        </style>\n",
       "      <progress value='15525' class='' max='200000' style='width:300px; height:20px; vertical-align: middle;'></progress>\n",
       "      7.76% [15525/200000 00:05<01:09 Average Loss = 166.4]\n",
       "    </div>\n",
       "    "
      ],
      "text/plain": [
       "<IPython.core.display.HTML object>"
      ]
     },
     "metadata": {},
     "output_type": "display_data"
    },
    {
     "name": "stderr",
     "output_type": "stream",
     "text": [
      "Convergence achieved at 15700\n",
      "Interrupted at 15,699 [7%]: Average Loss = 194.98\n",
      "Multiprocess sampling (4 chains in 4 jobs)\n",
      "NUTS: [sigma_y, nu_y, f_gp_rotated_, var, ls, fixed_b, b_shrinkage, shift, ss]\n"
     ]
    },
    {
     "data": {
      "text/html": [
       "\n",
       "    <div>\n",
       "        <style>\n",
       "            /* Turns off some styling */\n",
       "            progress {\n",
       "                /* gets rid of default border in Firefox and Opera. */\n",
       "                border: none;\n",
       "                /* Needs to be in here for Safari polyfill so background images work as expected. */\n",
       "                background-size: auto;\n",
       "            }\n",
       "            .progress-bar-interrupted, .progress-bar-interrupted::-webkit-progress-bar {\n",
       "                background: #F44336;\n",
       "            }\n",
       "        </style>\n",
       "      <progress value='8000' class='' max='8000' style='width:300px; height:20px; vertical-align: middle;'></progress>\n",
       "      100.00% [8000/8000 01:16<00:00 Sampling 4 chains, 11 divergences]\n",
       "    </div>\n",
       "    "
      ],
      "text/plain": [
       "<IPython.core.display.HTML object>"
      ]
     },
     "metadata": {},
     "output_type": "display_data"
    },
    {
     "name": "stderr",
     "output_type": "stream",
     "text": [
      "Sampling 4 chains for 1_500 tune and 500 draw iterations (6_000 + 2_000 draws total) took 77 seconds.\n",
      "There were 6 divergences after tuning. Increase `target_accept` or reparameterize.\n",
      "There were 2 divergences after tuning. Increase `target_accept` or reparameterize.\n",
      "There were 2 divergences after tuning. Increase `target_accept` or reparameterize.\n",
      "There was 1 divergence after tuning. Increase `target_accept` or reparameterize.\n",
      "The number of effective samples is smaller than 25% for some parameters.\n",
      "Got error No model on context stack. trying to find log_likelihood in translation.\n",
      "Got error No model on context stack. trying to find log_likelihood in translation.\n",
      "Got error No model on context stack. trying to find log_likelihood in translation.\n",
      "Got error No model on context stack. trying to find log_likelihood in translation.\n",
      "Got error No model on context stack. trying to find log_likelihood in translation.\n",
      "Got error No model on context stack. trying to find log_likelihood in translation.\n"
     ]
    },
    {
     "name": "stdout",
     "output_type": "stream",
     "text": [
      "b_shrinkage_log__ -2.28946\n",
      "fixed_b -7.829342\n",
      "ls_log__ -1.1447301\n",
      "var_log__ -1.1447301\n",
      "f_gp_rotated_ -47.784805\n",
      "nu_y_log__ -0.61370564\n",
      "sigma_y_log__ -0.61370564\n"
     ]
    },
    {
     "name": "stderr",
     "output_type": "stream",
     "text": [
      "Initializing NUTS using advi+adapt_diag...\n"
     ]
    },
    {
     "name": "stdout",
     "output_type": "stream",
     "text": [
      "y -237.06056719928094\n"
     ]
    },
    {
     "data": {
      "text/html": [
       "\n",
       "    <div>\n",
       "        <style>\n",
       "            /* Turns off some styling */\n",
       "            progress {\n",
       "                /* gets rid of default border in Firefox and Opera. */\n",
       "                border: none;\n",
       "                /* Needs to be in here for Safari polyfill so background images work as expected. */\n",
       "                background-size: auto;\n",
       "            }\n",
       "            .progress-bar-interrupted, .progress-bar-interrupted::-webkit-progress-bar {\n",
       "                background: #F44336;\n",
       "            }\n",
       "        </style>\n",
       "      <progress value='15605' class='' max='200000' style='width:300px; height:20px; vertical-align: middle;'></progress>\n",
       "      7.80% [15605/200000 00:05<01:04 Average Loss = 170.03]\n",
       "    </div>\n",
       "    "
      ],
      "text/plain": [
       "<IPython.core.display.HTML object>"
      ]
     },
     "metadata": {},
     "output_type": "display_data"
    },
    {
     "name": "stderr",
     "output_type": "stream",
     "text": [
      "Convergence achieved at 15800\n",
      "Interrupted at 15,799 [7%]: Average Loss = 195.34\n",
      "Multiprocess sampling (4 chains in 4 jobs)\n",
      "NUTS: [sigma_y, nu_y, f_gp_rotated_, var, ls, fixed_b, b_shrinkage]\n"
     ]
    },
    {
     "data": {
      "text/html": [
       "\n",
       "    <div>\n",
       "        <style>\n",
       "            /* Turns off some styling */\n",
       "            progress {\n",
       "                /* gets rid of default border in Firefox and Opera. */\n",
       "                border: none;\n",
       "                /* Needs to be in here for Safari polyfill so background images work as expected. */\n",
       "                background-size: auto;\n",
       "            }\n",
       "            .progress-bar-interrupted, .progress-bar-interrupted::-webkit-progress-bar {\n",
       "                background: #F44336;\n",
       "            }\n",
       "        </style>\n",
       "      <progress value='8000' class='' max='8000' style='width:300px; height:20px; vertical-align: middle;'></progress>\n",
       "      100.00% [8000/8000 01:10<00:00 Sampling 4 chains, 10 divergences]\n",
       "    </div>\n",
       "    "
      ],
      "text/plain": [
       "<IPython.core.display.HTML object>"
      ]
     },
     "metadata": {},
     "output_type": "display_data"
    },
    {
     "name": "stderr",
     "output_type": "stream",
     "text": [
      "Sampling 4 chains for 1_500 tune and 500 draw iterations (6_000 + 2_000 draws total) took 70 seconds.\n",
      "There were 2 divergences after tuning. Increase `target_accept` or reparameterize.\n",
      "There were 2 divergences after tuning. Increase `target_accept` or reparameterize.\n",
      "There was 1 divergence after tuning. Increase `target_accept` or reparameterize.\n",
      "There were 5 divergences after tuning. Increase `target_accept` or reparameterize.\n",
      "Got error No model on context stack. trying to find log_likelihood in translation.\n",
      "Got error No model on context stack. trying to find log_likelihood in translation.\n",
      "Got error No model on context stack. trying to find log_likelihood in translation.\n",
      "Got error No model on context stack. trying to find log_likelihood in translation.\n",
      "Got error No model on context stack. trying to find log_likelihood in translation.\n",
      "Got error No model on context stack. trying to find log_likelihood in translation.\n"
     ]
    },
    {
     "name": "stdout",
     "output_type": "stream",
     "text": [
      "\u001b[94mOCD x Non-Specific_Genitourinary_Congenital_Anomaly\u001b[0m\n",
      "\u001b[94mOCD x Non-Specific_Gingival_Peridontal_Disorder\u001b[0m\n",
      "\u001b[94mOCD x Non-Specific_Hemoglobinopathies\u001b[0m\n",
      "\u001b[94mOCD x Non-Specific_Humoral_Deficiency\u001b[0m\n",
      "\u001b[94mOCD x Non-Specific_Immune-Related_Skin_Disorder\u001b[0m\n",
      "\u001b[94mOCD x Non-Specific_Joint_Disorder\u001b[0m\n",
      "ss_log__ -1.1447301\n",
      "shift -2.3025851\n",
      "b_shrinkage_log__ -2.28946\n",
      "fixed_b -7.829342\n",
      "ls_log__ -1.1447301\n",
      "var_log__ -1.1447301\n",
      "f_gp_rotated_ -46.865868\n",
      "nu_y_log__ -0.61370564\n",
      "sigma_y_log__ -0.61370564\n"
     ]
    },
    {
     "name": "stderr",
     "output_type": "stream",
     "text": [
      "Initializing NUTS using advi+adapt_diag...\n"
     ]
    },
    {
     "name": "stdout",
     "output_type": "stream",
     "text": [
      "y -167.42470850192214\n"
     ]
    },
    {
     "data": {
      "text/html": [
       "\n",
       "    <div>\n",
       "        <style>\n",
       "            /* Turns off some styling */\n",
       "            progress {\n",
       "                /* gets rid of default border in Firefox and Opera. */\n",
       "                border: none;\n",
       "                /* Needs to be in here for Safari polyfill so background images work as expected. */\n",
       "                background-size: auto;\n",
       "            }\n",
       "            .progress-bar-interrupted, .progress-bar-interrupted::-webkit-progress-bar {\n",
       "                background: #F44336;\n",
       "            }\n",
       "        </style>\n",
       "      <progress value='15127' class='' max='200000' style='width:300px; height:20px; vertical-align: middle;'></progress>\n",
       "      7.56% [15127/200000 00:05<01:06 Average Loss = 141.74]\n",
       "    </div>\n",
       "    "
      ],
      "text/plain": [
       "<IPython.core.display.HTML object>"
      ]
     },
     "metadata": {},
     "output_type": "display_data"
    },
    {
     "name": "stderr",
     "output_type": "stream",
     "text": [
      "Convergence achieved at 15200\n",
      "Interrupted at 15,199 [7%]: Average Loss = 173.42\n",
      "Multiprocess sampling (4 chains in 4 jobs)\n",
      "NUTS: [sigma_y, nu_y, f_gp_rotated_, var, ls, fixed_b, b_shrinkage, shift, ss]\n"
     ]
    },
    {
     "data": {
      "text/html": [
       "\n",
       "    <div>\n",
       "        <style>\n",
       "            /* Turns off some styling */\n",
       "            progress {\n",
       "                /* gets rid of default border in Firefox and Opera. */\n",
       "                border: none;\n",
       "                /* Needs to be in here for Safari polyfill so background images work as expected. */\n",
       "                background-size: auto;\n",
       "            }\n",
       "            .progress-bar-interrupted, .progress-bar-interrupted::-webkit-progress-bar {\n",
       "                background: #F44336;\n",
       "            }\n",
       "        </style>\n",
       "      <progress value='8000' class='' max='8000' style='width:300px; height:20px; vertical-align: middle;'></progress>\n",
       "      100.00% [8000/8000 00:57<00:00 Sampling 4 chains, 5 divergences]\n",
       "    </div>\n",
       "    "
      ],
      "text/plain": [
       "<IPython.core.display.HTML object>"
      ]
     },
     "metadata": {},
     "output_type": "display_data"
    },
    {
     "name": "stderr",
     "output_type": "stream",
     "text": [
      "Sampling 4 chains for 1_500 tune and 500 draw iterations (6_000 + 2_000 draws total) took 58 seconds.\n",
      "There were 4 divergences after tuning. Increase `target_accept` or reparameterize.\n",
      "There was 1 divergence after tuning. Increase `target_accept` or reparameterize.\n",
      "The acceptance probability does not match the target. It is 0.7460821105629338, but should be close to 0.9. Try to increase the number of tuning steps.\n",
      "The rhat statistic is larger than 1.05 for some parameters. This indicates slight problems during sampling.\n",
      "The estimated number of effective samples is smaller than 200 for some parameters.\n",
      "Got error No model on context stack. trying to find log_likelihood in translation.\n",
      "Got error No model on context stack. trying to find log_likelihood in translation.\n",
      "Got error No model on context stack. trying to find log_likelihood in translation.\n",
      "Got error No model on context stack. trying to find log_likelihood in translation.\n",
      "Got error No model on context stack. trying to find log_likelihood in translation.\n",
      "Got error No model on context stack. trying to find log_likelihood in translation.\n"
     ]
    },
    {
     "name": "stdout",
     "output_type": "stream",
     "text": [
      "b_shrinkage_log__ -2.28946\n",
      "fixed_b -7.829342\n",
      "ls_log__ -1.1447301\n",
      "var_log__ -1.1447301\n",
      "f_gp_rotated_ -46.865868\n",
      "nu_y_log__ -0.61370564\n",
      "sigma_y_log__ -0.61370564\n"
     ]
    },
    {
     "name": "stderr",
     "output_type": "stream",
     "text": [
      "Initializing NUTS using advi+adapt_diag...\n"
     ]
    },
    {
     "name": "stdout",
     "output_type": "stream",
     "text": [
      "y -167.42470850192214\n"
     ]
    },
    {
     "data": {
      "text/html": [
       "\n",
       "    <div>\n",
       "        <style>\n",
       "            /* Turns off some styling */\n",
       "            progress {\n",
       "                /* gets rid of default border in Firefox and Opera. */\n",
       "                border: none;\n",
       "                /* Needs to be in here for Safari polyfill so background images work as expected. */\n",
       "                background-size: auto;\n",
       "            }\n",
       "            .progress-bar-interrupted, .progress-bar-interrupted::-webkit-progress-bar {\n",
       "                background: #F44336;\n",
       "            }\n",
       "        </style>\n",
       "      <progress value='16719' class='' max='200000' style='width:300px; height:20px; vertical-align: middle;'></progress>\n",
       "      8.36% [16719/200000 00:05<01:01 Average Loss = 139.67]\n",
       "    </div>\n",
       "    "
      ],
      "text/plain": [
       "<IPython.core.display.HTML object>"
      ]
     },
     "metadata": {},
     "output_type": "display_data"
    },
    {
     "name": "stderr",
     "output_type": "stream",
     "text": [
      "Convergence achieved at 17100\n",
      "Interrupted at 17,099 [8%]: Average Loss = 169.03\n",
      "Multiprocess sampling (4 chains in 4 jobs)\n",
      "NUTS: [sigma_y, nu_y, f_gp_rotated_, var, ls, fixed_b, b_shrinkage]\n"
     ]
    },
    {
     "data": {
      "text/html": [
       "\n",
       "    <div>\n",
       "        <style>\n",
       "            /* Turns off some styling */\n",
       "            progress {\n",
       "                /* gets rid of default border in Firefox and Opera. */\n",
       "                border: none;\n",
       "                /* Needs to be in here for Safari polyfill so background images work as expected. */\n",
       "                background-size: auto;\n",
       "            }\n",
       "            .progress-bar-interrupted, .progress-bar-interrupted::-webkit-progress-bar {\n",
       "                background: #F44336;\n",
       "            }\n",
       "        </style>\n",
       "      <progress value='8000' class='' max='8000' style='width:300px; height:20px; vertical-align: middle;'></progress>\n",
       "      100.00% [8000/8000 00:49<00:00 Sampling 4 chains, 4 divergences]\n",
       "    </div>\n",
       "    "
      ],
      "text/plain": [
       "<IPython.core.display.HTML object>"
      ]
     },
     "metadata": {},
     "output_type": "display_data"
    },
    {
     "name": "stderr",
     "output_type": "stream",
     "text": [
      "Sampling 4 chains for 1_500 tune and 500 draw iterations (6_000 + 2_000 draws total) took 50 seconds.\n",
      "There was 1 divergence after tuning. Increase `target_accept` or reparameterize.\n",
      "There was 1 divergence after tuning. Increase `target_accept` or reparameterize.\n",
      "There were 2 divergences after tuning. Increase `target_accept` or reparameterize.\n",
      "The number of effective samples is smaller than 25% for some parameters.\n",
      "Got error No model on context stack. trying to find log_likelihood in translation.\n",
      "Got error No model on context stack. trying to find log_likelihood in translation.\n",
      "Got error No model on context stack. trying to find log_likelihood in translation.\n",
      "Got error No model on context stack. trying to find log_likelihood in translation.\n",
      "Got error No model on context stack. trying to find log_likelihood in translation.\n",
      "Got error No model on context stack. trying to find log_likelihood in translation.\n"
     ]
    },
    {
     "name": "stdout",
     "output_type": "stream",
     "text": [
      "\u001b[94mOCD x Non-Specific_Leukemia\u001b[0m\n",
      "\u001b[94mOCD x Non-Specific_Liver_Disease\u001b[0m\n",
      "\u001b[94mOCD x Non-Specific_Metabolic_Disorder\u001b[0m\n",
      "\u001b[94mOCD x Non-Specific_Nasal_Throat_Disorder\u001b[0m\n",
      "\u001b[94mOCD x Non-Specific_Nephropathy\u001b[0m\n",
      "\u001b[94mOCD x Non-Specific_Neurologic_Congenital_Anomaly\u001b[0m\n",
      "\u001b[94mOCD x Non-Specific_Osteopathy\u001b[0m\n",
      "\u001b[94mOCD x Pagets_Disease\u001b[0m\n",
      "\u001b[94mOCD x Non-Specific_Pain\u001b[0m\n",
      "ss_log__ -1.1447301\n",
      "shift -2.3025851\n",
      "b_shrinkage_log__ -2.28946\n",
      "fixed_b -7.829342\n",
      "ls_log__ -1.1447301\n",
      "var_log__ -1.1447301\n",
      "f_gp_rotated_ -45.02799\n",
      "nu_y_log__ -0.61370564\n",
      "sigma_y_log__ -0.61370564\n"
     ]
    },
    {
     "name": "stderr",
     "output_type": "stream",
     "text": [
      "Initializing NUTS using advi+adapt_diag...\n"
     ]
    },
    {
     "name": "stdout",
     "output_type": "stream",
     "text": [
      "y -167.50753408792764\n"
     ]
    },
    {
     "data": {
      "text/html": [
       "\n",
       "    <div>\n",
       "        <style>\n",
       "            /* Turns off some styling */\n",
       "            progress {\n",
       "                /* gets rid of default border in Firefox and Opera. */\n",
       "                border: none;\n",
       "                /* Needs to be in here for Safari polyfill so background images work as expected. */\n",
       "                background-size: auto;\n",
       "            }\n",
       "            .progress-bar-interrupted, .progress-bar-interrupted::-webkit-progress-bar {\n",
       "                background: #F44336;\n",
       "            }\n",
       "        </style>\n",
       "      <progress value='16588' class='' max='200000' style='width:300px; height:20px; vertical-align: middle;'></progress>\n",
       "      8.29% [16588/200000 00:05<01:04 Average Loss = 141.05]\n",
       "    </div>\n",
       "    "
      ],
      "text/plain": [
       "<IPython.core.display.HTML object>"
      ]
     },
     "metadata": {},
     "output_type": "display_data"
    },
    {
     "name": "stderr",
     "output_type": "stream",
     "text": [
      "Convergence achieved at 16800\n",
      "Interrupted at 16,799 [8%]: Average Loss = 169.53\n",
      "Multiprocess sampling (4 chains in 4 jobs)\n",
      "NUTS: [sigma_y, nu_y, f_gp_rotated_, var, ls, fixed_b, b_shrinkage, shift, ss]\n"
     ]
    },
    {
     "data": {
      "text/html": [
       "\n",
       "    <div>\n",
       "        <style>\n",
       "            /* Turns off some styling */\n",
       "            progress {\n",
       "                /* gets rid of default border in Firefox and Opera. */\n",
       "                border: none;\n",
       "                /* Needs to be in here for Safari polyfill so background images work as expected. */\n",
       "                background-size: auto;\n",
       "            }\n",
       "            .progress-bar-interrupted, .progress-bar-interrupted::-webkit-progress-bar {\n",
       "                background: #F44336;\n",
       "            }\n",
       "        </style>\n",
       "      <progress value='8000' class='' max='8000' style='width:300px; height:20px; vertical-align: middle;'></progress>\n",
       "      100.00% [8000/8000 00:53<00:00 Sampling 4 chains, 5 divergences]\n",
       "    </div>\n",
       "    "
      ],
      "text/plain": [
       "<IPython.core.display.HTML object>"
      ]
     },
     "metadata": {},
     "output_type": "display_data"
    },
    {
     "name": "stderr",
     "output_type": "stream",
     "text": [
      "Sampling 4 chains for 1_500 tune and 500 draw iterations (6_000 + 2_000 draws total) took 54 seconds.\n",
      "There was 1 divergence after tuning. Increase `target_accept` or reparameterize.\n",
      "There were 3 divergences after tuning. Increase `target_accept` or reparameterize.\n",
      "There was 1 divergence after tuning. Increase `target_accept` or reparameterize.\n",
      "The estimated number of effective samples is smaller than 200 for some parameters.\n",
      "Got error No model on context stack. trying to find log_likelihood in translation.\n",
      "Got error No model on context stack. trying to find log_likelihood in translation.\n",
      "Got error No model on context stack. trying to find log_likelihood in translation.\n",
      "Got error No model on context stack. trying to find log_likelihood in translation.\n",
      "Got error No model on context stack. trying to find log_likelihood in translation.\n",
      "Got error No model on context stack. trying to find log_likelihood in translation.\n"
     ]
    },
    {
     "name": "stdout",
     "output_type": "stream",
     "text": [
      "b_shrinkage_log__ -2.28946\n",
      "fixed_b -7.829342\n",
      "ls_log__ -1.1447301\n",
      "var_log__ -1.1447301\n",
      "f_gp_rotated_ -45.02799\n",
      "nu_y_log__ -0.61370564\n",
      "sigma_y_log__ -0.61370564\n"
     ]
    },
    {
     "name": "stderr",
     "output_type": "stream",
     "text": [
      "Initializing NUTS using advi+adapt_diag...\n"
     ]
    },
    {
     "name": "stdout",
     "output_type": "stream",
     "text": [
      "y -167.50753408792764\n"
     ]
    },
    {
     "data": {
      "text/html": [
       "\n",
       "    <div>\n",
       "        <style>\n",
       "            /* Turns off some styling */\n",
       "            progress {\n",
       "                /* gets rid of default border in Firefox and Opera. */\n",
       "                border: none;\n",
       "                /* Needs to be in here for Safari polyfill so background images work as expected. */\n",
       "                background-size: auto;\n",
       "            }\n",
       "            .progress-bar-interrupted, .progress-bar-interrupted::-webkit-progress-bar {\n",
       "                background: #F44336;\n",
       "            }\n",
       "        </style>\n",
       "      <progress value='16351' class='' max='200000' style='width:300px; height:20px; vertical-align: middle;'></progress>\n",
       "      8.18% [16351/200000 00:05<01:01 Average Loss = 142.22]\n",
       "    </div>\n",
       "    "
      ],
      "text/plain": [
       "<IPython.core.display.HTML object>"
      ]
     },
     "metadata": {},
     "output_type": "display_data"
    },
    {
     "name": "stderr",
     "output_type": "stream",
     "text": [
      "Convergence achieved at 16400\n",
      "Interrupted at 16,399 [8%]: Average Loss = 169.68\n",
      "Multiprocess sampling (4 chains in 4 jobs)\n",
      "NUTS: [sigma_y, nu_y, f_gp_rotated_, var, ls, fixed_b, b_shrinkage]\n"
     ]
    },
    {
     "data": {
      "text/html": [
       "\n",
       "    <div>\n",
       "        <style>\n",
       "            /* Turns off some styling */\n",
       "            progress {\n",
       "                /* gets rid of default border in Firefox and Opera. */\n",
       "                border: none;\n",
       "                /* Needs to be in here for Safari polyfill so background images work as expected. */\n",
       "                background-size: auto;\n",
       "            }\n",
       "            .progress-bar-interrupted, .progress-bar-interrupted::-webkit-progress-bar {\n",
       "                background: #F44336;\n",
       "            }\n",
       "        </style>\n",
       "      <progress value='8000' class='' max='8000' style='width:300px; height:20px; vertical-align: middle;'></progress>\n",
       "      100.00% [8000/8000 00:45<00:00 Sampling 4 chains, 5 divergences]\n",
       "    </div>\n",
       "    "
      ],
      "text/plain": [
       "<IPython.core.display.HTML object>"
      ]
     },
     "metadata": {},
     "output_type": "display_data"
    },
    {
     "name": "stderr",
     "output_type": "stream",
     "text": [
      "Sampling 4 chains for 1_500 tune and 500 draw iterations (6_000 + 2_000 draws total) took 46 seconds.\n",
      "There were 3 divergences after tuning. Increase `target_accept` or reparameterize.\n",
      "There was 1 divergence after tuning. Increase `target_accept` or reparameterize.\n",
      "There was 1 divergence after tuning. Increase `target_accept` or reparameterize.\n",
      "The number of effective samples is smaller than 25% for some parameters.\n",
      "Got error No model on context stack. trying to find log_likelihood in translation.\n",
      "Got error No model on context stack. trying to find log_likelihood in translation.\n",
      "Got error No model on context stack. trying to find log_likelihood in translation.\n",
      "Got error No model on context stack. trying to find log_likelihood in translation.\n",
      "Got error No model on context stack. trying to find log_likelihood in translation.\n",
      "Got error No model on context stack. trying to find log_likelihood in translation.\n"
     ]
    },
    {
     "name": "stdout",
     "output_type": "stream",
     "text": [
      "\u001b[94mOCD x Non-Specific_Peritoneal_Disorder\u001b[0m\n",
      "\u001b[94mOCD x Non-Specific_Prostate_Disease\u001b[0m\n",
      "\u001b[94mOCD x Non-Specific_Pulmonary_Disorder\u001b[0m\n",
      "ss_log__ -1.1447301\n",
      "shift -2.3025851\n",
      "b_shrinkage_log__ -2.28946\n",
      "fixed_b -7.829342\n",
      "ls_log__ -1.1447301\n",
      "var_log__ -1.1447301\n",
      "f_gp_rotated_ -44.10905\n",
      "nu_y_log__ -0.61370564\n",
      "sigma_y_log__ -0.61370564\n"
     ]
    },
    {
     "name": "stderr",
     "output_type": "stream",
     "text": [
      "Initializing NUTS using advi+adapt_diag...\n"
     ]
    },
    {
     "name": "stdout",
     "output_type": "stream",
     "text": [
      "y -151.44545329785714\n"
     ]
    },
    {
     "data": {
      "text/html": [
       "\n",
       "    <div>\n",
       "        <style>\n",
       "            /* Turns off some styling */\n",
       "            progress {\n",
       "                /* gets rid of default border in Firefox and Opera. */\n",
       "                border: none;\n",
       "                /* Needs to be in here for Safari polyfill so background images work as expected. */\n",
       "                background-size: auto;\n",
       "            }\n",
       "            .progress-bar-interrupted, .progress-bar-interrupted::-webkit-progress-bar {\n",
       "                background: #F44336;\n",
       "            }\n",
       "        </style>\n",
       "      <progress value='17276' class='' max='200000' style='width:300px; height:20px; vertical-align: middle;'></progress>\n",
       "      8.64% [17276/200000 00:06<01:04 Average Loss = 126.34]\n",
       "    </div>\n",
       "    "
      ],
      "text/plain": [
       "<IPython.core.display.HTML object>"
      ]
     },
     "metadata": {},
     "output_type": "display_data"
    },
    {
     "name": "stderr",
     "output_type": "stream",
     "text": [
      "Convergence achieved at 17500\n",
      "Interrupted at 17,499 [8%]: Average Loss = 154.65\n",
      "Multiprocess sampling (4 chains in 4 jobs)\n",
      "NUTS: [sigma_y, nu_y, f_gp_rotated_, var, ls, fixed_b, b_shrinkage, shift, ss]\n"
     ]
    },
    {
     "data": {
      "text/html": [
       "\n",
       "    <div>\n",
       "        <style>\n",
       "            /* Turns off some styling */\n",
       "            progress {\n",
       "                /* gets rid of default border in Firefox and Opera. */\n",
       "                border: none;\n",
       "                /* Needs to be in here for Safari polyfill so background images work as expected. */\n",
       "                background-size: auto;\n",
       "            }\n",
       "            .progress-bar-interrupted, .progress-bar-interrupted::-webkit-progress-bar {\n",
       "                background: #F44336;\n",
       "            }\n",
       "        </style>\n",
       "      <progress value='8000' class='' max='8000' style='width:300px; height:20px; vertical-align: middle;'></progress>\n",
       "      100.00% [8000/8000 00:55<00:00 Sampling 4 chains, 36 divergences]\n",
       "    </div>\n",
       "    "
      ],
      "text/plain": [
       "<IPython.core.display.HTML object>"
      ]
     },
     "metadata": {},
     "output_type": "display_data"
    },
    {
     "name": "stderr",
     "output_type": "stream",
     "text": [
      "Sampling 4 chains for 1_500 tune and 500 draw iterations (6_000 + 2_000 draws total) took 56 seconds.\n",
      "There were 2 divergences after tuning. Increase `target_accept` or reparameterize.\n",
      "There were 2 divergences after tuning. Increase `target_accept` or reparameterize.\n",
      "There were 29 divergences after tuning. Increase `target_accept` or reparameterize.\n",
      "There were 3 divergences after tuning. Increase `target_accept` or reparameterize.\n",
      "The acceptance probability does not match the target. It is 0.8409924666582395, but should be close to 0.9. Try to increase the number of tuning steps.\n",
      "The estimated number of effective samples is smaller than 200 for some parameters.\n",
      "Got error No model on context stack. trying to find log_likelihood in translation.\n",
      "Got error No model on context stack. trying to find log_likelihood in translation.\n",
      "Got error No model on context stack. trying to find log_likelihood in translation.\n",
      "Got error No model on context stack. trying to find log_likelihood in translation.\n",
      "Got error No model on context stack. trying to find log_likelihood in translation.\n",
      "Got error No model on context stack. trying to find log_likelihood in translation.\n"
     ]
    },
    {
     "name": "stdout",
     "output_type": "stream",
     "text": [
      "b_shrinkage_log__ -2.28946\n",
      "fixed_b -7.829342\n",
      "ls_log__ -1.1447301\n",
      "var_log__ -1.1447301\n",
      "f_gp_rotated_ -44.10905\n",
      "nu_y_log__ -0.61370564\n",
      "sigma_y_log__ -0.61370564\n"
     ]
    },
    {
     "name": "stderr",
     "output_type": "stream",
     "text": [
      "Initializing NUTS using advi+adapt_diag...\n"
     ]
    },
    {
     "name": "stdout",
     "output_type": "stream",
     "text": [
      "y -151.44545329785714\n"
     ]
    },
    {
     "data": {
      "text/html": [
       "\n",
       "    <div>\n",
       "        <style>\n",
       "            /* Turns off some styling */\n",
       "            progress {\n",
       "                /* gets rid of default border in Firefox and Opera. */\n",
       "                border: none;\n",
       "                /* Needs to be in here for Safari polyfill so background images work as expected. */\n",
       "                background-size: auto;\n",
       "            }\n",
       "            .progress-bar-interrupted, .progress-bar-interrupted::-webkit-progress-bar {\n",
       "                background: #F44336;\n",
       "            }\n",
       "        </style>\n",
       "      <progress value='16609' class='' max='200000' style='width:300px; height:20px; vertical-align: middle;'></progress>\n",
       "      8.30% [16609/200000 00:05<01:00 Average Loss = 128.08]\n",
       "    </div>\n",
       "    "
      ],
      "text/plain": [
       "<IPython.core.display.HTML object>"
      ]
     },
     "metadata": {},
     "output_type": "display_data"
    },
    {
     "name": "stderr",
     "output_type": "stream",
     "text": [
      "Convergence achieved at 17000\n",
      "Interrupted at 16,999 [8%]: Average Loss = 155.1\n",
      "Multiprocess sampling (4 chains in 4 jobs)\n",
      "NUTS: [sigma_y, nu_y, f_gp_rotated_, var, ls, fixed_b, b_shrinkage]\n"
     ]
    },
    {
     "data": {
      "text/html": [
       "\n",
       "    <div>\n",
       "        <style>\n",
       "            /* Turns off some styling */\n",
       "            progress {\n",
       "                /* gets rid of default border in Firefox and Opera. */\n",
       "                border: none;\n",
       "                /* Needs to be in here for Safari polyfill so background images work as expected. */\n",
       "                background-size: auto;\n",
       "            }\n",
       "            .progress-bar-interrupted, .progress-bar-interrupted::-webkit-progress-bar {\n",
       "                background: #F44336;\n",
       "            }\n",
       "        </style>\n",
       "      <progress value='8000' class='' max='8000' style='width:300px; height:20px; vertical-align: middle;'></progress>\n",
       "      100.00% [8000/8000 00:49<00:00 Sampling 4 chains, 23 divergences]\n",
       "    </div>\n",
       "    "
      ],
      "text/plain": [
       "<IPython.core.display.HTML object>"
      ]
     },
     "metadata": {},
     "output_type": "display_data"
    },
    {
     "name": "stderr",
     "output_type": "stream",
     "text": [
      "Sampling 4 chains for 1_500 tune and 500 draw iterations (6_000 + 2_000 draws total) took 50 seconds.\n",
      "There were 2 divergences after tuning. Increase `target_accept` or reparameterize.\n",
      "There were 2 divergences after tuning. Increase `target_accept` or reparameterize.\n",
      "There were 17 divergences after tuning. Increase `target_accept` or reparameterize.\n",
      "There were 2 divergences after tuning. Increase `target_accept` or reparameterize.\n",
      "Got error No model on context stack. trying to find log_likelihood in translation.\n",
      "Got error No model on context stack. trying to find log_likelihood in translation.\n",
      "Got error No model on context stack. trying to find log_likelihood in translation.\n",
      "Got error No model on context stack. trying to find log_likelihood in translation.\n",
      "Got error No model on context stack. trying to find log_likelihood in translation.\n",
      "Got error No model on context stack. trying to find log_likelihood in translation.\n"
     ]
    },
    {
     "name": "stdout",
     "output_type": "stream",
     "text": [
      "\u001b[94mOCD x Non-Specific_Skin_Disorder\u001b[0m\n",
      "\u001b[94mOCD x Non-Specific_Soft_Tissue_Disorder\u001b[0m\n",
      "\u001b[94mOCD x Non-Specific_Sugar_Metabolism_Disorder\u001b[0m\n",
      "\u001b[94mOCD x Non-Specific_Thryroid_Disorder\u001b[0m\n",
      "\u001b[94mOCD x Non-Specific_Urinary_Disorder\u001b[0m\n",
      "\u001b[94mOCD x Non-Specific_Vascular_Disease\u001b[0m\n",
      "\u001b[94mOCD x Varicose_Veins\u001b[0m\n",
      "\u001b[94mOCD x Non-Specified_Cardiac_Ischemia\u001b[0m\n",
      "\u001b[94mOCD x OCD\u001b[0m\n",
      "\u001b[94mOCD x Obesity\u001b[0m\n",
      "\u001b[94mOCD x Ocular_Musculoskeletal_Disorder\u001b[0m\n",
      "ss_log__ -1.1447301\n",
      "shift -2.3025851\n",
      "b_shrinkage_log__ -2.28946\n",
      "fixed_b -7.829342\n",
      "ls_log__ -1.1447301\n",
      "var_log__ -1.1447301\n",
      "f_gp_rotated_ -35.838604\n",
      "nu_y_log__ -0.61370564\n",
      "sigma_y_log__ -0.61370564\n"
     ]
    },
    {
     "name": "stderr",
     "output_type": "stream",
     "text": [
      "Initializing NUTS using advi+adapt_diag...\n"
     ]
    },
    {
     "name": "stdout",
     "output_type": "stream",
     "text": [
      "y -106.84047752815859\n"
     ]
    },
    {
     "data": {
      "text/html": [
       "\n",
       "    <div>\n",
       "        <style>\n",
       "            /* Turns off some styling */\n",
       "            progress {\n",
       "                /* gets rid of default border in Firefox and Opera. */\n",
       "                border: none;\n",
       "                /* Needs to be in here for Safari polyfill so background images work as expected. */\n",
       "                background-size: auto;\n",
       "            }\n",
       "            .progress-bar-interrupted, .progress-bar-interrupted::-webkit-progress-bar {\n",
       "                background: #F44336;\n",
       "            }\n",
       "        </style>\n",
       "      <progress value='16548' class='' max='200000' style='width:300px; height:20px; vertical-align: middle;'></progress>\n",
       "      8.27% [16548/200000 00:05<01:00 Average Loss = 98.439]\n",
       "    </div>\n",
       "    "
      ],
      "text/plain": [
       "<IPython.core.display.HTML object>"
      ]
     },
     "metadata": {},
     "output_type": "display_data"
    },
    {
     "name": "stderr",
     "output_type": "stream",
     "text": [
      "Convergence achieved at 16900\n",
      "Interrupted at 16,899 [8%]: Average Loss = 122.54\n",
      "Multiprocess sampling (4 chains in 4 jobs)\n",
      "NUTS: [sigma_y, nu_y, f_gp_rotated_, var, ls, fixed_b, b_shrinkage, shift, ss]\n"
     ]
    },
    {
     "data": {
      "text/html": [
       "\n",
       "    <div>\n",
       "        <style>\n",
       "            /* Turns off some styling */\n",
       "            progress {\n",
       "                /* gets rid of default border in Firefox and Opera. */\n",
       "                border: none;\n",
       "                /* Needs to be in here for Safari polyfill so background images work as expected. */\n",
       "                background-size: auto;\n",
       "            }\n",
       "            .progress-bar-interrupted, .progress-bar-interrupted::-webkit-progress-bar {\n",
       "                background: #F44336;\n",
       "            }\n",
       "        </style>\n",
       "      <progress value='8000' class='' max='8000' style='width:300px; height:20px; vertical-align: middle;'></progress>\n",
       "      100.00% [8000/8000 01:03<00:00 Sampling 4 chains, 0 divergences]\n",
       "    </div>\n",
       "    "
      ],
      "text/plain": [
       "<IPython.core.display.HTML object>"
      ]
     },
     "metadata": {},
     "output_type": "display_data"
    },
    {
     "name": "stderr",
     "output_type": "stream",
     "text": [
      "Sampling 4 chains for 1_500 tune and 500 draw iterations (6_000 + 2_000 draws total) took 64 seconds.\n",
      "The estimated number of effective samples is smaller than 200 for some parameters.\n",
      "Got error No model on context stack. trying to find log_likelihood in translation.\n",
      "Got error No model on context stack. trying to find log_likelihood in translation.\n",
      "Got error No model on context stack. trying to find log_likelihood in translation.\n",
      "Got error No model on context stack. trying to find log_likelihood in translation.\n",
      "Got error No model on context stack. trying to find log_likelihood in translation.\n",
      "Got error No model on context stack. trying to find log_likelihood in translation.\n"
     ]
    },
    {
     "name": "stdout",
     "output_type": "stream",
     "text": [
      "b_shrinkage_log__ -2.28946\n",
      "fixed_b -7.829342\n",
      "ls_log__ -1.1447301\n",
      "var_log__ -1.1447301\n",
      "f_gp_rotated_ -35.838604\n",
      "nu_y_log__ -0.61370564\n",
      "sigma_y_log__ -0.61370564\n"
     ]
    },
    {
     "name": "stderr",
     "output_type": "stream",
     "text": [
      "Initializing NUTS using advi+adapt_diag...\n"
     ]
    },
    {
     "name": "stdout",
     "output_type": "stream",
     "text": [
      "y -106.84047752815859\n"
     ]
    },
    {
     "data": {
      "text/html": [
       "\n",
       "    <div>\n",
       "        <style>\n",
       "            /* Turns off some styling */\n",
       "            progress {\n",
       "                /* gets rid of default border in Firefox and Opera. */\n",
       "                border: none;\n",
       "                /* Needs to be in here for Safari polyfill so background images work as expected. */\n",
       "                background-size: auto;\n",
       "            }\n",
       "            .progress-bar-interrupted, .progress-bar-interrupted::-webkit-progress-bar {\n",
       "                background: #F44336;\n",
       "            }\n",
       "        </style>\n",
       "      <progress value='16985' class='' max='200000' style='width:300px; height:20px; vertical-align: middle;'></progress>\n",
       "      8.49% [16985/200000 00:05<00:56 Average Loss = 99.968]\n",
       "    </div>\n",
       "    "
      ],
      "text/plain": [
       "<IPython.core.display.HTML object>"
      ]
     },
     "metadata": {},
     "output_type": "display_data"
    },
    {
     "name": "stderr",
     "output_type": "stream",
     "text": [
      "Convergence achieved at 17300\n",
      "Interrupted at 17,299 [8%]: Average Loss = 121.5\n",
      "Multiprocess sampling (4 chains in 4 jobs)\n",
      "NUTS: [sigma_y, nu_y, f_gp_rotated_, var, ls, fixed_b, b_shrinkage]\n"
     ]
    },
    {
     "data": {
      "text/html": [
       "\n",
       "    <div>\n",
       "        <style>\n",
       "            /* Turns off some styling */\n",
       "            progress {\n",
       "                /* gets rid of default border in Firefox and Opera. */\n",
       "                border: none;\n",
       "                /* Needs to be in here for Safari polyfill so background images work as expected. */\n",
       "                background-size: auto;\n",
       "            }\n",
       "            .progress-bar-interrupted, .progress-bar-interrupted::-webkit-progress-bar {\n",
       "                background: #F44336;\n",
       "            }\n",
       "        </style>\n",
       "      <progress value='8000' class='' max='8000' style='width:300px; height:20px; vertical-align: middle;'></progress>\n",
       "      100.00% [8000/8000 00:55<00:00 Sampling 4 chains, 5 divergences]\n",
       "    </div>\n",
       "    "
      ],
      "text/plain": [
       "<IPython.core.display.HTML object>"
      ]
     },
     "metadata": {},
     "output_type": "display_data"
    },
    {
     "name": "stderr",
     "output_type": "stream",
     "text": [
      "Sampling 4 chains for 1_500 tune and 500 draw iterations (6_000 + 2_000 draws total) took 55 seconds.\n",
      "There were 3 divergences after tuning. Increase `target_accept` or reparameterize.\n",
      "The acceptance probability does not match the target. It is 0.7856490984925906, but should be close to 0.9. Try to increase the number of tuning steps.\n",
      "There was 1 divergence after tuning. Increase `target_accept` or reparameterize.\n",
      "There was 1 divergence after tuning. Increase `target_accept` or reparameterize.\n",
      "The rhat statistic is larger than 1.05 for some parameters. This indicates slight problems during sampling.\n",
      "The estimated number of effective samples is smaller than 200 for some parameters.\n",
      "Got error No model on context stack. trying to find log_likelihood in translation.\n",
      "Got error No model on context stack. trying to find log_likelihood in translation.\n",
      "Got error No model on context stack. trying to find log_likelihood in translation.\n",
      "Got error No model on context stack. trying to find log_likelihood in translation.\n",
      "Got error No model on context stack. trying to find log_likelihood in translation.\n",
      "Got error No model on context stack. trying to find log_likelihood in translation.\n"
     ]
    },
    {
     "name": "stdout",
     "output_type": "stream",
     "text": [
      "\u001b[94mOCD x Optic_Chiasm_Disorder\u001b[0m\n",
      "\u001b[94mOCD x Optic_Disc_Disorder\u001b[0m\n",
      "\u001b[94mOCD x Optic_Neuritis_Neuropathy\u001b[0m\n",
      "\u001b[94mOCD x Oral_Soft_Tissue_Disease\u001b[0m\n",
      "\u001b[94mOCD x Orbit_Disorders\u001b[0m\n",
      "\u001b[94mOCD x Oro-Facial_Congenital_Anomaly\u001b[0m\n",
      "ss_log__ -1.1447301\n",
      "shift -2.3025851\n",
      "b_shrinkage_log__ -2.28946\n",
      "fixed_b -7.829342\n",
      "ls_log__ -1.1447301\n",
      "var_log__ -1.1447301\n",
      "f_gp_rotated_ -38.59542\n",
      "nu_y_log__ -0.61370564\n",
      "sigma_y_log__ -0.61370564\n"
     ]
    },
    {
     "name": "stderr",
     "output_type": "stream",
     "text": [
      "Initializing NUTS using advi+adapt_diag...\n"
     ]
    },
    {
     "name": "stdout",
     "output_type": "stream",
     "text": [
      "y -147.35580397505927\n"
     ]
    },
    {
     "data": {
      "text/html": [
       "\n",
       "    <div>\n",
       "        <style>\n",
       "            /* Turns off some styling */\n",
       "            progress {\n",
       "                /* gets rid of default border in Firefox and Opera. */\n",
       "                border: none;\n",
       "                /* Needs to be in here for Safari polyfill so background images work as expected. */\n",
       "                background-size: auto;\n",
       "            }\n",
       "            .progress-bar-interrupted, .progress-bar-interrupted::-webkit-progress-bar {\n",
       "                background: #F44336;\n",
       "            }\n",
       "        </style>\n",
       "      <progress value='15185' class='' max='200000' style='width:300px; height:20px; vertical-align: middle;'></progress>\n",
       "      7.59% [15185/200000 00:05<01:01 Average Loss = 121.91]\n",
       "    </div>\n",
       "    "
      ],
      "text/plain": [
       "<IPython.core.display.HTML object>"
      ]
     },
     "metadata": {},
     "output_type": "display_data"
    },
    {
     "name": "stderr",
     "output_type": "stream",
     "text": [
      "Convergence achieved at 15600\n",
      "Interrupted at 15,599 [7%]: Average Loss = 148\n",
      "Multiprocess sampling (4 chains in 4 jobs)\n",
      "NUTS: [sigma_y, nu_y, f_gp_rotated_, var, ls, fixed_b, b_shrinkage, shift, ss]\n"
     ]
    },
    {
     "data": {
      "text/html": [
       "\n",
       "    <div>\n",
       "        <style>\n",
       "            /* Turns off some styling */\n",
       "            progress {\n",
       "                /* gets rid of default border in Firefox and Opera. */\n",
       "                border: none;\n",
       "                /* Needs to be in here for Safari polyfill so background images work as expected. */\n",
       "                background-size: auto;\n",
       "            }\n",
       "            .progress-bar-interrupted, .progress-bar-interrupted::-webkit-progress-bar {\n",
       "                background: #F44336;\n",
       "            }\n",
       "        </style>\n",
       "      <progress value='8000' class='' max='8000' style='width:300px; height:20px; vertical-align: middle;'></progress>\n",
       "      100.00% [8000/8000 00:48<00:00 Sampling 4 chains, 20 divergences]\n",
       "    </div>\n",
       "    "
      ],
      "text/plain": [
       "<IPython.core.display.HTML object>"
      ]
     },
     "metadata": {},
     "output_type": "display_data"
    },
    {
     "name": "stderr",
     "output_type": "stream",
     "text": [
      "Sampling 4 chains for 1_500 tune and 500 draw iterations (6_000 + 2_000 draws total) took 49 seconds.\n",
      "There were 4 divergences after tuning. Increase `target_accept` or reparameterize.\n",
      "There were 10 divergences after tuning. Increase `target_accept` or reparameterize.\n",
      "The acceptance probability does not match the target. It is 0.8079305088682415, but should be close to 0.9. Try to increase the number of tuning steps.\n",
      "There were 3 divergences after tuning. Increase `target_accept` or reparameterize.\n",
      "There were 3 divergences after tuning. Increase `target_accept` or reparameterize.\n",
      "The number of effective samples is smaller than 25% for some parameters.\n",
      "Got error No model on context stack. trying to find log_likelihood in translation.\n",
      "Got error No model on context stack. trying to find log_likelihood in translation.\n",
      "Got error No model on context stack. trying to find log_likelihood in translation.\n",
      "Got error No model on context stack. trying to find log_likelihood in translation.\n",
      "Got error No model on context stack. trying to find log_likelihood in translation.\n",
      "Got error No model on context stack. trying to find log_likelihood in translation.\n"
     ]
    },
    {
     "name": "stdout",
     "output_type": "stream",
     "text": [
      "b_shrinkage_log__ -2.28946\n",
      "fixed_b -7.829342\n",
      "ls_log__ -1.1447301\n",
      "var_log__ -1.1447301\n",
      "f_gp_rotated_ -38.59542\n",
      "nu_y_log__ -0.61370564\n",
      "sigma_y_log__ -0.61370564\n"
     ]
    },
    {
     "name": "stderr",
     "output_type": "stream",
     "text": [
      "Initializing NUTS using advi+adapt_diag...\n"
     ]
    },
    {
     "name": "stdout",
     "output_type": "stream",
     "text": [
      "y -147.35580397505927\n"
     ]
    },
    {
     "data": {
      "text/html": [
       "\n",
       "    <div>\n",
       "        <style>\n",
       "            /* Turns off some styling */\n",
       "            progress {\n",
       "                /* gets rid of default border in Firefox and Opera. */\n",
       "                border: none;\n",
       "                /* Needs to be in here for Safari polyfill so background images work as expected. */\n",
       "                background-size: auto;\n",
       "            }\n",
       "            .progress-bar-interrupted, .progress-bar-interrupted::-webkit-progress-bar {\n",
       "                background: #F44336;\n",
       "            }\n",
       "        </style>\n",
       "      <progress value='15826' class='' max='200000' style='width:300px; height:20px; vertical-align: middle;'></progress>\n",
       "      7.91% [15826/200000 00:04<00:56 Average Loss = 121.26]\n",
       "    </div>\n",
       "    "
      ],
      "text/plain": [
       "<IPython.core.display.HTML object>"
      ]
     },
     "metadata": {},
     "output_type": "display_data"
    },
    {
     "name": "stderr",
     "output_type": "stream",
     "text": [
      "Convergence achieved at 15900\n",
      "Interrupted at 15,899 [7%]: Average Loss = 146.09\n",
      "Multiprocess sampling (4 chains in 4 jobs)\n",
      "NUTS: [sigma_y, nu_y, f_gp_rotated_, var, ls, fixed_b, b_shrinkage]\n"
     ]
    },
    {
     "data": {
      "text/html": [
       "\n",
       "    <div>\n",
       "        <style>\n",
       "            /* Turns off some styling */\n",
       "            progress {\n",
       "                /* gets rid of default border in Firefox and Opera. */\n",
       "                border: none;\n",
       "                /* Needs to be in here for Safari polyfill so background images work as expected. */\n",
       "                background-size: auto;\n",
       "            }\n",
       "            .progress-bar-interrupted, .progress-bar-interrupted::-webkit-progress-bar {\n",
       "                background: #F44336;\n",
       "            }\n",
       "        </style>\n",
       "      <progress value='8000' class='' max='8000' style='width:300px; height:20px; vertical-align: middle;'></progress>\n",
       "      100.00% [8000/8000 00:34<00:00 Sampling 4 chains, 45 divergences]\n",
       "    </div>\n",
       "    "
      ],
      "text/plain": [
       "<IPython.core.display.HTML object>"
      ]
     },
     "metadata": {},
     "output_type": "display_data"
    },
    {
     "name": "stderr",
     "output_type": "stream",
     "text": [
      "Sampling 4 chains for 1_500 tune and 500 draw iterations (6_000 + 2_000 draws total) took 38 seconds.\n",
      "There were 9 divergences after tuning. Increase `target_accept` or reparameterize.\n",
      "There were 24 divergences after tuning. Increase `target_accept` or reparameterize.\n",
      "There were 7 divergences after tuning. Increase `target_accept` or reparameterize.\n",
      "There were 5 divergences after tuning. Increase `target_accept` or reparameterize.\n",
      "The number of effective samples is smaller than 25% for some parameters.\n",
      "Got error No model on context stack. trying to find log_likelihood in translation.\n",
      "Got error No model on context stack. trying to find log_likelihood in translation.\n",
      "Got error No model on context stack. trying to find log_likelihood in translation.\n",
      "Got error No model on context stack. trying to find log_likelihood in translation.\n",
      "Got error No model on context stack. trying to find log_likelihood in translation.\n",
      "Got error No model on context stack. trying to find log_likelihood in translation.\n"
     ]
    },
    {
     "name": "stdout",
     "output_type": "stream",
     "text": [
      "\u001b[94mOCD x Oro-Naso-Pharyngeal_Cancer\u001b[0m\n",
      "\u001b[94mOCD x Osteoarthritis\u001b[0m\n",
      "\u001b[94mOCD x Osteogenesis_Imperfecta\u001b[0m\n",
      "\u001b[94mOCD x Osteomyelitis\u001b[0m\n",
      "\u001b[94mOCD x Osteopetrosis\u001b[0m\n",
      "\u001b[94mOCD x Osteopoikilosis\u001b[0m\n",
      "\u001b[94mOCD x Osteoporosis\u001b[0m\n",
      "\u001b[94mOCD x Other_Infectious_Diseases\u001b[0m\n",
      "\u001b[94mOCD x Other_Inherited_Amino_Acid_Metabolic_Disorder\u001b[0m\n",
      "\u001b[94mOCD x Other_Inherited_Myotonias\u001b[0m\n",
      "\u001b[94mOCD x Other_Inherited_Osteodystrophy\u001b[0m\n",
      "\u001b[94mOCD x Other_Lymphoid_Histiocytic_Cancers\u001b[0m\n",
      "\u001b[94mOCD x Other_Viral_Hepatitis\u001b[0m\n",
      "\u001b[94mOCD x Otosclerosis\u001b[0m\n",
      "\u001b[94mOCD x Ovarian_Cancer\u001b[0m\n",
      "\u001b[94mOCD x Overweight\u001b[0m\n",
      "\u001b[94mOCD x PTSD\u001b[0m\n",
      "\u001b[94mOCD x Pancreatic_Cancer\u001b[0m\n",
      "\u001b[94mOCD x Pancreatic_Disease\u001b[0m\n",
      "\u001b[94mOCD x Pancytopenia\u001b[0m\n",
      "\u001b[94mOCD x Papilledema\u001b[0m\n",
      "\u001b[94mOCD x Paranoia\u001b[0m\n",
      "\u001b[94mOCD x Parasitic_Infection\u001b[0m\n",
      "\u001b[94mOCD x Parathyroid_Disorder\u001b[0m\n",
      "\u001b[94mOCD x Paritial_Androgen_Insensitivity_Syndrome\u001b[0m\n",
      "\u001b[94mOCD x Parkinsons_Disease\u001b[0m\n",
      "\u001b[94mOCD x Pataus_Syndrome\u001b[0m\n",
      "\u001b[94mOCD x Peripheral_Nerve_Disorder\u001b[0m\n",
      "\u001b[94mOCD x Peripheral_Vascular_Disease\u001b[0m\n",
      "\u001b[94mOCD x Peritonitis_Retroperitoneal_Infection\u001b[0m\n",
      "\u001b[94mOCD x Pernicious_or_B12_Deficiency_Anemia\u001b[0m\n",
      "\u001b[94mOCD x Peroxisomal_Disorders\u001b[0m\n",
      "\u001b[94mOCD x Personality_Disorder\u001b[0m\n",
      "\u001b[94mOCD x Phenyketonuria\u001b[0m\n",
      "\u001b[94mOCD x Phlebitis_Thrombophlebitis\u001b[0m\n",
      "\u001b[94mOCD x Phosphorus_Metabolism_Disorder\u001b[0m\n",
      "\u001b[94mOCD x Photodermatitis\u001b[0m\n",
      "\u001b[94mOCD x Pituitary_Disorder\u001b[0m\n",
      "\u001b[94mOCD x Pleuritis\u001b[0m\n",
      "\u001b[94mOCD x Pneumonia\u001b[0m\n",
      "ss_log__ -1.1447301\n",
      "shift -2.3025851\n",
      "b_shrinkage_log__ -2.28946\n",
      "fixed_b -7.829342\n",
      "ls_log__ -1.1447301\n",
      "var_log__ -1.1447301\n",
      "f_gp_rotated_ -48.703743\n",
      "nu_y_log__ -0.61370564\n",
      "sigma_y_log__ -0.61370564\n"
     ]
    },
    {
     "name": "stderr",
     "output_type": "stream",
     "text": [
      "Initializing NUTS using advi+adapt_diag...\n"
     ]
    },
    {
     "name": "stdout",
     "output_type": "stream",
     "text": [
      "y -198.44548591541096\n"
     ]
    },
    {
     "data": {
      "text/html": [
       "\n",
       "    <div>\n",
       "        <style>\n",
       "            /* Turns off some styling */\n",
       "            progress {\n",
       "                /* gets rid of default border in Firefox and Opera. */\n",
       "                border: none;\n",
       "                /* Needs to be in here for Safari polyfill so background images work as expected. */\n",
       "                background-size: auto;\n",
       "            }\n",
       "            .progress-bar-interrupted, .progress-bar-interrupted::-webkit-progress-bar {\n",
       "                background: #F44336;\n",
       "            }\n",
       "        </style>\n",
       "      <progress value='17179' class='' max='200000' style='width:300px; height:20px; vertical-align: middle;'></progress>\n",
       "      8.59% [17179/200000 00:06<01:06 Average Loss = 157.84]\n",
       "    </div>\n",
       "    "
      ],
      "text/plain": [
       "<IPython.core.display.HTML object>"
      ]
     },
     "metadata": {},
     "output_type": "display_data"
    },
    {
     "name": "stderr",
     "output_type": "stream",
     "text": [
      "Convergence achieved at 17700\n",
      "Interrupted at 17,699 [8%]: Average Loss = 185.53\n",
      "Multiprocess sampling (4 chains in 4 jobs)\n",
      "NUTS: [sigma_y, nu_y, f_gp_rotated_, var, ls, fixed_b, b_shrinkage, shift, ss]\n"
     ]
    },
    {
     "data": {
      "text/html": [
       "\n",
       "    <div>\n",
       "        <style>\n",
       "            /* Turns off some styling */\n",
       "            progress {\n",
       "                /* gets rid of default border in Firefox and Opera. */\n",
       "                border: none;\n",
       "                /* Needs to be in here for Safari polyfill so background images work as expected. */\n",
       "                background-size: auto;\n",
       "            }\n",
       "            .progress-bar-interrupted, .progress-bar-interrupted::-webkit-progress-bar {\n",
       "                background: #F44336;\n",
       "            }\n",
       "        </style>\n",
       "      <progress value='8000' class='' max='8000' style='width:300px; height:20px; vertical-align: middle;'></progress>\n",
       "      100.00% [8000/8000 00:57<00:00 Sampling 4 chains, 139 divergences]\n",
       "    </div>\n",
       "    "
      ],
      "text/plain": [
       "<IPython.core.display.HTML object>"
      ]
     },
     "metadata": {},
     "output_type": "display_data"
    },
    {
     "name": "stderr",
     "output_type": "stream",
     "text": [
      "Sampling 4 chains for 1_500 tune and 500 draw iterations (6_000 + 2_000 draws total) took 58 seconds.\n",
      "There were 2 divergences after tuning. Increase `target_accept` or reparameterize.\n",
      "The acceptance probability does not match the target. It is 0.7620467544026085, but should be close to 0.9. Try to increase the number of tuning steps.\n",
      "There were 136 divergences after tuning. Increase `target_accept` or reparameterize.\n",
      "The acceptance probability does not match the target. It is 0.40787125282888065, but should be close to 0.9. Try to increase the number of tuning steps.\n",
      "There was 1 divergence after tuning. Increase `target_accept` or reparameterize.\n",
      "The rhat statistic is larger than 1.2 for some parameters.\n",
      "The estimated number of effective samples is smaller than 200 for some parameters.\n",
      "Got error No model on context stack. trying to find log_likelihood in translation.\n",
      "Got error No model on context stack. trying to find log_likelihood in translation.\n",
      "Got error No model on context stack. trying to find log_likelihood in translation.\n",
      "Got error No model on context stack. trying to find log_likelihood in translation.\n",
      "Got error No model on context stack. trying to find log_likelihood in translation.\n",
      "Got error No model on context stack. trying to find log_likelihood in translation.\n"
     ]
    },
    {
     "name": "stdout",
     "output_type": "stream",
     "text": [
      "b_shrinkage_log__ -2.28946\n",
      "fixed_b -7.829342\n",
      "ls_log__ -1.1447301\n",
      "var_log__ -1.1447301\n",
      "f_gp_rotated_ -48.703743\n",
      "nu_y_log__ -0.61370564\n",
      "sigma_y_log__ -0.61370564\n"
     ]
    },
    {
     "name": "stderr",
     "output_type": "stream",
     "text": [
      "Initializing NUTS using advi+adapt_diag...\n"
     ]
    },
    {
     "name": "stdout",
     "output_type": "stream",
     "text": [
      "y -198.44548591541096\n"
     ]
    },
    {
     "data": {
      "text/html": [
       "\n",
       "    <div>\n",
       "        <style>\n",
       "            /* Turns off some styling */\n",
       "            progress {\n",
       "                /* gets rid of default border in Firefox and Opera. */\n",
       "                border: none;\n",
       "                /* Needs to be in here for Safari polyfill so background images work as expected. */\n",
       "                background-size: auto;\n",
       "            }\n",
       "            .progress-bar-interrupted, .progress-bar-interrupted::-webkit-progress-bar {\n",
       "                background: #F44336;\n",
       "            }\n",
       "        </style>\n",
       "      <progress value='14912' class='' max='200000' style='width:300px; height:20px; vertical-align: middle;'></progress>\n",
       "      7.46% [14912/200000 00:05<01:04 Average Loss = 160.85]\n",
       "    </div>\n",
       "    "
      ],
      "text/plain": [
       "<IPython.core.display.HTML object>"
      ]
     },
     "metadata": {},
     "output_type": "display_data"
    },
    {
     "name": "stderr",
     "output_type": "stream",
     "text": [
      "Convergence achieved at 15100\n",
      "Interrupted at 15,099 [7%]: Average Loss = 190.03\n",
      "Multiprocess sampling (4 chains in 4 jobs)\n",
      "NUTS: [sigma_y, nu_y, f_gp_rotated_, var, ls, fixed_b, b_shrinkage]\n"
     ]
    },
    {
     "data": {
      "text/html": [
       "\n",
       "    <div>\n",
       "        <style>\n",
       "            /* Turns off some styling */\n",
       "            progress {\n",
       "                /* gets rid of default border in Firefox and Opera. */\n",
       "                border: none;\n",
       "                /* Needs to be in here for Safari polyfill so background images work as expected. */\n",
       "                background-size: auto;\n",
       "            }\n",
       "            .progress-bar-interrupted, .progress-bar-interrupted::-webkit-progress-bar {\n",
       "                background: #F44336;\n",
       "            }\n",
       "        </style>\n",
       "      <progress value='8000' class='' max='8000' style='width:300px; height:20px; vertical-align: middle;'></progress>\n",
       "      100.00% [8000/8000 00:54<00:00 Sampling 4 chains, 4 divergences]\n",
       "    </div>\n",
       "    "
      ],
      "text/plain": [
       "<IPython.core.display.HTML object>"
      ]
     },
     "metadata": {},
     "output_type": "display_data"
    },
    {
     "name": "stderr",
     "output_type": "stream",
     "text": [
      "Sampling 4 chains for 1_500 tune and 500 draw iterations (6_000 + 2_000 draws total) took 54 seconds.\n",
      "There were 2 divergences after tuning. Increase `target_accept` or reparameterize.\n",
      "There were 2 divergences after tuning. Increase `target_accept` or reparameterize.\n",
      "The number of effective samples is smaller than 25% for some parameters.\n",
      "Got error No model on context stack. trying to find log_likelihood in translation.\n",
      "Got error No model on context stack. trying to find log_likelihood in translation.\n",
      "Got error No model on context stack. trying to find log_likelihood in translation.\n",
      "Got error No model on context stack. trying to find log_likelihood in translation.\n",
      "Got error No model on context stack. trying to find log_likelihood in translation.\n",
      "Got error No model on context stack. trying to find log_likelihood in translation.\n"
     ]
    },
    {
     "name": "stdout",
     "output_type": "stream",
     "text": [
      "\u001b[94mOCD x Poliomyelitis\u001b[0m\n",
      "\u001b[94mOCD x Polyclonal_Hypergammaglobulinemia\u001b[0m\n",
      "\u001b[94mOCD x Polycystic_Kidney_Disease\u001b[0m\n",
      "\u001b[94mOCD x Polycystic_Liver_Disease\u001b[0m\n",
      "\u001b[94mOCD x Polymorphonuclear_Neutrophils_Disorders\u001b[0m\n",
      "\u001b[94mOCD x Polyostotic_Fibrous_Dysplasia_of_Bone\u001b[0m\n",
      "\u001b[94mOCD x Porphyrin_Metabolic_Disorder\u001b[0m\n",
      "\u001b[94mOCD x Prader_Willi_Syndrome\u001b[0m\n",
      "\u001b[94mOCD x Primary_Carnitine_Deficiency\u001b[0m\n",
      "\u001b[94mOCD x Primary_Hereditary_Retinal_Dystrophy\u001b[0m\n",
      "\u001b[94mOCD x Prion_Disease\u001b[0m\n",
      "\u001b[94mOCD x Prostate_Cancer\u001b[0m\n",
      "\u001b[94mOCD x Protozoan_Infection\u001b[0m\n",
      "\u001b[94mOCD x Psoriasis_Related_Disorders\u001b[0m\n",
      "\u001b[94mOCD x Psychogenic_Somatoform_Disorder\u001b[0m\n",
      "\u001b[94mOCD x Pubertal_Dysfunction\u001b[0m\n",
      "\u001b[94mOCD x Pulmonary_Embolism_Infarction\u001b[0m\n",
      "\u001b[94mOCD x Pulmonary_Heart_Disease\u001b[0m\n",
      "\u001b[94mOCD x Pure_Hypercholesterolemia\u001b[0m\n",
      "\u001b[94mOCD x Pure_Hyperglyceridemia\u001b[0m\n",
      "\u001b[94mOCD x Purine_Pyrimidine_Metabolic_Disorder\u001b[0m\n",
      "\u001b[94mOCD x Purpura_Other_Hemorrhagic_Conditions\u001b[0m\n",
      "\u001b[94mOCD x Radiation_Sensitivity\u001b[0m\n",
      "\u001b[94mOCD x Reactive_Arthritis\u001b[0m\n",
      "\u001b[94mOCD x Rectal_Anal_Disorder\u001b[0m\n",
      "\u001b[94mOCD x Refraction_Accomodation_Disorders\u001b[0m\n",
      "\u001b[94mOCD x Refsums_Disease\u001b[0m\n",
      "\u001b[94mOCD x Renal_Glycosuria\u001b[0m\n",
      "\u001b[94mOCD x Respiratory_Congenital_Anomaly\u001b[0m\n",
      "\u001b[94mOCD x Respiratory_System_Cancer\u001b[0m\n",
      "\u001b[94mOCD x Rheumatic_Heart_Disease\u001b[0m\n",
      "\u001b[94mOCD x Rheumatoid_Arthritis_Related_Conditions\u001b[0m\n",
      "\u001b[94mOCD x Rosacea\u001b[0m\n",
      "\u001b[94mOCD x Ruvalcaba-Myhre_Syndrome\u001b[0m\n",
      "\u001b[94mOCD x STI\u001b[0m\n",
      "\u001b[94mOCD x Salivary_Gland_Disease\u001b[0m\n",
      "\u001b[94mOCD x Sarcoidosis\u001b[0m\n",
      "\u001b[94mOCD x Schizophrenia_Related_Psychosis\u001b[0m\n",
      "\u001b[94mOCD x Schwartz-Jampel_Syndrome\u001b[0m\n",
      "\u001b[94mOCD x Sebaceous_Gland_Disorder\u001b[0m\n",
      "\u001b[94mOCD x Seborrheic_Dermatitis\u001b[0m\n",
      "\u001b[94mOCD x Secondary_Arthropathy\u001b[0m\n",
      "\u001b[94mOCD x Secondary_Diabetes_Mellitus\u001b[0m\n",
      "\u001b[94mOCD x Secondary_Hereditary_Retinal_Dystrophy\u001b[0m\n",
      "\u001b[94mOCD x Secondary_Malignant_Neoplasm\u001b[0m\n",
      "\u001b[94mOCD x Septic_Arthritis\u001b[0m\n",
      "\u001b[94mOCD x Septicemia\u001b[0m\n",
      "\u001b[94mOCD x Severe_Combined_Immunodeficiency\u001b[0m\n",
      "\u001b[94mOCD x Sexual_Dysfunction\u001b[0m\n",
      "\u001b[94mOCD x Sjogrens_Syndrome\u001b[0m\n",
      "\u001b[94mOCD x Skin_Infection\u001b[0m\n",
      "ss_log__ -1.1447301\n",
      "shift -2.3025851\n",
      "b_shrinkage_log__ -2.28946\n",
      "fixed_b -7.829342\n",
      "ls_log__ -1.1447301\n",
      "var_log__ -1.1447301\n",
      "f_gp_rotated_ -44.10905\n",
      "nu_y_log__ -0.61370564\n",
      "sigma_y_log__ -0.61370564\n"
     ]
    },
    {
     "name": "stderr",
     "output_type": "stream",
     "text": [
      "Initializing NUTS using advi+adapt_diag...\n"
     ]
    },
    {
     "name": "stdout",
     "output_type": "stream",
     "text": [
      "y -153.24912544312264\n"
     ]
    },
    {
     "data": {
      "text/html": [
       "\n",
       "    <div>\n",
       "        <style>\n",
       "            /* Turns off some styling */\n",
       "            progress {\n",
       "                /* gets rid of default border in Firefox and Opera. */\n",
       "                border: none;\n",
       "                /* Needs to be in here for Safari polyfill so background images work as expected. */\n",
       "                background-size: auto;\n",
       "            }\n",
       "            .progress-bar-interrupted, .progress-bar-interrupted::-webkit-progress-bar {\n",
       "                background: #F44336;\n",
       "            }\n",
       "        </style>\n",
       "      <progress value='15892' class='' max='200000' style='width:300px; height:20px; vertical-align: middle;'></progress>\n",
       "      7.95% [15892/200000 00:05<01:04 Average Loss = 133.01]\n",
       "    </div>\n",
       "    "
      ],
      "text/plain": [
       "<IPython.core.display.HTML object>"
      ]
     },
     "metadata": {},
     "output_type": "display_data"
    },
    {
     "name": "stderr",
     "output_type": "stream",
     "text": [
      "Convergence achieved at 15900\n",
      "Interrupted at 15,899 [7%]: Average Loss = 160.55\n",
      "Multiprocess sampling (4 chains in 4 jobs)\n",
      "NUTS: [sigma_y, nu_y, f_gp_rotated_, var, ls, fixed_b, b_shrinkage, shift, ss]\n"
     ]
    },
    {
     "data": {
      "text/html": [
       "\n",
       "    <div>\n",
       "        <style>\n",
       "            /* Turns off some styling */\n",
       "            progress {\n",
       "                /* gets rid of default border in Firefox and Opera. */\n",
       "                border: none;\n",
       "                /* Needs to be in here for Safari polyfill so background images work as expected. */\n",
       "                background-size: auto;\n",
       "            }\n",
       "            .progress-bar-interrupted, .progress-bar-interrupted::-webkit-progress-bar {\n",
       "                background: #F44336;\n",
       "            }\n",
       "        </style>\n",
       "      <progress value='8000' class='' max='8000' style='width:300px; height:20px; vertical-align: middle;'></progress>\n",
       "      100.00% [8000/8000 00:56<00:00 Sampling 4 chains, 6 divergences]\n",
       "    </div>\n",
       "    "
      ],
      "text/plain": [
       "<IPython.core.display.HTML object>"
      ]
     },
     "metadata": {},
     "output_type": "display_data"
    },
    {
     "name": "stderr",
     "output_type": "stream",
     "text": [
      "Sampling 4 chains for 1_500 tune and 500 draw iterations (6_000 + 2_000 draws total) took 57 seconds.\n",
      "There were 2 divergences after tuning. Increase `target_accept` or reparameterize.\n",
      "There was 1 divergence after tuning. Increase `target_accept` or reparameterize.\n",
      "There were 3 divergences after tuning. Increase `target_accept` or reparameterize.\n",
      "The acceptance probability does not match the target. It is 0.8237203797509114, but should be close to 0.9. Try to increase the number of tuning steps.\n",
      "The rhat statistic is larger than 1.05 for some parameters. This indicates slight problems during sampling.\n",
      "The estimated number of effective samples is smaller than 200 for some parameters.\n",
      "Got error No model on context stack. trying to find log_likelihood in translation.\n",
      "Got error No model on context stack. trying to find log_likelihood in translation.\n",
      "Got error No model on context stack. trying to find log_likelihood in translation.\n",
      "Got error No model on context stack. trying to find log_likelihood in translation.\n",
      "Got error No model on context stack. trying to find log_likelihood in translation.\n",
      "Got error No model on context stack. trying to find log_likelihood in translation.\n"
     ]
    },
    {
     "name": "stdout",
     "output_type": "stream",
     "text": [
      "b_shrinkage_log__ -2.28946\n",
      "fixed_b -7.829342\n",
      "ls_log__ -1.1447301\n",
      "var_log__ -1.1447301\n",
      "f_gp_rotated_ -44.10905\n",
      "nu_y_log__ -0.61370564\n",
      "sigma_y_log__ -0.61370564\n"
     ]
    },
    {
     "name": "stderr",
     "output_type": "stream",
     "text": [
      "Initializing NUTS using advi+adapt_diag...\n"
     ]
    },
    {
     "name": "stdout",
     "output_type": "stream",
     "text": [
      "y -153.24912544312264\n"
     ]
    },
    {
     "data": {
      "text/html": [
       "\n",
       "    <div>\n",
       "        <style>\n",
       "            /* Turns off some styling */\n",
       "            progress {\n",
       "                /* gets rid of default border in Firefox and Opera. */\n",
       "                border: none;\n",
       "                /* Needs to be in here for Safari polyfill so background images work as expected. */\n",
       "                background-size: auto;\n",
       "            }\n",
       "            .progress-bar-interrupted, .progress-bar-interrupted::-webkit-progress-bar {\n",
       "                background: #F44336;\n",
       "            }\n",
       "        </style>\n",
       "      <progress value='16311' class='' max='200000' style='width:300px; height:20px; vertical-align: middle;'></progress>\n",
       "      8.16% [16311/200000 00:05<01:01 Average Loss = 132.05]\n",
       "    </div>\n",
       "    "
      ],
      "text/plain": [
       "<IPython.core.display.HTML object>"
      ]
     },
     "metadata": {},
     "output_type": "display_data"
    },
    {
     "name": "stderr",
     "output_type": "stream",
     "text": [
      "Convergence achieved at 16700\n",
      "Interrupted at 16,699 [8%]: Average Loss = 158.6\n",
      "Multiprocess sampling (4 chains in 4 jobs)\n",
      "NUTS: [sigma_y, nu_y, f_gp_rotated_, var, ls, fixed_b, b_shrinkage]\n"
     ]
    },
    {
     "data": {
      "text/html": [
       "\n",
       "    <div>\n",
       "        <style>\n",
       "            /* Turns off some styling */\n",
       "            progress {\n",
       "                /* gets rid of default border in Firefox and Opera. */\n",
       "                border: none;\n",
       "                /* Needs to be in here for Safari polyfill so background images work as expected. */\n",
       "                background-size: auto;\n",
       "            }\n",
       "            .progress-bar-interrupted, .progress-bar-interrupted::-webkit-progress-bar {\n",
       "                background: #F44336;\n",
       "            }\n",
       "        </style>\n",
       "      <progress value='8000' class='' max='8000' style='width:300px; height:20px; vertical-align: middle;'></progress>\n",
       "      100.00% [8000/8000 00:46<00:00 Sampling 4 chains, 53 divergences]\n",
       "    </div>\n",
       "    "
      ],
      "text/plain": [
       "<IPython.core.display.HTML object>"
      ]
     },
     "metadata": {},
     "output_type": "display_data"
    },
    {
     "name": "stderr",
     "output_type": "stream",
     "text": [
      "Sampling 4 chains for 1_500 tune and 500 draw iterations (6_000 + 2_000 draws total) took 47 seconds.\n",
      "There were 48 divergences after tuning. Increase `target_accept` or reparameterize.\n",
      "There were 3 divergences after tuning. Increase `target_accept` or reparameterize.\n",
      "There were 2 divergences after tuning. Increase `target_accept` or reparameterize.\n",
      "The number of effective samples is smaller than 25% for some parameters.\n",
      "Got error No model on context stack. trying to find log_likelihood in translation.\n",
      "Got error No model on context stack. trying to find log_likelihood in translation.\n",
      "Got error No model on context stack. trying to find log_likelihood in translation.\n",
      "Got error No model on context stack. trying to find log_likelihood in translation.\n",
      "Got error No model on context stack. trying to find log_likelihood in translation.\n",
      "Got error No model on context stack. trying to find log_likelihood in translation.\n"
     ]
    },
    {
     "name": "stdout",
     "output_type": "stream",
     "text": [
      "\u001b[94mOCD x Sleep_Apnea\u001b[0m\n",
      "\u001b[94mOCD x Sleep_Disorder\u001b[0m\n",
      "\u001b[94mOCD x Smith-Magenis_Syndrome\u001b[0m\n",
      "\u001b[94mOCD x Specified_Childhood_Cerebral_Degeneration\u001b[0m\n",
      "\u001b[94mOCD x Speech_Language_Disorder\u001b[0m\n",
      "ss_log__ -1.1447301\n",
      "shift -2.3025851\n",
      "b_shrinkage_log__ -2.28946\n",
      "fixed_b -7.829342\n",
      "ls_log__ -1.1447301\n",
      "var_log__ -1.1447301\n",
      "f_gp_rotated_ -36.75754\n",
      "nu_y_log__ -0.61370564\n",
      "sigma_y_log__ -0.61370564\n"
     ]
    },
    {
     "name": "stderr",
     "output_type": "stream",
     "text": [
      "Initializing NUTS using advi+adapt_diag...\n"
     ]
    },
    {
     "name": "stdout",
     "output_type": "stream",
     "text": [
      "y -134.19895533628866\n"
     ]
    },
    {
     "data": {
      "text/html": [
       "\n",
       "    <div>\n",
       "        <style>\n",
       "            /* Turns off some styling */\n",
       "            progress {\n",
       "                /* gets rid of default border in Firefox and Opera. */\n",
       "                border: none;\n",
       "                /* Needs to be in here for Safari polyfill so background images work as expected. */\n",
       "                background-size: auto;\n",
       "            }\n",
       "            .progress-bar-interrupted, .progress-bar-interrupted::-webkit-progress-bar {\n",
       "                background: #F44336;\n",
       "            }\n",
       "        </style>\n",
       "      <progress value='15665' class='' max='200000' style='width:300px; height:20px; vertical-align: middle;'></progress>\n",
       "      7.83% [15665/200000 00:04<00:56 Average Loss = 119.04]\n",
       "    </div>\n",
       "    "
      ],
      "text/plain": [
       "<IPython.core.display.HTML object>"
      ]
     },
     "metadata": {},
     "output_type": "display_data"
    },
    {
     "name": "stderr",
     "output_type": "stream",
     "text": [
      "Convergence achieved at 15900\n",
      "Interrupted at 15,899 [7%]: Average Loss = 138.86\n",
      "Multiprocess sampling (4 chains in 4 jobs)\n",
      "NUTS: [sigma_y, nu_y, f_gp_rotated_, var, ls, fixed_b, b_shrinkage, shift, ss]\n"
     ]
    },
    {
     "data": {
      "text/html": [
       "\n",
       "    <div>\n",
       "        <style>\n",
       "            /* Turns off some styling */\n",
       "            progress {\n",
       "                /* gets rid of default border in Firefox and Opera. */\n",
       "                border: none;\n",
       "                /* Needs to be in here for Safari polyfill so background images work as expected. */\n",
       "                background-size: auto;\n",
       "            }\n",
       "            .progress-bar-interrupted, .progress-bar-interrupted::-webkit-progress-bar {\n",
       "                background: #F44336;\n",
       "            }\n",
       "        </style>\n",
       "      <progress value='8000' class='' max='8000' style='width:300px; height:20px; vertical-align: middle;'></progress>\n",
       "      100.00% [8000/8000 00:45<00:00 Sampling 4 chains, 10 divergences]\n",
       "    </div>\n",
       "    "
      ],
      "text/plain": [
       "<IPython.core.display.HTML object>"
      ]
     },
     "metadata": {},
     "output_type": "display_data"
    },
    {
     "name": "stderr",
     "output_type": "stream",
     "text": [
      "Sampling 4 chains for 1_500 tune and 500 draw iterations (6_000 + 2_000 draws total) took 46 seconds.\n",
      "The acceptance probability does not match the target. It is 0.8168544607599879, but should be close to 0.9. Try to increase the number of tuning steps.\n",
      "There were 3 divergences after tuning. Increase `target_accept` or reparameterize.\n",
      "There were 7 divergences after tuning. Increase `target_accept` or reparameterize.\n",
      "The rhat statistic is larger than 1.05 for some parameters. This indicates slight problems during sampling.\n",
      "The estimated number of effective samples is smaller than 200 for some parameters.\n",
      "Got error No model on context stack. trying to find log_likelihood in translation.\n",
      "Got error No model on context stack. trying to find log_likelihood in translation.\n",
      "Got error No model on context stack. trying to find log_likelihood in translation.\n",
      "Got error No model on context stack. trying to find log_likelihood in translation.\n",
      "Got error No model on context stack. trying to find log_likelihood in translation.\n",
      "Got error No model on context stack. trying to find log_likelihood in translation.\n"
     ]
    },
    {
     "name": "stdout",
     "output_type": "stream",
     "text": [
      "b_shrinkage_log__ -2.28946\n",
      "fixed_b -7.829342\n",
      "ls_log__ -1.1447301\n",
      "var_log__ -1.1447301\n",
      "f_gp_rotated_ -36.75754\n",
      "nu_y_log__ -0.61370564\n",
      "sigma_y_log__ -0.61370564\n"
     ]
    },
    {
     "name": "stderr",
     "output_type": "stream",
     "text": [
      "Initializing NUTS using advi+adapt_diag...\n"
     ]
    },
    {
     "name": "stdout",
     "output_type": "stream",
     "text": [
      "y -134.19895533628866\n"
     ]
    },
    {
     "data": {
      "text/html": [
       "\n",
       "    <div>\n",
       "        <style>\n",
       "            /* Turns off some styling */\n",
       "            progress {\n",
       "                /* gets rid of default border in Firefox and Opera. */\n",
       "                border: none;\n",
       "                /* Needs to be in here for Safari polyfill so background images work as expected. */\n",
       "                background-size: auto;\n",
       "            }\n",
       "            .progress-bar-interrupted, .progress-bar-interrupted::-webkit-progress-bar {\n",
       "                background: #F44336;\n",
       "            }\n",
       "        </style>\n",
       "      <progress value='14560' class='' max='200000' style='width:300px; height:20px; vertical-align: middle;'></progress>\n",
       "      7.28% [14560/200000 00:04<00:56 Average Loss = 120.69]\n",
       "    </div>\n",
       "    "
      ],
      "text/plain": [
       "<IPython.core.display.HTML object>"
      ]
     },
     "metadata": {},
     "output_type": "display_data"
    },
    {
     "name": "stderr",
     "output_type": "stream",
     "text": [
      "Convergence achieved at 14800\n",
      "Interrupted at 14,799 [7%]: Average Loss = 140.12\n",
      "Multiprocess sampling (4 chains in 4 jobs)\n",
      "NUTS: [sigma_y, nu_y, f_gp_rotated_, var, ls, fixed_b, b_shrinkage]\n"
     ]
    },
    {
     "data": {
      "text/html": [
       "\n",
       "    <div>\n",
       "        <style>\n",
       "            /* Turns off some styling */\n",
       "            progress {\n",
       "                /* gets rid of default border in Firefox and Opera. */\n",
       "                border: none;\n",
       "                /* Needs to be in here for Safari polyfill so background images work as expected. */\n",
       "                background-size: auto;\n",
       "            }\n",
       "            .progress-bar-interrupted, .progress-bar-interrupted::-webkit-progress-bar {\n",
       "                background: #F44336;\n",
       "            }\n",
       "        </style>\n",
       "      <progress value='8000' class='' max='8000' style='width:300px; height:20px; vertical-align: middle;'></progress>\n",
       "      100.00% [8000/8000 00:35<00:00 Sampling 4 chains, 15 divergences]\n",
       "    </div>\n",
       "    "
      ],
      "text/plain": [
       "<IPython.core.display.HTML object>"
      ]
     },
     "metadata": {},
     "output_type": "display_data"
    },
    {
     "name": "stderr",
     "output_type": "stream",
     "text": [
      "Sampling 4 chains for 1_500 tune and 500 draw iterations (6_000 + 2_000 draws total) took 36 seconds.\n",
      "There were 8 divergences after tuning. Increase `target_accept` or reparameterize.\n",
      "There was 1 divergence after tuning. Increase `target_accept` or reparameterize.\n",
      "There was 1 divergence after tuning. Increase `target_accept` or reparameterize.\n",
      "There were 5 divergences after tuning. Increase `target_accept` or reparameterize.\n",
      "The estimated number of effective samples is smaller than 200 for some parameters.\n",
      "Got error No model on context stack. trying to find log_likelihood in translation.\n",
      "Got error No model on context stack. trying to find log_likelihood in translation.\n",
      "Got error No model on context stack. trying to find log_likelihood in translation.\n",
      "Got error No model on context stack. trying to find log_likelihood in translation.\n",
      "Got error No model on context stack. trying to find log_likelihood in translation.\n",
      "Got error No model on context stack. trying to find log_likelihood in translation.\n"
     ]
    },
    {
     "name": "stdout",
     "output_type": "stream",
     "text": [
      "\u001b[94mOCD x Spinal_Chord_Degeneration\u001b[0m\n",
      "\u001b[94mOCD x Spinal_Muscular_Atrophy\u001b[0m\n",
      "\u001b[94mOCD x Spinal_Stenosis\u001b[0m\n",
      "\u001b[94mOCD x Spinocerebellar_Ataxia\u001b[0m\n",
      "\u001b[94mOCD x Spirochetal_Infection\u001b[0m\n",
      "\u001b[94mOCD x Spleen_Disease\u001b[0m\n",
      "\u001b[94mOCD x Staphylococcus_Aureus_Infection\u001b[0m\n",
      "\u001b[94mOCD x Stomach_Cancer\u001b[0m\n",
      "\u001b[94mOCD x Streptococcal_Infection\u001b[0m\n",
      "\u001b[94mOCD x Stuttering\u001b[0m\n",
      "\u001b[94mOCD x Substance_Abuse\u001b[0m\n",
      "\u001b[94mOCD x Sweat_Gland_Disorder\u001b[0m\n",
      "\u001b[94mOCD x Syndrome_with_Pervasive_Congenital_Anomalies\u001b[0m\n",
      "\u001b[94mOCD x Synovium_Tendon_Bursa_Disorder\u001b[0m\n",
      "\u001b[94mOCD x Thymic_Disorders\u001b[0m\n",
      "\u001b[94mOCD x Thyroid_Cancer\u001b[0m\n",
      "\u001b[94mOCD x Thyroiditis\u001b[0m\n",
      "\u001b[94mOCD x Thyrotoxicosis\u001b[0m\n",
      "\u001b[94mOCD x Tics_Tourettes\u001b[0m\n",
      "ss_log__ -1.1447301\n",
      "shift -2.3025851\n",
      "b_shrinkage_log__ -2.28946\n",
      "fixed_b -7.829342\n",
      "ls_log__ -1.1447301\n",
      "var_log__ -1.1447301\n",
      "f_gp_rotated_ -25.73028\n",
      "nu_y_log__ -0.61370564\n",
      "sigma_y_log__ -0.61370564\n"
     ]
    },
    {
     "name": "stderr",
     "output_type": "stream",
     "text": [
      "Initializing NUTS using advi+adapt_diag...\n"
     ]
    },
    {
     "name": "stdout",
     "output_type": "stream",
     "text": [
      "y -87.22764352583232\n"
     ]
    },
    {
     "data": {
      "text/html": [
       "\n",
       "    <div>\n",
       "        <style>\n",
       "            /* Turns off some styling */\n",
       "            progress {\n",
       "                /* gets rid of default border in Firefox and Opera. */\n",
       "                border: none;\n",
       "                /* Needs to be in here for Safari polyfill so background images work as expected. */\n",
       "                background-size: auto;\n",
       "            }\n",
       "            .progress-bar-interrupted, .progress-bar-interrupted::-webkit-progress-bar {\n",
       "                background: #F44336;\n",
       "            }\n",
       "        </style>\n",
       "      <progress value='14708' class='' max='200000' style='width:300px; height:20px; vertical-align: middle;'></progress>\n",
       "      7.35% [14708/200000 00:04<00:55 Average Loss = 92.169]\n",
       "    </div>\n",
       "    "
      ],
      "text/plain": [
       "<IPython.core.display.HTML object>"
      ]
     },
     "metadata": {},
     "output_type": "display_data"
    },
    {
     "name": "stderr",
     "output_type": "stream",
     "text": [
      "Convergence achieved at 14900\n",
      "Interrupted at 14,899 [7%]: Average Loss = 103.12\n",
      "Multiprocess sampling (4 chains in 4 jobs)\n",
      "NUTS: [sigma_y, nu_y, f_gp_rotated_, var, ls, fixed_b, b_shrinkage, shift, ss]\n"
     ]
    },
    {
     "data": {
      "text/html": [
       "\n",
       "    <div>\n",
       "        <style>\n",
       "            /* Turns off some styling */\n",
       "            progress {\n",
       "                /* gets rid of default border in Firefox and Opera. */\n",
       "                border: none;\n",
       "                /* Needs to be in here for Safari polyfill so background images work as expected. */\n",
       "                background-size: auto;\n",
       "            }\n",
       "            .progress-bar-interrupted, .progress-bar-interrupted::-webkit-progress-bar {\n",
       "                background: #F44336;\n",
       "            }\n",
       "        </style>\n",
       "      <progress value='8000' class='' max='8000' style='width:300px; height:20px; vertical-align: middle;'></progress>\n",
       "      100.00% [8000/8000 00:55<00:00 Sampling 4 chains, 6 divergences]\n",
       "    </div>\n",
       "    "
      ],
      "text/plain": [
       "<IPython.core.display.HTML object>"
      ]
     },
     "metadata": {},
     "output_type": "display_data"
    },
    {
     "name": "stderr",
     "output_type": "stream",
     "text": [
      "Sampling 4 chains for 1_500 tune and 500 draw iterations (6_000 + 2_000 draws total) took 56 seconds.\n",
      "There were 3 divergences after tuning. Increase `target_accept` or reparameterize.\n",
      "The acceptance probability does not match the target. It is 0.8396584721978191, but should be close to 0.9. Try to increase the number of tuning steps.\n",
      "There was 1 divergence after tuning. Increase `target_accept` or reparameterize.\n",
      "There was 1 divergence after tuning. Increase `target_accept` or reparameterize.\n",
      "There was 1 divergence after tuning. Increase `target_accept` or reparameterize.\n",
      "The estimated number of effective samples is smaller than 200 for some parameters.\n",
      "Got error No model on context stack. trying to find log_likelihood in translation.\n",
      "Got error No model on context stack. trying to find log_likelihood in translation.\n",
      "Got error No model on context stack. trying to find log_likelihood in translation.\n",
      "Got error No model on context stack. trying to find log_likelihood in translation.\n",
      "Got error No model on context stack. trying to find log_likelihood in translation.\n",
      "Got error No model on context stack. trying to find log_likelihood in translation.\n"
     ]
    },
    {
     "name": "stdout",
     "output_type": "stream",
     "text": [
      "b_shrinkage_log__ -2.28946\n",
      "fixed_b -7.829342\n",
      "ls_log__ -1.1447301\n",
      "var_log__ -1.1447301\n",
      "f_gp_rotated_ -25.73028\n",
      "nu_y_log__ -0.61370564\n",
      "sigma_y_log__ -0.61370564\n"
     ]
    },
    {
     "name": "stderr",
     "output_type": "stream",
     "text": [
      "Initializing NUTS using advi+adapt_diag...\n"
     ]
    },
    {
     "name": "stdout",
     "output_type": "stream",
     "text": [
      "y -87.22764352583232\n"
     ]
    },
    {
     "data": {
      "text/html": [
       "\n",
       "    <div>\n",
       "        <style>\n",
       "            /* Turns off some styling */\n",
       "            progress {\n",
       "                /* gets rid of default border in Firefox and Opera. */\n",
       "                border: none;\n",
       "                /* Needs to be in here for Safari polyfill so background images work as expected. */\n",
       "                background-size: auto;\n",
       "            }\n",
       "            .progress-bar-interrupted, .progress-bar-interrupted::-webkit-progress-bar {\n",
       "                background: #F44336;\n",
       "            }\n",
       "        </style>\n",
       "      <progress value='15542' class='' max='200000' style='width:300px; height:20px; vertical-align: middle;'></progress>\n",
       "      7.77% [15542/200000 00:04<00:52 Average Loss = 90.538]\n",
       "    </div>\n",
       "    "
      ],
      "text/plain": [
       "<IPython.core.display.HTML object>"
      ]
     },
     "metadata": {},
     "output_type": "display_data"
    },
    {
     "name": "stderr",
     "output_type": "stream",
     "text": [
      "Convergence achieved at 16200\n",
      "Interrupted at 16,199 [8%]: Average Loss = 101\n",
      "Multiprocess sampling (4 chains in 4 jobs)\n",
      "NUTS: [sigma_y, nu_y, f_gp_rotated_, var, ls, fixed_b, b_shrinkage]\n"
     ]
    },
    {
     "data": {
      "text/html": [
       "\n",
       "    <div>\n",
       "        <style>\n",
       "            /* Turns off some styling */\n",
       "            progress {\n",
       "                /* gets rid of default border in Firefox and Opera. */\n",
       "                border: none;\n",
       "                /* Needs to be in here for Safari polyfill so background images work as expected. */\n",
       "                background-size: auto;\n",
       "            }\n",
       "            .progress-bar-interrupted, .progress-bar-interrupted::-webkit-progress-bar {\n",
       "                background: #F44336;\n",
       "            }\n",
       "        </style>\n",
       "      <progress value='8000' class='' max='8000' style='width:300px; height:20px; vertical-align: middle;'></progress>\n",
       "      100.00% [8000/8000 00:46<00:00 Sampling 4 chains, 17 divergences]\n",
       "    </div>\n",
       "    "
      ],
      "text/plain": [
       "<IPython.core.display.HTML object>"
      ]
     },
     "metadata": {},
     "output_type": "display_data"
    },
    {
     "name": "stderr",
     "output_type": "stream",
     "text": [
      "Sampling 4 chains for 1_500 tune and 500 draw iterations (6_000 + 2_000 draws total) took 47 seconds.\n",
      "There were 4 divergences after tuning. Increase `target_accept` or reparameterize.\n",
      "There were 6 divergences after tuning. Increase `target_accept` or reparameterize.\n",
      "There were 3 divergences after tuning. Increase `target_accept` or reparameterize.\n",
      "There were 4 divergences after tuning. Increase `target_accept` or reparameterize.\n",
      "The estimated number of effective samples is smaller than 200 for some parameters.\n",
      "Got error No model on context stack. trying to find log_likelihood in translation.\n",
      "Got error No model on context stack. trying to find log_likelihood in translation.\n",
      "Got error No model on context stack. trying to find log_likelihood in translation.\n",
      "Got error No model on context stack. trying to find log_likelihood in translation.\n",
      "Got error No model on context stack. trying to find log_likelihood in translation.\n",
      "Got error No model on context stack. trying to find log_likelihood in translation.\n"
     ]
    },
    {
     "name": "stdout",
     "output_type": "stream",
     "text": [
      "\u001b[94mOCD x Tongue_Disease\u001b[0m\n",
      "\u001b[94mOCD x Tuberculosis\u001b[0m\n",
      "\u001b[94mOCD x Tuberous_Sclerosis\u001b[0m\n",
      "\u001b[94mOCD x Turners_Syndrome\u001b[0m\n",
      "\u001b[94mOCD x Tympanic_Membrane_Disorders\u001b[0m\n",
      "\u001b[94mOCD x Type_II_Diabetes_Mellitus\u001b[0m\n",
      "\u001b[94mOCD x Type_I_Diabetes_Mellitus\u001b[0m\n",
      "\u001b[94mOCD x UTI\u001b[0m\n",
      "ss_log__ -1.1447301\n",
      "shift -2.3025851\n",
      "b_shrinkage_log__ -2.28946\n",
      "fixed_b -7.829342\n",
      "ls_log__ -1.1447301\n",
      "var_log__ -1.1447301\n",
      "f_gp_rotated_ -48.703743\n",
      "nu_y_log__ -0.61370564\n",
      "sigma_y_log__ -0.61370564\n"
     ]
    },
    {
     "name": "stderr",
     "output_type": "stream",
     "text": [
      "Initializing NUTS using advi+adapt_diag...\n"
     ]
    },
    {
     "name": "stdout",
     "output_type": "stream",
     "text": [
      "y -159.8909267246276\n"
     ]
    },
    {
     "data": {
      "text/html": [
       "\n",
       "    <div>\n",
       "        <style>\n",
       "            /* Turns off some styling */\n",
       "            progress {\n",
       "                /* gets rid of default border in Firefox and Opera. */\n",
       "                border: none;\n",
       "                /* Needs to be in here for Safari polyfill so background images work as expected. */\n",
       "                background-size: auto;\n",
       "            }\n",
       "            .progress-bar-interrupted, .progress-bar-interrupted::-webkit-progress-bar {\n",
       "                background: #F44336;\n",
       "            }\n",
       "        </style>\n",
       "      <progress value='18217' class='' max='200000' style='width:300px; height:20px; vertical-align: middle;'></progress>\n",
       "      9.11% [18217/200000 00:06<01:05 Average Loss = 139.9]\n",
       "    </div>\n",
       "    "
      ],
      "text/plain": [
       "<IPython.core.display.HTML object>"
      ]
     },
     "metadata": {},
     "output_type": "display_data"
    },
    {
     "name": "stderr",
     "output_type": "stream",
     "text": [
      "Convergence achieved at 18500\n",
      "Interrupted at 18,499 [9%]: Average Loss = 170.79\n",
      "Multiprocess sampling (4 chains in 4 jobs)\n",
      "NUTS: [sigma_y, nu_y, f_gp_rotated_, var, ls, fixed_b, b_shrinkage, shift, ss]\n"
     ]
    },
    {
     "data": {
      "text/html": [
       "\n",
       "    <div>\n",
       "        <style>\n",
       "            /* Turns off some styling */\n",
       "            progress {\n",
       "                /* gets rid of default border in Firefox and Opera. */\n",
       "                border: none;\n",
       "                /* Needs to be in here for Safari polyfill so background images work as expected. */\n",
       "                background-size: auto;\n",
       "            }\n",
       "            .progress-bar-interrupted, .progress-bar-interrupted::-webkit-progress-bar {\n",
       "                background: #F44336;\n",
       "            }\n",
       "        </style>\n",
       "      <progress value='8000' class='' max='8000' style='width:300px; height:20px; vertical-align: middle;'></progress>\n",
       "      100.00% [8000/8000 01:08<00:00 Sampling 4 chains, 39 divergences]\n",
       "    </div>\n",
       "    "
      ],
      "text/plain": [
       "<IPython.core.display.HTML object>"
      ]
     },
     "metadata": {},
     "output_type": "display_data"
    },
    {
     "name": "stderr",
     "output_type": "stream",
     "text": [
      "Sampling 4 chains for 1_500 tune and 500 draw iterations (6_000 + 2_000 draws total) took 69 seconds.\n",
      "There were 36 divergences after tuning. Increase `target_accept` or reparameterize.\n",
      "There were 2 divergences after tuning. Increase `target_accept` or reparameterize.\n",
      "There was 1 divergence after tuning. Increase `target_accept` or reparameterize.\n",
      "The estimated number of effective samples is smaller than 200 for some parameters.\n",
      "Got error No model on context stack. trying to find log_likelihood in translation.\n",
      "Got error No model on context stack. trying to find log_likelihood in translation.\n",
      "Got error No model on context stack. trying to find log_likelihood in translation.\n",
      "Got error No model on context stack. trying to find log_likelihood in translation.\n",
      "Got error No model on context stack. trying to find log_likelihood in translation.\n",
      "Got error No model on context stack. trying to find log_likelihood in translation.\n"
     ]
    },
    {
     "name": "stdout",
     "output_type": "stream",
     "text": [
      "b_shrinkage_log__ -2.28946\n",
      "fixed_b -7.829342\n",
      "ls_log__ -1.1447301\n",
      "var_log__ -1.1447301\n",
      "f_gp_rotated_ -48.703743\n",
      "nu_y_log__ -0.61370564\n",
      "sigma_y_log__ -0.61370564\n"
     ]
    },
    {
     "name": "stderr",
     "output_type": "stream",
     "text": [
      "Initializing NUTS using advi+adapt_diag...\n"
     ]
    },
    {
     "name": "stdout",
     "output_type": "stream",
     "text": [
      "y -159.8909267246276\n"
     ]
    },
    {
     "data": {
      "text/html": [
       "\n",
       "    <div>\n",
       "        <style>\n",
       "            /* Turns off some styling */\n",
       "            progress {\n",
       "                /* gets rid of default border in Firefox and Opera. */\n",
       "                border: none;\n",
       "                /* Needs to be in here for Safari polyfill so background images work as expected. */\n",
       "                background-size: auto;\n",
       "            }\n",
       "            .progress-bar-interrupted, .progress-bar-interrupted::-webkit-progress-bar {\n",
       "                background: #F44336;\n",
       "            }\n",
       "        </style>\n",
       "      <progress value='18883' class='' max='200000' style='width:300px; height:20px; vertical-align: middle;'></progress>\n",
       "      9.44% [18883/200000 00:06<01:03 Average Loss = 143.73]\n",
       "    </div>\n",
       "    "
      ],
      "text/plain": [
       "<IPython.core.display.HTML object>"
      ]
     },
     "metadata": {},
     "output_type": "display_data"
    },
    {
     "name": "stderr",
     "output_type": "stream",
     "text": [
      "Convergence achieved at 19200\n",
      "Interrupted at 19,199 [9%]: Average Loss = 169.77\n",
      "Multiprocess sampling (4 chains in 4 jobs)\n",
      "NUTS: [sigma_y, nu_y, f_gp_rotated_, var, ls, fixed_b, b_shrinkage]\n"
     ]
    },
    {
     "data": {
      "text/html": [
       "\n",
       "    <div>\n",
       "        <style>\n",
       "            /* Turns off some styling */\n",
       "            progress {\n",
       "                /* gets rid of default border in Firefox and Opera. */\n",
       "                border: none;\n",
       "                /* Needs to be in here for Safari polyfill so background images work as expected. */\n",
       "                background-size: auto;\n",
       "            }\n",
       "            .progress-bar-interrupted, .progress-bar-interrupted::-webkit-progress-bar {\n",
       "                background: #F44336;\n",
       "            }\n",
       "        </style>\n",
       "      <progress value='8000' class='' max='8000' style='width:300px; height:20px; vertical-align: middle;'></progress>\n",
       "      100.00% [8000/8000 00:56<00:00 Sampling 4 chains, 13 divergences]\n",
       "    </div>\n",
       "    "
      ],
      "text/plain": [
       "<IPython.core.display.HTML object>"
      ]
     },
     "metadata": {},
     "output_type": "display_data"
    },
    {
     "name": "stderr",
     "output_type": "stream",
     "text": [
      "Sampling 4 chains for 1_500 tune and 500 draw iterations (6_000 + 2_000 draws total) took 57 seconds.\n",
      "There were 2 divergences after tuning. Increase `target_accept` or reparameterize.\n",
      "There were 3 divergences after tuning. Increase `target_accept` or reparameterize.\n",
      "There were 2 divergences after tuning. Increase `target_accept` or reparameterize.\n",
      "There were 6 divergences after tuning. Increase `target_accept` or reparameterize.\n",
      "The estimated number of effective samples is smaller than 200 for some parameters.\n",
      "Got error No model on context stack. trying to find log_likelihood in translation.\n",
      "Got error No model on context stack. trying to find log_likelihood in translation.\n",
      "Got error No model on context stack. trying to find log_likelihood in translation.\n",
      "Got error No model on context stack. trying to find log_likelihood in translation.\n",
      "Got error No model on context stack. trying to find log_likelihood in translation.\n",
      "Got error No model on context stack. trying to find log_likelihood in translation.\n"
     ]
    },
    {
     "name": "stdout",
     "output_type": "stream",
     "text": [
      "\u001b[94mOCD x Ulcerative_Colitis\u001b[0m\n",
      "\u001b[94mOCD x Unspecified_Amyloidosis\u001b[0m\n",
      "\u001b[94mOCD x Unspecified_Autoimmune_Disease\u001b[0m\n",
      "\u001b[94mOCD x Unspecified_Behavioral_Development_Disorder\u001b[0m\n",
      "\u001b[94mOCD x Unspecified_Benign_Neoplasm\u001b[0m\n",
      "\u001b[94mOCD x Unspecified_Cancer\u001b[0m\n",
      "\u001b[94mOCD x Unspecified_Cerebellar_Disease\u001b[0m\n",
      "\u001b[94mOCD x Unspecified_Childhood_Cerebral_Degeneration\u001b[0m\n",
      "\u001b[94mOCD x Unspecified_Childhood_Psychoses\u001b[0m\n",
      "ss_log__ -1.1447301\n",
      "shift -2.3025851\n",
      "b_shrinkage_log__ -2.28946\n",
      "fixed_b -7.829342\n",
      "ls_log__ -1.1447301\n",
      "var_log__ -1.1447301\n",
      "f_gp_rotated_ -24.811342\n",
      "nu_y_log__ -0.61370564\n",
      "sigma_y_log__ -0.61370564\n"
     ]
    },
    {
     "name": "stderr",
     "output_type": "stream",
     "text": [
      "Initializing NUTS using advi+adapt_diag...\n"
     ]
    },
    {
     "name": "stdout",
     "output_type": "stream",
     "text": [
      "y -86.36986874860756\n"
     ]
    },
    {
     "data": {
      "text/html": [
       "\n",
       "    <div>\n",
       "        <style>\n",
       "            /* Turns off some styling */\n",
       "            progress {\n",
       "                /* gets rid of default border in Firefox and Opera. */\n",
       "                border: none;\n",
       "                /* Needs to be in here for Safari polyfill so background images work as expected. */\n",
       "                background-size: auto;\n",
       "            }\n",
       "            .progress-bar-interrupted, .progress-bar-interrupted::-webkit-progress-bar {\n",
       "                background: #F44336;\n",
       "            }\n",
       "        </style>\n",
       "      <progress value='11761' class='' max='200000' style='width:300px; height:20px; vertical-align: middle;'></progress>\n",
       "      5.88% [11761/200000 00:03<00:54 Average Loss = 87.283]\n",
       "    </div>\n",
       "    "
      ],
      "text/plain": [
       "<IPython.core.display.HTML object>"
      ]
     },
     "metadata": {},
     "output_type": "display_data"
    },
    {
     "name": "stderr",
     "output_type": "stream",
     "text": [
      "Convergence achieved at 11900\n",
      "Interrupted at 11,899 [5%]: Average Loss = 97.921\n",
      "Multiprocess sampling (4 chains in 4 jobs)\n",
      "NUTS: [sigma_y, nu_y, f_gp_rotated_, var, ls, fixed_b, b_shrinkage, shift, ss]\n"
     ]
    },
    {
     "data": {
      "text/html": [
       "\n",
       "    <div>\n",
       "        <style>\n",
       "            /* Turns off some styling */\n",
       "            progress {\n",
       "                /* gets rid of default border in Firefox and Opera. */\n",
       "                border: none;\n",
       "                /* Needs to be in here for Safari polyfill so background images work as expected. */\n",
       "                background-size: auto;\n",
       "            }\n",
       "            .progress-bar-interrupted, .progress-bar-interrupted::-webkit-progress-bar {\n",
       "                background: #F44336;\n",
       "            }\n",
       "        </style>\n",
       "      <progress value='8000' class='' max='8000' style='width:300px; height:20px; vertical-align: middle;'></progress>\n",
       "      100.00% [8000/8000 00:44<00:00 Sampling 4 chains, 0 divergences]\n",
       "    </div>\n",
       "    "
      ],
      "text/plain": [
       "<IPython.core.display.HTML object>"
      ]
     },
     "metadata": {},
     "output_type": "display_data"
    },
    {
     "name": "stderr",
     "output_type": "stream",
     "text": [
      "Sampling 4 chains for 1_500 tune and 500 draw iterations (6_000 + 2_000 draws total) took 45 seconds.\n",
      "The estimated number of effective samples is smaller than 200 for some parameters.\n",
      "Got error No model on context stack. trying to find log_likelihood in translation.\n",
      "Got error No model on context stack. trying to find log_likelihood in translation.\n",
      "Got error No model on context stack. trying to find log_likelihood in translation.\n",
      "Got error No model on context stack. trying to find log_likelihood in translation.\n",
      "Got error No model on context stack. trying to find log_likelihood in translation.\n",
      "Got error No model on context stack. trying to find log_likelihood in translation.\n"
     ]
    },
    {
     "name": "stdout",
     "output_type": "stream",
     "text": [
      "b_shrinkage_log__ -2.28946\n",
      "fixed_b -7.829342\n",
      "ls_log__ -1.1447301\n",
      "var_log__ -1.1447301\n",
      "f_gp_rotated_ -24.811342\n",
      "nu_y_log__ -0.61370564\n",
      "sigma_y_log__ -0.61370564\n"
     ]
    },
    {
     "name": "stderr",
     "output_type": "stream",
     "text": [
      "Initializing NUTS using advi+adapt_diag...\n"
     ]
    },
    {
     "name": "stdout",
     "output_type": "stream",
     "text": [
      "y -86.36986874860756\n"
     ]
    },
    {
     "data": {
      "text/html": [
       "\n",
       "    <div>\n",
       "        <style>\n",
       "            /* Turns off some styling */\n",
       "            progress {\n",
       "                /* gets rid of default border in Firefox and Opera. */\n",
       "                border: none;\n",
       "                /* Needs to be in here for Safari polyfill so background images work as expected. */\n",
       "                background-size: auto;\n",
       "            }\n",
       "            .progress-bar-interrupted, .progress-bar-interrupted::-webkit-progress-bar {\n",
       "                background: #F44336;\n",
       "            }\n",
       "        </style>\n",
       "      <progress value='12482' class='' max='200000' style='width:300px; height:20px; vertical-align: middle;'></progress>\n",
       "      6.24% [12482/200000 00:03<00:51 Average Loss = 86.05]\n",
       "    </div>\n",
       "    "
      ],
      "text/plain": [
       "<IPython.core.display.HTML object>"
      ]
     },
     "metadata": {},
     "output_type": "display_data"
    },
    {
     "name": "stderr",
     "output_type": "stream",
     "text": [
      "Convergence achieved at 12800\n",
      "Interrupted at 12,799 [6%]: Average Loss = 95.273\n",
      "Multiprocess sampling (4 chains in 4 jobs)\n",
      "NUTS: [sigma_y, nu_y, f_gp_rotated_, var, ls, fixed_b, b_shrinkage]\n"
     ]
    },
    {
     "data": {
      "text/html": [
       "\n",
       "    <div>\n",
       "        <style>\n",
       "            /* Turns off some styling */\n",
       "            progress {\n",
       "                /* gets rid of default border in Firefox and Opera. */\n",
       "                border: none;\n",
       "                /* Needs to be in here for Safari polyfill so background images work as expected. */\n",
       "                background-size: auto;\n",
       "            }\n",
       "            .progress-bar-interrupted, .progress-bar-interrupted::-webkit-progress-bar {\n",
       "                background: #F44336;\n",
       "            }\n",
       "        </style>\n",
       "      <progress value='8000' class='' max='8000' style='width:300px; height:20px; vertical-align: middle;'></progress>\n",
       "      100.00% [8000/8000 00:34<00:00 Sampling 4 chains, 4 divergences]\n",
       "    </div>\n",
       "    "
      ],
      "text/plain": [
       "<IPython.core.display.HTML object>"
      ]
     },
     "metadata": {},
     "output_type": "display_data"
    },
    {
     "name": "stderr",
     "output_type": "stream",
     "text": [
      "Sampling 4 chains for 1_500 tune and 500 draw iterations (6_000 + 2_000 draws total) took 35 seconds.\n",
      "There was 1 divergence after tuning. Increase `target_accept` or reparameterize.\n",
      "There were 3 divergences after tuning. Increase `target_accept` or reparameterize.\n",
      "The estimated number of effective samples is smaller than 200 for some parameters.\n",
      "Got error No model on context stack. trying to find log_likelihood in translation.\n",
      "Got error No model on context stack. trying to find log_likelihood in translation.\n",
      "Got error No model on context stack. trying to find log_likelihood in translation.\n",
      "Got error No model on context stack. trying to find log_likelihood in translation.\n",
      "Got error No model on context stack. trying to find log_likelihood in translation.\n",
      "Got error No model on context stack. trying to find log_likelihood in translation.\n"
     ]
    },
    {
     "name": "stdout",
     "output_type": "stream",
     "text": [
      "\u001b[94mOCD x Unspecified_Congenital_Anomaly\u001b[0m\n",
      "\u001b[94mOCD x Unspecified_Diabetes_Mellitus\u001b[0m\n",
      "\u001b[94mOCD x Unspecified_Encephalopathy\u001b[0m\n",
      "ss_log__ -1.1447301\n",
      "shift -2.3025851\n",
      "b_shrinkage_log__ -2.28946\n",
      "fixed_b -7.829342\n",
      "ls_log__ -1.1447301\n",
      "var_log__ -1.1447301\n",
      "f_gp_rotated_ -34.00073\n",
      "nu_y_log__ -0.61370564\n",
      "sigma_y_log__ -0.61370564\n"
     ]
    },
    {
     "name": "stderr",
     "output_type": "stream",
     "text": [
      "Initializing NUTS using advi+adapt_diag...\n"
     ]
    },
    {
     "name": "stdout",
     "output_type": "stream",
     "text": [
      "y -100.82574561963959\n"
     ]
    },
    {
     "data": {
      "text/html": [
       "\n",
       "    <div>\n",
       "        <style>\n",
       "            /* Turns off some styling */\n",
       "            progress {\n",
       "                /* gets rid of default border in Firefox and Opera. */\n",
       "                border: none;\n",
       "                /* Needs to be in here for Safari polyfill so background images work as expected. */\n",
       "                background-size: auto;\n",
       "            }\n",
       "            .progress-bar-interrupted, .progress-bar-interrupted::-webkit-progress-bar {\n",
       "                background: #F44336;\n",
       "            }\n",
       "        </style>\n",
       "      <progress value='16506' class='' max='200000' style='width:300px; height:20px; vertical-align: middle;'></progress>\n",
       "      8.25% [16506/200000 00:05<00:58 Average Loss = 104.69]\n",
       "    </div>\n",
       "    "
      ],
      "text/plain": [
       "<IPython.core.display.HTML object>"
      ]
     },
     "metadata": {},
     "output_type": "display_data"
    },
    {
     "name": "stderr",
     "output_type": "stream",
     "text": [
      "Convergence achieved at 16900\n",
      "Interrupted at 16,899 [8%]: Average Loss = 123.72\n",
      "Multiprocess sampling (4 chains in 4 jobs)\n",
      "NUTS: [sigma_y, nu_y, f_gp_rotated_, var, ls, fixed_b, b_shrinkage, shift, ss]\n"
     ]
    },
    {
     "data": {
      "text/html": [
       "\n",
       "    <div>\n",
       "        <style>\n",
       "            /* Turns off some styling */\n",
       "            progress {\n",
       "                /* gets rid of default border in Firefox and Opera. */\n",
       "                border: none;\n",
       "                /* Needs to be in here for Safari polyfill so background images work as expected. */\n",
       "                background-size: auto;\n",
       "            }\n",
       "            .progress-bar-interrupted, .progress-bar-interrupted::-webkit-progress-bar {\n",
       "                background: #F44336;\n",
       "            }\n",
       "        </style>\n",
       "      <progress value='8000' class='' max='8000' style='width:300px; height:20px; vertical-align: middle;'></progress>\n",
       "      100.00% [8000/8000 01:25<00:00 Sampling 4 chains, 2 divergences]\n",
       "    </div>\n",
       "    "
      ],
      "text/plain": [
       "<IPython.core.display.HTML object>"
      ]
     },
     "metadata": {},
     "output_type": "display_data"
    },
    {
     "name": "stderr",
     "output_type": "stream",
     "text": [
      "Sampling 4 chains for 1_500 tune and 500 draw iterations (6_000 + 2_000 draws total) took 85 seconds.\n",
      "There was 1 divergence after tuning. Increase `target_accept` or reparameterize.\n",
      "There was 1 divergence after tuning. Increase `target_accept` or reparameterize.\n",
      "The rhat statistic is larger than 1.05 for some parameters. This indicates slight problems during sampling.\n",
      "The estimated number of effective samples is smaller than 200 for some parameters.\n",
      "Got error No model on context stack. trying to find log_likelihood in translation.\n",
      "Got error No model on context stack. trying to find log_likelihood in translation.\n",
      "Got error No model on context stack. trying to find log_likelihood in translation.\n",
      "Got error No model on context stack. trying to find log_likelihood in translation.\n",
      "Got error No model on context stack. trying to find log_likelihood in translation.\n",
      "Got error No model on context stack. trying to find log_likelihood in translation.\n"
     ]
    },
    {
     "name": "stdout",
     "output_type": "stream",
     "text": [
      "b_shrinkage_log__ -2.28946\n",
      "fixed_b -7.829342\n",
      "ls_log__ -1.1447301\n",
      "var_log__ -1.1447301\n",
      "f_gp_rotated_ -34.00073\n",
      "nu_y_log__ -0.61370564\n",
      "sigma_y_log__ -0.61370564\n"
     ]
    },
    {
     "name": "stderr",
     "output_type": "stream",
     "text": [
      "Initializing NUTS using advi+adapt_diag...\n"
     ]
    },
    {
     "name": "stdout",
     "output_type": "stream",
     "text": [
      "y -100.82574561963959\n"
     ]
    },
    {
     "data": {
      "text/html": [
       "\n",
       "    <div>\n",
       "        <style>\n",
       "            /* Turns off some styling */\n",
       "            progress {\n",
       "                /* gets rid of default border in Firefox and Opera. */\n",
       "                border: none;\n",
       "                /* Needs to be in here for Safari polyfill so background images work as expected. */\n",
       "                background-size: auto;\n",
       "            }\n",
       "            .progress-bar-interrupted, .progress-bar-interrupted::-webkit-progress-bar {\n",
       "                background: #F44336;\n",
       "            }\n",
       "        </style>\n",
       "      <progress value='20698' class='' max='200000' style='width:300px; height:20px; vertical-align: middle;'></progress>\n",
       "      10.35% [20698/200000 00:06<00:52 Average Loss = 102.74]\n",
       "    </div>\n",
       "    "
      ],
      "text/plain": [
       "<IPython.core.display.HTML object>"
      ]
     },
     "metadata": {},
     "output_type": "display_data"
    },
    {
     "name": "stderr",
     "output_type": "stream",
     "text": [
      "Convergence achieved at 20900\n",
      "Interrupted at 20,899 [10%]: Average Loss = 120.15\n",
      "Multiprocess sampling (4 chains in 4 jobs)\n",
      "NUTS: [sigma_y, nu_y, f_gp_rotated_, var, ls, fixed_b, b_shrinkage]\n"
     ]
    },
    {
     "data": {
      "text/html": [
       "\n",
       "    <div>\n",
       "        <style>\n",
       "            /* Turns off some styling */\n",
       "            progress {\n",
       "                /* gets rid of default border in Firefox and Opera. */\n",
       "                border: none;\n",
       "                /* Needs to be in here for Safari polyfill so background images work as expected. */\n",
       "                background-size: auto;\n",
       "            }\n",
       "            .progress-bar-interrupted, .progress-bar-interrupted::-webkit-progress-bar {\n",
       "                background: #F44336;\n",
       "            }\n",
       "        </style>\n",
       "      <progress value='8000' class='' max='8000' style='width:300px; height:20px; vertical-align: middle;'></progress>\n",
       "      100.00% [8000/8000 01:09<00:00 Sampling 4 chains, 5 divergences]\n",
       "    </div>\n",
       "    "
      ],
      "text/plain": [
       "<IPython.core.display.HTML object>"
      ]
     },
     "metadata": {},
     "output_type": "display_data"
    },
    {
     "name": "stderr",
     "output_type": "stream",
     "text": [
      "Sampling 4 chains for 1_500 tune and 500 draw iterations (6_000 + 2_000 draws total) took 70 seconds.\n",
      "There were 2 divergences after tuning. Increase `target_accept` or reparameterize.\n",
      "There were 2 divergences after tuning. Increase `target_accept` or reparameterize.\n",
      "There was 1 divergence after tuning. Increase `target_accept` or reparameterize.\n",
      "The rhat statistic is larger than 1.05 for some parameters. This indicates slight problems during sampling.\n",
      "The estimated number of effective samples is smaller than 200 for some parameters.\n",
      "Got error No model on context stack. trying to find log_likelihood in translation.\n",
      "Got error No model on context stack. trying to find log_likelihood in translation.\n",
      "Got error No model on context stack. trying to find log_likelihood in translation.\n",
      "Got error No model on context stack. trying to find log_likelihood in translation.\n",
      "Got error No model on context stack. trying to find log_likelihood in translation.\n",
      "Got error No model on context stack. trying to find log_likelihood in translation.\n"
     ]
    },
    {
     "name": "stdout",
     "output_type": "stream",
     "text": [
      "\u001b[94mOCD x Unspecified_Endocrine_Disorder\u001b[0m\n",
      "\u001b[94mOCD x Unspecified_Hematological_Disorder\u001b[0m\n",
      "\u001b[94mOCD x Unspecified_Hepatitis\u001b[0m\n",
      "\u001b[94mOCD x Unspecified_Hyperlipidemia\u001b[0m\n",
      "\u001b[94mOCD x Unspecified_Immune_Deficiency\u001b[0m\n",
      "\u001b[94mOCD x Unspecified_Immune_Disorder\u001b[0m\n",
      "\u001b[94mOCD x Unspecified_Lipid_Metabolism_Disorder\u001b[0m\n",
      "\u001b[94mOCD x Unspecified_Middle_Ear_Mastoid_Diseases\u001b[0m\n",
      "\u001b[94mOCD x Unspecified_Neuropathy\u001b[0m\n",
      "\u001b[94mOCD x Unspecified_Neuropsychiatric_Disorder\u001b[0m\n",
      "\u001b[94mOCD x Unspecified_Plasma_Protein_Metabolism_Disorder\u001b[0m\n",
      "\u001b[94mOCD x Unspecified_Polyglandular_Disorder\u001b[0m\n",
      "\u001b[94mOCD x Unspecified_Recurrent_Headaches\u001b[0m\n",
      "\u001b[94mOCD x Unspecified_White_Blood_Cell_Disease\u001b[0m\n",
      "\u001b[94mOCD x Upper_Respiratory_Inflammation\u001b[0m\n",
      "ss_log__ -1.1447301\n",
      "shift -2.3025851\n",
      "b_shrinkage_log__ -2.28946\n",
      "fixed_b -7.829342\n",
      "ls_log__ -1.1447301\n",
      "var_log__ -1.1447301\n",
      "f_gp_rotated_ -55.136314\n",
      "nu_y_log__ -0.61370564\n",
      "sigma_y_log__ -0.61370564\n"
     ]
    },
    {
     "name": "stderr",
     "output_type": "stream",
     "text": [
      "Initializing NUTS using advi+adapt_diag...\n"
     ]
    },
    {
     "name": "stdout",
     "output_type": "stream",
     "text": [
      "y -334.7321213232063\n"
     ]
    },
    {
     "data": {
      "text/html": [
       "\n",
       "    <div>\n",
       "        <style>\n",
       "            /* Turns off some styling */\n",
       "            progress {\n",
       "                /* gets rid of default border in Firefox and Opera. */\n",
       "                border: none;\n",
       "                /* Needs to be in here for Safari polyfill so background images work as expected. */\n",
       "                background-size: auto;\n",
       "            }\n",
       "            .progress-bar-interrupted, .progress-bar-interrupted::-webkit-progress-bar {\n",
       "                background: #F44336;\n",
       "            }\n",
       "        </style>\n",
       "      <progress value='15908' class='' max='200000' style='width:300px; height:20px; vertical-align: middle;'></progress>\n",
       "      7.95% [15908/200000 00:06<01:12 Average Loss = 230.37]\n",
       "    </div>\n",
       "    "
      ],
      "text/plain": [
       "<IPython.core.display.HTML object>"
      ]
     },
     "metadata": {},
     "output_type": "display_data"
    },
    {
     "name": "stderr",
     "output_type": "stream",
     "text": [
      "Convergence achieved at 16100\n",
      "Interrupted at 16,099 [8%]: Average Loss = 260.91\n",
      "Multiprocess sampling (4 chains in 4 jobs)\n",
      "NUTS: [sigma_y, nu_y, f_gp_rotated_, var, ls, fixed_b, b_shrinkage, shift, ss]\n"
     ]
    },
    {
     "data": {
      "text/html": [
       "\n",
       "    <div>\n",
       "        <style>\n",
       "            /* Turns off some styling */\n",
       "            progress {\n",
       "                /* gets rid of default border in Firefox and Opera. */\n",
       "                border: none;\n",
       "                /* Needs to be in here for Safari polyfill so background images work as expected. */\n",
       "                background-size: auto;\n",
       "            }\n",
       "            .progress-bar-interrupted, .progress-bar-interrupted::-webkit-progress-bar {\n",
       "                background: #F44336;\n",
       "            }\n",
       "        </style>\n",
       "      <progress value='8000' class='' max='8000' style='width:300px; height:20px; vertical-align: middle;'></progress>\n",
       "      100.00% [8000/8000 01:49<00:00 Sampling 4 chains, 6 divergences]\n",
       "    </div>\n",
       "    "
      ],
      "text/plain": [
       "<IPython.core.display.HTML object>"
      ]
     },
     "metadata": {},
     "output_type": "display_data"
    },
    {
     "name": "stderr",
     "output_type": "stream",
     "text": [
      "Sampling 4 chains for 1_500 tune and 500 draw iterations (6_000 + 2_000 draws total) took 110 seconds.\n",
      "There were 3 divergences after tuning. Increase `target_accept` or reparameterize.\n",
      "There was 1 divergence after tuning. Increase `target_accept` or reparameterize.\n",
      "There were 2 divergences after tuning. Increase `target_accept` or reparameterize.\n",
      "Got error No model on context stack. trying to find log_likelihood in translation.\n",
      "Got error No model on context stack. trying to find log_likelihood in translation.\n",
      "Got error No model on context stack. trying to find log_likelihood in translation.\n",
      "Got error No model on context stack. trying to find log_likelihood in translation.\n",
      "Got error No model on context stack. trying to find log_likelihood in translation.\n",
      "Got error No model on context stack. trying to find log_likelihood in translation.\n"
     ]
    },
    {
     "name": "stdout",
     "output_type": "stream",
     "text": [
      "b_shrinkage_log__ -2.28946\n",
      "fixed_b -7.829342\n",
      "ls_log__ -1.1447301\n",
      "var_log__ -1.1447301\n",
      "f_gp_rotated_ -55.136314\n",
      "nu_y_log__ -0.61370564\n",
      "sigma_y_log__ -0.61370564\n"
     ]
    },
    {
     "name": "stderr",
     "output_type": "stream",
     "text": [
      "Initializing NUTS using advi+adapt_diag...\n"
     ]
    },
    {
     "name": "stdout",
     "output_type": "stream",
     "text": [
      "y -334.7321213232063\n"
     ]
    },
    {
     "data": {
      "text/html": [
       "\n",
       "    <div>\n",
       "        <style>\n",
       "            /* Turns off some styling */\n",
       "            progress {\n",
       "                /* gets rid of default border in Firefox and Opera. */\n",
       "                border: none;\n",
       "                /* Needs to be in here for Safari polyfill so background images work as expected. */\n",
       "                background-size: auto;\n",
       "            }\n",
       "            .progress-bar-interrupted, .progress-bar-interrupted::-webkit-progress-bar {\n",
       "                background: #F44336;\n",
       "            }\n",
       "        </style>\n",
       "      <progress value='16090' class='' max='200000' style='width:300px; height:20px; vertical-align: middle;'></progress>\n",
       "      8.04% [16090/200000 00:06<01:11 Average Loss = 228.13]\n",
       "    </div>\n",
       "    "
      ],
      "text/plain": [
       "<IPython.core.display.HTML object>"
      ]
     },
     "metadata": {},
     "output_type": "display_data"
    },
    {
     "name": "stderr",
     "output_type": "stream",
     "text": [
      "Convergence achieved at 16200\n",
      "Interrupted at 16,199 [8%]: Average Loss = 261.61\n",
      "Multiprocess sampling (4 chains in 4 jobs)\n",
      "NUTS: [sigma_y, nu_y, f_gp_rotated_, var, ls, fixed_b, b_shrinkage]\n"
     ]
    },
    {
     "data": {
      "text/html": [
       "\n",
       "    <div>\n",
       "        <style>\n",
       "            /* Turns off some styling */\n",
       "            progress {\n",
       "                /* gets rid of default border in Firefox and Opera. */\n",
       "                border: none;\n",
       "                /* Needs to be in here for Safari polyfill so background images work as expected. */\n",
       "                background-size: auto;\n",
       "            }\n",
       "            .progress-bar-interrupted, .progress-bar-interrupted::-webkit-progress-bar {\n",
       "                background: #F44336;\n",
       "            }\n",
       "        </style>\n",
       "      <progress value='8000' class='' max='8000' style='width:300px; height:20px; vertical-align: middle;'></progress>\n",
       "      100.00% [8000/8000 01:38<00:00 Sampling 4 chains, 10 divergences]\n",
       "    </div>\n",
       "    "
      ],
      "text/plain": [
       "<IPython.core.display.HTML object>"
      ]
     },
     "metadata": {},
     "output_type": "display_data"
    },
    {
     "name": "stderr",
     "output_type": "stream",
     "text": [
      "Sampling 4 chains for 1_500 tune and 500 draw iterations (6_000 + 2_000 draws total) took 99 seconds.\n",
      "There were 2 divergences after tuning. Increase `target_accept` or reparameterize.\n",
      "There were 3 divergences after tuning. Increase `target_accept` or reparameterize.\n",
      "There were 3 divergences after tuning. Increase `target_accept` or reparameterize.\n",
      "There were 2 divergences after tuning. Increase `target_accept` or reparameterize.\n",
      "Got error No model on context stack. trying to find log_likelihood in translation.\n",
      "Got error No model on context stack. trying to find log_likelihood in translation.\n",
      "Got error No model on context stack. trying to find log_likelihood in translation.\n",
      "Got error No model on context stack. trying to find log_likelihood in translation.\n",
      "Got error No model on context stack. trying to find log_likelihood in translation.\n",
      "Got error No model on context stack. trying to find log_likelihood in translation.\n"
     ]
    },
    {
     "name": "stdout",
     "output_type": "stream",
     "text": [
      "\u001b[94mOCD x Urethral_Disorder\u001b[0m\n",
      "\u001b[94mOCD x Urinary_Calculus\u001b[0m\n",
      "\u001b[94mOCD x Uterine_Cancer\u001b[0m\n",
      "\u001b[94mOCD x Varicella_Infection\u001b[0m\n",
      "\u001b[94mOCD x Vascular_Congenital_Anomaly\u001b[0m\n",
      "\u001b[94mOCD x Vascular_Insufficiency\u001b[0m\n",
      "\u001b[94mOCD x Vasculitis\u001b[0m\n",
      "\u001b[94mOCD x Velo-Cardio-Facial_Syndrome\u001b[0m\n",
      "\u001b[94mOCD x Viral_Hepatitis_A\u001b[0m\n",
      "\u001b[94mOCD x Viral_Hepatitis_B\u001b[0m\n",
      "\u001b[94mOCD x Viral_Hepatitis_C\u001b[0m\n",
      "\u001b[94mOCD x Viral_Warts_HPV\u001b[0m\n",
      "ss_log__ -1.1447301\n",
      "shift -2.3025851\n",
      "b_shrinkage_log__ -2.28946\n",
      "fixed_b -7.829342\n",
      "ls_log__ -1.1447301\n",
      "var_log__ -1.1447301\n",
      "f_gp_rotated_ -36.75754\n",
      "nu_y_log__ -0.61370564\n",
      "sigma_y_log__ -0.61370564\n"
     ]
    },
    {
     "name": "stderr",
     "output_type": "stream",
     "text": [
      "Initializing NUTS using advi+adapt_diag...\n"
     ]
    },
    {
     "name": "stdout",
     "output_type": "stream",
     "text": [
      "y -111.94551116878979\n"
     ]
    },
    {
     "data": {
      "text/html": [
       "\n",
       "    <div>\n",
       "        <style>\n",
       "            /* Turns off some styling */\n",
       "            progress {\n",
       "                /* gets rid of default border in Firefox and Opera. */\n",
       "                border: none;\n",
       "                /* Needs to be in here for Safari polyfill so background images work as expected. */\n",
       "                background-size: auto;\n",
       "            }\n",
       "            .progress-bar-interrupted, .progress-bar-interrupted::-webkit-progress-bar {\n",
       "                background: #F44336;\n",
       "            }\n",
       "        </style>\n",
       "      <progress value='16299' class='' max='200000' style='width:300px; height:20px; vertical-align: middle;'></progress>\n",
       "      8.15% [16299/200000 00:05<00:58 Average Loss = 113.24]\n",
       "    </div>\n",
       "    "
      ],
      "text/plain": [
       "<IPython.core.display.HTML object>"
      ]
     },
     "metadata": {},
     "output_type": "display_data"
    },
    {
     "name": "stderr",
     "output_type": "stream",
     "text": [
      "Convergence achieved at 16900\n",
      "Interrupted at 16,899 [8%]: Average Loss = 132.33\n",
      "Multiprocess sampling (4 chains in 4 jobs)\n",
      "NUTS: [sigma_y, nu_y, f_gp_rotated_, var, ls, fixed_b, b_shrinkage, shift, ss]\n"
     ]
    },
    {
     "data": {
      "text/html": [
       "\n",
       "    <div>\n",
       "        <style>\n",
       "            /* Turns off some styling */\n",
       "            progress {\n",
       "                /* gets rid of default border in Firefox and Opera. */\n",
       "                border: none;\n",
       "                /* Needs to be in here for Safari polyfill so background images work as expected. */\n",
       "                background-size: auto;\n",
       "            }\n",
       "            .progress-bar-interrupted, .progress-bar-interrupted::-webkit-progress-bar {\n",
       "                background: #F44336;\n",
       "            }\n",
       "        </style>\n",
       "      <progress value='8000' class='' max='8000' style='width:300px; height:20px; vertical-align: middle;'></progress>\n",
       "      100.00% [8000/8000 01:14<00:00 Sampling 4 chains, 4 divergences]\n",
       "    </div>\n",
       "    "
      ],
      "text/plain": [
       "<IPython.core.display.HTML object>"
      ]
     },
     "metadata": {},
     "output_type": "display_data"
    },
    {
     "name": "stderr",
     "output_type": "stream",
     "text": [
      "Sampling 4 chains for 1_500 tune and 500 draw iterations (6_000 + 2_000 draws total) took 75 seconds.\n",
      "There was 1 divergence after tuning. Increase `target_accept` or reparameterize.\n",
      "There were 2 divergences after tuning. Increase `target_accept` or reparameterize.\n",
      "There was 1 divergence after tuning. Increase `target_accept` or reparameterize.\n",
      "The rhat statistic is larger than 1.05 for some parameters. This indicates slight problems during sampling.\n",
      "The estimated number of effective samples is smaller than 200 for some parameters.\n",
      "Got error No model on context stack. trying to find log_likelihood in translation.\n",
      "Got error No model on context stack. trying to find log_likelihood in translation.\n",
      "Got error No model on context stack. trying to find log_likelihood in translation.\n",
      "Got error No model on context stack. trying to find log_likelihood in translation.\n",
      "Got error No model on context stack. trying to find log_likelihood in translation.\n",
      "Got error No model on context stack. trying to find log_likelihood in translation.\n"
     ]
    },
    {
     "name": "stdout",
     "output_type": "stream",
     "text": [
      "b_shrinkage_log__ -2.28946\n",
      "fixed_b -7.829342\n",
      "ls_log__ -1.1447301\n",
      "var_log__ -1.1447301\n",
      "f_gp_rotated_ -36.75754\n",
      "nu_y_log__ -0.61370564\n",
      "sigma_y_log__ -0.61370564\n"
     ]
    },
    {
     "name": "stderr",
     "output_type": "stream",
     "text": [
      "Initializing NUTS using advi+adapt_diag...\n"
     ]
    },
    {
     "name": "stdout",
     "output_type": "stream",
     "text": [
      "y -111.94551116878979\n"
     ]
    },
    {
     "data": {
      "text/html": [
       "\n",
       "    <div>\n",
       "        <style>\n",
       "            /* Turns off some styling */\n",
       "            progress {\n",
       "                /* gets rid of default border in Firefox and Opera. */\n",
       "                border: none;\n",
       "                /* Needs to be in here for Safari polyfill so background images work as expected. */\n",
       "                background-size: auto;\n",
       "            }\n",
       "            .progress-bar-interrupted, .progress-bar-interrupted::-webkit-progress-bar {\n",
       "                background: #F44336;\n",
       "            }\n",
       "        </style>\n",
       "      <progress value='16016' class='' max='200000' style='width:300px; height:20px; vertical-align: middle;'></progress>\n",
       "      8.01% [16016/200000 00:04<00:55 Average Loss = 110.5]\n",
       "    </div>\n",
       "    "
      ],
      "text/plain": [
       "<IPython.core.display.HTML object>"
      ]
     },
     "metadata": {},
     "output_type": "display_data"
    },
    {
     "name": "stderr",
     "output_type": "stream",
     "text": [
      "Convergence achieved at 16500\n",
      "Interrupted at 16,499 [8%]: Average Loss = 131.57\n",
      "Multiprocess sampling (4 chains in 4 jobs)\n",
      "NUTS: [sigma_y, nu_y, f_gp_rotated_, var, ls, fixed_b, b_shrinkage]\n"
     ]
    },
    {
     "data": {
      "text/html": [
       "\n",
       "    <div>\n",
       "        <style>\n",
       "            /* Turns off some styling */\n",
       "            progress {\n",
       "                /* gets rid of default border in Firefox and Opera. */\n",
       "                border: none;\n",
       "                /* Needs to be in here for Safari polyfill so background images work as expected. */\n",
       "                background-size: auto;\n",
       "            }\n",
       "            .progress-bar-interrupted, .progress-bar-interrupted::-webkit-progress-bar {\n",
       "                background: #F44336;\n",
       "            }\n",
       "        </style>\n",
       "      <progress value='8000' class='' max='8000' style='width:300px; height:20px; vertical-align: middle;'></progress>\n",
       "      100.00% [8000/8000 00:50<00:00 Sampling 4 chains, 4 divergences]\n",
       "    </div>\n",
       "    "
      ],
      "text/plain": [
       "<IPython.core.display.HTML object>"
      ]
     },
     "metadata": {},
     "output_type": "display_data"
    },
    {
     "name": "stderr",
     "output_type": "stream",
     "text": [
      "Sampling 4 chains for 1_500 tune and 500 draw iterations (6_000 + 2_000 draws total) took 51 seconds.\n",
      "There were 3 divergences after tuning. Increase `target_accept` or reparameterize.\n",
      "There was 1 divergence after tuning. Increase `target_accept` or reparameterize.\n",
      "The rhat statistic is larger than 1.05 for some parameters. This indicates slight problems during sampling.\n",
      "The estimated number of effective samples is smaller than 200 for some parameters.\n",
      "Got error No model on context stack. trying to find log_likelihood in translation.\n",
      "Got error No model on context stack. trying to find log_likelihood in translation.\n",
      "Got error No model on context stack. trying to find log_likelihood in translation.\n",
      "Got error No model on context stack. trying to find log_likelihood in translation.\n",
      "Got error No model on context stack. trying to find log_likelihood in translation.\n",
      "Got error No model on context stack. trying to find log_likelihood in translation.\n"
     ]
    },
    {
     "name": "stdout",
     "output_type": "stream",
     "text": [
      "\u001b[94mOCD x Visual_Pathway_Cortex_Disorder\u001b[0m\n",
      "\u001b[94mOCD x Vitamin_Deficiency\u001b[0m\n",
      "\u001b[94mOCD x Vitamin_Toxicity\u001b[0m\n",
      "\u001b[94mOCD x Vitreous_Body_Disorder\u001b[0m\n",
      "\u001b[94mOCD x Wiskott-Alrich_Syndrome\u001b[0m\n"
     ]
    }
   ],
   "source": [
    "%env MKL_NUM_THREADS=4\n",
    "%env MKL_DEBUG_CPU_TYPE=5\n",
    "%env THEANO_FLAGS=device=cpu, floatX=float32\n",
    "\n",
    "import pickle\n",
    "import numpy as np\n",
    "import pymc3 as pm\n",
    "import arviz as az\n",
    "import theano.tensor as tt\n",
    "import matplotlib.pyplot as plt\n",
    "import matplotlib.font_manager as fm\n",
    "from collections import Counter\n",
    "from pathlib import Path\n",
    "import os\n",
    "import warnings\n",
    "warnings.filterwarnings('ignore')\n",
    "import logging\n",
    "logging.getLogger('matplotlib').setLevel(level=logging.CRITICAL)\n",
    "\n",
    "plt.rcParams['font.family'] = 'Nimbus Sans'\n",
    "\n",
    "INPUT_DATA_AUX_STATS = '../data preparation/all_patients_firstDiag_03292021_otherStats.bpkl3'\n",
    "TIME_DIFF_DATA = '../data preparation/two_dis_time_diff_seqs_07152022.bpkl3'\n",
    "OUTCOME_DIS = 'OCD'\n",
    "# INTERVENTION = 'Abnormal_Spine_Curvature'\n",
    "TIME_DIFF_UNIT = 100\n",
    "TIME_DIFF_MIM_THRESHOLD = 100\n",
    "NUM_CHAINS = 4\n",
    "\n",
    "with open(INPUT_DATA_AUX_STATS, 'rb') as f:\n",
    "    all_aux_stats = pickle.load(f)\n",
    "    DIS_IDX_DICT = all_aux_stats['dis_to_idx']\n",
    "    DIS_SYS_DICT = all_aux_stats['dis_to_sys']\n",
    "    \n",
    "with open(TIME_DIFF_DATA, 'rb') as f:\n",
    "    ALL_DIS_PAIR_TIME_DIFF = pickle.load(f)\n",
    "\n",
    "SKIP = True\n",
    "for k, v in DIS_IDX_DICT.items():\n",
    "    \n",
    "    INTERVENTION = k\n",
    "    TIME_DIFF = ALL_DIS_PAIR_TIME_DIFF[(OUTCOME_DIS, \n",
    "                                        INTERVENTION, \n",
    "                                        DIS_IDX_DICT[OUTCOME_DIS],\n",
    "                                        DIS_IDX_DICT[INTERVENTION])]\n",
    "    \n",
    "    print('\\033[94m'+OUTCOME_DIS+' x '+INTERVENTION+'\\033[0m')\n",
    "    \n",
    "    if (len(TIME_DIFF)) < TIME_DIFF_MIM_THRESHOLD or (INTERVENTION == OUTCOME_DIS):\n",
    "        continue\n",
    "    \n",
    "#     if INTERVENTION == 'Rectal_Anal_Disorder': # Start from a particular disease\n",
    "#         SKIP = False\n",
    "    \n",
    "#     if SKIP:\n",
    "#         continue\n",
    "        \n",
    "    # Prepare data ------------------------------------------------------------\n",
    "    out_data_time_diff_rounded = np.array(TIME_DIFF) // TIME_DIFF_UNIT\n",
    "    time_diff_counter = Counter(out_data_time_diff_rounded)\n",
    "    time_diff_xaxis = list(time_diff_counter.keys())\n",
    "    time_diff_yaxis = [time_diff_counter[t] for t in time_diff_xaxis]\n",
    "        \n",
    "    # Safely create output folder ---------------------------------------------\n",
    "    plot_out_path = f'RDD_experiment_{OUTCOME_DIS}_07152022/{INTERVENTION}/plots'\n",
    "    data_out_path = f'RDD_experiment_{OUTCOME_DIS}_07152022/{INTERVENTION}'\n",
    "    Path(plot_out_path).mkdir(parents=True, exist_ok=True)\n",
    "    \n",
    "    # Plot raw data points ----------------------------------------------------\n",
    "    fig, ax = plt.subplots(1, 1)\n",
    "    ax.plot(time_diff_xaxis, time_diff_yaxis, '.')\n",
    "    ax.axvline(color='gray')\n",
    "    ax.text(0.0, 1.1, 'Outcome: '+OUTCOME_DIS, transform=ax.transAxes)\n",
    "    ax.text(0.0, 1.05, 'Intervention: '+INTERVENTION, transform=ax.transAxes)\n",
    "    ax.set_ylabel('Number of diagnosis')\n",
    "    ax.set_xlabel('Time difference between the outcome and the intervention\\n'\n",
    "                  f'(unit = {TIME_DIFF_UNIT} days)')\n",
    "    plt.savefig(plot_out_path+'/raw_data_points.pdf', format='pdf', bbox_inches='tight')\n",
    "    plt.close()\n",
    "    \n",
    "    # Prepare MCMC data -------------------------------------------------------\n",
    "    \n",
    "    data_ord = np.argsort(time_diff_xaxis)\n",
    "    data_X = np.array(time_diff_xaxis, dtype=np.float64)[data_ord, None]\n",
    "    data_X_poly = np.hstack((np.ones_like(data_X), data_X, data_X**2.0, data_X**3.0))\n",
    "    data_X_poly_abs = np.abs(data_X_poly)\n",
    "    data_y = np.array(time_diff_yaxis, dtype=np.float64)[data_ord]\n",
    "    data_x_before = 1.0*(data_X.flatten() < 0.0)\n",
    "    \n",
    "    # Alternative model, with a shift at point zero ---------------------------\n",
    "    alter_model = pm.Model()\n",
    "    \n",
    "    with alter_model:\n",
    "\n",
    "        # The RDD shift at point zero\n",
    "        ss = pm.HalfCauchy('ss', beta=5.0)\n",
    "        shift = pm.Laplace('shift', mu=0.0, b=ss)\n",
    "\n",
    "        # Polynomial fit\n",
    "        b_shrinkage = pm.HalfCauchy('b_shrinkage', beta=1.0, shape=2)\n",
    "        fixed_b = pm.Normal('fixed_b', mu=0, sigma=20.0*b_shrinkage, shape=2)\n",
    "\n",
    "        # Gaussian process fit\n",
    "        ls = pm.HalfCauchy('ls', beta=5.0)\n",
    "        var = pm.HalfCauchy('var', beta=5.0)\n",
    "        cov_func = var * pm.gp.cov.ExpQuad(1, ls=ls)\n",
    "        gp = pm.gp.Latent(cov_func=cov_func)\n",
    "        f_gp = gp.prior('f_gp', X=data_X)\n",
    "\n",
    "        poly_abs = pm.Deterministic('poly_abs', tt.dot(data_X_poly_abs[:, :2], fixed_b))\n",
    "\n",
    "        l = pm.Deterministic('l', f_gp + poly_abs + data_x_before * shift)\n",
    "        nu_y = pm.Gamma('nu_y', alpha=2.0, beta=1.0)\n",
    "        sigma_y = pm.Gamma('sigma_y', alpha=2.0, beta=1.0)\n",
    "        y = pm.StudentT('y', \n",
    "                        nu=nu_y,\n",
    "                        mu=l,\n",
    "                        sigma=sigma_y,\n",
    "                        observed=data_y)\n",
    "\n",
    "    for RV in alter_model.basic_RVs:\n",
    "        print(RV.name, RV.logp(alter_model.test_point))\n",
    "\n",
    "    with alter_model:\n",
    "        start, step = pm.init_nuts(init='advi+adapt_diag', \n",
    "                                   chains=NUM_CHAINS,\n",
    "                                   n_init=200000,\n",
    "                                   target_accept=0.9)\n",
    "        alter_trace = pm.sample(draws=500,\n",
    "                                chains=NUM_CHAINS,\n",
    "                                tune=1500,\n",
    "                                start=start,\n",
    "                                step=step,\n",
    "                                discard_tuned_samples=True)\n",
    "    \n",
    "    # Trace plot --------------------------------------------------------\n",
    "    az.style.use('arviz-whitegrid')\n",
    "    az.plot_trace(alter_trace, var_names=['ss', 'shift', \n",
    "                                          'b_shrinkage', 'fixed_b', \n",
    "                                          'ls', 'var',\n",
    "                                          'nu_y', 'sigma_y'])\n",
    "    plt.savefig(plot_out_path+'/alter_model_trace_plot.pdf', format='pdf', bbox_inches='tight')\n",
    "    plt.close()\n",
    "    \n",
    "    alter_summ = az.summary(alter_trace, \n",
    "                            var_names=['ss', 'shift', \n",
    "                                       'b_shrinkage', 'fixed_b', \n",
    "                                       'ls', 'var',\n",
    "                                       'nu_y', 'sigma_y'])\n",
    "    alter_summ.to_csv(data_out_path+'/alter_trace_summary.csv')\n",
    "    \n",
    "    # Trace data --------------------------------------------------------------\n",
    "    l_alter_trace = alter_trace['l']\n",
    "    f_gp_alter_trace = alter_trace['f_gp']\n",
    "    poly_abs_alter_trace = alter_trace['poly_abs']\n",
    "    shift_alter_trace = alter_trace['shift']\n",
    "    fixed_b_alter_trace = alter_trace['fixed_b']\n",
    "    \n",
    "    # Energy plot -------------------------------------------------------------\n",
    "    az.plot_energy(alter_trace)\n",
    "    plt.savefig(plot_out_path+'/alter_model_energy_plot.pdf', format='pdf', bbox_inches='tight')\n",
    "    plt.close()\n",
    "    \n",
    "    # Plot fitting results ----------------------------------------------------\n",
    "    \n",
    "    trend_x_range = np.arange(data_X_poly[0, 1], data_X_poly[-1, 1], 0.1)[:, None]\n",
    "    trend_x_range_and_bias = np.hstack((np.ones_like(trend_x_range),\n",
    "                                        trend_x_range))\n",
    "    trend_y = fixed_b_alter_trace @ np.abs(np.transpose(trend_x_range_and_bias))\n",
    "    # trend_y = np.exp(trend_y)\n",
    "    trend_y += np.outer(shift_alter_trace, (trend_x_range < 0).flatten())\n",
    "    \n",
    "    waic = az.waic(alter_trace, pointwise=True, scale='deviance')\n",
    "    loo = az.loo(alter_trace, pointwise=True, scale='deviance')\n",
    "    shift_hdi = np.float_(az.hdi(shift_alter_trace, hdi_prob=0.95))\n",
    "    slo, sup = round(shift_hdi[0], 4), round(shift_hdi[1], 4)\n",
    "\n",
    "    plt.style.use('default')\n",
    "    plt.rcParams['font.family'] = 'Nimbus Sans'\n",
    "    fig, ax = plt.subplots(1, 1)\n",
    "    ax.plot(data_X.flatten(), data_y, '.')\n",
    "    ax.plot(data_X.flatten(), l_alter_trace.mean(axis=0), label='Posterior fit (95% HDI)')\n",
    "    az.plot_hdi(data_X.flatten(), l_alter_trace, hdi_prob=0.95, \n",
    "                ax=ax, smooth=False, fill_kwargs={'linewidth': 0.0})\n",
    "    ax.plot(data_X.flatten(), f_gp_alter_trace.mean(axis=0), label='GP tweak estimate')\n",
    "    ax.plot(trend_x_range.flatten(), trend_y.mean(axis=0), label='Trend + shift estimate')\n",
    "    ax.text(1.05, 0.75, \n",
    "            f'WAIC = {np.around(waic.waic, 4)}', \n",
    "            fontsize='medium',\n",
    "            transform=ax.transAxes)\n",
    "    ax.text(1.05, 0.7, \n",
    "            f'LOO = {np.around(loo.loo, 4)}', \n",
    "            fontsize='medium',\n",
    "            transform=ax.transAxes)\n",
    "    ax.text(1.05, 0.65,\n",
    "            f'Shift 95% HDI = ({slo}, {sup})',\n",
    "            fontsize='medium',\n",
    "            transform=ax.transAxes)\n",
    "    ax.legend(loc='upper right', bbox_to_anchor=(1.5, 1.0))\n",
    "\n",
    "    ax.axvline(color='gray')\n",
    "    ax.text(0.0, 1.1, 'Outcome: '+OUTCOME_DIS, transform=ax.transAxes)\n",
    "    ax.text(0.0, 1.05, 'Intervention: '+INTERVENTION, transform=ax.transAxes)\n",
    "    ax.set_ylabel('Number of diagnosis')\n",
    "    ax.set_xlabel('Time difference between the outcome and the intervention\\n'\n",
    "                  f'(unit = {TIME_DIFF_UNIT} days)')\n",
    "    \n",
    "    plt.savefig(plot_out_path+'/alter_model_posterior_est_plot.pdf', format='pdf', bbox_inches='tight')\n",
    "    plt.close()\n",
    "    \n",
    "    # Null model, without a shift at point zero ---------------------------\n",
    "    null_model = pm.Model()\n",
    "    \n",
    "    with null_model:\n",
    "\n",
    "        # The RDD shift at point zero\n",
    "        # Pass\n",
    "\n",
    "        # Polynomial fit\n",
    "        b_shrinkage = pm.HalfCauchy('b_shrinkage', beta=1.0, shape=2)\n",
    "        fixed_b = pm.Normal('fixed_b', mu=0, sigma=20.0*b_shrinkage, shape=2)\n",
    "\n",
    "        # Gaussian process fit\n",
    "        ls = pm.HalfCauchy('ls', beta=5.0)\n",
    "        var = pm.HalfCauchy('var', beta=5.0)\n",
    "        cov_func = var * pm.gp.cov.ExpQuad(1, ls=ls)\n",
    "        gp = pm.gp.Latent(cov_func=cov_func)\n",
    "        f_gp = gp.prior('f_gp', X=data_X)\n",
    "\n",
    "        poly_abs = pm.Deterministic('poly_abs', tt.dot(data_X_poly_abs[:, :2], fixed_b))\n",
    "\n",
    "        l = pm.Deterministic('l', f_gp + poly_abs ) #+ data_x_before * shift)\n",
    "        nu_y = pm.Gamma('nu_y', alpha=2.0, beta=1.0)\n",
    "        sigma_y = pm.Gamma('sigma_y', alpha=2.0, beta=1.0)\n",
    "        y = pm.StudentT('y', \n",
    "                        nu=nu_y,\n",
    "                        mu=l,\n",
    "                        sigma=sigma_y,\n",
    "                        observed=data_y)\n",
    "\n",
    "    for RV in null_model.basic_RVs:\n",
    "        print(RV.name, RV.logp(null_model.test_point))\n",
    "\n",
    "    with null_model:\n",
    "        start, step = pm.init_nuts(init='advi+adapt_diag', \n",
    "                                   chains=NUM_CHAINS,\n",
    "                                   n_init=200000,\n",
    "                                   target_accept=0.9)\n",
    "        null_trace = pm.sample(draws=500,\n",
    "                               chains=NUM_CHAINS,\n",
    "                               tune=1500,\n",
    "                               start=start,\n",
    "                               step=step,\n",
    "                               discard_tuned_samples=True)\n",
    "        \n",
    "    # Trace plot --------------------------------------------------------\n",
    "    az.style.use('arviz-whitegrid')\n",
    "    az.plot_trace(null_trace, var_names=['b_shrinkage', 'fixed_b', \n",
    "                                          'ls', 'var',\n",
    "                                          'nu_y', 'sigma_y'])\n",
    "    plt.savefig(plot_out_path+'/null_model_trace_plot.pdf', format='pdf', bbox_inches='tight')\n",
    "    plt.close()\n",
    "    \n",
    "    null_summ = az.summary(null_trace, \n",
    "                           var_names=['b_shrinkage', 'fixed_b', \n",
    "                                      'ls', 'var',\n",
    "                                      'nu_y', 'sigma_y'])\n",
    "    null_summ.to_csv(data_out_path+'/null_trace_summary.csv')\n",
    "    \n",
    "    # Trace data --------------------------------------------------------------\n",
    "    l_null_trace = null_trace['l']\n",
    "    f_gp_null_trace = null_trace['f_gp']\n",
    "    poly_abs_null_trace = null_trace['poly_abs']\n",
    "    fixed_b_null_trace = null_trace['fixed_b']\n",
    "    \n",
    "    # Energy plot -------------------------------------------------------------\n",
    "    az.plot_energy(null_trace)\n",
    "    plt.savefig(plot_out_path+'/null_model_energy_plot.pdf', format='pdf', bbox_inches='tight')\n",
    "    plt.close()\n",
    "    \n",
    "    # Plot fitting results ----------------------------------------------------\n",
    "    \n",
    "    null_trend_y = fixed_b_null_trace @ np.abs(np.transpose(trend_x_range_and_bias))\n",
    "    # null_trend_y = np.exp(null_trend_y)\n",
    "    \n",
    "    null_waic = az.waic(null_trace, pointwise=True, scale='deviance')\n",
    "    null_loo = az.loo(null_trace, pointwise=True, scale='deviance')\n",
    "\n",
    "    plt.style.use('default')\n",
    "    plt.rcParams['font.family'] = 'Nimbus Sans'\n",
    "    fig, ax = plt.subplots(1, 1)\n",
    "    ax.plot(data_X.flatten(), data_y, '.')\n",
    "    ax.plot(data_X.flatten(), l_null_trace.mean(axis=0), label='Posterior fit (95% HDI)')\n",
    "    az.plot_hdi(data_X.flatten(), l_null_trace, hdi_prob=0.95, \n",
    "                ax=ax, smooth=False, fill_kwargs={'linewidth': 0.0})\n",
    "    ax.plot(data_X.flatten(), f_gp_null_trace.mean(axis=0), label='GP tweak estimate')\n",
    "    ax.plot(trend_x_range.flatten(), null_trend_y.mean(axis=0), label='Trend + shift estimate')\n",
    "    ax.text(1.05, 0.75, \n",
    "            f'WAIC = {np.around(null_waic.waic, 4)}', \n",
    "            fontsize='medium',\n",
    "            transform=ax.transAxes)\n",
    "    ax.text(1.05, 0.7, \n",
    "            f'LOO = {np.around(null_loo.loo, 4)}', \n",
    "            fontsize='medium',\n",
    "            transform=ax.transAxes)\n",
    "    ax.legend(loc='upper right', bbox_to_anchor=(1.5, 1.0))\n",
    "\n",
    "    ax.axvline(color='gray')\n",
    "    ax.text(0.0, 1.1, 'Outcome: '+OUTCOME_DIS, transform=ax.transAxes)\n",
    "    ax.text(0.0, 1.05, 'Intervention: '+INTERVENTION, transform=ax.transAxes)\n",
    "    ax.set_ylabel('Number of diagnosis')\n",
    "    ax.set_xlabel('Time difference between the outcome and the intervention\\n'\n",
    "                  f'(unit = {TIME_DIFF_UNIT} days)')\n",
    "    \n",
    "    plt.savefig(plot_out_path+'/null_model_posterior_est_plot.pdf', format='pdf', bbox_inches='tight')\n",
    "    plt.close()\n",
    "    \n",
    "    # ELPD plot ---------------------------------------------------------------\n",
    "    plt.style.use('default')\n",
    "    plt.rcParams['font.family'] = 'Nimbus Sans'\n",
    "    fig, ax = plt.subplots(1, 1)\n",
    "    ax.plot(data_X.flatten(), \n",
    "            0.5*(null_waic.waic_i-waic.waic_i), '.')\n",
    "    ax.axvline(color='gray')\n",
    "    ax.text(0.0, 1.1, 'Outcome: '+OUTCOME_DIS, transform=ax.transAxes)\n",
    "    ax.text(0.0, 1.05, 'Intervention: '+INTERVENTION, transform=ax.transAxes)\n",
    "    ax.set_ylabel('ELPD difference (Alternative, shifted - Null, non-shifted)')\n",
    "    ax.set_xlabel('Time difference between the outcome and the intervention\\n'\n",
    "                  f'(unit = {TIME_DIFF_UNIT} days)')\n",
    "    plt.savefig(plot_out_path+'/model_compare_elpd.pdf', format='pdf', bbox_inches='tight')\n",
    "    plt.close()\n",
    "    \n",
    "    # Save data \n",
    "    with open(data_out_path+'/analysis_results_and_plot_data.bpkl3', 'wb') as f:\n",
    "        pickle.dump({'raw_data': (TIME_DIFF, TIME_DIFF_UNIT, out_data_time_diff_rounded),\n",
    "                     'alter.trace': alter_trace,\n",
    "                     'alter.model': alter_model,\n",
    "                     'alter.waic': waic,\n",
    "                     'alter.loo': loo,\n",
    "                     'null.trace': null_trace,\n",
    "                     'null.model': null_model,\n",
    "                     'null.waic': null_waic,\n",
    "                     'null.loo': null_loo,\n",
    "                     'plot.trend_data': (trend_x_range, trend_y, null_trend_y)}, f)\n",
    "    \n",
    "    # break"
   ]
  }
 ],
 "metadata": {
  "kernelspec": {
   "display_name": "Python 3",
   "language": "python",
   "name": "python3"
  },
  "language_info": {
   "codemirror_mode": {
    "name": "ipython",
    "version": 3
   },
   "file_extension": ".py",
   "mimetype": "text/x-python",
   "name": "python",
   "nbconvert_exporter": "python",
   "pygments_lexer": "ipython3",
   "version": "3.8.5"
  }
 },
 "nbformat": 4,
 "nbformat_minor": 4
}
